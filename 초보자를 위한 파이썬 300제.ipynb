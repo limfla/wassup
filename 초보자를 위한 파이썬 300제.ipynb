{
 "cells": [
  {
   "cell_type": "markdown",
   "id": "5dc2e023",
   "metadata": {},
   "source": [
    "## 파이썬 시작하기"
   ]
  },
  {
   "cell_type": "code",
   "execution_count": 5,
   "id": "d91e0689",
   "metadata": {
    "ExecuteTime": {
     "end_time": "2023-11-24T07:58:39.174277Z",
     "start_time": "2023-11-24T07:58:39.170119Z"
    },
    "scrolled": true
   },
   "outputs": [
    {
     "name": "stdout",
     "output_type": "stream",
     "text": [
      "Hello world\n"
     ]
    }
   ],
   "source": [
    "# 화면에 Hello World 문자열을 출력하세요.\n",
    "\n",
    "print('Hello world')"
   ]
  },
  {
   "cell_type": "code",
   "execution_count": 6,
   "id": "b0289226",
   "metadata": {
    "ExecuteTime": {
     "end_time": "2023-11-24T07:59:15.050414Z",
     "start_time": "2023-11-24T07:59:15.046851Z"
    }
   },
   "outputs": [
    {
     "name": "stdout",
     "output_type": "stream",
     "text": [
      "Mary's cosmetics\n"
     ]
    }
   ],
   "source": [
    "# 화면에 Mary's cosmetics을 출력하세요.\n",
    "\n",
    "print(\"Mary's cosmetics\")"
   ]
  },
  {
   "cell_type": "code",
   "execution_count": 7,
   "id": "0389be32",
   "metadata": {
    "ExecuteTime": {
     "end_time": "2023-11-24T07:59:47.435283Z",
     "start_time": "2023-11-24T07:59:47.430804Z"
    }
   },
   "outputs": [
    {
     "name": "stdout",
     "output_type": "stream",
     "text": [
      "신씨가 소리질렀다. \"도둑이야\".\n"
     ]
    }
   ],
   "source": [
    "# 신씨가 소리질렀다. \"도둑이야\".\n",
    "\n",
    "print('신씨가 소리질렀다. \"도둑이야\".')"
   ]
  },
  {
   "cell_type": "code",
   "execution_count": 11,
   "id": "9242969e",
   "metadata": {
    "ExecuteTime": {
     "end_time": "2023-11-24T08:01:01.094698Z",
     "start_time": "2023-11-24T08:01:01.090685Z"
    }
   },
   "outputs": [
    {
     "name": "stdout",
     "output_type": "stream",
     "text": [
      "C:\\Windows\n"
     ]
    }
   ],
   "source": [
    "# 화면에 C:\\Windows를 출력하세요.\n",
    "# 파이썬은 /(슬래시)로도 경로 구분 가능\n",
    "\n",
    "print('C:\\Windows')"
   ]
  },
  {
   "cell_type": "code",
   "execution_count": 13,
   "id": "27c9eb0c",
   "metadata": {
    "ExecuteTime": {
     "end_time": "2023-11-24T08:02:06.265709Z",
     "start_time": "2023-11-24T08:02:06.261499Z"
    }
   },
   "outputs": [
    {
     "name": "stdout",
     "output_type": "stream",
     "text": [
      "안녕하세요.\n",
      "만나서\t\t반갑습니다.\n"
     ]
    }
   ],
   "source": [
    "print(\"안녕하세요.\\n만나서\\t\\t반갑습니다.\")\n",
    "\n",
    "# \\n 줄바꿈\n",
    "# \\t\\t 탭!!!"
   ]
  },
  {
   "cell_type": "code",
   "execution_count": 15,
   "id": "6f6a9e62",
   "metadata": {
    "ExecuteTime": {
     "end_time": "2023-11-24T08:02:48.416072Z",
     "start_time": "2023-11-24T08:02:48.411758Z"
    }
   },
   "outputs": [
    {
     "name": "stdout",
     "output_type": "stream",
     "text": [
      "오늘은 일요일\n"
     ]
    }
   ],
   "source": [
    "print(\"오늘은\", \"일요일\")\n",
    "\n",
    "# 오늘은 일요일"
   ]
  },
  {
   "cell_type": "code",
   "execution_count": 20,
   "id": "b772ce30",
   "metadata": {
    "ExecuteTime": {
     "end_time": "2023-11-24T08:04:17.471091Z",
     "start_time": "2023-11-24T08:04:17.467715Z"
    },
    "scrolled": true
   },
   "outputs": [
    {
     "name": "stdout",
     "output_type": "stream",
     "text": [
      "naver;kakao;sk;samsung\n"
     ]
    }
   ],
   "source": [
    "print('naver', 'kakao', 'sk', 'samsung', sep=\";\")\n",
    "\n",
    "# sep=\"인자\" - 공백 대신 인자 출력"
   ]
  },
  {
   "cell_type": "code",
   "execution_count": 61,
   "id": "f9842b01",
   "metadata": {
    "ExecuteTime": {
     "end_time": "2023-11-24T08:47:53.559219Z",
     "start_time": "2023-11-24T08:47:53.551749Z"
    }
   },
   "outputs": [
    {
     "data": {
      "text/plain": [
       "'naver;kakao;sk;samsung'"
      ]
     },
     "execution_count": 61,
     "metadata": {},
     "output_type": "execute_result"
    }
   ],
   "source": [
    "# join 사용 가능 - 변수 선언 / 선언 안하는 경우엔 리스트로\n",
    "\n",
    "\";\".join(['naver','kakao','sk','samsung'])"
   ]
  },
  {
   "cell_type": "code",
   "execution_count": 21,
   "id": "62542f9d",
   "metadata": {
    "ExecuteTime": {
     "end_time": "2023-11-24T08:05:35.883408Z",
     "start_time": "2023-11-24T08:05:35.880211Z"
    }
   },
   "outputs": [
    {
     "name": "stdout",
     "output_type": "stream",
     "text": [
      "naver/kakao/sk/samsung\n"
     ]
    }
   ],
   "source": [
    "print('naver', 'kakao', 'sk', 'samsung', sep=\"/\")"
   ]
  },
  {
   "cell_type": "code",
   "execution_count": 25,
   "id": "8601c140",
   "metadata": {
    "ExecuteTime": {
     "end_time": "2023-11-24T08:07:15.134835Z",
     "start_time": "2023-11-24T08:07:15.130313Z"
    }
   },
   "outputs": [
    {
     "name": "stdout",
     "output_type": "stream",
     "text": [
      "firstsecond\n"
     ]
    }
   ],
   "source": [
    "print(\"first\", end=\"\"); print(\"second\")\n",
    "\n",
    "# end=\"\" - 여러 개의 명령어들을 줄바꿈 없이 출력"
   ]
  },
  {
   "cell_type": "code",
   "execution_count": 27,
   "id": "03f36f24",
   "metadata": {
    "ExecuteTime": {
     "end_time": "2023-11-24T08:07:40.524590Z",
     "start_time": "2023-11-24T08:07:40.520227Z"
    }
   },
   "outputs": [
    {
     "name": "stdout",
     "output_type": "stream",
     "text": [
      "1.6666666666666667\n"
     ]
    }
   ],
   "source": [
    "print(5/3)"
   ]
  },
  {
   "cell_type": "markdown",
   "id": "4aa61ace",
   "metadata": {},
   "source": [
    "## 파이썬 변수"
   ]
  },
  {
   "cell_type": "code",
   "execution_count": 33,
   "id": "d974fa7d",
   "metadata": {
    "ExecuteTime": {
     "end_time": "2023-11-24T08:09:46.981940Z",
     "start_time": "2023-11-24T08:09:46.977113Z"
    }
   },
   "outputs": [
    {
     "name": "stdout",
     "output_type": "stream",
     "text": [
      "500000\n"
     ]
    }
   ],
   "source": [
    "# 삼성전자라는 변수로 50,000원을 바인딩해보세요. \n",
    "# 삼성전자 주식 10주를 보유하고 있을 때 총 평가금액을 출력하세요.\n",
    "\n",
    "삼성전자 = 50000 #쉼표 넣으면 안됨\n",
    "총평가금액 = 삼성전자 * 10\n",
    "print(총평가금액)"
   ]
  },
  {
   "cell_type": "code",
   "execution_count": 35,
   "id": "c74cab7e",
   "metadata": {
    "ExecuteTime": {
     "end_time": "2023-11-24T08:13:50.957056Z",
     "start_time": "2023-11-24T08:13:50.951796Z"
    }
   },
   "outputs": [],
   "source": [
    "# 변수를 사용해서 시가총액, 현재가, PER 등을 바인딩해보세요.\n",
    "\n",
    "시가총액 = 298000000000000\n",
    "현재가 = 50000\n",
    "PER = 15.79"
   ]
  },
  {
   "cell_type": "code",
   "execution_count": 42,
   "id": "d40a4a2b",
   "metadata": {
    "ExecuteTime": {
     "end_time": "2023-11-24T08:16:25.786727Z",
     "start_time": "2023-11-24T08:16:25.782373Z"
    }
   },
   "outputs": [
    {
     "name": "stdout",
     "output_type": "stream",
     "text": [
      "hello! python\n"
     ]
    }
   ],
   "source": [
    "s = \"hello\"\n",
    "t = \"python\"\n",
    "print(s+\"!\", t) \n",
    "\n",
    "# 문자열 연산!!"
   ]
  },
  {
   "cell_type": "code",
   "execution_count": 43,
   "id": "43b91746",
   "metadata": {
    "ExecuteTime": {
     "end_time": "2023-11-24T08:17:59.890095Z",
     "start_time": "2023-11-24T08:17:59.886335Z"
    }
   },
   "outputs": [
    {
     "name": "stdout",
     "output_type": "stream",
     "text": [
      "hello! python\n"
     ]
    }
   ],
   "source": [
    "s = \"hello\"\n",
    "t = \"python\"\n",
    "print(s, end=\"\"); print(\"!\", t)"
   ]
  },
  {
   "cell_type": "code",
   "execution_count": 47,
   "id": "62680c90",
   "metadata": {
    "ExecuteTime": {
     "end_time": "2023-11-24T08:19:34.558410Z",
     "start_time": "2023-11-24T08:19:34.552364Z"
    }
   },
   "outputs": [
    {
     "data": {
      "text/plain": [
       "str"
      ]
     },
     "execution_count": 47,
     "metadata": {},
     "output_type": "execute_result"
    }
   ],
   "source": [
    "a = \"132\"\n",
    "type(a)"
   ]
  },
  {
   "cell_type": "code",
   "execution_count": 50,
   "id": "6c712316",
   "metadata": {
    "ExecuteTime": {
     "end_time": "2023-11-24T08:24:18.967222Z",
     "start_time": "2023-11-24T08:24:18.962839Z"
    }
   },
   "outputs": [
    {
     "name": "stdout",
     "output_type": "stream",
     "text": [
      "720 <class 'int'>\n"
     ]
    }
   ],
   "source": [
    "# 문자열 '720'를 정수형으로 변환해보세요.\n",
    "\n",
    "num_str = \"720\"\n",
    "num_int = int(num_str)\n",
    "print(num_int, type(num_int))\n",
    "\n",
    "# 형변환 - 변환타입(값)"
   ]
  },
  {
   "cell_type": "code",
   "execution_count": 51,
   "id": "462081ac",
   "metadata": {
    "ExecuteTime": {
     "end_time": "2023-11-24T08:27:07.529919Z",
     "start_time": "2023-11-24T08:27:07.525790Z"
    }
   },
   "outputs": [
    {
     "name": "stdout",
     "output_type": "stream",
     "text": [
      "100 <class 'str'>\n"
     ]
    }
   ],
   "source": [
    "# 정수 100을 문자열 '100'으로 변환해보세요.\n",
    "\n",
    "num = 100\n",
    "num_str = str(num)\n",
    "print(num_str, type(num_str))"
   ]
  },
  {
   "cell_type": "code",
   "execution_count": 54,
   "id": "50b877a3",
   "metadata": {
    "ExecuteTime": {
     "end_time": "2023-11-24T08:30:05.318024Z",
     "start_time": "2023-11-24T08:30:05.313794Z"
    }
   },
   "outputs": [
    {
     "name": "stdout",
     "output_type": "stream",
     "text": [
      "15.79 <class 'float'>\n"
     ]
    }
   ],
   "source": [
    "# 문자열 \"15.79\"를 실수(float) 타입으로 변환해보세요.\n",
    "\n",
    "str = \"15.79\"\n",
    "str = float(str)\n",
    "print(str, type(str))"
   ]
  },
  {
   "cell_type": "code",
   "execution_count": 58,
   "id": "33dc79ff",
   "metadata": {
    "ExecuteTime": {
     "end_time": "2023-11-24T08:32:10.363900Z",
     "start_time": "2023-11-24T08:32:10.346232Z"
    }
   },
   "outputs": [
    {
     "name": "stdout",
     "output_type": "stream",
     "text": [
      "2017\n",
      "2018\n",
      "2019\n"
     ]
    }
   ],
   "source": [
    "# year라는 변수가 문자열 타입의 연도를 바인딩하고 있습니다.\n",
    "# 이를 정수로 변환한 후 최근 3년의 연도를 화면에 출력해보세요.\n",
    "\n",
    "year = \"2020\"\n",
    "year = int(year)\n",
    "print(int(year)-3)\n",
    "print(int(year)-2)\n",
    "print(int(year)-1)"
   ]
  },
  {
   "cell_type": "code",
   "execution_count": 67,
   "id": "568a9147",
   "metadata": {
    "ExecuteTime": {
     "end_time": "2023-11-24T08:54:37.427181Z",
     "start_time": "2023-11-24T08:54:37.421115Z"
    }
   },
   "outputs": [
    {
     "name": "stdout",
     "output_type": "stream",
     "text": [
      "1749024\n"
     ]
    }
   ],
   "source": [
    "# 에이컨이 월 48,584원에 무이자 36개월의 조건으로 홈쇼핑에서 판매되고 있습니다.\n",
    "# 총 금액은 계산한 후 이를 화면에 출력해보세요.\n",
    "\n",
    "월요금 = 48584\n",
    "총금액 = 월요금 * 36\n",
    "print(총금액)"
   ]
  },
  {
   "cell_type": "markdown",
   "id": "f578b270",
   "metadata": {},
   "source": [
    "## 파이썬 문자열"
   ]
  },
  {
   "cell_type": "code",
   "execution_count": 6,
   "id": "f45eaca1",
   "metadata": {
    "ExecuteTime": {
     "end_time": "2023-11-26T08:25:47.820786Z",
     "start_time": "2023-11-26T08:25:47.817333Z"
    }
   },
   "outputs": [
    {
     "name": "stdout",
     "output_type": "stream",
     "text": [
      "p t\n"
     ]
    }
   ],
   "source": [
    "# letters가 바인딩하는 문자열에서 첫번째와 세번째 문자를 출력하세요.\n",
    "\n",
    "letters = 'python'\n",
    "print(letters[0],letters[2])"
   ]
  },
  {
   "cell_type": "code",
   "execution_count": 8,
   "id": "49508a40",
   "metadata": {
    "ExecuteTime": {
     "end_time": "2023-11-26T08:26:43.426051Z",
     "start_time": "2023-11-26T08:26:43.422052Z"
    }
   },
   "outputs": [
    {
     "name": "stdout",
     "output_type": "stream",
     "text": [
      "2210\n"
     ]
    }
   ],
   "source": [
    "# 자동차 번호가 다음과 같을 때 뒤에 4자리만 출력하세요.\n",
    "license_plate = \"24가 2210\"\n",
    "print(license_plate[4:])"
   ]
  },
  {
   "cell_type": "code",
   "execution_count": 11,
   "id": "bb1796c8",
   "metadata": {
    "ExecuteTime": {
     "end_time": "2023-11-26T08:34:53.393698Z",
     "start_time": "2023-11-26T08:34:53.389132Z"
    }
   },
   "outputs": [
    {
     "name": "stdout",
     "output_type": "stream",
     "text": [
      "홀홀홀\n"
     ]
    }
   ],
   "source": [
    "# '홀' 만 출력하세요.\n",
    "\n",
    "string = \"홀짝홀짝홀짝\"\n",
    "print(string[0:6:2])"
   ]
  },
  {
   "cell_type": "code",
   "execution_count": 16,
   "id": "7d419eb6",
   "metadata": {
    "ExecuteTime": {
     "end_time": "2023-11-26T08:40:07.645849Z",
     "start_time": "2023-11-26T08:40:07.640291Z"
    }
   },
   "outputs": [
    {
     "name": "stdout",
     "output_type": "stream",
     "text": [
      "NOHTYP\n"
     ]
    }
   ],
   "source": [
    "# 거꾸로 뒤집어 출력하세요.\n",
    "\n",
    "string = \"PYTHON\"\n",
    "print(string[::-1])"
   ]
  },
  {
   "cell_type": "code",
   "execution_count": 21,
   "id": "bdbbdbc7",
   "metadata": {
    "ExecuteTime": {
     "end_time": "2023-11-26T08:41:50.710470Z",
     "start_time": "2023-11-26T08:41:50.706109Z"
    }
   },
   "outputs": [
    {
     "name": "stdout",
     "output_type": "stream",
     "text": [
      "010 111 222\n"
     ]
    }
   ],
   "source": [
    "# 전화번호에서 하이푼 ('-')을 제거하고 출력\n",
    "\n",
    "phone_number = \"010-1111-2222\"\n",
    "print(phone_number[0:3],phone_number[5:8],phone_number[10:13])"
   ]
  },
  {
   "cell_type": "code",
   "execution_count": 22,
   "id": "96485831",
   "metadata": {
    "ExecuteTime": {
     "end_time": "2023-11-26T08:42:53.697727Z",
     "start_time": "2023-11-26T08:42:53.692758Z"
    }
   },
   "outputs": [
    {
     "name": "stdout",
     "output_type": "stream",
     "text": [
      "010 1111 2222\n"
     ]
    }
   ],
   "source": [
    "# 치환 매서드 Repalce(\"바꾸고 싶은 값\", \"바꿀 값\")\n",
    "\n",
    "phone_number = \"010-1111-2222\"\n",
    "phone_number1 = phone_number.replace(\"-\", \" \")\n",
    "print(phone_number1)"
   ]
  },
  {
   "cell_type": "code",
   "execution_count": 23,
   "id": "70ba1907",
   "metadata": {
    "ExecuteTime": {
     "end_time": "2023-11-26T08:44:10.546562Z",
     "start_time": "2023-11-26T08:44:10.542363Z"
    }
   },
   "outputs": [
    {
     "name": "stdout",
     "output_type": "stream",
     "text": [
      "01011112222\n"
     ]
    }
   ],
   "source": [
    "phone_number = \"010-1111-2222\"\n",
    "phone_number1 = phone_number.replace(\"-\", \"\")\n",
    "print(phone_number1)"
   ]
  },
  {
   "cell_type": "code",
   "execution_count": 36,
   "id": "77faabca",
   "metadata": {
    "ExecuteTime": {
     "end_time": "2023-11-26T08:48:49.427598Z",
     "start_time": "2023-11-26T08:48:49.422891Z"
    }
   },
   "outputs": [
    {
     "name": "stdout",
     "output_type": "stream",
     "text": [
      "kr\n"
     ]
    }
   ],
   "source": [
    "# url 에 저장된 웹 페이지 주소에서 도메인을 출력하세요.\n",
    "\n",
    "url = \"http://sharebook.kr\"\n",
    "print(url[-2:])"
   ]
  },
  {
   "cell_type": "code",
   "execution_count": 41,
   "id": "b992f2ff",
   "metadata": {
    "ExecuteTime": {
     "end_time": "2023-11-26T08:52:36.755128Z",
     "start_time": "2023-11-26T08:52:36.751313Z"
    }
   },
   "outputs": [
    {
     "name": "stdout",
     "output_type": "stream",
     "text": [
      "Abcdfe2A354A32A\n"
     ]
    }
   ],
   "source": [
    "# 소문자 'a'를 대문자 'A'로 변경\n",
    "\n",
    "string = 'abcdfe2a354a32a'\n",
    "str = string.replace(\"a\", \"A\")\n",
    "print(str)"
   ]
  },
  {
   "cell_type": "code",
   "execution_count": 43,
   "id": "98d67c45",
   "metadata": {
    "ExecuteTime": {
     "end_time": "2023-11-26T08:54:51.286590Z",
     "start_time": "2023-11-26T08:54:51.281824Z"
    }
   },
   "outputs": [
    {
     "name": "stdout",
     "output_type": "stream",
     "text": [
      "--------------------------------------------------------------------------------\n"
     ]
    }
   ],
   "source": [
    "# 화면에 '-'를 80개 출력하세요.\n",
    "\n",
    "a = '-' * 80\n",
    "print(a)"
   ]
  },
  {
   "cell_type": "code",
   "execution_count": 48,
   "id": "9771e286",
   "metadata": {
    "ExecuteTime": {
     "end_time": "2023-11-26T08:56:30.661169Z",
     "start_time": "2023-11-26T08:56:30.656839Z"
    }
   },
   "outputs": [
    {
     "name": "stdout",
     "output_type": "stream",
     "text": [
      "python java python java python java python java \n"
     ]
    }
   ],
   "source": [
    "t1 = 'python'\n",
    "t2 = 'java'\n",
    "t3 = t1 + ' ' + t2 + \" \"\n",
    "\n",
    "print (t3 * 4)"
   ]
  },
  {
   "cell_type": "code",
   "execution_count": 52,
   "id": "ac4613d8",
   "metadata": {
    "ExecuteTime": {
     "end_time": "2023-11-26T13:46:34.148739Z",
     "start_time": "2023-11-26T13:46:34.139973Z"
    }
   },
   "outputs": [
    {
     "name": "stdout",
     "output_type": "stream",
     "text": [
      "이름: 김민수 나이: 10\n",
      "이름: 이철희 나이: 13\n"
     ]
    }
   ],
   "source": [
    "# % formatting을 사용해서 다음과 같이 출력해보세요.\n",
    "\n",
    "name1 = \"김민수\" \n",
    "age1 = 10\n",
    "name2 = \"이철희\"\n",
    "age2 = 13\n",
    "\n",
    "print(\"이름: %s 나이: %d\" % (name1, age1))\n",
    "print(\"이름: %s 나이: %d\" % (name2, age2))\n",
    "\n",
    "# 문자열 데이터타입 %s, 정수형 데이터타입 %d "
   ]
  },
  {
   "cell_type": "code",
   "execution_count": 59,
   "id": "5f01a993",
   "metadata": {
    "ExecuteTime": {
     "end_time": "2023-11-26T13:59:20.074382Z",
     "start_time": "2023-11-26T13:59:20.066743Z"
    }
   },
   "outputs": [
    {
     "name": "stdout",
     "output_type": "stream",
     "text": [
      "이름: 김민수 나이: 10\n",
      "이름: 이철희 나이: 13\n"
     ]
    }
   ],
   "source": [
    "# 문자열의 format( ) 메서드를 사용\n",
    "\n",
    "name1 = \"김민수\" \n",
    "age1 = 10\n",
    "name2 = \"이철희\"\n",
    "age2 = 13\n",
    "\n",
    "print(\"이름: {} 나이: {}\".format(name1, age1))\n",
    "print(\"이름: {} 나이: {}\".format(name2, age2))"
   ]
  },
  {
   "cell_type": "code",
   "execution_count": 56,
   "id": "546b945b",
   "metadata": {
    "ExecuteTime": {
     "end_time": "2023-11-26T13:55:20.856050Z",
     "start_time": "2023-11-26T13:55:20.848313Z"
    }
   },
   "outputs": [
    {
     "name": "stdout",
     "output_type": "stream",
     "text": [
      "이름: 김민수 나이: 10\n",
      "이름: 이철희 나이: 13\n"
     ]
    }
   ],
   "source": [
    "# 문자열의 f-string 사용\n",
    "\n",
    "name1 = \"김민수\" \n",
    "age1 = 10\n",
    "name2 = \"이철희\"\n",
    "age2 = 13\n",
    "\n",
    "print(f\"이름: {name1} 나이: {age1}\")\n",
    "print(f\"이름: {name2} 나이: {age2}\")"
   ]
  },
  {
   "cell_type": "code",
   "execution_count": 78,
   "id": "b34e9039",
   "metadata": {
    "ExecuteTime": {
     "end_time": "2023-11-26T14:04:59.512269Z",
     "start_time": "2023-11-26T14:04:59.502812Z"
    }
   },
   "outputs": [
    {
     "name": "stdout",
     "output_type": "stream",
     "text": [
      "5969782550 <class 'int'>\n"
     ]
    }
   ],
   "source": [
    "# 컴마를 제거한 후 이를 정수 타입으로 변환\n",
    "\n",
    "상장주식수 = \"5,969,782,550\"\n",
    "컴마제거 = 상장주식수.replace(\",\", \"\")\n",
    "타입변환 = int(컴마제거)\n",
    "print(타입변환, type(타입변환))"
   ]
  },
  {
   "cell_type": "code",
   "execution_count": 84,
   "id": "7a01f749",
   "metadata": {
    "ExecuteTime": {
     "end_time": "2023-11-26T14:07:07.205408Z",
     "start_time": "2023-11-26T14:07:07.199300Z"
    }
   },
   "outputs": [
    {
     "name": "stdout",
     "output_type": "stream",
     "text": [
      "2020/03\n"
     ]
    }
   ],
   "source": [
    "# '2020/03'만 출력하세요.\n",
    "\n",
    "분기 = \"2020/03(E) (IFRS연결)\"\n",
    "print(분기[:7])"
   ]
  },
  {
   "cell_type": "code",
   "execution_count": 86,
   "id": "cd94359f",
   "metadata": {
    "ExecuteTime": {
     "end_time": "2023-11-26T14:08:06.400805Z",
     "start_time": "2023-11-26T14:08:06.391317Z"
    }
   },
   "outputs": [
    {
     "data": {
      "text/plain": [
       "'삼성전자'"
      ]
     },
     "execution_count": 86,
     "metadata": {},
     "output_type": "execute_result"
    }
   ],
   "source": [
    "# 문자열의 좌우의 공백이 있을 때 이를 제거\n",
    "\n",
    "data = \"   삼성전자    \"\n",
    "data.strip()"
   ]
  },
  {
   "cell_type": "code",
   "execution_count": 104,
   "id": "e06a3236",
   "metadata": {
    "ExecuteTime": {
     "end_time": "2023-11-26T14:27:24.753753Z",
     "start_time": "2023-11-26T14:27:24.745191Z"
    }
   },
   "outputs": [
    {
     "data": {
      "text/plain": [
       "'039490'"
      ]
     },
     "execution_count": 104,
     "metadata": {},
     "output_type": "execute_result"
    }
   ],
   "source": [
    "# 문자열의 오른쪽에 공백이 있을 때 이를 제거해보세요.\n",
    "\n",
    "data = \"039490     \"\n",
    "data.rstrip()"
   ]
  },
  {
   "cell_type": "code",
   "execution_count": 88,
   "id": "47cf5e0e",
   "metadata": {
    "ExecuteTime": {
     "end_time": "2023-11-26T14:10:08.120831Z",
     "start_time": "2023-11-26T14:10:08.112312Z"
    }
   },
   "outputs": [
    {
     "data": {
      "text/plain": [
       "'BTC_KRW'"
      ]
     },
     "execution_count": 88,
     "metadata": {},
     "output_type": "execute_result"
    }
   ],
   "source": [
    "# 대문자로 변경\n",
    "ticker = \"btc_krw\"\n",
    "ticker.upper()"
   ]
  },
  {
   "cell_type": "code",
   "execution_count": 90,
   "id": "8a1b73f6",
   "metadata": {
    "ExecuteTime": {
     "end_time": "2023-11-26T14:12:14.599357Z",
     "start_time": "2023-11-26T14:12:14.588796Z"
    }
   },
   "outputs": [
    {
     "data": {
      "text/plain": [
       "'btc_krw'"
      ]
     },
     "execution_count": 90,
     "metadata": {},
     "output_type": "execute_result"
    }
   ],
   "source": [
    "# 소문자로 변경\n",
    "\n",
    "ticker = \"BTC_KRW\"\n",
    "ticker.lower()"
   ]
  },
  {
   "cell_type": "code",
   "execution_count": 93,
   "id": "d374b961",
   "metadata": {
    "ExecuteTime": {
     "end_time": "2023-11-26T14:20:04.409421Z",
     "start_time": "2023-11-26T14:20:04.401337Z"
    }
   },
   "outputs": [
    {
     "data": {
      "text/plain": [
       "'Hello'"
      ]
     },
     "execution_count": 93,
     "metadata": {},
     "output_type": "execute_result"
    }
   ],
   "source": [
    "# capitalize 함수 - 첫글자 대문자 변환 \n",
    "# 문자열 'hello'가 있을 때 이를 'Hello'로 변경해보세요.\n",
    "\n",
    "a = \"hello\"\n",
    "a.capitalize()"
   ]
  },
  {
   "cell_type": "code",
   "execution_count": 96,
   "id": "83807efe",
   "metadata": {
    "ExecuteTime": {
     "end_time": "2023-11-26T14:21:43.681428Z",
     "start_time": "2023-11-26T14:21:43.672331Z"
    }
   },
   "outputs": [
    {
     "data": {
      "text/plain": [
       "True"
      ]
     },
     "execution_count": 96,
     "metadata": {},
     "output_type": "execute_result"
    }
   ],
   "source": [
    "# endswith 함수 - 문자열이 지정한 문자열로 끝나는지 체크 (T/F)\n",
    "file_name = \"보고서.xlsx\"\n",
    "file_name.endswith((\"xlsx\", \"xls\"))"
   ]
  },
  {
   "cell_type": "code",
   "execution_count": 98,
   "id": "9b72bc16",
   "metadata": {
    "ExecuteTime": {
     "end_time": "2023-11-26T14:22:40.495562Z",
     "start_time": "2023-11-26T14:22:40.485102Z"
    }
   },
   "outputs": [
    {
     "data": {
      "text/plain": [
       "True"
      ]
     },
     "execution_count": 98,
     "metadata": {},
     "output_type": "execute_result"
    }
   ],
   "source": [
    "# startswith 함수 - 문자열이 지정한 문자열로 시작하지 체크 (T/F)\n",
    "file_name = \"2020_보고서.xlsx\"\n",
    "file_name.startswith('2020')"
   ]
  },
  {
   "cell_type": "code",
   "execution_count": 99,
   "id": "f60b1c52",
   "metadata": {
    "ExecuteTime": {
     "end_time": "2023-11-26T14:24:09.379002Z",
     "start_time": "2023-11-26T14:24:09.369745Z"
    }
   },
   "outputs": [
    {
     "data": {
      "text/plain": [
       "['hello', 'world']"
      ]
     },
     "execution_count": 99,
     "metadata": {},
     "output_type": "execute_result"
    }
   ],
   "source": [
    "# split - 문자열에서 공백 기준으로 분리\n",
    "# 공백을 기준으로 문자열을 나눠보세요.\n",
    "\n",
    "a = \"hello world\"\n",
    "a.split()"
   ]
  },
  {
   "cell_type": "code",
   "execution_count": 100,
   "id": "e3a36aea",
   "metadata": {
    "ExecuteTime": {
     "end_time": "2023-11-26T14:24:58.493036Z",
     "start_time": "2023-11-26T14:24:58.483620Z"
    }
   },
   "outputs": [
    {
     "data": {
      "text/plain": [
       "['btc', 'krw']"
      ]
     },
     "execution_count": 100,
     "metadata": {},
     "output_type": "execute_result"
    }
   ],
   "source": [
    "# btc와 krw로 나눠보세요.\n",
    "\n",
    "ticker = \"btc_krw\"\n",
    "ticker.split('_')"
   ]
  },
  {
   "cell_type": "code",
   "execution_count": 101,
   "id": "205d099c",
   "metadata": {
    "ExecuteTime": {
     "end_time": "2023-11-26T14:26:39.456610Z",
     "start_time": "2023-11-26T14:26:39.447859Z"
    }
   },
   "outputs": [
    {
     "data": {
      "text/plain": [
       "['2020', '05', '01']"
      ]
     },
     "execution_count": 101,
     "metadata": {},
     "output_type": "execute_result"
    }
   ],
   "source": [
    "# 날짜를 표현하는 문자열이 있을 때 연도, 월, 일로 나눠보세요.\n",
    "\n",
    "date = \"2020-05-01\"\n",
    "date.split('-')"
   ]
  },
  {
   "cell_type": "markdown",
   "id": "7b5c0c23",
   "metadata": {},
   "source": [
    "## 딕셔너리"
   ]
  },
  {
   "cell_type": "code",
   "execution_count": 4,
   "id": "c0294d45",
   "metadata": {
    "ExecuteTime": {
     "end_time": "2023-11-27T12:59:23.584273Z",
     "start_time": "2023-11-27T12:59:23.580328Z"
    }
   },
   "outputs": [
    {
     "name": "stdout",
     "output_type": "stream",
     "text": [
      "[8.8, 8.9, 8.7, 9.2, 9.3, 9.7, 9.9, 9.5]\n"
     ]
    }
   ],
   "source": [
    "# 별 표현식\n",
    "# 10개의 값이 저장된 scores 리스트가 있을 때,\n",
    "# start expression을 사용하여 좌측 8개의 값을 valid_score 변수에 바인딩\n",
    "\n",
    "scores = [8.8, 8.9, 8.7, 9.2, 9.3, 9.7, 9.9, 9.5, 7.8, 9.4]\n",
    "*valid_score, a, b = scores\n",
    "print(valid_score)"
   ]
  },
  {
   "cell_type": "code",
   "execution_count": 6,
   "id": "4b22b22c",
   "metadata": {
    "ExecuteTime": {
     "end_time": "2023-11-27T13:00:55.384753Z",
     "start_time": "2023-11-27T13:00:55.380198Z"
    }
   },
   "outputs": [
    {
     "name": "stdout",
     "output_type": "stream",
     "text": [
      "[8.7, 9.2, 9.3, 9.7, 9.9, 9.5, 7.8, 9.4]\n"
     ]
    }
   ],
   "source": [
    "# start expression을 사용하여 우측 8개의 값을 valid_score 변수에 바인딩하여라\n",
    "\n",
    "scores = [8.8, 8.9, 8.7, 9.2, 9.3, 9.7, 9.9, 9.5, 7.8, 9.4]\n",
    "a, b, *valid_score = scores\n",
    "print(valid_score)"
   ]
  },
  {
   "cell_type": "code",
   "execution_count": 7,
   "id": "8f71f3b5",
   "metadata": {
    "ExecuteTime": {
     "end_time": "2023-11-27T13:01:24.945382Z",
     "start_time": "2023-11-27T13:01:24.939859Z"
    }
   },
   "outputs": [
    {
     "name": "stdout",
     "output_type": "stream",
     "text": [
      "[8.9, 8.7, 9.2, 9.3, 9.7, 9.9, 9.5, 7.8]\n"
     ]
    }
   ],
   "source": [
    "#  start expression을 사용하여 가운데 있는 8개의 값을 valid_score 변수에 바인딩하여라.\n",
    "scores = [8.8, 8.9, 8.7, 9.2, 9.3, 9.7, 9.9, 9.5, 7.8, 9.4]\n",
    "a, *valid_score, b = scores\n",
    "print(valid_score)"
   ]
  },
  {
   "cell_type": "code",
   "execution_count": 13,
   "id": "ef56ab37",
   "metadata": {
    "ExecuteTime": {
     "end_time": "2023-11-27T13:02:22.962665Z",
     "start_time": "2023-11-27T13:02:22.959127Z"
    }
   },
   "outputs": [
    {
     "name": "stdout",
     "output_type": "stream",
     "text": [
      "{}\n"
     ]
    }
   ],
   "source": [
    "# 비어있는 딕셔너리\n",
    "# temp 이름의 빈 딕셔너리 만들기\n",
    "\n",
    "temp = {}\n",
    "print(temp)"
   ]
  },
  {
   "cell_type": "code",
   "execution_count": 17,
   "id": "162eb816",
   "metadata": {
    "ExecuteTime": {
     "end_time": "2023-11-27T13:03:26.638976Z",
     "start_time": "2023-11-27T13:03:26.635085Z"
    },
    "scrolled": true
   },
   "outputs": [
    {
     "name": "stdout",
     "output_type": "stream",
     "text": [
      "{'메로나': 1000, '폴라포': 1200, '빵빠레': 1800}\n"
     ]
    }
   ],
   "source": [
    "icecream = {'메로나': 1000, '폴라포': 1200, '빵빠레': 1800}\n",
    "print(icecream)"
   ]
  },
  {
   "cell_type": "code",
   "execution_count": 20,
   "id": "ced8ca55",
   "metadata": {
    "ExecuteTime": {
     "end_time": "2023-11-27T13:05:16.650217Z",
     "start_time": "2023-11-27T13:05:16.645697Z"
    }
   },
   "outputs": [
    {
     "name": "stdout",
     "output_type": "stream",
     "text": [
      "{'메로나': 1000, '폴라포': 1200, '빵빠레': 1800, '죠스바': 1200, '월드콘': 1500}\n"
     ]
    }
   ],
   "source": [
    "# 딕셔너리 추가\n",
    "icecream = {'메로나': 1000, '폴라포': 1200, '빵빠레': 1800}\n",
    "icecream['죠스바'] = 1200\n",
    "icecream['월드콘'] = 1500\n",
    "print(icecream)\n"
   ]
  },
  {
   "cell_type": "code",
   "execution_count": 23,
   "id": "dff09518",
   "metadata": {
    "ExecuteTime": {
     "end_time": "2023-11-27T13:05:58.476077Z",
     "start_time": "2023-11-27T13:05:58.466805Z"
    }
   },
   "outputs": [
    {
     "data": {
      "text/plain": [
       "1000"
      ]
     },
     "execution_count": 23,
     "metadata": {},
     "output_type": "execute_result"
    }
   ],
   "source": [
    "# 딕셔너리 추출\n",
    "\n",
    "ice = {'메로나': 1000,\n",
    "       '폴로포': 1200,\n",
    "       '빵빠레': 1800,\n",
    "       '죠스바': 1200,\n",
    "       '월드콘': 1500}\n",
    "\n",
    "ice['메로나']"
   ]
  },
  {
   "cell_type": "code",
   "execution_count": 26,
   "id": "14029212",
   "metadata": {
    "ExecuteTime": {
     "end_time": "2023-11-27T13:06:35.447680Z",
     "start_time": "2023-11-27T13:06:35.441776Z"
    }
   },
   "outputs": [
    {
     "name": "stdout",
     "output_type": "stream",
     "text": [
      "{'메로나': 1300, '폴로포': 1200, '빵빠레': 1800, '죠스바': 1200, '월드콘': 1500}\n"
     ]
    }
   ],
   "source": [
    "# 딕셔너리 수정\n",
    "\n",
    "ice = {'메로나': 1000,\n",
    "       '폴로포': 1200,\n",
    "       '빵빠레': 1800,\n",
    "       '죠스바': 1200,\n",
    "       '월드콘': 1500}\n",
    "\n",
    "ice['메로나'] = 1300\n",
    "print(ice)"
   ]
  },
  {
   "cell_type": "code",
   "execution_count": 29,
   "id": "2af62423",
   "metadata": {
    "ExecuteTime": {
     "end_time": "2023-11-27T13:07:40.284966Z",
     "start_time": "2023-11-27T13:07:40.279350Z"
    }
   },
   "outputs": [
    {
     "name": "stdout",
     "output_type": "stream",
     "text": [
      "{'폴로포': 1200, '빵빠레': 1800, '죠스바': 1200, '월드콘': 1500}\n"
     ]
    }
   ],
   "source": [
    "# 딕셔너리 삭제\n",
    "\n",
    "ice = {'메로나': 1000,\n",
    "       '폴로포': 1200,\n",
    "       '빵빠레': 1800,\n",
    "       '죠스바': 1200,\n",
    "       '월드콘': 1500}\n",
    "\n",
    "del ice['메로나']\n",
    "print(ice)"
   ]
  },
  {
   "cell_type": "code",
   "execution_count": 32,
   "id": "3916feac",
   "metadata": {
    "ExecuteTime": {
     "end_time": "2023-11-27T13:09:43.350096Z",
     "start_time": "2023-11-27T13:09:43.345093Z"
    }
   },
   "outputs": [
    {
     "name": "stdout",
     "output_type": "stream",
     "text": [
      "{'메로나': [300, 20], '비비빅': [400, 3], '죠스바': [250, 100]}\n"
     ]
    }
   ],
   "source": [
    "# 딕셔너리 생성\n",
    "\n",
    "inventory = {'메로나': [300, 20], '비비빅': [400, 3], '죠스바': [250, 100]}\n",
    "print(inventory)"
   ]
  },
  {
   "cell_type": "code",
   "execution_count": 34,
   "id": "24cf05a1",
   "metadata": {
    "ExecuteTime": {
     "end_time": "2023-11-27T13:11:51.650897Z",
     "start_time": "2023-11-27T13:11:51.645083Z"
    }
   },
   "outputs": [
    {
     "data": {
      "text/plain": [
       "300"
      ]
     },
     "execution_count": 34,
     "metadata": {},
     "output_type": "execute_result"
    }
   ],
   "source": [
    "# 딕셔너리 인덱싱\n",
    "# inventory 딕셔너리에서 메로나의 가격을 화면에 출력\n",
    "\n",
    "inventory = {\"메로나\": [300, 20],\n",
    "              \"비비빅\": [400, 3],\n",
    "              \"죠스바\": [250, 100]}\n",
    "\n",
    "inventory['메로나'][0]"
   ]
  },
  {
   "cell_type": "code",
   "execution_count": 35,
   "id": "6e7214e7",
   "metadata": {
    "ExecuteTime": {
     "end_time": "2023-11-27T13:12:22.196500Z",
     "start_time": "2023-11-27T13:12:22.191300Z"
    }
   },
   "outputs": [
    {
     "data": {
      "text/plain": [
       "20"
      ]
     },
     "execution_count": 35,
     "metadata": {},
     "output_type": "execute_result"
    }
   ],
   "source": [
    "# inventory 딕셔너리에서 메로나의 재고를 화면에 출력\n",
    "\n",
    "inventory = {\"메로나\": [300, 20],\n",
    "              \"비비빅\": [400, 3],\n",
    "              \"죠스바\": [250, 100]}\n",
    "\n",
    "inventory['메로나'][1]"
   ]
  },
  {
   "cell_type": "code",
   "execution_count": 37,
   "id": "0304620d",
   "metadata": {
    "ExecuteTime": {
     "end_time": "2023-11-27T13:12:55.824956Z",
     "start_time": "2023-11-27T13:12:55.819961Z"
    }
   },
   "outputs": [
    {
     "name": "stdout",
     "output_type": "stream",
     "text": [
      "{'메로나': [300, 20], '비비빅': [400, 3], '죠스바': [250, 100], '월드콘': [500, 7]}\n"
     ]
    }
   ],
   "source": [
    "# 딕셔너리 추가\n",
    "inventory = {\"메로나\": [300, 20],\n",
    "              \"비비빅\": [400, 3],\n",
    "              \"죠스바\": [250, 100]}\n",
    "inventory['월드콘'] = [500, 7]\n",
    "print(inventory)"
   ]
  },
  {
   "cell_type": "code",
   "execution_count": 40,
   "id": "f266bb2b",
   "metadata": {
    "ExecuteTime": {
     "end_time": "2023-11-27T13:14:04.173866Z",
     "start_time": "2023-11-27T13:14:04.168808Z"
    }
   },
   "outputs": [
    {
     "name": "stdout",
     "output_type": "stream",
     "text": [
      "['탱크보이', '폴라포', '빵빠레', '월드콘', '메로나']\n"
     ]
    }
   ],
   "source": [
    "# 딕셔너리 keys() 메서드\n",
    "# key 값으로만 구성된 리스트를 생성하라.\n",
    "\n",
    "icecream = {'탱크보이': 1200, '폴라포': 1200, '빵빠레': 1800, '월드콘': 1500, '메로나': 1000}\n",
    "ice = list(icecream.keys())\n",
    "print(ice)"
   ]
  },
  {
   "cell_type": "code",
   "execution_count": 42,
   "id": "ff5d48ba",
   "metadata": {
    "ExecuteTime": {
     "end_time": "2023-11-27T13:14:42.198340Z",
     "start_time": "2023-11-27T13:14:42.193064Z"
    }
   },
   "outputs": [
    {
     "name": "stdout",
     "output_type": "stream",
     "text": [
      "[1200, 1200, 1800, 1500, 1000]\n"
     ]
    }
   ],
   "source": [
    "# 딕셔너리 values() 메서드\n",
    "#  values 값으로만 구성된 리스트를 생성\n",
    "\n",
    "icecream = {'탱크보이': 1200, '폴라포': 1200, '빵빠레': 1800, '월드콘': 1500, '메로나': 1000}\n",
    "ice = list(icecream.values())\n",
    "print(ice)"
   ]
  },
  {
   "cell_type": "code",
   "execution_count": 48,
   "id": "b9a174d4",
   "metadata": {
    "ExecuteTime": {
     "end_time": "2023-11-27T13:16:05.545768Z",
     "start_time": "2023-11-27T13:16:05.541513Z"
    }
   },
   "outputs": [
    {
     "name": "stdout",
     "output_type": "stream",
     "text": [
      "[1200, 1200, 1800, 1500, 1000]\n",
      "6700\n"
     ]
    }
   ],
   "source": [
    "# icecream 딕셔너리에서 아이스크림 판매 금액의 총합을 출력\n",
    "\n",
    "icecream = {'탱크보이': 1200, '폴라포': 1200, '빵빠레': 1800, '월드콘': 1500, '메로나': 1000}\n",
    "ice = list(icecream.values())\n",
    "print(ice)\n",
    "sum(ice)\n",
    "\n",
    "print(sum(icecream.values()))"
   ]
  },
  {
   "cell_type": "code",
   "execution_count": 49,
   "id": "c0820376",
   "metadata": {
    "ExecuteTime": {
     "end_time": "2023-11-27T13:17:52.221594Z",
     "start_time": "2023-11-27T13:17:52.217554Z"
    }
   },
   "outputs": [
    {
     "name": "stdout",
     "output_type": "stream",
     "text": [
      "{'탱크보이': 1200, '폴라포': 1200, '빵빠레': 1800, '월드콘': 1500, '메로나': 1000, '팥빙수': 2700, '아맛나': 1000}\n"
     ]
    }
   ],
   "source": [
    "# 딕셔너리 update 메서드\n",
    "# new_product 딕셔너리를 다음 icecream 딕셔너리에 추가\n",
    "\n",
    "icecream = {'탱크보이': 1200, '폴라포': 1200, '빵빠레': 1800, '월드콘': 1500, '메로나': 1000}\n",
    "new_product = {'팥빙수':2700, '아맛나':1000}\n",
    "icecream.update(new_product)\n",
    "print(icecream)"
   ]
  },
  {
   "cell_type": "code",
   "execution_count": 50,
   "id": "06ce0e7e",
   "metadata": {
    "ExecuteTime": {
     "end_time": "2023-11-27T13:18:50.442256Z",
     "start_time": "2023-11-27T13:18:50.436748Z"
    }
   },
   "outputs": [
    {
     "name": "stdout",
     "output_type": "stream",
     "text": [
      "{'apple': 300, 'pear': 250, 'peach': 400}\n"
     ]
    }
   ],
   "source": [
    "# zip과 dict\n",
    "# 두 개의 튜플을 하나의 딕셔너리로 변환하라.\n",
    "# keys를 키로, vals를 값으로 result 이름의 딕셔너리로 저장\n",
    "\n",
    "keys = (\"apple\", \"pear\", \"peach\")\n",
    "vals = (300, 250, 400)\n",
    "\n",
    "result = dict(zip(keys, vals))\n",
    "print(result)"
   ]
  },
  {
   "cell_type": "code",
   "execution_count": 54,
   "id": "a16685a6",
   "metadata": {
    "ExecuteTime": {
     "end_time": "2023-11-27T13:19:59.311240Z",
     "start_time": "2023-11-27T13:19:59.306451Z"
    }
   },
   "outputs": [
    {
     "name": "stdout",
     "output_type": "stream",
     "text": [
      "{'09/05': 10500, '09/06': 10300, '09/07': 10100, '09/08': 10800, '09/09': 11000}\n"
     ]
    }
   ],
   "source": [
    "# date와 close_price 두 개의 리스트를 close_table 이름의 딕셔너리로 생성하라.\n",
    "\n",
    "date = ['09/05', '09/06', '09/07', '09/08', '09/09']\n",
    "close_price = [10500, 10300, 10100, 10800, 11000]\n",
    "\n",
    "close_table = dict(zip(date, close_price))\n",
    "print(close_table)"
   ]
  },
  {
   "cell_type": "markdown",
   "id": "1251f8d1",
   "metadata": {},
   "source": [
    "## 파이썬 분기문"
   ]
  },
  {
   "cell_type": "code",
   "execution_count": 1,
   "id": "18da916a",
   "metadata": {
    "ExecuteTime": {
     "end_time": "2023-11-28T10:38:11.905670Z",
     "start_time": "2023-11-28T10:38:11.895560Z"
    },
    "scrolled": true
   },
   "outputs": [
    {
     "ename": "SyntaxError",
     "evalue": "invalid syntax (266652374.py, line 4)",
     "output_type": "error",
     "traceback": [
      "\u001b[1;36m  Cell \u001b[1;32mIn[1], line 4\u001b[1;36m\u001b[0m\n\u001b[1;33m    불 자료형(bool)\u001b[0m\n\u001b[1;37m      ^\u001b[0m\n\u001b[1;31mSyntaxError\u001b[0m\u001b[1;31m:\u001b[0m invalid syntax\n"
     ]
    }
   ],
   "source": [
    "# 101\n",
    "# 파이썬에서 True 혹은 False를 갖는 데이터 타입은 무엇인가?\n",
    "\n",
    "불 자료형(bool)"
   ]
  },
  {
   "cell_type": "code",
   "execution_count": 3,
   "id": "229a5738",
   "metadata": {
    "ExecuteTime": {
     "end_time": "2023-11-28T10:38:39.481050Z",
     "start_time": "2023-11-28T10:38:39.477062Z"
    }
   },
   "outputs": [
    {
     "name": "stdout",
     "output_type": "stream",
     "text": [
      "False\n"
     ]
    }
   ],
   "source": [
    "# 102 아래 코드의 출력 결과를 예상하라\n",
    "\n",
    "print(3 == 5) \n",
    "#false"
   ]
  },
  {
   "cell_type": "code",
   "execution_count": 4,
   "id": "e75fbea2",
   "metadata": {
    "ExecuteTime": {
     "end_time": "2023-11-28T10:39:01.850031Z",
     "start_time": "2023-11-28T10:39:01.847189Z"
    }
   },
   "outputs": [
    {
     "name": "stdout",
     "output_type": "stream",
     "text": [
      "True\n"
     ]
    }
   ],
   "source": [
    "# 103 아래 코드의 출력 결과를 예상하라\n",
    "\n",
    "print(3 < 5)\n",
    "#true"
   ]
  },
  {
   "cell_type": "code",
   "execution_count": 5,
   "id": "22cab08d",
   "metadata": {
    "ExecuteTime": {
     "end_time": "2023-11-28T10:39:18.503265Z",
     "start_time": "2023-11-28T10:39:18.499454Z"
    }
   },
   "outputs": [
    {
     "name": "stdout",
     "output_type": "stream",
     "text": [
      "True\n"
     ]
    }
   ],
   "source": [
    "# 104 아래 코드의 결과를 예상하라.\n",
    "\n",
    "x = 4\n",
    "print(1 < x < 5)\n",
    "#true"
   ]
  },
  {
   "cell_type": "code",
   "execution_count": 6,
   "id": "e5064551",
   "metadata": {
    "ExecuteTime": {
     "end_time": "2023-11-28T10:39:39.920648Z",
     "start_time": "2023-11-28T10:39:39.916387Z"
    }
   },
   "outputs": [
    {
     "name": "stdout",
     "output_type": "stream",
     "text": [
      "True\n"
     ]
    }
   ],
   "source": [
    "# 105 아래 코드의 결과를 예상하라.\n",
    "\n",
    "print ((3 == 3) and (4 != 3))\n",
    "# ture"
   ]
  },
  {
   "cell_type": "code",
   "execution_count": 9,
   "id": "078f3134",
   "metadata": {
    "ExecuteTime": {
     "end_time": "2023-11-28T10:40:47.228230Z",
     "start_time": "2023-11-28T10:40:47.223739Z"
    }
   },
   "outputs": [
    {
     "ename": "SyntaxError",
     "evalue": "expression cannot contain assignment, perhaps you meant \"==\"? (4002499379.py, line 3)",
     "output_type": "error",
     "traceback": [
      "\u001b[1;36m  Cell \u001b[1;32mIn[9], line 3\u001b[1;36m\u001b[0m\n\u001b[1;33m    print(3 => 4)\u001b[0m\n\u001b[1;37m          ^\u001b[0m\n\u001b[1;31mSyntaxError\u001b[0m\u001b[1;31m:\u001b[0m expression cannot contain assignment, perhaps you meant \"==\"?\n"
     ]
    }
   ],
   "source": [
    "# 106 아래 코드에서 에러가 발생하는 원인에 대해 설명하라.\n",
    "\n",
    "print(3 => 4)\n",
    "# => 는 지원하지 않는 연산자 (>=, <= 로 사용)"
   ]
  },
  {
   "cell_type": "code",
   "execution_count": 10,
   "id": "6622b14c",
   "metadata": {
    "ExecuteTime": {
     "end_time": "2023-11-28T10:41:05.874764Z",
     "start_time": "2023-11-28T10:41:05.871298Z"
    }
   },
   "outputs": [],
   "source": [
    "# 107 아래 코드의 출력 결과를 예상하라\n",
    "\n",
    "if 4 < 3:\n",
    "    print(\"Hello World\")\n",
    "# 조건을 만족하지 않아 아무것도 출력되지 않음"
   ]
  },
  {
   "cell_type": "code",
   "execution_count": 13,
   "id": "786db763",
   "metadata": {
    "ExecuteTime": {
     "end_time": "2023-11-28T10:41:54.042773Z",
     "start_time": "2023-11-28T10:41:54.038963Z"
    }
   },
   "outputs": [
    {
     "name": "stdout",
     "output_type": "stream",
     "text": [
      "Hi, there.\n"
     ]
    }
   ],
   "source": [
    "# 108 아래 코드의 출력 결과를 예상하라\n",
    "\n",
    "if 4 < 3:\n",
    "    print(\"Hello World.\")\n",
    "else:\n",
    "    print(\"Hi, there.\")\n",
    "# hi there"
   ]
  },
  {
   "cell_type": "code",
   "execution_count": 15,
   "id": "0bbba7e8",
   "metadata": {
    "ExecuteTime": {
     "end_time": "2023-11-28T10:42:28.913770Z",
     "start_time": "2023-11-28T10:42:28.909459Z"
    }
   },
   "outputs": [
    {
     "name": "stdout",
     "output_type": "stream",
     "text": [
      "1\n",
      "2\n",
      "4\n"
     ]
    }
   ],
   "source": [
    "# 109 아래 코드의 출력 결과를 예상하라\n",
    "\n",
    "if True :\n",
    "    print (\"1\")\n",
    "    print (\"2\")\n",
    "else :\n",
    "    print(\"3\")\n",
    "print(\"4\")\n",
    "# 1, 2, 4\n",
    "# 들여쓰기로 if문 실행 구분"
   ]
  },
  {
   "cell_type": "code",
   "execution_count": 17,
   "id": "b08794d3",
   "metadata": {
    "ExecuteTime": {
     "end_time": "2023-11-28T10:43:18.495685Z",
     "start_time": "2023-11-28T10:43:18.489252Z"
    }
   },
   "outputs": [
    {
     "name": "stdout",
     "output_type": "stream",
     "text": [
      "3\n",
      "5\n"
     ]
    }
   ],
   "source": [
    "# 110 아래 코드의 출력 결과를 예상하라\n",
    "\n",
    "if True :\n",
    "    if False:\n",
    "        print(\"1\")\n",
    "        print(\"2\")\n",
    "    else:\n",
    "        print(\"3\")\n",
    "else :\n",
    "    print(\"4\")\n",
    "print(\"5\")\n",
    "# 3, 5"
   ]
  },
  {
   "cell_type": "code",
   "execution_count": 21,
   "id": "7f352e85",
   "metadata": {
    "ExecuteTime": {
     "end_time": "2023-11-28T10:54:17.683901Z",
     "start_time": "2023-11-28T10:54:17.669097Z"
    }
   },
   "outputs": [
    {
     "name": "stdout",
     "output_type": "stream",
     "text": [
      "안녕하세요안녕하세요\n"
     ]
    }
   ],
   "source": [
    "# 111 사용자로부터 입력받은 문자열을 두 번 출력하라.\n",
    "# 아래는 사용자가 \"안녕하세요\"를 입력한 경우의 출력 결과이다.\n",
    "\n",
    "입력 = \"안녕하세요\"\n",
    "print(입력*2)"
   ]
  },
  {
   "cell_type": "code",
   "execution_count": 27,
   "id": "a015bc55",
   "metadata": {
    "ExecuteTime": {
     "end_time": "2023-11-28T10:56:47.173006Z",
     "start_time": "2023-11-28T10:56:47.168607Z"
    }
   },
   "outputs": [
    {
     "name": "stdout",
     "output_type": "stream",
     "text": [
      "40\n"
     ]
    }
   ],
   "source": [
    "# 112 사용자로부터 하나의 숫자를 입력받고,\n",
    "# 입력 받은 숫자에 10을 더해 출력하라.\n",
    "\n",
    "num = 30\n",
    "print(num + 10)"
   ]
  },
  {
   "cell_type": "code",
   "execution_count": 26,
   "id": "0d4e58f3",
   "metadata": {
    "ExecuteTime": {
     "end_time": "2023-11-28T10:56:41.332634Z",
     "start_time": "2023-11-28T10:56:41.327637Z"
    }
   },
   "outputs": [
    {
     "name": "stdout",
     "output_type": "stream",
     "text": [
      "짝수\n"
     ]
    }
   ],
   "source": [
    "# 113 사용자로부터 하나의 숫자를 입력 받고 짝수/홀수를 판별하라.\n",
    "\n",
    "num = 30\n",
    "if num % 2 == 0:\n",
    "    print(\"짝수\")\n",
    "else:\n",
    "    print(\"홀수\")"
   ]
  },
  {
   "cell_type": "code",
   "execution_count": 78,
   "id": "a09a765d",
   "metadata": {
    "ExecuteTime": {
     "end_time": "2023-11-28T11:23:07.377140Z",
     "start_time": "2023-11-28T11:23:07.372661Z"
    }
   },
   "outputs": [
    {
     "name": "stdout",
     "output_type": "stream",
     "text": [
      "255\n"
     ]
    }
   ],
   "source": [
    "# 114 사용자로부터 값을 입력받은 후 해당 값에 20을 더한 값을 출력하라.\n",
    "# 단 사용자가 입력한 값과 20을 더한 계산 값이 255를 초과하는 경우 255를 출력해야 한다.\n",
    "\n",
    "num = 257\n",
    "result = num + 20\n",
    "if result > 255:\n",
    "    print(255)\n",
    "else:\n",
    "    print(result)"
   ]
  },
  {
   "cell_type": "code",
   "execution_count": 42,
   "id": "4963a2a5",
   "metadata": {
    "ExecuteTime": {
     "end_time": "2023-11-28T11:01:00.427740Z",
     "start_time": "2023-11-28T11:01:00.423057Z"
    }
   },
   "outputs": [
    {
     "name": "stdout",
     "output_type": "stream",
     "text": [
      "200\n"
     ]
    }
   ],
   "source": [
    "# 115 사용자로부터 하나의 값을 입력받은 후 해당 값에 20을 뺀 값을 출력하라.\n",
    "# 단 출력 값의 범위는 0~255이다. 예를 들어 결괏값이 0보다 작은 값이되는 경우 0을 출력하고 255보다 큰 값이 되는 경우 255를 출력해야 한다.\n",
    "\n",
    "input = 15\n",
    "if input < 0:\n",
    "    print(0)\n",
    "elif input > 255:\n",
    "    print(0)\n",
    "else:\n",
    "    print(num)\n"
   ]
  },
  {
   "cell_type": "code",
   "execution_count": 1,
   "id": "78e61b74",
   "metadata": {
    "ExecuteTime": {
     "end_time": "2023-11-28T12:10:09.633533Z",
     "start_time": "2023-11-28T12:10:04.239478Z"
    }
   },
   "outputs": [
    {
     "name": "stdout",
     "output_type": "stream",
     "text": [
      "현재시간: 02:00\n",
      "정각입니다.\n"
     ]
    }
   ],
   "source": [
    "# 116\n",
    "\n",
    "time = input(\"현재시간: \")\n",
    "if time[-2:] == \"00\":\n",
    "    print(\"정각입니다.\")\n",
    "else:\n",
    "    print(\"정각이 아닙니다.\")"
   ]
  },
  {
   "cell_type": "code",
   "execution_count": 1,
   "id": "493e94a3",
   "metadata": {
    "ExecuteTime": {
     "end_time": "2023-11-28T11:55:29.394238Z",
     "start_time": "2023-11-28T11:55:27.368029Z"
    }
   },
   "outputs": [
    {
     "name": "stdout",
     "output_type": "stream",
     "text": [
      "좋아하는 과일은? 사과\n",
      "정답입니다.\n"
     ]
    }
   ],
   "source": [
    "### 117\n",
    "\n",
    "fruit = [\"사과\", \"포도\", \"홍시\"]\n",
    "user = input(\"좋아하는 과일은? \")\n",
    "if user in fruit:\n",
    "    print(\"정답입니다.\")\n",
    "else:\n",
    "    print(\"오답입니다.\")"
   ]
  },
  {
   "cell_type": "code",
   "execution_count": 2,
   "id": "2de13bd1",
   "metadata": {
    "ExecuteTime": {
     "end_time": "2023-11-28T12:10:39.149263Z",
     "start_time": "2023-11-28T12:10:23.321523Z"
    }
   },
   "outputs": [
    {
     "name": "stdout",
     "output_type": "stream",
     "text": [
      "종목명: naver\n",
      "투자 경고 종목이 아닙니다.\n"
     ]
    }
   ],
   "source": [
    "# 118\n",
    "\n",
    "warn_investment_list = [\"Microsoft\", \"Google\", \"Naver\", \"Kakao\", \"SAMSUNG\", \"LG\"]\n",
    "종목 = input(\"종목명: \")\n",
    "if 종목 in warn_investment_list:\n",
    "    print(\"투자 경고 종목입니다.\")\n",
    "else:\n",
    "    print(\"투자 경고 종목이 아닙니다.\")"
   ]
  },
  {
   "cell_type": "code",
   "execution_count": 3,
   "id": "a590ec23",
   "metadata": {
    "ExecuteTime": {
     "end_time": "2023-11-28T12:10:54.651319Z",
     "start_time": "2023-11-28T12:10:50.780997Z"
    }
   },
   "outputs": [
    {
     "name": "stdout",
     "output_type": "stream",
     "text": [
      "제가좋아하는계절은: 여름\n",
      "정답입니다.\n"
     ]
    }
   ],
   "source": [
    "# 119\n",
    "\n",
    "fruit = {\"봄\" : \"딸기\", \"여름\" : \"토마토\", \"가을\" : \"사과\"}\n",
    "user = input(\"제가좋아하는계절은: \")\n",
    "if user in fruit:\n",
    "    print(\"정답입니다.\")\n",
    "else:\n",
    "    print(\"오답입니다.\")"
   ]
  },
  {
   "cell_type": "code",
   "execution_count": 4,
   "id": "14fb29df",
   "metadata": {
    "ExecuteTime": {
     "end_time": "2023-11-28T12:11:08.334488Z",
     "start_time": "2023-11-28T12:11:03.859469Z"
    }
   },
   "outputs": [
    {
     "name": "stdout",
     "output_type": "stream",
     "text": [
      "좋아하는 과일은?배\n",
      "오답입니다.\n"
     ]
    }
   ],
   "source": [
    "# 120\n",
    "\n",
    "fruit = {\"봄\" : \"딸기\", \"여름\" : \"토마토\", \"가을\" : \"사과\"}\n",
    "user = input(\"좋아하는 과일은?\")\n",
    "if user in fruit.values():\n",
    "    print(\"정답입니다.\")\n",
    "else:\n",
    "    print(\"오답입니다.\")\n"
   ]
  },
  {
   "cell_type": "code",
   "execution_count": 8,
   "id": "af448fba",
   "metadata": {
    "ExecuteTime": {
     "end_time": "2023-11-28T11:46:07.410695Z",
     "start_time": "2023-11-28T11:46:05.813929Z"
    }
   },
   "outputs": [
    {
     "name": "stdout",
     "output_type": "stream",
     "text": [
      "문자: a\n",
      "A\n"
     ]
    }
   ],
   "source": [
    "# 121 사용자로부터 문자 한 개를 입력 받고, 소문자일 경우 대문자로, 대문자 일 경우, 소문자로 변경해서 출력하라.\n",
    "\n",
    "user = input(\"문자: \")\n",
    "if user.islower() == True:\n",
    "    print(user.upper())\n",
    "else:\n",
    "    print(user.lower())"
   ]
  },
  {
   "cell_type": "code",
   "execution_count": 6,
   "id": "54baede3",
   "metadata": {
    "ExecuteTime": {
     "end_time": "2023-11-28T11:50:30.138618Z",
     "start_time": "2023-11-28T11:50:27.120585Z"
    }
   },
   "outputs": [
    {
     "name": "stdout",
     "output_type": "stream",
     "text": [
      "점수: 41\n",
      "grade is C\n"
     ]
    }
   ],
   "source": [
    "# 122 점수 구간에 해당하는 학점이 아래와 같이 정의되어 있다. 사용자로부터 score를 입력받아 학점을 출력하라.\n",
    "\n",
    "score = input(\"점수: \")\n",
    "score = int(score)\n",
    "if score > 80:\n",
    "    print(\"grade is A\")\n",
    "elif score > 60:\n",
    "    print(\"grade is B\")\n",
    "elif score > 40:\n",
    "    print(\"grade is C\")\n",
    "elif score > 20:\n",
    "    print(\"grade is D\")\n",
    "else: \n",
    "    print(\"grade is E\")"
   ]
  },
  {
   "cell_type": "code",
   "execution_count": null,
   "id": "e92c9eee",
   "metadata": {
    "ExecuteTime": {
     "start_time": "2023-11-28T11:53:12.895Z"
    }
   },
   "outputs": [],
   "source": [
    "# 123 사용자로부터 달러, 엔, 유로, 또는 위안 금액을 입력받은 후 이를 원으로 변환\n",
    "# 사용자는 100 달러, 1000 엔, 13 유로, 100 위안과 같이 금액과 통화명 사이에 공백을 넣어 입력\n",
    "\n",
    "환율 = {\"달러\": 1167, \"엔\": 1.096, \"유로\": 1268, \"위안\": 171}\n",
    "\n",
    "user = input(\"입력: \")\n",
    "\n",
    "******다시********"
   ]
  },
  {
   "cell_type": "code",
   "execution_count": 1,
   "id": "de2e4d45",
   "metadata": {
    "ExecuteTime": {
     "end_time": "2023-11-28T11:59:01.280018Z",
     "start_time": "2023-11-28T11:58:55.664846Z"
    }
   },
   "outputs": [
    {
     "name": "stdout",
     "output_type": "stream",
     "text": [
      "input number1: 4\n",
      "input number2: 5\n",
      "input number3: 9\n",
      "9\n"
     ]
    }
   ],
   "source": [
    "# 124 사용자로부터 세 개의 숫자를 입력 받은 후 가장 큰 숫자를 출력하라.\n",
    "\n",
    "user1 = input(\"input number1: \")\n",
    "user2 = input(\"input number2: \")\n",
    "user3 = input(\"input number3: \")\n",
    "user1 = int(user1)\n",
    "user2 = int(user2)\n",
    "user3 = int(user3)\n",
    "\n",
    "if user1 >= user2 and user1 >= user3:\n",
    "    print(user1)\n",
    "elif user2 >= user1 and user2 >= user3:\n",
    "    print(user2)\n",
    "else:\n",
    "    print(user3)"
   ]
  },
  {
   "cell_type": "code",
   "execution_count": 2,
   "id": "7edff7dc",
   "metadata": {
    "ExecuteTime": {
     "end_time": "2023-11-28T12:08:28.035471Z",
     "start_time": "2023-11-28T12:08:25.830479Z"
    }
   },
   "outputs": [
    {
     "name": "stdout",
     "output_type": "stream",
     "text": [
      "휴대전화 번호 입력: 010\n",
      "당신은 알수없음 사용자입니다.\n"
     ]
    }
   ],
   "source": [
    "# 125 사용자로부터 휴대전화 번호를 입력 받고, 통신사를 출력하는 프로그램을 작성하라.\n",
    "\n",
    "number = input(\"휴대전화 번호 입력: \")\n",
    "num = number.split(\"-\")[0]\n",
    "if num == \"011\":\n",
    "    com = \"SKT\"\n",
    "elif num == \"016\":\n",
    "    com = \"KT\"\n",
    "elif num == \"019\":\n",
    "    com = \"LGU\"\n",
    "else:\n",
    "    com = \"알수없음\"\n",
    "print(f\"당신은 {com} 사용자입니다.\")\n"
   ]
  },
  {
   "cell_type": "code",
   "execution_count": 1,
   "id": "e93db24d",
   "metadata": {
    "ExecuteTime": {
     "end_time": "2023-11-29T00:19:28.471298Z",
     "start_time": "2023-11-29T00:19:24.222871Z"
    }
   },
   "outputs": [
    {
     "name": "stdout",
     "output_type": "stream",
     "text": [
      "우편번호: 010000\n",
      "강북구\n"
     ]
    }
   ],
   "source": [
    "# 사용자로 부터 5자리 우편번호를 입력받고 구를 판별하라\n",
    "\n",
    "우편번호 = input(\"우편번호: \")\n",
    "우편번호 = 우편번호 [:3]\n",
    "\n",
    "if 우편번호 in [\"010\", \"011\", \"012\"]:\n",
    "    print(\"강북구\")\n",
    "elif 우편번호 in [\"013\", \"014\", \"015\"]:\n",
    "    print(\"도봉구\")\n",
    "else:\n",
    "    print(\"노원구\")"
   ]
  },
  {
   "cell_type": "code",
   "execution_count": null,
   "id": "dcf8d298",
   "metadata": {},
   "outputs": [],
   "source": []
  },
  {
   "cell_type": "code",
   "execution_count": null,
   "id": "47ec1268",
   "metadata": {},
   "outputs": [],
   "source": []
  },
  {
   "cell_type": "code",
   "execution_count": null,
   "id": "937149d0",
   "metadata": {},
   "outputs": [],
   "source": []
  }
 ],
 "metadata": {
  "kernelspec": {
   "display_name": "Python 3 (ipykernel)",
   "language": "python",
   "name": "python3"
  },
  "language_info": {
   "codemirror_mode": {
    "name": "ipython",
    "version": 3
   },
   "file_extension": ".py",
   "mimetype": "text/x-python",
   "name": "python",
   "nbconvert_exporter": "python",
   "pygments_lexer": "ipython3",
   "version": "3.11.5"
  },
  "toc": {
   "base_numbering": 1,
   "nav_menu": {},
   "number_sections": true,
   "sideBar": true,
   "skip_h1_title": false,
   "title_cell": "Table of Contents",
   "title_sidebar": "Contents",
   "toc_cell": false,
   "toc_position": {},
   "toc_section_display": true,
   "toc_window_display": false
  }
 },
 "nbformat": 4,
 "nbformat_minor": 5
}
