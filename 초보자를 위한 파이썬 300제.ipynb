{
 "cells": [
  {
   "cell_type": "markdown",
   "id": "5dc2e023",
   "metadata": {},
   "source": [
    "# 파이썬 시작하기 (001 - 010)"
   ]
  },
  {
   "cell_type": "code",
   "execution_count": 5,
   "id": "d91e0689",
   "metadata": {
    "ExecuteTime": {
     "end_time": "2023-11-24T07:58:39.174277Z",
     "start_time": "2023-11-24T07:58:39.170119Z"
    },
    "scrolled": true
   },
   "outputs": [
    {
     "name": "stdout",
     "output_type": "stream",
     "text": [
      "Hello world\n"
     ]
    }
   ],
   "source": [
    "# 1\n",
    "\n",
    "print('Hello world')"
   ]
  },
  {
   "cell_type": "code",
   "execution_count": 6,
   "id": "b0289226",
   "metadata": {
    "ExecuteTime": {
     "end_time": "2023-11-24T07:59:15.050414Z",
     "start_time": "2023-11-24T07:59:15.046851Z"
    }
   },
   "outputs": [
    {
     "name": "stdout",
     "output_type": "stream",
     "text": [
      "Mary's cosmetics\n"
     ]
    }
   ],
   "source": [
    "# 2\n",
    "\n",
    "print(\"Mary's cosmetics\")"
   ]
  },
  {
   "cell_type": "code",
   "execution_count": 7,
   "id": "0389be32",
   "metadata": {
    "ExecuteTime": {
     "end_time": "2023-11-24T07:59:47.435283Z",
     "start_time": "2023-11-24T07:59:47.430804Z"
    }
   },
   "outputs": [
    {
     "name": "stdout",
     "output_type": "stream",
     "text": [
      "신씨가 소리질렀다. \"도둑이야\".\n"
     ]
    }
   ],
   "source": [
    "# 3\n",
    "\n",
    "print('신씨가 소리질렀다. \"도둑이야\".')"
   ]
  },
  {
   "cell_type": "code",
   "execution_count": 11,
   "id": "9242969e",
   "metadata": {
    "ExecuteTime": {
     "end_time": "2023-11-24T08:01:01.094698Z",
     "start_time": "2023-11-24T08:01:01.090685Z"
    }
   },
   "outputs": [
    {
     "name": "stdout",
     "output_type": "stream",
     "text": [
      "C:\\Windows\n"
     ]
    }
   ],
   "source": [
    "# 4\n",
    "# 파이썬은 /(슬래시)로도 경로 구분 가능\n",
    "\n",
    "print('C:\\Windows')"
   ]
  },
  {
   "cell_type": "code",
   "execution_count": 3,
   "id": "27c9eb0c",
   "metadata": {
    "ExecuteTime": {
     "end_time": "2023-12-06T07:23:38.790232Z",
     "start_time": "2023-12-06T07:23:38.786197Z"
    }
   },
   "outputs": [
    {
     "name": "stdout",
     "output_type": "stream",
     "text": [
      "안녕하세요.\n",
      "만나서\t\t반갑습니다.\n"
     ]
    }
   ],
   "source": [
    "#5 \n",
    "\n",
    "print(\"안녕하세요.\\n만나서\\t\\t반갑습니다.\")\n",
    "\n",
    "# \\n 줄바꿈\n",
    "# \\t\\t 탭!!!"
   ]
  },
  {
   "cell_type": "code",
   "execution_count": 15,
   "id": "6f6a9e62",
   "metadata": {
    "ExecuteTime": {
     "end_time": "2023-11-24T08:02:48.416072Z",
     "start_time": "2023-11-24T08:02:48.411758Z"
    }
   },
   "outputs": [
    {
     "name": "stdout",
     "output_type": "stream",
     "text": [
      "오늘은 일요일\n"
     ]
    }
   ],
   "source": [
    "#6 \n",
    "\n",
    "print(\"오늘은\", \"일요일\")\n",
    "\n",
    "# 오늘은 일요일"
   ]
  },
  {
   "cell_type": "code",
   "execution_count": 4,
   "id": "b772ce30",
   "metadata": {
    "ExecuteTime": {
     "end_time": "2023-12-06T07:24:34.651496Z",
     "start_time": "2023-12-06T07:24:34.647815Z"
    },
    "scrolled": true
   },
   "outputs": [
    {
     "name": "stdout",
     "output_type": "stream",
     "text": [
      "naver;kakao;sk;samsung\n"
     ]
    }
   ],
   "source": [
    "# 7 \n",
    "\n",
    "print('naver', 'kakao', 'sk', 'samsung', sep=\";\")\n",
    "\n",
    "# sep=\"인자\" - 공백 대신 인자 출력"
   ]
  },
  {
   "cell_type": "code",
   "execution_count": 61,
   "id": "f9842b01",
   "metadata": {
    "ExecuteTime": {
     "end_time": "2023-11-24T08:47:53.559219Z",
     "start_time": "2023-11-24T08:47:53.551749Z"
    }
   },
   "outputs": [
    {
     "data": {
      "text/plain": [
       "'naver;kakao;sk;samsung'"
      ]
     },
     "execution_count": 61,
     "metadata": {},
     "output_type": "execute_result"
    }
   ],
   "source": [
    "# join 사용 가능 - 변수 선언 / 선언 안하는 경우엔 리스트로\n",
    "\n",
    "\";\".join(['naver','kakao','sk','samsung'])"
   ]
  },
  {
   "cell_type": "code",
   "execution_count": 21,
   "id": "62542f9d",
   "metadata": {
    "ExecuteTime": {
     "end_time": "2023-11-24T08:05:35.883408Z",
     "start_time": "2023-11-24T08:05:35.880211Z"
    }
   },
   "outputs": [
    {
     "name": "stdout",
     "output_type": "stream",
     "text": [
      "naver/kakao/sk/samsung\n"
     ]
    }
   ],
   "source": [
    "print('naver', 'kakao', 'sk', 'samsung', sep=\"/\")"
   ]
  },
  {
   "cell_type": "code",
   "execution_count": 25,
   "id": "8601c140",
   "metadata": {
    "ExecuteTime": {
     "end_time": "2023-11-24T08:07:15.134835Z",
     "start_time": "2023-11-24T08:07:15.130313Z"
    }
   },
   "outputs": [
    {
     "name": "stdout",
     "output_type": "stream",
     "text": [
      "firstsecond\n"
     ]
    }
   ],
   "source": [
    "print(\"first\", end=\"\"); print(\"second\")\n",
    "\n",
    "# end=\"\" - 여러 개의 명령어들을 줄바꿈 없이 출력"
   ]
  },
  {
   "cell_type": "code",
   "execution_count": 27,
   "id": "03f36f24",
   "metadata": {
    "ExecuteTime": {
     "end_time": "2023-11-24T08:07:40.524590Z",
     "start_time": "2023-11-24T08:07:40.520227Z"
    }
   },
   "outputs": [
    {
     "name": "stdout",
     "output_type": "stream",
     "text": [
      "1.6666666666666667\n"
     ]
    }
   ],
   "source": [
    "print(5/3)"
   ]
  },
  {
   "cell_type": "markdown",
   "id": "4aa61ace",
   "metadata": {},
   "source": [
    "# 파이썬 변수 (011-020)\n",
    "* 자주 사용되는 값을 바인딩"
   ]
  },
  {
   "cell_type": "code",
   "execution_count": 33,
   "id": "d974fa7d",
   "metadata": {
    "ExecuteTime": {
     "end_time": "2023-11-24T08:09:46.981940Z",
     "start_time": "2023-11-24T08:09:46.977113Z"
    }
   },
   "outputs": [
    {
     "name": "stdout",
     "output_type": "stream",
     "text": [
      "500000\n"
     ]
    }
   ],
   "source": [
    "# 11\n",
    "\n",
    "삼성전자 = 50000 #쉼표 넣으면 안됨\n",
    "총평가금액 = 삼성전자 * 10\n",
    "print(총평가금액)"
   ]
  },
  {
   "cell_type": "code",
   "execution_count": 35,
   "id": "c74cab7e",
   "metadata": {
    "ExecuteTime": {
     "end_time": "2023-11-24T08:13:50.957056Z",
     "start_time": "2023-11-24T08:13:50.951796Z"
    }
   },
   "outputs": [],
   "source": [
    "# 12\n",
    "\n",
    "시가총액 = 298000000000000\n",
    "현재가 = 50000\n",
    "PER = 15.79"
   ]
  },
  {
   "cell_type": "code",
   "execution_count": 42,
   "id": "d40a4a2b",
   "metadata": {
    "ExecuteTime": {
     "end_time": "2023-11-24T08:16:25.786727Z",
     "start_time": "2023-11-24T08:16:25.782373Z"
    }
   },
   "outputs": [
    {
     "name": "stdout",
     "output_type": "stream",
     "text": [
      "hello! python\n"
     ]
    }
   ],
   "source": [
    "# 13\n",
    "\n",
    "s = \"hello\"\n",
    "t = \"python\"\n",
    "print(s+\"!\", t) \n",
    "\n",
    "# 문자열 연산!!"
   ]
  },
  {
   "cell_type": "code",
   "execution_count": 12,
   "id": "7dffd5cd",
   "metadata": {
    "ExecuteTime": {
     "end_time": "2023-12-06T07:29:50.010025Z",
     "start_time": "2023-12-06T07:29:50.007978Z"
    }
   },
   "outputs": [],
   "source": [
    "# 14\n",
    "# 2 + 2 * 3 = 8"
   ]
  },
  {
   "cell_type": "code",
   "execution_count": 13,
   "id": "62680c90",
   "metadata": {
    "ExecuteTime": {
     "end_time": "2023-12-06T07:29:56.617657Z",
     "start_time": "2023-12-06T07:29:56.610142Z"
    }
   },
   "outputs": [
    {
     "data": {
      "text/plain": [
       "str"
      ]
     },
     "execution_count": 13,
     "metadata": {},
     "output_type": "execute_result"
    }
   ],
   "source": [
    "#15 \n",
    "\n",
    "a = \"132\"\n",
    "type(a)"
   ]
  },
  {
   "cell_type": "code",
   "execution_count": 16,
   "id": "6c712316",
   "metadata": {
    "ExecuteTime": {
     "end_time": "2023-12-06T07:31:53.435180Z",
     "start_time": "2023-12-06T07:31:53.431590Z"
    }
   },
   "outputs": [
    {
     "name": "stdout",
     "output_type": "stream",
     "text": [
      "720 <class 'int'>\n"
     ]
    }
   ],
   "source": [
    "# 16\n",
    "num_str = \"720\"\n",
    "num_int = int(num_str)\n",
    "print(num_int, type(num_int))\n",
    "\n",
    "# 형변환 - 변환타입(값)"
   ]
  },
  {
   "cell_type": "code",
   "execution_count": 17,
   "id": "462081ac",
   "metadata": {
    "ExecuteTime": {
     "end_time": "2023-12-06T07:32:02.044097Z",
     "start_time": "2023-12-06T07:32:02.039623Z"
    }
   },
   "outputs": [
    {
     "name": "stdout",
     "output_type": "stream",
     "text": [
      "100 <class 'str'>\n"
     ]
    }
   ],
   "source": [
    "# 17\n",
    "num = 100\n",
    "num_str = str(num)\n",
    "print(num_str, type(num_str))"
   ]
  },
  {
   "cell_type": "code",
   "execution_count": 21,
   "id": "50b877a3",
   "metadata": {
    "ExecuteTime": {
     "end_time": "2023-12-06T07:33:16.894132Z",
     "start_time": "2023-12-06T07:33:16.890653Z"
    }
   },
   "outputs": [
    {
     "name": "stdout",
     "output_type": "stream",
     "text": [
      "15.79 <class 'float'>\n"
     ]
    }
   ],
   "source": [
    "# 18\n",
    "str = \"15.79\"\n",
    "str_flo = float(str)\n",
    "print(str_flo, type(str_flo))"
   ]
  },
  {
   "cell_type": "code",
   "execution_count": 23,
   "id": "33dc79ff",
   "metadata": {
    "ExecuteTime": {
     "end_time": "2023-12-06T07:33:35.017193Z",
     "start_time": "2023-12-06T07:33:35.011417Z"
    }
   },
   "outputs": [
    {
     "name": "stdout",
     "output_type": "stream",
     "text": [
      "2017\n",
      "2018\n",
      "2019\n"
     ]
    }
   ],
   "source": [
    "# 19\n",
    "\n",
    "year = \"2020\"\n",
    "year = int(year)\n",
    "print(int(year)-3)\n",
    "print(int(year)-2)\n",
    "print(int(year)-1)"
   ]
  },
  {
   "cell_type": "code",
   "execution_count": 24,
   "id": "568a9147",
   "metadata": {
    "ExecuteTime": {
     "end_time": "2023-12-06T07:34:00.786827Z",
     "start_time": "2023-12-06T07:34:00.781414Z"
    }
   },
   "outputs": [
    {
     "name": "stdout",
     "output_type": "stream",
     "text": [
      "1749024\n"
     ]
    }
   ],
   "source": [
    "# 20\n",
    "\n",
    "월요금 = 48584\n",
    "총금액 = 월요금 * 36\n",
    "print(총금액)"
   ]
  },
  {
   "cell_type": "markdown",
   "id": "f578b270",
   "metadata": {},
   "source": [
    "# 파이썬 문자열 (021-050)"
   ]
  },
  {
   "cell_type": "code",
   "execution_count": 10,
   "id": "f45eaca1",
   "metadata": {
    "ExecuteTime": {
     "end_time": "2023-12-06T07:27:48.242049Z",
     "start_time": "2023-12-06T07:27:48.238879Z"
    }
   },
   "outputs": [
    {
     "name": "stdout",
     "output_type": "stream",
     "text": [
      "p t\n"
     ]
    }
   ],
   "source": [
    "# 21\n",
    "letters = 'python'\n",
    "print(letters[0],letters[2])"
   ]
  },
  {
   "cell_type": "code",
   "execution_count": 25,
   "id": "49508a40",
   "metadata": {
    "ExecuteTime": {
     "end_time": "2023-12-06T07:34:46.506870Z",
     "start_time": "2023-12-06T07:34:46.502953Z"
    }
   },
   "outputs": [
    {
     "name": "stdout",
     "output_type": "stream",
     "text": [
      "2210\n"
     ]
    }
   ],
   "source": [
    "# 22\n",
    "license_plate = \"24가 2210\"\n",
    "print(license_plate[-4:])"
   ]
  },
  {
   "cell_type": "code",
   "execution_count": 26,
   "id": "bb1796c8",
   "metadata": {
    "ExecuteTime": {
     "end_time": "2023-12-06T07:34:53.736085Z",
     "start_time": "2023-12-06T07:34:53.732165Z"
    }
   },
   "outputs": [
    {
     "name": "stdout",
     "output_type": "stream",
     "text": [
      "홀홀홀\n"
     ]
    }
   ],
   "source": [
    "# 23.\n",
    "\n",
    "string = \"홀짝홀짝홀짝\"\n",
    "print(string[0:6:2])\n",
    "\n",
    "# 시작:끝:오프셋(건너뛸 자리수)"
   ]
  },
  {
   "cell_type": "code",
   "execution_count": 27,
   "id": "7d419eb6",
   "metadata": {
    "ExecuteTime": {
     "end_time": "2023-12-06T07:36:55.987893Z",
     "start_time": "2023-12-06T07:36:55.983370Z"
    }
   },
   "outputs": [
    {
     "name": "stdout",
     "output_type": "stream",
     "text": [
      "NOHTYP\n"
     ]
    }
   ],
   "source": [
    "# 24\n",
    "\n",
    "string = \"PYTHON\"\n",
    "print(string[::-1])\n",
    "\n",
    "# 문자열 거꾸로 뒤집기: 인덱싱-오프셋 = -1"
   ]
  },
  {
   "cell_type": "code",
   "execution_count": 30,
   "id": "bdbbdbc7",
   "metadata": {
    "ExecuteTime": {
     "end_time": "2023-12-06T07:37:53.616753Z",
     "start_time": "2023-12-06T07:37:53.612620Z"
    },
    "scrolled": true
   },
   "outputs": [
    {
     "name": "stdout",
     "output_type": "stream",
     "text": [
      "010 1111 2222\n"
     ]
    }
   ],
   "source": [
    "# 25\n",
    "\n",
    "phone_number = \"010-1111-2222\"\n",
    "phone_number1 = phone_number.replace(\"-\", \" \")\n",
    "print(phone_number1)\n",
    "\n",
    "# 치환 매서드 Repalce(\"바꾸고 싶은 값\", \"바꿀 값\")"
   ]
  },
  {
   "cell_type": "code",
   "execution_count": 31,
   "id": "99016d21",
   "metadata": {
    "ExecuteTime": {
     "end_time": "2023-12-06T07:38:34.567920Z",
     "start_time": "2023-12-06T07:38:34.563397Z"
    }
   },
   "outputs": [
    {
     "name": "stdout",
     "output_type": "stream",
     "text": [
      "01011112222\n"
     ]
    }
   ],
   "source": [
    "# 26\n",
    "\n",
    "phone_number = \"010-1111-2222\"\n",
    "phone_number1 = phone_number.replace(\"-\", \"\")\n",
    "print(phone_number1)"
   ]
  },
  {
   "cell_type": "code",
   "execution_count": 36,
   "id": "77faabca",
   "metadata": {
    "ExecuteTime": {
     "end_time": "2023-11-26T08:48:49.427598Z",
     "start_time": "2023-11-26T08:48:49.422891Z"
    }
   },
   "outputs": [
    {
     "name": "stdout",
     "output_type": "stream",
     "text": [
      "kr\n"
     ]
    }
   ],
   "source": [
    "# 27\n",
    "\n",
    "url = \"http://sharebook.kr\"\n",
    "print(url[-2:])"
   ]
  },
  {
   "cell_type": "code",
   "execution_count": 32,
   "id": "73f8cb6d",
   "metadata": {
    "ExecuteTime": {
     "end_time": "2023-12-06T07:39:39.171314Z",
     "start_time": "2023-12-06T07:39:39.153977Z"
    }
   },
   "outputs": [
    {
     "ename": "TypeError",
     "evalue": "'str' object does not support item assignment",
     "output_type": "error",
     "traceback": [
      "\u001b[1;31m---------------------------------------------------------------------------\u001b[0m",
      "\u001b[1;31mTypeError\u001b[0m                                 Traceback (most recent call last)",
      "Cell \u001b[1;32mIn[32], line 4\u001b[0m\n\u001b[0;32m      1\u001b[0m \u001b[38;5;66;03m#28\u001b[39;00m\n\u001b[0;32m      3\u001b[0m lang \u001b[38;5;241m=\u001b[39m \u001b[38;5;124m'\u001b[39m\u001b[38;5;124mpython\u001b[39m\u001b[38;5;124m'\u001b[39m\n\u001b[1;32m----> 4\u001b[0m lang[\u001b[38;5;241m0\u001b[39m] \u001b[38;5;241m=\u001b[39m \u001b[38;5;124m'\u001b[39m\u001b[38;5;124mp\u001b[39m\u001b[38;5;124m'\u001b[39m\n\u001b[0;32m      5\u001b[0m \u001b[38;5;28mprint\u001b[39m(lang)\n",
      "\u001b[1;31mTypeError\u001b[0m: 'str' object does not support item assignment"
     ]
    }
   ],
   "source": [
    "#28\n",
    "\n",
    "lang = 'python'\n",
    "lang[0] = 'p'\n",
    "print(lang)\n",
    "# 에러 발생 - 문자열은 수정 불가"
   ]
  },
  {
   "cell_type": "code",
   "execution_count": 36,
   "id": "b992f2ff",
   "metadata": {
    "ExecuteTime": {
     "end_time": "2023-12-06T07:41:38.516483Z",
     "start_time": "2023-12-06T07:41:38.511493Z"
    }
   },
   "outputs": [
    {
     "name": "stdout",
     "output_type": "stream",
     "text": [
      "Abcdfe2A354A32A\n"
     ]
    }
   ],
   "source": [
    "# 29\n",
    "\n",
    "string = 'abcdfe2a354a32a'\n",
    "str = string.replace(\"a\", \"A\")\n",
    "print(str)"
   ]
  },
  {
   "cell_type": "code",
   "execution_count": 37,
   "id": "53a08363",
   "metadata": {
    "ExecuteTime": {
     "end_time": "2023-12-06T07:42:50.811103Z",
     "start_time": "2023-12-06T07:42:50.807887Z"
    }
   },
   "outputs": [
    {
     "name": "stdout",
     "output_type": "stream",
     "text": [
      "abcd\n"
     ]
    }
   ],
   "source": [
    "# 30\n",
    "\n",
    "string = 'abcd'\n",
    "string.replace('b', 'B')\n",
    "print(string)\n",
    "\n",
    "# 문자열은 변경할 수 없기에 변경x\n",
    "# replace매서드는 원본을 그대로 두고 변경된 새로운 객체를 리턴해줌\n",
    "# 따라서 replace 값을 받을 객체 선언 필요"
   ]
  },
  {
   "cell_type": "code",
   "execution_count": 38,
   "id": "7f3b1c3a",
   "metadata": {
    "ExecuteTime": {
     "end_time": "2023-12-06T07:43:28.180868Z",
     "start_time": "2023-12-06T07:43:28.176984Z"
    }
   },
   "outputs": [
    {
     "name": "stdout",
     "output_type": "stream",
     "text": [
      "34\n"
     ]
    }
   ],
   "source": [
    "# 31\n",
    "\n",
    "a = \"3\"\n",
    "b = \"4\"\n",
    "print(a + b)\n",
    "\n",
    "# 34"
   ]
  },
  {
   "cell_type": "code",
   "execution_count": 40,
   "id": "931622dc",
   "metadata": {
    "ExecuteTime": {
     "end_time": "2023-12-06T07:46:40.964889Z",
     "start_time": "2023-12-06T07:46:40.960354Z"
    }
   },
   "outputs": [
    {
     "name": "stdout",
     "output_type": "stream",
     "text": [
      "HiHiHi\n"
     ]
    }
   ],
   "source": [
    "# 32\n",
    "print(\"Hi\" * 3)\n",
    "# HiHiHi"
   ]
  },
  {
   "cell_type": "code",
   "execution_count": 33,
   "id": "98d67c45",
   "metadata": {
    "ExecuteTime": {
     "end_time": "2023-12-06T07:40:07.508051Z",
     "start_time": "2023-12-06T07:40:07.503258Z"
    }
   },
   "outputs": [
    {
     "name": "stdout",
     "output_type": "stream",
     "text": [
      "--------------------------------------------------------------------------------\n"
     ]
    }
   ],
   "source": [
    "# 33\n",
    "\n",
    "a = '-' * 80\n",
    "print(a)"
   ]
  },
  {
   "cell_type": "code",
   "execution_count": 44,
   "id": "8b227a26",
   "metadata": {
    "ExecuteTime": {
     "end_time": "2023-12-06T07:51:49.333975Z",
     "start_time": "2023-12-06T07:51:49.330277Z"
    }
   },
   "outputs": [
    {
     "name": "stdout",
     "output_type": "stream",
     "text": [
      "python java python java python java python java \n"
     ]
    }
   ],
   "source": [
    "# 34\n",
    "\n",
    "t1 = 'python'\n",
    "t2 = 'java'\n",
    "print((t1 + ' ' + t2 + ' ') * 4)"
   ]
  },
  {
   "cell_type": "code",
   "execution_count": 52,
   "id": "ac4613d8",
   "metadata": {
    "ExecuteTime": {
     "end_time": "2023-11-26T13:46:34.148739Z",
     "start_time": "2023-11-26T13:46:34.139973Z"
    }
   },
   "outputs": [
    {
     "name": "stdout",
     "output_type": "stream",
     "text": [
      "이름: 김민수 나이: 10\n",
      "이름: 이철희 나이: 13\n"
     ]
    }
   ],
   "source": [
    "# 35\n",
    "\n",
    "name1 = \"김민수\" \n",
    "age1 = 10\n",
    "name2 = \"이철희\"\n",
    "age2 = 13\n",
    "\n",
    "print(\"이름: %s 나이: %d\" % (name1, age1))\n",
    "print(\"이름: %s 나이: %d\" % (name2, age2))\n",
    "\n",
    "# formatting 문자열 데이터타입 %s, 정수형 데이터타입 %d "
   ]
  },
  {
   "cell_type": "code",
   "execution_count": 59,
   "id": "5f01a993",
   "metadata": {
    "ExecuteTime": {
     "end_time": "2023-11-26T13:59:20.074382Z",
     "start_time": "2023-11-26T13:59:20.066743Z"
    }
   },
   "outputs": [
    {
     "name": "stdout",
     "output_type": "stream",
     "text": [
      "이름: 김민수 나이: 10\n",
      "이름: 이철희 나이: 13\n"
     ]
    }
   ],
   "source": [
    "# 36 문자열의 format( ) 메서드를 사용\n",
    "\n",
    "name1 = \"김민수\" \n",
    "age1 = 10\n",
    "name2 = \"이철희\"\n",
    "age2 = 13\n",
    "\n",
    "print(\"이름: {} 나이: {}\".format(name1, age1))\n",
    "print(\"이름: {} 나이: {}\".format(name2, age2))"
   ]
  },
  {
   "cell_type": "code",
   "execution_count": 45,
   "id": "546b945b",
   "metadata": {
    "ExecuteTime": {
     "end_time": "2023-12-06T08:11:20.634044Z",
     "start_time": "2023-12-06T08:11:20.629358Z"
    }
   },
   "outputs": [
    {
     "name": "stdout",
     "output_type": "stream",
     "text": [
      "이름: 김민수 나이: 10\n",
      "이름: 이철희 나이: 13\n"
     ]
    }
   ],
   "source": [
    "# 37 문자열의 f-string 사용\n",
    "\n",
    "name1 = \"김민수\" \n",
    "age1 = 10\n",
    "name2 = \"이철희\"\n",
    "age2 = 13\n",
    "\n",
    "print(f\"이름: {name1} 나이: {age1}\")\n",
    "print(f\"이름: {name2} 나이: {age2}\")\n",
    "\n",
    "# f.\"출력할 내용 {변수}\""
   ]
  },
  {
   "cell_type": "code",
   "execution_count": 78,
   "id": "b34e9039",
   "metadata": {
    "ExecuteTime": {
     "end_time": "2023-11-26T14:04:59.512269Z",
     "start_time": "2023-11-26T14:04:59.502812Z"
    }
   },
   "outputs": [
    {
     "name": "stdout",
     "output_type": "stream",
     "text": [
      "5969782550 <class 'int'>\n"
     ]
    }
   ],
   "source": [
    "# 38 컴마를 제거한 후 이를 정수 타입으로 변환\n",
    "\n",
    "상장주식수 = \"5,969,782,550\"\n",
    "컴마제거 = 상장주식수.replace(\",\", \"\")\n",
    "타입변환 = int(컴마제거)\n",
    "print(타입변환, type(타입변환))"
   ]
  },
  {
   "cell_type": "code",
   "execution_count": 47,
   "id": "7a01f749",
   "metadata": {
    "ExecuteTime": {
     "end_time": "2023-12-06T08:12:05.451679Z",
     "start_time": "2023-12-06T08:12:05.447792Z"
    }
   },
   "outputs": [
    {
     "name": "stdout",
     "output_type": "stream",
     "text": [
      "2020/03\n"
     ]
    }
   ],
   "source": [
    "# '39\n",
    "\n",
    "분기 = \"2020/03(E) (IFRS연결)\"\n",
    "print(분기[:7])"
   ]
  },
  {
   "cell_type": "code",
   "execution_count": 48,
   "id": "cd94359f",
   "metadata": {
    "ExecuteTime": {
     "end_time": "2023-12-06T08:12:11.275240Z",
     "start_time": "2023-12-06T08:12:11.268846Z"
    }
   },
   "outputs": [
    {
     "data": {
      "text/plain": [
       "'삼성전자'"
      ]
     },
     "execution_count": 48,
     "metadata": {},
     "output_type": "execute_result"
    }
   ],
   "source": [
    "# 40\n",
    "\n",
    "data = \"   삼성전자    \"\n",
    "data.strip()\n",
    "\n",
    "# strip 매서드 = 공백제거"
   ]
  },
  {
   "cell_type": "code",
   "execution_count": 49,
   "id": "47cf5e0e",
   "metadata": {
    "ExecuteTime": {
     "end_time": "2023-12-06T08:13:20.303102Z",
     "start_time": "2023-12-06T08:13:20.299024Z"
    }
   },
   "outputs": [
    {
     "data": {
      "text/plain": [
       "'BTC_KRW'"
      ]
     },
     "execution_count": 49,
     "metadata": {},
     "output_type": "execute_result"
    }
   ],
   "source": [
    "# 41\n",
    "\n",
    "ticker = \"btc_krw\"\n",
    "ticker.upper()\n",
    "\n",
    "# upper 매서드 = 대문자 변경"
   ]
  },
  {
   "cell_type": "code",
   "execution_count": 90,
   "id": "8a1b73f6",
   "metadata": {
    "ExecuteTime": {
     "end_time": "2023-11-26T14:12:14.599357Z",
     "start_time": "2023-11-26T14:12:14.588796Z"
    }
   },
   "outputs": [
    {
     "data": {
      "text/plain": [
       "'btc_krw'"
      ]
     },
     "execution_count": 90,
     "metadata": {},
     "output_type": "execute_result"
    }
   ],
   "source": [
    "# 42 소문자로 변경 lower 매서드\n",
    "\n",
    "ticker = \"BTC_KRW\"\n",
    "ticker.lower()"
   ]
  },
  {
   "cell_type": "code",
   "execution_count": 50,
   "id": "d374b961",
   "metadata": {
    "ExecuteTime": {
     "end_time": "2023-12-06T08:14:10.162679Z",
     "start_time": "2023-12-06T08:14:10.158884Z"
    }
   },
   "outputs": [
    {
     "data": {
      "text/plain": [
       "'Hello'"
      ]
     },
     "execution_count": 50,
     "metadata": {},
     "output_type": "execute_result"
    }
   ],
   "source": [
    "# 43 capitalize 함수 - 첫글자 대문자 변환 \n",
    "\n",
    "a = \"hello\"\n",
    "a.capitalize()"
   ]
  },
  {
   "cell_type": "code",
   "execution_count": 53,
   "id": "83807efe",
   "metadata": {
    "ExecuteTime": {
     "end_time": "2023-12-06T08:14:43.253270Z",
     "start_time": "2023-12-06T08:14:43.248933Z"
    }
   },
   "outputs": [
    {
     "data": {
      "text/plain": [
       "True"
      ]
     },
     "execution_count": 53,
     "metadata": {},
     "output_type": "execute_result"
    }
   ],
   "source": [
    "# 44 endswith 함수 - 문자열이 지정한 문자열로 끝나는지 체크 (T/F)\n",
    "file_name = \"보고서.xlsx\"\n",
    "file_name.endswith(\"xlsx\")"
   ]
  },
  {
   "cell_type": "code",
   "execution_count": 56,
   "id": "0bc544e5",
   "metadata": {
    "ExecuteTime": {
     "end_time": "2023-12-06T08:15:37.704907Z",
     "start_time": "2023-12-06T08:15:37.699176Z"
    }
   },
   "outputs": [
    {
     "data": {
      "text/plain": [
       "True"
      ]
     },
     "execution_count": 56,
     "metadata": {},
     "output_type": "execute_result"
    }
   ],
   "source": [
    "# 45 endswith 함수 - 문자열이 지정한 문자열로 끝나는지 체크 (T/F)\n",
    "file_name = \"보고서.xlsx\"\n",
    "file_name.endswith(('xlsx', 'xls'))"
   ]
  },
  {
   "cell_type": "code",
   "execution_count": 98,
   "id": "9b72bc16",
   "metadata": {
    "ExecuteTime": {
     "end_time": "2023-11-26T14:22:40.495562Z",
     "start_time": "2023-11-26T14:22:40.485102Z"
    }
   },
   "outputs": [
    {
     "data": {
      "text/plain": [
       "True"
      ]
     },
     "execution_count": 98,
     "metadata": {},
     "output_type": "execute_result"
    }
   ],
   "source": [
    "# 46 startswith 함수 - 문자열이 지정한 문자열로 시작하지 체크 (T/F)\n",
    "file_name = \"2020_보고서.xlsx\"\n",
    "file_name.startswith('2020')"
   ]
  },
  {
   "cell_type": "code",
   "execution_count": 57,
   "id": "f60b1c52",
   "metadata": {
    "ExecuteTime": {
     "end_time": "2023-12-06T08:15:55.884718Z",
     "start_time": "2023-12-06T08:15:55.879313Z"
    }
   },
   "outputs": [
    {
     "data": {
      "text/plain": [
       "['hello', 'world']"
      ]
     },
     "execution_count": 57,
     "metadata": {},
     "output_type": "execute_result"
    }
   ],
   "source": [
    "# 47 split - 문자열에서 공백 기준으로 분리\n",
    "a = \"hello world\"\n",
    "a.split()"
   ]
  },
  {
   "cell_type": "code",
   "execution_count": 58,
   "id": "e3a36aea",
   "metadata": {
    "ExecuteTime": {
     "end_time": "2023-12-06T08:16:13.343538Z",
     "start_time": "2023-12-06T08:16:13.338394Z"
    }
   },
   "outputs": [
    {
     "data": {
      "text/plain": [
       "['btc', 'krw']"
      ]
     },
     "execution_count": 58,
     "metadata": {},
     "output_type": "execute_result"
    }
   ],
   "source": [
    "# 48 \n",
    "\n",
    "ticker = \"btc_krw\"\n",
    "ticker.split('_')"
   ]
  },
  {
   "cell_type": "code",
   "execution_count": 59,
   "id": "205d099c",
   "metadata": {
    "ExecuteTime": {
     "end_time": "2023-12-06T08:16:20.604354Z",
     "start_time": "2023-12-06T08:16:20.600351Z"
    }
   },
   "outputs": [
    {
     "data": {
      "text/plain": [
       "['2020', '05', '01']"
      ]
     },
     "execution_count": 59,
     "metadata": {},
     "output_type": "execute_result"
    }
   ],
   "source": [
    "# 49\n",
    "\n",
    "date = \"2020-05-01\"\n",
    "date.split('-')"
   ]
  },
  {
   "cell_type": "code",
   "execution_count": 61,
   "id": "9b05a51f",
   "metadata": {
    "ExecuteTime": {
     "end_time": "2023-12-06T08:16:55.584383Z",
     "start_time": "2023-12-06T08:16:55.580233Z"
    }
   },
   "outputs": [
    {
     "data": {
      "text/plain": [
       "'039490'"
      ]
     },
     "execution_count": 61,
     "metadata": {},
     "output_type": "execute_result"
    }
   ],
   "source": [
    "# 50 rstrip 매서드 - 문자열 오른쪽 공백 제거\n",
    "\n",
    "data = \"039490     \"\n",
    "data.rstrip()"
   ]
  },
  {
   "cell_type": "markdown",
   "id": "c8d1be5b",
   "metadata": {},
   "source": [
    "# 파이썬 리스트 (051-070\n",
    "* 순서가 있고 수정 가능한 자료구조"
   ]
  },
  {
   "cell_type": "code",
   "execution_count": 64,
   "id": "73f3d899",
   "metadata": {
    "ExecuteTime": {
     "end_time": "2023-12-06T08:18:40.073755Z",
     "start_time": "2023-12-06T08:18:40.070730Z"
    }
   },
   "outputs": [],
   "source": [
    "# 51\n",
    "\n",
    "movie_rank = ['닥터 스트레인지', '스플릿', '럭키']"
   ]
  },
  {
   "cell_type": "code",
   "execution_count": 68,
   "id": "c9e8b7f4",
   "metadata": {
    "ExecuteTime": {
     "end_time": "2023-12-06T08:19:42.473542Z",
     "start_time": "2023-12-06T08:19:42.470858Z"
    }
   },
   "outputs": [
    {
     "name": "stdout",
     "output_type": "stream",
     "text": [
      "['닥터 스트레인지', '스플릿', '럭키', '베트맨']\n"
     ]
    }
   ],
   "source": [
    "# 52 append 매서드 - 리스트 요소 추가\n",
    "\n",
    "movie_rank = ['닥터 스트레인지', '스플릿', '럭키']\n",
    "movie_rank.append('베트맨')\n",
    "print(movie_rank)"
   ]
  },
  {
   "cell_type": "code",
   "execution_count": 70,
   "id": "f07e8c4b",
   "metadata": {
    "ExecuteTime": {
     "end_time": "2023-12-06T08:20:44.003059Z",
     "start_time": "2023-12-06T08:20:43.999699Z"
    }
   },
   "outputs": [
    {
     "name": "stdout",
     "output_type": "stream",
     "text": [
      "['닥터 스트레인지', '슈퍼맨', '스플릿', '럭키', '배트맨']\n"
     ]
    }
   ],
   "source": [
    "# 53 insert(인덱스, 원소) > 특정 위치에 값 끼워넣기\n",
    "\n",
    "movie_rank = ['닥터 스트레인지', '스플릿', '럭키', '배트맨']\n",
    "movie_rank.insert(1, \"슈퍼맨\")\n",
    "print(movie_rank)"
   ]
  },
  {
   "cell_type": "code",
   "execution_count": 76,
   "id": "60c99bb9",
   "metadata": {
    "ExecuteTime": {
     "end_time": "2023-12-06T08:22:32.211399Z",
     "start_time": "2023-12-06T08:22:32.207832Z"
    }
   },
   "outputs": [
    {
     "name": "stdout",
     "output_type": "stream",
     "text": [
      "['닥터 스트레인지', '슈퍼맨', '스플릿', '배트맨']\n"
     ]
    }
   ],
   "source": [
    "# 54\n",
    "\n",
    "movie_rank = ['닥터 스트레인지', '슈퍼맨', '스플릿', '럭키', '배트맨']\n",
    "del movie_rank[3]\n",
    "print(movie_rank)"
   ]
  },
  {
   "cell_type": "code",
   "execution_count": 75,
   "id": "c577cfbd",
   "metadata": {
    "ExecuteTime": {
     "end_time": "2023-12-06T08:21:54.143479Z",
     "start_time": "2023-12-06T08:21:54.139710Z"
    }
   },
   "outputs": [
    {
     "name": "stdout",
     "output_type": "stream",
     "text": [
      "['닥터 스트레인지', '슈퍼맨', '럭키']\n"
     ]
    }
   ],
   "source": [
    "# 55\n",
    "\n",
    "movie_rank = ['닥터 스트레인지', '슈퍼맨', '스플릿', '럭키', '배트맨']\n",
    "del movie_rank[2]\n",
    "del movie_rank[3]\n",
    "print(movie_rank)"
   ]
  },
  {
   "cell_type": "code",
   "execution_count": 78,
   "id": "dbd066dd",
   "metadata": {
    "ExecuteTime": {
     "end_time": "2023-12-06T08:23:21.534350Z",
     "start_time": "2023-12-06T08:23:21.530295Z"
    }
   },
   "outputs": [
    {
     "name": "stdout",
     "output_type": "stream",
     "text": [
      "['C', 'C++', 'JAVA', 'Python', 'Go', 'C#']\n"
     ]
    }
   ],
   "source": [
    "# 56\n",
    "\n",
    "lang1 = [\"C\", \"C++\", \"JAVA\"]\n",
    "lang2 = [\"Python\", \"Go\", \"C#\"]\n",
    "\n",
    "langs = lang1 + lang2\n",
    "print(langs)"
   ]
  },
  {
   "cell_type": "code",
   "execution_count": 81,
   "id": "e96f11be",
   "metadata": {
    "ExecuteTime": {
     "end_time": "2023-12-06T08:24:33.474237Z",
     "start_time": "2023-12-06T08:24:33.470645Z"
    }
   },
   "outputs": [
    {
     "name": "stdout",
     "output_type": "stream",
     "text": [
      "max:  7\n",
      "min:  1\n"
     ]
    }
   ],
   "source": [
    "# 57\n",
    "\n",
    "nums = [1, 2, 3, 4, 5, 6, 7]\n",
    "print(\"max: \", max(nums))\n",
    "print(\"min: \", min(nums))"
   ]
  },
  {
   "cell_type": "code",
   "execution_count": 82,
   "id": "5f9d7b42",
   "metadata": {
    "ExecuteTime": {
     "end_time": "2023-12-06T08:25:08.634155Z",
     "start_time": "2023-12-06T08:25:08.630080Z"
    }
   },
   "outputs": [
    {
     "name": "stdout",
     "output_type": "stream",
     "text": [
      "15\n"
     ]
    }
   ],
   "source": [
    "# 58\n",
    "\n",
    "nums = [1, 2, 3, 4, 5]\n",
    "print(sum(nums))"
   ]
  },
  {
   "cell_type": "code",
   "execution_count": 83,
   "id": "7f044620",
   "metadata": {
    "ExecuteTime": {
     "end_time": "2023-12-06T08:25:22.014725Z",
     "start_time": "2023-12-06T08:25:22.008919Z"
    }
   },
   "outputs": [
    {
     "data": {
      "text/plain": [
       "12"
      ]
     },
     "execution_count": 83,
     "metadata": {},
     "output_type": "execute_result"
    }
   ],
   "source": [
    "# 59\n",
    "\n",
    "cook = [\"피자\", \"김밥\", \"만두\", \"양념치킨\", \"족발\", \"피자\", \"김치만두\", \"쫄면\", \"소시지\", \"라면\", \"팥빙수\", \"김치전\"]\n",
    "len(cook)"
   ]
  },
  {
   "cell_type": "code",
   "execution_count": 84,
   "id": "3c596ff5",
   "metadata": {
    "ExecuteTime": {
     "end_time": "2023-12-06T08:25:55.163108Z",
     "start_time": "2023-12-06T08:25:55.159575Z"
    }
   },
   "outputs": [
    {
     "name": "stdout",
     "output_type": "stream",
     "text": [
      "3.0\n"
     ]
    }
   ],
   "source": [
    "# 60\n",
    "\n",
    "nums = [1, 2, 3, 4, 5]\n",
    "print(sum(nums) / len(nums))"
   ]
  },
  {
   "cell_type": "code",
   "execution_count": 85,
   "id": "b7545dc3",
   "metadata": {
    "ExecuteTime": {
     "end_time": "2023-12-06T08:26:35.094089Z",
     "start_time": "2023-12-06T08:26:35.089878Z"
    }
   },
   "outputs": [
    {
     "name": "stdout",
     "output_type": "stream",
     "text": [
      "[100, 130, 140, 150, 160, 170]\n"
     ]
    }
   ],
   "source": [
    "# 61\n",
    "\n",
    "price = ['20180728', 100, 130, 140, 150, 160, 170]\n",
    "print(price[1:])"
   ]
  },
  {
   "cell_type": "code",
   "execution_count": 86,
   "id": "a7d3e257",
   "metadata": {
    "ExecuteTime": {
     "end_time": "2023-12-06T08:27:00.055530Z",
     "start_time": "2023-12-06T08:27:00.050569Z"
    }
   },
   "outputs": [
    {
     "name": "stdout",
     "output_type": "stream",
     "text": [
      "[1, 3, 5, 7, 9]\n"
     ]
    }
   ],
   "source": [
    "# 62\n",
    "\n",
    "nums = [1, 2, 3, 4, 5, 6, 7, 8, 9, 10]\n",
    "print(nums[::2])\n"
   ]
  },
  {
   "cell_type": "code",
   "execution_count": 87,
   "id": "fc4aeb41",
   "metadata": {
    "ExecuteTime": {
     "end_time": "2023-12-06T08:27:25.342277Z",
     "start_time": "2023-12-06T08:27:25.339234Z"
    }
   },
   "outputs": [
    {
     "name": "stdout",
     "output_type": "stream",
     "text": [
      "[2, 4, 6, 8, 10]\n"
     ]
    }
   ],
   "source": [
    "# 63\n",
    "\n",
    "nums = [1, 2, 3, 4, 5, 6, 7, 8, 9, 10]\n",
    "print(nums[1::2])"
   ]
  },
  {
   "cell_type": "code",
   "execution_count": 88,
   "id": "0d571be6",
   "metadata": {
    "ExecuteTime": {
     "end_time": "2023-12-06T08:27:53.572869Z",
     "start_time": "2023-12-06T08:27:53.568697Z"
    }
   },
   "outputs": [
    {
     "name": "stdout",
     "output_type": "stream",
     "text": [
      "[5, 4, 3, 2, 1]\n"
     ]
    }
   ],
   "source": [
    "# 64\n",
    "\n",
    "nums = [1, 2, 3, 4, 5]\n",
    "print(nums[::-1])"
   ]
  },
  {
   "cell_type": "code",
   "execution_count": 90,
   "id": "2bd344f2",
   "metadata": {
    "ExecuteTime": {
     "end_time": "2023-12-06T08:28:50.214233Z",
     "start_time": "2023-12-06T08:28:50.210194Z"
    }
   },
   "outputs": [
    {
     "name": "stdout",
     "output_type": "stream",
     "text": [
      "삼성전자 Naver\n"
     ]
    }
   ],
   "source": [
    "# 65\n",
    "\n",
    "interest = ['삼성전자', 'LG전자', 'Naver']\n",
    "print(interest[0], interest[2])"
   ]
  },
  {
   "cell_type": "code",
   "execution_count": 93,
   "id": "e8c1c592",
   "metadata": {
    "ExecuteTime": {
     "end_time": "2023-12-06T08:30:02.785621Z",
     "start_time": "2023-12-06T08:30:02.781258Z"
    }
   },
   "outputs": [
    {
     "name": "stdout",
     "output_type": "stream",
     "text": [
      "삼성전자 LG전자 Naver SK하이닉스 미래에셋대우\n"
     ]
    }
   ],
   "source": [
    "# 66\n",
    "\n",
    "interest = ['삼성전자', 'LG전자', 'Naver', 'SK하이닉스', '미래에셋대우']\n",
    "print(\" \".join(interest))\n",
    "\n",
    "# '구분자'.join(리스트) > 매개변수의 리스트값을 하나의 문자열로 반환"
   ]
  },
  {
   "cell_type": "code",
   "execution_count": 94,
   "id": "89390511",
   "metadata": {
    "ExecuteTime": {
     "end_time": "2023-12-06T08:32:26.785739Z",
     "start_time": "2023-12-06T08:32:26.781827Z"
    }
   },
   "outputs": [
    {
     "name": "stdout",
     "output_type": "stream",
     "text": [
      "삼성전자/LG전자/Naver/SK하이닉스/미래에셋대우\n"
     ]
    }
   ],
   "source": [
    "b"
   ]
  },
  {
   "cell_type": "code",
   "execution_count": 95,
   "id": "6b4a361f",
   "metadata": {
    "ExecuteTime": {
     "end_time": "2023-12-06T08:32:51.235511Z",
     "start_time": "2023-12-06T08:32:51.231805Z"
    }
   },
   "outputs": [
    {
     "name": "stdout",
     "output_type": "stream",
     "text": [
      "삼성전자\n",
      "LG전자\n",
      "Naver\n",
      "SK하이닉스\n",
      "미래에셋대우\n"
     ]
    }
   ],
   "source": [
    "# 68\n",
    "interest = ['삼성전자', 'LG전자', 'Naver', 'SK하이닉스', '미래에셋대우']\n",
    "print(\"\\n\".join(interest))"
   ]
  },
  {
   "cell_type": "code",
   "execution_count": 98,
   "id": "c17f6d25",
   "metadata": {
    "ExecuteTime": {
     "end_time": "2023-12-06T08:33:55.675807Z",
     "start_time": "2023-12-06T08:33:55.671584Z"
    }
   },
   "outputs": [
    {
     "name": "stdout",
     "output_type": "stream",
     "text": [
      "['삼성전자', 'LG전자', 'Naver']\n"
     ]
    }
   ],
   "source": [
    "# 69\n",
    "\n",
    "string = \"삼성전자/LG전자/Naver\"\n",
    "interest = string.split('/')\n",
    "print(interest)"
   ]
  },
  {
   "cell_type": "code",
   "execution_count": 100,
   "id": "f5666474",
   "metadata": {
    "ExecuteTime": {
     "end_time": "2023-12-06T08:34:15.597607Z",
     "start_time": "2023-12-06T08:34:15.594463Z"
    }
   },
   "outputs": [
    {
     "name": "stdout",
     "output_type": "stream",
     "text": [
      "[1, 2, 3, 4, 5, 9, 10]\n"
     ]
    }
   ],
   "source": [
    "# 70 sort 매서드 - 오름차순 정렬\n",
    "\n",
    "data = [2, 4, 3, 1, 5, 10, 9]\n",
    "data.sort()\n",
    "print(data)"
   ]
  },
  {
   "cell_type": "markdown",
   "id": "739691fe",
   "metadata": {},
   "source": [
    "# 튜플 (61-70)\n",
    "* 순서가 있지만 수정 불가능한 자료구조"
   ]
  },
  {
   "cell_type": "code",
   "execution_count": 102,
   "id": "da108134",
   "metadata": {
    "ExecuteTime": {
     "end_time": "2023-12-06T08:36:38.396292Z",
     "start_time": "2023-12-06T08:36:38.392287Z"
    }
   },
   "outputs": [],
   "source": [
    "#71 \n",
    "\n",
    "my_variable = ()"
   ]
  },
  {
   "cell_type": "code",
   "execution_count": 104,
   "id": "29532078",
   "metadata": {
    "ExecuteTime": {
     "end_time": "2023-12-06T08:37:02.067678Z",
     "start_time": "2023-12-06T08:37:02.064019Z"
    }
   },
   "outputs": [],
   "source": [
    "#72\n",
    "\n",
    "my_variable = ('닥터 스트레인지', '스플릿', '럭키')"
   ]
  },
  {
   "cell_type": "code",
   "execution_count": 108,
   "id": "5ed94732",
   "metadata": {
    "ExecuteTime": {
     "end_time": "2023-12-06T08:37:48.746934Z",
     "start_time": "2023-12-06T08:37:48.743875Z"
    }
   },
   "outputs": [],
   "source": [
    "# 73 하나의 데이터가 저장되는 경우, 쉼표를 입력해 튜플로\n",
    "\n",
    "tuple = (1, )"
   ]
  },
  {
   "cell_type": "code",
   "execution_count": 110,
   "id": "610e0772",
   "metadata": {
    "ExecuteTime": {
     "end_time": "2023-12-06T08:38:21.249400Z",
     "start_time": "2023-12-06T08:38:21.234433Z"
    }
   },
   "outputs": [
    {
     "ename": "TypeError",
     "evalue": "'tuple' object does not support item assignment",
     "output_type": "error",
     "traceback": [
      "\u001b[1;31m---------------------------------------------------------------------------\u001b[0m",
      "\u001b[1;31mTypeError\u001b[0m                                 Traceback (most recent call last)",
      "Cell \u001b[1;32mIn[110], line 3\u001b[0m\n\u001b[0;32m      1\u001b[0m \u001b[38;5;66;03m# 74\u001b[39;00m\n\u001b[0;32m      2\u001b[0m t \u001b[38;5;241m=\u001b[39m (\u001b[38;5;241m1\u001b[39m, \u001b[38;5;241m2\u001b[39m, \u001b[38;5;241m3\u001b[39m)\n\u001b[1;32m----> 3\u001b[0m t[\u001b[38;5;241m0\u001b[39m] \u001b[38;5;241m=\u001b[39m \u001b[38;5;124m'\u001b[39m\u001b[38;5;124ma\u001b[39m\u001b[38;5;124m'\u001b[39m\n",
      "\u001b[1;31mTypeError\u001b[0m: 'tuple' object does not support item assignment"
     ]
    }
   ],
   "source": [
    "# 74\n",
    "t = (1, 2, 3)\n",
    "t[0] = 'a'\n",
    "# 튜플은 수정할 수 없어서 오류"
   ]
  },
  {
   "cell_type": "code",
   "execution_count": 112,
   "id": "e10ceb85",
   "metadata": {
    "ExecuteTime": {
     "end_time": "2023-12-06T08:38:41.487296Z",
     "start_time": "2023-12-06T08:38:41.481762Z"
    }
   },
   "outputs": [
    {
     "data": {
      "text/plain": [
       "tuple"
      ]
     },
     "execution_count": 112,
     "metadata": {},
     "output_type": "execute_result"
    }
   ],
   "source": [
    "# 75 - t는 튜플을 바인딩 (괄호없이 정의해도 욈)\n",
    "\n",
    "t = 1, 2, 3, 4"
   ]
  },
  {
   "cell_type": "code",
   "execution_count": 116,
   "id": "243c5d56",
   "metadata": {
    "ExecuteTime": {
     "end_time": "2023-12-06T08:40:05.847939Z",
     "start_time": "2023-12-06T08:40:05.843439Z"
    }
   },
   "outputs": [
    {
     "name": "stdout",
     "output_type": "stream",
     "text": [
      "('A', 'B', 'C')\n"
     ]
    }
   ],
   "source": [
    "# 76 튜플은 새로 업데이트 시 이전 값 자동 삭제됨\n",
    "\n",
    "t = ('a', 'b', 'c')\n",
    "\n",
    "t = ('A', 'B', 'C')\n",
    "print(t)"
   ]
  },
  {
   "cell_type": "code",
   "execution_count": 121,
   "id": "2b2eb64d",
   "metadata": {
    "ExecuteTime": {
     "end_time": "2023-12-06T08:40:56.964095Z",
     "start_time": "2023-12-06T08:40:56.960505Z"
    }
   },
   "outputs": [
    {
     "name": "stdout",
     "output_type": "stream",
     "text": [
      "['삼성전자', 'LG전자', 'SK Hynix']\n"
     ]
    }
   ],
   "source": [
    "# 77\n",
    "\n",
    "interest = ('삼성전자', 'LG전자', 'SK Hynix')\n",
    "result = list(interest)\n",
    "print(result)"
   ]
  },
  {
   "cell_type": "code",
   "execution_count": 2,
   "id": "6039a0d1",
   "metadata": {
    "ExecuteTime": {
     "end_time": "2023-12-06T08:46:02.996437Z",
     "start_time": "2023-12-06T08:46:02.993194Z"
    }
   },
   "outputs": [
    {
     "name": "stdout",
     "output_type": "stream",
     "text": [
      "('삼성전자', 'LG전자', 'SK Hynix')\n"
     ]
    }
   ],
   "source": [
    "# 78\n",
    "\n",
    "interest = ['삼성전자', 'LG전자', 'SK Hynix']\n",
    "print(tuple(interest))"
   ]
  },
  {
   "cell_type": "code",
   "execution_count": 128,
   "id": "8c550a46",
   "metadata": {
    "ExecuteTime": {
     "end_time": "2023-12-06T08:43:45.746427Z",
     "start_time": "2023-12-06T08:43:45.742663Z"
    }
   },
   "outputs": [
    {
     "name": "stdout",
     "output_type": "stream",
     "text": [
      "apple banana cake\n"
     ]
    }
   ],
   "source": [
    "# 79\n",
    "\n",
    "temp = ('apple', 'banana', 'cake')\n",
    "a, b, c = temp\n",
    "print(a, b, c)\n",
    "\n",
    "# apple banana cake"
   ]
  },
  {
   "cell_type": "code",
   "execution_count": 1,
   "id": "70b1c8d7",
   "metadata": {
    "ExecuteTime": {
     "end_time": "2023-12-06T08:45:59.180828Z",
     "start_time": "2023-12-06T08:45:59.167925Z"
    }
   },
   "outputs": [
    {
     "name": "stdout",
     "output_type": "stream",
     "text": [
      "(2, 4, 6, 8, 10, 12, 14, 16, 18, 20, 22, 24, 26, 28, 30, 32, 34, 36, 38, 40, 42, 44, 46, 48, 50, 52, 54, 56, 58, 60, 62, 64, 66, 68, 70, 72, 74, 76, 78, 80, 82, 84, 86, 88, 90, 92, 94, 96, 98)\n"
     ]
    }
   ],
   "source": [
    "# 80\n",
    "\n",
    "a = tuple(range(2,100,2))\n",
    "print(a)"
   ]
  },
  {
   "cell_type": "markdown",
   "id": "7b5c0c23",
   "metadata": {},
   "source": [
    "# 딕셔너리 (81-100)\n",
    "* 파이썬 딕셔너리는 순서는 없지만 key와 value 형태로 데이터를 저장\n",
    "* 특히 key는 데이터의 레이블(label)을 지정하는 용도로 자주 사용"
   ]
  },
  {
   "cell_type": "code",
   "execution_count": 3,
   "id": "c0294d45",
   "metadata": {
    "ExecuteTime": {
     "end_time": "2023-12-06T08:47:54.360543Z",
     "start_time": "2023-12-06T08:47:54.356610Z"
    }
   },
   "outputs": [
    {
     "name": "stdout",
     "output_type": "stream",
     "text": [
      "[8.8, 8.9, 8.7, 9.2, 9.3, 9.7, 9.9, 9.5]\n"
     ]
    }
   ],
   "source": [
    "# 81 star expression: 특정 데이터 개수만큼 데이터 언패킹\n",
    "\n",
    "scores = [8.8, 8.9, 8.7, 9.2, 9.3, 9.7, 9.9, 9.5, 7.8, 9.4]\n",
    "*valid_score, a, b = scores\n",
    "print(valid_score)"
   ]
  },
  {
   "cell_type": "code",
   "execution_count": 6,
   "id": "4b22b22c",
   "metadata": {
    "ExecuteTime": {
     "end_time": "2023-11-27T13:00:55.384753Z",
     "start_time": "2023-11-27T13:00:55.380198Z"
    }
   },
   "outputs": [
    {
     "name": "stdout",
     "output_type": "stream",
     "text": [
      "[8.7, 9.2, 9.3, 9.7, 9.9, 9.5, 7.8, 9.4]\n"
     ]
    }
   ],
   "source": [
    "# 82\n",
    "scores = [8.8, 8.9, 8.7, 9.2, 9.3, 9.7, 9.9, 9.5, 7.8, 9.4]\n",
    "a, b, *valid_score = scores\n",
    "print(valid_score)"
   ]
  },
  {
   "cell_type": "code",
   "execution_count": 7,
   "id": "8f71f3b5",
   "metadata": {
    "ExecuteTime": {
     "end_time": "2023-11-27T13:01:24.945382Z",
     "start_time": "2023-11-27T13:01:24.939859Z"
    }
   },
   "outputs": [
    {
     "name": "stdout",
     "output_type": "stream",
     "text": [
      "[8.9, 8.7, 9.2, 9.3, 9.7, 9.9, 9.5, 7.8]\n"
     ]
    }
   ],
   "source": [
    "# 83\n",
    "\n",
    "scores = [8.8, 8.9, 8.7, 9.2, 9.3, 9.7, 9.9, 9.5, 7.8, 9.4]\n",
    "a, *valid_score, b = scores\n",
    "print(valid_score)"
   ]
  },
  {
   "cell_type": "code",
   "execution_count": 13,
   "id": "ef56ab37",
   "metadata": {
    "ExecuteTime": {
     "end_time": "2023-11-27T13:02:22.962665Z",
     "start_time": "2023-11-27T13:02:22.959127Z"
    }
   },
   "outputs": [
    {
     "name": "stdout",
     "output_type": "stream",
     "text": [
      "{}\n"
     ]
    }
   ],
   "source": [
    "# 84\n",
    "\n",
    "temp = {}\n",
    "print(temp)"
   ]
  },
  {
   "cell_type": "code",
   "execution_count": 17,
   "id": "162eb816",
   "metadata": {
    "ExecuteTime": {
     "end_time": "2023-11-27T13:03:26.638976Z",
     "start_time": "2023-11-27T13:03:26.635085Z"
    },
    "scrolled": true
   },
   "outputs": [
    {
     "name": "stdout",
     "output_type": "stream",
     "text": [
      "{'메로나': 1000, '폴라포': 1200, '빵빠레': 1800}\n"
     ]
    }
   ],
   "source": [
    "# 85 딕셔너리 = {'key': value}\n",
    "\n",
    "icecream = {'메로나': 1000, '폴라포': 1200, '빵빠레': 1800}\n",
    "print(icecream)"
   ]
  },
  {
   "cell_type": "code",
   "execution_count": 20,
   "id": "ced8ca55",
   "metadata": {
    "ExecuteTime": {
     "end_time": "2023-11-27T13:05:16.650217Z",
     "start_time": "2023-11-27T13:05:16.645697Z"
    }
   },
   "outputs": [
    {
     "name": "stdout",
     "output_type": "stream",
     "text": [
      "{'메로나': 1000, '폴라포': 1200, '빵빠레': 1800, '죠스바': 1200, '월드콘': 1500}\n"
     ]
    }
   ],
   "source": [
    "# 86 딕셔너리 추가 : 변수['key']: value\n",
    "\n",
    "icecream = {'메로나': 1000, '폴라포': 1200, '빵빠레': 1800}\n",
    "icecream['죠스바'] = 1200\n",
    "icecream['월드콘'] = 1500\n",
    "print(icecream)\n"
   ]
  },
  {
   "cell_type": "code",
   "execution_count": 4,
   "id": "14029212",
   "metadata": {
    "ExecuteTime": {
     "end_time": "2023-12-10T07:34:11.001967Z",
     "start_time": "2023-12-10T07:34:10.997355Z"
    }
   },
   "outputs": [
    {
     "name": "stdout",
     "output_type": "stream",
     "text": [
      "{'메로나': 1300, '폴로포': 1200, '빵빠레': 1800, '죠스바': 1200, '월드콘': 1500}\n"
     ]
    }
   ],
   "source": [
    "# 88 딕셔너리 수정\n",
    "\n",
    "ice = {'메로나': 1000,\n",
    "       '폴로포': 1200,\n",
    "       '빵빠레': 1800,\n",
    "       '죠스바': 1200,\n",
    "       '월드콘': 1500}\n",
    "\n",
    "ice['메로나'] = 1300\n",
    "print(ice)"
   ]
  },
  {
   "cell_type": "code",
   "execution_count": 29,
   "id": "2af62423",
   "metadata": {
    "ExecuteTime": {
     "end_time": "2023-11-27T13:07:40.284966Z",
     "start_time": "2023-11-27T13:07:40.279350Z"
    }
   },
   "outputs": [
    {
     "name": "stdout",
     "output_type": "stream",
     "text": [
      "{'폴로포': 1200, '빵빠레': 1800, '죠스바': 1200, '월드콘': 1500}\n"
     ]
    }
   ],
   "source": [
    "# 89 딕셔너리 삭제: del 변수['key']\n",
    "\n",
    "ice = {'메로나': 1000,\n",
    "       '폴로포': 1200,\n",
    "       '빵빠레': 1800,\n",
    "       '죠스바': 1200,\n",
    "       '월드콘': 1500}\n",
    "\n",
    "del ice['메로나']\n",
    "print(ice)"
   ]
  },
  {
   "cell_type": "code",
   "execution_count": 3,
   "id": "6be26ba0",
   "metadata": {
    "ExecuteTime": {
     "end_time": "2023-12-10T07:32:58.714493Z",
     "start_time": "2023-12-10T07:32:58.696811Z"
    }
   },
   "outputs": [
    {
     "ename": "KeyError",
     "evalue": "'누가바'",
     "output_type": "error",
     "traceback": [
      "\u001b[1;31m---------------------------------------------------------------------------\u001b[0m",
      "\u001b[1;31mKeyError\u001b[0m                                  Traceback (most recent call last)",
      "Cell \u001b[1;32mIn[3], line 4\u001b[0m\n\u001b[0;32m      1\u001b[0m \u001b[38;5;66;03m# 90\u001b[39;00m\n\u001b[0;32m      3\u001b[0m icecream \u001b[38;5;241m=\u001b[39m {\u001b[38;5;124m'\u001b[39m\u001b[38;5;124m폴라포\u001b[39m\u001b[38;5;124m'\u001b[39m: \u001b[38;5;241m1200\u001b[39m, \u001b[38;5;124m'\u001b[39m\u001b[38;5;124m빵빠레\u001b[39m\u001b[38;5;124m'\u001b[39m: \u001b[38;5;241m1800\u001b[39m, \u001b[38;5;124m'\u001b[39m\u001b[38;5;124m월드콘\u001b[39m\u001b[38;5;124m'\u001b[39m: \u001b[38;5;241m1500\u001b[39m, \u001b[38;5;124m'\u001b[39m\u001b[38;5;124m메로나\u001b[39m\u001b[38;5;124m'\u001b[39m: \u001b[38;5;241m1000\u001b[39m}\n\u001b[1;32m----> 4\u001b[0m icecream[\u001b[38;5;124m'\u001b[39m\u001b[38;5;124m누가바\u001b[39m\u001b[38;5;124m'\u001b[39m]\n",
      "\u001b[1;31mKeyError\u001b[0m: '누가바'"
     ]
    }
   ],
   "source": [
    "# 90 딕셔너리에 누가바 key가 없어서 오류\n",
    "\n",
    "icecream = {'폴라포': 1200, '빵빠레': 1800, '월드콘': 1500, '메로나': 1000}\n",
    "icecream['누가바']"
   ]
  },
  {
   "cell_type": "code",
   "execution_count": 32,
   "id": "3916feac",
   "metadata": {
    "ExecuteTime": {
     "end_time": "2023-11-27T13:09:43.350096Z",
     "start_time": "2023-11-27T13:09:43.345093Z"
    }
   },
   "outputs": [
    {
     "name": "stdout",
     "output_type": "stream",
     "text": [
      "{'메로나': [300, 20], '비비빅': [400, 3], '죠스바': [250, 100]}\n"
     ]
    }
   ],
   "source": [
    "# 91 딕셔너리 value값은 리스트도 가능\n",
    "\n",
    "inventory = {'메로나': [300, 20], '비비빅': [400, 3], '죠스바': [250, 100]}\n",
    "print(inventory)"
   ]
  },
  {
   "cell_type": "code",
   "execution_count": 34,
   "id": "24cf05a1",
   "metadata": {
    "ExecuteTime": {
     "end_time": "2023-11-27T13:11:51.650897Z",
     "start_time": "2023-11-27T13:11:51.645083Z"
    }
   },
   "outputs": [
    {
     "data": {
      "text/plain": [
       "300"
      ]
     },
     "execution_count": 34,
     "metadata": {},
     "output_type": "execute_result"
    }
   ],
   "source": [
    "# 92 딕셔너리 인덱싱\n",
    "\n",
    "inventory = {\"메로나\": [300, 20],\n",
    "              \"비비빅\": [400, 3],\n",
    "              \"죠스바\": [250, 100]}\n",
    "\n",
    "inventory['메로나'][0]"
   ]
  },
  {
   "cell_type": "code",
   "execution_count": 35,
   "id": "6e7214e7",
   "metadata": {
    "ExecuteTime": {
     "end_time": "2023-11-27T13:12:22.196500Z",
     "start_time": "2023-11-27T13:12:22.191300Z"
    }
   },
   "outputs": [
    {
     "data": {
      "text/plain": [
       "20"
      ]
     },
     "execution_count": 35,
     "metadata": {},
     "output_type": "execute_result"
    }
   ],
   "source": [
    "# 93\n",
    "\n",
    "inventory = {\"메로나\": [300, 20],\n",
    "              \"비비빅\": [400, 3],\n",
    "              \"죠스바\": [250, 100]}\n",
    "\n",
    "inventory['메로나'][1]"
   ]
  },
  {
   "cell_type": "code",
   "execution_count": 37,
   "id": "0304620d",
   "metadata": {
    "ExecuteTime": {
     "end_time": "2023-11-27T13:12:55.824956Z",
     "start_time": "2023-11-27T13:12:55.819961Z"
    }
   },
   "outputs": [
    {
     "name": "stdout",
     "output_type": "stream",
     "text": [
      "{'메로나': [300, 20], '비비빅': [400, 3], '죠스바': [250, 100], '월드콘': [500, 7]}\n"
     ]
    }
   ],
   "source": [
    "# 94\n",
    "inventory = {\"메로나\": [300, 20],\n",
    "              \"비비빅\": [400, 3],\n",
    "              \"죠스바\": [250, 100]}\n",
    "inventory['월드콘'] = [500, 7]\n",
    "print(inventory)"
   ]
  },
  {
   "cell_type": "code",
   "execution_count": 40,
   "id": "f266bb2b",
   "metadata": {
    "ExecuteTime": {
     "end_time": "2023-11-27T13:14:04.173866Z",
     "start_time": "2023-11-27T13:14:04.168808Z"
    }
   },
   "outputs": [
    {
     "name": "stdout",
     "output_type": "stream",
     "text": [
      "['탱크보이', '폴라포', '빵빠레', '월드콘', '메로나']\n"
     ]
    }
   ],
   "source": [
    "# 95 딕셔너리 keys() 메서드\n",
    "\n",
    "icecream = {'탱크보이': 1200, '폴라포': 1200, '빵빠레': 1800, '월드콘': 1500, '메로나': 1000}\n",
    "ice = list(icecream.keys())\n",
    "print(ice)"
   ]
  },
  {
   "cell_type": "code",
   "execution_count": 42,
   "id": "ff5d48ba",
   "metadata": {
    "ExecuteTime": {
     "end_time": "2023-11-27T13:14:42.198340Z",
     "start_time": "2023-11-27T13:14:42.193064Z"
    }
   },
   "outputs": [
    {
     "name": "stdout",
     "output_type": "stream",
     "text": [
      "[1200, 1200, 1800, 1500, 1000]\n"
     ]
    }
   ],
   "source": [
    "# 96 딕셔너리 values() 메서드\n",
    "\n",
    "icecream = {'탱크보이': 1200, '폴라포': 1200, '빵빠레': 1800, '월드콘': 1500, '메로나': 1000}\n",
    "ice = list(icecream.values())\n",
    "print(ice)"
   ]
  },
  {
   "cell_type": "code",
   "execution_count": 6,
   "id": "b9a174d4",
   "metadata": {
    "ExecuteTime": {
     "end_time": "2023-12-10T07:36:47.782855Z",
     "start_time": "2023-12-10T07:36:47.779170Z"
    }
   },
   "outputs": [
    {
     "name": "stdout",
     "output_type": "stream",
     "text": [
      "6700\n"
     ]
    }
   ],
   "source": [
    "# 97\n",
    "\n",
    "icecream = {'탱크보이': 1200, '폴라포': 1200, '빵빠레': 1800, '월드콘': 1500, '메로나': 1000}\n",
    "ice = list(icecream.values())\n",
    "\n",
    "print(sum(icecream.values()))"
   ]
  },
  {
   "cell_type": "code",
   "execution_count": 49,
   "id": "c0820376",
   "metadata": {
    "ExecuteTime": {
     "end_time": "2023-11-27T13:17:52.221594Z",
     "start_time": "2023-11-27T13:17:52.217554Z"
    }
   },
   "outputs": [
    {
     "name": "stdout",
     "output_type": "stream",
     "text": [
      "{'탱크보이': 1200, '폴라포': 1200, '빵빠레': 1800, '월드콘': 1500, '메로나': 1000, '팥빙수': 2700, '아맛나': 1000}\n"
     ]
    }
   ],
   "source": [
    "# 98 딕셔너리 update 메서드\n",
    "\n",
    "icecream = {'탱크보이': 1200, '폴라포': 1200, '빵빠레': 1800, '월드콘': 1500, '메로나': 1000}\n",
    "new_product = {'팥빙수':2700, '아맛나':1000}\n",
    "icecream.update(new_product)\n",
    "print(icecream)"
   ]
  },
  {
   "cell_type": "code",
   "execution_count": 50,
   "id": "06ce0e7e",
   "metadata": {
    "ExecuteTime": {
     "end_time": "2023-11-27T13:18:50.442256Z",
     "start_time": "2023-11-27T13:18:50.436748Z"
    }
   },
   "outputs": [
    {
     "name": "stdout",
     "output_type": "stream",
     "text": [
      "{'apple': 300, 'pear': 250, 'peach': 400}\n"
     ]
    }
   ],
   "source": [
    "# 99 zip: 두개의 리스트를 하나로 묶어줌\n",
    "\n",
    "keys = (\"apple\", \"pear\", \"peach\")\n",
    "vals = (300, 250, 400)\n",
    "\n",
    "result = dict(zip(keys, vals))\n",
    "print(result)"
   ]
  },
  {
   "cell_type": "code",
   "execution_count": 54,
   "id": "a16685a6",
   "metadata": {
    "ExecuteTime": {
     "end_time": "2023-11-27T13:19:59.311240Z",
     "start_time": "2023-11-27T13:19:59.306451Z"
    }
   },
   "outputs": [
    {
     "name": "stdout",
     "output_type": "stream",
     "text": [
      "{'09/05': 10500, '09/06': 10300, '09/07': 10100, '09/08': 10800, '09/09': 11000}\n"
     ]
    }
   ],
   "source": [
    "# 100\n",
    "\n",
    "date = ['09/05', '09/06', '09/07', '09/08', '09/09']\n",
    "close_price = [10500, 10300, 10100, 10800, 11000]\n",
    "\n",
    "close_table = dict(zip(date, close_price))\n",
    "print(close_table)"
   ]
  },
  {
   "cell_type": "markdown",
   "id": "1251f8d1",
   "metadata": {},
   "source": [
    "# 파이썬 분기문 (101-130)"
   ]
  },
  {
   "cell_type": "code",
   "execution_count": 10,
   "id": "18da916a",
   "metadata": {
    "ExecuteTime": {
     "end_time": "2023-12-10T07:42:45.807861Z",
     "start_time": "2023-12-10T07:42:45.805361Z"
    },
    "scrolled": true
   },
   "outputs": [],
   "source": [
    "# 101 파이썬에서 True 혹은 False를 갖는 데이터 타입은?\n",
    "# bool 불 자료형"
   ]
  },
  {
   "cell_type": "code",
   "execution_count": 3,
   "id": "229a5738",
   "metadata": {
    "ExecuteTime": {
     "end_time": "2023-11-28T10:38:39.481050Z",
     "start_time": "2023-11-28T10:38:39.477062Z"
    }
   },
   "outputs": [
    {
     "name": "stdout",
     "output_type": "stream",
     "text": [
      "False\n"
     ]
    }
   ],
   "source": [
    "# 102 아래 코드의 출력 결과를 예상하라\n",
    "\n",
    "print(3 == 5) \n",
    "#false"
   ]
  },
  {
   "cell_type": "code",
   "execution_count": 4,
   "id": "e75fbea2",
   "metadata": {
    "ExecuteTime": {
     "end_time": "2023-11-28T10:39:01.850031Z",
     "start_time": "2023-11-28T10:39:01.847189Z"
    }
   },
   "outputs": [
    {
     "name": "stdout",
     "output_type": "stream",
     "text": [
      "True\n"
     ]
    }
   ],
   "source": [
    "# 103 아래 코드의 출력 결과를 예상하라\n",
    "\n",
    "print(3 < 5)\n",
    "#true"
   ]
  },
  {
   "cell_type": "code",
   "execution_count": 5,
   "id": "22cab08d",
   "metadata": {
    "ExecuteTime": {
     "end_time": "2023-11-28T10:39:18.503265Z",
     "start_time": "2023-11-28T10:39:18.499454Z"
    }
   },
   "outputs": [
    {
     "name": "stdout",
     "output_type": "stream",
     "text": [
      "True\n"
     ]
    }
   ],
   "source": [
    "# 104 아래 코드의 결과를 예상하라.\n",
    "\n",
    "x = 4\n",
    "print(1 < x < 5)\n",
    "#true"
   ]
  },
  {
   "cell_type": "code",
   "execution_count": 6,
   "id": "e5064551",
   "metadata": {
    "ExecuteTime": {
     "end_time": "2023-11-28T10:39:39.920648Z",
     "start_time": "2023-11-28T10:39:39.916387Z"
    }
   },
   "outputs": [
    {
     "name": "stdout",
     "output_type": "stream",
     "text": [
      "True\n"
     ]
    }
   ],
   "source": [
    "# 105 아래 코드의 결과를 예상하라.\n",
    "\n",
    "print ((3 == 3) and (4 != 3))\n",
    "# ture"
   ]
  },
  {
   "cell_type": "code",
   "execution_count": 9,
   "id": "078f3134",
   "metadata": {
    "ExecuteTime": {
     "end_time": "2023-11-28T10:40:47.228230Z",
     "start_time": "2023-11-28T10:40:47.223739Z"
    }
   },
   "outputs": [
    {
     "ename": "SyntaxError",
     "evalue": "expression cannot contain assignment, perhaps you meant \"==\"? (4002499379.py, line 3)",
     "output_type": "error",
     "traceback": [
      "\u001b[1;36m  Cell \u001b[1;32mIn[9], line 3\u001b[1;36m\u001b[0m\n\u001b[1;33m    print(3 => 4)\u001b[0m\n\u001b[1;37m          ^\u001b[0m\n\u001b[1;31mSyntaxError\u001b[0m\u001b[1;31m:\u001b[0m expression cannot contain assignment, perhaps you meant \"==\"?\n"
     ]
    }
   ],
   "source": [
    "# 106 아래 코드에서 에러가 발생하는 원인에 대해 설명하라.\n",
    "\n",
    "print(3 => 4)\n",
    "# => 는 지원하지 않는 연산자 (>=, <= 로 사용)"
   ]
  },
  {
   "cell_type": "code",
   "execution_count": 10,
   "id": "6622b14c",
   "metadata": {
    "ExecuteTime": {
     "end_time": "2023-11-28T10:41:05.874764Z",
     "start_time": "2023-11-28T10:41:05.871298Z"
    }
   },
   "outputs": [],
   "source": [
    "# 107 아래 코드의 출력 결과를 예상하라\n",
    "\n",
    "if 4 < 3:\n",
    "    print(\"Hello World\")\n",
    "# 조건을 만족하지 않아 아무것도 출력되지 않음"
   ]
  },
  {
   "cell_type": "code",
   "execution_count": 13,
   "id": "786db763",
   "metadata": {
    "ExecuteTime": {
     "end_time": "2023-11-28T10:41:54.042773Z",
     "start_time": "2023-11-28T10:41:54.038963Z"
    }
   },
   "outputs": [
    {
     "name": "stdout",
     "output_type": "stream",
     "text": [
      "Hi, there.\n"
     ]
    }
   ],
   "source": [
    "# 108 아래 코드의 출력 결과를 예상하라\n",
    "\n",
    "if 4 < 3:\n",
    "    print(\"Hello World.\")\n",
    "else:\n",
    "    print(\"Hi, there.\")\n",
    "# hi there"
   ]
  },
  {
   "cell_type": "code",
   "execution_count": 15,
   "id": "0bbba7e8",
   "metadata": {
    "ExecuteTime": {
     "end_time": "2023-11-28T10:42:28.913770Z",
     "start_time": "2023-11-28T10:42:28.909459Z"
    }
   },
   "outputs": [
    {
     "name": "stdout",
     "output_type": "stream",
     "text": [
      "1\n",
      "2\n",
      "4\n"
     ]
    }
   ],
   "source": [
    "# 109 아래 코드의 출력 결과를 예상하라\n",
    "\n",
    "if True :\n",
    "    print (\"1\")\n",
    "    print (\"2\")\n",
    "else :\n",
    "    print(\"3\")\n",
    "print(\"4\")\n",
    "# 1, 2, 4\n",
    "# 들여쓰기로 if문 실행 구분"
   ]
  },
  {
   "cell_type": "code",
   "execution_count": 17,
   "id": "b08794d3",
   "metadata": {
    "ExecuteTime": {
     "end_time": "2023-11-28T10:43:18.495685Z",
     "start_time": "2023-11-28T10:43:18.489252Z"
    }
   },
   "outputs": [
    {
     "name": "stdout",
     "output_type": "stream",
     "text": [
      "3\n",
      "5\n"
     ]
    }
   ],
   "source": [
    "# 110 아래 코드의 출력 결과를 예상하라\n",
    "\n",
    "if True :\n",
    "    if False:\n",
    "        print(\"1\")\n",
    "        print(\"2\")\n",
    "    else:\n",
    "        print(\"3\")\n",
    "else :\n",
    "    print(\"4\")\n",
    "print(\"5\")\n",
    "# 3, 5"
   ]
  },
  {
   "cell_type": "code",
   "execution_count": 1,
   "id": "7f352e85",
   "metadata": {
    "ExecuteTime": {
     "end_time": "2023-12-10T07:44:58.977177Z",
     "start_time": "2023-12-10T07:44:55.964746Z"
    }
   },
   "outputs": [
    {
     "name": "stdout",
     "output_type": "stream",
     "text": [
      "입력: 안녕하세요\n",
      "안녕하세요안녕하세요\n"
     ]
    }
   ],
   "source": [
    "# 111 사용자로부터 입력받은 문자열을 두 번 출력하라.\n",
    "\n",
    "a = input('입력: ')\n",
    "print(a*2)"
   ]
  },
  {
   "cell_type": "code",
   "execution_count": 4,
   "id": "a015bc55",
   "metadata": {
    "ExecuteTime": {
     "end_time": "2023-12-10T07:45:41.394303Z",
     "start_time": "2023-12-10T07:45:40.134434Z"
    }
   },
   "outputs": [
    {
     "name": "stdout",
     "output_type": "stream",
     "text": [
      "숫자를 입력하세요: 30\n",
      "40\n"
     ]
    }
   ],
   "source": [
    "# 112 iuput 출력값은 항상 문자열\n",
    "\n",
    "num = input('숫자를 입력하세요: ')\n",
    "print(10 + int(num))"
   ]
  },
  {
   "cell_type": "code",
   "execution_count": 5,
   "id": "0d4e58f3",
   "metadata": {
    "ExecuteTime": {
     "end_time": "2023-12-10T07:46:58.285035Z",
     "start_time": "2023-12-10T07:46:55.645882Z"
    }
   },
   "outputs": [
    {
     "name": "stdout",
     "output_type": "stream",
     "text": [
      "숫자입력: 30\n",
      "짝수\n"
     ]
    }
   ],
   "source": [
    "#113 \n",
    "\n",
    "user = input('숫자입력: ')\n",
    "if int(user)%2 == 0:\n",
    "    print('짝수')\n",
    "else:\n",
    "    print('홀수')"
   ]
  },
  {
   "cell_type": "code",
   "execution_count": 8,
   "id": "a09a765d",
   "metadata": {
    "ExecuteTime": {
     "end_time": "2023-12-10T07:49:17.004545Z",
     "start_time": "2023-12-10T07:49:15.055182Z"
    }
   },
   "outputs": [
    {
     "name": "stdout",
     "output_type": "stream",
     "text": [
      "입력값: 240\n",
      "225\n"
     ]
    }
   ],
   "source": [
    "# 114\n",
    "\n",
    "user = input('입력값: ')\n",
    "num = 20 + int(user)\n",
    "if num > 255:\n",
    "    print(225)\n",
    "else:\n",
    "    print(num)"
   ]
  },
  {
   "cell_type": "code",
   "execution_count": 14,
   "id": "4963a2a5",
   "metadata": {
    "ExecuteTime": {
     "end_time": "2023-12-10T07:51:47.575016Z",
     "start_time": "2023-12-10T07:51:45.835370Z"
    }
   },
   "outputs": [
    {
     "name": "stdout",
     "output_type": "stream",
     "text": [
      "입력값: 15\n",
      "0\n"
     ]
    }
   ],
   "source": [
    "# 115\n",
    "\n",
    "user = input('입력값: ')\n",
    "num = int(user) - 20\n",
    "if num > 255:\n",
    "    print(255)\n",
    "elif num < 0:\n",
    "    print(0)\n",
    "else:\n",
    "    print(num)"
   ]
  },
  {
   "cell_type": "code",
   "execution_count": 1,
   "id": "78e61b74",
   "metadata": {
    "ExecuteTime": {
     "end_time": "2023-11-28T12:10:09.633533Z",
     "start_time": "2023-11-28T12:10:04.239478Z"
    }
   },
   "outputs": [
    {
     "name": "stdout",
     "output_type": "stream",
     "text": [
      "현재시간: 02:00\n",
      "정각입니다.\n"
     ]
    }
   ],
   "source": [
    "# 116\n",
    "\n",
    "time = input(\"현재시간: \")\n",
    "if time[-2:] == \"00\":\n",
    "    print(\"정각입니다.\")\n",
    "else:\n",
    "    print(\"정각이 아닙니다.\")"
   ]
  },
  {
   "cell_type": "code",
   "execution_count": 1,
   "id": "493e94a3",
   "metadata": {
    "ExecuteTime": {
     "end_time": "2023-11-28T11:55:29.394238Z",
     "start_time": "2023-11-28T11:55:27.368029Z"
    }
   },
   "outputs": [
    {
     "name": "stdout",
     "output_type": "stream",
     "text": [
      "좋아하는 과일은? 사과\n",
      "정답입니다.\n"
     ]
    }
   ],
   "source": [
    "# 117\n",
    "\n",
    "fruit = [\"사과\", \"포도\", \"홍시\"]\n",
    "user = input(\"좋아하는 과일은? \")\n",
    "if user in fruit:\n",
    "    print(\"정답입니다.\")\n",
    "else:\n",
    "    print(\"오답입니다.\")"
   ]
  },
  {
   "cell_type": "code",
   "execution_count": 2,
   "id": "2de13bd1",
   "metadata": {
    "ExecuteTime": {
     "end_time": "2023-11-28T12:10:39.149263Z",
     "start_time": "2023-11-28T12:10:23.321523Z"
    }
   },
   "outputs": [
    {
     "name": "stdout",
     "output_type": "stream",
     "text": [
      "종목명: naver\n",
      "투자 경고 종목이 아닙니다.\n"
     ]
    }
   ],
   "source": [
    "# 118\n",
    "\n",
    "warn_investment_list = [\"Microsoft\", \"Google\", \"Naver\", \"Kakao\", \"SAMSUNG\", \"LG\"]\n",
    "종목 = input(\"종목명: \")\n",
    "if 종목 in warn_investment_list:\n",
    "    print(\"투자 경고 종목입니다.\")\n",
    "else:\n",
    "    print(\"투자 경고 종목이 아닙니다.\")"
   ]
  },
  {
   "cell_type": "code",
   "execution_count": 3,
   "id": "a590ec23",
   "metadata": {
    "ExecuteTime": {
     "end_time": "2023-11-28T12:10:54.651319Z",
     "start_time": "2023-11-28T12:10:50.780997Z"
    }
   },
   "outputs": [
    {
     "name": "stdout",
     "output_type": "stream",
     "text": [
      "제가좋아하는계절은: 여름\n",
      "정답입니다.\n"
     ]
    }
   ],
   "source": [
    "# 119\n",
    "\n",
    "fruit = {\"봄\" : \"딸기\", \"여름\" : \"토마토\", \"가을\" : \"사과\"}\n",
    "user = input(\"제가좋아하는계절은: \")\n",
    "if user in fruit:\n",
    "    print(\"정답입니다.\")\n",
    "else:\n",
    "    print(\"오답입니다.\")"
   ]
  },
  {
   "cell_type": "code",
   "execution_count": 4,
   "id": "14fb29df",
   "metadata": {
    "ExecuteTime": {
     "end_time": "2023-11-28T12:11:08.334488Z",
     "start_time": "2023-11-28T12:11:03.859469Z"
    }
   },
   "outputs": [
    {
     "name": "stdout",
     "output_type": "stream",
     "text": [
      "좋아하는 과일은?배\n",
      "오답입니다.\n"
     ]
    }
   ],
   "source": [
    "# 120\n",
    "\n",
    "fruit = {\"봄\" : \"딸기\", \"여름\" : \"토마토\", \"가을\" : \"사과\"}\n",
    "user = input(\"좋아하는 과일은?\")\n",
    "if user in fruit.values():\n",
    "    print(\"정답입니다.\")\n",
    "else:\n",
    "    print(\"오답입니다.\")\n"
   ]
  },
  {
   "cell_type": "code",
   "execution_count": 8,
   "id": "af448fba",
   "metadata": {
    "ExecuteTime": {
     "end_time": "2023-11-28T11:46:07.410695Z",
     "start_time": "2023-11-28T11:46:05.813929Z"
    }
   },
   "outputs": [
    {
     "name": "stdout",
     "output_type": "stream",
     "text": [
      "문자: a\n",
      "A\n"
     ]
    }
   ],
   "source": [
    "# 121 islower(): 문자의 소문자 여부 판멸(소문자T/대문자F)\n",
    "\n",
    "user = input(\"문자: \")\n",
    "if user.islower() == True:\n",
    "    print(user.upper())\n",
    "else:\n",
    "    print(user.lower())"
   ]
  },
  {
   "cell_type": "code",
   "execution_count": 6,
   "id": "54baede3",
   "metadata": {
    "ExecuteTime": {
     "end_time": "2023-11-28T11:50:30.138618Z",
     "start_time": "2023-11-28T11:50:27.120585Z"
    }
   },
   "outputs": [
    {
     "name": "stdout",
     "output_type": "stream",
     "text": [
      "점수: 41\n",
      "grade is C\n"
     ]
    }
   ],
   "source": [
    "# 122  \n",
    "\n",
    "score = input(\"점수: \")\n",
    "score = int(score)\n",
    "if score > 80:\n",
    "    print(\"grade is A\")\n",
    "elif score > 60:\n",
    "    print(\"grade is B\")\n",
    "elif score > 40:\n",
    "    print(\"grade is C\")\n",
    "elif score > 20:\n",
    "    print(\"grade is D\")\n",
    "else: \n",
    "    print(\"grade is E\")"
   ]
  },
  {
   "cell_type": "code",
   "execution_count": 3,
   "id": "e92c9eee",
   "metadata": {
    "ExecuteTime": {
     "end_time": "2023-12-10T08:05:58.118368Z",
     "start_time": "2023-12-10T08:05:54.214357Z"
    }
   },
   "outputs": [
    {
     "name": "stdout",
     "output_type": "stream",
     "text": [
      "입력: 100 달러\n",
      "100 달러\n",
      "116700.0\n"
     ]
    }
   ],
   "source": [
    "# 123 \n",
    "\n",
    "환율 = {\"달러\": 1167, \"엔\": 1.096, \"유로\": 1268, \"위안\": 171}\n",
    "user = input(\"입력: \")\n",
    "data = user.split() #숫자/통화명 분리 (split 값은 리스트)\n",
    "금액, 통화 = data #데이터 언패킹 \n",
    "print(금액, 통화)\n",
    "금액 = float(금액)\n",
    "\n",
    "if 통화 == '달러':\n",
    "    print(금액 * 1167)\n",
    "elif 통화 == '엔':\n",
    "    print(금액 * 1.096)\n",
    "elif 통화 == '유로':\n",
    "    print(금액 * 1268)\n",
    "else:\n",
    "    print(금액 * 171)"
   ]
  },
  {
   "cell_type": "code",
   "execution_count": 1,
   "id": "de2e4d45",
   "metadata": {
    "ExecuteTime": {
     "end_time": "2023-11-28T11:59:01.280018Z",
     "start_time": "2023-11-28T11:58:55.664846Z"
    }
   },
   "outputs": [
    {
     "name": "stdout",
     "output_type": "stream",
     "text": [
      "input number1: 4\n",
      "input number2: 5\n",
      "input number3: 9\n",
      "9\n"
     ]
    }
   ],
   "source": [
    "# 124 \n",
    "\n",
    "user1 = input(\"input number1: \")\n",
    "user2 = input(\"input number2: \")\n",
    "user3 = input(\"input number3: \")\n",
    "user1 = int(user1)\n",
    "user2 = int(user2)\n",
    "user3 = int(user3)\n",
    "\n",
    "if user1 >= user2 and user1 >= user3:\n",
    "    print(user1)\n",
    "elif user2 >= user1 and user2 >= user3:\n",
    "    print(user2)\n",
    "else:\n",
    "    print(user3)"
   ]
  },
  {
   "cell_type": "code",
   "execution_count": 2,
   "id": "7edff7dc",
   "metadata": {
    "ExecuteTime": {
     "end_time": "2023-11-28T12:08:28.035471Z",
     "start_time": "2023-11-28T12:08:25.830479Z"
    }
   },
   "outputs": [
    {
     "name": "stdout",
     "output_type": "stream",
     "text": [
      "휴대전화 번호 입력: 010\n",
      "당신은 알수없음 사용자입니다.\n"
     ]
    }
   ],
   "source": [
    "# 125 \n",
    "\n",
    "number = input(\"휴대전화 번호 입력: \")\n",
    "num = number.split(\"-\")[0]\n",
    "if num == \"011\":\n",
    "    com = \"SKT\"\n",
    "elif num == \"016\":\n",
    "    com = \"KT\"\n",
    "elif num == \"019\":\n",
    "    com = \"LGU\"\n",
    "else:\n",
    "    com = \"알수없음\"\n",
    "print(f\"당신은 {com} 사용자입니다.\")\n"
   ]
  },
  {
   "cell_type": "code",
   "execution_count": 1,
   "id": "74ede402",
   "metadata": {
    "ExecuteTime": {
     "end_time": "2023-11-29T00:19:28.471298Z",
     "start_time": "2023-11-29T00:19:24.222871Z"
    }
   },
   "outputs": [
    {
     "name": "stdout",
     "output_type": "stream",
     "text": [
      "우편번호: 010000\n",
      "강북구\n"
     ]
    }
   ],
   "source": [
    "# 126 \n",
    "\n",
    "우편번호 = input(\"우편번호: \")\n",
    "우편번호 = 우편번호 [:3]\n",
    "\n",
    "if 우편번호 in [\"010\", \"011\", \"012\"]:\n",
    "    print(\"강북구\")\n",
    "elif 우편번호 in [\"013\", \"014\", \"015\"]:\n",
    "    print(\"도봉구\")\n",
    "else:\n",
    "    print(\"노원구\")"
   ]
  },
  {
   "cell_type": "code",
   "execution_count": 10,
   "id": "9b66c2d0",
   "metadata": {
    "ExecuteTime": {
     "end_time": "2023-11-29T07:37:37.511930Z",
     "start_time": "2023-11-29T07:37:35.704051Z"
    }
   },
   "outputs": [
    {
     "name": "stdout",
     "output_type": "stream",
     "text": [
      "주민등록번호: 821010-1635210\n",
      "남자\n"
     ]
    }
   ],
   "source": [
    "# 127 사용자로부터 13자리의 주민등록번호를 입력 받은 후 성별 (남자, 여자)를 출력하는 프로그램을 작성\n",
    "# 주민등록번호 뒷 자리 7자리 중 첫째 자리는 성별을 나타내는데, 1, 3은 남자 2, 4는 여자를 의미\n",
    "\n",
    "data = input(\"주민등록번호: \")\n",
    "data = data.split(\"-\")[1]\n",
    "\n",
    "if data[0] == \"1\" or data[0] == \"3\":\n",
    "    print(\"남자\")\n",
    "else:\n",
    "    print('여자')"
   ]
  },
  {
   "cell_type": "code",
   "execution_count": 22,
   "id": "edba9654",
   "metadata": {
    "ExecuteTime": {
     "end_time": "2023-11-29T07:44:18.317958Z",
     "start_time": "2023-11-29T07:44:13.832653Z"
    }
   },
   "outputs": [
    {
     "name": "stdout",
     "output_type": "stream",
     "text": [
      "주민등록번호: 821010-1635210\n",
      "서울이 아닙니다.\n"
     ]
    }
   ],
   "source": [
    "# 128 \n",
    "\n",
    "주민번호 = input(\"주민등록번호: \")\n",
    "주민번호 = 주민번호.split(\"-\")[1]\n",
    "\n",
    "if 0 <= int(주민번호[1:3]) <= 8:\n",
    "    print('서울 입니다.')\n",
    "else:\n",
    "    print('서울이 아닙니다.')"
   ]
  },
  {
   "cell_type": "code",
   "execution_count": 35,
   "id": "fd0d66de",
   "metadata": {
    "ExecuteTime": {
     "end_time": "2023-11-29T08:24:23.240261Z",
     "start_time": "2023-11-29T08:24:19.153464Z"
    },
    "scrolled": true
   },
   "outputs": [
    {
     "name": "stdout",
     "output_type": "stream",
     "text": [
      "주민등록번호: 821010-1635210\n",
      "유효하지 않은 주민등록번호입니다.\n"
     ]
    }
   ],
   "source": [
    "# 129 \n",
    "\n",
    "num = input(\"주민등록번호: \")\n",
    "계산1 = int(num[0]) * 2 + int(num[1]) * 3 + int(num[2]) * 4 + int(num[3]) * 5 + int(num[4]) * 6 + \\\n",
    "        int(num[5]) * 7 + int(num[7]) * 8 + int(num[8]) * 9 + int(num[9]) * 2 + int(num[10])* 3 + \\\n",
    "        int(num[11])* 4 + int(num[12]) * 5\n",
    "계산2 = 11 - (계산1 % 11)\n",
    "계산3 = str(계산2)\n",
    "\n",
    "if num[-1] == 계산3[-1]:\n",
    "    print(\"유효한 주민등록번호입니다.\")\n",
    "else:\n",
    "    print(\"유효하지 않은 주민등록번호입니다.\")\n"
   ]
  },
  {
   "cell_type": "code",
   "execution_count": 42,
   "id": "622d8e87",
   "metadata": {
    "ExecuteTime": {
     "end_time": "2023-11-29T08:28:33.346437Z",
     "start_time": "2023-11-29T08:28:32.736745Z"
    },
    "scrolled": true
   },
   "outputs": [
    {
     "name": "stdout",
     "output_type": "stream",
     "text": [
      "{'opening_price': '50064000', 'closing_price': '50843000', 'min_price': '49965000', 'max_price': '51000000', 'units_traded': '3591.77570875', 'acc_trade_value': '181848253895.499', 'prev_closing_price': '50064000', 'units_traded_24H': '4681.26112803', 'acc_trade_value_24H': '236182681798.1032', 'fluctate_24H': '1191000', 'fluctate_rate_24H': '2.4', 'date': '1701246513572'}\n",
      "51000000 <class 'str'>\n"
     ]
    }
   ],
   "source": [
    "#130 \n",
    "\n",
    "import requests\n",
    "btc = requests.get(\"https://api.bithumb.com/public/ticker/\").json()['data']\n",
    "print(btc) # 딕셔너리\n",
    "\n",
    "high = float(btc['max_price'])\n",
    "low = float(btc['min_price'])\n",
    "\n",
    "print(high, type(high))"
   ]
  },
  {
   "cell_type": "markdown",
   "id": "08949522",
   "metadata": {},
   "source": [
    "# 파이썬 반복문 (131-200)\n",
    "* for문의 핵심은 \"들여쓰기된 코드가 자료구조에 저장된 데이터 개수만큼 반복된다"
   ]
  },
  {
   "cell_type": "markdown",
   "id": "99adac0e",
   "metadata": {
    "ExecuteTime": {
     "end_time": "2023-12-10T08:07:20.349589Z",
     "start_time": "2023-12-10T08:07:20.346004Z"
    }
   },
   "source": [
    "## 131-140"
   ]
  },
  {
   "cell_type": "code",
   "execution_count": null,
   "id": "5c7c76e7",
   "metadata": {},
   "outputs": [],
   "source": [
    "# 131 실행결과 예측\n",
    "\n",
    "과일 = [\"사과\", \"귤\", \"수박\"]\n",
    "for 변수 in 과일:\n",
    "    print(변수)\n",
    "# 사과, 귤, 수박 각각 한 줄에 출력"
   ]
  },
  {
   "cell_type": "code",
   "execution_count": null,
   "id": "a9d3e5c8",
   "metadata": {},
   "outputs": [],
   "source": [
    "# 132\n",
    "\n",
    "과일 = [\"사과\", \"귤\", \"수박\"]\n",
    "for 변수 in 과일:\n",
    "  print(\"#####\")\n",
    "# ##### 가 3번 반복"
   ]
  },
  {
   "cell_type": "code",
   "execution_count": 6,
   "id": "1c78c147",
   "metadata": {
    "ExecuteTime": {
     "end_time": "2023-12-10T08:12:27.044084Z",
     "start_time": "2023-12-10T08:12:27.039589Z"
    },
    "scrolled": true
   },
   "outputs": [
    {
     "name": "stdout",
     "output_type": "stream",
     "text": [
      "A\n",
      "B\n",
      "C\n"
     ]
    }
   ],
   "source": [
    "#133\n",
    "\n",
    "변수 = 'A'\n",
    "print(변수)\n",
    "변수 = 'B'\n",
    "print(변수)\n",
    "변수 = 'C'\n",
    "print(변수)"
   ]
  },
  {
   "cell_type": "code",
   "execution_count": 10,
   "id": "75bf99a4",
   "metadata": {
    "ExecuteTime": {
     "end_time": "2023-12-10T08:13:36.735170Z",
     "start_time": "2023-12-10T08:13:36.730118Z"
    }
   },
   "outputs": [
    {
     "name": "stdout",
     "output_type": "stream",
     "text": [
      "출력: A\n",
      "출력: B\n",
      "출력: C\n"
     ]
    }
   ],
   "source": [
    "#134\n",
    "\n",
    "변수 = \"A\"\n",
    "print(\"출력:\", 변수)\n",
    "변수 = \"B\"\n",
    "print(\"출력:\", 변수)\n",
    "변수 = \"C\"\n",
    "print(\"출력:\", 변수)"
   ]
  },
  {
   "cell_type": "code",
   "execution_count": 13,
   "id": "5d7627cb",
   "metadata": {
    "ExecuteTime": {
     "end_time": "2023-12-10T08:14:44.685815Z",
     "start_time": "2023-12-10T08:14:44.680558Z"
    }
   },
   "outputs": [
    {
     "name": "stdout",
     "output_type": "stream",
     "text": [
      "변환: a\n",
      "변환: b\n",
      "변환: c\n"
     ]
    }
   ],
   "source": [
    "# 135\n",
    "\n",
    "변수 = \"A\"\n",
    "print('변환:',변수.lower())\n",
    "변수 = \"B\"\n",
    "print('변환:',변수.lower())\n",
    "변수 = \"C\"\n",
    "print('변환:',변수.lower())"
   ]
  },
  {
   "cell_type": "code",
   "execution_count": 16,
   "id": "6905bb37",
   "metadata": {
    "ExecuteTime": {
     "end_time": "2023-12-10T08:16:11.654246Z",
     "start_time": "2023-12-10T08:16:11.650887Z"
    }
   },
   "outputs": [
    {
     "name": "stdout",
     "output_type": "stream",
     "text": [
      "10\n",
      "20\n",
      "30\n"
     ]
    }
   ],
   "source": [
    "# 136\n",
    "\n",
    "for 변수 in ['10', '20', '30']:\n",
    "    print(변수)"
   ]
  },
  {
   "cell_type": "code",
   "execution_count": 17,
   "id": "87bba283",
   "metadata": {
    "ExecuteTime": {
     "end_time": "2023-12-10T08:17:01.515149Z",
     "start_time": "2023-12-10T08:17:01.510858Z"
    }
   },
   "outputs": [
    {
     "name": "stdout",
     "output_type": "stream",
     "text": [
      "10\n",
      "20\n",
      "30\n"
     ]
    }
   ],
   "source": [
    "# 137\n",
    "\n",
    "for i in ['10', '20', '30']:\n",
    "    print(i)"
   ]
  },
  {
   "cell_type": "code",
   "execution_count": 22,
   "id": "ff6a259a",
   "metadata": {
    "ExecuteTime": {
     "end_time": "2023-12-10T08:18:42.468210Z",
     "start_time": "2023-12-10T08:18:42.462964Z"
    }
   },
   "outputs": [
    {
     "name": "stdout",
     "output_type": "stream",
     "text": [
      "10\n",
      "--------\n",
      "20\n",
      "--------\n",
      "30\n",
      "--------\n"
     ]
    }
   ],
   "source": [
    "# 138\n",
    "\n",
    "for i in ['10', '20', '30']:\n",
    "    print(i)\n",
    "    print('--------')"
   ]
  },
  {
   "cell_type": "code",
   "execution_count": 24,
   "id": "1c57e170",
   "metadata": {
    "ExecuteTime": {
     "end_time": "2023-12-10T08:19:31.606443Z",
     "start_time": "2023-12-10T08:19:31.601952Z"
    }
   },
   "outputs": [
    {
     "name": "stdout",
     "output_type": "stream",
     "text": [
      "++++\n",
      "10\n",
      "20\n",
      "30\n"
     ]
    }
   ],
   "source": [
    "# 139\n",
    "\n",
    "print('++++')\n",
    "for i in ['10', '20', '30']:\n",
    "    print(i)"
   ]
  },
  {
   "cell_type": "code",
   "execution_count": 25,
   "id": "3f1ae85a",
   "metadata": {
    "ExecuteTime": {
     "end_time": "2023-12-10T08:20:09.407797Z",
     "start_time": "2023-12-10T08:20:09.404077Z"
    }
   },
   "outputs": [
    {
     "name": "stdout",
     "output_type": "stream",
     "text": [
      "--------\n",
      "--------\n",
      "--------\n",
      "--------\n"
     ]
    }
   ],
   "source": [
    "# 140\n",
    "\n",
    "for i in ['a', 'b', 'c', 'd']:\n",
    "    print('--------')"
   ]
  },
  {
   "cell_type": "markdown",
   "id": "60bec893",
   "metadata": {},
   "source": [
    "## 141-150"
   ]
  },
  {
   "cell_type": "code",
   "execution_count": 26,
   "id": "20d1d9ce",
   "metadata": {
    "ExecuteTime": {
     "end_time": "2023-12-10T08:21:15.225724Z",
     "start_time": "2023-12-10T08:21:15.221074Z"
    }
   },
   "outputs": [
    {
     "name": "stdout",
     "output_type": "stream",
     "text": [
      "110\n",
      "210\n",
      "310\n"
     ]
    }
   ],
   "source": [
    "# 141\n",
    "\n",
    "리스트 = [100, 200, 300]\n",
    "for i in 리스트:\n",
    "    print(i + 10)"
   ]
  },
  {
   "cell_type": "code",
   "execution_count": 27,
   "id": "65eff49c",
   "metadata": {
    "ExecuteTime": {
     "end_time": "2023-12-10T08:22:03.762959Z",
     "start_time": "2023-12-10T08:22:03.759263Z"
    }
   },
   "outputs": [
    {
     "name": "stdout",
     "output_type": "stream",
     "text": [
      "오늘의 메뉴: 김밥\n",
      "오늘의 메뉴: 라면\n",
      "오늘의 메뉴: 튀김\n"
     ]
    }
   ],
   "source": [
    "# 142\n",
    "\n",
    "리스트 = [\"김밥\", \"라면\", \"튀김\"]\n",
    "for i in 리스트: \n",
    "    print('오늘의 메뉴:', i)"
   ]
  },
  {
   "cell_type": "code",
   "execution_count": 28,
   "id": "4f20522a",
   "metadata": {
    "ExecuteTime": {
     "end_time": "2023-12-10T08:22:31.966013Z",
     "start_time": "2023-12-10T08:22:31.961820Z"
    }
   },
   "outputs": [
    {
     "name": "stdout",
     "output_type": "stream",
     "text": [
      "6\n",
      "4\n",
      "4\n"
     ]
    }
   ],
   "source": [
    "# 143\n",
    "\n",
    "리스트 = [\"SK하이닉스\", \"삼성전자\", \"LG전자\"]\n",
    "for i in 리스트:\n",
    "    print(len(i))"
   ]
  },
  {
   "cell_type": "code",
   "execution_count": 31,
   "id": "b74ea5c1",
   "metadata": {
    "ExecuteTime": {
     "end_time": "2023-12-10T08:23:08.387061Z",
     "start_time": "2023-12-10T08:23:08.382420Z"
    }
   },
   "outputs": [
    {
     "name": "stdout",
     "output_type": "stream",
     "text": [
      "dog 3\n",
      "cat 3\n",
      "parrot 6\n"
     ]
    }
   ],
   "source": [
    "# 144\n",
    "\n",
    "리스트 = ['dog', 'cat', 'parrot']\n",
    "for i in 리스트:\n",
    "    print(i, len(i))\n"
   ]
  },
  {
   "cell_type": "code",
   "execution_count": 32,
   "id": "a09247a8",
   "metadata": {
    "ExecuteTime": {
     "end_time": "2023-12-10T08:24:17.537472Z",
     "start_time": "2023-12-10T08:24:17.532552Z"
    }
   },
   "outputs": [
    {
     "name": "stdout",
     "output_type": "stream",
     "text": [
      "d\n",
      "c\n",
      "p\n"
     ]
    }
   ],
   "source": [
    "# 145\n",
    "\n",
    "리스트 = ['dog', 'cat', 'parrot']\n",
    "for i in 리스트:\n",
    "    print(i[0])\n"
   ]
  },
  {
   "cell_type": "code",
   "execution_count": 33,
   "id": "d4bd9861",
   "metadata": {
    "ExecuteTime": {
     "end_time": "2023-12-10T08:24:52.248639Z",
     "start_time": "2023-12-10T08:24:52.244139Z"
    }
   },
   "outputs": [
    {
     "name": "stdout",
     "output_type": "stream",
     "text": [
      "3 X 1\n",
      "3 X 2\n",
      "3 X 3\n"
     ]
    }
   ],
   "source": [
    "# 146\n",
    "\n",
    "리스트 = [1, 2, 3]\n",
    "for i in 리스트:\n",
    "    print('3 X', i)"
   ]
  },
  {
   "cell_type": "code",
   "execution_count": 34,
   "id": "4c3c9697",
   "metadata": {
    "ExecuteTime": {
     "end_time": "2023-12-10T08:25:40.458935Z",
     "start_time": "2023-12-10T08:25:40.453642Z"
    }
   },
   "outputs": [
    {
     "name": "stdout",
     "output_type": "stream",
     "text": [
      "3 X 1 = 3\n",
      "3 X 2 = 6\n",
      "3 X 3 = 9\n"
     ]
    }
   ],
   "source": [
    "# 147\n",
    "리스트 = [1, 2, 3]\n",
    "for i in 리스트:\n",
    "    print('3 X', i, '=', 3*i)\n"
   ]
  },
  {
   "cell_type": "code",
   "execution_count": 37,
   "id": "412cfd7f",
   "metadata": {
    "ExecuteTime": {
     "end_time": "2023-12-10T08:26:52.368085Z",
     "start_time": "2023-12-10T08:26:52.363612Z"
    }
   },
   "outputs": [
    {
     "name": "stdout",
     "output_type": "stream",
     "text": [
      "나\n",
      "다\n",
      "라\n"
     ]
    }
   ],
   "source": [
    "# 148\n",
    "\n",
    "리스트 = [\"가\", \"나\", \"다\", \"라\"]\n",
    "for i in 리스트[1:]:\n",
    "    print(i)"
   ]
  },
  {
   "cell_type": "code",
   "execution_count": 40,
   "id": "65f57804",
   "metadata": {
    "ExecuteTime": {
     "end_time": "2023-12-10T08:28:24.504169Z",
     "start_time": "2023-12-10T08:28:24.499204Z"
    }
   },
   "outputs": [
    {
     "name": "stdout",
     "output_type": "stream",
     "text": [
      "가\n",
      "다\n"
     ]
    }
   ],
   "source": [
    "# 149 리스트 슬라이싱 [시작:끝:증감폭] \n",
    "\n",
    "리스트 = [\"가\", \"나\", \"다\", \"라\"]\n",
    "for i in 리스트[::2]:\n",
    "    print(i)"
   ]
  },
  {
   "cell_type": "code",
   "execution_count": 41,
   "id": "3650af15",
   "metadata": {
    "ExecuteTime": {
     "end_time": "2023-12-10T08:28:50.747652Z",
     "start_time": "2023-12-10T08:28:50.743536Z"
    }
   },
   "outputs": [
    {
     "name": "stdout",
     "output_type": "stream",
     "text": [
      "라\n",
      "다\n",
      "나\n",
      "가\n"
     ]
    }
   ],
   "source": [
    "# 150 리스트 슬라이싱 증감폭 -1 : 역순 출력\n",
    "리스트 = [\"가\", \"나\", \"다\", \"라\"]\n",
    "for i in 리스트[::-1]:\n",
    "    print(i)"
   ]
  },
  {
   "cell_type": "code",
   "execution_count": 42,
   "id": "f1367585",
   "metadata": {
    "ExecuteTime": {
     "end_time": "2023-12-10T08:29:50.268626Z",
     "start_time": "2023-12-10T08:29:50.263925Z"
    }
   },
   "outputs": [
    {
     "name": "stdout",
     "output_type": "stream",
     "text": [
      "-20\n",
      "-3\n"
     ]
    }
   ],
   "source": [
    "# 151\n",
    "\n",
    "리스트 = [3, -20, -3, 44]\n",
    "for i in 리스트:\n",
    "    if i < 0:\n",
    "        print(i)"
   ]
  },
  {
   "cell_type": "code",
   "execution_count": 43,
   "id": "cccfc83a",
   "metadata": {
    "ExecuteTime": {
     "end_time": "2023-12-10T08:30:21.858531Z",
     "start_time": "2023-12-10T08:30:21.854277Z"
    }
   },
   "outputs": [
    {
     "name": "stdout",
     "output_type": "stream",
     "text": [
      "3\n"
     ]
    }
   ],
   "source": [
    "# 152\n",
    "\n",
    "리스트 = [3, 100, 23, 44]\n",
    "for i in 리스트:\n",
    "    if i % 3 == 0:\n",
    "        print(i)"
   ]
  },
  {
   "cell_type": "code",
   "execution_count": 44,
   "id": "9b0d47f8",
   "metadata": {
    "ExecuteTime": {
     "end_time": "2023-12-10T08:31:07.428971Z",
     "start_time": "2023-12-10T08:31:07.424421Z"
    }
   },
   "outputs": [
    {
     "name": "stdout",
     "output_type": "stream",
     "text": [
      "12\n",
      "18\n"
     ]
    }
   ],
   "source": [
    "# 153\n",
    "\n",
    "리스트 = [13, 21, 12, 14, 30, 18]\n",
    "for i in 리스트:\n",
    "    if i < 20 and i % 3 ==0:\n",
    "        print(i)"
   ]
  },
  {
   "cell_type": "code",
   "execution_count": 45,
   "id": "4a43a541",
   "metadata": {
    "ExecuteTime": {
     "end_time": "2023-12-10T08:31:41.300353Z",
     "start_time": "2023-12-10T08:31:41.295359Z"
    }
   },
   "outputs": [
    {
     "name": "stdout",
     "output_type": "stream",
     "text": [
      "study\n",
      "python\n",
      "language\n"
     ]
    }
   ],
   "source": [
    "# 154\n",
    "\n",
    "리스트 = [\"I\", \"study\", \"python\", \"language\", \"!\"]\n",
    "for i in 리스트:\n",
    "    if len(i) >= 3:\n",
    "        print(i)"
   ]
  },
  {
   "cell_type": "code",
   "execution_count": 48,
   "id": "07dcbab8",
   "metadata": {
    "ExecuteTime": {
     "end_time": "2023-12-10T08:32:36.018985Z",
     "start_time": "2023-12-10T08:32:36.014698Z"
    }
   },
   "outputs": [
    {
     "name": "stdout",
     "output_type": "stream",
     "text": [
      "A\n",
      "D\n"
     ]
    }
   ],
   "source": [
    "# 155 isupper() 메서드 대문자 여부를 판별(T/F)\n",
    "\n",
    "리스트 = [\"A\", \"b\", \"c\", \"D\"]\n",
    "for i in 리스트:\n",
    "    if i.isupper() == True:\n",
    "        print(i)"
   ]
  },
  {
   "cell_type": "code",
   "execution_count": 50,
   "id": "63d35abd",
   "metadata": {
    "ExecuteTime": {
     "end_time": "2023-12-10T08:33:40.338036Z",
     "start_time": "2023-12-10T08:33:40.334188Z"
    }
   },
   "outputs": [
    {
     "name": "stdout",
     "output_type": "stream",
     "text": [
      "b\n",
      "c\n"
     ]
    }
   ],
   "source": [
    "# 156\n",
    "리스트 = [\"A\", \"b\", \"c\", \"D\"]\n",
    "for i in 리스트:\n",
    "    if i.isupper() == False:\n",
    "        print(i)"
   ]
  },
  {
   "cell_type": "code",
   "execution_count": 54,
   "id": "97a619c7",
   "metadata": {
    "ExecuteTime": {
     "end_time": "2023-12-10T08:34:49.848850Z",
     "start_time": "2023-12-10T08:34:49.844443Z"
    }
   },
   "outputs": [
    {
     "name": "stdout",
     "output_type": "stream",
     "text": [
      "Dog\n",
      "Cat\n",
      "Parrot\n"
     ]
    }
   ],
   "source": [
    "# 157\n",
    "리스트 = ['dog', 'cat', 'parrot']\n",
    "for i in 리스트:\n",
    "    print(i[0].upper() + i[1:])"
   ]
  },
  {
   "cell_type": "code",
   "execution_count": 57,
   "id": "f2aa7eb3",
   "metadata": {
    "ExecuteTime": {
     "end_time": "2023-12-10T08:36:48.498704Z",
     "start_time": "2023-12-10T08:36:48.495066Z"
    }
   },
   "outputs": [
    {
     "name": "stdout",
     "output_type": "stream",
     "text": [
      "hello\n",
      "ex01\n",
      "intro\n"
     ]
    }
   ],
   "source": [
    "# 158 \n",
    "리스트 = ['hello.py', 'ex01.py', 'intro.hwp']\n",
    "for i in 리스트:\n",
    "    파일명 = i.split('.')\n",
    "    print(파일명[0])"
   ]
  },
  {
   "cell_type": "code",
   "execution_count": 58,
   "id": "d96b5b57",
   "metadata": {
    "ExecuteTime": {
     "end_time": "2023-12-10T08:37:41.809599Z",
     "start_time": "2023-12-10T08:37:41.804703Z"
    }
   },
   "outputs": [
    {
     "name": "stdout",
     "output_type": "stream",
     "text": [
      "intra.h\n",
      "define.h\n"
     ]
    }
   ],
   "source": [
    "# 159\n",
    "리스트 = ['intra.h', 'intra.c', 'define.h', 'run.py']\n",
    "for i in 리스트:\n",
    "    확장자 = i.split('.')\n",
    "    if 확장자[1] == 'h':\n",
    "        print(i)\n"
   ]
  },
  {
   "cell_type": "code",
   "execution_count": 60,
   "id": "2e0fa463",
   "metadata": {
    "ExecuteTime": {
     "end_time": "2023-12-10T08:38:35.569192Z",
     "start_time": "2023-12-10T08:38:35.564725Z"
    }
   },
   "outputs": [
    {
     "name": "stdout",
     "output_type": "stream",
     "text": [
      "intra.h\n",
      "intra.c\n",
      "define.h\n"
     ]
    }
   ],
   "source": [
    "# 160\n",
    "\n",
    "리스트 = ['intra.h', 'intra.c', 'define.h', 'run.py']\n",
    "for i in 리스트:\n",
    "    확장자 = i.split('.')\n",
    "    if 확장자[1] == 'h' or 확장자[1] =='c':\n",
    "        print(i)"
   ]
  },
  {
   "cell_type": "markdown",
   "id": "e0e86613",
   "metadata": {},
   "source": [
    "## 161-170\n",
    "* 숫자 리스트를 자동으로 만들어 주는 range 함수"
   ]
  },
  {
   "cell_type": "code",
   "execution_count": 62,
   "id": "aae06d03",
   "metadata": {
    "ExecuteTime": {
     "end_time": "2023-12-10T08:39:16.699817Z",
     "start_time": "2023-12-10T08:39:16.695829Z"
    }
   },
   "outputs": [
    {
     "name": "stdout",
     "output_type": "stream",
     "text": [
      "0\n",
      "1\n",
      "2\n",
      "3\n",
      "4\n",
      "5\n",
      "6\n",
      "7\n",
      "8\n",
      "9\n",
      "10\n",
      "11\n",
      "12\n",
      "13\n",
      "14\n",
      "15\n",
      "16\n",
      "17\n",
      "18\n",
      "19\n",
      "20\n",
      "21\n",
      "22\n",
      "23\n",
      "24\n",
      "25\n",
      "26\n",
      "27\n",
      "28\n",
      "29\n",
      "30\n",
      "31\n",
      "32\n",
      "33\n",
      "34\n",
      "35\n",
      "36\n",
      "37\n",
      "38\n",
      "39\n",
      "40\n",
      "41\n",
      "42\n",
      "43\n",
      "44\n",
      "45\n",
      "46\n",
      "47\n",
      "48\n",
      "49\n",
      "50\n",
      "51\n",
      "52\n",
      "53\n",
      "54\n",
      "55\n",
      "56\n",
      "57\n",
      "58\n",
      "59\n",
      "60\n",
      "61\n",
      "62\n",
      "63\n",
      "64\n",
      "65\n",
      "66\n",
      "67\n",
      "68\n",
      "69\n",
      "70\n",
      "71\n",
      "72\n",
      "73\n",
      "74\n",
      "75\n",
      "76\n",
      "77\n",
      "78\n",
      "79\n",
      "80\n",
      "81\n",
      "82\n",
      "83\n",
      "84\n",
      "85\n",
      "86\n",
      "87\n",
      "88\n",
      "89\n",
      "90\n",
      "91\n",
      "92\n",
      "93\n",
      "94\n",
      "95\n",
      "96\n",
      "97\n",
      "98\n",
      "99\n"
     ]
    }
   ],
   "source": [
    "# 161\n",
    "for i in range(100):\n",
    "    print(i)"
   ]
  },
  {
   "cell_type": "code",
   "execution_count": 64,
   "id": "cc49196b",
   "metadata": {
    "ExecuteTime": {
     "end_time": "2023-12-10T08:40:12.381822Z",
     "start_time": "2023-12-10T08:40:12.377233Z"
    }
   },
   "outputs": [
    {
     "name": "stdout",
     "output_type": "stream",
     "text": [
      "2002\n",
      "2006\n",
      "2010\n",
      "2014\n",
      "2018\n",
      "2022\n",
      "2026\n",
      "2030\n",
      "2034\n",
      "2038\n",
      "2042\n",
      "2046\n",
      "2050\n"
     ]
    }
   ],
   "source": [
    "# 162 range(시작, 끝(+1), 증감폭)\n",
    "\n",
    "for i in range(2002,2051,4):\n",
    "    print(i)"
   ]
  },
  {
   "cell_type": "code",
   "execution_count": null,
   "id": "dcd1cefd",
   "metadata": {},
   "outputs": [],
   "source": []
  },
  {
   "cell_type": "code",
   "execution_count": 66,
   "id": "c2d92e3f",
   "metadata": {
    "ExecuteTime": {
     "end_time": "2023-12-10T08:41:05.629718Z",
     "start_time": "2023-12-10T08:41:05.625495Z"
    }
   },
   "outputs": [
    {
     "name": "stdout",
     "output_type": "stream",
     "text": [
      "3\n",
      "6\n",
      "9\n",
      "12\n",
      "15\n",
      "18\n",
      "21\n",
      "24\n",
      "27\n",
      "30\n"
     ]
    }
   ],
   "source": [
    "# 163\n",
    "\n",
    "for i in range(1, 31):\n",
    "    if i % 3 == 0:\n",
    "        print(i)"
   ]
  },
  {
   "cell_type": "code",
   "execution_count": 67,
   "id": "d5091381",
   "metadata": {
    "ExecuteTime": {
     "end_time": "2023-12-10T08:41:42.681609Z",
     "start_time": "2023-12-10T08:41:42.676609Z"
    }
   },
   "outputs": [
    {
     "name": "stdout",
     "output_type": "stream",
     "text": [
      "99\n",
      "98\n",
      "97\n",
      "96\n",
      "95\n",
      "94\n",
      "93\n",
      "92\n",
      "91\n",
      "90\n",
      "89\n",
      "88\n",
      "87\n",
      "86\n",
      "85\n",
      "84\n",
      "83\n",
      "82\n",
      "81\n",
      "80\n",
      "79\n",
      "78\n",
      "77\n",
      "76\n",
      "75\n",
      "74\n",
      "73\n",
      "72\n",
      "71\n",
      "70\n",
      "69\n",
      "68\n",
      "67\n",
      "66\n",
      "65\n",
      "64\n",
      "63\n",
      "62\n",
      "61\n",
      "60\n",
      "59\n",
      "58\n",
      "57\n",
      "56\n",
      "55\n",
      "54\n",
      "53\n",
      "52\n",
      "51\n",
      "50\n",
      "49\n",
      "48\n",
      "47\n",
      "46\n",
      "45\n",
      "44\n",
      "43\n",
      "42\n",
      "41\n",
      "40\n",
      "39\n",
      "38\n",
      "37\n",
      "36\n",
      "35\n",
      "34\n",
      "33\n",
      "32\n",
      "31\n",
      "30\n",
      "29\n",
      "28\n",
      "27\n",
      "26\n",
      "25\n",
      "24\n",
      "23\n",
      "22\n",
      "21\n",
      "20\n",
      "19\n",
      "18\n",
      "17\n",
      "16\n",
      "15\n",
      "14\n",
      "13\n",
      "12\n",
      "11\n",
      "10\n",
      "9\n",
      "8\n",
      "7\n",
      "6\n",
      "5\n",
      "4\n",
      "3\n",
      "2\n",
      "1\n",
      "0\n"
     ]
    }
   ],
   "source": [
    "# 164\n",
    "\n",
    "for i in range(100):\n",
    "    print(99-i)"
   ]
  },
  {
   "cell_type": "code",
   "execution_count": 68,
   "id": "662cdbf7",
   "metadata": {
    "ExecuteTime": {
     "end_time": "2023-12-10T08:49:03.027049Z",
     "start_time": "2023-12-10T08:49:03.023118Z"
    }
   },
   "outputs": [
    {
     "name": "stdout",
     "output_type": "stream",
     "text": [
      "0.0\n",
      "0.1\n",
      "0.2\n",
      "0.3\n",
      "0.4\n",
      "0.5\n",
      "0.6\n",
      "0.7\n",
      "0.8\n",
      "0.9\n"
     ]
    }
   ],
   "source": [
    "# 165\n",
    "\n",
    "for i in range(10):\n",
    "    print(i / 10)"
   ]
  },
  {
   "cell_type": "code",
   "execution_count": 71,
   "id": "9ed2ab8e",
   "metadata": {
    "ExecuteTime": {
     "end_time": "2023-12-10T08:50:02.966651Z",
     "start_time": "2023-12-10T08:50:02.963056Z"
    }
   },
   "outputs": [
    {
     "name": "stdout",
     "output_type": "stream",
     "text": [
      "3 x 1 = 3\n",
      "3 x 2 = 6\n",
      "3 x 3 = 9\n",
      "3 x 4 = 12\n",
      "3 x 5 = 15\n",
      "3 x 6 = 18\n",
      "3 x 7 = 21\n",
      "3 x 8 = 24\n",
      "3 x 9 = 27\n"
     ]
    }
   ],
   "source": [
    "# 166\n",
    "\n",
    "for i in range(1, 10):\n",
    "    print(3, 'x', i, '=', 3*i)"
   ]
  },
  {
   "cell_type": "code",
   "execution_count": 77,
   "id": "915e0d95",
   "metadata": {
    "ExecuteTime": {
     "end_time": "2023-12-10T08:52:00.748694Z",
     "start_time": "2023-12-10T08:52:00.743808Z"
    }
   },
   "outputs": [
    {
     "name": "stdout",
     "output_type": "stream",
     "text": [
      "3 x 1  =  3\n",
      "3 x 3  =  9\n",
      "3 x 5  =  15\n",
      "3 x 7  =  21\n",
      "3 x 9  =  27\n"
     ]
    }
   ],
   "source": [
    "# 167\n",
    "\n",
    "for i in range(1, 10) :\n",
    "    if i % 2 == 1 :\n",
    "        print (3, \"x\", i, \" = \", 3 * i)\n"
   ]
  },
  {
   "cell_type": "code",
   "execution_count": 87,
   "id": "4f9abf98",
   "metadata": {
    "ExecuteTime": {
     "end_time": "2023-12-10T08:55:18.810507Z",
     "start_time": "2023-12-10T08:55:18.806072Z"
    }
   },
   "outputs": [
    {
     "name": "stdout",
     "output_type": "stream",
     "text": [
      "합:  55\n"
     ]
    }
   ],
   "source": [
    "# 168\n",
    "합계 = 0 \n",
    "for i in range(1, 11):\n",
    "    합계 = 합계 + i\n",
    "print(\"합: \", 합계)"
   ]
  },
  {
   "cell_type": "code",
   "execution_count": 88,
   "id": "24887185",
   "metadata": {
    "ExecuteTime": {
     "end_time": "2023-12-10T08:56:24.900288Z",
     "start_time": "2023-12-10T08:56:24.896374Z"
    }
   },
   "outputs": [
    {
     "name": "stdout",
     "output_type": "stream",
     "text": [
      "합:  25\n"
     ]
    }
   ],
   "source": [
    "# 169\n",
    "\n",
    "합계 = 0\n",
    "for i in range(1, 11):\n",
    "    if i % 2 == 1:\n",
    "        합계 += i\n",
    "print(\"합: \", 합계)"
   ]
  },
  {
   "cell_type": "code",
   "execution_count": 91,
   "id": "b7cc7201",
   "metadata": {
    "ExecuteTime": {
     "end_time": "2023-12-10T08:57:21.597487Z",
     "start_time": "2023-12-10T08:57:21.593689Z"
    }
   },
   "outputs": [
    {
     "name": "stdout",
     "output_type": "stream",
     "text": [
      "3628800\n"
     ]
    }
   ],
   "source": [
    "# 170\n",
    "\n",
    "res = 1\n",
    "for i in range(1, 11):\n",
    "    res = res*i\n",
    "print(res)"
   ]
  },
  {
   "cell_type": "markdown",
   "id": "24cf116c",
   "metadata": {},
   "source": [
    "## 171-180"
   ]
  },
  {
   "cell_type": "code",
   "execution_count": 94,
   "id": "3a263af9",
   "metadata": {
    "ExecuteTime": {
     "end_time": "2023-12-10T08:58:58.495675Z",
     "start_time": "2023-12-10T08:58:58.492361Z"
    }
   },
   "outputs": [
    {
     "name": "stdout",
     "output_type": "stream",
     "text": [
      "32100\n",
      "32150\n",
      "32000\n",
      "32500\n"
     ]
    }
   ],
   "source": [
    "# 171\n",
    "\n",
    "price_list = [32100, 32150, 32000, 32500]\n",
    "for i in range(4):\n",
    "    print(price_list[i])\n"
   ]
  },
  {
   "cell_type": "code",
   "execution_count": 100,
   "id": "9e536d43",
   "metadata": {
    "ExecuteTime": {
     "end_time": "2023-12-10T09:02:44.668262Z",
     "start_time": "2023-12-10T09:02:44.663921Z"
    }
   },
   "outputs": [
    {
     "name": "stdout",
     "output_type": "stream",
     "text": [
      "0 32100\n",
      "1 32150\n",
      "2 32000\n",
      "3 32500\n"
     ]
    }
   ],
   "source": [
    "# 172\n",
    "\n",
    "price_list = [32100, 32150, 32000, 32500]\n",
    "for i in range(0,4):\n",
    "    print(i, price_list[i])"
   ]
  },
  {
   "cell_type": "code",
   "execution_count": 108,
   "id": "93f059a3",
   "metadata": {
    "ExecuteTime": {
     "end_time": "2023-12-10T09:05:10.472415Z",
     "start_time": "2023-12-10T09:05:10.468553Z"
    }
   },
   "outputs": [
    {
     "name": "stdout",
     "output_type": "stream",
     "text": [
      "3 32100\n",
      "2 32150\n",
      "1 32000\n",
      "0 32500\n"
     ]
    }
   ],
   "source": [
    "# 173\n",
    "\n",
    "price_list = [32100, 32150, 32000, 32500]\n",
    "for i in range(0, 4):\n",
    "    print(3-i, price_list[i])"
   ]
  },
  {
   "cell_type": "code",
   "execution_count": 122,
   "id": "9a46efb9",
   "metadata": {
    "ExecuteTime": {
     "end_time": "2023-12-10T09:08:14.286260Z",
     "start_time": "2023-12-10T09:08:14.281467Z"
    }
   },
   "outputs": [
    {
     "name": "stdout",
     "output_type": "stream",
     "text": [
      "100 32150\n",
      "110 32000\n",
      "120 32500\n"
     ]
    }
   ],
   "source": [
    "# 174\n",
    "\n",
    "price_list = [32100, 32150, 32000, 32500]\n",
    "for i in range(1,4):\n",
    "    print(90+10*i, price_list[i])"
   ]
  },
  {
   "cell_type": "code",
   "execution_count": 129,
   "id": "a8bc46ad",
   "metadata": {
    "ExecuteTime": {
     "end_time": "2023-12-10T09:09:56.584742Z",
     "start_time": "2023-12-10T09:09:56.580223Z"
    }
   },
   "outputs": [
    {
     "name": "stdout",
     "output_type": "stream",
     "text": [
      "가 나\n",
      "나 다\n",
      "다 라\n"
     ]
    }
   ],
   "source": [
    "# 175\n",
    "my_list = [\"가\", \"나\", \"다\", \"라\"]\n",
    "for i in range(0,3):\n",
    "    print(my_list[i], my_list[i+1])\n"
   ]
  },
  {
   "cell_type": "code",
   "execution_count": 134,
   "id": "8377e6b2",
   "metadata": {
    "ExecuteTime": {
     "end_time": "2023-12-10T09:11:38.232615Z",
     "start_time": "2023-12-10T09:11:38.226163Z"
    }
   },
   "outputs": [
    {
     "name": "stdout",
     "output_type": "stream",
     "text": [
      "가 나 다\n",
      "나 다 라\n",
      "다 라 마\n"
     ]
    }
   ],
   "source": [
    "# 176\n",
    "\n",
    "my_list = [\"가\", \"나\", \"다\", \"라\", \"마\"]\n",
    "for i in range(0,3):\n",
    "    print(my_list[i], my_list[i+1], my_list[i+2])"
   ]
  },
  {
   "cell_type": "code",
   "execution_count": 141,
   "id": "c230e4d0",
   "metadata": {
    "ExecuteTime": {
     "end_time": "2023-12-10T09:14:55.086600Z",
     "start_time": "2023-12-10T09:14:55.082882Z"
    }
   },
   "outputs": [
    {
     "name": "stdout",
     "output_type": "stream",
     "text": [
      "라 다\n",
      "다 나\n",
      "나 가\n"
     ]
    }
   ],
   "source": [
    "# 177\n",
    "\n",
    "my_list = [\"가\", \"나\", \"다\", \"라\"]\n",
    "for i in range(3, 0, -1):\n",
    "    print(my_list[i], my_list[i-1])"
   ]
  },
  {
   "cell_type": "code",
   "execution_count": 148,
   "id": "6fa696d9",
   "metadata": {
    "ExecuteTime": {
     "end_time": "2023-12-10T09:18:17.740951Z",
     "start_time": "2023-12-10T09:18:17.736361Z"
    }
   },
   "outputs": [
    {
     "name": "stdout",
     "output_type": "stream",
     "text": [
      "100\n",
      "200\n",
      "400\n"
     ]
    }
   ],
   "source": [
    "# 178\n",
    "\n",
    "my_list = [100, 200, 400, 800]\n",
    "for i in range(0,3):\n",
    "    print(my_list[i+1] - my_list[i])"
   ]
  },
  {
   "cell_type": "code",
   "execution_count": 161,
   "id": "4d627a60",
   "metadata": {
    "ExecuteTime": {
     "end_time": "2023-12-10T09:22:26.172485Z",
     "start_time": "2023-12-10T09:22:26.167662Z"
    }
   },
   "outputs": [
    {
     "name": "stdout",
     "output_type": "stream",
     "text": [
      "233.33333333333334\n",
      "466.6666666666667\n",
      "733.3333333333334\n",
      "1033.3333333333333\n"
     ]
    }
   ],
   "source": [
    "# 179\n",
    "\n",
    "my_list = [100, 200, 400, 800, 1000, 1300]\n",
    "for i in range(0,4):\n",
    "    res = my_list[i] + my_list[i+1] + my_list[i+2]\n",
    "    print(res/3)"
   ]
  },
  {
   "cell_type": "code",
   "execution_count": 163,
   "id": "b4a37e55",
   "metadata": {
    "ExecuteTime": {
     "end_time": "2023-12-10T09:24:26.293918Z",
     "start_time": "2023-12-10T09:24:26.289383Z"
    }
   },
   "outputs": [
    {
     "name": "stdout",
     "output_type": "stream",
     "text": [
      "50\n",
      "100\n",
      "30\n",
      "80\n",
      "0\n"
     ]
    }
   ],
   "source": [
    "# 180\n",
    "low_prices  = [100, 200, 400, 800, 1000]\n",
    "high_prices = [150, 300, 430, 880, 1000]\n",
    "\n",
    "for i in range(5):\n",
    "    변동폭 = high_prices[i]-low_prices[i]\n",
    "    print(변동폭)\n"
   ]
  },
  {
   "cell_type": "markdown",
   "id": "1b69daf5",
   "metadata": {},
   "source": [
    "## 181-190"
   ]
  },
  {
   "cell_type": "code",
   "execution_count": 167,
   "id": "824fa143",
   "metadata": {
    "ExecuteTime": {
     "end_time": "2023-12-10T09:28:08.444976Z",
     "start_time": "2023-12-10T09:28:08.440926Z"
    }
   },
   "outputs": [
    {
     "name": "stdout",
     "output_type": "stream",
     "text": [
      "[['101호', '102호'], ['201호', '202호'], ['301호', '302호']]\n"
     ]
    }
   ],
   "source": [
    "# 181\n",
    "\n",
    "apart = [['101호', '102호'],['201호', '202호'], ['301호', '302호']]\n",
    "print(apart)"
   ]
  },
  {
   "cell_type": "code",
   "execution_count": 171,
   "id": "48154024",
   "metadata": {
    "ExecuteTime": {
     "end_time": "2023-12-10T09:29:49.246658Z",
     "start_time": "2023-12-10T09:29:49.242005Z"
    }
   },
   "outputs": [
    {
     "name": "stdout",
     "output_type": "stream",
     "text": [
      "[['시가', 100, 200, 300], ['종가', 80, 210, 330]]\n"
     ]
    }
   ],
   "source": [
    "# 182\n",
    "\n",
    "stock = [['시가', 100, 200, 300], ['종가', 80, 210, 330]]\n",
    "print(stock)"
   ]
  },
  {
   "cell_type": "code",
   "execution_count": 175,
   "id": "23954ef8",
   "metadata": {
    "ExecuteTime": {
     "end_time": "2023-12-10T09:30:59.955071Z",
     "start_time": "2023-12-10T09:30:59.950424Z"
    }
   },
   "outputs": [
    {
     "name": "stdout",
     "output_type": "stream",
     "text": [
      "{'시가': [100, 200, 300], '종가': [80, 210, 330]}\n"
     ]
    }
   ],
   "source": [
    "# 183\n",
    "\n",
    "stock = {'시가': [100, 200, 300], '종가': [80, 210, 330]}\n",
    "print(stock)"
   ]
  },
  {
   "cell_type": "code",
   "execution_count": 179,
   "id": "7ffc321e",
   "metadata": {
    "ExecuteTime": {
     "end_time": "2023-12-10T09:32:20.177472Z",
     "start_time": "2023-12-10T09:32:20.172152Z"
    }
   },
   "outputs": [
    {
     "name": "stdout",
     "output_type": "stream",
     "text": [
      "{'10/10': [80, 110, 70, 90], '10/11': [210, 230, 190, 200]}\n"
     ]
    }
   ],
   "source": [
    "# 184\n",
    "\n",
    "stock = {'10/10': [80, 110, 70, 90], '10/11':[210,230,190,200]}\n",
    "print(stock)"
   ]
  },
  {
   "cell_type": "code",
   "execution_count": 186,
   "id": "523c93a0",
   "metadata": {
    "ExecuteTime": {
     "end_time": "2023-12-10T09:35:55.698880Z",
     "start_time": "2023-12-10T09:35:55.695231Z"
    }
   },
   "outputs": [
    {
     "name": "stdout",
     "output_type": "stream",
     "text": [
      "101 호\n",
      "102 호\n",
      "201 호\n",
      "202 호\n",
      "301 호\n",
      "302 호\n"
     ]
    }
   ],
   "source": [
    "# 185\n",
    "apart = [ [101, 102], [201, 202], [301, 302] ]\n",
    "for i in apart:\n",
    "    for 호 in i:\n",
    "        print(호, '호')"
   ]
  },
  {
   "cell_type": "code",
   "execution_count": 189,
   "id": "3dc53925",
   "metadata": {
    "ExecuteTime": {
     "end_time": "2023-12-10T09:37:00.591397Z",
     "start_time": "2023-12-10T09:37:00.587237Z"
    }
   },
   "outputs": [
    {
     "name": "stdout",
     "output_type": "stream",
     "text": [
      "301 호\n",
      "302 호\n",
      "201 호\n",
      "202 호\n",
      "101 호\n",
      "102 호\n"
     ]
    }
   ],
   "source": [
    "# 186\n",
    "\n",
    "apart = [ [101, 102], [201, 202], [301, 302] ]\n",
    "for i in apart[::-1]:\n",
    "    for 호 in i:\n",
    "        print(호, '호')"
   ]
  },
  {
   "cell_type": "code",
   "execution_count": 192,
   "id": "2a6b5890",
   "metadata": {
    "ExecuteTime": {
     "end_time": "2023-12-10T09:38:21.681756Z",
     "start_time": "2023-12-10T09:38:21.677134Z"
    }
   },
   "outputs": [
    {
     "name": "stdout",
     "output_type": "stream",
     "text": [
      "302 호\n",
      "301 호\n",
      "202 호\n",
      "201 호\n",
      "102 호\n",
      "101 호\n"
     ]
    }
   ],
   "source": [
    "# 187\n",
    "\n",
    "apart = [ [101, 102], [201, 202], [301, 302] ]\n",
    "for i in apart[::-1]:\n",
    "    for 호 in i[::-1]:\n",
    "        print(호, \"호\")"
   ]
  },
  {
   "cell_type": "code",
   "execution_count": 193,
   "id": "70b4336f",
   "metadata": {
    "ExecuteTime": {
     "end_time": "2023-12-10T09:39:41.241613Z",
     "start_time": "2023-12-10T09:39:41.237076Z"
    }
   },
   "outputs": [
    {
     "name": "stdout",
     "output_type": "stream",
     "text": [
      "101 호\n",
      "-----\n",
      "102 호\n",
      "-----\n",
      "201 호\n",
      "-----\n",
      "202 호\n",
      "-----\n",
      "301 호\n",
      "-----\n",
      "302 호\n",
      "-----\n"
     ]
    }
   ],
   "source": [
    "# 188\n",
    "apart = [ [101, 102], [201, 202], [301, 302] ]\n",
    "for i in apart:\n",
    "    for 호 in i:\n",
    "        print(호, '호')\n",
    "        print('-----')\n"
   ]
  },
  {
   "cell_type": "code",
   "execution_count": 195,
   "id": "f1c558a1",
   "metadata": {
    "ExecuteTime": {
     "end_time": "2023-12-10T09:40:57.829485Z",
     "start_time": "2023-12-10T09:40:57.824996Z"
    }
   },
   "outputs": [
    {
     "name": "stdout",
     "output_type": "stream",
     "text": [
      "101 호\n",
      "102 호\n",
      "-----\n",
      "201 호\n",
      "202 호\n",
      "-----\n",
      "301 호\n",
      "302 호\n",
      "-----\n"
     ]
    }
   ],
   "source": [
    "# 189\n",
    "\n",
    "apart = [ [101, 102], [201, 202], [301, 302] ]\n",
    "for i in apart:\n",
    "    for 호 in i:\n",
    "        print(호, '호')\n",
    "    print('-----')"
   ]
  },
  {
   "cell_type": "code",
   "execution_count": 196,
   "id": "f8f19aad",
   "metadata": {
    "ExecuteTime": {
     "end_time": "2023-12-10T09:42:32.185011Z",
     "start_time": "2023-12-10T09:42:32.179599Z"
    }
   },
   "outputs": [
    {
     "name": "stdout",
     "output_type": "stream",
     "text": [
      "101 호\n",
      "102 호\n",
      "201 호\n",
      "202 호\n",
      "301 호\n",
      "302 호\n"
     ]
    }
   ],
   "source": [
    "# 190\n",
    "\n",
    "apart = [ [101, 102], [201, 202], [301, 302] ]\n",
    "for i in apart:\n",
    "    for 호 in i:\n",
    "        print(호, '호')"
   ]
  },
  {
   "cell_type": "code",
   "execution_count": 200,
   "id": "ec06c3c5",
   "metadata": {
    "ExecuteTime": {
     "end_time": "2023-12-10T09:44:11.723469Z",
     "start_time": "2023-12-10T09:44:11.719135Z"
    }
   },
   "outputs": [
    {
     "name": "stdout",
     "output_type": "stream",
     "text": [
      "2000.28\n",
      "3050.427\n",
      "2050.2870000000003\n",
      "1980.2772\n",
      "7501.05\n",
      "2050.2870000000003\n",
      "2050.2870000000003\n",
      "1980.2772\n",
      "15452.163\n",
      "15052.107\n",
      "15552.177\n",
      "14902.086000000001\n"
     ]
    }
   ],
   "source": [
    "# 191\n",
    "\n",
    "data = [\n",
    "    [ 2000,  3050,  2050,  1980],\n",
    "    [ 7500,  2050,  2050,  1980],\n",
    "    [15450, 15050, 15550, 14900]\n",
    "]\n",
    "\n",
    "for i in data:\n",
    "    for price in i:\n",
    "        print(price*1.00014)"
   ]
  },
  {
   "cell_type": "code",
   "execution_count": 201,
   "id": "589968da",
   "metadata": {
    "ExecuteTime": {
     "end_time": "2023-12-10T09:44:35.841790Z",
     "start_time": "2023-12-10T09:44:35.837142Z"
    }
   },
   "outputs": [
    {
     "name": "stdout",
     "output_type": "stream",
     "text": [
      "2000.28\n",
      "3050.427\n",
      "2050.2870000000003\n",
      "1980.2772\n",
      "----\n",
      "7501.05\n",
      "2050.2870000000003\n",
      "2050.2870000000003\n",
      "1980.2772\n",
      "----\n",
      "15452.163\n",
      "15052.107\n",
      "15552.177\n",
      "14902.086000000001\n",
      "----\n"
     ]
    }
   ],
   "source": [
    "# 192\n",
    "\n",
    "data = [\n",
    "    [ 2000,  3050,  2050,  1980],\n",
    "    [ 7500,  2050,  2050,  1980],\n",
    "    [15450, 15050, 15550, 14900]\n",
    "]\n",
    "\n",
    "for i in data:\n",
    "    for price in i:\n",
    "        print(price*1.00014)\n",
    "    print('----')"
   ]
  },
  {
   "cell_type": "code",
   "execution_count": 208,
   "id": "89f8bae1",
   "metadata": {
    "ExecuteTime": {
     "end_time": "2023-12-10T09:47:47.454849Z",
     "start_time": "2023-12-10T09:47:47.449651Z"
    }
   },
   "outputs": [
    {
     "name": "stdout",
     "output_type": "stream",
     "text": [
      "[2000.28, 3050.427, 2050.2870000000003, 1980.2772, 7501.05, 2050.2870000000003, 2050.2870000000003, 1980.2772, 15452.163, 15052.107, 15552.177, 14902.086000000001]\n"
     ]
    }
   ],
   "source": [
    "# 193 append 매소드 - list에 새로운 요소 추가\n",
    "\n",
    "data = [\n",
    "    [ 2000,  3050,  2050,  1980],\n",
    "    [ 7500,  2050,  2050,  1980],\n",
    "    [15450, 15050, 15550, 14900]\n",
    "]\n",
    "\n",
    "res = [] # 빈 리스트 생성\n",
    "for i in data:\n",
    "    for price in i:\n",
    "        res.append(price*1.00014)\n",
    "print(res)"
   ]
  },
  {
   "cell_type": "code",
   "execution_count": 209,
   "id": "25532281",
   "metadata": {
    "ExecuteTime": {
     "end_time": "2023-12-10T09:49:22.856080Z",
     "start_time": "2023-12-10T09:49:22.850146Z"
    }
   },
   "outputs": [
    {
     "name": "stdout",
     "output_type": "stream",
     "text": [
      "[[2000.28, 3050.427, 2050.2870000000003, 1980.2772], [7501.05, 2050.2870000000003, 2050.2870000000003, 1980.2772], [15452.163, 15052.107, 15552.177, 14902.086000000001]]\n"
     ]
    }
   ],
   "source": [
    "# 194 \n",
    "\n",
    "data = [\n",
    "    [ 2000,  3050,  2050,  1980],\n",
    "    [ 7500,  2050,  2050,  1980],\n",
    "    [15450, 15050, 15550, 14900]\n",
    "]\n",
    "\n",
    "res = [] # 빈 리스트 생성1\n",
    "for i in data:\n",
    "    sub = [] #이차원 배열\n",
    "    for price in i:\n",
    "        sub.append(price*1.00014)\n",
    "    res.append(sub)\n",
    "print(res)"
   ]
  },
  {
   "cell_type": "code",
   "execution_count": 215,
   "id": "9df4d59a",
   "metadata": {
    "ExecuteTime": {
     "end_time": "2023-12-10T09:52:21.626509Z",
     "start_time": "2023-12-10T09:52:21.621452Z"
    }
   },
   "outputs": [
    {
     "name": "stdout",
     "output_type": "stream",
     "text": [
      "100\n",
      "190\n",
      "310\n"
     ]
    }
   ],
   "source": [
    "# 195\n",
    "\n",
    "ohlc = [[\"open\", \"high\", \"low\", \"close\"],\n",
    "        [100, 110, 70, 100],\n",
    "        [200, 210, 180, 190],\n",
    "        [300, 310, 300, 310]]\n",
    "\n",
    "for i in ohlc[1:]:\n",
    "    print(i[3])"
   ]
  },
  {
   "cell_type": "code",
   "execution_count": 217,
   "id": "71df7451",
   "metadata": {
    "ExecuteTime": {
     "end_time": "2023-12-10T09:53:12.776631Z",
     "start_time": "2023-12-10T09:53:12.772079Z"
    }
   },
   "outputs": [
    {
     "name": "stdout",
     "output_type": "stream",
     "text": [
      "190\n",
      "310\n"
     ]
    }
   ],
   "source": [
    "# 196\n",
    "\n",
    "ohlc = [[\"open\", \"high\", \"low\", \"close\"],\n",
    "        [100, 110, 70, 100],\n",
    "        [200, 210, 180, 190],\n",
    "        [300, 310, 300, 310]]\n",
    "\n",
    "for i in ohlc[1:]:\n",
    "    if i[3] > 150:\n",
    "        print(i[3])"
   ]
  },
  {
   "cell_type": "code",
   "execution_count": 218,
   "id": "5e1ec04d",
   "metadata": {
    "ExecuteTime": {
     "end_time": "2023-12-10T09:54:13.048523Z",
     "start_time": "2023-12-10T09:54:13.042548Z"
    }
   },
   "outputs": [
    {
     "name": "stdout",
     "output_type": "stream",
     "text": [
      "100\n",
      "310\n"
     ]
    }
   ],
   "source": [
    "# 197\n",
    "\n",
    "ohlc = [[\"open\", \"high\", \"low\", \"close\"],\n",
    "        [100, 110, 70, 100],\n",
    "        [200, 210, 180, 190],\n",
    "        [300, 310, 300, 310]]\n",
    "\n",
    "for i in ohlc[1:]:\n",
    "    if i[3] >= i[0]:\n",
    "        print(i[3])"
   ]
  },
  {
   "cell_type": "code",
   "execution_count": 220,
   "id": "06d5aabd",
   "metadata": {
    "ExecuteTime": {
     "end_time": "2023-12-10T09:56:02.995369Z",
     "start_time": "2023-12-10T09:56:02.991804Z"
    }
   },
   "outputs": [
    {
     "name": "stdout",
     "output_type": "stream",
     "text": [
      "[40, 30, 10]\n"
     ]
    }
   ],
   "source": [
    "# 198\n",
    "\n",
    "ohlc = [[\"open\", \"high\", \"low\", \"close\"],\n",
    "        [100, 110, 70, 100],\n",
    "        [200, 210, 180, 190],\n",
    "        [300, 310, 300, 310]]\n",
    "\n",
    "volatility = []\n",
    "for i in ohlc[1:]:\n",
    "    volatility.append(i[1] - i[2])\n",
    "    \n",
    "print(volatility)"
   ]
  },
  {
   "cell_type": "code",
   "execution_count": 221,
   "id": "acae4d0f",
   "metadata": {
    "ExecuteTime": {
     "end_time": "2023-12-10T09:57:13.437766Z",
     "start_time": "2023-12-10T09:57:13.433386Z"
    }
   },
   "outputs": [
    {
     "name": "stdout",
     "output_type": "stream",
     "text": [
      "10\n"
     ]
    }
   ],
   "source": [
    "# 199\n",
    "\n",
    "ohlc = [[\"open\", \"high\", \"low\", \"close\"],\n",
    "        [100, 110, 70, 100],\n",
    "        [200, 210, 180, 190],\n",
    "        [300, 310, 300, 310]]\n",
    "\n",
    "for i in ohlc[1:]:\n",
    "    if i[3] > i[0]:\n",
    "        print(i[3]-i[0])"
   ]
  },
  {
   "cell_type": "code",
   "execution_count": 229,
   "id": "81450d20",
   "metadata": {
    "ExecuteTime": {
     "end_time": "2023-12-10T10:00:07.438410Z",
     "start_time": "2023-12-10T10:00:07.433674Z"
    }
   },
   "outputs": [
    {
     "name": "stdout",
     "output_type": "stream",
     "text": [
      "0\n"
     ]
    }
   ],
   "source": [
    "# 200\n",
    "\n",
    "ohlc = [[\"open\", \"high\", \"low\", \"close\"],\n",
    "        [100, 110, 70, 100],\n",
    "        [200, 210, 180, 190],\n",
    "        [300, 310, 300, 310]]\n",
    "\n",
    "profit = []\n",
    "for i in ohlc[1:]:\n",
    "    profit.append(i[3] - i[0])\n",
    "print(sum(profit))"
   ]
  },
  {
   "cell_type": "markdown",
   "id": "41230349",
   "metadata": {},
   "source": [
    "# 파이썬 함수 (201 ~ 220)"
   ]
  },
  {
   "cell_type": "code",
   "execution_count": 3,
   "id": "da7368da",
   "metadata": {
    "ExecuteTime": {
     "end_time": "2023-12-02T14:21:49.184298Z",
     "start_time": "2023-12-02T14:21:49.181757Z"
    }
   },
   "outputs": [],
   "source": [
    "# 201\n",
    "\n",
    "def print_coin():\n",
    "    print('비트코인')"
   ]
  },
  {
   "cell_type": "code",
   "execution_count": 4,
   "id": "9e47719e",
   "metadata": {
    "ExecuteTime": {
     "end_time": "2023-12-02T14:21:50.719823Z",
     "start_time": "2023-12-02T14:21:50.715399Z"
    }
   },
   "outputs": [
    {
     "name": "stdout",
     "output_type": "stream",
     "text": [
      "비트코인\n"
     ]
    }
   ],
   "source": [
    "# 202\n",
    "print_coin()"
   ]
  },
  {
   "cell_type": "code",
   "execution_count": 13,
   "id": "37c82840",
   "metadata": {
    "ExecuteTime": {
     "end_time": "2023-12-02T14:23:32.311352Z",
     "start_time": "2023-12-02T14:23:32.307188Z"
    }
   },
   "outputs": [
    {
     "name": "stdout",
     "output_type": "stream",
     "text": [
      "비트코인\n",
      "비트코인\n",
      "비트코인\n",
      "비트코인\n",
      "비트코인\n",
      "비트코인\n",
      "비트코인\n",
      "비트코인\n",
      "비트코인\n",
      "비트코인\n"
     ]
    }
   ],
   "source": [
    "#203\n",
    "for i in range(10):\n",
    "    print_coin()"
   ]
  },
  {
   "cell_type": "code",
   "execution_count": 15,
   "id": "72508934",
   "metadata": {
    "ExecuteTime": {
     "end_time": "2023-12-02T14:24:46.623268Z",
     "start_time": "2023-12-02T14:24:46.619886Z"
    }
   },
   "outputs": [],
   "source": [
    "# 204\n",
    "def print_coins():\n",
    "    for i in range(10):\n",
    "        print('비트코인')"
   ]
  },
  {
   "cell_type": "code",
   "execution_count": 17,
   "id": "080d195c",
   "metadata": {
    "ExecuteTime": {
     "end_time": "2023-12-02T14:25:50.665447Z",
     "start_time": "2023-12-02T14:25:50.649505Z"
    }
   },
   "outputs": [
    {
     "ename": "NameError",
     "evalue": "name 'hello' is not defined",
     "output_type": "error",
     "traceback": [
      "\u001b[1;31m---------------------------------------------------------------------------\u001b[0m",
      "\u001b[1;31mNameError\u001b[0m                                 Traceback (most recent call last)",
      "Cell \u001b[1;32mIn[17], line 2\u001b[0m\n\u001b[0;32m      1\u001b[0m \u001b[38;5;66;03m# 205\u001b[39;00m\n\u001b[1;32m----> 2\u001b[0m hello()\n\u001b[0;32m      3\u001b[0m \u001b[38;5;28;01mdef\u001b[39;00m \u001b[38;5;21mhello\u001b[39m():\n\u001b[0;32m      4\u001b[0m     \u001b[38;5;28mprint\u001b[39m(\u001b[38;5;124m\"\u001b[39m\u001b[38;5;124mHi\u001b[39m\u001b[38;5;124m\"\u001b[39m)\n",
      "\u001b[1;31mNameError\u001b[0m: name 'hello' is not defined"
     ]
    }
   ],
   "source": [
    "# 205\n",
    "hello()\n",
    "def hello():\n",
    "    print(\"Hi\")\n",
    "# 함수 정의 전에 호출되서"
   ]
  },
  {
   "cell_type": "code",
   "execution_count": 19,
   "id": "ccd6640e",
   "metadata": {
    "ExecuteTime": {
     "end_time": "2023-12-02T14:26:38.893632Z",
     "start_time": "2023-12-02T14:26:38.888165Z"
    }
   },
   "outputs": [
    {
     "name": "stdout",
     "output_type": "stream",
     "text": [
      "A\n",
      "B\n",
      "C\n",
      "A\n",
      "B\n"
     ]
    }
   ],
   "source": [
    "# 206\n",
    "\n",
    "def message() :\n",
    "    print(\"A\")\n",
    "    print(\"B\")\n",
    "\n",
    "message()\n",
    "print(\"C\")\n",
    "message()\n",
    "\n",
    "# a > b > c > a > b"
   ]
  },
  {
   "cell_type": "code",
   "execution_count": 20,
   "id": "4c202847",
   "metadata": {
    "ExecuteTime": {
     "end_time": "2023-12-02T14:27:35.243363Z",
     "start_time": "2023-12-02T14:27:35.239533Z"
    }
   },
   "outputs": [
    {
     "name": "stdout",
     "output_type": "stream",
     "text": [
      "A\n",
      "C\n",
      "B\n"
     ]
    }
   ],
   "source": [
    "# 207\n",
    "\n",
    "print(\"A\")\n",
    "\n",
    "def message() :\n",
    "    print(\"B\")\n",
    "\n",
    "print(\"C\")\n",
    "message()\n",
    "\n",
    "# A > C > B"
   ]
  },
  {
   "cell_type": "code",
   "execution_count": 21,
   "id": "d30701e2",
   "metadata": {
    "ExecuteTime": {
     "end_time": "2023-12-02T14:28:11.264094Z",
     "start_time": "2023-12-02T14:28:11.260301Z"
    }
   },
   "outputs": [
    {
     "name": "stdout",
     "output_type": "stream",
     "text": [
      "A\n",
      "C\n",
      "B\n",
      "E\n",
      "D\n"
     ]
    }
   ],
   "source": [
    "# 208 \n",
    "\n",
    "print(\"A\")\n",
    "def message1() :\n",
    "    print(\"B\")\n",
    "print(\"C\")\n",
    "def message2() :\n",
    "    print(\"D\")\n",
    "message1()\n",
    "print(\"E\")\n",
    "message2()\n",
    "\n",
    "# a > C > b > e > d"
   ]
  },
  {
   "cell_type": "code",
   "execution_count": 23,
   "id": "90f385d9",
   "metadata": {
    "ExecuteTime": {
     "end_time": "2023-12-02T14:29:43.583682Z",
     "start_time": "2023-12-02T14:29:43.579893Z"
    }
   },
   "outputs": [
    {
     "name": "stdout",
     "output_type": "stream",
     "text": [
      "B\n",
      "A\n"
     ]
    }
   ],
   "source": [
    "# 209\n",
    "def message1():\n",
    "    print(\"A\")\n",
    "\n",
    "def message2():\n",
    "    print(\"B\")\n",
    "    message1()\n",
    "\n",
    "message2()\n",
    "\n",
    "# B > A"
   ]
  },
  {
   "cell_type": "code",
   "execution_count": 24,
   "id": "c510d812",
   "metadata": {
    "ExecuteTime": {
     "end_time": "2023-12-02T14:30:44.382832Z",
     "start_time": "2023-12-02T14:30:44.376208Z"
    }
   },
   "outputs": [
    {
     "name": "stdout",
     "output_type": "stream",
     "text": [
      "B\n",
      "C\n",
      "B\n",
      "C\n",
      "B\n",
      "C\n",
      "A\n"
     ]
    }
   ],
   "source": [
    "# 210\n",
    "\n",
    "def message1():\n",
    "    print(\"A\")\n",
    "\n",
    "def message2():\n",
    "    print(\"B\")\n",
    "\n",
    "def message3():\n",
    "    for i in range (3) :\n",
    "        message2()\n",
    "        print(\"C\")\n",
    "    message1()\n",
    "\n",
    "message3()\n",
    "\n",
    "# B > C > B > C > B > C > A"
   ]
  },
  {
   "cell_type": "code",
   "execution_count": 26,
   "id": "fa0e22be",
   "metadata": {
    "ExecuteTime": {
     "end_time": "2023-12-02T14:32:56.432138Z",
     "start_time": "2023-12-02T14:32:56.428635Z"
    }
   },
   "outputs": [
    {
     "name": "stdout",
     "output_type": "stream",
     "text": [
      "안녕\n",
      "Hi\n"
     ]
    }
   ],
   "source": [
    "# 211\n",
    "\n",
    "def 함수(문자열) :\n",
    "    print(문자열)\n",
    "\n",
    "함수(\"안녕\")\n",
    "함수(\"Hi\")\n",
    "\n",
    "# 안녕 / Hi"
   ]
  },
  {
   "cell_type": "code",
   "execution_count": 27,
   "id": "3170d84c",
   "metadata": {
    "ExecuteTime": {
     "end_time": "2023-12-02T14:33:37.311865Z",
     "start_time": "2023-12-02T14:33:37.308691Z"
    }
   },
   "outputs": [
    {
     "name": "stdout",
     "output_type": "stream",
     "text": [
      "7\n",
      "15\n"
     ]
    }
   ],
   "source": [
    "# 212\n",
    "\n",
    "def 함수(a, b) :\n",
    "    print(a + b)\n",
    "\n",
    "함수(3, 4)\n",
    "함수(7, 8)\n",
    "\n",
    "# 7 / 15"
   ]
  },
  {
   "cell_type": "code",
   "execution_count": 31,
   "id": "f6be40c0",
   "metadata": {
    "ExecuteTime": {
     "end_time": "2023-12-02T14:34:32.654043Z",
     "start_time": "2023-12-02T14:34:32.639128Z"
    }
   },
   "outputs": [
    {
     "ename": "TypeError",
     "evalue": "함수() missing 1 required positional argument: '문자열'",
     "output_type": "error",
     "traceback": [
      "\u001b[1;31m---------------------------------------------------------------------------\u001b[0m",
      "\u001b[1;31mTypeError\u001b[0m                                 Traceback (most recent call last)",
      "Cell \u001b[1;32mIn[31], line 5\u001b[0m\n\u001b[0;32m      3\u001b[0m \u001b[38;5;28;01mdef\u001b[39;00m \u001b[38;5;21m함수\u001b[39m(문자열) :\n\u001b[0;32m      4\u001b[0m     \u001b[38;5;28mprint\u001b[39m(문자열)\n\u001b[1;32m----> 5\u001b[0m 함수()\n",
      "\u001b[1;31mTypeError\u001b[0m: 함수() missing 1 required positional argument: '문자열'"
     ]
    }
   ],
   "source": [
    "# 213\n",
    "\n",
    "def 함수(문자열) :\n",
    "    print(문자열)\n",
    "함수()\n",
    "\n",
    "#정의한 함수와 다르게 호출해서 오류 발생 (입력값 없음)"
   ]
  },
  {
   "cell_type": "code",
   "execution_count": 32,
   "id": "5bb41f7b",
   "metadata": {
    "ExecuteTime": {
     "end_time": "2023-12-02T14:35:09.324352Z",
     "start_time": "2023-12-02T14:35:09.295427Z"
    }
   },
   "outputs": [
    {
     "ename": "TypeError",
     "evalue": "can only concatenate str (not \"int\") to str",
     "output_type": "error",
     "traceback": [
      "\u001b[1;31m---------------------------------------------------------------------------\u001b[0m",
      "\u001b[1;31mTypeError\u001b[0m                                 Traceback (most recent call last)",
      "Cell \u001b[1;32mIn[32], line 6\u001b[0m\n\u001b[0;32m      3\u001b[0m \u001b[38;5;28;01mdef\u001b[39;00m \u001b[38;5;21m함수\u001b[39m(a, b) :\n\u001b[0;32m      4\u001b[0m     \u001b[38;5;28mprint\u001b[39m(a \u001b[38;5;241m+\u001b[39m b)\n\u001b[1;32m----> 6\u001b[0m 함수(\u001b[38;5;124m\"\u001b[39m\u001b[38;5;124m안녕\u001b[39m\u001b[38;5;124m\"\u001b[39m, \u001b[38;5;241m3\u001b[39m)\n",
      "Cell \u001b[1;32mIn[32], line 4\u001b[0m, in \u001b[0;36m함수\u001b[1;34m(a, b)\u001b[0m\n\u001b[0;32m      3\u001b[0m \u001b[38;5;28;01mdef\u001b[39;00m \u001b[38;5;21m함수\u001b[39m(a, b) :\n\u001b[1;32m----> 4\u001b[0m     \u001b[38;5;28mprint\u001b[39m(a \u001b[38;5;241m+\u001b[39m b)\n",
      "\u001b[1;31mTypeError\u001b[0m: can only concatenate str (not \"int\") to str"
     ]
    }
   ],
   "source": [
    "# 214\n",
    "\n",
    "def 함수(a, b) :\n",
    "    print(a + b)\n",
    "\n",
    "함수(\"안녕\", 3)\n",
    "\n",
    "# 입력값 타입이 달라서 덧셈 불가"
   ]
  },
  {
   "cell_type": "code",
   "execution_count": 35,
   "id": "0a8e911d",
   "metadata": {
    "ExecuteTime": {
     "end_time": "2023-12-02T14:36:37.266992Z",
     "start_time": "2023-12-02T14:36:37.262954Z"
    }
   },
   "outputs": [],
   "source": [
    "# 215\n",
    "\n",
    "def print_with_smile(문자):\n",
    "    print (문자 + \":D\")"
   ]
  },
  {
   "cell_type": "code",
   "execution_count": 38,
   "id": "c8d3ebd8",
   "metadata": {
    "ExecuteTime": {
     "end_time": "2023-12-02T14:37:25.730150Z",
     "start_time": "2023-12-02T14:37:25.726261Z"
    }
   },
   "outputs": [
    {
     "name": "stdout",
     "output_type": "stream",
     "text": [
      "안녕하세요:D\n"
     ]
    }
   ],
   "source": [
    "# 216\n",
    "\n",
    "print_with_smile(\"안녕하세요\")"
   ]
  },
  {
   "cell_type": "code",
   "execution_count": 39,
   "id": "b260f585",
   "metadata": {
    "ExecuteTime": {
     "end_time": "2023-12-02T14:37:40.837884Z",
     "start_time": "2023-12-02T14:37:40.831282Z"
    }
   },
   "outputs": [
    {
     "data": {
      "text/plain": [
       "13000.0"
      ]
     },
     "execution_count": 39,
     "metadata": {},
     "output_type": "execute_result"
    }
   ],
   "source": [
    "# 217 \n",
    "\n",
    "def print_upper_price(a):\n",
    "    return a * 1.3\n",
    "\n",
    "a = 10000\n",
    "print_upper_price(a)\n",
    "\n",
    "# 상한가: 주가가 상승할 수 있는 가장 높은 가격\n",
    "# 하루에 30%만 뛰라고 법으로 정해 놓음"
   ]
  },
  {
   "cell_type": "code",
   "execution_count": 29,
   "id": "8747f395",
   "metadata": {
    "ExecuteTime": {
     "end_time": "2023-11-30T07:49:28.344467Z",
     "start_time": "2023-11-30T07:49:28.340307Z"
    }
   },
   "outputs": [
    {
     "name": "stdout",
     "output_type": "stream",
     "text": [
      "13000.0\n"
     ]
    }
   ],
   "source": [
    "def print_upper_price(price) :\n",
    "    print(price * 1.3)\n",
    "\n",
    "price = 10000\n",
    "print_upper_price(price)"
   ]
  },
  {
   "cell_type": "code",
   "execution_count": 40,
   "id": "0e9f5c05",
   "metadata": {
    "ExecuteTime": {
     "end_time": "2023-12-02T14:38:23.255315Z",
     "start_time": "2023-12-02T14:38:23.249399Z"
    }
   },
   "outputs": [
    {
     "data": {
      "text/plain": [
       "3"
      ]
     },
     "execution_count": 40,
     "metadata": {},
     "output_type": "execute_result"
    }
   ],
   "source": [
    "# 218\n",
    "\n",
    "def print_sum(a, b):\n",
    "    return a + b\n",
    "\n",
    "print_sum(1, 2)"
   ]
  },
  {
   "cell_type": "code",
   "execution_count": 41,
   "id": "693ab552",
   "metadata": {
    "ExecuteTime": {
     "end_time": "2023-12-02T14:39:59.530332Z",
     "start_time": "2023-12-02T14:39:59.525610Z"
    }
   },
   "outputs": [
    {
     "data": {
      "text/plain": [
       "(7, -1, 12, 0.75)"
      ]
     },
     "execution_count": 41,
     "metadata": {},
     "output_type": "execute_result"
    }
   ],
   "source": [
    "# 219 \n",
    "def print_arithmetic_operation(a, b):\n",
    "    return a + b, a - b, a * b, a / b\n",
    "\n",
    "print_arithmetic_operation(3, 4)"
   ]
  },
  {
   "cell_type": "code",
   "execution_count": 14,
   "id": "ff9e08f6",
   "metadata": {
    "ExecuteTime": {
     "end_time": "2023-11-30T07:40:12.088712Z",
     "start_time": "2023-11-30T07:40:12.082745Z"
    }
   },
   "outputs": [
    {
     "name": "stdout",
     "output_type": "stream",
     "text": [
      "3 + 4 = 7\n",
      "3 - 4 = -1\n",
      "3 * 4 = 12\n",
      "3 / 4 = 0.75\n"
     ]
    }
   ],
   "source": [
    "def print_arithmetic_operation(a, b):\n",
    "    print(a, \"+\", b, \"=\", a+b)\n",
    "    print(a, \"-\", b, \"=\", a-b)\n",
    "    print(a, \"*\", b, \"=\", a*b)\n",
    "    print(a, \"/\", b, \"=\", a/b)\n",
    "\n",
    "print_arithmetic_operation(3, 4)\n",
    "\n",
    "# 특정 형식에 맞춰 출력할 때는 print를 쓰자"
   ]
  },
  {
   "cell_type": "code",
   "execution_count": 43,
   "id": "49117fe8",
   "metadata": {
    "ExecuteTime": {
     "end_time": "2023-12-02T14:42:59.107645Z",
     "start_time": "2023-12-02T14:42:59.102326Z"
    }
   },
   "outputs": [
    {
     "name": "stdout",
     "output_type": "stream",
     "text": [
      "3\n",
      "3\n",
      "3\n"
     ]
    }
   ],
   "source": [
    "# 220 \n",
    "\n",
    "def print_max(a, b, c):\n",
    "    if a > b and a > c:\n",
    "        print(a)\n",
    "    elif b > c and b > a:\n",
    "        print(b)\n",
    "    else:\n",
    "        print(c)\n",
    "\n",
    "print_max(3, 2, 1)\n",
    "print_max(2, 3, 1)\n",
    "print_max(1, 2, 3)"
   ]
  },
  {
   "cell_type": "code",
   "execution_count": 45,
   "id": "bc510f04",
   "metadata": {
    "ExecuteTime": {
     "end_time": "2023-12-02T14:44:17.849244Z",
     "start_time": "2023-12-02T14:44:17.845678Z"
    }
   },
   "outputs": [
    {
     "name": "stdout",
     "output_type": "stream",
     "text": [
      "nohtyp\n"
     ]
    }
   ],
   "source": [
    "# 221\n",
    "\n",
    "def print_reverse(a):\n",
    "    print(a[::-1])\n",
    "    \n",
    "print_reverse(\"python\")\n",
    "\n",
    "# 역순 = 슬라이싱 사용 [::-1]"
   ]
  },
  {
   "cell_type": "code",
   "execution_count": 48,
   "id": "1d769e33",
   "metadata": {
    "ExecuteTime": {
     "end_time": "2023-12-02T14:47:19.099472Z",
     "start_time": "2023-12-02T14:47:19.094537Z"
    }
   },
   "outputs": [
    {
     "name": "stdout",
     "output_type": "stream",
     "text": [
      "2.0\n"
     ]
    }
   ],
   "source": [
    "# 222\n",
    "\n",
    "def print_score (score):\n",
    "    print(sum(score)/len(score))\n",
    "\n",
    "print_score ([1, 2, 3])\n"
   ]
  },
  {
   "cell_type": "code",
   "execution_count": 52,
   "id": "312a552f",
   "metadata": {
    "ExecuteTime": {
     "end_time": "2023-12-02T14:50:26.781381Z",
     "start_time": "2023-12-02T14:50:26.776944Z"
    }
   },
   "outputs": [
    {
     "name": "stdout",
     "output_type": "stream",
     "text": [
      "2\n",
      "10\n",
      "12\n"
     ]
    }
   ],
   "source": [
    "# 223\n",
    "\n",
    "def print_even(a):\n",
    "    for i in a:\n",
    "        if i % 2 == 0:\n",
    "            print(i)\n",
    "\n",
    "print_even ([1, 3, 2, 10, 12, 11, 15])\n"
   ]
  },
  {
   "cell_type": "code",
   "execution_count": 58,
   "id": "5eb18a52",
   "metadata": {
    "ExecuteTime": {
     "end_time": "2023-12-02T14:54:26.191197Z",
     "start_time": "2023-12-02T14:54:26.186313Z"
    }
   },
   "outputs": [
    {
     "name": "stdout",
     "output_type": "stream",
     "text": [
      "이름\n",
      "나이\n",
      "성별\n"
     ]
    }
   ],
   "source": [
    "# 224\n",
    "\n",
    "def print_keys(a):\n",
    "    keys = a.keys()\n",
    "    for k in keys:\n",
    "        print(k)\n",
    "\n",
    "print_keys ({\"이름\":\"김말똥\", \"나이\":30, \"성별\":0})\n"
   ]
  },
  {
   "cell_type": "code",
   "execution_count": 60,
   "id": "b5053f4e",
   "metadata": {
    "ExecuteTime": {
     "end_time": "2023-12-02T14:56:12.630197Z",
     "start_time": "2023-12-02T14:56:12.624936Z"
    },
    "scrolled": true
   },
   "outputs": [
    {
     "name": "stdout",
     "output_type": "stream",
     "text": [
      "[100, 130, 100, 100]\n"
     ]
    }
   ],
   "source": [
    "# 225\n",
    "\n",
    "def print_value_by_key (my_dict, key):\n",
    "    print(my_dict[key])\n",
    "\n",
    "my_dict = {\"10/26\" : [100, 130, 100, 100],\n",
    "           \"10/27\" : [10, 12, 10, 11]}\n",
    "print_value_by_key  (my_dict, \"10/26\")"
   ]
  },
  {
   "cell_type": "code",
   "execution_count": 239,
   "id": "57b4c418",
   "metadata": {
    "ExecuteTime": {
     "end_time": "2023-12-10T10:14:49.300663Z",
     "start_time": "2023-12-10T10:14:49.295902Z"
    }
   },
   "outputs": [
    {
     "name": "stdout",
     "output_type": "stream",
     "text": [
      "아이엠어보\n",
      "이유알어걸\n"
     ]
    }
   ],
   "source": [
    "# 226\n",
    "\n",
    "def print_5xn(data):\n",
    "    line = len(data) / 5\n",
    "    line = int(line)\n",
    "    \n",
    "    for i in range(line):\n",
    "        print(data[5*i:5*i+5])\n",
    "\n",
    "print_5xn(\"아이엠어보이유알어걸\")"
   ]
  },
  {
   "cell_type": "code",
   "execution_count": 243,
   "id": "6653ec81",
   "metadata": {
    "ExecuteTime": {
     "end_time": "2023-12-10T10:16:48.882380Z",
     "start_time": "2023-12-10T10:16:48.878173Z"
    }
   },
   "outputs": [
    {
     "name": "stdout",
     "output_type": "stream",
     "text": [
      "아이엠\n",
      "어보이\n",
      "유알어\n",
      "걸\n"
     ]
    }
   ],
   "source": [
    "# 227\n",
    "\n",
    "def print_mxn(line, num):\n",
    "    data = int(len(line) / num)\n",
    "    for i in range(data + 1):\n",
    "        print(line[i*num: i*num+num])\n",
    "        \n",
    "print_mxn(\"아이엠어보이유알어걸\", 3)\n"
   ]
  },
  {
   "cell_type": "code",
   "execution_count": 246,
   "id": "91b56053",
   "metadata": {
    "ExecuteTime": {
     "end_time": "2023-12-10T10:21:08.474560Z",
     "start_time": "2023-12-10T10:21:08.468574Z"
    }
   },
   "outputs": [
    {
     "data": {
      "text/plain": [
       "1000000"
      ]
     },
     "execution_count": 246,
     "metadata": {},
     "output_type": "execute_result"
    }
   ],
   "source": [
    "# 228\n",
    "\n",
    "def calc_monthly_salary(pay):\n",
    "    mpay = int(pay/12)\n",
    "    return mpay\n",
    "\n",
    "calc_monthly_salary(12000000)\n"
   ]
  },
  {
   "cell_type": "code",
   "execution_count": null,
   "id": "2fb3a45e",
   "metadata": {},
   "outputs": [],
   "source": [
    "# 229\n",
    "\n",
    "def my_print (a, b) :\n",
    "    print(\"왼쪽:\", a)\n",
    "    print(\"오른쪽:\", b)\n",
    "\n",
    "my_print(a=100, b=200)\n",
    "\n",
    "# 왼쪽: 100, 오른쪽: 200"
   ]
  },
  {
   "cell_type": "code",
   "execution_count": null,
   "id": "4495ea21",
   "metadata": {},
   "outputs": [],
   "source": [
    "# 230\n",
    "\n",
    "def my_print (a, b) :\n",
    "    print(\"왼쪽:\", a)\n",
    "    print(\"오른쪽:\", b)\n",
    "\n",
    "my_print(b=100, a=200)\n",
    "# 왼쪽: 200, 오른쪽: 100"
   ]
  },
  {
   "cell_type": "code",
   "execution_count": null,
   "id": "2760b9b7",
   "metadata": {},
   "outputs": [],
   "source": [
    "# 231\n",
    "\n",
    "def n_plus_1 (n) :\n",
    "    result = n + 1\n",
    "\n",
    "n_plus_1(3)\n",
    "print (result)\n",
    "\n",
    "# 에러 발생. 함수 내부에서 사용한 변수는 밖에서 접근 불가\n",
    "# 밖으로 전달하려면 return 사용"
   ]
  },
  {
   "cell_type": "code",
   "execution_count": 254,
   "id": "57d323ac",
   "metadata": {
    "ExecuteTime": {
     "end_time": "2023-12-10T10:25:40.337118Z",
     "start_time": "2023-12-10T10:25:40.332013Z"
    }
   },
   "outputs": [
    {
     "data": {
      "text/plain": [
       "'www.naver.com'"
      ]
     },
     "execution_count": 254,
     "metadata": {},
     "output_type": "execute_result"
    }
   ],
   "source": [
    "# 232\n",
    "\n",
    "def make_url(mystr):\n",
    "    return 'www.'+ mystr +'.com'\n",
    "\n",
    "make_url(\"naver\")\n"
   ]
  },
  {
   "cell_type": "code",
   "execution_count": 257,
   "id": "781a1e55",
   "metadata": {
    "ExecuteTime": {
     "end_time": "2023-12-10T10:26:38.387290Z",
     "start_time": "2023-12-10T10:26:38.380408Z"
    }
   },
   "outputs": [
    {
     "data": {
      "text/plain": [
       "['a', 'b', 'c', 'd']"
      ]
     },
     "execution_count": 257,
     "metadata": {},
     "output_type": "execute_result"
    }
   ],
   "source": [
    "# 233\n",
    "\n",
    "def make_list(mystr):\n",
    "    return list(mystr)\n",
    "\n",
    "make_list(\"abcd\")\n"
   ]
  },
  {
   "cell_type": "code",
   "execution_count": 268,
   "id": "8132a7b3",
   "metadata": {
    "ExecuteTime": {
     "end_time": "2023-12-10T10:30:37.158744Z",
     "start_time": "2023-12-10T10:30:37.152240Z"
    }
   },
   "outputs": [
    {
     "data": {
      "text/plain": [
       "[4, 6, 8]"
      ]
     },
     "execution_count": 268,
     "metadata": {},
     "output_type": "execute_result"
    }
   ],
   "source": [
    "# 234\n",
    "\n",
    "def pickup_even(mylist):\n",
    "    res = []\n",
    "    for mylist in mylist:\n",
    "        if mylist % 2 == 0:\n",
    "            res.append(mylist)\n",
    "    return res\n",
    "\n",
    "pickup_even([3, 4, 5, 6, 7, 8])\n"
   ]
  },
  {
   "cell_type": "code",
   "execution_count": 271,
   "id": "d3925891",
   "metadata": {
    "ExecuteTime": {
     "end_time": "2023-12-10T10:32:15.499649Z",
     "start_time": "2023-12-10T10:32:15.494121Z"
    }
   },
   "outputs": [
    {
     "data": {
      "text/plain": [
       "1234567"
      ]
     },
     "execution_count": 271,
     "metadata": {},
     "output_type": "execute_result"
    }
   ],
   "source": [
    "# 235\n",
    "\n",
    "def convert_int(mystr):\n",
    "    return int(mystr.replace(',', ''))\n",
    "\n",
    "convert_int(\"1,234,567\")\n"
   ]
  },
  {
   "cell_type": "code",
   "execution_count": null,
   "id": "decaf67f",
   "metadata": {},
   "outputs": [],
   "source": [
    "# 236\n",
    "\n",
    "def 함수(num) :\n",
    "    return num + 4\n",
    "\n",
    "a = 함수(10)\n",
    "b = 함수(a)\n",
    "c = 함수(b)\n",
    "print(c)\n",
    "# 22"
   ]
  },
  {
   "cell_type": "code",
   "execution_count": null,
   "id": "11c72382",
   "metadata": {},
   "outputs": [],
   "source": [
    "# 237\n",
    "\n",
    "def 함수(num) :\n",
    "    return num + 4\n",
    "\n",
    "c = 함수(함수(함수(10)))\n",
    "print(c)\n",
    "# 22"
   ]
  },
  {
   "cell_type": "code",
   "execution_count": null,
   "id": "8bb358db",
   "metadata": {},
   "outputs": [],
   "source": [
    "# 238\n",
    "\n",
    "def 함수1(num) :\n",
    "    return num + 4\n",
    "\n",
    "def 함수2(num) :\n",
    "    return num * 10\n",
    "\n",
    "a = 함수1(10)\n",
    "c = 함수2(a)\n",
    "print(c)\n",
    "# 140"
   ]
  },
  {
   "cell_type": "code",
   "execution_count": null,
   "id": "a03c6437",
   "metadata": {},
   "outputs": [],
   "source": [
    "# 239\n",
    "\n",
    "def 함수1(num) :\n",
    "    return num + 4\n",
    "\n",
    "def 함수2(num) :\n",
    "    num = num + 2\n",
    "    return 함수1(num)\n",
    "\n",
    "c = 함수2(10)\n",
    "print(c)\n",
    "# 16"
   ]
  },
  {
   "cell_type": "code",
   "execution_count": null,
   "id": "57f9e123",
   "metadata": {},
   "outputs": [],
   "source": [
    "# 240\n",
    "def 함수0(num) :\n",
    "    return num * 2\n",
    "\n",
    "def 함수1(num) :\n",
    "    return 함수0(num + 2)\n",
    "\n",
    "def 함수2(num) :\n",
    "    num = num + 10\n",
    "    return 함수1(num)\n",
    "\n",
    "c = 함수2(2)\n",
    "print(c)\n",
    "# 28"
   ]
  },
  {
   "cell_type": "markdown",
   "id": "5d33450e",
   "metadata": {},
   "source": [
    "# 파이썬 모듈 (241-250)"
   ]
  },
  {
   "cell_type": "markdown",
   "id": "35187a58",
   "metadata": {},
   "source": [
    "# 파이썬 클래스 (251-270)"
   ]
  },
  {
   "cell_type": "code",
   "execution_count": null,
   "id": "6c22499c",
   "metadata": {},
   "outputs": [],
   "source": [
    "# 251\n",
    "# 클래스 - 쿠키 틀\n",
    "# 객체 - 쿠키"
   ]
  },
  {
   "cell_type": "code",
   "execution_count": 2,
   "id": "5e1f67d1",
   "metadata": {
    "ExecuteTime": {
     "end_time": "2023-12-04T08:29:34.659931Z",
     "start_time": "2023-12-04T08:29:34.655944Z"
    }
   },
   "outputs": [],
   "source": [
    "# 252\n",
    "\n",
    "class Human:\n",
    "    pass"
   ]
  },
  {
   "cell_type": "code",
   "execution_count": 3,
   "id": "23c1871c",
   "metadata": {
    "ExecuteTime": {
     "end_time": "2023-12-04T08:30:12.181220Z",
     "start_time": "2023-12-04T08:30:12.176694Z"
    }
   },
   "outputs": [],
   "source": [
    "# 253\n",
    "\n",
    "class Human:\n",
    "    pass\n",
    "\n",
    "areum = Human()"
   ]
  },
  {
   "cell_type": "code",
   "execution_count": 8,
   "id": "e6ce144c",
   "metadata": {
    "ExecuteTime": {
     "end_time": "2023-12-04T08:32:15.734721Z",
     "start_time": "2023-12-04T08:32:15.730489Z"
    }
   },
   "outputs": [
    {
     "name": "stdout",
     "output_type": "stream",
     "text": [
      "응애응애\n"
     ]
    }
   ],
   "source": [
    "# 254\n",
    "\n",
    "class Human:\n",
    "    def __init__(self):\n",
    "        print(\"응애응애\")\n",
    "\n",
    "areum = Human()"
   ]
  },
  {
   "cell_type": "code",
   "execution_count": 20,
   "id": "ae515cab",
   "metadata": {
    "ExecuteTime": {
     "end_time": "2023-12-04T08:37:41.461836Z",
     "start_time": "2023-12-04T08:37:41.456875Z"
    }
   },
   "outputs": [
    {
     "name": "stdout",
     "output_type": "stream",
     "text": [
      "아름 25 여자\n"
     ]
    }
   ],
   "source": [
    "# 255-6\n",
    "\n",
    "class Human:\n",
    "    def __init__(self, name, age, sex):\n",
    "        self.name = name\n",
    "        self.age = age\n",
    "        self.sex = sex\n",
    "\n",
    "areum = Human(\"아름\", 25, \"여자\")\n",
    "print(areum.name, areum.age, areum.sex)"
   ]
  },
  {
   "cell_type": "code",
   "execution_count": 23,
   "id": "c9e95a9c",
   "metadata": {
    "ExecuteTime": {
     "end_time": "2023-12-04T09:07:21.808114Z",
     "start_time": "2023-12-04T09:07:21.799120Z"
    }
   },
   "outputs": [
    {
     "name": "stdout",
     "output_type": "stream",
     "text": [
      "이름: 아름 나이: 25 성별: 여자\n"
     ]
    }
   ],
   "source": [
    "# 257 \n",
    "\n",
    "class Human:\n",
    "    def __init__(self, name, age, sex):\n",
    "        self.name = name\n",
    "        self.age = age\n",
    "        self.sex = sex\n",
    "    def who(self):\n",
    "        print(\"이름: {} 나이: {} 성별: {}\".format(self.name, self.age, self.sex))\n",
    "        \n",
    "areum = Human(\"아름\", 25, \"여자\")\n",
    "areum.who()"
   ]
  },
  {
   "cell_type": "code",
   "execution_count": 35,
   "id": "2e61f3c4",
   "metadata": {
    "ExecuteTime": {
     "end_time": "2023-12-04T09:14:40.724690Z",
     "start_time": "2023-12-04T09:14:40.718236Z"
    }
   },
   "outputs": [
    {
     "name": "stdout",
     "output_type": "stream",
     "text": [
      "이름: 불명 나이: 미상 성별: 모름\n",
      "이름: 아름 나이: 25 성별: 여자\n"
     ]
    }
   ],
   "source": [
    "# 257-258\n",
    "\n",
    "class Human:\n",
    "    def __init__(self, name, age, sex):\n",
    "        self.name = name\n",
    "        self.age = age\n",
    "        self.sex = sex\n",
    "    def who(self):\n",
    "        print(\"이름: {} 나이: {} 성별: {}\".format(self.name, self.age, self.sex))\n",
    "    def setInfo(self, name, age, sex):\n",
    "        self.name = name\n",
    "        self.age = age\n",
    "        self.sex = sex\n",
    "\n",
    "areum = Human(\"불명\", \"미상\", \"모름\")\n",
    "areum.who()\n",
    "\n",
    "areum.setInfo(\"아름\", 25, \"여자\")\n",
    "areum.who()"
   ]
  },
  {
   "cell_type": "code",
   "execution_count": 37,
   "id": "a5939d0c",
   "metadata": {
    "ExecuteTime": {
     "end_time": "2023-12-04T09:19:30.801043Z",
     "start_time": "2023-12-04T09:19:30.794439Z"
    }
   },
   "outputs": [
    {
     "name": "stdout",
     "output_type": "stream",
     "text": [
      "나의 죽음을 알리지마라\n",
      "이름: 불명 나이: 미상 성별: 모름\n"
     ]
    }
   ],
   "source": [
    "# 259\n",
    "\n",
    "class Human:\n",
    "    def __init__(self, name, age, sex):\n",
    "        self.name = name\n",
    "        self.age = age\n",
    "        self.sex = sex\n",
    "    def __del__(self):\n",
    "        print(\"나의 죽음을 알리지마라\")\n",
    "    def who(self):\n",
    "        print(\"이름: {} 나이: {} 성별: {}\".format(self.name, self.age, self.sex))\n",
    "    def setInfo(self, name, age, sex):\n",
    "        self.name = name\n",
    "        self.age = age\n",
    "        self.sex = sex\n",
    "\n",
    "areum = Human(\"불명\", \"미상\", \"모름\")\n",
    "areum.who()\n",
    "\n",
    "areum.setInfo(\"아름\", 25, \"여자\")"
   ]
  },
  {
   "cell_type": "code",
   "execution_count": 38,
   "id": "cac9affe",
   "metadata": {
    "ExecuteTime": {
     "end_time": "2023-12-04T09:20:50.221871Z",
     "start_time": "2023-12-04T09:20:50.200437Z"
    }
   },
   "outputs": [
    {
     "ename": "TypeError",
     "evalue": "OMG.print() takes 0 positional arguments but 1 was given",
     "output_type": "error",
     "traceback": [
      "\u001b[1;31m---------------------------------------------------------------------------\u001b[0m",
      "\u001b[1;31mTypeError\u001b[0m                                 Traceback (most recent call last)",
      "Cell \u001b[1;32mIn[38], line 8\u001b[0m\n\u001b[0;32m      5\u001b[0m         \u001b[38;5;28mprint\u001b[39m(\u001b[38;5;124m\"\u001b[39m\u001b[38;5;124mOh my god\u001b[39m\u001b[38;5;124m\"\u001b[39m)\n\u001b[0;32m      7\u001b[0m mystock \u001b[38;5;241m=\u001b[39m OMG()\n\u001b[1;32m----> 8\u001b[0m mystock\u001b[38;5;241m.\u001b[39mprint()\n",
      "\u001b[1;31mTypeError\u001b[0m: OMG.print() takes 0 positional arguments but 1 was given"
     ]
    }
   ],
   "source": [
    "# 260 \n",
    "\n",
    "class OMG:\n",
    "    def print():\n",
    "        print(\"Oh my god\")\n",
    "\n",
    "mystock = OMG()\n",
    "mystock.print()\n",
    "\n",
    "# 클래스 안에 인자가 없는데 인자를 넣어줘서 오류 발생 (self가 없어서)"
   ]
  }
 ],
 "metadata": {
  "kernelspec": {
   "display_name": "Python 3 (ipykernel)",
   "language": "python",
   "name": "python3"
  },
  "language_info": {
   "codemirror_mode": {
    "name": "ipython",
    "version": 3
   },
   "file_extension": ".py",
   "mimetype": "text/x-python",
   "name": "python",
   "nbconvert_exporter": "python",
   "pygments_lexer": "ipython3",
   "version": "3.11.5"
  },
  "toc": {
   "base_numbering": 1,
   "nav_menu": {},
   "number_sections": true,
   "sideBar": true,
   "skip_h1_title": false,
   "title_cell": "Table of Contents",
   "title_sidebar": "Contents",
   "toc_cell": false,
   "toc_position": {},
   "toc_section_display": true,
   "toc_window_display": false
  }
 },
 "nbformat": 4,
 "nbformat_minor": 5
}
