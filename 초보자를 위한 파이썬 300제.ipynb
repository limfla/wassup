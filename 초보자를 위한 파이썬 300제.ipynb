{
 "cells": [
  {
   "cell_type": "markdown",
   "id": "5dc2e023",
   "metadata": {},
   "source": [
    "## 파이썬 시작하기"
   ]
  },
  {
   "cell_type": "code",
   "execution_count": 5,
   "id": "d91e0689",
   "metadata": {
    "ExecuteTime": {
     "end_time": "2023-11-24T07:58:39.174277Z",
     "start_time": "2023-11-24T07:58:39.170119Z"
    }
   },
   "outputs": [
    {
     "name": "stdout",
     "output_type": "stream",
     "text": [
      "Hello world\n"
     ]
    }
   ],
   "source": [
    "# 화면에 Hello World 문자열을 출력하세요.\n",
    "\n",
    "print('Hello world')"
   ]
  },
  {
   "cell_type": "code",
   "execution_count": 6,
   "id": "b0289226",
   "metadata": {
    "ExecuteTime": {
     "end_time": "2023-11-24T07:59:15.050414Z",
     "start_time": "2023-11-24T07:59:15.046851Z"
    }
   },
   "outputs": [
    {
     "name": "stdout",
     "output_type": "stream",
     "text": [
      "Mary's cosmetics\n"
     ]
    }
   ],
   "source": [
    "# 화면에 Mary's cosmetics을 출력하세요.\n",
    "\n",
    "print(\"Mary's cosmetics\")"
   ]
  },
  {
   "cell_type": "code",
   "execution_count": 7,
   "id": "0389be32",
   "metadata": {
    "ExecuteTime": {
     "end_time": "2023-11-24T07:59:47.435283Z",
     "start_time": "2023-11-24T07:59:47.430804Z"
    }
   },
   "outputs": [
    {
     "name": "stdout",
     "output_type": "stream",
     "text": [
      "신씨가 소리질렀다. \"도둑이야\".\n"
     ]
    }
   ],
   "source": [
    "# 신씨가 소리질렀다. \"도둑이야\".\n",
    "\n",
    "print('신씨가 소리질렀다. \"도둑이야\".')"
   ]
  },
  {
   "cell_type": "code",
   "execution_count": 11,
   "id": "9242969e",
   "metadata": {
    "ExecuteTime": {
     "end_time": "2023-11-24T08:01:01.094698Z",
     "start_time": "2023-11-24T08:01:01.090685Z"
    }
   },
   "outputs": [
    {
     "name": "stdout",
     "output_type": "stream",
     "text": [
      "C:\\Windows\n"
     ]
    }
   ],
   "source": [
    "# 화면에 C:\\Windows를 출력하세요.\n",
    "# 파이썬은 /(슬래시)로도 경로 구분 가능\n",
    "\n",
    "print('C:\\Windows')"
   ]
  },
  {
   "cell_type": "code",
   "execution_count": 13,
   "id": "27c9eb0c",
   "metadata": {
    "ExecuteTime": {
     "end_time": "2023-11-24T08:02:06.265709Z",
     "start_time": "2023-11-24T08:02:06.261499Z"
    }
   },
   "outputs": [
    {
     "name": "stdout",
     "output_type": "stream",
     "text": [
      "안녕하세요.\n",
      "만나서\t\t반갑습니다.\n"
     ]
    }
   ],
   "source": [
    "print(\"안녕하세요.\\n만나서\\t\\t반갑습니다.\")\n",
    "\n",
    "# \\n 줄바꿈\n",
    "# \\t\\t 탭!!!"
   ]
  },
  {
   "cell_type": "code",
   "execution_count": 15,
   "id": "6f6a9e62",
   "metadata": {
    "ExecuteTime": {
     "end_time": "2023-11-24T08:02:48.416072Z",
     "start_time": "2023-11-24T08:02:48.411758Z"
    }
   },
   "outputs": [
    {
     "name": "stdout",
     "output_type": "stream",
     "text": [
      "오늘은 일요일\n"
     ]
    }
   ],
   "source": [
    "print(\"오늘은\", \"일요일\")\n",
    "\n",
    "# 오늘은 일요일"
   ]
  },
  {
   "cell_type": "code",
   "execution_count": 20,
   "id": "b772ce30",
   "metadata": {
    "ExecuteTime": {
     "end_time": "2023-11-24T08:04:17.471091Z",
     "start_time": "2023-11-24T08:04:17.467715Z"
    },
    "scrolled": true
   },
   "outputs": [
    {
     "name": "stdout",
     "output_type": "stream",
     "text": [
      "naver;kakao;sk;samsung\n"
     ]
    }
   ],
   "source": [
    "print('naver', 'kakao', 'sk', 'samsung', sep=\";\")\n",
    "\n",
    "# sep=\"인자\" - 공백 대신 인자 출력"
   ]
  },
  {
   "cell_type": "code",
   "execution_count": 61,
   "id": "f9842b01",
   "metadata": {
    "ExecuteTime": {
     "end_time": "2023-11-24T08:47:53.559219Z",
     "start_time": "2023-11-24T08:47:53.551749Z"
    }
   },
   "outputs": [
    {
     "data": {
      "text/plain": [
       "'naver;kakao;sk;samsung'"
      ]
     },
     "execution_count": 61,
     "metadata": {},
     "output_type": "execute_result"
    }
   ],
   "source": [
    "# join 사용 가능 - 변수 선언 / 선언 안하는 경우엔 리스트로\n",
    "\n",
    "\";\".join(['naver','kakao','sk','samsung'])"
   ]
  },
  {
   "cell_type": "code",
   "execution_count": 21,
   "id": "62542f9d",
   "metadata": {
    "ExecuteTime": {
     "end_time": "2023-11-24T08:05:35.883408Z",
     "start_time": "2023-11-24T08:05:35.880211Z"
    }
   },
   "outputs": [
    {
     "name": "stdout",
     "output_type": "stream",
     "text": [
      "naver/kakao/sk/samsung\n"
     ]
    }
   ],
   "source": [
    "print('naver', 'kakao', 'sk', 'samsung', sep=\"/\")"
   ]
  },
  {
   "cell_type": "code",
   "execution_count": 25,
   "id": "8601c140",
   "metadata": {
    "ExecuteTime": {
     "end_time": "2023-11-24T08:07:15.134835Z",
     "start_time": "2023-11-24T08:07:15.130313Z"
    }
   },
   "outputs": [
    {
     "name": "stdout",
     "output_type": "stream",
     "text": [
      "firstsecond\n"
     ]
    }
   ],
   "source": [
    "print(\"first\", end=\"\"); print(\"second\")\n",
    "\n",
    "# end=\"\" - 여러 개의 명령어들을 줄바꿈 없이 출력"
   ]
  },
  {
   "cell_type": "code",
   "execution_count": 27,
   "id": "03f36f24",
   "metadata": {
    "ExecuteTime": {
     "end_time": "2023-11-24T08:07:40.524590Z",
     "start_time": "2023-11-24T08:07:40.520227Z"
    }
   },
   "outputs": [
    {
     "name": "stdout",
     "output_type": "stream",
     "text": [
      "1.6666666666666667\n"
     ]
    }
   ],
   "source": [
    "print(5/3)"
   ]
  },
  {
   "cell_type": "markdown",
   "id": "4aa61ace",
   "metadata": {},
   "source": [
    "## 파이썬 변수"
   ]
  },
  {
   "cell_type": "code",
   "execution_count": 33,
   "id": "d974fa7d",
   "metadata": {
    "ExecuteTime": {
     "end_time": "2023-11-24T08:09:46.981940Z",
     "start_time": "2023-11-24T08:09:46.977113Z"
    }
   },
   "outputs": [
    {
     "name": "stdout",
     "output_type": "stream",
     "text": [
      "500000\n"
     ]
    }
   ],
   "source": [
    "# 삼성전자라는 변수로 50,000원을 바인딩해보세요. \n",
    "# 삼성전자 주식 10주를 보유하고 있을 때 총 평가금액을 출력하세요.\n",
    "\n",
    "삼성전자 = 50000 #쉼표 넣으면 안됨\n",
    "총평가금액 = 삼성전자 * 10\n",
    "print(총평가금액)"
   ]
  },
  {
   "cell_type": "code",
   "execution_count": 35,
   "id": "c74cab7e",
   "metadata": {
    "ExecuteTime": {
     "end_time": "2023-11-24T08:13:50.957056Z",
     "start_time": "2023-11-24T08:13:50.951796Z"
    }
   },
   "outputs": [],
   "source": [
    "# 변수를 사용해서 시가총액, 현재가, PER 등을 바인딩해보세요.\n",
    "\n",
    "시가총액 = 298000000000000\n",
    "현재가 = 50000\n",
    "PER = 15.79"
   ]
  },
  {
   "cell_type": "code",
   "execution_count": 42,
   "id": "d40a4a2b",
   "metadata": {
    "ExecuteTime": {
     "end_time": "2023-11-24T08:16:25.786727Z",
     "start_time": "2023-11-24T08:16:25.782373Z"
    }
   },
   "outputs": [
    {
     "name": "stdout",
     "output_type": "stream",
     "text": [
      "hello! python\n"
     ]
    }
   ],
   "source": [
    "s = \"hello\"\n",
    "t = \"python\"\n",
    "print(s+\"!\", t) \n",
    "\n",
    "# 문자열 연산!!"
   ]
  },
  {
   "cell_type": "code",
   "execution_count": 43,
   "id": "43b91746",
   "metadata": {
    "ExecuteTime": {
     "end_time": "2023-11-24T08:17:59.890095Z",
     "start_time": "2023-11-24T08:17:59.886335Z"
    }
   },
   "outputs": [
    {
     "name": "stdout",
     "output_type": "stream",
     "text": [
      "hello! python\n"
     ]
    }
   ],
   "source": [
    "s = \"hello\"\n",
    "t = \"python\"\n",
    "print(s, end=\"\"); print(\"!\", t)"
   ]
  },
  {
   "cell_type": "code",
   "execution_count": 47,
   "id": "62680c90",
   "metadata": {
    "ExecuteTime": {
     "end_time": "2023-11-24T08:19:34.558410Z",
     "start_time": "2023-11-24T08:19:34.552364Z"
    }
   },
   "outputs": [
    {
     "data": {
      "text/plain": [
       "str"
      ]
     },
     "execution_count": 47,
     "metadata": {},
     "output_type": "execute_result"
    }
   ],
   "source": [
    "a = \"132\"\n",
    "type(a)"
   ]
  },
  {
   "cell_type": "code",
   "execution_count": 50,
   "id": "6c712316",
   "metadata": {
    "ExecuteTime": {
     "end_time": "2023-11-24T08:24:18.967222Z",
     "start_time": "2023-11-24T08:24:18.962839Z"
    }
   },
   "outputs": [
    {
     "name": "stdout",
     "output_type": "stream",
     "text": [
      "720 <class 'int'>\n"
     ]
    }
   ],
   "source": [
    "# 문자열 '720'를 정수형으로 변환해보세요.\n",
    "\n",
    "num_str = \"720\"\n",
    "num_int = int(num_str)\n",
    "print(num_int, type(num_int))\n",
    "\n",
    "# 형변환 - 변환타입(값)"
   ]
  },
  {
   "cell_type": "code",
   "execution_count": 51,
   "id": "462081ac",
   "metadata": {
    "ExecuteTime": {
     "end_time": "2023-11-24T08:27:07.529919Z",
     "start_time": "2023-11-24T08:27:07.525790Z"
    }
   },
   "outputs": [
    {
     "name": "stdout",
     "output_type": "stream",
     "text": [
      "100 <class 'str'>\n"
     ]
    }
   ],
   "source": [
    "# 정수 100을 문자열 '100'으로 변환해보세요.\n",
    "\n",
    "num = 100\n",
    "num_str = str(num)\n",
    "print(num_str, type(num_str))"
   ]
  },
  {
   "cell_type": "code",
   "execution_count": 54,
   "id": "50b877a3",
   "metadata": {
    "ExecuteTime": {
     "end_time": "2023-11-24T08:30:05.318024Z",
     "start_time": "2023-11-24T08:30:05.313794Z"
    }
   },
   "outputs": [
    {
     "name": "stdout",
     "output_type": "stream",
     "text": [
      "15.79 <class 'float'>\n"
     ]
    }
   ],
   "source": [
    "# 문자열 \"15.79\"를 실수(float) 타입으로 변환해보세요.\n",
    "\n",
    "str = \"15.79\"\n",
    "str = float(str)\n",
    "print(str, type(str))"
   ]
  },
  {
   "cell_type": "code",
   "execution_count": 58,
   "id": "33dc79ff",
   "metadata": {
    "ExecuteTime": {
     "end_time": "2023-11-24T08:32:10.363900Z",
     "start_time": "2023-11-24T08:32:10.346232Z"
    }
   },
   "outputs": [
    {
     "name": "stdout",
     "output_type": "stream",
     "text": [
      "2017\n",
      "2018\n",
      "2019\n"
     ]
    }
   ],
   "source": [
    "# year라는 변수가 문자열 타입의 연도를 바인딩하고 있습니다.\n",
    "# 이를 정수로 변환한 후 최근 3년의 연도를 화면에 출력해보세요.\n",
    "\n",
    "year = \"2020\"\n",
    "year = int(year)\n",
    "print(int(year)-3)\n",
    "print(int(year)-2)\n",
    "print(int(year)-1)"
   ]
  },
  {
   "cell_type": "code",
   "execution_count": 67,
   "id": "568a9147",
   "metadata": {
    "ExecuteTime": {
     "end_time": "2023-11-24T08:54:37.427181Z",
     "start_time": "2023-11-24T08:54:37.421115Z"
    }
   },
   "outputs": [
    {
     "name": "stdout",
     "output_type": "stream",
     "text": [
      "1749024\n"
     ]
    }
   ],
   "source": [
    "# 에이컨이 월 48,584원에 무이자 36개월의 조건으로 홈쇼핑에서 판매되고 있습니다.\n",
    "# 총 금액은 계산한 후 이를 화면에 출력해보세요.\n",
    "\n",
    "월요금 = 48584\n",
    "총금액 = 월요금 * 36\n",
    "print(총금액)"
   ]
  },
  {
   "cell_type": "markdown",
   "id": "f578b270",
   "metadata": {},
   "source": [
    "## 파이썬 문자열"
   ]
  },
  {
   "cell_type": "code",
   "execution_count": 6,
   "id": "f45eaca1",
   "metadata": {
    "ExecuteTime": {
     "end_time": "2023-11-26T08:25:47.820786Z",
     "start_time": "2023-11-26T08:25:47.817333Z"
    }
   },
   "outputs": [
    {
     "name": "stdout",
     "output_type": "stream",
     "text": [
      "p t\n"
     ]
    }
   ],
   "source": [
    "# letters가 바인딩하는 문자열에서 첫번째와 세번째 문자를 출력하세요.\n",
    "\n",
    "letters = 'python'\n",
    "print(letters[0],letters[2])"
   ]
  },
  {
   "cell_type": "code",
   "execution_count": 8,
   "id": "49508a40",
   "metadata": {
    "ExecuteTime": {
     "end_time": "2023-11-26T08:26:43.426051Z",
     "start_time": "2023-11-26T08:26:43.422052Z"
    }
   },
   "outputs": [
    {
     "name": "stdout",
     "output_type": "stream",
     "text": [
      "2210\n"
     ]
    }
   ],
   "source": [
    "# 자동차 번호가 다음과 같을 때 뒤에 4자리만 출력하세요.\n",
    "license_plate = \"24가 2210\"\n",
    "print(license_plate[4:])"
   ]
  },
  {
   "cell_type": "code",
   "execution_count": 11,
   "id": "bb1796c8",
   "metadata": {
    "ExecuteTime": {
     "end_time": "2023-11-26T08:34:53.393698Z",
     "start_time": "2023-11-26T08:34:53.389132Z"
    }
   },
   "outputs": [
    {
     "name": "stdout",
     "output_type": "stream",
     "text": [
      "홀홀홀\n"
     ]
    }
   ],
   "source": [
    "# '홀' 만 출력하세요.\n",
    "\n",
    "string = \"홀짝홀짝홀짝\"\n",
    "print(string[0:6:2])"
   ]
  },
  {
   "cell_type": "code",
   "execution_count": 16,
   "id": "7d419eb6",
   "metadata": {
    "ExecuteTime": {
     "end_time": "2023-11-26T08:40:07.645849Z",
     "start_time": "2023-11-26T08:40:07.640291Z"
    }
   },
   "outputs": [
    {
     "name": "stdout",
     "output_type": "stream",
     "text": [
      "NOHTYP\n"
     ]
    }
   ],
   "source": [
    "# 거꾸로 뒤집어 출력하세요.\n",
    "\n",
    "string = \"PYTHON\"\n",
    "print(string[::-1])"
   ]
  },
  {
   "cell_type": "code",
   "execution_count": 21,
   "id": "bdbbdbc7",
   "metadata": {
    "ExecuteTime": {
     "end_time": "2023-11-26T08:41:50.710470Z",
     "start_time": "2023-11-26T08:41:50.706109Z"
    }
   },
   "outputs": [
    {
     "name": "stdout",
     "output_type": "stream",
     "text": [
      "010 111 222\n"
     ]
    }
   ],
   "source": [
    "# 전화번호에서 하이푼 ('-')을 제거하고 출력\n",
    "\n",
    "phone_number = \"010-1111-2222\"\n",
    "print(phone_number[0:3],phone_number[5:8],phone_number[10:13])"
   ]
  },
  {
   "cell_type": "code",
   "execution_count": 22,
   "id": "96485831",
   "metadata": {
    "ExecuteTime": {
     "end_time": "2023-11-26T08:42:53.697727Z",
     "start_time": "2023-11-26T08:42:53.692758Z"
    }
   },
   "outputs": [
    {
     "name": "stdout",
     "output_type": "stream",
     "text": [
      "010 1111 2222\n"
     ]
    }
   ],
   "source": [
    "# 치환 매서드 Repalce(\"바꾸고 싶은 값\", \"바꿀 값\")\n",
    "\n",
    "phone_number = \"010-1111-2222\"\n",
    "phone_number1 = phone_number.replace(\"-\", \" \")\n",
    "print(phone_number1)"
   ]
  },
  {
   "cell_type": "code",
   "execution_count": 23,
   "id": "70ba1907",
   "metadata": {
    "ExecuteTime": {
     "end_time": "2023-11-26T08:44:10.546562Z",
     "start_time": "2023-11-26T08:44:10.542363Z"
    }
   },
   "outputs": [
    {
     "name": "stdout",
     "output_type": "stream",
     "text": [
      "01011112222\n"
     ]
    }
   ],
   "source": [
    "phone_number = \"010-1111-2222\"\n",
    "phone_number1 = phone_number.replace(\"-\", \"\")\n",
    "print(phone_number1)"
   ]
  },
  {
   "cell_type": "code",
   "execution_count": 36,
   "id": "77faabca",
   "metadata": {
    "ExecuteTime": {
     "end_time": "2023-11-26T08:48:49.427598Z",
     "start_time": "2023-11-26T08:48:49.422891Z"
    }
   },
   "outputs": [
    {
     "name": "stdout",
     "output_type": "stream",
     "text": [
      "kr\n"
     ]
    }
   ],
   "source": [
    "# url 에 저장된 웹 페이지 주소에서 도메인을 출력하세요.\n",
    "\n",
    "url = \"http://sharebook.kr\"\n",
    "print(url[-2:])"
   ]
  },
  {
   "cell_type": "code",
   "execution_count": 41,
   "id": "b992f2ff",
   "metadata": {
    "ExecuteTime": {
     "end_time": "2023-11-26T08:52:36.755128Z",
     "start_time": "2023-11-26T08:52:36.751313Z"
    }
   },
   "outputs": [
    {
     "name": "stdout",
     "output_type": "stream",
     "text": [
      "Abcdfe2A354A32A\n"
     ]
    }
   ],
   "source": [
    "# 소문자 'a'를 대문자 'A'로 변경\n",
    "\n",
    "string = 'abcdfe2a354a32a'\n",
    "str = string.replace(\"a\", \"A\")\n",
    "print(str)"
   ]
  },
  {
   "cell_type": "code",
   "execution_count": 43,
   "id": "98d67c45",
   "metadata": {
    "ExecuteTime": {
     "end_time": "2023-11-26T08:54:51.286590Z",
     "start_time": "2023-11-26T08:54:51.281824Z"
    }
   },
   "outputs": [
    {
     "name": "stdout",
     "output_type": "stream",
     "text": [
      "--------------------------------------------------------------------------------\n"
     ]
    }
   ],
   "source": [
    "# 화면에 '-'를 80개 출력하세요.\n",
    "\n",
    "a = '-' * 80\n",
    "print(a)"
   ]
  },
  {
   "cell_type": "code",
   "execution_count": 48,
   "id": "9771e286",
   "metadata": {
    "ExecuteTime": {
     "end_time": "2023-11-26T08:56:30.661169Z",
     "start_time": "2023-11-26T08:56:30.656839Z"
    }
   },
   "outputs": [
    {
     "name": "stdout",
     "output_type": "stream",
     "text": [
      "python java python java python java python java \n"
     ]
    }
   ],
   "source": [
    "t1 = 'python'\n",
    "t2 = 'java'\n",
    "t3 = t1 + ' ' + t2 + \" \"\n",
    "\n",
    "print (t3 * 4)"
   ]
  },
  {
   "cell_type": "code",
   "execution_count": 52,
   "id": "ac4613d8",
   "metadata": {
    "ExecuteTime": {
     "end_time": "2023-11-26T13:46:34.148739Z",
     "start_time": "2023-11-26T13:46:34.139973Z"
    }
   },
   "outputs": [
    {
     "name": "stdout",
     "output_type": "stream",
     "text": [
      "이름: 김민수 나이: 10\n",
      "이름: 이철희 나이: 13\n"
     ]
    }
   ],
   "source": [
    "# % formatting을 사용해서 다음과 같이 출력해보세요.\n",
    "\n",
    "name1 = \"김민수\" \n",
    "age1 = 10\n",
    "name2 = \"이철희\"\n",
    "age2 = 13\n",
    "\n",
    "print(\"이름: %s 나이: %d\" % (name1, age1))\n",
    "print(\"이름: %s 나이: %d\" % (name2, age2))\n",
    "\n",
    "# 문자열 데이터타입 %s, 정수형 데이터타입 %d "
   ]
  },
  {
   "cell_type": "code",
   "execution_count": 59,
   "id": "5f01a993",
   "metadata": {
    "ExecuteTime": {
     "end_time": "2023-11-26T13:59:20.074382Z",
     "start_time": "2023-11-26T13:59:20.066743Z"
    }
   },
   "outputs": [
    {
     "name": "stdout",
     "output_type": "stream",
     "text": [
      "이름: 김민수 나이: 10\n",
      "이름: 이철희 나이: 13\n"
     ]
    }
   ],
   "source": [
    "# 문자열의 format( ) 메서드를 사용\n",
    "\n",
    "name1 = \"김민수\" \n",
    "age1 = 10\n",
    "name2 = \"이철희\"\n",
    "age2 = 13\n",
    "\n",
    "print(\"이름: {} 나이: {}\".format(name1, age1))\n",
    "print(\"이름: {} 나이: {}\".format(name2, age2))"
   ]
  },
  {
   "cell_type": "code",
   "execution_count": 56,
   "id": "546b945b",
   "metadata": {
    "ExecuteTime": {
     "end_time": "2023-11-26T13:55:20.856050Z",
     "start_time": "2023-11-26T13:55:20.848313Z"
    }
   },
   "outputs": [
    {
     "name": "stdout",
     "output_type": "stream",
     "text": [
      "이름: 김민수 나이: 10\n",
      "이름: 이철희 나이: 13\n"
     ]
    }
   ],
   "source": [
    "# 문자열의 f-string 사용\n",
    "\n",
    "name1 = \"김민수\" \n",
    "age1 = 10\n",
    "name2 = \"이철희\"\n",
    "age2 = 13\n",
    "\n",
    "print(f\"이름: {name1} 나이: {age1}\")\n",
    "print(f\"이름: {name2} 나이: {age2}\")"
   ]
  },
  {
   "cell_type": "code",
   "execution_count": 78,
   "id": "b34e9039",
   "metadata": {
    "ExecuteTime": {
     "end_time": "2023-11-26T14:04:59.512269Z",
     "start_time": "2023-11-26T14:04:59.502812Z"
    }
   },
   "outputs": [
    {
     "name": "stdout",
     "output_type": "stream",
     "text": [
      "5969782550 <class 'int'>\n"
     ]
    }
   ],
   "source": [
    "# 컴마를 제거한 후 이를 정수 타입으로 변환\n",
    "\n",
    "상장주식수 = \"5,969,782,550\"\n",
    "컴마제거 = 상장주식수.replace(\",\", \"\")\n",
    "타입변환 = int(컴마제거)\n",
    "print(타입변환, type(타입변환))"
   ]
  },
  {
   "cell_type": "code",
   "execution_count": 84,
   "id": "7a01f749",
   "metadata": {
    "ExecuteTime": {
     "end_time": "2023-11-26T14:07:07.205408Z",
     "start_time": "2023-11-26T14:07:07.199300Z"
    }
   },
   "outputs": [
    {
     "name": "stdout",
     "output_type": "stream",
     "text": [
      "2020/03\n"
     ]
    }
   ],
   "source": [
    "# '2020/03'만 출력하세요.\n",
    "\n",
    "분기 = \"2020/03(E) (IFRS연결)\"\n",
    "print(분기[:7])"
   ]
  },
  {
   "cell_type": "code",
   "execution_count": 86,
   "id": "cd94359f",
   "metadata": {
    "ExecuteTime": {
     "end_time": "2023-11-26T14:08:06.400805Z",
     "start_time": "2023-11-26T14:08:06.391317Z"
    }
   },
   "outputs": [
    {
     "data": {
      "text/plain": [
       "'삼성전자'"
      ]
     },
     "execution_count": 86,
     "metadata": {},
     "output_type": "execute_result"
    }
   ],
   "source": [
    "# 문자열의 좌우의 공백이 있을 때 이를 제거\n",
    "\n",
    "data = \"   삼성전자    \"\n",
    "data.strip()"
   ]
  },
  {
   "cell_type": "code",
   "execution_count": 104,
   "id": "e06a3236",
   "metadata": {
    "ExecuteTime": {
     "end_time": "2023-11-26T14:27:24.753753Z",
     "start_time": "2023-11-26T14:27:24.745191Z"
    }
   },
   "outputs": [
    {
     "data": {
      "text/plain": [
       "'039490'"
      ]
     },
     "execution_count": 104,
     "metadata": {},
     "output_type": "execute_result"
    }
   ],
   "source": [
    "# 문자열의 오른쪽에 공백이 있을 때 이를 제거해보세요.\n",
    "\n",
    "data = \"039490     \"\n",
    "data.rstrip()"
   ]
  },
  {
   "cell_type": "code",
   "execution_count": 88,
   "id": "47cf5e0e",
   "metadata": {
    "ExecuteTime": {
     "end_time": "2023-11-26T14:10:08.120831Z",
     "start_time": "2023-11-26T14:10:08.112312Z"
    }
   },
   "outputs": [
    {
     "data": {
      "text/plain": [
       "'BTC_KRW'"
      ]
     },
     "execution_count": 88,
     "metadata": {},
     "output_type": "execute_result"
    }
   ],
   "source": [
    "# 대문자로 변경\n",
    "ticker = \"btc_krw\"\n",
    "ticker.upper()"
   ]
  },
  {
   "cell_type": "code",
   "execution_count": 90,
   "id": "8a1b73f6",
   "metadata": {
    "ExecuteTime": {
     "end_time": "2023-11-26T14:12:14.599357Z",
     "start_time": "2023-11-26T14:12:14.588796Z"
    }
   },
   "outputs": [
    {
     "data": {
      "text/plain": [
       "'btc_krw'"
      ]
     },
     "execution_count": 90,
     "metadata": {},
     "output_type": "execute_result"
    }
   ],
   "source": [
    "# 소문자로 변경\n",
    "\n",
    "ticker = \"BTC_KRW\"\n",
    "ticker.lower()"
   ]
  },
  {
   "cell_type": "code",
   "execution_count": 93,
   "id": "d374b961",
   "metadata": {
    "ExecuteTime": {
     "end_time": "2023-11-26T14:20:04.409421Z",
     "start_time": "2023-11-26T14:20:04.401337Z"
    }
   },
   "outputs": [
    {
     "data": {
      "text/plain": [
       "'Hello'"
      ]
     },
     "execution_count": 93,
     "metadata": {},
     "output_type": "execute_result"
    }
   ],
   "source": [
    "# capitalize 함수 - 첫글자 대문자 변환 \n",
    "# 문자열 'hello'가 있을 때 이를 'Hello'로 변경해보세요.\n",
    "\n",
    "a = \"hello\"\n",
    "a.capitalize()"
   ]
  },
  {
   "cell_type": "code",
   "execution_count": 96,
   "id": "83807efe",
   "metadata": {
    "ExecuteTime": {
     "end_time": "2023-11-26T14:21:43.681428Z",
     "start_time": "2023-11-26T14:21:43.672331Z"
    }
   },
   "outputs": [
    {
     "data": {
      "text/plain": [
       "True"
      ]
     },
     "execution_count": 96,
     "metadata": {},
     "output_type": "execute_result"
    }
   ],
   "source": [
    "# endswith 함수 - 문자열이 지정한 문자열로 끝나는지 체크 (T/F)\n",
    "file_name = \"보고서.xlsx\"\n",
    "file_name.endswith((\"xlsx\", \"xls\"))"
   ]
  },
  {
   "cell_type": "code",
   "execution_count": 98,
   "id": "9b72bc16",
   "metadata": {
    "ExecuteTime": {
     "end_time": "2023-11-26T14:22:40.495562Z",
     "start_time": "2023-11-26T14:22:40.485102Z"
    }
   },
   "outputs": [
    {
     "data": {
      "text/plain": [
       "True"
      ]
     },
     "execution_count": 98,
     "metadata": {},
     "output_type": "execute_result"
    }
   ],
   "source": [
    "# startswith 함수 - 문자열이 지정한 문자열로 시작하지 체크 (T/F)\n",
    "file_name = \"2020_보고서.xlsx\"\n",
    "file_name.startswith('2020')"
   ]
  },
  {
   "cell_type": "code",
   "execution_count": 99,
   "id": "f60b1c52",
   "metadata": {
    "ExecuteTime": {
     "end_time": "2023-11-26T14:24:09.379002Z",
     "start_time": "2023-11-26T14:24:09.369745Z"
    }
   },
   "outputs": [
    {
     "data": {
      "text/plain": [
       "['hello', 'world']"
      ]
     },
     "execution_count": 99,
     "metadata": {},
     "output_type": "execute_result"
    }
   ],
   "source": [
    "# split - 문자열에서 공백 기준으로 분리\n",
    "# 공백을 기준으로 문자열을 나눠보세요.\n",
    "\n",
    "a = \"hello world\"\n",
    "a.split()"
   ]
  },
  {
   "cell_type": "code",
   "execution_count": 100,
   "id": "e3a36aea",
   "metadata": {
    "ExecuteTime": {
     "end_time": "2023-11-26T14:24:58.493036Z",
     "start_time": "2023-11-26T14:24:58.483620Z"
    }
   },
   "outputs": [
    {
     "data": {
      "text/plain": [
       "['btc', 'krw']"
      ]
     },
     "execution_count": 100,
     "metadata": {},
     "output_type": "execute_result"
    }
   ],
   "source": [
    "# btc와 krw로 나눠보세요.\n",
    "\n",
    "ticker = \"btc_krw\"\n",
    "ticker.split('_')"
   ]
  },
  {
   "cell_type": "code",
   "execution_count": 101,
   "id": "205d099c",
   "metadata": {
    "ExecuteTime": {
     "end_time": "2023-11-26T14:26:39.456610Z",
     "start_time": "2023-11-26T14:26:39.447859Z"
    }
   },
   "outputs": [
    {
     "data": {
      "text/plain": [
       "['2020', '05', '01']"
      ]
     },
     "execution_count": 101,
     "metadata": {},
     "output_type": "execute_result"
    }
   ],
   "source": [
    "# 날짜를 표현하는 문자열이 있을 때 연도, 월, 일로 나눠보세요.\n",
    "\n",
    "date = \"2020-05-01\"\n",
    "date.split('-')"
   ]
  },
  {
   "cell_type": "code",
   "execution_count": null,
   "id": "2dc6600a",
   "metadata": {},
   "outputs": [],
   "source": []
  },
  {
   "cell_type": "code",
   "execution_count": null,
   "id": "c0294d45",
   "metadata": {},
   "outputs": [],
   "source": []
  },
  {
   "cell_type": "code",
   "execution_count": null,
   "id": "4b22b22c",
   "metadata": {},
   "outputs": [],
   "source": []
  },
  {
   "cell_type": "code",
   "execution_count": null,
   "id": "8f71f3b5",
   "metadata": {},
   "outputs": [],
   "source": []
  },
  {
   "cell_type": "code",
   "execution_count": null,
   "id": "ef56ab37",
   "metadata": {},
   "outputs": [],
   "source": []
  },
  {
   "cell_type": "code",
   "execution_count": null,
   "id": "162eb816",
   "metadata": {},
   "outputs": [],
   "source": []
  }
 ],
 "metadata": {
  "kernelspec": {
   "display_name": "Python 3 (ipykernel)",
   "language": "python",
   "name": "python3"
  },
  "language_info": {
   "codemirror_mode": {
    "name": "ipython",
    "version": 3
   },
   "file_extension": ".py",
   "mimetype": "text/x-python",
   "name": "python",
   "nbconvert_exporter": "python",
   "pygments_lexer": "ipython3",
   "version": "3.11.5"
  },
  "toc": {
   "base_numbering": 1,
   "nav_menu": {},
   "number_sections": true,
   "sideBar": true,
   "skip_h1_title": false,
   "title_cell": "Table of Contents",
   "title_sidebar": "Contents",
   "toc_cell": false,
   "toc_position": {},
   "toc_section_display": true,
   "toc_window_display": false
  }
 },
 "nbformat": 4,
 "nbformat_minor": 5
}
