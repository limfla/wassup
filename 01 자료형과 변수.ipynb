{
 "cells": [
  {
   "cell_type": "markdown",
   "id": "6e7c9627",
   "metadata": {},
   "source": [
    "# 숫자형"
   ]
  },
  {
   "cell_type": "markdown",
   "id": "f84f12d5",
   "metadata": {},
   "source": [
    "## 정수형"
   ]
  },
  {
   "cell_type": "code",
   "execution_count": 1,
   "id": "ea79484f",
   "metadata": {
    "ExecuteTime": {
     "end_time": "2023-11-23T02:19:10.846200Z",
     "start_time": "2023-11-23T02:19:10.843013Z"
    }
   },
   "outputs": [],
   "source": [
    "a = 123"
   ]
  },
  {
   "cell_type": "code",
   "execution_count": 2,
   "id": "fc3f856e",
   "metadata": {
    "ExecuteTime": {
     "end_time": "2023-11-23T02:19:19.210293Z",
     "start_time": "2023-11-23T02:19:19.203313Z"
    }
   },
   "outputs": [
    {
     "data": {
      "text/plain": [
       "123"
      ]
     },
     "execution_count": 2,
     "metadata": {},
     "output_type": "execute_result"
    }
   ],
   "source": [
    "a"
   ]
  },
  {
   "cell_type": "code",
   "execution_count": 3,
   "id": "01de9883",
   "metadata": {
    "ExecuteTime": {
     "end_time": "2023-11-23T02:20:47.616452Z",
     "start_time": "2023-11-23T02:20:47.611615Z"
    }
   },
   "outputs": [
    {
     "data": {
      "text/plain": [
       "-178"
      ]
     },
     "execution_count": 3,
     "metadata": {},
     "output_type": "execute_result"
    }
   ],
   "source": [
    "a = -178\n",
    "a"
   ]
  },
  {
   "cell_type": "code",
   "execution_count": 4,
   "id": "59499d0d",
   "metadata": {
    "ExecuteTime": {
     "end_time": "2023-11-23T02:21:03.563564Z",
     "start_time": "2023-11-23T02:21:03.559335Z"
    }
   },
   "outputs": [
    {
     "data": {
      "text/plain": [
       "0"
      ]
     },
     "execution_count": 4,
     "metadata": {},
     "output_type": "execute_result"
    }
   ],
   "source": [
    "a = 0\n",
    "a"
   ]
  },
  {
   "cell_type": "markdown",
   "id": "2407f826",
   "metadata": {},
   "source": [
    "## 실수형"
   ]
  },
  {
   "cell_type": "code",
   "execution_count": 5,
   "id": "d0ac9b58",
   "metadata": {
    "ExecuteTime": {
     "end_time": "2023-11-23T02:21:35.300913Z",
     "start_time": "2023-11-23T02:21:35.295682Z"
    }
   },
   "outputs": [
    {
     "data": {
      "text/plain": [
       "1.2"
      ]
     },
     "execution_count": 5,
     "metadata": {},
     "output_type": "execute_result"
    }
   ],
   "source": [
    "a = 1.2\n",
    "a"
   ]
  },
  {
   "cell_type": "code",
   "execution_count": 6,
   "id": "c7ad34ed",
   "metadata": {
    "ExecuteTime": {
     "end_time": "2023-11-23T02:21:41.618651Z",
     "start_time": "2023-11-23T02:21:41.613742Z"
    }
   },
   "outputs": [
    {
     "data": {
      "text/plain": [
       "3.4"
      ]
     },
     "execution_count": 6,
     "metadata": {},
     "output_type": "execute_result"
    }
   ],
   "source": [
    "a = 3.4\n",
    "a"
   ]
  },
  {
   "cell_type": "code",
   "execution_count": 10,
   "id": "6048d409",
   "metadata": {
    "ExecuteTime": {
     "end_time": "2023-11-23T02:22:32.526813Z",
     "start_time": "2023-11-23T02:22:32.521946Z"
    }
   },
   "outputs": [
    {
     "data": {
      "text/plain": [
       "42400000000.0"
      ]
     },
     "execution_count": 10,
     "metadata": {},
     "output_type": "execute_result"
    }
   ],
   "source": [
    "#컴퓨터식 지수 표현\n",
    "a = 4.24E10 #4.24 *10&^10\n",
    "a"
   ]
  },
  {
   "cell_type": "code",
   "execution_count": 11,
   "id": "91b3ae16",
   "metadata": {
    "ExecuteTime": {
     "end_time": "2023-11-23T02:23:20.205756Z",
     "start_time": "2023-11-23T02:23:20.200576Z"
    }
   },
   "outputs": [
    {
     "data": {
      "text/plain": [
       "127"
      ]
     },
     "execution_count": 11,
     "metadata": {},
     "output_type": "execute_result"
    }
   ],
   "source": [
    "#8진수와 16진수\n",
    "a = 0o177\n",
    "a"
   ]
  },
  {
   "cell_type": "code",
   "execution_count": 13,
   "id": "d93b01f6",
   "metadata": {
    "ExecuteTime": {
     "end_time": "2023-11-23T02:23:46.593685Z",
     "start_time": "2023-11-23T02:23:46.588988Z"
    }
   },
   "outputs": [
    {
     "data": {
      "text/plain": [
       "int"
      ]
     },
     "execution_count": 13,
     "metadata": {},
     "output_type": "execute_result"
    }
   ],
   "source": [
    "type(a) #자료형 - int 정수"
   ]
  },
  {
   "cell_type": "code",
   "execution_count": 14,
   "id": "464d824b",
   "metadata": {
    "ExecuteTime": {
     "end_time": "2023-11-23T02:23:58.900454Z",
     "start_time": "2023-11-23T02:23:58.895689Z"
    }
   },
   "outputs": [
    {
     "data": {
      "text/plain": [
       "2303"
      ]
     },
     "execution_count": 14,
     "metadata": {},
     "output_type": "execute_result"
    }
   ],
   "source": [
    "a = 0x8ff\n",
    "a"
   ]
  },
  {
   "cell_type": "markdown",
   "id": "6bd01e7c",
   "metadata": {
    "ExecuteTime": {
     "end_time": "2023-11-23T02:24:13.240735Z",
     "start_time": "2023-11-23T02:24:13.237291Z"
    }
   },
   "source": [
    "## 사칙연산"
   ]
  },
  {
   "cell_type": "code",
   "execution_count": 16,
   "id": "858d5a6d",
   "metadata": {
    "ExecuteTime": {
     "end_time": "2023-11-23T02:24:45.501283Z",
     "start_time": "2023-11-23T02:24:45.496254Z"
    }
   },
   "outputs": [
    {
     "data": {
      "text/plain": [
       "7"
      ]
     },
     "execution_count": 16,
     "metadata": {},
     "output_type": "execute_result"
    }
   ],
   "source": [
    "a = 3\n",
    "b = 4\n",
    "a + b"
   ]
  },
  {
   "cell_type": "code",
   "execution_count": 17,
   "id": "bbba6876",
   "metadata": {
    "ExecuteTime": {
     "end_time": "2023-11-23T02:25:04.394624Z",
     "start_time": "2023-11-23T02:25:04.389562Z"
    }
   },
   "outputs": [
    {
     "data": {
      "text/plain": [
       "12"
      ]
     },
     "execution_count": 17,
     "metadata": {},
     "output_type": "execute_result"
    }
   ],
   "source": [
    "a * b"
   ]
  },
  {
   "cell_type": "code",
   "execution_count": 18,
   "id": "82a02cff",
   "metadata": {
    "ExecuteTime": {
     "end_time": "2023-11-23T02:25:13.085720Z",
     "start_time": "2023-11-23T02:25:13.081291Z"
    }
   },
   "outputs": [
    {
     "data": {
      "text/plain": [
       "0.75"
      ]
     },
     "execution_count": 18,
     "metadata": {},
     "output_type": "execute_result"
    }
   ],
   "source": [
    "a / b"
   ]
  },
  {
   "cell_type": "code",
   "execution_count": 19,
   "id": "0b406cf2",
   "metadata": {
    "ExecuteTime": {
     "end_time": "2023-11-23T02:26:16.156016Z",
     "start_time": "2023-11-23T02:26:16.150753Z"
    }
   },
   "outputs": [
    {
     "data": {
      "text/plain": [
       "81"
      ]
     },
     "execution_count": 19,
     "metadata": {},
     "output_type": "execute_result"
    }
   ],
   "source": [
    "# x의 y제곱 **\n",
    "a ** b"
   ]
  },
  {
   "cell_type": "markdown",
   "id": "8bcf9d21",
   "metadata": {},
   "source": [
    "esc + m : 코드 입력 중에 마크다운으로 변경하는 단축키"
   ]
  },
  {
   "cell_type": "code",
   "execution_count": 21,
   "id": "ee5cd20f",
   "metadata": {
    "ExecuteTime": {
     "end_time": "2023-11-23T02:27:18.927005Z",
     "start_time": "2023-11-23T02:27:18.922420Z"
    }
   },
   "outputs": [
    {
     "data": {
      "text/plain": [
       "1"
      ]
     },
     "execution_count": 21,
     "metadata": {},
     "output_type": "execute_result"
    }
   ],
   "source": [
    "# 나눗셈 나머지 반환 %\n",
    "\n",
    "7 % 3"
   ]
  },
  {
   "cell_type": "code",
   "execution_count": 22,
   "id": "27e700c7",
   "metadata": {
    "ExecuteTime": {
     "end_time": "2023-11-23T02:27:24.962947Z",
     "start_time": "2023-11-23T02:27:24.958098Z"
    }
   },
   "outputs": [
    {
     "data": {
      "text/plain": [
       "3"
      ]
     },
     "execution_count": 22,
     "metadata": {},
     "output_type": "execute_result"
    }
   ],
   "source": [
    "3 % 7"
   ]
  },
  {
   "cell_type": "code",
   "execution_count": 23,
   "id": "f0756a28",
   "metadata": {
    "ExecuteTime": {
     "end_time": "2023-11-23T02:27:41.683022Z",
     "start_time": "2023-11-23T02:27:41.678515Z"
    }
   },
   "outputs": [
    {
     "data": {
      "text/plain": [
       "1.75"
      ]
     },
     "execution_count": 23,
     "metadata": {},
     "output_type": "execute_result"
    }
   ],
   "source": [
    "# 나눗셈의 몫 반환 //\n",
    "\n",
    "7/4"
   ]
  },
  {
   "cell_type": "code",
   "execution_count": 24,
   "id": "4c29d95a",
   "metadata": {
    "ExecuteTime": {
     "end_time": "2023-11-23T02:27:51.908097Z",
     "start_time": "2023-11-23T02:27:51.902231Z"
    }
   },
   "outputs": [
    {
     "data": {
      "text/plain": [
       "1"
      ]
     },
     "execution_count": 24,
     "metadata": {},
     "output_type": "execute_result"
    }
   ],
   "source": [
    "7 // 4"
   ]
  },
  {
   "cell_type": "code",
   "execution_count": 25,
   "id": "cc3e1ceb",
   "metadata": {
    "ExecuteTime": {
     "end_time": "2023-11-23T02:28:01.916122Z",
     "start_time": "2023-11-23T02:28:01.911489Z"
    }
   },
   "outputs": [
    {
     "data": {
      "text/plain": [
       "3"
      ]
     },
     "execution_count": 25,
     "metadata": {},
     "output_type": "execute_result"
    }
   ],
   "source": [
    "7 % 4"
   ]
  },
  {
   "cell_type": "markdown",
   "id": "cd7602e2",
   "metadata": {},
   "source": [
    "# 문자열"
   ]
  },
  {
   "cell_type": "code",
   "execution_count": 26,
   "id": "8c70fe2e",
   "metadata": {
    "ExecuteTime": {
     "end_time": "2023-11-23T02:32:45.466834Z",
     "start_time": "2023-11-23T02:32:45.461777Z"
    }
   },
   "outputs": [
    {
     "data": {
      "text/plain": [
       "'Hello world'"
      ]
     },
     "execution_count": 26,
     "metadata": {},
     "output_type": "execute_result"
    }
   ],
   "source": [
    "\"Hello world\""
   ]
  },
  {
   "cell_type": "code",
   "execution_count": 27,
   "id": "d7c0c4b3",
   "metadata": {
    "ExecuteTime": {
     "end_time": "2023-11-23T02:32:54.701227Z",
     "start_time": "2023-11-23T02:32:54.697013Z"
    }
   },
   "outputs": [
    {
     "data": {
      "text/plain": [
       "'Hello world'"
      ]
     },
     "execution_count": 27,
     "metadata": {},
     "output_type": "execute_result"
    }
   ],
   "source": [
    "'Hello world'"
   ]
  },
  {
   "cell_type": "code",
   "execution_count": 29,
   "id": "17a7b506",
   "metadata": {
    "ExecuteTime": {
     "end_time": "2023-11-23T02:33:47.617533Z",
     "start_time": "2023-11-23T02:33:47.613213Z"
    }
   },
   "outputs": [
    {
     "data": {
      "text/plain": [
       "'Life is too short, \\n\\nyou need python'"
      ]
     },
     "execution_count": 29,
     "metadata": {},
     "output_type": "execute_result"
    }
   ],
   "source": [
    "\"\"\"Life is too short, \n",
    "\n",
    "you need python\"\"\""
   ]
  },
  {
   "cell_type": "code",
   "execution_count": 31,
   "id": "9639f209",
   "metadata": {
    "ExecuteTime": {
     "end_time": "2023-11-23T02:34:11.756129Z",
     "start_time": "2023-11-23T02:34:11.751608Z"
    }
   },
   "outputs": [
    {
     "data": {
      "text/plain": [
       "'Life is too short, you need python'"
      ]
     },
     "execution_count": 31,
     "metadata": {},
     "output_type": "execute_result"
    }
   ],
   "source": [
    "'''Life is too short, you need python'''"
   ]
  },
  {
   "cell_type": "code",
   "execution_count": 32,
   "id": "a724d9aa",
   "metadata": {
    "ExecuteTime": {
     "end_time": "2023-11-23T02:35:23.446034Z",
     "start_time": "2023-11-23T02:35:23.441562Z"
    }
   },
   "outputs": [
    {
     "data": {
      "text/plain": [
       "\"Python's favorite food is perl\""
      ]
     },
     "execution_count": 32,
     "metadata": {},
     "output_type": "execute_result"
    }
   ],
   "source": [
    "#따옴표 넣기 - 구분만 지어주면 됨\n",
    "\n",
    "\"Python's favorite food is perl\""
   ]
  },
  {
   "cell_type": "code",
   "execution_count": 33,
   "id": "379bd133",
   "metadata": {
    "ExecuteTime": {
     "end_time": "2023-11-23T02:35:59.899147Z",
     "start_time": "2023-11-23T02:35:59.883422Z"
    }
   },
   "outputs": [
    {
     "ename": "SyntaxError",
     "evalue": "unterminated string literal (detected at line 1) (1974562179.py, line 1)",
     "output_type": "error",
     "traceback": [
      "\u001b[1;36m  Cell \u001b[1;32mIn[33], line 1\u001b[1;36m\u001b[0m\n\u001b[1;33m    'Python's favorite food is perl'\u001b[0m\n\u001b[1;37m                                   ^\u001b[0m\n\u001b[1;31mSyntaxError\u001b[0m\u001b[1;31m:\u001b[0m unterminated string literal (detected at line 1)\n"
     ]
    }
   ],
   "source": [
    "'Python's favorite food is perl'"
   ]
  },
  {
   "cell_type": "code",
   "execution_count": 35,
   "id": "12237225",
   "metadata": {
    "ExecuteTime": {
     "end_time": "2023-11-23T02:36:38.952459Z",
     "start_time": "2023-11-23T02:36:38.947541Z"
    }
   },
   "outputs": [
    {
     "data": {
      "text/plain": [
       "\"Python's favorite food is perl\""
      ]
     },
     "execution_count": 35,
     "metadata": {},
     "output_type": "execute_result"
    }
   ],
   "source": [
    "food = \"Python's favorite food is perl\"\n",
    "food"
   ]
  },
  {
   "cell_type": "code",
   "execution_count": 37,
   "id": "d052f19a",
   "metadata": {
    "ExecuteTime": {
     "end_time": "2023-11-23T02:38:17.399597Z",
     "start_time": "2023-11-23T02:38:17.395241Z"
    }
   },
   "outputs": [
    {
     "data": {
      "text/plain": [
       "'\"Python is very easy.\" he says.'"
      ]
     },
     "execution_count": 37,
     "metadata": {},
     "output_type": "execute_result"
    }
   ],
   "source": [
    "'\"Python is very easy.\" he says.'"
   ]
  },
  {
   "cell_type": "code",
   "execution_count": 40,
   "id": "52cfa90c",
   "metadata": {
    "ExecuteTime": {
     "end_time": "2023-11-23T02:41:39.704663Z",
     "start_time": "2023-11-23T02:41:39.700130Z"
    }
   },
   "outputs": [
    {
     "data": {
      "text/plain": [
       "(\"Python's favorite food is perl\", '\"Python is very easy.\" he says.')"
      ]
     },
     "execution_count": 40,
     "metadata": {},
     "output_type": "execute_result"
    }
   ],
   "source": [
    "# 백슬래시(원화 \\)를 사용해서 따옴표를 문자열에 포함 가능\n",
    "\n",
    "food = 'Python\\'s favorite food is perl'\n",
    "say = \"\\\"Python is very easy.\\\" he says.\"\n",
    "food, say"
   ]
  },
  {
   "cell_type": "markdown",
   "id": "16b01753",
   "metadata": {},
   "source": [
    "## 여러 줄인 문자열을 변수에 대입하고 싶을 때"
   ]
  },
  {
   "cell_type": "code",
   "execution_count": 42,
   "id": "dfeb1438",
   "metadata": {
    "ExecuteTime": {
     "end_time": "2023-11-23T02:43:34.079399Z",
     "start_time": "2023-11-23T02:43:34.073888Z"
    }
   },
   "outputs": [
    {
     "data": {
      "text/plain": [
       "'Life is too short\\nYou need python'"
      ]
     },
     "execution_count": 42,
     "metadata": {},
     "output_type": "execute_result"
    }
   ],
   "source": [
    "# 줄을 바꾸는 이스케이프코드 \\n\n",
    "\n",
    "multiline = \"Life is too short\\nYou need python\"\n",
    "multiline # 노트북 편의기능"
   ]
  },
  {
   "cell_type": "code",
   "execution_count": 44,
   "id": "b7b13e5d",
   "metadata": {
    "ExecuteTime": {
     "end_time": "2023-11-23T02:44:01.266275Z",
     "start_time": "2023-11-23T02:44:01.263148Z"
    }
   },
   "outputs": [
    {
     "name": "stdout",
     "output_type": "stream",
     "text": [
      "Life is too short\n",
      "You need python\n"
     ]
    }
   ],
   "source": [
    "print(multiline)\n",
    "\n",
    "#파이썬 내장 함수 print"
   ]
  },
  {
   "cell_type": "markdown",
   "id": "5afcbf4d",
   "metadata": {},
   "source": [
    "## 연속된 따옴표 사용하기"
   ]
  },
  {
   "cell_type": "code",
   "execution_count": 47,
   "id": "afe20958",
   "metadata": {
    "ExecuteTime": {
     "end_time": "2023-11-23T02:46:32.430287Z",
     "start_time": "2023-11-23T02:46:32.425244Z"
    }
   },
   "outputs": [
    {
     "data": {
      "text/plain": [
       "'Life is too short, \\nyou need python'"
      ]
     },
     "execution_count": 47,
     "metadata": {},
     "output_type": "execute_result"
    }
   ],
   "source": [
    "multiline = \"\"\"Life is too short, \n",
    "you need python\"\"\"\n",
    "multiline"
   ]
  },
  {
   "cell_type": "code",
   "execution_count": 48,
   "id": "b605f12b",
   "metadata": {
    "ExecuteTime": {
     "end_time": "2023-11-23T02:46:35.055533Z",
     "start_time": "2023-11-23T02:46:35.051658Z"
    }
   },
   "outputs": [
    {
     "name": "stdout",
     "output_type": "stream",
     "text": [
      "Life is too short, \n",
      "you need python\n"
     ]
    }
   ],
   "source": [
    "print(multiline)"
   ]
  },
  {
   "cell_type": "markdown",
   "id": "4eebb6c5",
   "metadata": {},
   "source": [
    "## 문자열 연산하기"
   ]
  },
  {
   "cell_type": "code",
   "execution_count": 2,
   "id": "ce857b66",
   "metadata": {
    "ExecuteTime": {
     "end_time": "2023-11-24T00:35:13.023576Z",
     "start_time": "2023-11-24T00:35:13.018958Z"
    }
   },
   "outputs": [
    {
     "data": {
      "text/plain": [
       "'Python is fun'"
      ]
     },
     "execution_count": 2,
     "metadata": {},
     "output_type": "execute_result"
    }
   ],
   "source": [
    "head = \"Python\"\n",
    "tail = \" is fun\"\n",
    "head + tail"
   ]
  },
  {
   "cell_type": "code",
   "execution_count": 3,
   "id": "bcbe070b",
   "metadata": {
    "ExecuteTime": {
     "end_time": "2023-11-24T00:35:26.790231Z",
     "start_time": "2023-11-24T00:35:26.784925Z"
    }
   },
   "outputs": [
    {
     "data": {
      "text/plain": [
       "'PythonPython'"
      ]
     },
     "execution_count": 3,
     "metadata": {},
     "output_type": "execute_result"
    }
   ],
   "source": [
    "a = \"Python\"\n",
    "a*2"
   ]
  },
  {
   "cell_type": "code",
   "execution_count": 4,
   "id": "f9c9ed0d",
   "metadata": {
    "ExecuteTime": {
     "end_time": "2023-11-24T00:35:52.509153Z",
     "start_time": "2023-11-24T00:35:52.504732Z"
    }
   },
   "outputs": [
    {
     "name": "stdout",
     "output_type": "stream",
     "text": [
      "==================================================\n"
     ]
    }
   ],
   "source": [
    "#오류 찾고 코드 구분할 때 자주 사용\n",
    "print('='*50)"
   ]
  },
  {
   "cell_type": "code",
   "execution_count": 5,
   "id": "31625b58",
   "metadata": {
    "ExecuteTime": {
     "end_time": "2023-11-24T00:36:15.248978Z",
     "start_time": "2023-11-24T00:36:15.244902Z"
    }
   },
   "outputs": [
    {
     "data": {
      "text/plain": [
       "17"
      ]
     },
     "execution_count": 5,
     "metadata": {},
     "output_type": "execute_result"
    }
   ],
   "source": [
    "a = \"Life is too short\"\n",
    "len(a) #문자열 길이 (공백 포함)"
   ]
  },
  {
   "cell_type": "markdown",
   "id": "50e203e4",
   "metadata": {},
   "source": [
    "# 문자열 인덱싱과 슬라이싱"
   ]
  },
  {
   "cell_type": "markdown",
   "id": "d88ffc3f",
   "metadata": {},
   "source": [
    "## 인덱싱"
   ]
  },
  {
   "cell_type": "code",
   "execution_count": 7,
   "id": "41a74c37",
   "metadata": {
    "ExecuteTime": {
     "end_time": "2023-11-24T00:37:33.820560Z",
     "start_time": "2023-11-24T00:37:33.815335Z"
    }
   },
   "outputs": [
    {
     "data": {
      "text/plain": [
       "'Life is too short. You need python'"
      ]
     },
     "execution_count": 7,
     "metadata": {},
     "output_type": "execute_result"
    }
   ],
   "source": [
    "# 문자에 숫자를 부여, 해당하는 숫자값에 맞는 문자 출력 (파이썬은 0부터 시작하고, 인덱스는 공백 포함)\n",
    "a = \"Life is too short. You need python\"\n",
    "a"
   ]
  },
  {
   "cell_type": "code",
   "execution_count": 8,
   "id": "e5d84e67",
   "metadata": {
    "ExecuteTime": {
     "end_time": "2023-11-24T00:38:08.084924Z",
     "start_time": "2023-11-24T00:38:08.079880Z"
    }
   },
   "outputs": [
    {
     "data": {
      "text/plain": [
       "'e'"
      ]
     },
     "execution_count": 8,
     "metadata": {},
     "output_type": "execute_result"
    }
   ],
   "source": [
    "a[3]"
   ]
  },
  {
   "cell_type": "code",
   "execution_count": 9,
   "id": "259d4b6c",
   "metadata": {
    "ExecuteTime": {
     "end_time": "2023-11-24T00:38:39.857720Z",
     "start_time": "2023-11-24T00:38:39.851914Z"
    }
   },
   "outputs": [
    {
     "data": {
      "text/plain": [
       "'L'"
      ]
     },
     "execution_count": 9,
     "metadata": {},
     "output_type": "execute_result"
    }
   ],
   "source": [
    "a[0]"
   ]
  },
  {
   "cell_type": "code",
   "execution_count": 10,
   "id": "3444382a",
   "metadata": {
    "ExecuteTime": {
     "end_time": "2023-11-24T00:39:07.646752Z",
     "start_time": "2023-11-24T00:39:07.641214Z"
    }
   },
   "outputs": [
    {
     "data": {
      "text/plain": [
       "'n'"
      ]
     },
     "execution_count": 10,
     "metadata": {},
     "output_type": "execute_result"
    }
   ],
   "source": [
    "a[-1] #뒤에서부터"
   ]
  },
  {
   "cell_type": "code",
   "execution_count": 11,
   "id": "db65bbe1",
   "metadata": {
    "ExecuteTime": {
     "end_time": "2023-11-24T00:39:50.007781Z",
     "start_time": "2023-11-24T00:39:50.002516Z"
    }
   },
   "outputs": [
    {
     "data": {
      "text/plain": [
       "'o'"
      ]
     },
     "execution_count": 11,
     "metadata": {},
     "output_type": "execute_result"
    }
   ],
   "source": [
    "a[-2]"
   ]
  },
  {
   "cell_type": "markdown",
   "id": "f39c7f4a",
   "metadata": {
    "ExecuteTime": {
     "end_time": "2023-11-24T00:40:21.542915Z",
     "start_time": "2023-11-24T00:40:21.540210Z"
    }
   },
   "source": [
    "## 슬라이싱\n",
    "* 범위 [start index : endindex +1]"
   ]
  },
  {
   "cell_type": "code",
   "execution_count": 13,
   "id": "712e8d55",
   "metadata": {
    "ExecuteTime": {
     "end_time": "2023-11-24T00:41:14.787340Z",
     "start_time": "2023-11-24T00:41:14.783152Z"
    }
   },
   "outputs": [
    {
     "data": {
      "text/plain": [
       "'Life is too short. You need python'"
      ]
     },
     "execution_count": 13,
     "metadata": {},
     "output_type": "execute_result"
    }
   ],
   "source": [
    "a"
   ]
  },
  {
   "cell_type": "code",
   "execution_count": 16,
   "id": "03bf296b",
   "metadata": {
    "ExecuteTime": {
     "end_time": "2023-11-24T00:41:58.066434Z",
     "start_time": "2023-11-24T00:41:58.061690Z"
    }
   },
   "outputs": [
    {
     "data": {
      "text/plain": [
       "'Life'"
      ]
     },
     "execution_count": 16,
     "metadata": {},
     "output_type": "execute_result"
    }
   ],
   "source": [
    "# life 요소를 잘라내기\n",
    "a[0:4]"
   ]
  },
  {
   "cell_type": "code",
   "execution_count": 17,
   "id": "2c36ca06",
   "metadata": {
    "ExecuteTime": {
     "end_time": "2023-11-24T00:42:43.852010Z",
     "start_time": "2023-11-24T00:42:43.847068Z"
    }
   },
   "outputs": [
    {
     "data": {
      "text/plain": [
       "'Life'"
      ]
     },
     "execution_count": 17,
     "metadata": {},
     "output_type": "execute_result"
    }
   ],
   "source": [
    "a[:4] # 0 생략 가능"
   ]
  },
  {
   "cell_type": "code",
   "execution_count": 18,
   "id": "ee982692",
   "metadata": {
    "ExecuteTime": {
     "end_time": "2023-11-24T00:43:00.470844Z",
     "start_time": "2023-11-24T00:43:00.464924Z"
    }
   },
   "outputs": [
    {
     "data": {
      "text/plain": [
       "'Lif'"
      ]
     },
     "execution_count": 18,
     "metadata": {},
     "output_type": "execute_result"
    }
   ],
   "source": [
    "a[0:3]"
   ]
  },
  {
   "cell_type": "code",
   "execution_count": 19,
   "id": "f9834764",
   "metadata": {
    "ExecuteTime": {
     "end_time": "2023-11-24T00:43:22.110677Z",
     "start_time": "2023-11-24T00:43:22.105814Z"
    }
   },
   "outputs": [
    {
     "data": {
      "text/plain": [
       "'Life '"
      ]
     },
     "execution_count": 19,
     "metadata": {},
     "output_type": "execute_result"
    }
   ],
   "source": [
    "a[:5]"
   ]
  },
  {
   "cell_type": "code",
   "execution_count": 20,
   "id": "8acdc526",
   "metadata": {
    "ExecuteTime": {
     "end_time": "2023-11-24T00:43:33.972883Z",
     "start_time": "2023-11-24T00:43:33.967863Z"
    }
   },
   "outputs": [
    {
     "data": {
      "text/plain": [
       "'is'"
      ]
     },
     "execution_count": 20,
     "metadata": {},
     "output_type": "execute_result"
    }
   ],
   "source": [
    "a[5:7]"
   ]
  },
  {
   "cell_type": "code",
   "execution_count": 21,
   "id": "9a74dc74",
   "metadata": {
    "ExecuteTime": {
     "end_time": "2023-11-24T00:43:57.304503Z",
     "start_time": "2023-11-24T00:43:57.299576Z"
    }
   },
   "outputs": [
    {
     "data": {
      "text/plain": [
       "'short'"
      ]
     },
     "execution_count": 21,
     "metadata": {},
     "output_type": "execute_result"
    }
   ],
   "source": [
    "a[12:17]"
   ]
  },
  {
   "cell_type": "code",
   "execution_count": 22,
   "id": "31cafc16",
   "metadata": {
    "ExecuteTime": {
     "end_time": "2023-11-24T00:44:08.602160Z",
     "start_time": "2023-11-24T00:44:08.597326Z"
    }
   },
   "outputs": [
    {
     "data": {
      "text/plain": [
       "'You need python'"
      ]
     },
     "execution_count": 22,
     "metadata": {},
     "output_type": "execute_result"
    }
   ],
   "source": [
    "a[19:]"
   ]
  },
  {
   "cell_type": "code",
   "execution_count": 23,
   "id": "7d8c0e36",
   "metadata": {
    "ExecuteTime": {
     "end_time": "2023-11-24T00:44:18.244631Z",
     "start_time": "2023-11-24T00:44:18.239884Z"
    }
   },
   "outputs": [
    {
     "data": {
      "text/plain": [
       "'Life is too short. You need python'"
      ]
     },
     "execution_count": 23,
     "metadata": {},
     "output_type": "execute_result"
    }
   ],
   "source": [
    "a[:]"
   ]
  },
  {
   "cell_type": "code",
   "execution_count": 24,
   "id": "8a9270c5",
   "metadata": {
    "ExecuteTime": {
     "end_time": "2023-11-24T00:44:39.651804Z",
     "start_time": "2023-11-24T00:44:39.647249Z"
    }
   },
   "outputs": [
    {
     "data": {
      "text/plain": [
       "'You need'"
      ]
     },
     "execution_count": 24,
     "metadata": {},
     "output_type": "execute_result"
    }
   ],
   "source": [
    "a[19:-7]"
   ]
  },
  {
   "cell_type": "markdown",
   "id": "53adf741",
   "metadata": {
    "ExecuteTime": {
     "end_time": "2023-11-24T00:46:00.393711Z",
     "start_time": "2023-11-24T00:46:00.390175Z"
    }
   },
   "source": [
    "## 슬라이싱으로 문자열 나누기"
   ]
  },
  {
   "cell_type": "code",
   "execution_count": 26,
   "id": "e20480f7",
   "metadata": {
    "ExecuteTime": {
     "end_time": "2023-11-24T00:47:30.443034Z",
     "start_time": "2023-11-24T00:47:30.438310Z"
    }
   },
   "outputs": [
    {
     "name": "stdout",
     "output_type": "stream",
     "text": [
      "20231124\n",
      "Sunny\n"
     ]
    }
   ],
   "source": [
    "a = \"20231124Sunny\"\n",
    "date = a[:8]\n",
    "weather = a[8:]\n",
    "print(date)\n",
    "print(weather)"
   ]
  },
  {
   "cell_type": "code",
   "execution_count": 28,
   "id": "effd050e",
   "metadata": {
    "ExecuteTime": {
     "end_time": "2023-11-24T00:49:58.877376Z",
     "start_time": "2023-11-24T00:49:58.872270Z"
    }
   },
   "outputs": [
    {
     "name": "stdout",
     "output_type": "stream",
     "text": [
      "2023\n",
      "1124\n",
      "Sunny\n"
     ]
    }
   ],
   "source": [
    "year = a[:4]\n",
    "day = a[4:8]\n",
    "weather = a[8:]\n",
    "print(year)\n",
    "print(day)\n",
    "print(weather)"
   ]
  },
  {
   "cell_type": "markdown",
   "id": "6c376a61",
   "metadata": {},
   "source": [
    "## 문자열 요소 바꾸기"
   ]
  },
  {
   "cell_type": "code",
   "execution_count": 30,
   "id": "f6baf564",
   "metadata": {
    "ExecuteTime": {
     "end_time": "2023-11-24T01:01:29.241260Z",
     "start_time": "2023-11-24T01:01:29.236646Z"
    }
   },
   "outputs": [
    {
     "data": {
      "text/plain": [
       "'i'"
      ]
     },
     "execution_count": 30,
     "metadata": {},
     "output_type": "execute_result"
    }
   ],
   "source": [
    "a = \"Pithon\"\n",
    "a[1]"
   ]
  },
  {
   "cell_type": "code",
   "execution_count": 31,
   "id": "2d46d3f6",
   "metadata": {
    "ExecuteTime": {
     "end_time": "2023-11-24T01:01:39.439634Z",
     "start_time": "2023-11-24T01:01:39.415784Z"
    }
   },
   "outputs": [
    {
     "ename": "TypeError",
     "evalue": "'str' object does not support item assignment",
     "output_type": "error",
     "traceback": [
      "\u001b[1;31m---------------------------------------------------------------------------\u001b[0m",
      "\u001b[1;31mTypeError\u001b[0m                                 Traceback (most recent call last)",
      "Cell \u001b[1;32mIn[31], line 1\u001b[0m\n\u001b[1;32m----> 1\u001b[0m a[\u001b[38;5;241m1\u001b[39m] \u001b[38;5;241m=\u001b[39m \u001b[38;5;124m\"\u001b[39m\u001b[38;5;124my\u001b[39m\u001b[38;5;124m\"\u001b[39m\n",
      "\u001b[1;31mTypeError\u001b[0m: 'str' object does not support item assignment"
     ]
    }
   ],
   "source": [
    "a[1] = \"y\" #문자열은 에러가 남"
   ]
  },
  {
   "cell_type": "code",
   "execution_count": 32,
   "id": "4fc72362",
   "metadata": {
    "ExecuteTime": {
     "end_time": "2023-11-24T01:02:00.961873Z",
     "start_time": "2023-11-24T01:02:00.955848Z"
    }
   },
   "outputs": [
    {
     "data": {
      "text/plain": [
       "'Python'"
      ]
     },
     "execution_count": 32,
     "metadata": {},
     "output_type": "execute_result"
    }
   ],
   "source": [
    "a[0] + 'y' + a[2:]"
   ]
  },
  {
   "cell_type": "markdown",
   "id": "1c8691fc",
   "metadata": {},
   "source": [
    "## 문자열 포매팅\n",
    "* 현재 온도는 20도 입니다.\n",
    "* 현재 온도는 -3도 입니다.\n",
    "#숫자 일부만 변경 가능"
   ]
  },
  {
   "cell_type": "code",
   "execution_count": 35,
   "id": "3ca70dfc",
   "metadata": {
    "ExecuteTime": {
     "end_time": "2023-11-24T01:09:53.939707Z",
     "start_time": "2023-11-24T01:09:53.935093Z"
    }
   },
   "outputs": [
    {
     "data": {
      "text/plain": [
       "'I eat 3 apples'"
      ]
     },
     "execution_count": 35,
     "metadata": {},
     "output_type": "execute_result"
    }
   ],
   "source": [
    "# 숫자 바로 대입하기\n",
    "\"I eat %d apples\"%3 # % -> 숫자 대입 이스케이프 문자"
   ]
  },
  {
   "cell_type": "code",
   "execution_count": 36,
   "id": "e0c0d450",
   "metadata": {
    "ExecuteTime": {
     "end_time": "2023-11-24T01:10:17.440823Z",
     "start_time": "2023-11-24T01:10:17.434322Z"
    }
   },
   "outputs": [
    {
     "data": {
      "text/plain": [
       "'I eat five apples'"
      ]
     },
     "execution_count": 36,
     "metadata": {},
     "output_type": "execute_result"
    }
   ],
   "source": [
    "# 문자열 대입하기\n",
    "\n",
    "\"I eat %s apples\"%\"five\""
   ]
  },
  {
   "cell_type": "code",
   "execution_count": 37,
   "id": "1f1b3b3b",
   "metadata": {
    "ExecuteTime": {
     "end_time": "2023-11-24T01:10:40.778738Z",
     "start_time": "2023-11-24T01:10:40.772960Z"
    }
   },
   "outputs": [
    {
     "data": {
      "text/plain": [
       "'I eat 3 apples'"
      ]
     },
     "execution_count": 37,
     "metadata": {},
     "output_type": "execute_result"
    }
   ],
   "source": [
    "# 변수로 대입하기 %d는 정수를 요구하는 태그\n",
    "number = 3\n",
    "\"I eat %d apples\"%number"
   ]
  },
  {
   "cell_type": "code",
   "execution_count": 40,
   "id": "2b249f09",
   "metadata": {
    "ExecuteTime": {
     "end_time": "2023-11-24T01:12:18.313854Z",
     "start_time": "2023-11-24T01:12:18.307256Z"
    }
   },
   "outputs": [
    {
     "data": {
      "text/plain": [
       "'I eat 3 apples. so I was sick for three days'"
      ]
     },
     "execution_count": 40,
     "metadata": {},
     "output_type": "execute_result"
    }
   ],
   "source": [
    "# 2개 이상 값 넣기\n",
    "number = 3\n",
    "day = \"three\"\n",
    "\"I eat %d apples. so I was sick for %s days\"%(number, day)"
   ]
  },
  {
   "cell_type": "markdown",
   "id": "3d78a874",
   "metadata": {},
   "source": [
    "## 정렬과 공백\n",
    "* 양수: 우정렬\n",
    "* 음수: 좌정렬"
   ]
  },
  {
   "cell_type": "code",
   "execution_count": 41,
   "id": "5d62a62d",
   "metadata": {
    "ExecuteTime": {
     "end_time": "2023-11-24T01:13:48.116279Z",
     "start_time": "2023-11-24T01:13:48.111283Z"
    }
   },
   "outputs": [
    {
     "data": {
      "text/plain": [
       "'        hi'"
      ]
     },
     "execution_count": 41,
     "metadata": {},
     "output_type": "execute_result"
    }
   ],
   "source": [
    "# 10개의 문자열 공간을 만들되, 치환되는 문자열을 우측 정렬하고 빈 곳은 공백으로 채우기\n",
    "\"%10s\"%\"hi\""
   ]
  },
  {
   "cell_type": "code",
   "execution_count": 42,
   "id": "5cf51cde",
   "metadata": {
    "ExecuteTime": {
     "end_time": "2023-11-24T01:14:09.553001Z",
     "start_time": "2023-11-24T01:14:09.547173Z"
    }
   },
   "outputs": [
    {
     "data": {
      "text/plain": [
       "'hi        '"
      ]
     },
     "execution_count": 42,
     "metadata": {},
     "output_type": "execute_result"
    }
   ],
   "source": [
    "\"%-10s\"%\"hi\""
   ]
  },
  {
   "cell_type": "markdown",
   "id": "588d7ce1",
   "metadata": {},
   "source": [
    "## 소수점 표현하기"
   ]
  },
  {
   "cell_type": "code",
   "execution_count": 43,
   "id": "88cf9ff2",
   "metadata": {
    "ExecuteTime": {
     "end_time": "2023-11-24T01:14:54.131916Z",
     "start_time": "2023-11-24T01:14:54.126412Z"
    }
   },
   "outputs": [
    {
     "data": {
      "text/plain": [
       "'3.4123'"
      ]
     },
     "execution_count": 43,
     "metadata": {},
     "output_type": "execute_result"
    }
   ],
   "source": [
    "\"%0.4f\"%3.412345235"
   ]
  },
  {
   "cell_type": "markdown",
   "id": "3927611a",
   "metadata": {},
   "source": [
    "##  포맷함수를 사용한 포매팅"
   ]
  },
  {
   "cell_type": "code",
   "execution_count": 46,
   "id": "76c8adb0",
   "metadata": {
    "ExecuteTime": {
     "end_time": "2023-11-24T01:17:20.745573Z",
     "start_time": "2023-11-24T01:17:20.739455Z"
    }
   },
   "outputs": [
    {
     "data": {
      "text/plain": [
       "str"
      ]
     },
     "execution_count": 46,
     "metadata": {},
     "output_type": "execute_result"
    }
   ],
   "source": [
    "type(\"I eat {} apples\") # 객체"
   ]
  },
  {
   "cell_type": "code",
   "execution_count": 44,
   "id": "8df239c9",
   "metadata": {
    "ExecuteTime": {
     "end_time": "2023-11-24T01:16:04.918478Z",
     "start_time": "2023-11-24T01:16:04.912461Z"
    }
   },
   "outputs": [
    {
     "data": {
      "text/plain": [
       "'I eat 3 apples'"
      ]
     },
     "execution_count": 44,
     "metadata": {},
     "output_type": "execute_result"
    }
   ],
   "source": [
    "\"I eat {} apples\".format(3) #. = 매서드라는 뜻"
   ]
  },
  {
   "cell_type": "code",
   "execution_count": 47,
   "id": "80bd9651",
   "metadata": {
    "ExecuteTime": {
     "end_time": "2023-11-24T01:17:56.522318Z",
     "start_time": "2023-11-24T01:17:56.516815Z"
    }
   },
   "outputs": [
    {
     "data": {
      "text/plain": [
       "'I eat five apples'"
      ]
     },
     "execution_count": 47,
     "metadata": {},
     "output_type": "execute_result"
    }
   ],
   "source": [
    "\"I eat {} apples\".format(\"five\")"
   ]
  },
  {
   "cell_type": "code",
   "execution_count": 48,
   "id": "a06a854a",
   "metadata": {
    "ExecuteTime": {
     "end_time": "2023-11-24T01:18:19.068216Z",
     "start_time": "2023-11-24T01:18:19.062560Z"
    }
   },
   "outputs": [
    {
     "data": {
      "text/plain": [
       "'I eat 3 apples'"
      ]
     },
     "execution_count": 48,
     "metadata": {},
     "output_type": "execute_result"
    }
   ],
   "source": [
    "number = 3\n",
    "\"I eat {} apples\".format(number)"
   ]
  },
  {
   "cell_type": "code",
   "execution_count": 49,
   "id": "0c1f7048",
   "metadata": {
    "ExecuteTime": {
     "end_time": "2023-11-24T01:19:09.964212Z",
     "start_time": "2023-11-24T01:19:09.958156Z"
    }
   },
   "outputs": [
    {
     "data": {
      "text/plain": [
       "'I eat 3 apples. so I was sick for three days'"
      ]
     },
     "execution_count": 49,
     "metadata": {},
     "output_type": "execute_result"
    }
   ],
   "source": [
    "# 2개 이상 넣기\n",
    "number = 3\n",
    "day = \"three\"\n",
    "\"I eat {} apples. so I was sick for {} days\".format(number, day)"
   ]
  },
  {
   "cell_type": "code",
   "execution_count": 50,
   "id": "0616b0aa",
   "metadata": {
    "ExecuteTime": {
     "end_time": "2023-11-24T01:20:02.077577Z",
     "start_time": "2023-11-24T01:20:02.070265Z"
    }
   },
   "outputs": [
    {
     "data": {
      "text/plain": [
       "'I eat 10 apples. so I was sick for 3 days'"
      ]
     },
     "execution_count": 50,
     "metadata": {},
     "output_type": "execute_result"
    }
   ],
   "source": [
    "# 변수 이름으로 넣기\n",
    "\"I eat {number} apples. so I was sick for {day} days\".format(number=10, day=3)"
   ]
  },
  {
   "cell_type": "code",
   "execution_count": 52,
   "id": "eeb882f4",
   "metadata": {
    "ExecuteTime": {
     "end_time": "2023-11-24T01:20:32.497240Z",
     "start_time": "2023-11-24T01:20:32.492035Z"
    }
   },
   "outputs": [
    {
     "data": {
      "text/plain": [
       "'I eat 10 apples. so I was sick for 3 days'"
      ]
     },
     "execution_count": 52,
     "metadata": {},
     "output_type": "execute_result"
    }
   ],
   "source": [
    "\"I eat {number} apples. so I was sick for {day} days\".format(day=3,number=10)\n",
    "#인자(라벨) 지정해주면 순서 상관 없이 찾아서 들어감"
   ]
  },
  {
   "cell_type": "code",
   "execution_count": 54,
   "id": "df395c63",
   "metadata": {
    "ExecuteTime": {
     "end_time": "2023-11-24T01:21:41.951337Z",
     "start_time": "2023-11-24T01:21:41.945816Z"
    }
   },
   "outputs": [
    {
     "data": {
      "text/plain": [
       "'I eat 10 apples. so I was sick for 3 days'"
      ]
     },
     "execution_count": 54,
     "metadata": {},
     "output_type": "execute_result"
    }
   ],
   "source": [
    "\"I eat {number} apples. so I was sick for {} days\".format(3,number=10)"
   ]
  },
  {
   "cell_type": "markdown",
   "id": "c180a9aa",
   "metadata": {},
   "source": [
    "## f문자열 포매팅"
   ]
  },
  {
   "cell_type": "code",
   "execution_count": 56,
   "id": "d24bb156",
   "metadata": {
    "ExecuteTime": {
     "end_time": "2023-11-24T01:23:16.940296Z",
     "start_time": "2023-11-24T01:23:16.935262Z"
    }
   },
   "outputs": [
    {
     "data": {
      "text/plain": [
       "'나의 이름 홍길동입니다. 나이는 30입니다.'"
      ]
     },
     "execution_count": 56,
     "metadata": {},
     "output_type": "execute_result"
    }
   ],
   "source": [
    "# python 3.6부터 들어가는 기능\n",
    "name = '홍길동'\n",
    "age = 30\n",
    "f\"나의 이름 {name}입니다. 나이는 {age}입니다.\""
   ]
  },
  {
   "cell_type": "code",
   "execution_count": 58,
   "id": "b8eb87db",
   "metadata": {
    "ExecuteTime": {
     "end_time": "2023-11-24T01:24:06.597796Z",
     "start_time": "2023-11-24T01:24:06.593039Z"
    }
   },
   "outputs": [
    {
     "data": {
      "text/plain": [
       "'나는 내년이면 31살이 됩니다.'"
      ]
     },
     "execution_count": 58,
     "metadata": {},
     "output_type": "execute_result"
    }
   ],
   "source": [
    "f\"나는 내년이면 {age+1}살이 됩니다.\" #연산 가능"
   ]
  },
  {
   "cell_type": "code",
   "execution_count": 61,
   "id": "536a79d8",
   "metadata": {
    "ExecuteTime": {
     "end_time": "2023-11-24T01:28:01.641200Z",
     "start_time": "2023-11-24T01:28:01.635960Z"
    }
   },
   "outputs": [
    {
     "data": {
      "text/plain": [
       "'나의 이름은 홍길동입니다. 나이는 30입니다.'"
      ]
     },
     "execution_count": 61,
     "metadata": {},
     "output_type": "execute_result"
    }
   ],
   "source": [
    "# 딕셔너리 인덱스 x - 키가 인덱스가 됨\n",
    "d = {'name':'홍길동', 'age':30}\n",
    "f\"나의 이름은 {d['name']}입니다. 나이는 {d['age']}입니다.\""
   ]
  },
  {
   "cell_type": "code",
   "execution_count": 62,
   "id": "fe6f4794",
   "metadata": {
    "ExecuteTime": {
     "end_time": "2023-11-24T01:29:01.519265Z",
     "start_time": "2023-11-24T01:29:01.500272Z"
    }
   },
   "outputs": [
    {
     "ename": "NameError",
     "evalue": "name 'y' is not defined",
     "output_type": "error",
     "traceback": [
      "\u001b[1;31m---------------------------------------------------------------------------\u001b[0m",
      "\u001b[1;31mNameError\u001b[0m                                 Traceback (most recent call last)",
      "Cell \u001b[1;32mIn[62], line 1\u001b[0m\n\u001b[1;32m----> 1\u001b[0m y \u001b[38;5;241m==\u001b[39m \u001b[38;5;241m3.4123123\u001b[39m\n\u001b[0;32m      2\u001b[0m \u001b[38;5;124mf\u001b[39m\u001b[38;5;124m'\u001b[39m\u001b[38;5;132;01m{\u001b[39;00my\u001b[38;5;132;01m:\u001b[39;00m\u001b[38;5;124m0.4f\u001b[39m\u001b[38;5;132;01m}\u001b[39;00m\u001b[38;5;124m'\u001b[39m\n",
      "\u001b[1;31mNameError\u001b[0m: name 'y' is not defined"
     ]
    }
   ],
   "source": [
    "y == 3.4123123\n",
    "f'{y:0.4f}'"
   ]
  },
  {
   "cell_type": "markdown",
   "id": "e6f52947",
   "metadata": {},
   "source": [
    "## 문자열 관련 함수"
   ]
  },
  {
   "cell_type": "code",
   "execution_count": 63,
   "id": "ba536e6b",
   "metadata": {
    "ExecuteTime": {
     "end_time": "2023-11-24T01:29:37.584994Z",
     "start_time": "2023-11-24T01:29:37.580849Z"
    }
   },
   "outputs": [],
   "source": [
    "# 문자열 개수 세기 (count)\n",
    "a = \"hobby\""
   ]
  },
  {
   "cell_type": "code",
   "execution_count": 64,
   "id": "26882e1d",
   "metadata": {
    "ExecuteTime": {
     "end_time": "2023-11-24T01:29:45.476545Z",
     "start_time": "2023-11-24T01:29:45.471063Z"
    }
   },
   "outputs": [
    {
     "data": {
      "text/plain": [
       "2"
      ]
     },
     "execution_count": 64,
     "metadata": {},
     "output_type": "execute_result"
    }
   ],
   "source": [
    "a.count('b')"
   ]
  },
  {
   "cell_type": "code",
   "execution_count": 65,
   "id": "55151a2a",
   "metadata": {
    "ExecuteTime": {
     "end_time": "2023-11-24T01:32:27.693416Z",
     "start_time": "2023-11-24T01:32:27.686417Z"
    }
   },
   "outputs": [],
   "source": [
    "a.count?"
   ]
  },
  {
   "cell_type": "code",
   "execution_count": 66,
   "id": "c58faacb",
   "metadata": {
    "ExecuteTime": {
     "end_time": "2023-11-24T01:32:53.437007Z",
     "start_time": "2023-11-24T01:32:53.431202Z"
    }
   },
   "outputs": [
    {
     "name": "stdout",
     "output_type": "stream",
     "text": [
      "Help on built-in function count:\n",
      "\n",
      "count(...) method of builtins.str instance\n",
      "    S.count(sub[, start[, end]]) -> int\n",
      "    \n",
      "    Return the number of non-overlapping occurrences of substring sub in\n",
      "    string S[start:end].  Optional arguments start and end are\n",
      "    interpreted as in slice notation.\n",
      "\n"
     ]
    }
   ],
   "source": [
    "help(a.count)"
   ]
  },
  {
   "cell_type": "code",
   "execution_count": 68,
   "id": "01a43c0b",
   "metadata": {
    "ExecuteTime": {
     "end_time": "2023-11-24T01:35:34.405919Z",
     "start_time": "2023-11-24T01:35:34.401331Z"
    }
   },
   "outputs": [
    {
     "data": {
      "text/plain": [
       "14"
      ]
     },
     "execution_count": 68,
     "metadata": {},
     "output_type": "execute_result"
    }
   ],
   "source": [
    "a = 'python is the best choice'\n",
    "a.find('b')"
   ]
  },
  {
   "cell_type": "code",
   "execution_count": 69,
   "id": "f7a2d777",
   "metadata": {
    "ExecuteTime": {
     "end_time": "2023-11-24T01:35:44.499276Z",
     "start_time": "2023-11-24T01:35:44.492987Z"
    }
   },
   "outputs": [
    {
     "data": {
      "text/plain": [
       "-1"
      ]
     },
     "execution_count": 69,
     "metadata": {},
     "output_type": "execute_result"
    }
   ],
   "source": [
    "a.find('k') #없으면 -1 / false = 0"
   ]
  },
  {
   "cell_type": "code",
   "execution_count": 71,
   "id": "01b410d9",
   "metadata": {
    "ExecuteTime": {
     "end_time": "2023-11-24T01:36:55.169258Z",
     "start_time": "2023-11-24T01:36:55.151376Z"
    }
   },
   "outputs": [
    {
     "ename": "SyntaxError",
     "evalue": "invalid syntax (1193233440.py, line 4)",
     "output_type": "error",
     "traceback": [
      "\u001b[1;36m  Cell \u001b[1;32mIn[71], line 4\u001b[1;36m\u001b[0m\n\u001b[1;33m    - 없는 값 = 인덱스는 에러, 파인드는 -1\u001b[0m\n\u001b[1;37m         ^\u001b[0m\n\u001b[1;31mSyntaxError\u001b[0m\u001b[1;31m:\u001b[0m invalid syntax\n"
     ]
    }
   ],
   "source": [
    "a.index('t')\n",
    "\n",
    "# 인덱스와 파인드 차이: 없는 값 = 인덱스는 에러, 파인드는 -1"
   ]
  },
  {
   "cell_type": "code",
   "execution_count": 72,
   "id": "1f27652c",
   "metadata": {
    "ExecuteTime": {
     "end_time": "2023-11-24T01:37:21.462686Z",
     "start_time": "2023-11-24T01:37:21.444147Z"
    }
   },
   "outputs": [
    {
     "ename": "ValueError",
     "evalue": "substring not found",
     "output_type": "error",
     "traceback": [
      "\u001b[1;31m---------------------------------------------------------------------------\u001b[0m",
      "\u001b[1;31mValueError\u001b[0m                                Traceback (most recent call last)",
      "Cell \u001b[1;32mIn[72], line 1\u001b[0m\n\u001b[1;32m----> 1\u001b[0m a\u001b[38;5;241m.\u001b[39mindex(\u001b[38;5;124m'\u001b[39m\u001b[38;5;124mk\u001b[39m\u001b[38;5;124m'\u001b[39m)\n",
      "\u001b[1;31mValueError\u001b[0m: substring not found"
     ]
    }
   ],
   "source": [
    "a.index('k')"
   ]
  },
  {
   "cell_type": "markdown",
   "id": "ba453d6b",
   "metadata": {},
   "source": [
    "## 문자열 삽입(Join)"
   ]
  },
  {
   "cell_type": "code",
   "execution_count": 73,
   "id": "5d49a821",
   "metadata": {
    "ExecuteTime": {
     "end_time": "2023-11-24T01:38:57.931908Z",
     "start_time": "2023-11-24T01:38:57.926691Z"
    }
   },
   "outputs": [
    {
     "data": {
      "text/plain": [
       "'a.b.c.d'"
      ]
     },
     "execution_count": 73,
     "metadata": {},
     "output_type": "execute_result"
    }
   ],
   "source": [
    "# a, b, c, d 문자열 사이에 , 를 삽입\n",
    "\".\".join('abcd')"
   ]
  },
  {
   "cell_type": "code",
   "execution_count": 74,
   "id": "168db4c9",
   "metadata": {
    "ExecuteTime": {
     "end_time": "2023-11-24T01:39:30.817182Z",
     "start_time": "2023-11-24T01:39:30.811943Z"
    }
   },
   "outputs": [
    {
     "data": {
      "text/plain": [
       "'a.b.c.d'"
      ]
     },
     "execution_count": 74,
     "metadata": {},
     "output_type": "execute_result"
    }
   ],
   "source": [
    "\".\".join(['a','b','c','d'])"
   ]
  },
  {
   "cell_type": "markdown",
   "id": "ed706aff",
   "metadata": {},
   "source": [
    "## 대소문자 변환(upper, lower)"
   ]
  },
  {
   "cell_type": "code",
   "execution_count": 75,
   "id": "b5600ce7",
   "metadata": {
    "ExecuteTime": {
     "end_time": "2023-11-24T01:40:44.965830Z",
     "start_time": "2023-11-24T01:40:44.960285Z"
    }
   },
   "outputs": [
    {
     "data": {
      "text/plain": [
       "'HI'"
      ]
     },
     "execution_count": 75,
     "metadata": {},
     "output_type": "execute_result"
    }
   ],
   "source": [
    "# 소문자를 대문자로 바꾸기\n",
    "a = 'hi'\n",
    "a.upper()"
   ]
  },
  {
   "cell_type": "code",
   "execution_count": 76,
   "id": "b458d8bc",
   "metadata": {
    "ExecuteTime": {
     "end_time": "2023-11-24T01:40:58.383651Z",
     "start_time": "2023-11-24T01:40:58.376603Z"
    }
   },
   "outputs": [
    {
     "data": {
      "text/plain": [
       "'HI'"
      ]
     },
     "execution_count": 76,
     "metadata": {},
     "output_type": "execute_result"
    }
   ],
   "source": [
    "'hi'.upper()"
   ]
  },
  {
   "cell_type": "code",
   "execution_count": 77,
   "id": "dc266579",
   "metadata": {
    "ExecuteTime": {
     "end_time": "2023-11-24T01:41:15.351036Z",
     "start_time": "2023-11-24T01:41:15.346429Z"
    }
   },
   "outputs": [
    {
     "data": {
      "text/plain": [
       "'hi'"
      ]
     },
     "execution_count": 77,
     "metadata": {},
     "output_type": "execute_result"
    }
   ],
   "source": [
    "# 대문자를 소문자로 바꾸기\n",
    "a = 'Hi'\n",
    "a.lower()"
   ]
  },
  {
   "cell_type": "markdown",
   "id": "b017dab9",
   "metadata": {},
   "source": [
    "## 공백지우기(strip)"
   ]
  },
  {
   "cell_type": "code",
   "execution_count": 78,
   "id": "3a912b8c",
   "metadata": {
    "ExecuteTime": {
     "end_time": "2023-11-24T01:42:00.753942Z",
     "start_time": "2023-11-24T01:42:00.748426Z"
    }
   },
   "outputs": [
    {
     "data": {
      "text/plain": [
       "'hi  '"
      ]
     },
     "execution_count": 78,
     "metadata": {},
     "output_type": "execute_result"
    }
   ],
   "source": [
    "# 왼쪽 공백 지우기\n",
    "a = \"  hi  \"\n",
    "a.lstrip()"
   ]
  },
  {
   "cell_type": "code",
   "execution_count": 79,
   "id": "c141f710",
   "metadata": {
    "ExecuteTime": {
     "end_time": "2023-11-24T01:42:11.864021Z",
     "start_time": "2023-11-24T01:42:11.858839Z"
    }
   },
   "outputs": [
    {
     "data": {
      "text/plain": [
       "'  hi'"
      ]
     },
     "execution_count": 79,
     "metadata": {},
     "output_type": "execute_result"
    }
   ],
   "source": [
    "a.rstrip()"
   ]
  },
  {
   "cell_type": "code",
   "execution_count": 80,
   "id": "a087c82b",
   "metadata": {
    "ExecuteTime": {
     "end_time": "2023-11-24T01:42:23.075646Z",
     "start_time": "2023-11-24T01:42:23.070463Z"
    }
   },
   "outputs": [
    {
     "data": {
      "text/plain": [
       "'hi'"
      ]
     },
     "execution_count": 80,
     "metadata": {},
     "output_type": "execute_result"
    }
   ],
   "source": [
    "a.strip()"
   ]
  },
  {
   "cell_type": "markdown",
   "id": "415ba95c",
   "metadata": {},
   "source": [
    "## 문자열 바꾸기(replace)"
   ]
  },
  {
   "cell_type": "code",
   "execution_count": 81,
   "id": "6afd8be3",
   "metadata": {
    "ExecuteTime": {
     "end_time": "2023-11-24T01:44:57.052725Z",
     "start_time": "2023-11-24T01:44:57.047918Z"
    }
   },
   "outputs": [
    {
     "data": {
      "text/plain": [
       "'Your leg is too short'"
      ]
     },
     "execution_count": 81,
     "metadata": {},
     "output_type": "execute_result"
    }
   ],
   "source": [
    "a = \"Life is too short\"\n",
    "a.replace(\"Life\", \"Your leg\")"
   ]
  },
  {
   "cell_type": "code",
   "execution_count": 82,
   "id": "37b8f1e5",
   "metadata": {
    "ExecuteTime": {
     "end_time": "2023-11-24T01:45:23.869771Z",
     "start_time": "2023-11-24T01:45:23.863462Z"
    }
   },
   "outputs": [],
   "source": [
    "a.replace?"
   ]
  },
  {
   "cell_type": "markdown",
   "id": "172249b4",
   "metadata": {},
   "source": [
    "## 문자열 나누기(Split)"
   ]
  },
  {
   "cell_type": "code",
   "execution_count": 83,
   "id": "0ea66920",
   "metadata": {
    "ExecuteTime": {
     "end_time": "2023-11-24T01:46:23.509427Z",
     "start_time": "2023-11-24T01:46:23.503602Z"
    }
   },
   "outputs": [
    {
     "data": {
      "text/plain": [
       "['Life', 'is', 'too', 'short']"
      ]
     },
     "execution_count": 83,
     "metadata": {},
     "output_type": "execute_result"
    }
   ],
   "source": [
    "a.split() #문자열을 공백 기준으로 쪼개줌"
   ]
  },
  {
   "cell_type": "code",
   "execution_count": 84,
   "id": "fa51f311",
   "metadata": {
    "ExecuteTime": {
     "end_time": "2023-11-24T01:46:48.117929Z",
     "start_time": "2023-11-24T01:46:48.114331Z"
    }
   },
   "outputs": [],
   "source": [
    "b = 'a:b:c:d'"
   ]
  },
  {
   "cell_type": "code",
   "execution_count": 85,
   "id": "17c7aafa",
   "metadata": {
    "ExecuteTime": {
     "end_time": "2023-11-24T01:46:58.525251Z",
     "start_time": "2023-11-24T01:46:58.520734Z"
    }
   },
   "outputs": [
    {
     "data": {
      "text/plain": [
       "['a', 'b', 'c', 'd']"
      ]
     },
     "execution_count": 85,
     "metadata": {},
     "output_type": "execute_result"
    }
   ],
   "source": [
    "b.split(\":\")"
   ]
  },
  {
   "cell_type": "code",
   "execution_count": 86,
   "id": "75cc341a",
   "metadata": {
    "ExecuteTime": {
     "end_time": "2023-11-24T01:47:38.003729Z",
     "start_time": "2023-11-24T01:47:37.999219Z"
    }
   },
   "outputs": [
    {
     "data": {
      "text/plain": [
       "'Life is too short'"
      ]
     },
     "execution_count": 86,
     "metadata": {},
     "output_type": "execute_result"
    }
   ],
   "source": [
    "a"
   ]
  },
  {
   "cell_type": "code",
   "execution_count": 88,
   "id": "f9c709d8",
   "metadata": {
    "ExecuteTime": {
     "end_time": "2023-11-24T01:47:57.583755Z",
     "start_time": "2023-11-24T01:47:57.577722Z"
    }
   },
   "outputs": [
    {
     "data": {
      "text/plain": [
       "['Life', 'is', 'too', 'short']"
      ]
     },
     "execution_count": 88,
     "metadata": {},
     "output_type": "execute_result"
    }
   ],
   "source": [
    "a1 = a.split()\n",
    "a1"
   ]
  },
  {
   "cell_type": "code",
   "execution_count": 89,
   "id": "748af475",
   "metadata": {
    "ExecuteTime": {
     "end_time": "2023-11-24T01:49:07.467818Z",
     "start_time": "2023-11-24T01:49:07.462880Z"
    }
   },
   "outputs": [
    {
     "data": {
      "text/plain": [
       "'Life is too short'"
      ]
     },
     "execution_count": 89,
     "metadata": {},
     "output_type": "execute_result"
    }
   ],
   "source": [
    "' '.join(a1)"
   ]
  },
  {
   "cell_type": "markdown",
   "id": "36bd37e7",
   "metadata": {},
   "source": [
    "## 리스트"
   ]
  },
  {
   "cell_type": "code",
   "execution_count": 92,
   "id": "616a3532",
   "metadata": {
    "ExecuteTime": {
     "end_time": "2023-11-24T02:02:50.088731Z",
     "start_time": "2023-11-24T02:02:50.081093Z"
    }
   },
   "outputs": [
    {
     "data": {
      "text/plain": [
       "([1, 3, 5, 7, 9], list)"
      ]
     },
     "execution_count": 92,
     "metadata": {},
     "output_type": "execute_result"
    }
   ],
   "source": [
    "odd = [1, 3, 5, 7, 9]\n",
    "odd, type(odd)"
   ]
  },
  {
   "cell_type": "code",
   "execution_count": 93,
   "id": "78ddd1d9",
   "metadata": {
    "ExecuteTime": {
     "end_time": "2023-11-24T02:05:26.395093Z",
     "start_time": "2023-11-24T02:05:26.385969Z"
    }
   },
   "outputs": [
    {
     "name": "stdout",
     "output_type": "stream",
     "text": [
      "[] [1, 2, 3] ['Life', 'is', 'too', 'short'] [1, 2, 'Life', 'is'] [1, 2, ['Life', 'is']]\n",
      "<class 'list'> <class 'list'> <class 'list'> <class 'list'> <class 'list'>\n"
     ]
    }
   ],
   "source": [
    "a = []\n",
    "b = [1,2,3]\n",
    "c = ['Life', 'is', 'too', 'short']\n",
    "d = [1, 2, 'Life', 'is']\n",
    "e = [1, 2, ['Life', 'is']]\n",
    "print(a,b,c,d,e)\n",
    "print(type(a), type(b),type(c), type(d), type(e))"
   ]
  },
  {
   "cell_type": "code",
   "execution_count": 94,
   "id": "1619c846",
   "metadata": {
    "ExecuteTime": {
     "end_time": "2023-11-24T02:05:57.877253Z",
     "start_time": "2023-11-24T02:05:57.872065Z"
    }
   },
   "outputs": [
    {
     "data": {
      "text/plain": [
       "(4, 3)"
      ]
     },
     "execution_count": 94,
     "metadata": {},
     "output_type": "execute_result"
    }
   ],
   "source": [
    "len(d), len(e)"
   ]
  },
  {
   "cell_type": "code",
   "execution_count": 95,
   "id": "b5138a85",
   "metadata": {
    "ExecuteTime": {
     "end_time": "2023-11-24T02:06:20.672909Z",
     "start_time": "2023-11-24T02:06:20.667170Z"
    }
   },
   "outputs": [
    {
     "data": {
      "text/plain": [
       "['Life', 'is']"
      ]
     },
     "execution_count": 95,
     "metadata": {},
     "output_type": "execute_result"
    }
   ],
   "source": [
    "e[2]"
   ]
  },
  {
   "cell_type": "markdown",
   "id": "4ed9650b",
   "metadata": {},
   "source": [
    "## 인덱싱과 슬라이싱"
   ]
  },
  {
   "cell_type": "code",
   "execution_count": 96,
   "id": "770f5a23",
   "metadata": {
    "ExecuteTime": {
     "end_time": "2023-11-24T02:07:04.028328Z",
     "start_time": "2023-11-24T02:07:04.023066Z"
    }
   },
   "outputs": [
    {
     "data": {
      "text/plain": [
       "[1, 2, 3]"
      ]
     },
     "execution_count": 96,
     "metadata": {},
     "output_type": "execute_result"
    }
   ],
   "source": [
    "a = [1, 2, 3]\n",
    "a"
   ]
  },
  {
   "cell_type": "code",
   "execution_count": 97,
   "id": "68ec9553",
   "metadata": {
    "ExecuteTime": {
     "end_time": "2023-11-24T02:07:15.676333Z",
     "start_time": "2023-11-24T02:07:15.670085Z"
    }
   },
   "outputs": [
    {
     "data": {
      "text/plain": [
       "1"
      ]
     },
     "execution_count": 97,
     "metadata": {},
     "output_type": "execute_result"
    }
   ],
   "source": [
    "a[0]"
   ]
  },
  {
   "cell_type": "code",
   "execution_count": 98,
   "id": "e57f9c9d",
   "metadata": {
    "ExecuteTime": {
     "end_time": "2023-11-24T02:07:34.305941Z",
     "start_time": "2023-11-24T02:07:34.300256Z"
    }
   },
   "outputs": [
    {
     "data": {
      "text/plain": [
       "int"
      ]
     },
     "execution_count": 98,
     "metadata": {},
     "output_type": "execute_result"
    }
   ],
   "source": [
    "type(a[0])"
   ]
  },
  {
   "cell_type": "code",
   "execution_count": 99,
   "id": "a1556e44",
   "metadata": {
    "ExecuteTime": {
     "end_time": "2023-11-24T02:07:46.368599Z",
     "start_time": "2023-11-24T02:07:46.362768Z"
    }
   },
   "outputs": [
    {
     "data": {
      "text/plain": [
       "3"
      ]
     },
     "execution_count": 99,
     "metadata": {},
     "output_type": "execute_result"
    }
   ],
   "source": [
    "a[0] * a[2]"
   ]
  },
  {
   "cell_type": "code",
   "execution_count": 100,
   "id": "72ce0f04",
   "metadata": {
    "ExecuteTime": {
     "end_time": "2023-11-24T02:07:58.478878Z",
     "start_time": "2023-11-24T02:07:58.472368Z"
    }
   },
   "outputs": [
    {
     "data": {
      "text/plain": [
       "3"
      ]
     },
     "execution_count": 100,
     "metadata": {},
     "output_type": "execute_result"
    }
   ],
   "source": [
    "a[-1]"
   ]
  },
  {
   "cell_type": "code",
   "execution_count": 102,
   "id": "cdd1fe3c",
   "metadata": {
    "ExecuteTime": {
     "end_time": "2023-11-24T02:08:36.604518Z",
     "start_time": "2023-11-24T02:08:36.589722Z"
    }
   },
   "outputs": [
    {
     "data": {
      "text/plain": [
       "1"
      ]
     },
     "execution_count": 102,
     "metadata": {},
     "output_type": "execute_result"
    }
   ],
   "source": [
    "b = [1, 2, 3, ['a','b','c']]\n",
    "b[0]"
   ]
  },
  {
   "cell_type": "code",
   "execution_count": 103,
   "id": "37365896",
   "metadata": {
    "ExecuteTime": {
     "end_time": "2023-11-24T02:08:43.395860Z",
     "start_time": "2023-11-24T02:08:43.390840Z"
    }
   },
   "outputs": [
    {
     "data": {
      "text/plain": [
       "['a', 'b', 'c']"
      ]
     },
     "execution_count": 103,
     "metadata": {},
     "output_type": "execute_result"
    }
   ],
   "source": [
    "b[-1]"
   ]
  },
  {
   "cell_type": "code",
   "execution_count": 104,
   "id": "9d6800d9",
   "metadata": {
    "ExecuteTime": {
     "end_time": "2023-11-24T02:08:48.013113Z",
     "start_time": "2023-11-24T02:08:48.007218Z"
    }
   },
   "outputs": [
    {
     "data": {
      "text/plain": [
       "['a', 'b', 'c']"
      ]
     },
     "execution_count": 104,
     "metadata": {},
     "output_type": "execute_result"
    }
   ],
   "source": [
    "b[3]"
   ]
  },
  {
   "cell_type": "code",
   "execution_count": 105,
   "id": "e05417b4",
   "metadata": {
    "ExecuteTime": {
     "end_time": "2023-11-24T02:09:05.018784Z",
     "start_time": "2023-11-24T02:09:05.013036Z"
    }
   },
   "outputs": [
    {
     "data": {
      "text/plain": [
       "'a'"
      ]
     },
     "execution_count": 105,
     "metadata": {},
     "output_type": "execute_result"
    }
   ],
   "source": [
    "b[3][0]"
   ]
  },
  {
   "cell_type": "code",
   "execution_count": 106,
   "id": "3dbe4537",
   "metadata": {
    "ExecuteTime": {
     "end_time": "2023-11-24T02:09:21.156453Z",
     "start_time": "2023-11-24T02:09:21.151017Z"
    }
   },
   "outputs": [
    {
     "data": {
      "text/plain": [
       "'b'"
      ]
     },
     "execution_count": 106,
     "metadata": {},
     "output_type": "execute_result"
    }
   ],
   "source": [
    "b[-1][1]"
   ]
  },
  {
   "cell_type": "code",
   "execution_count": 107,
   "id": "0d8f3912",
   "metadata": {
    "ExecuteTime": {
     "end_time": "2023-11-24T02:10:07.582929Z",
     "start_time": "2023-11-24T02:10:07.576310Z"
    }
   },
   "outputs": [
    {
     "data": {
      "text/plain": [
       "[1, 2, ['a', 'b', ['Life', 'is']]]"
      ]
     },
     "execution_count": 107,
     "metadata": {},
     "output_type": "execute_result"
    }
   ],
   "source": [
    "c = [1, 2, ['a', 'b', ['Life', 'is']]]\n",
    "c"
   ]
  },
  {
   "cell_type": "code",
   "execution_count": 108,
   "id": "8c1d27a0",
   "metadata": {
    "ExecuteTime": {
     "end_time": "2023-11-24T02:10:38.688665Z",
     "start_time": "2023-11-24T02:10:38.682441Z"
    }
   },
   "outputs": [
    {
     "data": {
      "text/plain": [
       "'Life'"
      ]
     },
     "execution_count": 108,
     "metadata": {},
     "output_type": "execute_result"
    }
   ],
   "source": [
    "c[2][2][0]"
   ]
  },
  {
   "cell_type": "code",
   "execution_count": 109,
   "id": "f9603639",
   "metadata": {
    "ExecuteTime": {
     "end_time": "2023-11-24T02:10:57.697391Z",
     "start_time": "2023-11-24T02:10:57.692418Z"
    }
   },
   "outputs": [
    {
     "data": {
      "text/plain": [
       "'Life'"
      ]
     },
     "execution_count": 109,
     "metadata": {},
     "output_type": "execute_result"
    }
   ],
   "source": [
    "c[-1][-1][0]"
   ]
  },
  {
   "cell_type": "code",
   "execution_count": 110,
   "id": "c85c1fac",
   "metadata": {
    "ExecuteTime": {
     "end_time": "2023-11-24T02:21:47.856979Z",
     "start_time": "2023-11-24T02:21:47.850991Z"
    }
   },
   "outputs": [
    {
     "data": {
      "text/plain": [
       "[1, 2]"
      ]
     },
     "execution_count": 110,
     "metadata": {},
     "output_type": "execute_result"
    }
   ],
   "source": [
    "a = [1, 2, 3, 4, 5]\n",
    "a[0:2]\n"
   ]
  },
  {
   "cell_type": "code",
   "execution_count": 111,
   "id": "2deaf016",
   "metadata": {
    "ExecuteTime": {
     "end_time": "2023-11-24T02:22:29.345008Z",
     "start_time": "2023-11-24T02:22:29.339803Z"
    }
   },
   "outputs": [
    {
     "name": "stdout",
     "output_type": "stream",
     "text": [
      "[1, 2] [3, 4, 5]\n"
     ]
    }
   ],
   "source": [
    "a = [1, 2, 3, 4, 5]\n",
    "b = a[:2]\n",
    "c = a[2:]\n",
    "print(b, c)"
   ]
  },
  {
   "cell_type": "code",
   "execution_count": 112,
   "id": "448cc7f9",
   "metadata": {
    "ExecuteTime": {
     "end_time": "2023-11-24T02:23:06.293825Z",
     "start_time": "2023-11-24T02:23:06.288833Z"
    }
   },
   "outputs": [
    {
     "data": {
      "text/plain": [
       "[1, 2, 3, ['a', 'b', 'c'], 4, 5]"
      ]
     },
     "execution_count": 112,
     "metadata": {},
     "output_type": "execute_result"
    }
   ],
   "source": [
    "a = [1, 2,3, ['a', 'b', 'c'], 4, 5]\n",
    "a"
   ]
  },
  {
   "cell_type": "code",
   "execution_count": 113,
   "id": "729a5931",
   "metadata": {
    "ExecuteTime": {
     "end_time": "2023-11-24T02:23:11.995117Z",
     "start_time": "2023-11-24T02:23:11.979687Z"
    }
   },
   "outputs": [
    {
     "data": {
      "text/plain": [
       "[3, ['a', 'b', 'c'], 4]"
      ]
     },
     "execution_count": 113,
     "metadata": {},
     "output_type": "execute_result"
    }
   ],
   "source": [
    "a[2:5]"
   ]
  },
  {
   "cell_type": "code",
   "execution_count": 114,
   "id": "73dd11c1",
   "metadata": {
    "ExecuteTime": {
     "end_time": "2023-11-24T02:23:39.886915Z",
     "start_time": "2023-11-24T02:23:39.871068Z"
    }
   },
   "outputs": [
    {
     "data": {
      "text/plain": [
       "['a', 'b']"
      ]
     },
     "execution_count": 114,
     "metadata": {},
     "output_type": "execute_result"
    }
   ],
   "source": [
    "a[3][:2]"
   ]
  },
  {
   "cell_type": "code",
   "execution_count": 115,
   "id": "e59d7350",
   "metadata": {
    "ExecuteTime": {
     "end_time": "2023-11-24T02:24:19.795335Z",
     "start_time": "2023-11-24T02:24:19.789775Z"
    }
   },
   "outputs": [
    {
     "data": {
      "text/plain": [
       "[1, 2, 3, 4, 5, 6]"
      ]
     },
     "execution_count": 115,
     "metadata": {},
     "output_type": "execute_result"
    }
   ],
   "source": [
    "# 리스트 연산하기 - 요소별 연산 미지원\n",
    "a = [1,2,3]\n",
    "b = [4,5,6]\n",
    "a + b"
   ]
  },
  {
   "cell_type": "code",
   "execution_count": 116,
   "id": "47b52198",
   "metadata": {
    "ExecuteTime": {
     "end_time": "2023-11-24T02:24:59.999905Z",
     "start_time": "2023-11-24T02:24:59.994676Z"
    }
   },
   "outputs": [
    {
     "data": {
      "text/plain": [
       "[1, 2, 3, 1, 2, 3, 1, 2, 3]"
      ]
     },
     "execution_count": 116,
     "metadata": {},
     "output_type": "execute_result"
    }
   ],
   "source": [
    "# 리스트 반복하기\n",
    "a * 3"
   ]
  },
  {
   "cell_type": "code",
   "execution_count": 117,
   "id": "696ff58b",
   "metadata": {
    "ExecuteTime": {
     "end_time": "2023-11-24T02:25:12.028493Z",
     "start_time": "2023-11-24T02:25:12.023952Z"
    }
   },
   "outputs": [
    {
     "data": {
      "text/plain": [
       "3"
      ]
     },
     "execution_count": 117,
     "metadata": {},
     "output_type": "execute_result"
    }
   ],
   "source": [
    "# 리스트 길이 구하기\n",
    "len(a)"
   ]
  },
  {
   "cell_type": "markdown",
   "id": "54bdcce5",
   "metadata": {},
   "source": [
    "## 리스트의 수정과 삭제"
   ]
  },
  {
   "cell_type": "code",
   "execution_count": 118,
   "id": "d250389f",
   "metadata": {
    "ExecuteTime": {
     "end_time": "2023-11-24T02:26:09.628212Z",
     "start_time": "2023-11-24T02:26:09.622329Z"
    }
   },
   "outputs": [
    {
     "data": {
      "text/plain": [
       "[1, 2, 4]"
      ]
     },
     "execution_count": 118,
     "metadata": {},
     "output_type": "execute_result"
    }
   ],
   "source": [
    "a = [1,2,3]\n",
    "a[2] = 4\n",
    "a"
   ]
  },
  {
   "cell_type": "code",
   "execution_count": 120,
   "id": "b0ad8ffb",
   "metadata": {
    "ExecuteTime": {
     "end_time": "2023-11-24T02:26:45.446820Z",
     "start_time": "2023-11-24T02:26:45.440320Z"
    }
   },
   "outputs": [
    {
     "data": {
      "text/plain": [
       "[1, 3]"
      ]
     },
     "execution_count": 120,
     "metadata": {},
     "output_type": "execute_result"
    }
   ],
   "source": [
    "# del 함수 사용해 지우기\n",
    "a = [1,2,3]\n",
    "del a [1]\n",
    "a"
   ]
  },
  {
   "cell_type": "code",
   "execution_count": 121,
   "id": "d876910d",
   "metadata": {
    "ExecuteTime": {
     "end_time": "2023-11-24T02:27:03.834583Z",
     "start_time": "2023-11-24T02:27:03.828601Z"
    }
   },
   "outputs": [
    {
     "data": {
      "text/plain": [
       "[1, 2]"
      ]
     },
     "execution_count": 121,
     "metadata": {},
     "output_type": "execute_result"
    }
   ],
   "source": [
    "a = [1,2,3,4,5]\n",
    "del a[2:]\n",
    "a"
   ]
  },
  {
   "cell_type": "markdown",
   "id": "6f345227",
   "metadata": {
    "ExecuteTime": {
     "end_time": "2023-11-24T02:27:19.691465Z",
     "start_time": "2023-11-24T02:27:19.676554Z"
    }
   },
   "source": [
    "## 리스트 관련 함수\n",
    "* 요소 추가(append)"
   ]
  },
  {
   "cell_type": "code",
   "execution_count": 124,
   "id": "2d1da38e",
   "metadata": {
    "ExecuteTime": {
     "end_time": "2023-11-24T02:29:04.232396Z",
     "start_time": "2023-11-24T02:29:04.226315Z"
    }
   },
   "outputs": [
    {
     "data": {
      "text/plain": [
       "[1, 2, 3, 4]"
      ]
     },
     "execution_count": 124,
     "metadata": {},
     "output_type": "execute_result"
    }
   ],
   "source": [
    "a = [1,2,3]\n",
    "a.append(4)\n",
    "a"
   ]
  },
  {
   "cell_type": "code",
   "execution_count": 125,
   "id": "0640a4f0",
   "metadata": {
    "ExecuteTime": {
     "end_time": "2023-11-24T02:29:25.591368Z",
     "start_time": "2023-11-24T02:29:25.586067Z"
    }
   },
   "outputs": [
    {
     "data": {
      "text/plain": [
       "[1, 2, 3, 4, [5, 6]]"
      ]
     },
     "execution_count": 125,
     "metadata": {},
     "output_type": "execute_result"
    }
   ],
   "source": [
    "a.append([5,6])\n",
    "a"
   ]
  },
  {
   "cell_type": "markdown",
   "id": "2b1153e8",
   "metadata": {},
   "source": [
    "## 정렬(sort)"
   ]
  },
  {
   "cell_type": "code",
   "execution_count": 126,
   "id": "4a3242ac",
   "metadata": {
    "ExecuteTime": {
     "end_time": "2023-11-24T02:29:57.484195Z",
     "start_time": "2023-11-24T02:29:57.467870Z"
    }
   },
   "outputs": [
    {
     "data": {
      "text/plain": [
       "[1, 2, 3, 4]"
      ]
     },
     "execution_count": 126,
     "metadata": {},
     "output_type": "execute_result"
    }
   ],
   "source": [
    "a = [1, 4, 3, 2]\n",
    "a.sort()\n",
    "a"
   ]
  },
  {
   "cell_type": "code",
   "execution_count": 128,
   "id": "1d27a17a",
   "metadata": {
    "ExecuteTime": {
     "end_time": "2023-11-24T02:30:25.348824Z",
     "start_time": "2023-11-24T02:30:25.342252Z"
    }
   },
   "outputs": [
    {
     "data": {
      "text/plain": [
       "['a', 'b', 'c', 'd']"
      ]
     },
     "execution_count": 128,
     "metadata": {},
     "output_type": "execute_result"
    }
   ],
   "source": [
    "a = ['a', 'b', 'c', 'd']\n",
    "a.sort()\n",
    "a"
   ]
  },
  {
   "cell_type": "markdown",
   "id": "f75e07ed",
   "metadata": {},
   "source": [
    "## 리스트 뒤집기 (reverse)"
   ]
  },
  {
   "cell_type": "code",
   "execution_count": 129,
   "id": "16dccc5c",
   "metadata": {
    "ExecuteTime": {
     "end_time": "2023-11-24T02:31:01.080192Z",
     "start_time": "2023-11-24T02:31:01.074633Z"
    }
   },
   "outputs": [
    {
     "data": {
      "text/plain": [
       "['b', 'c', 'a']"
      ]
     },
     "execution_count": 129,
     "metadata": {},
     "output_type": "execute_result"
    }
   ],
   "source": [
    "a = ['a', 'c', 'b']\n",
    "a.reverse()\n",
    "a"
   ]
  },
  {
   "cell_type": "markdown",
   "id": "9e3aeb98",
   "metadata": {},
   "source": [
    "## 위치 반환(index)\n",
    "* 요소에 대한 index(위치)를 찾아줘"
   ]
  },
  {
   "cell_type": "code",
   "execution_count": 131,
   "id": "8d9a8dfa",
   "metadata": {
    "ExecuteTime": {
     "end_time": "2023-11-24T02:31:57.593367Z",
     "start_time": "2023-11-24T02:31:57.585887Z"
    }
   },
   "outputs": [
    {
     "data": {
      "text/plain": [
       "2"
      ]
     },
     "execution_count": 131,
     "metadata": {},
     "output_type": "execute_result"
    }
   ],
   "source": [
    "a = [1,2,3]\n",
    "a.index(3)"
   ]
  },
  {
   "cell_type": "code",
   "execution_count": 132,
   "id": "59985823",
   "metadata": {
    "ExecuteTime": {
     "end_time": "2023-11-24T02:32:08.709746Z",
     "start_time": "2023-11-24T02:32:08.673582Z"
    }
   },
   "outputs": [
    {
     "ename": "ValueError",
     "evalue": "5 is not in list",
     "output_type": "error",
     "traceback": [
      "\u001b[1;31m---------------------------------------------------------------------------\u001b[0m",
      "\u001b[1;31mValueError\u001b[0m                                Traceback (most recent call last)",
      "Cell \u001b[1;32mIn[132], line 1\u001b[0m\n\u001b[1;32m----> 1\u001b[0m a\u001b[38;5;241m.\u001b[39mindex(\u001b[38;5;241m5\u001b[39m)\n",
      "\u001b[1;31mValueError\u001b[0m: 5 is not in list"
     ]
    }
   ],
   "source": [
    "a.index(5)"
   ]
  },
  {
   "cell_type": "markdown",
   "id": "0bdddc6c",
   "metadata": {},
   "source": [
    "## 요소 삽입 (insert)"
   ]
  },
  {
   "cell_type": "code",
   "execution_count": 134,
   "id": "152f4702",
   "metadata": {
    "ExecuteTime": {
     "end_time": "2023-11-24T02:35:50.163293Z",
     "start_time": "2023-11-24T02:35:50.156698Z"
    }
   },
   "outputs": [
    {
     "data": {
      "text/plain": [
       "[4, 1, 2, 3]"
      ]
     },
     "execution_count": 134,
     "metadata": {},
     "output_type": "execute_result"
    }
   ],
   "source": [
    "a = [1,2,3]\n",
    "a.insert(0, 4) # 0 위치에 4를 넣어줘\n",
    "a"
   ]
  },
  {
   "cell_type": "code",
   "execution_count": 135,
   "id": "290aa5b9",
   "metadata": {
    "ExecuteTime": {
     "end_time": "2023-11-24T02:36:30.105206Z",
     "start_time": "2023-11-24T02:36:30.058579Z"
    }
   },
   "outputs": [
    {
     "ename": "TypeError",
     "evalue": "insert expected 2 arguments, got 1",
     "output_type": "error",
     "traceback": [
      "\u001b[1;31m---------------------------------------------------------------------------\u001b[0m",
      "\u001b[1;31mTypeError\u001b[0m                                 Traceback (most recent call last)",
      "Cell \u001b[1;32mIn[135], line 1\u001b[0m\n\u001b[1;32m----> 1\u001b[0m a\u001b[38;5;241m.\u001b[39minsert(\u001b[38;5;241m5\u001b[39m)\n\u001b[0;32m      2\u001b[0m a\n",
      "\u001b[1;31mTypeError\u001b[0m: insert expected 2 arguments, got 1"
     ]
    }
   ],
   "source": [
    "a.insert(5) #인덱스 꼭 지정해줘야 함\n",
    "a"
   ]
  },
  {
   "cell_type": "code",
   "execution_count": 137,
   "id": "af4fa0df",
   "metadata": {
    "ExecuteTime": {
     "end_time": "2023-11-24T02:36:52.207554Z",
     "start_time": "2023-11-24T02:36:52.201724Z"
    }
   },
   "outputs": [
    {
     "data": {
      "text/plain": [
       "[4, 1, 2, 5, 5, 3]"
      ]
     },
     "execution_count": 137,
     "metadata": {},
     "output_type": "execute_result"
    }
   ],
   "source": [
    "a.insert(3,5)\n",
    "a"
   ]
  },
  {
   "cell_type": "markdown",
   "id": "12e34f37",
   "metadata": {},
   "source": [
    "## 요소 제거 (remove)"
   ]
  },
  {
   "cell_type": "code",
   "execution_count": 138,
   "id": "3e2c3ed2",
   "metadata": {
    "ExecuteTime": {
     "end_time": "2023-11-24T02:37:32.451105Z",
     "start_time": "2023-11-24T02:37:32.445798Z"
    }
   },
   "outputs": [
    {
     "data": {
      "text/plain": [
       "[1, 2, 3, 1, 2, 3]"
      ]
     },
     "execution_count": 138,
     "metadata": {},
     "output_type": "execute_result"
    }
   ],
   "source": [
    "a = [1, 2, 3, 1, 2, 3]\n",
    "a"
   ]
  },
  {
   "cell_type": "code",
   "execution_count": 139,
   "id": "d958be54",
   "metadata": {
    "ExecuteTime": {
     "end_time": "2023-11-24T02:37:40.754098Z",
     "start_time": "2023-11-24T02:37:40.748199Z"
    }
   },
   "outputs": [
    {
     "data": {
      "text/plain": [
       "[1, 2, 1, 2, 3]"
      ]
     },
     "execution_count": 139,
     "metadata": {},
     "output_type": "execute_result"
    }
   ],
   "source": [
    "a.remove(3)\n",
    "a"
   ]
  },
  {
   "cell_type": "markdown",
   "id": "b33750e6",
   "metadata": {},
   "source": [
    "## 요소 추출(pop)"
   ]
  },
  {
   "cell_type": "code",
   "execution_count": 140,
   "id": "e357c6b9",
   "metadata": {
    "ExecuteTime": {
     "end_time": "2023-11-24T02:38:24.024647Z",
     "start_time": "2023-11-24T02:38:24.018897Z"
    }
   },
   "outputs": [
    {
     "data": {
      "text/plain": [
       "3"
      ]
     },
     "execution_count": 140,
     "metadata": {},
     "output_type": "execute_result"
    }
   ],
   "source": [
    "a = [1, 2, 3]\n",
    "a.pop()"
   ]
  },
  {
   "cell_type": "code",
   "execution_count": 141,
   "id": "459e96e1",
   "metadata": {
    "ExecuteTime": {
     "end_time": "2023-11-24T02:38:29.040289Z",
     "start_time": "2023-11-24T02:38:29.035205Z"
    }
   },
   "outputs": [
    {
     "data": {
      "text/plain": [
       "[1, 2]"
      ]
     },
     "execution_count": 141,
     "metadata": {},
     "output_type": "execute_result"
    }
   ],
   "source": [
    "a"
   ]
  },
  {
   "cell_type": "code",
   "execution_count": 142,
   "id": "4e20febc",
   "metadata": {
    "ExecuteTime": {
     "end_time": "2023-11-24T02:38:56.293789Z",
     "start_time": "2023-11-24T02:38:56.286940Z"
    }
   },
   "outputs": [
    {
     "data": {
      "text/plain": [
       "2"
      ]
     },
     "execution_count": 142,
     "metadata": {},
     "output_type": "execute_result"
    }
   ],
   "source": [
    "a = [1,2,3]\n",
    "a.pop(1)"
   ]
  },
  {
   "cell_type": "code",
   "execution_count": 143,
   "id": "61ba3ac6",
   "metadata": {
    "ExecuteTime": {
     "end_time": "2023-11-24T02:39:01.302804Z",
     "start_time": "2023-11-24T02:39:01.296909Z"
    }
   },
   "outputs": [
    {
     "data": {
      "text/plain": [
       "[1, 3]"
      ]
     },
     "execution_count": 143,
     "metadata": {},
     "output_type": "execute_result"
    }
   ],
   "source": [
    "a"
   ]
  },
  {
   "cell_type": "markdown",
   "id": "1e6f3943",
   "metadata": {},
   "source": [
    "## 리스트 확장 (extend)"
   ]
  },
  {
   "cell_type": "code",
   "execution_count": 144,
   "id": "644a6a29",
   "metadata": {
    "ExecuteTime": {
     "end_time": "2023-11-24T02:41:27.043948Z",
     "start_time": "2023-11-24T02:41:27.037646Z"
    }
   },
   "outputs": [
    {
     "data": {
      "text/plain": [
       "[1, 2, 3, 4, 5]"
      ]
     },
     "execution_count": 144,
     "metadata": {},
     "output_type": "execute_result"
    }
   ],
   "source": [
    "a = [1, 2, 3]\n",
    "a.extend([4, 5])\n",
    "a"
   ]
  },
  {
   "cell_type": "code",
   "execution_count": 145,
   "id": "7a41d179",
   "metadata": {
    "ExecuteTime": {
     "end_time": "2023-11-24T02:41:57.348315Z",
     "start_time": "2023-11-24T02:41:57.342292Z"
    }
   },
   "outputs": [
    {
     "data": {
      "text/plain": [
       "[1, 2, 3, 4, 5, 6, 7]"
      ]
     },
     "execution_count": 145,
     "metadata": {},
     "output_type": "execute_result"
    }
   ],
   "source": [
    "b = [6, 7]\n",
    "a.extend(b)\n",
    "a"
   ]
  },
  {
   "cell_type": "code",
   "execution_count": 148,
   "id": "d1868fc8",
   "metadata": {
    "ExecuteTime": {
     "end_time": "2023-11-24T02:42:29.728484Z",
     "start_time": "2023-11-24T02:42:29.721942Z"
    }
   },
   "outputs": [
    {
     "data": {
      "text/plain": [
       "[1, 2, 3, 4, 5, 6, 7, 4, 5]"
      ]
     },
     "execution_count": 148,
     "metadata": {},
     "output_type": "execute_result"
    }
   ],
   "source": [
    "a += [4, 5]\n",
    "a"
   ]
  },
  {
   "cell_type": "markdown",
   "id": "a0c6a9b8",
   "metadata": {},
   "source": [
    "## 튜플"
   ]
  },
  {
   "cell_type": "code",
   "execution_count": 150,
   "id": "6fb4ec1c",
   "metadata": {
    "ExecuteTime": {
     "end_time": "2023-11-24T02:47:27.862366Z",
     "start_time": "2023-11-24T02:47:27.855492Z"
    }
   },
   "outputs": [
    {
     "name": "stdout",
     "output_type": "stream",
     "text": [
      "() (1,) (1, 2, 3) (1, 2, 3) ('a', 'b', ('ab', 'cd'))\n",
      "<class 'tuple'> <class 'tuple'> <class 'tuple'> <class 'tuple'> <class 'tuple'>\n"
     ]
    }
   ],
   "source": [
    "t1 = () #빈 객체만 만들어진 것\n",
    "t2 = (1, )\n",
    "t3 = (1, 2, 3)\n",
    "t4 = 1, 2, 3\n",
    "t5 = ('a', 'b', ('ab', 'cd'))\n",
    "print(t1, t2, t3, t4, t5)\n",
    "print(type(t1), type(t2), type(t3), type(t4), type(t5))"
   ]
  },
  {
   "cell_type": "code",
   "execution_count": 151,
   "id": "50563d45",
   "metadata": {
    "ExecuteTime": {
     "end_time": "2023-11-24T02:47:42.944714Z",
     "start_time": "2023-11-24T02:47:42.939270Z"
    }
   },
   "outputs": [
    {
     "data": {
      "text/plain": [
       "1"
      ]
     },
     "execution_count": 151,
     "metadata": {},
     "output_type": "execute_result"
    }
   ],
   "source": [
    "t6 = (1)  # 값을 가지고 객체를 만든 것 \n",
    "t6"
   ]
  },
  {
   "cell_type": "code",
   "execution_count": 152,
   "id": "712b9995",
   "metadata": {
    "ExecuteTime": {
     "end_time": "2023-11-24T02:48:10.325765Z",
     "start_time": "2023-11-24T02:48:10.321320Z"
    }
   },
   "outputs": [
    {
     "name": "stdout",
     "output_type": "stream",
     "text": [
      "1 <class 'int'>\n"
     ]
    }
   ],
   "source": [
    "print(t6, type(t6))"
   ]
  },
  {
   "cell_type": "code",
   "execution_count": 153,
   "id": "940f0002",
   "metadata": {
    "ExecuteTime": {
     "end_time": "2023-11-24T02:48:34.987087Z",
     "start_time": "2023-11-24T02:48:34.955236Z"
    }
   },
   "outputs": [
    {
     "ename": "TypeError",
     "evalue": "'tuple' object doesn't support item deletion",
     "output_type": "error",
     "traceback": [
      "\u001b[1;31m---------------------------------------------------------------------------\u001b[0m",
      "\u001b[1;31mTypeError\u001b[0m                                 Traceback (most recent call last)",
      "Cell \u001b[1;32mIn[153], line 2\u001b[0m\n\u001b[0;32m      1\u001b[0m t1 \u001b[38;5;241m=\u001b[39m (\u001b[38;5;241m1\u001b[39m, \u001b[38;5;241m2\u001b[39m, \u001b[38;5;124m'\u001b[39m\u001b[38;5;124ma\u001b[39m\u001b[38;5;124m'\u001b[39m, \u001b[38;5;124m'\u001b[39m\u001b[38;5;124mb\u001b[39m\u001b[38;5;124m'\u001b[39m)\n\u001b[1;32m----> 2\u001b[0m \u001b[38;5;28;01mdel\u001b[39;00m t1[\u001b[38;5;241m0\u001b[39m]\n",
      "\u001b[1;31mTypeError\u001b[0m: 'tuple' object doesn't support item deletion"
     ]
    }
   ],
   "source": [
    "t1 = (1, 2, 'a', 'b')\n",
    "del t1[0]"
   ]
  },
  {
   "cell_type": "code",
   "execution_count": 154,
   "id": "4d50eb48",
   "metadata": {
    "ExecuteTime": {
     "end_time": "2023-11-24T02:49:45.930184Z",
     "start_time": "2023-11-24T02:49:45.895289Z"
    }
   },
   "outputs": [
    {
     "ename": "TypeError",
     "evalue": "'tuple' object does not support item assignment",
     "output_type": "error",
     "traceback": [
      "\u001b[1;31m---------------------------------------------------------------------------\u001b[0m",
      "\u001b[1;31mTypeError\u001b[0m                                 Traceback (most recent call last)",
      "Cell \u001b[1;32mIn[154], line 2\u001b[0m\n\u001b[0;32m      1\u001b[0m t1 \u001b[38;5;241m=\u001b[39m (\u001b[38;5;241m1\u001b[39m, \u001b[38;5;241m2\u001b[39m, \u001b[38;5;124m'\u001b[39m\u001b[38;5;124ma\u001b[39m\u001b[38;5;124m'\u001b[39m, \u001b[38;5;124m'\u001b[39m\u001b[38;5;124mb\u001b[39m\u001b[38;5;124m'\u001b[39m)\n\u001b[1;32m----> 2\u001b[0m t1[\u001b[38;5;241m0\u001b[39m] \u001b[38;5;241m=\u001b[39m \u001b[38;5;124m'\u001b[39m\u001b[38;5;124mc\u001b[39m\u001b[38;5;124m'\u001b[39m\n",
      "\u001b[1;31mTypeError\u001b[0m: 'tuple' object does not support item assignment"
     ]
    }
   ],
   "source": [
    "t1 = (1, 2, 'a', 'b')\n",
    "t1[0] = 'c'"
   ]
  },
  {
   "cell_type": "markdown",
   "id": "033033d5",
   "metadata": {},
   "source": [
    "# 딕셔너리"
   ]
  },
  {
   "cell_type": "code",
   "execution_count": 9,
   "id": "aa92e972",
   "metadata": {
    "ExecuteTime": {
     "end_time": "2023-11-27T01:33:29.114725Z",
     "start_time": "2023-11-27T01:33:29.108905Z"
    }
   },
   "outputs": [
    {
     "data": {
      "text/plain": [
       "{1: 'a', 2: 'b'}"
      ]
     },
     "execution_count": 9,
     "metadata": {},
     "output_type": "execute_result"
    }
   ],
   "source": [
    "# 딕셔너리 쌍 추가하기\n",
    "\n",
    "a = {1:'a'}\n",
    "a[2] = 'b'\n",
    "a"
   ]
  },
  {
   "cell_type": "code",
   "execution_count": 10,
   "id": "7e72692f",
   "metadata": {
    "ExecuteTime": {
     "end_time": "2023-11-27T01:33:59.333050Z",
     "start_time": "2023-11-27T01:33:59.326964Z"
    }
   },
   "outputs": [
    {
     "data": {
      "text/plain": [
       "10"
      ]
     },
     "execution_count": 10,
     "metadata": {},
     "output_type": "execute_result"
    }
   ],
   "source": [
    "# 키를 사용해 밸류 얻기\n",
    "\n",
    "grade = {'pey' : 10, 'julliet' : 99}\n",
    "grade['pey']"
   ]
  },
  {
   "cell_type": "code",
   "execution_count": 11,
   "id": "0a4452a4",
   "metadata": {
    "ExecuteTime": {
     "end_time": "2023-11-27T01:34:01.213336Z",
     "start_time": "2023-11-27T01:34:01.208568Z"
    }
   },
   "outputs": [
    {
     "data": {
      "text/plain": [
       "99"
      ]
     },
     "execution_count": 11,
     "metadata": {},
     "output_type": "execute_result"
    }
   ],
   "source": [
    "grade['julliet']"
   ]
  },
  {
   "cell_type": "code",
   "execution_count": 13,
   "id": "cefc09e7",
   "metadata": {
    "ExecuteTime": {
     "end_time": "2023-11-27T01:34:50.736459Z",
     "start_time": "2023-11-27T01:34:50.731308Z"
    }
   },
   "outputs": [
    {
     "data": {
      "text/plain": [
       "{1: 'b'}"
      ]
     },
     "execution_count": 13,
     "metadata": {},
     "output_type": "execute_result"
    }
   ],
   "source": [
    "# 주의: key는 고유값이므로 중복 불가\n",
    "\n",
    "a = {1:'a', 1:'b'}\n",
    "a"
   ]
  },
  {
   "cell_type": "code",
   "execution_count": null,
   "id": "248cdc3c",
   "metadata": {},
   "outputs": [],
   "source": [
    "# 주의: key에 리스트 사용 불가"
   ]
  },
  {
   "cell_type": "code",
   "execution_count": 15,
   "id": "bda11f79",
   "metadata": {
    "ExecuteTime": {
     "end_time": "2023-11-27T01:36:21.018543Z",
     "start_time": "2023-11-27T01:36:21.012951Z"
    }
   },
   "outputs": [
    {
     "data": {
      "text/plain": [
       "dict_keys(['name', 'phone', 'birth'])"
      ]
     },
     "execution_count": 15,
     "metadata": {},
     "output_type": "execute_result"
    }
   ],
   "source": [
    "# key 리스트 만들기 - keys() : key만 모아 객체 리턴\n",
    "\n",
    "a = {'name': 'pey', 'phone': '010-9999-1234', 'birth': '1118'}\n",
    "a.keys()"
   ]
  },
  {
   "cell_type": "code",
   "execution_count": 16,
   "id": "c9a072b5",
   "metadata": {
    "ExecuteTime": {
     "end_time": "2023-11-27T01:37:02.752984Z",
     "start_time": "2023-11-27T01:37:02.747521Z"
    }
   },
   "outputs": [
    {
     "data": {
      "text/plain": [
       "dict_values(['pey', '010-9999-1234', '1118'])"
      ]
     },
     "execution_count": 16,
     "metadata": {},
     "output_type": "execute_result"
    }
   ],
   "source": [
    "# value 리스트 만들기 - values\n",
    "\n",
    "a.values()"
   ]
  },
  {
   "cell_type": "code",
   "execution_count": 18,
   "id": "4eff4628",
   "metadata": {
    "ExecuteTime": {
     "end_time": "2023-11-27T01:37:43.579233Z",
     "start_time": "2023-11-27T01:37:43.574284Z"
    }
   },
   "outputs": [
    {
     "data": {
      "text/plain": [
       "dict_items([('name', 'pey'), ('phone', '010-9999-1234'), ('birth', '1118')])"
      ]
     },
     "execution_count": 18,
     "metadata": {},
     "output_type": "execute_result"
    }
   ],
   "source": [
    "# key,value 쌍 얻기 - items\n",
    "\n",
    "a.items()"
   ]
  },
  {
   "cell_type": "code",
   "execution_count": 20,
   "id": "9b9979bb",
   "metadata": {
    "ExecuteTime": {
     "end_time": "2023-11-27T01:38:16.833193Z",
     "start_time": "2023-11-27T01:38:16.827080Z"
    }
   },
   "outputs": [
    {
     "data": {
      "text/plain": [
       "{}"
      ]
     },
     "execution_count": 20,
     "metadata": {},
     "output_type": "execute_result"
    }
   ],
   "source": [
    "# Key: Value 쌍 모두 지우기 - clear\n",
    "\n",
    "a.clear()\n",
    "a"
   ]
  },
  {
   "cell_type": "markdown",
   "id": "e7c96a70",
   "metadata": {},
   "source": [
    "## Key로 Value 얻기 - get"
   ]
  },
  {
   "cell_type": "code",
   "execution_count": 27,
   "id": "b5594fa9",
   "metadata": {
    "ExecuteTime": {
     "end_time": "2023-11-27T01:40:57.091624Z",
     "start_time": "2023-11-27T01:40:57.087737Z"
    }
   },
   "outputs": [
    {
     "name": "stdout",
     "output_type": "stream",
     "text": [
      "None\n"
     ]
    }
   ],
   "source": [
    "a = {'name': 'pey', 'phone': '010-9999-1234', 'birth': '1118'}\n",
    "a.get('name')\n",
    "print(a.get('nokey'))"
   ]
  },
  {
   "cell_type": "code",
   "execution_count": 32,
   "id": "081c1cfc",
   "metadata": {
    "ExecuteTime": {
     "end_time": "2023-11-27T01:41:59.709030Z",
     "start_time": "2023-11-27T01:41:59.704066Z"
    }
   },
   "outputs": [
    {
     "data": {
      "text/plain": [
       "'foo'"
      ]
     },
     "execution_count": 32,
     "metadata": {},
     "output_type": "execute_result"
    }
   ],
   "source": [
    "# key가 없을 경우, 미리 정해 둔 디폴트 값을 대신 가져오는 방법 (get)\n",
    "\n",
    "a.get('nokey', 'foo')"
   ]
  },
  {
   "cell_type": "markdown",
   "id": "3489be24",
   "metadata": {},
   "source": [
    "## 해당 Key가 딕셔너리 안에 있는지 조사하기 - in"
   ]
  },
  {
   "cell_type": "code",
   "execution_count": 31,
   "id": "b01ae742",
   "metadata": {
    "ExecuteTime": {
     "end_time": "2023-11-27T01:41:54.063910Z",
     "start_time": "2023-11-27T01:41:54.057395Z"
    }
   },
   "outputs": [
    {
     "data": {
      "text/plain": [
       "True"
      ]
     },
     "execution_count": 31,
     "metadata": {},
     "output_type": "execute_result"
    }
   ],
   "source": [
    "a = {'name':'pey', 'phone':'010-9999-1234', 'birth': '1118'}\n",
    "'name' in a"
   ]
  },
  {
   "cell_type": "code",
   "execution_count": 30,
   "id": "847c775e",
   "metadata": {
    "ExecuteTime": {
     "end_time": "2023-11-27T01:41:49.187886Z",
     "start_time": "2023-11-27T01:41:49.182655Z"
    }
   },
   "outputs": [
    {
     "data": {
      "text/plain": [
       "False"
      ]
     },
     "execution_count": 30,
     "metadata": {},
     "output_type": "execute_result"
    }
   ],
   "source": [
    "'email' in a"
   ]
  },
  {
   "cell_type": "markdown",
   "id": "cc97b1bf",
   "metadata": {},
   "source": [
    "# 집합 자료형\n",
    "\n",
    "* 중복을 허용하지 않는다.\n",
    "* 순서가 없다(Unordered)."
   ]
  },
  {
   "cell_type": "code",
   "execution_count": 33,
   "id": "2c3e4cdc",
   "metadata": {
    "ExecuteTime": {
     "end_time": "2023-11-27T01:43:37.139526Z",
     "start_time": "2023-11-27T01:43:37.132387Z"
    }
   },
   "outputs": [
    {
     "data": {
      "text/plain": [
       "{1, 2, 3}"
      ]
     },
     "execution_count": 33,
     "metadata": {},
     "output_type": "execute_result"
    }
   ],
   "source": [
    "s1 = set([1, 2, 3])\n",
    "s1"
   ]
  },
  {
   "cell_type": "code",
   "execution_count": 34,
   "id": "88b866bc",
   "metadata": {
    "ExecuteTime": {
     "end_time": "2023-11-27T01:44:00.923180Z",
     "start_time": "2023-11-27T01:44:00.918076Z"
    }
   },
   "outputs": [
    {
     "data": {
      "text/plain": [
       "{'e', 'h', 'l', 'o'}"
      ]
     },
     "execution_count": 34,
     "metadata": {},
     "output_type": "execute_result"
    }
   ],
   "source": [
    "s2 = set(\"hello\")\n",
    "s2"
   ]
  },
  {
   "cell_type": "code",
   "execution_count": 38,
   "id": "c18b486f",
   "metadata": {
    "ExecuteTime": {
     "end_time": "2023-11-27T01:45:13.817635Z",
     "start_time": "2023-11-27T01:45:13.812046Z"
    }
   },
   "outputs": [
    {
     "data": {
      "text/plain": [
       "[1, 2, 3]"
      ]
     },
     "execution_count": 38,
     "metadata": {},
     "output_type": "execute_result"
    }
   ],
   "source": [
    "# set 자료형에 저장된 값을 인덱싱으로 접근하려면 리스트나 튜플로 변환한 후에 해야 한다.\n",
    "\n",
    "s1 = set([1, 2, 3])\n",
    "l1 = list(s1)\n",
    "l1"
   ]
  },
  {
   "cell_type": "code",
   "execution_count": 39,
   "id": "82aa3649",
   "metadata": {
    "ExecuteTime": {
     "end_time": "2023-11-27T01:45:18.651768Z",
     "start_time": "2023-11-27T01:45:18.646886Z"
    }
   },
   "outputs": [
    {
     "data": {
      "text/plain": [
       "1"
      ]
     },
     "execution_count": 39,
     "metadata": {},
     "output_type": "execute_result"
    }
   ],
   "source": [
    "l1[0]"
   ]
  },
  {
   "cell_type": "markdown",
   "id": "800f4afe",
   "metadata": {},
   "source": [
    "## 교집합, 합집합, 차집합 구하기"
   ]
  },
  {
   "cell_type": "code",
   "execution_count": 40,
   "id": "1d3aa48c",
   "metadata": {
    "ExecuteTime": {
     "end_time": "2023-11-27T01:46:10.811035Z",
     "start_time": "2023-11-27T01:46:10.806599Z"
    }
   },
   "outputs": [],
   "source": [
    "s1 = set([1, 2, 3, 4, 5, 6])\n",
    "s2 = set([4, 5, 6, 7, 8, 9])"
   ]
  },
  {
   "cell_type": "code",
   "execution_count": 45,
   "id": "4d46de1e",
   "metadata": {
    "ExecuteTime": {
     "end_time": "2023-11-27T01:47:18.278157Z",
     "start_time": "2023-11-27T01:47:18.272250Z"
    }
   },
   "outputs": [
    {
     "data": {
      "text/plain": [
       "{4, 5, 6}"
      ]
     },
     "execution_count": 45,
     "metadata": {},
     "output_type": "execute_result"
    }
   ],
   "source": [
    "# 교집합\n",
    "s1 & s2"
   ]
  },
  {
   "cell_type": "code",
   "execution_count": 46,
   "id": "aa96fcfd",
   "metadata": {
    "ExecuteTime": {
     "end_time": "2023-11-27T01:47:31.850215Z",
     "start_time": "2023-11-27T01:47:31.844157Z"
    }
   },
   "outputs": [
    {
     "data": {
      "text/plain": [
       "{4, 5, 6}"
      ]
     },
     "execution_count": 46,
     "metadata": {},
     "output_type": "execute_result"
    }
   ],
   "source": [
    "s1.intersection(s2)"
   ]
  },
  {
   "cell_type": "code",
   "execution_count": 42,
   "id": "3ac68609",
   "metadata": {
    "ExecuteTime": {
     "end_time": "2023-11-27T01:46:40.250387Z",
     "start_time": "2023-11-27T01:46:40.244798Z"
    }
   },
   "outputs": [
    {
     "data": {
      "text/plain": [
       "{1, 2, 3, 4, 5, 6, 7, 8, 9}"
      ]
     },
     "execution_count": 42,
     "metadata": {},
     "output_type": "execute_result"
    }
   ],
   "source": [
    "# 합집합 \n",
    "s1|s2"
   ]
  },
  {
   "cell_type": "code",
   "execution_count": 47,
   "id": "07b31e25",
   "metadata": {
    "ExecuteTime": {
     "end_time": "2023-11-27T01:47:52.328543Z",
     "start_time": "2023-11-27T01:47:52.323262Z"
    }
   },
   "outputs": [
    {
     "data": {
      "text/plain": [
       "{1, 2, 3, 4, 5, 6, 7, 8, 9}"
      ]
     },
     "execution_count": 47,
     "metadata": {},
     "output_type": "execute_result"
    }
   ],
   "source": [
    "s1.union(s2)"
   ]
  },
  {
   "cell_type": "code",
   "execution_count": 43,
   "id": "40edcc01",
   "metadata": {
    "ExecuteTime": {
     "end_time": "2023-11-27T01:46:51.923224Z",
     "start_time": "2023-11-27T01:46:51.918970Z"
    }
   },
   "outputs": [
    {
     "data": {
      "text/plain": [
       "{1, 2, 3}"
      ]
     },
     "execution_count": 43,
     "metadata": {},
     "output_type": "execute_result"
    }
   ],
   "source": [
    "# 차집합\n",
    "s1 - s2"
   ]
  },
  {
   "cell_type": "code",
   "execution_count": 48,
   "id": "418863a9",
   "metadata": {
    "ExecuteTime": {
     "end_time": "2023-11-27T01:48:20.763016Z",
     "start_time": "2023-11-27T01:48:20.758380Z"
    }
   },
   "outputs": [
    {
     "data": {
      "text/plain": [
       "{1, 2, 3}"
      ]
     },
     "execution_count": 48,
     "metadata": {},
     "output_type": "execute_result"
    }
   ],
   "source": [
    "s1.difference(s2)"
   ]
  },
  {
   "cell_type": "markdown",
   "id": "c8bb0648",
   "metadata": {},
   "source": [
    "## 집합 자료형 관련 함수"
   ]
  },
  {
   "cell_type": "markdown",
   "id": "9dcacfe6",
   "metadata": {},
   "source": [
    "### 값 1개 추가하기 - add"
   ]
  },
  {
   "cell_type": "code",
   "execution_count": 51,
   "id": "b61691b8",
   "metadata": {
    "ExecuteTime": {
     "end_time": "2023-11-27T01:49:51.424174Z",
     "start_time": "2023-11-27T01:49:51.419353Z"
    }
   },
   "outputs": [
    {
     "data": {
      "text/plain": [
       "{1, 2, 3, 4}"
      ]
     },
     "execution_count": 51,
     "metadata": {},
     "output_type": "execute_result"
    }
   ],
   "source": [
    "s1 = set([1, 2, 3])\n",
    "s1.add(4)\n",
    "s1"
   ]
  },
  {
   "cell_type": "markdown",
   "id": "b79913d1",
   "metadata": {},
   "source": [
    "### 값 여러개 추가하기 - update"
   ]
  },
  {
   "cell_type": "code",
   "execution_count": 53,
   "id": "b3ae3dfa",
   "metadata": {
    "ExecuteTime": {
     "end_time": "2023-11-27T01:50:35.151158Z",
     "start_time": "2023-11-27T01:50:35.145474Z"
    }
   },
   "outputs": [
    {
     "data": {
      "text/plain": [
       "{1, 2, 3, 4, 5, 6}"
      ]
     },
     "execution_count": 53,
     "metadata": {},
     "output_type": "execute_result"
    }
   ],
   "source": [
    "s1 = set([1, 2, 3])\n",
    "s1.update([4, 5, 6])\n",
    "s1"
   ]
  },
  {
   "cell_type": "markdown",
   "id": "6a4298bd",
   "metadata": {},
   "source": [
    "### 특정 값 제거 - remove"
   ]
  },
  {
   "cell_type": "code",
   "execution_count": 55,
   "id": "d9a57eff",
   "metadata": {
    "ExecuteTime": {
     "end_time": "2023-11-27T01:59:58.634330Z",
     "start_time": "2023-11-27T01:59:58.628461Z"
    }
   },
   "outputs": [
    {
     "data": {
      "text/plain": [
       "{1, 3}"
      ]
     },
     "execution_count": 55,
     "metadata": {},
     "output_type": "execute_result"
    }
   ],
   "source": [
    "s1 = set([1, 2, 3])\n",
    "s1.remove(2)\n",
    "s1"
   ]
  },
  {
   "cell_type": "markdown",
   "id": "ffbc8bdf",
   "metadata": {},
   "source": [
    "# 불린 (논리)\n",
    "\n",
    "* 참(True)과 거짓(False)을 나타내는 자료형\n",
    "* True, False 2가지 값만 가질 수 있음\n",
    "* 첫 문자는 항상 대문자로"
   ]
  },
  {
   "cell_type": "code",
   "execution_count": 59,
   "id": "8940371c",
   "metadata": {
    "ExecuteTime": {
     "end_time": "2023-11-27T02:12:54.588170Z",
     "start_time": "2023-11-27T02:12:54.583430Z"
    }
   },
   "outputs": [
    {
     "data": {
      "text/plain": [
       "(bool, bool)"
      ]
     },
     "execution_count": 59,
     "metadata": {},
     "output_type": "execute_result"
    }
   ],
   "source": [
    "a = True\n",
    "b = False\n",
    "type(a), type(b)"
   ]
  },
  {
   "cell_type": "markdown",
   "id": "3ae3a47c",
   "metadata": {},
   "source": [
    "## 자료형의 참과 거짓\n",
    "* 값이 있냐(T) 없냐(F)\n",
    "* T = 1, F = 0, none"
   ]
  },
  {
   "cell_type": "code",
   "execution_count": 64,
   "id": "0795cac4",
   "metadata": {
    "ExecuteTime": {
     "end_time": "2023-11-27T02:15:47.504777Z",
     "start_time": "2023-11-27T02:15:47.498421Z"
    }
   },
   "outputs": [
    {
     "data": {
      "text/plain": [
       "False"
      ]
     },
     "execution_count": 64,
     "metadata": {},
     "output_type": "execute_result"
    }
   ],
   "source": [
    "\"python\" == True # 1 > python과 1이 같아?\n",
    "\n",
    "# == -> 비교 연산자"
   ]
  },
  {
   "cell_type": "code",
   "execution_count": 66,
   "id": "8f563b08",
   "metadata": {
    "ExecuteTime": {
     "end_time": "2023-11-27T02:16:33.611414Z",
     "start_time": "2023-11-27T02:16:33.605944Z"
    }
   },
   "outputs": [
    {
     "data": {
      "text/plain": [
       "False"
      ]
     },
     "execution_count": 66,
     "metadata": {},
     "output_type": "execute_result"
    }
   ],
   "source": [
    "\"\" == True"
   ]
  },
  {
   "cell_type": "markdown",
   "id": "adeda5d8",
   "metadata": {},
   "source": [
    "### 제어문에서 활용"
   ]
  },
  {
   "cell_type": "code",
   "execution_count": 1,
   "id": "4f119a56",
   "metadata": {
    "ExecuteTime": {
     "end_time": "2023-11-27T02:20:06.174936Z",
     "start_time": "2023-11-27T02:20:06.170670Z"
    }
   },
   "outputs": [
    {
     "name": "stdout",
     "output_type": "stream",
     "text": [
      "4\n",
      "3\n",
      "2\n",
      "1\n"
     ]
    }
   ],
   "source": [
    "a = [1, 2, 3, 4]\n",
    "while a: #a 자체가 참이냐 아니냐\n",
    "    print(a.pop())"
   ]
  },
  {
   "cell_type": "code",
   "execution_count": 2,
   "id": "ca337ddf",
   "metadata": {
    "ExecuteTime": {
     "end_time": "2023-11-27T02:21:26.080600Z",
     "start_time": "2023-11-27T02:21:26.075857Z"
    }
   },
   "outputs": [
    {
     "name": "stdout",
     "output_type": "stream",
     "text": [
      "거짓\n"
     ]
    }
   ],
   "source": [
    "if []:\n",
    "    print('참')\n",
    "else :\n",
    "    print('거짓')"
   ]
  },
  {
   "cell_type": "markdown",
   "id": "e9147337",
   "metadata": {},
   "source": [
    "### 불연산"
   ]
  },
  {
   "cell_type": "code",
   "execution_count": 4,
   "id": "c31461b9",
   "metadata": {
    "ExecuteTime": {
     "end_time": "2023-11-27T02:22:51.239772Z",
     "start_time": "2023-11-27T02:22:51.233506Z"
    }
   },
   "outputs": [
    {
     "data": {
      "text/plain": [
       "True"
      ]
     },
     "execution_count": 4,
     "metadata": {},
     "output_type": "execute_result"
    }
   ],
   "source": [
    "bool('python')"
   ]
  },
  {
   "cell_type": "code",
   "execution_count": 5,
   "id": "f9b5e201",
   "metadata": {
    "ExecuteTime": {
     "end_time": "2023-11-27T02:23:00.987893Z",
     "start_time": "2023-11-27T02:23:00.983049Z"
    }
   },
   "outputs": [
    {
     "data": {
      "text/plain": [
       "False"
      ]
     },
     "execution_count": 5,
     "metadata": {},
     "output_type": "execute_result"
    }
   ],
   "source": [
    "bool('')"
   ]
  },
  {
   "cell_type": "code",
   "execution_count": 6,
   "id": "3e6b2304",
   "metadata": {
    "ExecuteTime": {
     "end_time": "2023-11-27T02:23:13.921783Z",
     "start_time": "2023-11-27T02:23:13.915256Z"
    }
   },
   "outputs": [
    {
     "data": {
      "text/plain": [
       "True"
      ]
     },
     "execution_count": 6,
     "metadata": {},
     "output_type": "execute_result"
    }
   ],
   "source": [
    "bool([1, 2, 3])"
   ]
  },
  {
   "cell_type": "markdown",
   "id": "228b62ff",
   "metadata": {},
   "source": [
    "# 자료형의 값을 저장하는 공간, 변수"
   ]
  },
  {
   "cell_type": "code",
   "execution_count": 17,
   "id": "f925941f",
   "metadata": {
    "ExecuteTime": {
     "end_time": "2023-11-27T02:28:04.406601Z",
     "start_time": "2023-11-27T02:28:04.401582Z"
    }
   },
   "outputs": [
    {
     "data": {
      "text/plain": [
       "[1, 2, 3]"
      ]
     },
     "execution_count": 17,
     "metadata": {},
     "output_type": "execute_result"
    }
   ],
   "source": [
    "a = [1, 2, 3]\n",
    "a"
   ]
  },
  {
   "cell_type": "code",
   "execution_count": 19,
   "id": "00afc89a",
   "metadata": {
    "ExecuteTime": {
     "end_time": "2023-11-27T02:30:05.655214Z",
     "start_time": "2023-11-27T02:30:05.638347Z"
    }
   },
   "outputs": [
    {
     "ename": "TypeError",
     "evalue": "'list' object is not callable",
     "output_type": "error",
     "traceback": [
      "\u001b[1;31m---------------------------------------------------------------------------\u001b[0m",
      "\u001b[1;31mTypeError\u001b[0m                                 Traceback (most recent call last)",
      "Cell \u001b[1;32mIn[19], line 1\u001b[0m\n\u001b[1;32m----> 1\u001b[0m \u001b[38;5;28mid\u001b[39m(a)\n",
      "\u001b[1;31mTypeError\u001b[0m: 'list' object is not callable"
     ]
    }
   ],
   "source": [
    "id(a)"
   ]
  },
  {
   "cell_type": "code",
   "execution_count": 14,
   "id": "664c2737",
   "metadata": {
    "ExecuteTime": {
     "end_time": "2023-11-27T02:27:23.661873Z",
     "start_time": "2023-11-27T02:27:23.656958Z"
    }
   },
   "outputs": [
    {
     "data": {
      "text/plain": [
       "[1, 2, 3]"
      ]
     },
     "execution_count": 14,
     "metadata": {},
     "output_type": "execute_result"
    }
   ],
   "source": [
    "a = [1, 2, 3]\n",
    "b = a\n",
    "b"
   ]
  },
  {
   "cell_type": "code",
   "execution_count": 15,
   "id": "7fa33e68",
   "metadata": {
    "ExecuteTime": {
     "end_time": "2023-11-27T02:27:28.418776Z",
     "start_time": "2023-11-27T02:27:28.401113Z"
    }
   },
   "outputs": [
    {
     "ename": "TypeError",
     "evalue": "'list' object is not callable",
     "output_type": "error",
     "traceback": [
      "\u001b[1;31m---------------------------------------------------------------------------\u001b[0m",
      "\u001b[1;31mTypeError\u001b[0m                                 Traceback (most recent call last)",
      "Cell \u001b[1;32mIn[15], line 1\u001b[0m\n\u001b[1;32m----> 1\u001b[0m \u001b[38;5;28mid\u001b[39m(b)\n",
      "\u001b[1;31mTypeError\u001b[0m: 'list' object is not callable"
     ]
    }
   ],
   "source": [
    "id(b)"
   ]
  },
  {
   "cell_type": "code",
   "execution_count": 16,
   "id": "b8be9b25",
   "metadata": {
    "ExecuteTime": {
     "end_time": "2023-11-27T02:27:44.611720Z",
     "start_time": "2023-11-27T02:27:44.606539Z"
    }
   },
   "outputs": [
    {
     "data": {
      "text/plain": [
       "True"
      ]
     },
     "execution_count": 16,
     "metadata": {},
     "output_type": "execute_result"
    }
   ],
   "source": [
    "a is b"
   ]
  },
  {
   "cell_type": "code",
   "execution_count": 22,
   "id": "efa848e3",
   "metadata": {
    "ExecuteTime": {
     "end_time": "2023-11-27T02:30:45.452207Z",
     "start_time": "2023-11-27T02:30:45.446641Z"
    }
   },
   "outputs": [
    {
     "data": {
      "text/plain": [
       "[1, 4, 3]"
      ]
     },
     "execution_count": 22,
     "metadata": {},
     "output_type": "execute_result"
    }
   ],
   "source": [
    "a[1] = 4\n",
    "a"
   ]
  },
  {
   "cell_type": "code",
   "execution_count": 23,
   "id": "637d9a55",
   "metadata": {
    "ExecuteTime": {
     "end_time": "2023-11-27T02:30:48.318168Z",
     "start_time": "2023-11-27T02:30:48.312888Z"
    }
   },
   "outputs": [
    {
     "data": {
      "text/plain": [
       "[1, 2, 3]"
      ]
     },
     "execution_count": 23,
     "metadata": {},
     "output_type": "execute_result"
    }
   ],
   "source": [
    "b"
   ]
  },
  {
   "cell_type": "code",
   "execution_count": 24,
   "id": "c9f86334",
   "metadata": {
    "ExecuteTime": {
     "end_time": "2023-11-27T02:32:11.018846Z",
     "start_time": "2023-11-27T02:32:11.015069Z"
    }
   },
   "outputs": [],
   "source": [
    "from copy import copy\n",
    "a = [1, 2, 3]\n",
    "b = copy(a)"
   ]
  },
  {
   "cell_type": "code",
   "execution_count": 25,
   "id": "cb7f81b0",
   "metadata": {
    "ExecuteTime": {
     "end_time": "2023-11-27T02:32:32.350053Z",
     "start_time": "2023-11-27T02:32:32.345343Z"
    }
   },
   "outputs": [
    {
     "data": {
      "text/plain": [
       "([1, 2, 3], [1, 2, 3])"
      ]
     },
     "execution_count": 25,
     "metadata": {},
     "output_type": "execute_result"
    }
   ],
   "source": [
    "a, b"
   ]
  },
  {
   "cell_type": "code",
   "execution_count": 26,
   "id": "d1ca1784",
   "metadata": {
    "ExecuteTime": {
     "end_time": "2023-11-27T02:32:39.038641Z",
     "start_time": "2023-11-27T02:32:39.033031Z"
    }
   },
   "outputs": [
    {
     "data": {
      "text/plain": [
       "False"
      ]
     },
     "execution_count": 26,
     "metadata": {},
     "output_type": "execute_result"
    }
   ],
   "source": [
    "b is a # 객체를 비교(다른 ID)"
   ]
  },
  {
   "cell_type": "code",
   "execution_count": 27,
   "id": "f302364d",
   "metadata": {
    "ExecuteTime": {
     "end_time": "2023-11-27T02:32:45.951809Z",
     "start_time": "2023-11-27T02:32:45.947373Z"
    }
   },
   "outputs": [
    {
     "data": {
      "text/plain": [
       "True"
      ]
     },
     "execution_count": 27,
     "metadata": {},
     "output_type": "execute_result"
    }
   ],
   "source": [
    "b == a # 요소를 비교(실제값 비교)"
   ]
  },
  {
   "cell_type": "code",
   "execution_count": 28,
   "id": "d1d061ec",
   "metadata": {
    "ExecuteTime": {
     "end_time": "2023-11-27T02:32:50.767405Z",
     "start_time": "2023-11-27T02:32:50.750679Z"
    }
   },
   "outputs": [
    {
     "ename": "TypeError",
     "evalue": "'list' object is not callable",
     "output_type": "error",
     "traceback": [
      "\u001b[1;31m---------------------------------------------------------------------------\u001b[0m",
      "\u001b[1;31mTypeError\u001b[0m                                 Traceback (most recent call last)",
      "Cell \u001b[1;32mIn[28], line 1\u001b[0m\n\u001b[1;32m----> 1\u001b[0m \u001b[38;5;28mid\u001b[39m(a)\n",
      "\u001b[1;31mTypeError\u001b[0m: 'list' object is not callable"
     ]
    }
   ],
   "source": [
    "id(a)"
   ]
  },
  {
   "cell_type": "markdown",
   "id": "7349477f",
   "metadata": {},
   "source": [
    "## 변수를 만드는 여러가지 방법"
   ]
  },
  {
   "cell_type": "code",
   "execution_count": 32,
   "id": "fc02db1f",
   "metadata": {
    "ExecuteTime": {
     "end_time": "2023-11-27T02:38:05.043966Z",
     "start_time": "2023-11-27T02:38:05.038162Z"
    }
   },
   "outputs": [
    {
     "data": {
      "text/plain": [
       "('python', 'life')"
      ]
     },
     "execution_count": 32,
     "metadata": {},
     "output_type": "execute_result"
    }
   ],
   "source": [
    "# 두 변수를 각각 한번에 지정\n",
    "\n",
    "a, b = ('python', 'life')\n",
    "a, b"
   ]
  },
  {
   "cell_type": "code",
   "execution_count": 41,
   "id": "570828d9",
   "metadata": {
    "ExecuteTime": {
     "end_time": "2023-11-27T02:39:57.767944Z",
     "start_time": "2023-11-27T02:39:57.762149Z"
    }
   },
   "outputs": [
    {
     "data": {
      "text/plain": [
       "('python', 'life')"
      ]
     },
     "execution_count": 41,
     "metadata": {},
     "output_type": "execute_result"
    }
   ],
   "source": [
    "(a, b) = 'python', 'life'\n",
    "(a, b)"
   ]
  },
  {
   "cell_type": "code",
   "execution_count": 36,
   "id": "0f87b8d7",
   "metadata": {
    "ExecuteTime": {
     "end_time": "2023-11-27T02:38:19.811291Z",
     "start_time": "2023-11-27T02:38:19.805284Z"
    }
   },
   "outputs": [
    {
     "data": {
      "text/plain": [
       "('python', 'life')"
      ]
     },
     "execution_count": 36,
     "metadata": {},
     "output_type": "execute_result"
    }
   ],
   "source": [
    "[a, b] = ['python', 'life']\n",
    "a, b"
   ]
  },
  {
   "cell_type": "code",
   "execution_count": 38,
   "id": "9dc62ec9",
   "metadata": {
    "ExecuteTime": {
     "end_time": "2023-11-27T02:38:31.527506Z",
     "start_time": "2023-11-27T02:38:31.521441Z"
    }
   },
   "outputs": [
    {
     "data": {
      "text/plain": [
       "('python', 'python')"
      ]
     },
     "execution_count": 38,
     "metadata": {},
     "output_type": "execute_result"
    }
   ],
   "source": [
    "a = b = 'python'\n",
    "a, b"
   ]
  },
  {
   "cell_type": "code",
   "execution_count": 45,
   "id": "2c8838f4",
   "metadata": {
    "ExecuteTime": {
     "end_time": "2023-11-27T02:41:25.858908Z",
     "start_time": "2023-11-27T02:41:25.841069Z"
    }
   },
   "outputs": [
    {
     "ename": "TypeError",
     "evalue": "'list' object is not callable",
     "output_type": "error",
     "traceback": [
      "\u001b[1;31m---------------------------------------------------------------------------\u001b[0m",
      "\u001b[1;31mTypeError\u001b[0m                                 Traceback (most recent call last)",
      "Cell \u001b[1;32mIn[45], line 1\u001b[0m\n\u001b[1;32m----> 1\u001b[0m a, \u001b[38;5;28mid\u001b[39m(a)\n",
      "\u001b[1;31mTypeError\u001b[0m: 'list' object is not callable"
     ]
    }
   ],
   "source": [
    "a, id(a)"
   ]
  },
  {
   "cell_type": "code",
   "execution_count": 40,
   "id": "b08ad19d",
   "metadata": {
    "ExecuteTime": {
     "end_time": "2023-11-27T02:38:57.785238Z",
     "start_time": "2023-11-27T02:38:57.778653Z"
    }
   },
   "outputs": [
    {
     "data": {
      "text/plain": [
       "(5, 3)"
      ]
     },
     "execution_count": 40,
     "metadata": {},
     "output_type": "execute_result"
    }
   ],
   "source": [
    "a = 3\n",
    "b = 5\n",
    "a, b = b, a\n",
    "a, b"
   ]
  }
 ],
 "metadata": {
  "kernelspec": {
   "display_name": "Python 3 (ipykernel)",
   "language": "python",
   "name": "python3"
  },
  "language_info": {
   "codemirror_mode": {
    "name": "ipython",
    "version": 3
   },
   "file_extension": ".py",
   "mimetype": "text/x-python",
   "name": "python",
   "nbconvert_exporter": "python",
   "pygments_lexer": "ipython3",
   "version": "3.11.5"
  },
  "toc": {
   "base_numbering": 1,
   "nav_menu": {},
   "number_sections": true,
   "sideBar": true,
   "skip_h1_title": false,
   "title_cell": "Table of Contents",
   "title_sidebar": "Contents",
   "toc_cell": false,
   "toc_position": {},
   "toc_section_display": true,
   "toc_window_display": false
  }
 },
 "nbformat": 4,
 "nbformat_minor": 5
}
