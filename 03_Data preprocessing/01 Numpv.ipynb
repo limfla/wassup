{
 "cells": [
  {
   "cell_type": "code",
   "execution_count": null,
   "id": "30b7042a",
   "metadata": {},
   "outputs": [],
   "source": [
    "# 주피터노트북 셀 스타일 조절\n",
    "from IPython.core.display import display, HTML\n",
    "# display(HTML(\"<style>.container { font-weight: bold !important; }</style>\"))\n",
    "display(HTML(\"<style>.container { width: 100% !important; }</style>\"))\n",
    "\n",
    "# 경고메시지 숨기기\n",
    "# import warnings\\\n",
    "# warnings.filterwarnings(action='ignore')"
   ]
  },
  {
   "cell_type": "markdown",
   "id": "9b38888a",
   "metadata": {},
   "source": [
    "## Numpy 개요\n",
    "* Numeric + Python = Numpy\n",
    "* 수학 및 과학 연산을 위한 파이썬 패키지\n",
    "* 배열이나 행렬 계산에 용이한 메서드를 제공\n",
    "* 한글로 넘파이로 주로 통칭, 넘피/늄파이라고 부르기도 함\n",
    "\n",
    "* 관련 사이트 : http://www.numpy.org\n",
    "\n",
    "* 일반 List에 비해 빠르고, 메모리 효율적\n",
    "* 반복문 없이 데이터 배열에 대한 처리를 지원함\n",
    "* 선형대수와 관련된 다양한 기능을 제공함\n",
    "* Reference Site\n",
    "* cs231 : http://cs231n.github.io/python-numpy-tutorial/#numpy\n",
    "* https://docs.scipy.org/doc/numpy-dev/user/quickstart.html\n",
    "* 데이터사이언스스쿨(파이썬버전) - https://goo.gl/3hsjbS"
   ]
  },
  {
   "cell_type": "code",
   "execution_count": 2,
   "id": "257fa7ad",
   "metadata": {
    "ExecuteTime": {
     "end_time": "2023-12-18T04:21:20.095496Z",
     "start_time": "2023-12-18T04:21:19.867631Z"
    }
   },
   "outputs": [
    {
     "data": {
      "text/plain": [
       "'1.24.3'"
      ]
     },
     "execution_count": 2,
     "metadata": {},
     "output_type": "execute_result"
    }
   ],
   "source": [
    "import numpy as np\n",
    "np.__version__"
   ]
  },
  {
   "cell_type": "markdown",
   "id": "3d5cfffe",
   "metadata": {},
   "source": [
    "## 넘파이 배열 이해하기"
   ]
  },
  {
   "cell_type": "markdown",
   "id": "817ea4cb",
   "metadata": {},
   "source": [
    "## ndim(dimention, rank)\n",
    "* 몇 차원인지 반환"
   ]
  },
  {
   "cell_type": "code",
   "execution_count": 4,
   "id": "89162596",
   "metadata": {
    "ExecuteTime": {
     "end_time": "2023-12-14T06:18:55.531218Z",
     "start_time": "2023-12-14T06:18:55.525247Z"
    }
   },
   "outputs": [
    {
     "data": {
      "text/plain": [
       "(array(0), 0, numpy.ndarray)"
      ]
     },
     "execution_count": 4,
     "metadata": {},
     "output_type": "execute_result"
    }
   ],
   "source": [
    "a = np.array(0) #array 매서드를 통해 0을 넣어 array라는 자료 구조가 됐다\n",
    "a, a.ndim, type(a) #a.ndim = 차원"
   ]
  },
  {
   "cell_type": "code",
   "execution_count": 6,
   "id": "03f8fe86",
   "metadata": {
    "ExecuteTime": {
     "end_time": "2023-12-14T06:19:30.359672Z",
     "start_time": "2023-12-14T06:19:30.353965Z"
    }
   },
   "outputs": [
    {
     "data": {
      "text/plain": [
       "(array([2, 3, 4]), 1, numpy.ndarray)"
      ]
     },
     "execution_count": 6,
     "metadata": {},
     "output_type": "execute_result"
    }
   ],
   "source": [
    "a = np.array([2, 3, 4])\n",
    "a, a.ndim, type(a)"
   ]
  },
  {
   "cell_type": "code",
   "execution_count": 10,
   "id": "287a9c26",
   "metadata": {
    "ExecuteTime": {
     "end_time": "2023-12-14T06:20:31.230212Z",
     "start_time": "2023-12-14T06:20:31.224640Z"
    }
   },
   "outputs": [
    {
     "data": {
      "text/plain": [
       "[[2, 3, 4], [3, 4, 5]]"
      ]
     },
     "execution_count": 10,
     "metadata": {},
     "output_type": "execute_result"
    }
   ],
   "source": [
    "a = [[2, 3, 4], [3,4,5]]\n",
    "a"
   ]
  },
  {
   "cell_type": "code",
   "execution_count": 8,
   "id": "4855eebc",
   "metadata": {
    "ExecuteTime": {
     "end_time": "2023-12-14T06:20:06.690721Z",
     "start_time": "2023-12-14T06:20:06.685127Z"
    }
   },
   "outputs": [
    {
     "data": {
      "text/plain": [
       "(array([[2, 3, 4],\n",
       "        [3, 4, 5]]),\n",
       " 2,\n",
       " numpy.ndarray)"
      ]
     },
     "execution_count": 8,
     "metadata": {},
     "output_type": "execute_result"
    }
   ],
   "source": [
    "a = np.array([[2, 3, 4], [3,4,5]]) # 차원 계산 시 대괄호가 몇갠지 보면 됨\n",
    "a, a.ndim, type(a)"
   ]
  },
  {
   "cell_type": "code",
   "execution_count": 11,
   "id": "83cb09b2",
   "metadata": {
    "ExecuteTime": {
     "end_time": "2023-12-14T06:20:47.519852Z",
     "start_time": "2023-12-14T06:20:47.513704Z"
    }
   },
   "outputs": [
    {
     "data": {
      "text/plain": [
       "(array([[[1, 2, 3],\n",
       "         [4, 5, 6]],\n",
       " \n",
       "        [[1, 2, 3],\n",
       "         [4, 5, 6]]]),\n",
       " 3,\n",
       " numpy.ndarray)"
      ]
     },
     "execution_count": 11,
     "metadata": {},
     "output_type": "execute_result"
    }
   ],
   "source": [
    "a = np.array( [ [[1,2,3], [4,5,6]], [[1,2,3], [4,5,6]] ] ) #3차원\n",
    "a, a.ndim, type(a)"
   ]
  },
  {
   "cell_type": "code",
   "execution_count": 12,
   "id": "6d33f2d2",
   "metadata": {
    "ExecuteTime": {
     "end_time": "2023-12-14T06:21:49.261269Z",
     "start_time": "2023-12-14T06:21:49.256171Z"
    }
   },
   "outputs": [
    {
     "data": {
      "text/plain": [
       "(2, 2, 3)"
      ]
     },
     "execution_count": 12,
     "metadata": {},
     "output_type": "execute_result"
    }
   ],
   "source": [
    "a.shape"
   ]
  },
  {
   "cell_type": "markdown",
   "id": "aa22a433",
   "metadata": {},
   "source": [
    "## shape\n",
    "* 행렬의 차원으로, 몇행 몇열인지 반환\n",
    "* 아래의 경우 1차원에 4, 2차원에 2로 (4,2)로 표현됨"
   ]
  },
  {
   "cell_type": "code",
   "execution_count": null,
   "id": "d5d2d74f",
   "metadata": {},
   "outputs": [],
   "source": [
    "a.shape?"
   ]
  },
  {
   "cell_type": "code",
   "execution_count": 13,
   "id": "1ca7e5a6",
   "metadata": {
    "ExecuteTime": {
     "end_time": "2023-12-14T06:25:07.686250Z",
     "start_time": "2023-12-14T06:25:07.680325Z"
    }
   },
   "outputs": [
    {
     "data": {
      "text/plain": [
       "(array(3), ())"
      ]
     },
     "execution_count": 13,
     "metadata": {},
     "output_type": "execute_result"
    }
   ],
   "source": [
    "a = np.array(3)\n",
    "a, a.shape # 행렬아니라 안찍힘"
   ]
  },
  {
   "cell_type": "code",
   "execution_count": 14,
   "id": "43f424d3",
   "metadata": {
    "ExecuteTime": {
     "end_time": "2023-12-14T06:25:15.034203Z",
     "start_time": "2023-12-14T06:25:15.027720Z"
    }
   },
   "outputs": [
    {
     "data": {
      "text/plain": [
       "(array([1, 3, 5, 7, 9]), (5,))"
      ]
     },
     "execution_count": 14,
     "metadata": {},
     "output_type": "execute_result"
    }
   ],
   "source": [
    "a = np.array([ 1, 3, 5, 7, 9 ]) #1차원\n",
    "a, a.shape"
   ]
  },
  {
   "cell_type": "code",
   "execution_count": 15,
   "id": "c1b749f3",
   "metadata": {
    "ExecuteTime": {
     "end_time": "2023-12-14T06:25:20.461474Z",
     "start_time": "2023-12-14T06:25:20.454680Z"
    }
   },
   "outputs": [
    {
     "data": {
      "text/plain": [
       "(array([[1, 2, 3],\n",
       "        [4, 5, 6]]),\n",
       " (2, 3))"
      ]
     },
     "execution_count": 15,
     "metadata": {},
     "output_type": "execute_result"
    }
   ],
   "source": [
    "a = np.array([[1,2,3], [4,5,6]]) #2차원\n",
    "a, a.shape"
   ]
  },
  {
   "cell_type": "code",
   "execution_count": 16,
   "id": "7e56f92c",
   "metadata": {
    "ExecuteTime": {
     "end_time": "2023-12-14T06:26:00.004956Z",
     "start_time": "2023-12-14T06:25:59.997974Z"
    }
   },
   "outputs": [
    {
     "data": {
      "text/plain": [
       "(array([[[0, 0, 0, 0],\n",
       "         [0, 0, 0, 0],\n",
       "         [0, 0, 0, 0]],\n",
       " \n",
       "        [[0, 0, 0, 0],\n",
       "         [0, 0, 0, 0],\n",
       "         [0, 0, 0, 0]]]),\n",
       " (2, 3, 4))"
      ]
     },
     "execution_count": 16,
     "metadata": {},
     "output_type": "execute_result"
    }
   ],
   "source": [
    "a = np.array([[[0, 0, 0, 0], [0, 0, 0, 0], [0, 0, 0, 0]], [[0, 0, 0, 0], [0, 0, 0, 0], [0, 0, 0, 0]]])\n",
    "a, a.shape # 2개의 3행 4열"
   ]
  },
  {
   "cell_type": "markdown",
   "id": "5e6c19f2",
   "metadata": {},
   "source": [
    "## size\n",
    "* 요소의 수 (차원과 무관)"
   ]
  },
  {
   "cell_type": "code",
   "execution_count": 17,
   "id": "f2d07303",
   "metadata": {
    "ExecuteTime": {
     "end_time": "2023-12-14T06:31:08.198893Z",
     "start_time": "2023-12-14T06:31:08.192177Z"
    },
    "scrolled": true
   },
   "outputs": [
    {
     "data": {
      "text/plain": [
       "5"
      ]
     },
     "execution_count": 17,
     "metadata": {},
     "output_type": "execute_result"
    }
   ],
   "source": [
    "a= np.array([1, 3, 5, 7, 9])\n",
    "a.size"
   ]
  },
  {
   "cell_type": "code",
   "execution_count": 18,
   "id": "aa8b0c80",
   "metadata": {
    "ExecuteTime": {
     "end_time": "2023-12-14T06:31:12.125525Z",
     "start_time": "2023-12-14T06:31:12.121151Z"
    }
   },
   "outputs": [
    {
     "data": {
      "text/plain": [
       "6"
      ]
     },
     "execution_count": 18,
     "metadata": {},
     "output_type": "execute_result"
    }
   ],
   "source": [
    "a = np.array([[1,2,3], [4,5,6]])\n",
    "a.size"
   ]
  },
  {
   "cell_type": "markdown",
   "id": "b1146e82",
   "metadata": {},
   "source": [
    "## 넘파이 배열\n",
    "* 리스트를 넘파이 배열로 생성 np.array(리스트)\n",
    "* 관련 속성 : ndim 차원 반환 int , size 전체 길이 반환 int, shape 구조 반환 tuple"
   ]
  },
  {
   "cell_type": "code",
   "execution_count": 19,
   "id": "22cdf91b",
   "metadata": {
    "ExecuteTime": {
     "end_time": "2023-12-14T06:32:02.176452Z",
     "start_time": "2023-12-14T06:32:02.163166Z"
    }
   },
   "outputs": [
    {
     "name": "stdout",
     "output_type": "stream",
     "text": [
      "[10, 56, 77, 23, 44] <class 'list'> 5\n"
     ]
    }
   ],
   "source": [
    "# 1차원 리스트 객체(이터러블)\n",
    "myList = [10, 56, 77, 23, 44] #임의의 리스트\n",
    "print(myList, type(myList), len(myList))"
   ]
  },
  {
   "cell_type": "code",
   "execution_count": 21,
   "id": "e0283865",
   "metadata": {
    "ExecuteTime": {
     "end_time": "2023-12-14T06:33:04.633635Z",
     "start_time": "2023-12-14T06:33:04.628647Z"
    }
   },
   "outputs": [
    {
     "name": "stdout",
     "output_type": "stream",
     "text": [
      "[10 56 77 23 44] <class 'numpy.ndarray'> 5\n",
      "차원=1, 구조=(5,) 구조타입=<class 'tuple'>, size=5\n"
     ]
    }
   ],
   "source": [
    "myArr = np.array(myList)\n",
    "print(myArr, type(myArr), len(myArr))\n",
    "print(f'차원={myArr.ndim}, 구조={myArr.shape} 구조타입={type(myArr.shape)}, size={myArr.size}')"
   ]
  },
  {
   "cell_type": "code",
   "execution_count": 24,
   "id": "f6568b7f",
   "metadata": {
    "ExecuteTime": {
     "end_time": "2023-12-14T06:35:05.827644Z",
     "start_time": "2023-12-14T06:35:05.823460Z"
    }
   },
   "outputs": [
    {
     "name": "stdout",
     "output_type": "stream",
     "text": [
      "[10 56 77 23 44] <class 'numpy.ndarray'> 5\n",
      "차원=1, 구조=(5,), size=5, 길이=5)\n"
     ]
    }
   ],
   "source": [
    "myArr = np.array(myList)\n",
    "print(myArr, type(myArr), len(myArr))\n",
    "print(f'차원={myArr.ndim}, 구조={myArr.shape}, size={myArr.size}, 길이={len(myArr)})')"
   ]
  },
  {
   "cell_type": "code",
   "execution_count": 25,
   "id": "419d2cff",
   "metadata": {
    "ExecuteTime": {
     "end_time": "2023-12-14T06:35:14.108689Z",
     "start_time": "2023-12-14T06:35:14.103262Z"
    }
   },
   "outputs": [
    {
     "data": {
      "text/plain": [
       "([[1, 2, 3], [10, 20, 30], [100, 200, 300]], 3)"
      ]
     },
     "execution_count": 25,
     "metadata": {},
     "output_type": "execute_result"
    }
   ],
   "source": [
    "# 2차원 리스트 객체(이터러블)\n",
    "myList2 = [[1,2,3 ],[10,20,30],[100,200,300]]\n",
    "myList2, len(myList2)"
   ]
  },
  {
   "cell_type": "code",
   "execution_count": 28,
   "id": "48472b85",
   "metadata": {
    "ExecuteTime": {
     "end_time": "2023-12-14T06:35:48.998200Z",
     "start_time": "2023-12-14T06:35:48.993862Z"
    }
   },
   "outputs": [
    {
     "name": "stdout",
     "output_type": "stream",
     "text": [
      "[[  1   2   3]\n",
      " [ 10  20  30]\n",
      " [100 200 300]] <class 'numpy.ndarray'> 3\n",
      "차원= 2, 구조 = (3, 3), size = 9, 길이=3\n"
     ]
    }
   ],
   "source": [
    "myArr2 = np.array(myList2)\n",
    "print(myArr2, type(myArr2), len(myArr2))\n",
    "print(f'차원= {myArr2.ndim}, 구조 = {myArr2.shape}, size = {myArr2.size}, 길이={len(myArr2)}')"
   ]
  },
  {
   "cell_type": "code",
   "execution_count": 30,
   "id": "2e79e669",
   "metadata": {
    "ExecuteTime": {
     "end_time": "2023-12-14T06:36:55.118059Z",
     "start_time": "2023-12-14T06:36:55.112912Z"
    }
   },
   "outputs": [
    {
     "name": "stdout",
     "output_type": "stream",
     "text": [
      "[[1, 2, 3, 4], [10, 20, 30, 40, 50], [100, 200]] <class 'list'> 3\n"
     ]
    }
   ],
   "source": [
    "# 2차원 리스트에서 각 행의 수가 다를 경우?\n",
    "myList21 = [ [1,2,3,4 ],[10,20,30,40,50],[100,200,]]\n",
    "print(myList21, type(myList21), len(myList21))"
   ]
  },
  {
   "cell_type": "code",
   "execution_count": 31,
   "id": "3d95d50b",
   "metadata": {
    "ExecuteTime": {
     "end_time": "2023-12-14T06:37:00.237741Z",
     "start_time": "2023-12-14T06:37:00.215975Z"
    }
   },
   "outputs": [
    {
     "ename": "ValueError",
     "evalue": "setting an array element with a sequence. The requested array has an inhomogeneous shape after 1 dimensions. The detected shape was (3,) + inhomogeneous part.",
     "output_type": "error",
     "traceback": [
      "\u001b[1;31m---------------------------------------------------------------------------\u001b[0m",
      "\u001b[1;31mValueError\u001b[0m                                Traceback (most recent call last)",
      "Cell \u001b[1;32mIn[31], line 2\u001b[0m\n\u001b[0;32m      1\u001b[0m \u001b[38;5;66;03m# 길이가 달라 에러 리턴\u001b[39;00m\n\u001b[1;32m----> 2\u001b[0m myArr21 \u001b[38;5;241m=\u001b[39m np\u001b[38;5;241m.\u001b[39marray(myList21)\n\u001b[0;32m      3\u001b[0m \u001b[38;5;28mprint\u001b[39m(myArr21, \u001b[38;5;28mtype\u001b[39m(myArr21), \u001b[38;5;28mlen\u001b[39m(myArr21))\n\u001b[0;32m      4\u001b[0m \u001b[38;5;28mprint\u001b[39m(\u001b[38;5;124mf\u001b[39m\u001b[38;5;124m'\u001b[39m\u001b[38;5;124m차원= \u001b[39m\u001b[38;5;132;01m{\u001b[39;00mmyArr21\u001b[38;5;241m.\u001b[39mndim\u001b[38;5;132;01m}\u001b[39;00m\u001b[38;5;124m, 구조 = \u001b[39m\u001b[38;5;132;01m{\u001b[39;00mmyArr21\u001b[38;5;241m.\u001b[39mshape\u001b[38;5;132;01m}\u001b[39;00m\u001b[38;5;124m 구조타입 = \u001b[39m\u001b[38;5;132;01m{\u001b[39;00m\u001b[38;5;28mtype\u001b[39m(myArr21\u001b[38;5;241m.\u001b[39mshape)\u001b[38;5;132;01m}\u001b[39;00m\u001b[38;5;124m, size = \u001b[39m\u001b[38;5;132;01m{\u001b[39;00mmyArr21\u001b[38;5;241m.\u001b[39msize\u001b[38;5;132;01m}\u001b[39;00m\u001b[38;5;124m'\u001b[39m)\n",
      "\u001b[1;31mValueError\u001b[0m: setting an array element with a sequence. The requested array has an inhomogeneous shape after 1 dimensions. The detected shape was (3,) + inhomogeneous part."
     ]
    }
   ],
   "source": [
    "# 길이가 달라 에러 리턴\n",
    "myArr21 = np.array(myList21) #행렬이 아니라서 차원 구조 성립 안됨\n",
    "print(myArr21, type(myArr21), len(myArr21))\n",
    "print(f'차원= {myArr21.ndim}, 구조 = {myArr21.shape} 구조타입 = {type(myArr21.shape)}, size = {myArr21.size}')"
   ]
  },
  {
   "cell_type": "markdown",
   "id": "58271c1c",
   "metadata": {},
   "source": [
    "## 넘파이 배열과 리스트와의 차이점\n",
    "* 배열간의 연산 가능 \"브로드캐스팅\", 요소별 연산(element-wise)\n",
    "* 넘파이 메서드 사용 가능 : 평균, 상관계수, 분산, 표준편차 등\n",
    "* 리스트는 자료형 혼합 가능, 넘파이배열은 하나의 자료형만 가능"
   ]
  },
  {
   "cell_type": "code",
   "execution_count": 2,
   "id": "78373853",
   "metadata": {
    "ExecuteTime": {
     "end_time": "2023-12-15T04:33:36.040859Z",
     "start_time": "2023-12-15T04:33:35.052640Z"
    }
   },
   "outputs": [
    {
     "name": "stdout",
     "output_type": "stream",
     "text": [
      "[10, 30, 50, 1, 2, 3]\n"
     ]
    },
    {
     "ename": "TypeError",
     "evalue": "can only concatenate list (not \"int\") to list",
     "output_type": "error",
     "traceback": [
      "\u001b[1;31m---------------------------------------------------------------------------\u001b[0m",
      "\u001b[1;31mTypeError\u001b[0m                                 Traceback (most recent call last)",
      "Cell \u001b[1;32mIn[2], line 5\u001b[0m\n\u001b[0;32m      3\u001b[0m listB \u001b[38;5;241m=\u001b[39m [\u001b[38;5;241m1\u001b[39m, \u001b[38;5;241m2\u001b[39m, \u001b[38;5;241m3\u001b[39m]\n\u001b[0;32m      4\u001b[0m \u001b[38;5;28mprint\u001b[39m(listA \u001b[38;5;241m+\u001b[39m listB) \u001b[38;5;66;03m# 리스트의 + 연산자는 조인역할\u001b[39;00m\n\u001b[1;32m----> 5\u001b[0m \u001b[38;5;28mprint\u001b[39m(listA \u001b[38;5;241m+\u001b[39m \u001b[38;5;241m2\u001b[39m)\n",
      "\u001b[1;31mTypeError\u001b[0m: can only concatenate list (not \"int\") to list"
     ]
    }
   ],
   "source": [
    "# 리스트의 산술연산자 +, * \n",
    "listA = [10, 30, 50]\n",
    "listB = [1, 2, 3]\n",
    "print(listA + listB) # 리스트의 + 연산자는 조인역할\n",
    "print(listA + 2) # 실제 숫자 연산 불가"
   ]
  },
  {
   "cell_type": "code",
   "execution_count": 34,
   "id": "5627af6f",
   "metadata": {
    "ExecuteTime": {
     "end_time": "2023-12-14T06:40:00.328553Z",
     "start_time": "2023-12-14T06:40:00.313373Z"
    }
   },
   "outputs": [
    {
     "name": "stdout",
     "output_type": "stream",
     "text": [
      "[10, 30, 50, 10, 30, 50]\n"
     ]
    },
    {
     "ename": "TypeError",
     "evalue": "can't multiply sequence by non-int of type 'list'",
     "output_type": "error",
     "traceback": [
      "\u001b[1;31m---------------------------------------------------------------------------\u001b[0m",
      "\u001b[1;31mTypeError\u001b[0m                                 Traceback (most recent call last)",
      "Cell \u001b[1;32mIn[34], line 2\u001b[0m\n\u001b[0;32m      1\u001b[0m \u001b[38;5;28mprint\u001b[39m(listA \u001b[38;5;241m*\u001b[39m \u001b[38;5;241m2\u001b[39m) \u001b[38;5;66;03m# 해당 리스트의 반복\u001b[39;00m\n\u001b[1;32m----> 2\u001b[0m \u001b[38;5;28mprint\u001b[39m(listA \u001b[38;5;241m*\u001b[39m listB)\n",
      "\u001b[1;31mTypeError\u001b[0m: can't multiply sequence by non-int of type 'list'"
     ]
    }
   ],
   "source": [
    "print(listA * 2) # 해당 리스트의 반복\n",
    "print(listA * listB) # 리스트 간 곱셈 불가"
   ]
  },
  {
   "cell_type": "code",
   "execution_count": 35,
   "id": "efc5538e",
   "metadata": {
    "ExecuteTime": {
     "end_time": "2023-12-14T06:40:10.219568Z",
     "start_time": "2023-12-14T06:40:10.204554Z"
    }
   },
   "outputs": [
    {
     "name": "stdout",
     "output_type": "stream",
     "text": [
      "[3 4 5]\n",
      "[2 4 6]\n"
     ]
    }
   ],
   "source": [
    "# 넘파이의 산술연산\n",
    "arrA = np.array([1, 2, 3])\n",
    "print(arrA + 2)\n",
    "print(arrA * 2) # 각 요소마다 연선이 들어감 (엘리먼트 와이즈)"
   ]
  },
  {
   "cell_type": "code",
   "execution_count": 36,
   "id": "8ed3f714",
   "metadata": {
    "ExecuteTime": {
     "end_time": "2023-12-14T06:41:04.757010Z",
     "start_time": "2023-12-14T06:41:04.744924Z"
    }
   },
   "outputs": [
    {
     "name": "stdout",
     "output_type": "stream",
     "text": [
      "[5 7 9]\n",
      "[ 4 10 18]\n",
      "[0.25 0.4  0.5 ]\n",
      "[0 0 0]\n",
      "[1 2 3]\n"
     ]
    }
   ],
   "source": [
    "arrB = np.array([4, 5, 6])\n",
    "print(arrA + arrB)\n",
    "print(arrA * arrB)\n",
    "print(arrA / arrB)\n",
    "print(arrA // arrB) # 몫\n",
    "print(arrA % arrB) # 나머지"
   ]
  },
  {
   "cell_type": "markdown",
   "id": "2c6bbd57",
   "metadata": {},
   "source": [
    "## dtype\n",
    "* int가 더 세밀해졌다!"
   ]
  },
  {
   "cell_type": "code",
   "execution_count": 5,
   "id": "6c4a344f",
   "metadata": {
    "ExecuteTime": {
     "end_time": "2023-12-15T04:29:48.825875Z",
     "start_time": "2023-12-15T04:29:48.821253Z"
    }
   },
   "outputs": [
    {
     "name": "stdout",
     "output_type": "stream",
     "text": [
      "['안녕', 100, 3.14, True, False]\n"
     ]
    }
   ],
   "source": [
    "# 자료형 테스트\n",
    "myList_c = ['안녕', 100, 3.14, True, False] # 리스트는 혼합된 형 그대로 유지\n",
    "print(myList_c)"
   ]
  },
  {
   "cell_type": "code",
   "execution_count": 12,
   "id": "57c08705",
   "metadata": {
    "ExecuteTime": {
     "end_time": "2023-12-15T04:32:35.985285Z",
     "start_time": "2023-12-15T04:32:35.980817Z"
    }
   },
   "outputs": [
    {
     "name": "stdout",
     "output_type": "stream",
     "text": [
      "['안녕' '100' '3.14' 'True' 'False'] <class 'numpy.ndarray'> <U32\n"
     ]
    }
   ],
   "source": [
    "myArr_c = np.array(myList_c) # 넘파이배열은 '문자열'로 통일 자동형변환\n",
    "print(myArr_c, type(myArr_c), myArr_c.dtype)"
   ]
  },
  {
   "cell_type": "code",
   "execution_count": 13,
   "id": "50cb02a3",
   "metadata": {
    "ExecuteTime": {
     "end_time": "2023-12-15T04:32:38.430193Z",
     "start_time": "2023-12-15T04:32:38.412896Z"
    }
   },
   "outputs": [
    {
     "name": "stdout",
     "output_type": "stream",
     "text": [
      "[100.     3.14  23.5    0.  ] <class 'numpy.ndarray'> float64\n"
     ]
    }
   ],
   "source": [
    "# 정수와 실수가 혼합된 넘파이 배열\n",
    "myArr_d = np.array([100, 3.14, 23.5, 0])\n",
    "print(myArr_d, type(myArr_d), myArr_d.dtype) # 정수와 실수 혼합시, 더 큰 실수형으로 통일 자동형변환"
   ]
  },
  {
   "cell_type": "markdown",
   "id": "3b95969f",
   "metadata": {},
   "source": [
    "## Inf와 NaN\n",
    "\n",
    "* 넘파이에서는 무한대를 표현하기 위한 np.inf(infinity)와 정의할 수 없는 숫자를 나타내는 np.nan(not a number)을 사용할 수 있다.\n",
    "* 다음 예와 같이 1을 0으로 나누려고 하거나 0에 대한 로그 값을 계산하면 무한대인 np.inf이 나온다.0을 0으로 나누려고 시도하면 np.nan이 나온다."
   ]
  },
  {
   "cell_type": "code",
   "execution_count": 3,
   "id": "3ca60c20",
   "metadata": {
    "ExecuteTime": {
     "end_time": "2023-12-15T04:33:41.058062Z",
     "start_time": "2023-12-15T04:33:41.052507Z"
    }
   },
   "outputs": [
    {
     "name": "stderr",
     "output_type": "stream",
     "text": [
      "C:\\Users\\limfl\\AppData\\Local\\Temp\\ipykernel_948\\1470919378.py:1: RuntimeWarning: divide by zero encountered in divide\n",
      "  np.array([0, 1, -1, 0]) / np.array([0, 0, 0, 0])\n",
      "C:\\Users\\limfl\\AppData\\Local\\Temp\\ipykernel_948\\1470919378.py:1: RuntimeWarning: invalid value encountered in divide\n",
      "  np.array([0, 1, -1, 0]) / np.array([0, 0, 0, 0])\n"
     ]
    },
    {
     "data": {
      "text/plain": [
       "array([ nan,  inf, -inf,  nan])"
      ]
     },
     "execution_count": 3,
     "metadata": {},
     "output_type": "execute_result"
    }
   ],
   "source": [
    "np.array([0, 1, -1, 0]) / np.array([0, 0, 0, 0])"
   ]
  },
  {
   "cell_type": "code",
   "execution_count": 5,
   "id": "9d74bfb9",
   "metadata": {
    "ExecuteTime": {
     "end_time": "2023-12-15T04:34:15.527977Z",
     "start_time": "2023-12-15T04:34:15.521660Z"
    }
   },
   "outputs": [
    {
     "name": "stderr",
     "output_type": "stream",
     "text": [
      "C:\\Users\\limfl\\AppData\\Local\\Temp\\ipykernel_948\\2933082444.py:1: RuntimeWarning: divide by zero encountered in log\n",
      "  np.log(0)\n"
     ]
    },
    {
     "data": {
      "text/plain": [
       "-inf"
      ]
     },
     "execution_count": 5,
     "metadata": {},
     "output_type": "execute_result"
    }
   ],
   "source": [
    "np.log(0)"
   ]
  },
  {
   "cell_type": "code",
   "execution_count": 6,
   "id": "e2397e7d",
   "metadata": {
    "ExecuteTime": {
     "end_time": "2023-12-15T04:34:20.387155Z",
     "start_time": "2023-12-15T04:34:20.381606Z"
    }
   },
   "outputs": [
    {
     "data": {
      "text/plain": [
       "0.0"
      ]
     },
     "execution_count": 6,
     "metadata": {},
     "output_type": "execute_result"
    }
   ],
   "source": [
    "np.exp(-np.inf)"
   ]
  },
  {
   "cell_type": "markdown",
   "id": "d5287993",
   "metadata": {},
   "source": [
    "## 기술통계"
   ]
  },
  {
   "cell_type": "code",
   "execution_count": 7,
   "id": "7586f53d",
   "metadata": {
    "ExecuteTime": {
     "end_time": "2023-12-15T04:34:38.476307Z",
     "start_time": "2023-12-15T04:34:38.471592Z"
    }
   },
   "outputs": [],
   "source": [
    "x = np.array([18,   5,  10,  23,  19,  -8,  10,   0,   0,   5,   2,  15,   8,\n",
    "              2,   5,   4,  15,  -1,   4,  -7, -24,   7,   9,  -6,  23, -13])"
   ]
  },
  {
   "cell_type": "code",
   "execution_count": 8,
   "id": "af4bf7e0",
   "metadata": {
    "ExecuteTime": {
     "end_time": "2023-12-15T04:34:51.557576Z",
     "start_time": "2023-12-15T04:34:51.552527Z"
    }
   },
   "outputs": [
    {
     "data": {
      "text/plain": [
       "4.8076923076923075"
      ]
     },
     "execution_count": 8,
     "metadata": {},
     "output_type": "execute_result"
    }
   ],
   "source": [
    "# 평균\n",
    "np.mean(x)"
   ]
  },
  {
   "cell_type": "code",
   "execution_count": 9,
   "id": "6365ce41",
   "metadata": {
    "ExecuteTime": {
     "end_time": "2023-12-15T04:35:07.397304Z",
     "start_time": "2023-12-15T04:35:07.391343Z"
    }
   },
   "outputs": [
    {
     "data": {
      "text/plain": [
       "115.23224852071006"
      ]
     },
     "execution_count": 9,
     "metadata": {},
     "output_type": "execute_result"
    }
   ],
   "source": [
    "# 분산\n",
    "np.var(x)"
   ]
  },
  {
   "cell_type": "code",
   "execution_count": 10,
   "id": "bfba93fe",
   "metadata": {
    "ExecuteTime": {
     "end_time": "2023-12-15T04:35:17.717696Z",
     "start_time": "2023-12-15T04:35:17.712671Z"
    }
   },
   "outputs": [
    {
     "data": {
      "text/plain": [
       "10.734628476137871"
      ]
     },
     "execution_count": 10,
     "metadata": {},
     "output_type": "execute_result"
    }
   ],
   "source": [
    "# 표준편차\n",
    "np.std(x)"
   ]
  },
  {
   "cell_type": "code",
   "execution_count": 11,
   "id": "4f7626b6",
   "metadata": {
    "ExecuteTime": {
     "end_time": "2023-12-15T04:35:28.796006Z",
     "start_time": "2023-12-15T04:35:28.781339Z"
    }
   },
   "outputs": [
    {
     "data": {
      "text/plain": [
       "23"
      ]
     },
     "execution_count": 11,
     "metadata": {},
     "output_type": "execute_result"
    }
   ],
   "source": [
    "# 최댓값\n",
    "np.max(x)"
   ]
  },
  {
   "cell_type": "code",
   "execution_count": 12,
   "id": "b98ff0d1",
   "metadata": {
    "ExecuteTime": {
     "end_time": "2023-12-15T04:35:40.367578Z",
     "start_time": "2023-12-15T04:35:40.363082Z"
    }
   },
   "outputs": [
    {
     "data": {
      "text/plain": [
       "-24"
      ]
     },
     "execution_count": 12,
     "metadata": {},
     "output_type": "execute_result"
    }
   ],
   "source": [
    "# 최소값\n",
    "np.min(x)"
   ]
  },
  {
   "cell_type": "code",
   "execution_count": 14,
   "id": "0f751556",
   "metadata": {
    "ExecuteTime": {
     "end_time": "2023-12-15T04:36:01.348273Z",
     "start_time": "2023-12-15T04:36:01.333422Z"
    }
   },
   "outputs": [
    {
     "data": {
      "text/plain": [
       "5.0"
      ]
     },
     "execution_count": 14,
     "metadata": {},
     "output_type": "execute_result"
    }
   ],
   "source": [
    "# 중앙값\n",
    "np.median(x)"
   ]
  },
  {
   "cell_type": "markdown",
   "id": "2cbe174f",
   "metadata": {},
   "source": [
    "### 사분위수\n",
    "* 사분위수(quartile)는 데이터를 가장 작은 수부터 가장 큰 수까지 크기가 커지는 순서대로 정렬하였을 때 1/4, 2/4, 3/4 위치에 있는 수를 말한다.\n",
    "* 박스플롯"
   ]
  },
  {
   "cell_type": "code",
   "execution_count": 16,
   "id": "c9cb901e",
   "metadata": {
    "ExecuteTime": {
     "end_time": "2023-12-15T04:40:13.920669Z",
     "start_time": "2023-12-15T04:40:13.905368Z"
    }
   },
   "outputs": [
    {
     "data": {
      "text/plain": [
       "-24.0"
      ]
     },
     "execution_count": 16,
     "metadata": {},
     "output_type": "execute_result"
    }
   ],
   "source": [
    "# 최소값\n",
    "np.percentile(x, 0)"
   ]
  },
  {
   "cell_type": "code",
   "execution_count": 17,
   "id": "5c2d2b67",
   "metadata": {
    "ExecuteTime": {
     "end_time": "2023-12-15T04:40:32.002109Z",
     "start_time": "2023-12-15T04:40:31.996164Z"
    }
   },
   "outputs": [
    {
     "data": {
      "text/plain": [
       "0.0"
      ]
     },
     "execution_count": 17,
     "metadata": {},
     "output_type": "execute_result"
    }
   ],
   "source": [
    "# 1사분위수\n",
    "np.percentile(x, 25)"
   ]
  },
  {
   "cell_type": "code",
   "execution_count": 18,
   "id": "fec4cd74",
   "metadata": {
    "ExecuteTime": {
     "end_time": "2023-12-15T04:40:43.878372Z",
     "start_time": "2023-12-15T04:40:43.873563Z"
    }
   },
   "outputs": [
    {
     "data": {
      "text/plain": [
       "5.0"
      ]
     },
     "execution_count": 18,
     "metadata": {},
     "output_type": "execute_result"
    }
   ],
   "source": [
    "# 2사분위수\n",
    "np.percentile(x, 50)"
   ]
  },
  {
   "cell_type": "code",
   "execution_count": 19,
   "id": "f08f136e",
   "metadata": {
    "ExecuteTime": {
     "end_time": "2023-12-15T04:40:55.249185Z",
     "start_time": "2023-12-15T04:40:55.243570Z"
    }
   },
   "outputs": [
    {
     "data": {
      "text/plain": [
       "10.0"
      ]
     },
     "execution_count": 19,
     "metadata": {},
     "output_type": "execute_result"
    }
   ],
   "source": [
    "# 3사분위수\n",
    "np.percentile(x, 75)"
   ]
  },
  {
   "cell_type": "code",
   "execution_count": 20,
   "id": "2b6da778",
   "metadata": {
    "ExecuteTime": {
     "end_time": "2023-12-15T04:41:09.618844Z",
     "start_time": "2023-12-15T04:41:09.614422Z"
    }
   },
   "outputs": [
    {
     "data": {
      "text/plain": [
       "23.0"
      ]
     },
     "execution_count": 20,
     "metadata": {},
     "output_type": "execute_result"
    }
   ],
   "source": [
    "# 최댓값\n",
    "np.percentile(x, 100)"
   ]
  },
  {
   "cell_type": "markdown",
   "id": "e8580079",
   "metadata": {},
   "source": [
    "## 넘파이 함수로 배열 만들기"
   ]
  },
  {
   "cell_type": "code",
   "execution_count": 21,
   "id": "3cb1f16a",
   "metadata": {
    "ExecuteTime": {
     "end_time": "2023-12-15T04:41:49.939865Z",
     "start_time": "2023-12-15T04:41:49.935094Z"
    }
   },
   "outputs": [
    {
     "name": "stdout",
     "output_type": "stream",
     "text": [
      "[1. 1. 1. 1. 1. 1. 1. 1. 1. 1.] float64\n"
     ]
    }
   ],
   "source": [
    "# 넘파이 함수로 배열을 만들때에는 디폴트가 실수형 - 정보를 걸러내기 위해\n",
    "print(np.ones(10), np.ones(10).dtype)"
   ]
  },
  {
   "cell_type": "code",
   "execution_count": 22,
   "id": "bb17f1a7",
   "metadata": {
    "ExecuteTime": {
     "end_time": "2023-12-15T04:42:58.847482Z",
     "start_time": "2023-12-15T04:42:58.843100Z"
    }
   },
   "outputs": [
    {
     "name": "stdout",
     "output_type": "stream",
     "text": [
      "[[1. 1. 1. 1.]\n",
      " [1. 1. 1. 1.]] float64\n"
     ]
    }
   ],
   "source": [
    "# 2행 4열 - 튜플로\n",
    "print(np.ones((2, 4)), np.ones((2, 4)).dtype)"
   ]
  },
  {
   "cell_type": "code",
   "execution_count": 23,
   "id": "90f3f3ce",
   "metadata": {
    "ExecuteTime": {
     "end_time": "2023-12-15T04:44:30.409352Z",
     "start_time": "2023-12-15T04:44:30.405942Z"
    }
   },
   "outputs": [
    {
     "name": "stdout",
     "output_type": "stream",
     "text": [
      "[1 1 1 1 1 1 1 1 1 1] int32\n"
     ]
    }
   ],
   "source": [
    "# 타입 지정\n",
    "print(np.ones(10, dtype = int), np.ones(10, dtype = int).dtype)"
   ]
  },
  {
   "cell_type": "code",
   "execution_count": 24,
   "id": "806d8177",
   "metadata": {
    "ExecuteTime": {
     "end_time": "2023-12-15T04:44:44.270277Z",
     "start_time": "2023-12-15T04:44:44.265935Z"
    }
   },
   "outputs": [
    {
     "name": "stdout",
     "output_type": "stream",
     "text": [
      "[0. 0. 0. 0. 0. 0. 0. 0. 0. 0.] float64\n"
     ]
    }
   ],
   "source": [
    "print(np.zeros(10), np.zeros(10).dtype) #정보를 날릴 떄, 무의미한 공간을 채울 때"
   ]
  },
  {
   "cell_type": "code",
   "execution_count": 25,
   "id": "42c3f547",
   "metadata": {
    "ExecuteTime": {
     "end_time": "2023-12-15T04:44:52.940260Z",
     "start_time": "2023-12-15T04:44:52.935583Z"
    }
   },
   "outputs": [
    {
     "name": "stdout",
     "output_type": "stream",
     "text": [
      "[[0. 0. 0.]\n",
      " [0. 0. 0.]\n",
      " [0. 0. 0.]] float64\n"
     ]
    }
   ],
   "source": [
    "# 3행 3열 - 튜플로\n",
    "print(np.zeros((3,3)), np.zeros((3,3)).dtype)"
   ]
  },
  {
   "cell_type": "code",
   "execution_count": 26,
   "id": "0592b702",
   "metadata": {
    "ExecuteTime": {
     "end_time": "2023-12-15T04:46:41.601590Z",
     "start_time": "2023-12-15T04:46:41.596240Z"
    },
    "scrolled": true
   },
   "outputs": [
    {
     "name": "stdout",
     "output_type": "stream",
     "text": [
      "[0. 0. 0. 0. 0. 0. 0. 0. 0. 0.] float64\n",
      "[[0. 0. 0.]\n",
      " [0. 0. 0.]\n",
      " [0. 0. 0.]] float64\n",
      "[[0. 0. 0.]\n",
      " [0. 0. 0.]\n",
      " [0. 0. 0.]]\n",
      "[[      0       1       0]\n",
      " [5570652    1548       0]\n",
      " [    768     571 7077990]]\n"
     ]
    }
   ],
   "source": [
    "# empty - 메모리가 비어있음 -> 메모리 초기화 X \n",
    "print(np.empty(10), np.empty(10).dtype)\n",
    "print(np.empty((3,3)), np.empty((3,3)).dtype)\n",
    "print(np.empty((3,3)))\n",
    "print(np.empty((3,3), dtype=int)) # 기존 메모리에 있던 값을 출력 (정확히 알 수 없음)"
   ]
  },
  {
   "cell_type": "code",
   "execution_count": 27,
   "id": "8096bf40",
   "metadata": {
    "ExecuteTime": {
     "end_time": "2023-12-15T04:50:06.143807Z",
     "start_time": "2023-12-15T04:50:06.139030Z"
    }
   },
   "outputs": [
    {
     "name": "stdout",
     "output_type": "stream",
     "text": [
      "[1, 2, 3, 4, 5, 6, 7, 8, 9, 10, 11, 12, 13, 14, 15, 16, 17, 18, 19, 20] <class 'list'>\n"
     ]
    }
   ],
   "source": [
    "# 리스트 +  레인지\n",
    "\n",
    "print( list(range(1,21)), type(list(range(1,21))) )"
   ]
  },
  {
   "cell_type": "code",
   "execution_count": 28,
   "id": "639ccc36",
   "metadata": {
    "ExecuteTime": {
     "end_time": "2023-12-15T04:50:14.345551Z",
     "start_time": "2023-12-15T04:50:14.328908Z"
    }
   },
   "outputs": [
    {
     "name": "stdout",
     "output_type": "stream",
     "text": [
      "[ 0  1  2  3  4  5  6  7  8  9 10 11 12 13 14 15 16 17 18 19] <class 'numpy.ndarray'>\n",
      "[ 1  2  3  4  5  6  7  8  9 10 11 12 13 14 15 16 17 18 19] <class 'numpy.ndarray'>\n",
      "[ 1  3  5  7  9 11 13 15 17 19] <class 'numpy.ndarray'>\n"
     ]
    }
   ],
   "source": [
    "# 1~20으로 구성된 4행 5열의 넘파이 배열print(np.array(list(range(1,21))), type(list(range(1,21))))\n",
    "print(np.arange(20), type(np.arange(20)))\n",
    "print(np.arange(1, 20), type(np.arange(1, 20)))\n",
    "print(np.arange(1, 20, 2), type(np.arange(1, 20,2)))"
   ]
  },
  {
   "cell_type": "code",
   "execution_count": 29,
   "id": "ce4e22d9",
   "metadata": {
    "ExecuteTime": {
     "end_time": "2023-12-15T05:03:07.007859Z",
     "start_time": "2023-12-15T05:03:06.998786Z"
    }
   },
   "outputs": [
    {
     "name": "stdout",
     "output_type": "stream",
     "text": [
      "[ 0  1  2  3  4  5  6  7  8  9 10 11 12 13 14 15 16 17 18 19 20 21 22 23\n",
      " 24 25 26 27 28 29 30 31 32 33 34 35 36 37 38 39 40 41 42 43 44 45 46 47\n",
      " 48 49] 50 50\n"
     ]
    }
   ],
   "source": [
    "# 0~49까지 구성된 넘파이 배열\n",
    "arr = np.arange(50)\n",
    "print(arr, len(arr), arr.size)"
   ]
  },
  {
   "cell_type": "code",
   "execution_count": 30,
   "id": "a35888ef",
   "metadata": {
    "ExecuteTime": {
     "end_time": "2023-12-15T05:03:43.580653Z",
     "start_time": "2023-12-15T05:03:43.561506Z"
    }
   },
   "outputs": [
    {
     "data": {
      "text/plain": [
       "array([  0.,  25.,  50.,  75., 100.])"
      ]
     },
     "execution_count": 30,
     "metadata": {},
     "output_type": "execute_result"
    }
   ],
   "source": [
    "# linspace 명령이나 logspace 명령은 선형 구간 혹은 로그 구간을 지정한 구간의 수만큼 분할한다.\n",
    "np.linspace(0, 100, 5)  # 시작, 끝(포함), 갯수 #분할 "
   ]
  },
  {
   "cell_type": "code",
   "execution_count": 31,
   "id": "36217ab8",
   "metadata": {
    "ExecuteTime": {
     "end_time": "2023-12-15T05:04:47.891136Z",
     "start_time": "2023-12-15T05:04:47.883537Z"
    }
   },
   "outputs": [
    {
     "data": {
      "text/plain": [
       "array([ 1.25892541,  1.58489319,  1.99526231,  2.51188643,  3.16227766,\n",
       "        3.98107171,  5.01187234,  6.30957344,  7.94328235, 10.        ])"
      ]
     },
     "execution_count": 31,
     "metadata": {},
     "output_type": "execute_result"
    }
   ],
   "source": [
    "# logspace\n",
    "np.logspace(0.1, 1, 10) #로그값 "
   ]
  },
  {
   "cell_type": "markdown",
   "id": "37f8254a",
   "metadata": {},
   "source": [
    "## reshape 구조의 재배열\n",
    "* reshape함수는 np.reshape(변경할 배열, 차원) 또는 배열.reshape(차원)으로 사용 할 수 있으며,\n",
    "현재의 배열의 차원(1차원,2차원,3차원)을 변경하여 행렬을 반환하거나 하는 경우에 많이 이용되는 함수이다."
   ]
  },
  {
   "cell_type": "code",
   "execution_count": 33,
   "id": "6c1e2ab1",
   "metadata": {
    "ExecuteTime": {
     "end_time": "2023-12-15T05:06:54.609938Z",
     "start_time": "2023-12-15T05:06:54.604384Z"
    }
   },
   "outputs": [
    {
     "data": {
      "text/plain": [
       "(array([ 0,  1,  2,  3,  4,  5,  6,  7,  8,  9, 10, 11, 12, 13, 14, 15, 16,\n",
       "        17, 18, 19, 20, 21, 22, 23, 24, 25, 26, 27, 28, 29, 30, 31, 32, 33,\n",
       "        34, 35, 36, 37, 38, 39, 40, 41, 42, 43, 44, 45, 46, 47, 48, 49]),\n",
       " 1,\n",
       " (50,))"
      ]
     },
     "execution_count": 33,
     "metadata": {},
     "output_type": "execute_result"
    }
   ],
   "source": [
    "arr, arr.ndim, arr.shape"
   ]
  },
  {
   "cell_type": "code",
   "execution_count": 35,
   "id": "f7469647",
   "metadata": {
    "ExecuteTime": {
     "end_time": "2023-12-15T05:07:22.209599Z",
     "start_time": "2023-12-15T05:07:22.204659Z"
    }
   },
   "outputs": [
    {
     "data": {
      "text/plain": [
       "(array([[ 0,  1,  2,  3,  4],\n",
       "        [ 5,  6,  7,  8,  9],\n",
       "        [10, 11, 12, 13, 14],\n",
       "        [15, 16, 17, 18, 19],\n",
       "        [20, 21, 22, 23, 24],\n",
       "        [25, 26, 27, 28, 29],\n",
       "        [30, 31, 32, 33, 34],\n",
       "        [35, 36, 37, 38, 39],\n",
       "        [40, 41, 42, 43, 44],\n",
       "        [45, 46, 47, 48, 49]]),\n",
       " 2,\n",
       " (10, 5))"
      ]
     },
     "execution_count": 35,
     "metadata": {},
     "output_type": "execute_result"
    }
   ],
   "source": [
    "arr = arr.reshape(10,5) # 10행 5열로 재배열\n",
    "arr, arr.ndim, arr.shape"
   ]
  },
  {
   "cell_type": "code",
   "execution_count": 38,
   "id": "6ade11eb",
   "metadata": {
    "ExecuteTime": {
     "end_time": "2023-12-15T05:09:09.098559Z",
     "start_time": "2023-12-15T05:09:09.093911Z"
    }
   },
   "outputs": [
    {
     "data": {
      "text/plain": [
       "(array([[ 0,  1,  2,  3,  4,  5,  6,  7,  8,  9],\n",
       "        [10, 11, 12, 13, 14, 15, 16, 17, 18, 19],\n",
       "        [20, 21, 22, 23, 24, 25, 26, 27, 28, 29],\n",
       "        [30, 31, 32, 33, 34, 35, 36, 37, 38, 39],\n",
       "        [40, 41, 42, 43, 44, 45, 46, 47, 48, 49]]),\n",
       " 2,\n",
       " (5, 10))"
      ]
     },
     "execution_count": 38,
     "metadata": {},
     "output_type": "execute_result"
    }
   ],
   "source": [
    "arr2 = arr.reshape(5,10) # 10행 5열을 5행 10열로\n",
    "arr2, arr2.ndim, arr2.shape"
   ]
  },
  {
   "cell_type": "code",
   "execution_count": 39,
   "id": "8c7d2a1e",
   "metadata": {
    "ExecuteTime": {
     "end_time": "2023-12-15T05:09:55.003135Z",
     "start_time": "2023-12-15T05:09:54.996763Z"
    }
   },
   "outputs": [
    {
     "data": {
      "text/plain": [
       "(array([ 0,  1,  2,  3,  4,  5,  6,  7,  8,  9, 10, 11, 12, 13, 14, 15, 16,\n",
       "        17, 18, 19, 20, 21, 22, 23, 24, 25, 26, 27, 28, 29, 30, 31, 32, 33,\n",
       "        34, 35, 36, 37, 38, 39, 40, 41, 42, 43, 44, 45, 46, 47, 48, 49]),\n",
       " (50,),\n",
       " 1)"
      ]
     },
     "execution_count": 39,
     "metadata": {},
     "output_type": "execute_result"
    }
   ],
   "source": [
    "# 2차원 -> 1차원\n",
    "# 넘파이배열.flatten()\n",
    "arr3 = arr2.flatten()\n",
    "arr3, arr3.shape, arr3.ndim"
   ]
  },
  {
   "cell_type": "code",
   "execution_count": 40,
   "id": "1ad60da0",
   "metadata": {
    "ExecuteTime": {
     "end_time": "2023-12-15T05:11:04.992009Z",
     "start_time": "2023-12-15T05:11:04.986051Z"
    }
   },
   "outputs": [
    {
     "data": {
      "text/plain": [
       "array([  2,   4,   6,   8,  10,  12,  14,  16,  18,  20,  22,  24,  26,\n",
       "        28,  30,  32,  34,  36,  38,  40,  42,  44,  46,  48,  50,  52,\n",
       "        54,  56,  58,  60,  62,  64,  66,  68,  70,  72,  74,  76,  78,\n",
       "        80,  82,  84,  86,  88,  90,  92,  94,  96,  98, 100])"
      ]
     },
     "execution_count": 40,
     "metadata": {},
     "output_type": "execute_result"
    }
   ],
   "source": [
    "# 1~100 사이의 짝수로 된 넘파이 배열 생성\n",
    "np.arange(2,101,2)"
   ]
  },
  {
   "cell_type": "code",
   "execution_count": 42,
   "id": "a178f385",
   "metadata": {
    "ExecuteTime": {
     "end_time": "2023-12-15T05:12:23.289346Z",
     "start_time": "2023-12-15T05:12:23.285359Z"
    }
   },
   "outputs": [
    {
     "name": "stdout",
     "output_type": "stream",
     "text": [
      "[[  2   4   6   8  10  12  14  16  18  20]\n",
      " [ 22  24  26  28  30  32  34  36  38  40]\n",
      " [ 42  44  46  48  50  52  54  56  58  60]\n",
      " [ 62  64  66  68  70  72  74  76  78  80]\n",
      " [ 82  84  86  88  90  92  94  96  98 100]]\n"
     ]
    }
   ],
   "source": [
    "print(np.arange(2, 101, 2).reshape(5,10))"
   ]
  },
  {
   "cell_type": "code",
   "execution_count": 45,
   "id": "66aaf527",
   "metadata": {
    "ExecuteTime": {
     "end_time": "2023-12-15T05:14:05.413705Z",
     "start_time": "2023-12-15T05:14:05.405893Z"
    }
   },
   "outputs": [
    {
     "data": {
      "text/plain": [
       "(array([[ 1],\n",
       "        [ 2],\n",
       "        [ 3],\n",
       "        [ 4],\n",
       "        [ 5],\n",
       "        [ 6],\n",
       "        [ 7],\n",
       "        [ 8],\n",
       "        [ 9],\n",
       "        [10],\n",
       "        [11],\n",
       "        [12],\n",
       "        [13],\n",
       "        [14],\n",
       "        [15],\n",
       "        [16],\n",
       "        [17],\n",
       "        [18],\n",
       "        [19],\n",
       "        [20],\n",
       "        [21],\n",
       "        [22],\n",
       "        [23],\n",
       "        [24],\n",
       "        [25],\n",
       "        [26],\n",
       "        [27],\n",
       "        [28],\n",
       "        [29],\n",
       "        [30]]),\n",
       " 2,\n",
       " (30, 1))"
      ]
     },
     "execution_count": 45,
     "metadata": {},
     "output_type": "execute_result"
    }
   ],
   "source": [
    "# 2차원인데 1개 칼럼의 모형을 만들어보자\n",
    "# reshape(-1, n) : 2차원 n개의 컬럼으로 구성, -1을 넣으면 자동으로 사이즈를 맞춰준다.\n",
    "arr4 = np.arange(1, 31).reshape(-1, 1)\n",
    "arr4, arr4.ndim, arr4.shape #열이 생겼으니 2차원"
   ]
  },
  {
   "cell_type": "code",
   "execution_count": 51,
   "id": "936e02dd",
   "metadata": {
    "ExecuteTime": {
     "end_time": "2023-12-15T05:18:06.705052Z",
     "start_time": "2023-12-15T05:18:06.699147Z"
    }
   },
   "outputs": [
    {
     "data": {
      "text/plain": [
       "(array([[ 1,  2,  3,  4],\n",
       "        [ 5,  6,  7,  8],\n",
       "        [ 9, 10, 11, 12],\n",
       "        [13, 14, 15, 16],\n",
       "        [17, 18, 19, 20]]),\n",
       " 2,\n",
       " (5, 4))"
      ]
     },
     "execution_count": 51,
     "metadata": {},
     "output_type": "execute_result"
    }
   ],
   "source": [
    "# 1-20까지 배열을 만들고 모형을 5행 4열로\n",
    "a = np.arange(1,21).reshape(5,4)\n",
    "a, a.ndim, a.shape"
   ]
  },
  {
   "cell_type": "code",
   "execution_count": 52,
   "id": "be99c03b",
   "metadata": {
    "ExecuteTime": {
     "end_time": "2023-12-15T05:18:28.362831Z",
     "start_time": "2023-12-15T05:18:28.357872Z"
    }
   },
   "outputs": [
    {
     "data": {
      "text/plain": [
       "array([[ 1,  2,  3,  4,  5],\n",
       "       [ 6,  7,  8,  9, 10],\n",
       "       [11, 12, 13, 14, 15],\n",
       "       [16, 17, 18, 19, 20]])"
      ]
     },
     "execution_count": 52,
     "metadata": {},
     "output_type": "execute_result"
    }
   ],
   "source": [
    "# 5열의 모형으로\n",
    "a.reshape(-1, 5)"
   ]
  },
  {
   "cell_type": "code",
   "execution_count": 55,
   "id": "4c026043",
   "metadata": {
    "ExecuteTime": {
     "end_time": "2023-12-15T05:19:19.741439Z",
     "start_time": "2023-12-15T05:19:19.719390Z"
    }
   },
   "outputs": [
    {
     "ename": "ValueError",
     "evalue": "cannot reshape array of size 20 into shape (7)",
     "output_type": "error",
     "traceback": [
      "\u001b[1;31m---------------------------------------------------------------------------\u001b[0m",
      "\u001b[1;31mValueError\u001b[0m                                Traceback (most recent call last)",
      "Cell \u001b[1;32mIn[55], line 2\u001b[0m\n\u001b[0;32m      1\u001b[0m \u001b[38;5;66;03m# 사이즈가 맞아야 한다.\u001b[39;00m\n\u001b[1;32m----> 2\u001b[0m np\u001b[38;5;241m.\u001b[39marange(\u001b[38;5;241m1\u001b[39m, \u001b[38;5;241m21\u001b[39m)\u001b[38;5;241m.\u001b[39mreshape(\u001b[38;5;241m-\u001b[39m\u001b[38;5;241m1\u001b[39m, \u001b[38;5;241m7\u001b[39m)\n",
      "\u001b[1;31mValueError\u001b[0m: cannot reshape array of size 20 into shape (7)"
     ]
    }
   ],
   "source": [
    "# 사이즈가 맞아야 한다.\n",
    "np.arange(1, 21).reshape(-1, 7)"
   ]
  },
  {
   "cell_type": "code",
   "execution_count": 61,
   "id": "e2842f78",
   "metadata": {
    "ExecuteTime": {
     "end_time": "2023-12-15T05:20:28.723721Z",
     "start_time": "2023-12-15T05:20:28.717960Z"
    }
   },
   "outputs": [
    {
     "data": {
      "text/plain": [
       "(array([ 0,  1,  2,  3,  4,  5,  6,  7,  8,  9, 10, 11]), (12,))"
      ]
     },
     "execution_count": 61,
     "metadata": {},
     "output_type": "execute_result"
    }
   ],
   "source": [
    "a = np.arange(12)\n",
    "a, a.shape"
   ]
  },
  {
   "cell_type": "code",
   "execution_count": 62,
   "id": "3d5fb593",
   "metadata": {
    "ExecuteTime": {
     "end_time": "2023-12-15T05:20:40.334429Z",
     "start_time": "2023-12-15T05:20:40.328899Z"
    }
   },
   "outputs": [
    {
     "data": {
      "text/plain": [
       "(array([[ 0,  1,  2,  3,  4,  5],\n",
       "        [ 6,  7,  8,  9, 10, 11]]),\n",
       " (2, 6))"
      ]
     },
     "execution_count": 62,
     "metadata": {},
     "output_type": "execute_result"
    }
   ],
   "source": [
    "# 원본 값이 바뀜\n",
    "a.shape = 2, -1\n",
    "a, a.shape"
   ]
  },
  {
   "cell_type": "code",
   "execution_count": 63,
   "id": "73e56e74",
   "metadata": {
    "ExecuteTime": {
     "end_time": "2023-12-15T05:20:44.177451Z",
     "start_time": "2023-12-15T05:20:44.170392Z"
    }
   },
   "outputs": [
    {
     "data": {
      "text/plain": [
       "(array([[ 0,  1,  2,  3],\n",
       "        [ 4,  5,  6,  7],\n",
       "        [ 8,  9, 10, 11]]),\n",
       " (3, 4))"
      ]
     },
     "execution_count": 63,
     "metadata": {},
     "output_type": "execute_result"
    }
   ],
   "source": [
    "a.shape = 3, -1\n",
    "a, a.shape"
   ]
  },
  {
   "cell_type": "code",
   "execution_count": 64,
   "id": "dc72de9c",
   "metadata": {
    "ExecuteTime": {
     "end_time": "2023-12-15T05:20:48.554603Z",
     "start_time": "2023-12-15T05:20:48.549238Z"
    }
   },
   "outputs": [
    {
     "data": {
      "text/plain": [
       "(array([[ 0],\n",
       "        [ 1],\n",
       "        [ 2],\n",
       "        [ 3],\n",
       "        [ 4],\n",
       "        [ 5],\n",
       "        [ 6],\n",
       "        [ 7],\n",
       "        [ 8],\n",
       "        [ 9],\n",
       "        [10],\n",
       "        [11]]),\n",
       " (12, 1))"
      ]
     },
     "execution_count": 64,
     "metadata": {},
     "output_type": "execute_result"
    }
   ],
   "source": [
    "a.shape = -1, 1\n",
    "a, a.shape"
   ]
  },
  {
   "cell_type": "code",
   "execution_count": 65,
   "id": "48a00de9",
   "metadata": {
    "ExecuteTime": {
     "end_time": "2023-12-15T05:21:02.055498Z",
     "start_time": "2023-12-15T05:21:02.050557Z"
    }
   },
   "outputs": [
    {
     "data": {
      "text/plain": [
       "(array([ 0,  1,  2,  3,  4,  5,  6,  7,  8,  9, 10, 11]), (12,))"
      ]
     },
     "execution_count": 65,
     "metadata": {},
     "output_type": "execute_result"
    }
   ],
   "source": [
    "# -1 하나만 넣으면 flatten\n",
    "a.shape = -1\n",
    "a, a.shape"
   ]
  },
  {
   "cell_type": "markdown",
   "id": "9a62f82b",
   "metadata": {
    "ExecuteTime": {
     "end_time": "2023-12-15T05:22:20.174340Z",
     "start_time": "2023-12-15T05:22:20.170072Z"
    }
   },
   "source": [
    "## 넘파이배열의 자료형 형변환\n",
    "* 배열명2 = 배열명1.astype(자료형)\n",
    "* 자료형 = np.float64, np.int32\n"
   ]
  },
  {
   "cell_type": "code",
   "execution_count": 67,
   "id": "d4913468",
   "metadata": {
    "ExecuteTime": {
     "end_time": "2023-12-15T05:23:06.107009Z",
     "start_time": "2023-12-15T05:23:06.101112Z"
    }
   },
   "outputs": [
    {
     "data": {
      "text/plain": [
       "(array([1, 2, 3, 4, 5, 6, 7, 8, 9]), dtype('int32'))"
      ]
     },
     "execution_count": 67,
     "metadata": {},
     "output_type": "execute_result"
    }
   ],
   "source": [
    "matrix1 = np.arange(1,10)\n",
    "matrix1, matrix1.dtype"
   ]
  },
  {
   "cell_type": "code",
   "execution_count": 71,
   "id": "f179816e",
   "metadata": {
    "ExecuteTime": {
     "end_time": "2023-12-15T05:23:46.215008Z",
     "start_time": "2023-12-15T05:23:46.210338Z"
    }
   },
   "outputs": [
    {
     "data": {
      "text/plain": [
       "(array([[1, 2, 3],\n",
       "        [4, 5, 6],\n",
       "        [7, 8, 9]]),\n",
       " dtype('int32'))"
      ]
     },
     "execution_count": 71,
     "metadata": {},
     "output_type": "execute_result"
    }
   ],
   "source": [
    "# 정수형, 3행 3열\n",
    "matrix = np.arange(1, 10).reshape(3,3)\n",
    "matrix, matrix.dtype"
   ]
  },
  {
   "cell_type": "code",
   "execution_count": 74,
   "id": "54ab608c",
   "metadata": {
    "ExecuteTime": {
     "end_time": "2023-12-15T05:24:15.125826Z",
     "start_time": "2023-12-15T05:24:15.104249Z"
    }
   },
   "outputs": [
    {
     "ename": "TypeError",
     "evalue": "arange() not supported for inputs with DType <class 'numpy.dtype[str_]'>.",
     "output_type": "error",
     "traceback": [
      "\u001b[1;31m---------------------------------------------------------------------------\u001b[0m",
      "\u001b[1;31mTypeError\u001b[0m                                 Traceback (most recent call last)",
      "Cell \u001b[1;32mIn[74], line 2\u001b[0m\n\u001b[0;32m      1\u001b[0m \u001b[38;5;66;03m# 문자열형, 3행 3열 -> 불가 str 이라고 표시 안해서\u001b[39;00m\n\u001b[1;32m----> 2\u001b[0m matrix \u001b[38;5;241m=\u001b[39m np\u001b[38;5;241m.\u001b[39marange(\u001b[38;5;241m1\u001b[39m, \u001b[38;5;241m10\u001b[39m, dtype\u001b[38;5;241m=\u001b[39m\u001b[38;5;124m'\u001b[39m\u001b[38;5;124mstr\u001b[39m\u001b[38;5;124m'\u001b[39m)\u001b[38;5;241m.\u001b[39mreshape(\u001b[38;5;241m3\u001b[39m,\u001b[38;5;241m3\u001b[39m)\n\u001b[0;32m      3\u001b[0m matrix, matrix\u001b[38;5;241m.\u001b[39mdtype\n",
      "\u001b[1;31mTypeError\u001b[0m: arange() not supported for inputs with DType <class 'numpy.dtype[str_]'>."
     ]
    }
   ],
   "source": [
    "# 문자열형, 3행 3열 -> 불가 str 이라고 표시 안해서\n",
    "matrix = np.arange(1, 10, dtype='str').reshape(3,3)\n",
    "matrix, matrix.dtype"
   ]
  },
  {
   "cell_type": "code",
   "execution_count": 73,
   "id": "5209ae08",
   "metadata": {
    "ExecuteTime": {
     "end_time": "2023-12-15T05:24:06.317174Z",
     "start_time": "2023-12-15T05:24:06.310809Z"
    }
   },
   "outputs": [
    {
     "data": {
      "text/plain": [
       "array([['1', '2', '3'],\n",
       "       ['4', '5', '6'],\n",
       "       ['7', '8', '9']], dtype='<U5')"
      ]
     },
     "execution_count": 73,
     "metadata": {},
     "output_type": "execute_result"
    }
   ],
   "source": [
    "# 정수형 => 문자열 U5\n",
    "matrix.astype('<U5')"
   ]
  },
  {
   "cell_type": "code",
   "execution_count": 75,
   "id": "01ddb9fc",
   "metadata": {
    "ExecuteTime": {
     "end_time": "2023-12-15T05:24:45.496321Z",
     "start_time": "2023-12-15T05:24:45.490146Z"
    }
   },
   "outputs": [
    {
     "data": {
      "text/plain": [
       "(array([ True, False,  True,  True]), dtype('bool'))"
      ]
     },
     "execution_count": 75,
     "metadata": {},
     "output_type": "execute_result"
    }
   ],
   "source": [
    "# 논리형으로 구성된 넘파이 배열 생성\n",
    "matrix2 = np.array([True, False, True, True])\n",
    "matrix2, matrix2.dtype"
   ]
  },
  {
   "cell_type": "code",
   "execution_count": 76,
   "id": "6838e9df",
   "metadata": {
    "ExecuteTime": {
     "end_time": "2023-12-15T05:25:04.670721Z",
     "start_time": "2023-12-15T05:25:04.663193Z"
    }
   },
   "outputs": [
    {
     "data": {
      "text/plain": [
       "array([1, 0, 1, 1])"
      ]
     },
     "execution_count": 76,
     "metadata": {},
     "output_type": "execute_result"
    }
   ],
   "source": [
    "# 불린 -> 정수\n",
    "matrix2.astype(int)"
   ]
  },
  {
   "cell_type": "code",
   "execution_count": 77,
   "id": "667b02eb",
   "metadata": {
    "ExecuteTime": {
     "end_time": "2023-12-15T05:25:30.075087Z",
     "start_time": "2023-12-15T05:25:30.069977Z"
    }
   },
   "outputs": [
    {
     "data": {
      "text/plain": [
       "array(['True', 'False', 'True', 'True'], dtype='<U5')"
      ]
     },
     "execution_count": 77,
     "metadata": {},
     "output_type": "execute_result"
    }
   ],
   "source": [
    "# 불린형 -> 문자열\n",
    "matrix2.astype('<U5')"
   ]
  },
  {
   "cell_type": "code",
   "execution_count": 78,
   "id": "ba20e260",
   "metadata": {
    "ExecuteTime": {
     "end_time": "2023-12-15T05:25:48.377949Z",
     "start_time": "2023-12-15T05:25:48.371184Z"
    }
   },
   "outputs": [
    {
     "data": {
      "text/plain": [
       "(array(['3.14', '5.5', '0.78'], dtype='<U4'), dtype('<U4'))"
      ]
     },
     "execution_count": 78,
     "metadata": {},
     "output_type": "execute_result"
    }
   ],
   "source": [
    "# 문자열 숫자 => 정수 , 실수\n",
    "matrix3 = np.array(['3.14', '5.5', '0.78'])\n",
    "matrix3, matrix3.dtype"
   ]
  },
  {
   "cell_type": "code",
   "execution_count": 79,
   "id": "a3f64c97",
   "metadata": {
    "ExecuteTime": {
     "end_time": "2023-12-15T05:26:32.490814Z",
     "start_time": "2023-12-15T05:26:32.470018Z"
    }
   },
   "outputs": [
    {
     "name": "stdout",
     "output_type": "stream",
     "text": [
      "[3.14 5.5  0.78]\n"
     ]
    },
    {
     "ename": "ValueError",
     "evalue": "invalid literal for int() with base 10: '3.14'",
     "output_type": "error",
     "traceback": [
      "\u001b[1;31m---------------------------------------------------------------------------\u001b[0m",
      "\u001b[1;31mValueError\u001b[0m                                Traceback (most recent call last)",
      "Cell \u001b[1;32mIn[79], line 3\u001b[0m\n\u001b[0;32m      1\u001b[0m \u001b[38;5;28mprint\u001b[39m(matrix3\u001b[38;5;241m.\u001b[39mastype(\u001b[38;5;28mfloat\u001b[39m))\n\u001b[1;32m----> 3\u001b[0m \u001b[38;5;28mprint\u001b[39m(matrix3\u001b[38;5;241m.\u001b[39mastype(\u001b[38;5;28mint\u001b[39m)) \u001b[38;5;66;03m# 불가\u001b[39;00m\n\u001b[0;32m      4\u001b[0m \u001b[38;5;28mprint\u001b[39m(matrix3\u001b[38;5;241m.\u001b[39mastype(\u001b[38;5;28mbool\u001b[39m))\n",
      "\u001b[1;31mValueError\u001b[0m: invalid literal for int() with base 10: '3.14'"
     ]
    }
   ],
   "source": [
    "print(matrix3.astype(float))\n",
    "\n",
    "print(matrix3.astype(int)) # 불가\n",
    "print(matrix3.astype(bool)) # 불가"
   ]
  },
  {
   "cell_type": "code",
   "execution_count": 80,
   "id": "d9613b09",
   "metadata": {
    "ExecuteTime": {
     "end_time": "2023-12-15T05:27:07.948349Z",
     "start_time": "2023-12-15T05:27:07.942838Z"
    }
   },
   "outputs": [
    {
     "data": {
      "text/plain": [
       "array([3, 5, 7])"
      ]
     },
     "execution_count": 80,
     "metadata": {},
     "output_type": "execute_result"
    }
   ],
   "source": [
    "matrix4 = np.array(['3', '5', '7'])\n",
    "matrix4.astype(int)  # 가능, 값이 유효하기 때문"
   ]
  },
  {
   "cell_type": "markdown",
   "id": "0e8dec4d",
   "metadata": {},
   "source": [
    "## 넘파이 배열의 인덱싱\n",
    "* 넘파이배열[index] 넘파이배열[i, j], 넘파이배열[i][j] : i행 j 열"
   ]
  },
  {
   "cell_type": "markdown",
   "id": "4040f1ce",
   "metadata": {},
   "source": [
    "### 1D array"
   ]
  },
  {
   "cell_type": "code",
   "execution_count": 81,
   "id": "f77d6400",
   "metadata": {
    "ExecuteTime": {
     "end_time": "2023-12-15T05:29:38.570455Z",
     "start_time": "2023-12-15T05:29:38.563968Z"
    }
   },
   "outputs": [
    {
     "data": {
      "text/plain": [
       "(array([1, 3, 5, 7, 9]), 1, (5,), 5)"
      ]
     },
     "execution_count": 81,
     "metadata": {},
     "output_type": "execute_result"
    }
   ],
   "source": [
    "a = np.array([1,3,5,7,9])\n",
    "a, a.ndim, a.shape, a.size"
   ]
  },
  {
   "cell_type": "code",
   "execution_count": 82,
   "id": "0d270ec4",
   "metadata": {
    "ExecuteTime": {
     "end_time": "2023-12-15T05:29:42.860274Z",
     "start_time": "2023-12-15T05:29:42.855259Z"
    }
   },
   "outputs": [
    {
     "data": {
      "text/plain": [
       "1"
      ]
     },
     "execution_count": 82,
     "metadata": {},
     "output_type": "execute_result"
    }
   ],
   "source": [
    "a[0]"
   ]
  },
  {
   "cell_type": "code",
   "execution_count": 83,
   "id": "fc1e70c8",
   "metadata": {
    "ExecuteTime": {
     "end_time": "2023-12-15T05:29:49.129554Z",
     "start_time": "2023-12-15T05:29:49.124546Z"
    }
   },
   "outputs": [
    {
     "data": {
      "text/plain": [
       "5"
      ]
     },
     "execution_count": 83,
     "metadata": {},
     "output_type": "execute_result"
    }
   ],
   "source": [
    "a[2]"
   ]
  },
  {
   "cell_type": "code",
   "execution_count": 86,
   "id": "5f9fc39a",
   "metadata": {
    "ExecuteTime": {
     "end_time": "2023-12-15T05:30:07.464640Z",
     "start_time": "2023-12-15T05:30:07.459737Z"
    }
   },
   "outputs": [
    {
     "data": {
      "text/plain": [
       "9"
      ]
     },
     "execution_count": 86,
     "metadata": {},
     "output_type": "execute_result"
    }
   ],
   "source": [
    "a[-1] # 맨 뒤"
   ]
  },
  {
   "cell_type": "code",
   "execution_count": 85,
   "id": "13610b8a",
   "metadata": {
    "ExecuteTime": {
     "end_time": "2023-12-15T05:30:01.158346Z",
     "start_time": "2023-12-15T05:30:01.152386Z"
    }
   },
   "outputs": [
    {
     "data": {
      "text/plain": [
       "5"
      ]
     },
     "execution_count": 85,
     "metadata": {},
     "output_type": "execute_result"
    }
   ],
   "source": [
    "a[-3]"
   ]
  },
  {
   "cell_type": "code",
   "execution_count": 87,
   "id": "4f9945fc",
   "metadata": {
    "ExecuteTime": {
     "end_time": "2023-12-15T05:30:14.000508Z",
     "start_time": "2023-12-15T05:30:13.995496Z"
    }
   },
   "outputs": [
    {
     "data": {
      "text/plain": [
       "1"
      ]
     },
     "execution_count": 87,
     "metadata": {},
     "output_type": "execute_result"
    }
   ],
   "source": [
    "a[-5]"
   ]
  },
  {
   "cell_type": "code",
   "execution_count": 88,
   "id": "c077c413",
   "metadata": {
    "ExecuteTime": {
     "end_time": "2023-12-15T05:30:36.650126Z",
     "start_time": "2023-12-15T05:30:36.643865Z"
    }
   },
   "outputs": [
    {
     "data": {
      "text/plain": [
       "array([1, 5, 9])"
      ]
     },
     "execution_count": 88,
     "metadata": {},
     "output_type": "execute_result"
    }
   ],
   "source": [
    "# 복수 가능\n",
    "a[[0, 2, 4]]"
   ]
  },
  {
   "cell_type": "code",
   "execution_count": 90,
   "id": "a049d34c",
   "metadata": {
    "ExecuteTime": {
     "end_time": "2023-12-15T05:30:50.299340Z",
     "start_time": "2023-12-15T05:30:50.294283Z"
    }
   },
   "outputs": [
    {
     "data": {
      "text/plain": [
       "array([1, 3, 5, 7, 9])"
      ]
     },
     "execution_count": 90,
     "metadata": {},
     "output_type": "execute_result"
    }
   ],
   "source": [
    "a"
   ]
  },
  {
   "cell_type": "code",
   "execution_count": 92,
   "id": "0982d05b",
   "metadata": {
    "ExecuteTime": {
     "end_time": "2023-12-15T05:31:33.260318Z",
     "start_time": "2023-12-15T05:31:33.255702Z"
    }
   },
   "outputs": [
    {
     "data": {
      "text/plain": [
       "array([[1, 3],\n",
       "       [4, 2]])"
      ]
     },
     "execution_count": 92,
     "metadata": {},
     "output_type": "execute_result"
    }
   ],
   "source": [
    "# 행렬 구조로 인덱싱도 가능하다\n",
    "b = np.array([[1,3], [4,2]]) #2차원\n",
    "b"
   ]
  },
  {
   "cell_type": "code",
   "execution_count": 95,
   "id": "a7e22ba9",
   "metadata": {
    "ExecuteTime": {
     "end_time": "2023-12-15T05:33:25.892432Z",
     "start_time": "2023-12-15T05:33:25.876822Z"
    }
   },
   "outputs": [
    {
     "data": {
      "text/plain": [
       "array([[3, 7],\n",
       "       [9, 5]])"
      ]
     },
     "execution_count": 95,
     "metadata": {},
     "output_type": "execute_result"
    }
   ],
   "source": [
    "# 넘파이배열1을 넘파이배열2로 인덱싱하는 경우. 넘파이배열2는 인덱스 번호로 인식\n",
    "a[b] # 넣는 값은 인덱싱 값으로 인식"
   ]
  },
  {
   "cell_type": "code",
   "execution_count": 97,
   "id": "d266f356",
   "metadata": {
    "ExecuteTime": {
     "end_time": "2023-12-15T05:34:05.571880Z",
     "start_time": "2023-12-15T05:34:05.565747Z"
    }
   },
   "outputs": [
    {
     "data": {
      "text/plain": [
       "array([1, 3, 0, 7, 9])"
      ]
     },
     "execution_count": 97,
     "metadata": {},
     "output_type": "execute_result"
    }
   ],
   "source": [
    "# 값 수정\n",
    "a[2] = 0\n",
    "a"
   ]
  },
  {
   "cell_type": "code",
   "execution_count": 98,
   "id": "265adccf",
   "metadata": {
    "ExecuteTime": {
     "end_time": "2023-12-15T05:34:19.070912Z",
     "start_time": "2023-12-15T05:34:19.065633Z"
    }
   },
   "outputs": [
    {
     "data": {
      "text/plain": [
       "array([1, 5, 0, 7, 9])"
      ]
     },
     "execution_count": 98,
     "metadata": {},
     "output_type": "execute_result"
    }
   ],
   "source": [
    "a[1] += 2\n",
    "a"
   ]
  },
  {
   "cell_type": "code",
   "execution_count": 99,
   "id": "1fd9a6fd",
   "metadata": {
    "ExecuteTime": {
     "end_time": "2023-12-15T05:34:36.528063Z",
     "start_time": "2023-12-15T05:34:36.523750Z"
    }
   },
   "outputs": [
    {
     "data": {
      "text/plain": [
       "array([6, 5, 0, 7, 9])"
      ]
     },
     "execution_count": 99,
     "metadata": {},
     "output_type": "execute_result"
    }
   ],
   "source": [
    "a[0] *= 6\n",
    "a"
   ]
  },
  {
   "cell_type": "markdown",
   "id": "7eef2399",
   "metadata": {},
   "source": [
    "### 2D array\n"
   ]
  },
  {
   "cell_type": "code",
   "execution_count": 100,
   "id": "99f3568d",
   "metadata": {
    "ExecuteTime": {
     "end_time": "2023-12-15T05:36:51.083821Z",
     "start_time": "2023-12-15T05:36:51.077307Z"
    }
   },
   "outputs": [
    {
     "data": {
      "text/plain": [
       "(array([[ 0,  1,  2,  3,  4],\n",
       "        [ 5,  6,  7,  8,  9],\n",
       "        [10, 11, 12, 13, 14]]),\n",
       " 2,\n",
       " (3, 5),\n",
       " 15)"
      ]
     },
     "execution_count": 100,
     "metadata": {},
     "output_type": "execute_result"
    }
   ],
   "source": [
    "a = np.arange(15).reshape(3, 5)\n",
    "a, a.ndim, a.shape, a.size"
   ]
  },
  {
   "cell_type": "code",
   "execution_count": 101,
   "id": "229ef47d",
   "metadata": {
    "ExecuteTime": {
     "end_time": "2023-12-15T05:37:19.942534Z",
     "start_time": "2023-12-15T05:37:19.938385Z"
    }
   },
   "outputs": [
    {
     "data": {
      "text/plain": [
       "array([0, 1, 2, 3, 4])"
      ]
     },
     "execution_count": 101,
     "metadata": {},
     "output_type": "execute_result"
    }
   ],
   "source": [
    "# 2차원 인덱싱할 때, 값을 하나만 넣으면 행인덱싱\n",
    "a[0]"
   ]
  },
  {
   "cell_type": "code",
   "execution_count": 103,
   "id": "5066105a",
   "metadata": {
    "ExecuteTime": {
     "end_time": "2023-12-15T05:37:42.591240Z",
     "start_time": "2023-12-15T05:37:42.587094Z"
    }
   },
   "outputs": [
    {
     "data": {
      "text/plain": [
       "array([5, 6, 7, 8, 9])"
      ]
     },
     "execution_count": 103,
     "metadata": {},
     "output_type": "execute_result"
    }
   ],
   "source": [
    "a[1]"
   ]
  },
  {
   "cell_type": "code",
   "execution_count": 102,
   "id": "8c37a0c9",
   "metadata": {
    "ExecuteTime": {
     "end_time": "2023-12-15T05:37:40.730840Z",
     "start_time": "2023-12-15T05:37:40.725880Z"
    }
   },
   "outputs": [
    {
     "data": {
      "text/plain": [
       "array([10, 11, 12, 13, 14])"
      ]
     },
     "execution_count": 102,
     "metadata": {},
     "output_type": "execute_result"
    }
   ],
   "source": [
    "a[2]"
   ]
  },
  {
   "cell_type": "code",
   "execution_count": 104,
   "id": "84055810",
   "metadata": {
    "ExecuteTime": {
     "end_time": "2023-12-15T05:39:21.056455Z",
     "start_time": "2023-12-15T05:39:21.050550Z"
    }
   },
   "outputs": [
    {
     "data": {
      "text/plain": [
       "array([10, 11, 12, 13, 14])"
      ]
     },
     "execution_count": 104,
     "metadata": {},
     "output_type": "execute_result"
    }
   ],
   "source": [
    "a[-1]"
   ]
  },
  {
   "cell_type": "code",
   "execution_count": 105,
   "id": "ee73d483",
   "metadata": {
    "ExecuteTime": {
     "end_time": "2023-12-15T05:39:33.204002Z",
     "start_time": "2023-12-15T05:39:33.198937Z"
    }
   },
   "outputs": [
    {
     "data": {
      "text/plain": [
       "array([5, 6, 7, 8, 9])"
      ]
     },
     "execution_count": 105,
     "metadata": {},
     "output_type": "execute_result"
    }
   ],
   "source": [
    "a[-2]"
   ]
  },
  {
   "cell_type": "code",
   "execution_count": 107,
   "id": "e7463442",
   "metadata": {
    "ExecuteTime": {
     "end_time": "2023-12-15T05:40:02.874222Z",
     "start_time": "2023-12-15T05:40:02.869317Z"
    }
   },
   "outputs": [
    {
     "data": {
      "text/plain": [
       "array([[ 0,  1,  2,  3,  4],\n",
       "       [ 5,  6,  7,  8,  9],\n",
       "       [10, 11, 12, 13, 14]])"
      ]
     },
     "execution_count": 107,
     "metadata": {},
     "output_type": "execute_result"
    }
   ],
   "source": [
    "# 차원 인덱싱\n",
    "a"
   ]
  },
  {
   "cell_type": "code",
   "execution_count": 108,
   "id": "783befa5",
   "metadata": {
    "ExecuteTime": {
     "end_time": "2023-12-15T05:40:17.875551Z",
     "start_time": "2023-12-15T05:40:17.869464Z"
    }
   },
   "outputs": [
    {
     "data": {
      "text/plain": [
       "0"
      ]
     },
     "execution_count": 108,
     "metadata": {},
     "output_type": "execute_result"
    }
   ],
   "source": [
    "# 값이 2개 들어가면 행/열 인덱싱\n",
    "a[0,0] #0번째행에 0"
   ]
  },
  {
   "cell_type": "code",
   "execution_count": 109,
   "id": "4280ac3a",
   "metadata": {
    "ExecuteTime": {
     "end_time": "2023-12-15T05:40:41.966483Z",
     "start_time": "2023-12-15T05:40:41.960931Z"
    }
   },
   "outputs": [
    {
     "data": {
      "text/plain": [
       "1"
      ]
     },
     "execution_count": 109,
     "metadata": {},
     "output_type": "execute_result"
    }
   ],
   "source": [
    "a[0,1]"
   ]
  },
  {
   "cell_type": "code",
   "execution_count": 110,
   "id": "b4cd35e8",
   "metadata": {
    "ExecuteTime": {
     "end_time": "2023-12-15T05:40:55.165536Z",
     "start_time": "2023-12-15T05:40:55.160736Z"
    }
   },
   "outputs": [
    {
     "data": {
      "text/plain": [
       "2"
      ]
     },
     "execution_count": 110,
     "metadata": {},
     "output_type": "execute_result"
    }
   ],
   "source": [
    "a[0,2]"
   ]
  },
  {
   "cell_type": "code",
   "execution_count": 111,
   "id": "7813d764",
   "metadata": {
    "ExecuteTime": {
     "end_time": "2023-12-15T05:41:09.323461Z",
     "start_time": "2023-12-15T05:41:09.318091Z"
    }
   },
   "outputs": [
    {
     "data": {
      "text/plain": [
       "5"
      ]
     },
     "execution_count": 111,
     "metadata": {},
     "output_type": "execute_result"
    }
   ],
   "source": [
    "a[1,0]"
   ]
  },
  {
   "cell_type": "code",
   "execution_count": 112,
   "id": "68624314",
   "metadata": {
    "ExecuteTime": {
     "end_time": "2023-12-15T05:41:26.542450Z",
     "start_time": "2023-12-15T05:41:26.538238Z"
    }
   },
   "outputs": [
    {
     "data": {
      "text/plain": [
       "7"
      ]
     },
     "execution_count": 112,
     "metadata": {},
     "output_type": "execute_result"
    }
   ],
   "source": [
    "a[1,2]"
   ]
  },
  {
   "cell_type": "code",
   "execution_count": 113,
   "id": "9ea10729",
   "metadata": {
    "ExecuteTime": {
     "end_time": "2023-12-15T05:44:26.367482Z",
     "start_time": "2023-12-15T05:44:26.361977Z"
    }
   },
   "outputs": [
    {
     "data": {
      "text/plain": [
       "(array([[ 0,  1,  2,  3,  4],\n",
       "        [ 5,  6,  7,  8,  9],\n",
       "        [10, 11, 12, 13, 14]]),\n",
       " 2,\n",
       " (3, 5),\n",
       " 15)"
      ]
     },
     "execution_count": 113,
     "metadata": {},
     "output_type": "execute_result"
    }
   ],
   "source": [
    "# 값 수정\n",
    "a = np.arange(15).reshape(3, 5)\n",
    "a, a.ndim, a.shape, a.size"
   ]
  },
  {
   "cell_type": "code",
   "execution_count": 114,
   "id": "e4da07a0",
   "metadata": {
    "ExecuteTime": {
     "end_time": "2023-12-15T05:44:55.526210Z",
     "start_time": "2023-12-15T05:44:55.520702Z"
    }
   },
   "outputs": [
    {
     "data": {
      "text/plain": [
       "array([[ 0,  1,  2,  3,  4],\n",
       "       [ 5,  6,  7,  8,  9],\n",
       "       [10, 10, 10, 10, 10]])"
      ]
     },
     "execution_count": 114,
     "metadata": {},
     "output_type": "execute_result"
    }
   ],
   "source": [
    "a[-1] = [10] # -1행을 10으로 채워\n",
    "a"
   ]
  },
  {
   "cell_type": "code",
   "execution_count": 117,
   "id": "a7512e25",
   "metadata": {
    "ExecuteTime": {
     "end_time": "2023-12-15T05:45:55.496059Z",
     "start_time": "2023-12-15T05:45:55.490639Z"
    }
   },
   "outputs": [
    {
     "data": {
      "text/plain": [
       "array([[ 3,  7, 11, 15, 19],\n",
       "       [ 5,  6,  7,  8,  9],\n",
       "       [10, 10, 10, 10, 10]])"
      ]
     },
     "execution_count": 117,
     "metadata": {},
     "output_type": "execute_result"
    }
   ],
   "source": [
    "a[0] += 1, 2, 3, 4, 5\n",
    "a"
   ]
  },
  {
   "cell_type": "code",
   "execution_count": 118,
   "id": "57a7b6a6",
   "metadata": {
    "ExecuteTime": {
     "end_time": "2023-12-15T05:46:15.057059Z",
     "start_time": "2023-12-15T05:46:15.051446Z"
    }
   },
   "outputs": [
    {
     "data": {
      "text/plain": [
       "(array([0, 1, 2, 3, 4, 5, 6, 7, 8, 9]),\n",
       " array([[ 0,  1,  2,  3],\n",
       "        [ 4,  5,  6,  7],\n",
       "        [ 8,  9, 10, 11]]))"
      ]
     },
     "execution_count": 118,
     "metadata": {},
     "output_type": "execute_result"
    }
   ],
   "source": [
    "matrix_a = np.arange(10)\n",
    "matrix_b = np.arange(12).reshape(3,4)\n",
    "\n",
    "matrix_a, matrix_b"
   ]
  },
  {
   "cell_type": "code",
   "execution_count": 119,
   "id": "4ce49701",
   "metadata": {
    "ExecuteTime": {
     "end_time": "2023-12-15T05:46:41.336718Z",
     "start_time": "2023-12-15T05:46:41.331717Z"
    }
   },
   "outputs": [
    {
     "data": {
      "text/plain": [
       "(0, 9)"
      ]
     },
     "execution_count": 119,
     "metadata": {},
     "output_type": "execute_result"
    }
   ],
   "source": [
    "# 1차원에서 첫 요소와 마지막 요소\n",
    "matrix_a[0], matrix_a[-1]"
   ]
  },
  {
   "cell_type": "code",
   "execution_count": 120,
   "id": "58c76e3a",
   "metadata": {
    "ExecuteTime": {
     "end_time": "2023-12-15T05:46:55.646912Z",
     "start_time": "2023-12-15T05:46:55.643150Z"
    }
   },
   "outputs": [
    {
     "data": {
      "text/plain": [
       "0"
      ]
     },
     "execution_count": 120,
     "metadata": {},
     "output_type": "execute_result"
    }
   ],
   "source": [
    "# 2차원에서 1번째행 1번째열\n",
    "matrix_b[0, 0]"
   ]
  },
  {
   "cell_type": "code",
   "execution_count": 122,
   "id": "8d637d7a",
   "metadata": {
    "ExecuteTime": {
     "end_time": "2023-12-15T05:47:20.397151Z",
     "start_time": "2023-12-15T05:47:20.391623Z"
    }
   },
   "outputs": [
    {
     "data": {
      "text/plain": [
       "0"
      ]
     },
     "execution_count": 122,
     "metadata": {},
     "output_type": "execute_result"
    }
   ],
   "source": [
    "matrix_b[0][0] #추출해서 또 추출(2차원이라 가능)"
   ]
  },
  {
   "cell_type": "code",
   "execution_count": 123,
   "id": "b45fd660",
   "metadata": {
    "ExecuteTime": {
     "end_time": "2023-12-15T05:47:32.756160Z",
     "start_time": "2023-12-15T05:47:32.751868Z"
    }
   },
   "outputs": [
    {
     "data": {
      "text/plain": [
       "11"
      ]
     },
     "execution_count": 123,
     "metadata": {},
     "output_type": "execute_result"
    }
   ],
   "source": [
    "# 2차원 마지막행 마지막열 -> 3행 4열\n",
    "matrix_b[-1,-1]"
   ]
  },
  {
   "cell_type": "code",
   "execution_count": 124,
   "id": "7c9ac003",
   "metadata": {
    "ExecuteTime": {
     "end_time": "2023-12-15T05:48:10.768087Z",
     "start_time": "2023-12-15T05:48:10.762599Z"
    }
   },
   "outputs": [
    {
     "data": {
      "text/plain": [
       "11"
      ]
     },
     "execution_count": 124,
     "metadata": {},
     "output_type": "execute_result"
    }
   ],
   "source": [
    "matrix_b[2][3]"
   ]
  },
  {
   "cell_type": "code",
   "execution_count": 125,
   "id": "93c4e278",
   "metadata": {
    "ExecuteTime": {
     "end_time": "2023-12-15T05:48:38.249285Z",
     "start_time": "2023-12-15T05:48:38.244241Z"
    }
   },
   "outputs": [
    {
     "data": {
      "text/plain": [
       "array([[  0,   1,   2,   3],\n",
       "       [  4,   5,   6,   7],\n",
       "       [100,   9,  10,  11]])"
      ]
     },
     "execution_count": 125,
     "metadata": {},
     "output_type": "execute_result"
    }
   ],
   "source": [
    "matrix_b[2,0] =100\n",
    "matrix_b"
   ]
  },
  {
   "cell_type": "markdown",
   "id": "6f827042",
   "metadata": {},
   "source": [
    "## 넘파이배열 슬라이싱"
   ]
  },
  {
   "cell_type": "code",
   "execution_count": 126,
   "id": "f641047b",
   "metadata": {
    "ExecuteTime": {
     "end_time": "2023-12-15T05:49:41.188249Z",
     "start_time": "2023-12-15T05:49:41.182413Z"
    }
   },
   "outputs": [
    {
     "data": {
      "text/plain": [
       "(array([1, 3, 5, 7, 9]), 1, (5,), 5)"
      ]
     },
     "execution_count": 126,
     "metadata": {},
     "output_type": "execute_result"
    }
   ],
   "source": [
    "# 1차원\n",
    "\n",
    "a = np.array([1, 3, 5, 7, 9])\n",
    "a, a.ndim, a.shape, a.size"
   ]
  },
  {
   "cell_type": "code",
   "execution_count": 127,
   "id": "01e17055",
   "metadata": {
    "ExecuteTime": {
     "end_time": "2023-12-15T05:49:48.750357Z",
     "start_time": "2023-12-15T05:49:48.744778Z"
    }
   },
   "outputs": [
    {
     "data": {
      "text/plain": [
       "array([1, 3, 5, 7, 9])"
      ]
     },
     "execution_count": 127,
     "metadata": {},
     "output_type": "execute_result"
    }
   ],
   "source": [
    "a[:]"
   ]
  },
  {
   "cell_type": "code",
   "execution_count": 128,
   "id": "7ca518b6",
   "metadata": {
    "ExecuteTime": {
     "end_time": "2023-12-15T05:49:53.308022Z",
     "start_time": "2023-12-15T05:49:53.303956Z"
    }
   },
   "outputs": [
    {
     "data": {
      "text/plain": [
       "array([3, 5, 7, 9])"
      ]
     },
     "execution_count": 128,
     "metadata": {},
     "output_type": "execute_result"
    }
   ],
   "source": [
    "a[1:]"
   ]
  },
  {
   "cell_type": "code",
   "execution_count": 129,
   "id": "2e14e4b9",
   "metadata": {
    "ExecuteTime": {
     "end_time": "2023-12-15T05:50:02.517679Z",
     "start_time": "2023-12-15T05:50:02.512510Z"
    }
   },
   "outputs": [
    {
     "data": {
      "text/plain": [
       "array([9])"
      ]
     },
     "execution_count": 129,
     "metadata": {},
     "output_type": "execute_result"
    }
   ],
   "source": [
    "a[-1:]"
   ]
  },
  {
   "cell_type": "code",
   "execution_count": 130,
   "id": "945a0867",
   "metadata": {
    "ExecuteTime": {
     "end_time": "2023-12-15T05:50:26.516080Z",
     "start_time": "2023-12-15T05:50:26.511262Z"
    }
   },
   "outputs": [
    {
     "data": {
      "text/plain": [
       "array([1, 3, 5])"
      ]
     },
     "execution_count": 130,
     "metadata": {},
     "output_type": "execute_result"
    }
   ],
   "source": [
    "a[:3]"
   ]
  },
  {
   "cell_type": "code",
   "execution_count": 131,
   "id": "c76db3dd",
   "metadata": {
    "ExecuteTime": {
     "end_time": "2023-12-15T05:50:35.367991Z",
     "start_time": "2023-12-15T05:50:35.364013Z"
    }
   },
   "outputs": [
    {
     "data": {
      "text/plain": [
       "array([1, 3, 5, 7])"
      ]
     },
     "execution_count": 131,
     "metadata": {},
     "output_type": "execute_result"
    }
   ],
   "source": [
    "a[:-1]"
   ]
  },
  {
   "cell_type": "code",
   "execution_count": 132,
   "id": "d07b954e",
   "metadata": {
    "ExecuteTime": {
     "end_time": "2023-12-15T06:02:48.774544Z",
     "start_time": "2023-12-15T06:02:48.769340Z"
    }
   },
   "outputs": [
    {
     "data": {
      "text/plain": [
       "array([3, 5, 7])"
      ]
     },
     "execution_count": 132,
     "metadata": {},
     "output_type": "execute_result"
    }
   ],
   "source": [
    "a[1:4]"
   ]
  },
  {
   "cell_type": "code",
   "execution_count": 133,
   "id": "37a334df",
   "metadata": {
    "ExecuteTime": {
     "end_time": "2023-12-15T06:02:57.346983Z",
     "start_time": "2023-12-15T06:02:57.342117Z"
    }
   },
   "outputs": [
    {
     "data": {
      "text/plain": [
       "array([3, 5, 7])"
      ]
     },
     "execution_count": 133,
     "metadata": {},
     "output_type": "execute_result"
    }
   ],
   "source": [
    "a[1:-1]"
   ]
  },
  {
   "cell_type": "code",
   "execution_count": 134,
   "id": "55a46591",
   "metadata": {
    "ExecuteTime": {
     "end_time": "2023-12-15T06:03:40.390728Z",
     "start_time": "2023-12-15T06:03:40.386145Z"
    }
   },
   "outputs": [
    {
     "data": {
      "text/plain": [
       "array([0, 1, 2, 3, 4, 5, 6, 7, 8, 9])"
      ]
     },
     "execution_count": 134,
     "metadata": {},
     "output_type": "execute_result"
    }
   ],
   "source": [
    "a = np.arange(10)\n",
    "a"
   ]
  },
  {
   "cell_type": "code",
   "execution_count": 135,
   "id": "ed6eb4ad",
   "metadata": {
    "ExecuteTime": {
     "end_time": "2023-12-15T06:03:52.873032Z",
     "start_time": "2023-12-15T06:03:52.867535Z"
    }
   },
   "outputs": [
    {
     "data": {
      "text/plain": [
       "array([0, 2, 4, 6, 8])"
      ]
     },
     "execution_count": 135,
     "metadata": {},
     "output_type": "execute_result"
    }
   ],
   "source": [
    "a[::2] #스텝"
   ]
  },
  {
   "cell_type": "code",
   "execution_count": 137,
   "id": "6e716c3d",
   "metadata": {
    "ExecuteTime": {
     "end_time": "2023-12-15T06:04:16.213504Z",
     "start_time": "2023-12-15T06:04:16.207091Z"
    }
   },
   "outputs": [
    {
     "data": {
      "text/plain": [
       "array([0, 5])"
      ]
     },
     "execution_count": 137,
     "metadata": {},
     "output_type": "execute_result"
    }
   ],
   "source": [
    "a[::5]"
   ]
  },
  {
   "cell_type": "code",
   "execution_count": 138,
   "id": "5eac90fd",
   "metadata": {
    "ExecuteTime": {
     "end_time": "2023-12-15T06:04:35.683131Z",
     "start_time": "2023-12-15T06:04:35.678743Z"
    }
   },
   "outputs": [
    {
     "data": {
      "text/plain": [
       "array([9, 8, 7, 6, 5, 4, 3, 2, 1, 0])"
      ]
     },
     "execution_count": 138,
     "metadata": {},
     "output_type": "execute_result"
    }
   ],
   "source": [
    "a[::-1] #역순"
   ]
  },
  {
   "cell_type": "code",
   "execution_count": 142,
   "id": "3dee7bd1",
   "metadata": {
    "ExecuteTime": {
     "end_time": "2023-12-15T06:05:08.083149Z",
     "start_time": "2023-12-15T06:05:08.077330Z"
    }
   },
   "outputs": [
    {
     "data": {
      "text/plain": [
       "array([1, 3, 5, 7, 9])"
      ]
     },
     "execution_count": 142,
     "metadata": {},
     "output_type": "execute_result"
    }
   ],
   "source": [
    "a[1::2] # 홀수만"
   ]
  },
  {
   "cell_type": "code",
   "execution_count": 143,
   "id": "aa64211c",
   "metadata": {
    "ExecuteTime": {
     "end_time": "2023-12-15T06:05:36.283000Z",
     "start_time": "2023-12-15T06:05:36.278546Z"
    }
   },
   "outputs": [
    {
     "data": {
      "text/plain": [
       "array([0, 2, 4, 6])"
      ]
     },
     "execution_count": 143,
     "metadata": {},
     "output_type": "execute_result"
    }
   ],
   "source": [
    "a[:-2:2]"
   ]
  },
  {
   "cell_type": "code",
   "execution_count": 144,
   "id": "e5802799",
   "metadata": {
    "ExecuteTime": {
     "end_time": "2023-12-15T06:06:19.663254Z",
     "start_time": "2023-12-15T06:06:19.658284Z"
    }
   },
   "outputs": [
    {
     "data": {
      "text/plain": [
       "array([2, 4, 6])"
      ]
     },
     "execution_count": 144,
     "metadata": {},
     "output_type": "execute_result"
    }
   ],
   "source": [
    "a[2:-2:2]"
   ]
  },
  {
   "cell_type": "code",
   "execution_count": 145,
   "id": "94a4c6e1",
   "metadata": {
    "ExecuteTime": {
     "end_time": "2023-12-15T06:06:33.973825Z",
     "start_time": "2023-12-15T06:06:33.968942Z"
    }
   },
   "outputs": [
    {
     "data": {
      "text/plain": [
       "(array([[10, 11, 12, 13, 14],\n",
       "        [15, 16, 17, 18, 19],\n",
       "        [20, 21, 22, 23, 24]]),\n",
       " 2,\n",
       " (3, 5),\n",
       " 15)"
      ]
     },
     "execution_count": 145,
     "metadata": {},
     "output_type": "execute_result"
    }
   ],
   "source": [
    "# 2차원\n",
    "\n",
    "a = np.arange(10, 25).reshape(3, 5)\n",
    "a, a.ndim, a.shape, a.size"
   ]
  },
  {
   "cell_type": "code",
   "execution_count": 146,
   "id": "9a87b143",
   "metadata": {
    "ExecuteTime": {
     "end_time": "2023-12-15T06:06:39.282836Z",
     "start_time": "2023-12-15T06:06:39.278450Z"
    }
   },
   "outputs": [
    {
     "data": {
      "text/plain": [
       "array([[10, 11, 12, 13, 14],\n",
       "       [15, 16, 17, 18, 19],\n",
       "       [20, 21, 22, 23, 24]])"
      ]
     },
     "execution_count": 146,
     "metadata": {},
     "output_type": "execute_result"
    }
   ],
   "source": [
    "a[:]"
   ]
  },
  {
   "cell_type": "code",
   "execution_count": 147,
   "id": "18d97461",
   "metadata": {
    "ExecuteTime": {
     "end_time": "2023-12-15T06:06:47.563135Z",
     "start_time": "2023-12-15T06:06:47.557597Z"
    }
   },
   "outputs": [
    {
     "data": {
      "text/plain": [
       "array([[15, 16, 17, 18, 19],\n",
       "       [20, 21, 22, 23, 24]])"
      ]
     },
     "execution_count": 147,
     "metadata": {},
     "output_type": "execute_result"
    }
   ],
   "source": [
    "a[1:]"
   ]
  },
  {
   "cell_type": "code",
   "execution_count": 148,
   "id": "0261d743",
   "metadata": {
    "ExecuteTime": {
     "end_time": "2023-12-15T06:07:05.992933Z",
     "start_time": "2023-12-15T06:07:05.977049Z"
    }
   },
   "outputs": [
    {
     "data": {
      "text/plain": [
       "array([], shape=(0, 5), dtype=int32)"
      ]
     },
     "execution_count": 148,
     "metadata": {},
     "output_type": "execute_result"
    }
   ],
   "source": [
    "a[3:]"
   ]
  },
  {
   "cell_type": "code",
   "execution_count": 149,
   "id": "75a12008",
   "metadata": {
    "ExecuteTime": {
     "end_time": "2023-12-15T06:07:32.715162Z",
     "start_time": "2023-12-15T06:07:32.710291Z"
    }
   },
   "outputs": [
    {
     "data": {
      "text/plain": [
       "array([[20, 21, 22, 23, 24]])"
      ]
     },
     "execution_count": 149,
     "metadata": {},
     "output_type": "execute_result"
    }
   ],
   "source": [
    "a[-1:]"
   ]
  },
  {
   "cell_type": "code",
   "execution_count": 150,
   "id": "60a1190e",
   "metadata": {
    "ExecuteTime": {
     "end_time": "2023-12-15T06:07:38.718581Z",
     "start_time": "2023-12-15T06:07:38.712783Z"
    }
   },
   "outputs": [
    {
     "data": {
      "text/plain": [
       "array([[10, 11, 12, 13, 14],\n",
       "       [15, 16, 17, 18, 19],\n",
       "       [20, 21, 22, 23, 24]])"
      ]
     },
     "execution_count": 150,
     "metadata": {},
     "output_type": "execute_result"
    }
   ],
   "source": [
    "a[-3:] # -3 = 0 행"
   ]
  },
  {
   "cell_type": "code",
   "execution_count": 152,
   "id": "b6161a98",
   "metadata": {
    "ExecuteTime": {
     "end_time": "2023-12-15T06:09:10.636281Z",
     "start_time": "2023-12-15T06:09:10.631059Z"
    }
   },
   "outputs": [
    {
     "data": {
      "text/plain": [
       "array([], shape=(0, 5), dtype=int32)"
      ]
     },
     "execution_count": 152,
     "metadata": {},
     "output_type": "execute_result"
    }
   ],
   "source": [
    "a[:0] #마지막 인덱스는 -1 값 출력"
   ]
  },
  {
   "cell_type": "code",
   "execution_count": 153,
   "id": "b6288c51",
   "metadata": {
    "ExecuteTime": {
     "end_time": "2023-12-15T06:09:22.305374Z",
     "start_time": "2023-12-15T06:09:22.299028Z"
    }
   },
   "outputs": [
    {
     "data": {
      "text/plain": [
       "array([[10, 11, 12, 13, 14],\n",
       "       [15, 16, 17, 18, 19]])"
      ]
     },
     "execution_count": 153,
     "metadata": {},
     "output_type": "execute_result"
    }
   ],
   "source": [
    "a[:-1]"
   ]
  },
  {
   "cell_type": "code",
   "execution_count": 154,
   "id": "75a95e5c",
   "metadata": {
    "ExecuteTime": {
     "end_time": "2023-12-15T06:09:26.475396Z",
     "start_time": "2023-12-15T06:09:26.469110Z"
    }
   },
   "outputs": [
    {
     "data": {
      "text/plain": [
       "array([[10, 11, 12, 13, 14]])"
      ]
     },
     "execution_count": 154,
     "metadata": {},
     "output_type": "execute_result"
    }
   ],
   "source": [
    "a[:-2]"
   ]
  },
  {
   "cell_type": "code",
   "execution_count": 155,
   "id": "476f4e81",
   "metadata": {
    "ExecuteTime": {
     "end_time": "2023-12-15T06:09:37.063801Z",
     "start_time": "2023-12-15T06:09:37.057668Z"
    }
   },
   "outputs": [
    {
     "data": {
      "text/plain": [
       "array([[15, 16, 17, 18, 19]])"
      ]
     },
     "execution_count": 155,
     "metadata": {},
     "output_type": "execute_result"
    }
   ],
   "source": [
    "a[1:-1]"
   ]
  },
  {
   "cell_type": "code",
   "execution_count": 158,
   "id": "113ba575",
   "metadata": {
    "ExecuteTime": {
     "end_time": "2023-12-15T06:11:22.964304Z",
     "start_time": "2023-12-15T06:11:22.958993Z"
    }
   },
   "outputs": [
    {
     "data": {
      "text/plain": [
       "array([[10, 11, 12, 13, 14],\n",
       "       [15, 16, 17, 18, 19]])"
      ]
     },
     "execution_count": 158,
     "metadata": {},
     "output_type": "execute_result"
    }
   ],
   "source": [
    "a[:2]"
   ]
  },
  {
   "cell_type": "code",
   "execution_count": 159,
   "id": "76116692",
   "metadata": {
    "ExecuteTime": {
     "end_time": "2023-12-15T06:13:50.960150Z",
     "start_time": "2023-12-15T06:13:50.954896Z"
    }
   },
   "outputs": [
    {
     "data": {
      "text/plain": [
       "array([[10, 11, 12, 13, 14],\n",
       "       [15, 16, 17, 18, 19],\n",
       "       [20, 21, 22, 23, 24]])"
      ]
     },
     "execution_count": 159,
     "metadata": {},
     "output_type": "execute_result"
    }
   ],
   "source": [
    "a[:,:] #행에 대한 범위, 열에 대한 범위"
   ]
  },
  {
   "cell_type": "code",
   "execution_count": 160,
   "id": "531acf32",
   "metadata": {
    "ExecuteTime": {
     "end_time": "2023-12-15T06:14:05.807001Z",
     "start_time": "2023-12-15T06:14:05.801765Z"
    }
   },
   "outputs": [
    {
     "data": {
      "text/plain": [
       "array([[11, 12, 13, 14],\n",
       "       [16, 17, 18, 19],\n",
       "       [21, 22, 23, 24]])"
      ]
     },
     "execution_count": 160,
     "metadata": {},
     "output_type": "execute_result"
    }
   ],
   "source": [
    "a[:,1:]"
   ]
  },
  {
   "cell_type": "code",
   "execution_count": 161,
   "id": "6c1e4afc",
   "metadata": {
    "ExecuteTime": {
     "end_time": "2023-12-15T06:14:35.177063Z",
     "start_time": "2023-12-15T06:14:35.171914Z"
    }
   },
   "outputs": [
    {
     "data": {
      "text/plain": [
       "array([[13, 14],\n",
       "       [18, 19],\n",
       "       [23, 24]])"
      ]
     },
     "execution_count": 161,
     "metadata": {},
     "output_type": "execute_result"
    }
   ],
   "source": [
    "a[:,3:]"
   ]
  },
  {
   "cell_type": "code",
   "execution_count": 162,
   "id": "b142e86a",
   "metadata": {
    "ExecuteTime": {
     "end_time": "2023-12-15T06:15:29.717779Z",
     "start_time": "2023-12-15T06:15:29.713087Z"
    }
   },
   "outputs": [
    {
     "data": {
      "text/plain": [
       "array([[14],\n",
       "       [19],\n",
       "       [24]])"
      ]
     },
     "execution_count": 162,
     "metadata": {},
     "output_type": "execute_result"
    }
   ],
   "source": [
    "a[:,-1:]"
   ]
  },
  {
   "cell_type": "code",
   "execution_count": 163,
   "id": "cc185e6e",
   "metadata": {
    "ExecuteTime": {
     "end_time": "2023-12-15T06:15:46.769052Z",
     "start_time": "2023-12-15T06:15:46.754912Z"
    }
   },
   "outputs": [
    {
     "data": {
      "text/plain": [
       "array([[11, 12, 13, 14],\n",
       "       [16, 17, 18, 19],\n",
       "       [21, 22, 23, 24]])"
      ]
     },
     "execution_count": 163,
     "metadata": {},
     "output_type": "execute_result"
    }
   ],
   "source": [
    "a[:,-4:]"
   ]
  },
  {
   "cell_type": "code",
   "execution_count": 165,
   "id": "e5120dd6",
   "metadata": {
    "ExecuteTime": {
     "end_time": "2023-12-15T06:16:24.736946Z",
     "start_time": "2023-12-15T06:16:24.732514Z"
    }
   },
   "outputs": [
    {
     "data": {
      "text/plain": [
       "array([[10, 11, 12, 13, 14],\n",
       "       [15, 16, 17, 18, 19],\n",
       "       [20, 21, 22, 23, 24]])"
      ]
     },
     "execution_count": 165,
     "metadata": {},
     "output_type": "execute_result"
    }
   ],
   "source": [
    "a"
   ]
  },
  {
   "cell_type": "code",
   "execution_count": 164,
   "id": "184dde3f",
   "metadata": {
    "ExecuteTime": {
     "end_time": "2023-12-15T06:16:16.851510Z",
     "start_time": "2023-12-15T06:16:16.846007Z"
    }
   },
   "outputs": [
    {
     "data": {
      "text/plain": [
       "array([[10],\n",
       "       [15],\n",
       "       [20]])"
      ]
     },
     "execution_count": 164,
     "metadata": {},
     "output_type": "execute_result"
    }
   ],
   "source": [
    "a[:,:1]"
   ]
  },
  {
   "cell_type": "code",
   "execution_count": 167,
   "id": "8d7b99aa",
   "metadata": {
    "ExecuteTime": {
     "end_time": "2023-12-15T06:16:44.657813Z",
     "start_time": "2023-12-15T06:16:44.652874Z"
    }
   },
   "outputs": [
    {
     "data": {
      "text/plain": [
       "array([[10, 11, 12, 13, 14],\n",
       "       [15, 16, 17, 18, 19],\n",
       "       [20, 21, 22, 23, 24]])"
      ]
     },
     "execution_count": 167,
     "metadata": {},
     "output_type": "execute_result"
    }
   ],
   "source": [
    "a[:,:5]"
   ]
  },
  {
   "cell_type": "code",
   "execution_count": 168,
   "id": "af4a68e0",
   "metadata": {
    "ExecuteTime": {
     "end_time": "2023-12-15T06:16:49.997076Z",
     "start_time": "2023-12-15T06:16:49.991987Z"
    }
   },
   "outputs": [
    {
     "data": {
      "text/plain": [
       "array([[10, 11, 12, 13],\n",
       "       [15, 16, 17, 18],\n",
       "       [20, 21, 22, 23]])"
      ]
     },
     "execution_count": 168,
     "metadata": {},
     "output_type": "execute_result"
    }
   ],
   "source": [
    "a[:,:-1]"
   ]
  },
  {
   "cell_type": "code",
   "execution_count": 169,
   "id": "c334bde8",
   "metadata": {
    "ExecuteTime": {
     "end_time": "2023-12-15T06:17:00.530402Z",
     "start_time": "2023-12-15T06:17:00.525542Z"
    }
   },
   "outputs": [
    {
     "data": {
      "text/plain": [
       "array([[10, 11, 12],\n",
       "       [15, 16, 17],\n",
       "       [20, 21, 22]])"
      ]
     },
     "execution_count": 169,
     "metadata": {},
     "output_type": "execute_result"
    }
   ],
   "source": [
    "a[:,:-2]"
   ]
  },
  {
   "cell_type": "code",
   "execution_count": 170,
   "id": "034dad8f",
   "metadata": {
    "ExecuteTime": {
     "end_time": "2023-12-15T06:17:17.449194Z",
     "start_time": "2023-12-15T06:17:17.444485Z"
    }
   },
   "outputs": [
    {
     "data": {
      "text/plain": [
       "array([[10],\n",
       "       [15],\n",
       "       [20]])"
      ]
     },
     "execution_count": 170,
     "metadata": {},
     "output_type": "execute_result"
    }
   ],
   "source": [
    "a[:,0:1]"
   ]
  },
  {
   "cell_type": "code",
   "execution_count": 171,
   "id": "beedfdcb",
   "metadata": {
    "ExecuteTime": {
     "end_time": "2023-12-15T06:17:29.687620Z",
     "start_time": "2023-12-15T06:17:29.683018Z"
    }
   },
   "outputs": [
    {
     "data": {
      "text/plain": [
       "array([[12],\n",
       "       [17],\n",
       "       [22]])"
      ]
     },
     "execution_count": 171,
     "metadata": {},
     "output_type": "execute_result"
    }
   ],
   "source": [
    "a[:,2:3]"
   ]
  },
  {
   "cell_type": "code",
   "execution_count": 172,
   "id": "2297aa36",
   "metadata": {
    "ExecuteTime": {
     "end_time": "2023-12-15T06:17:42.079979Z",
     "start_time": "2023-12-15T06:17:42.073799Z"
    }
   },
   "outputs": [
    {
     "data": {
      "text/plain": [
       "array([[11, 12, 13],\n",
       "       [16, 17, 18],\n",
       "       [21, 22, 23]])"
      ]
     },
     "execution_count": 172,
     "metadata": {},
     "output_type": "execute_result"
    }
   ],
   "source": [
    "a[:,1:-1]"
   ]
  },
  {
   "cell_type": "code",
   "execution_count": 174,
   "id": "cceb6418",
   "metadata": {
    "ExecuteTime": {
     "end_time": "2023-12-15T06:18:10.339651Z",
     "start_time": "2023-12-15T06:18:10.333299Z"
    }
   },
   "outputs": [
    {
     "data": {
      "text/plain": [
       "array([[10, 11, 12, 13, 14, 15, 16, 17, 18, 19],\n",
       "       [20, 21, 22, 23, 24, 25, 26, 27, 28, 29],\n",
       "       [30, 31, 32, 33, 34, 35, 36, 37, 38, 39],\n",
       "       [40, 41, 42, 43, 44, 45, 46, 47, 48, 49],\n",
       "       [50, 51, 52, 53, 54, 55, 56, 57, 58, 59],\n",
       "       [60, 61, 62, 63, 64, 65, 66, 67, 68, 69],\n",
       "       [70, 71, 72, 73, 74, 75, 76, 77, 78, 79],\n",
       "       [80, 81, 82, 83, 84, 85, 86, 87, 88, 89],\n",
       "       [90, 91, 92, 93, 94, 95, 96, 97, 98, 99]])"
      ]
     },
     "execution_count": 174,
     "metadata": {},
     "output_type": "execute_result"
    }
   ],
   "source": [
    "a = np.arange(10, 100).reshape(9,10)\n",
    "a"
   ]
  },
  {
   "cell_type": "code",
   "execution_count": 176,
   "id": "7bb1f7bf",
   "metadata": {
    "ExecuteTime": {
     "end_time": "2023-12-15T06:18:36.439220Z",
     "start_time": "2023-12-15T06:18:36.434129Z"
    }
   },
   "outputs": [
    {
     "data": {
      "text/plain": [
       "array([[30, 31, 32, 33, 34, 35, 36, 37, 38, 39],\n",
       "       [40, 41, 42, 43, 44, 45, 46, 47, 48, 49],\n",
       "       [50, 51, 52, 53, 54, 55, 56, 57, 58, 59]])"
      ]
     },
     "execution_count": 176,
     "metadata": {},
     "output_type": "execute_result"
    }
   ],
   "source": [
    "a[2:5, :] #시작은 포함, 끝은 제외"
   ]
  },
  {
   "cell_type": "code",
   "execution_count": 177,
   "id": "41e3f0d9",
   "metadata": {
    "ExecuteTime": {
     "end_time": "2023-12-15T06:18:59.087778Z",
     "start_time": "2023-12-15T06:18:59.083578Z"
    }
   },
   "outputs": [
    {
     "data": {
      "text/plain": [
       "array([[12, 13, 14],\n",
       "       [22, 23, 24],\n",
       "       [32, 33, 34],\n",
       "       [42, 43, 44],\n",
       "       [52, 53, 54],\n",
       "       [62, 63, 64],\n",
       "       [72, 73, 74],\n",
       "       [82, 83, 84],\n",
       "       [92, 93, 94]])"
      ]
     },
     "execution_count": 177,
     "metadata": {},
     "output_type": "execute_result"
    }
   ],
   "source": [
    "a[:, 2:5]"
   ]
  },
  {
   "cell_type": "code",
   "execution_count": 178,
   "id": "ec93ef38",
   "metadata": {
    "ExecuteTime": {
     "end_time": "2023-12-15T06:19:25.549232Z",
     "start_time": "2023-12-15T06:19:25.544321Z"
    }
   },
   "outputs": [
    {
     "data": {
      "text/plain": [
       "array([[32, 33, 34],\n",
       "       [42, 43, 44],\n",
       "       [52, 53, 54]])"
      ]
     },
     "execution_count": 178,
     "metadata": {},
     "output_type": "execute_result"
    }
   ],
   "source": [
    "a[2:5, 2:5]"
   ]
  },
  {
   "cell_type": "code",
   "execution_count": 179,
   "id": "093dc662",
   "metadata": {
    "ExecuteTime": {
     "end_time": "2023-12-15T06:20:25.913080Z",
     "start_time": "2023-12-15T06:20:25.909142Z"
    }
   },
   "outputs": [
    {
     "data": {
      "text/plain": [
       "array([[10, 12, 14, 16, 18],\n",
       "       [30, 32, 34, 36, 38],\n",
       "       [50, 52, 54, 56, 58],\n",
       "       [70, 72, 74, 76, 78],\n",
       "       [90, 92, 94, 96, 98]])"
      ]
     },
     "execution_count": 179,
     "metadata": {},
     "output_type": "execute_result"
    }
   ],
   "source": [
    "a[::2, ::2]"
   ]
  },
  {
   "cell_type": "code",
   "execution_count": 181,
   "id": "686e8892",
   "metadata": {
    "ExecuteTime": {
     "end_time": "2023-12-15T06:21:01.609323Z",
     "start_time": "2023-12-15T06:21:01.604425Z"
    }
   },
   "outputs": [
    {
     "data": {
      "text/plain": [
       "array([[10, 11, 12, 13, 14, 15, 16, 17, 18, 19],\n",
       "       [20, 21, 22, 23, 24, 25, 26, 27, 28, 29],\n",
       "       [30, 31, 32, 33, 34, 35, 36, 37, 38, 39],\n",
       "       [40, 41, 42, 43, 44, 45, 46, 47, 48, 49],\n",
       "       [50, 51, 52, 53, 54, 55, 56, 57, 58, 59],\n",
       "       [60, 61, 62, 63, 64, 65, 66, 67, 68, 69],\n",
       "       [70, 71, 72, 73, 74, 75, 76, 77, 78, 79],\n",
       "       [80, 81, 82, 83, 84, 85, 86, 87, 88, 89],\n",
       "       [90, 91, 92, 93, 94, 95, 96, 97, 98, 99]])"
      ]
     },
     "execution_count": 181,
     "metadata": {},
     "output_type": "execute_result"
    }
   ],
   "source": [
    "a"
   ]
  },
  {
   "cell_type": "code",
   "execution_count": 182,
   "id": "e26f1960",
   "metadata": {
    "ExecuteTime": {
     "end_time": "2023-12-15T06:21:15.167355Z",
     "start_time": "2023-12-15T06:21:15.163340Z"
    }
   },
   "outputs": [
    {
     "data": {
      "text/plain": [
       "array([[99, 98, 97, 96, 95, 94, 93, 92, 91, 90],\n",
       "       [89, 88, 87, 86, 85, 84, 83, 82, 81, 80],\n",
       "       [79, 78, 77, 76, 75, 74, 73, 72, 71, 70],\n",
       "       [69, 68, 67, 66, 65, 64, 63, 62, 61, 60],\n",
       "       [59, 58, 57, 56, 55, 54, 53, 52, 51, 50],\n",
       "       [49, 48, 47, 46, 45, 44, 43, 42, 41, 40],\n",
       "       [39, 38, 37, 36, 35, 34, 33, 32, 31, 30],\n",
       "       [29, 28, 27, 26, 25, 24, 23, 22, 21, 20],\n",
       "       [19, 18, 17, 16, 15, 14, 13, 12, 11, 10]])"
      ]
     },
     "execution_count": 182,
     "metadata": {},
     "output_type": "execute_result"
    }
   ],
   "source": [
    "a[::-1, ::-1]"
   ]
  },
  {
   "cell_type": "code",
   "execution_count": 183,
   "id": "78851089",
   "metadata": {
    "ExecuteTime": {
     "end_time": "2023-12-15T06:22:16.441244Z",
     "start_time": "2023-12-15T06:22:16.425680Z"
    }
   },
   "outputs": [
    {
     "data": {
      "text/plain": [
       "(array([[ 1,  2,  3,  4,  5],\n",
       "        [ 6,  7,  8,  9, 10],\n",
       "        [11, 12, 13, 14, 15],\n",
       "        [16, 17, 18, 19, 20],\n",
       "        [21, 22, 23, 24, 25]]),\n",
       " numpy.ndarray,\n",
       " 2)"
      ]
     },
     "execution_count": 183,
     "metadata": {},
     "output_type": "execute_result"
    }
   ],
   "source": [
    "matrix_c = np.arange(1, 26).reshape(5,5)\n",
    "matrix_c, type(matrix_c), matrix_c.ndim"
   ]
  },
  {
   "cell_type": "markdown",
   "id": "2287df19",
   "metadata": {},
   "source": [
    "### 전치행렬\n",
    "* a의 각행을 열로 바꾼\n",
    "* 넘파이배열.T : 행과 열 구조 변경"
   ]
  },
  {
   "cell_type": "code",
   "execution_count": 184,
   "id": "609a6b10",
   "metadata": {
    "ExecuteTime": {
     "end_time": "2023-12-15T06:24:01.049893Z",
     "start_time": "2023-12-15T06:24:01.034150Z"
    }
   },
   "outputs": [
    {
     "data": {
      "text/plain": [
       "array([[1, 2],\n",
       "       [3, 4],\n",
       "       [5, 6]])"
      ]
     },
     "execution_count": 184,
     "metadata": {},
     "output_type": "execute_result"
    }
   ],
   "source": [
    "# 3행 2열\n",
    "matrix_d = np.arange(1,7).reshape(3,2)\n",
    "matrix_d"
   ]
  },
  {
   "cell_type": "code",
   "execution_count": 185,
   "id": "3fdde29d",
   "metadata": {
    "ExecuteTime": {
     "end_time": "2023-12-15T06:24:10.369203Z",
     "start_time": "2023-12-15T06:24:10.365192Z"
    }
   },
   "outputs": [
    {
     "name": "stdout",
     "output_type": "stream",
     "text": [
      "[[1 3 5]\n",
      " [2 4 6]]\n"
     ]
    }
   ],
   "source": [
    "# 2행 3열로 변환 T\n",
    "print(matrix_d.T)"
   ]
  },
  {
   "cell_type": "code",
   "execution_count": 186,
   "id": "d34ea1d1",
   "metadata": {
    "ExecuteTime": {
     "end_time": "2023-12-15T06:26:13.131882Z",
     "start_time": "2023-12-15T06:26:13.128300Z"
    }
   },
   "outputs": [
    {
     "name": "stdout",
     "output_type": "stream",
     "text": [
      "[[1 2 3]\n",
      " [4 5 6]]\n"
     ]
    }
   ],
   "source": [
    "print(matrix_d.reshape(2,3)) #리쉐입은 한번 쭉 나열 후(플래튼) 구조 변경"
   ]
  },
  {
   "cell_type": "markdown",
   "id": "3a808267",
   "metadata": {
    "ExecuteTime": {
     "end_time": "2023-12-15T06:27:12.245804Z",
     "start_time": "2023-12-15T06:27:12.239031Z"
    }
   },
   "source": [
    "### 난수로 구성된 넘파이 배열\n",
    "* np.random.randint(start, end, n) : 정수 난수\n",
    "* np.random.randint(start, end, (i, j) "
   ]
  },
  {
   "cell_type": "code",
   "execution_count": null,
   "id": "d3acee07",
   "metadata": {},
   "outputs": [],
   "source": [
    "np.random?"
   ]
  },
  {
   "cell_type": "code",
   "execution_count": 188,
   "id": "b3e37e37",
   "metadata": {
    "ExecuteTime": {
     "end_time": "2023-12-15T06:27:28.258689Z",
     "start_time": "2023-12-15T06:27:28.248365Z"
    }
   },
   "outputs": [
    {
     "data": {
      "text/plain": [
       "array([9, 1, 8, 4, 1, 3, 4, 2, 7, 8])"
      ]
     },
     "execution_count": 188,
     "metadata": {},
     "output_type": "execute_result"
    }
   ],
   "source": [
    "# 1~10 사이의 숫자중에서 랜덤으로 10개 출력\n",
    "np.random.randint(1, 10, 10)"
   ]
  },
  {
   "cell_type": "code",
   "execution_count": 189,
   "id": "83dd246b",
   "metadata": {
    "ExecuteTime": {
     "end_time": "2023-12-15T06:27:42.054130Z",
     "start_time": "2023-12-15T06:27:42.048752Z"
    }
   },
   "outputs": [
    {
     "data": {
      "text/plain": [
       "array([[7, 2, 9, 8, 6],\n",
       "       [1, 7, 2, 4, 1]])"
      ]
     },
     "execution_count": 189,
     "metadata": {},
     "output_type": "execute_result"
    }
   ],
   "source": [
    "# 2행 5열로 랜덤하게 츨력\n",
    "np.random.randint(1, 10, (2,5))"
   ]
  },
  {
   "cell_type": "markdown",
   "id": "79bd8359",
   "metadata": {},
   "source": [
    "### 섞기\n",
    "np.random.shuffle(넘파이배열) 원본에 바로 적용"
   ]
  },
  {
   "cell_type": "code",
   "execution_count": null,
   "id": "f56aa425",
   "metadata": {},
   "outputs": [],
   "source": [
    "np.random.shuffle?"
   ]
  },
  {
   "cell_type": "code",
   "execution_count": 190,
   "id": "50257af6",
   "metadata": {
    "ExecuteTime": {
     "end_time": "2023-12-15T06:28:29.391489Z",
     "start_time": "2023-12-15T06:28:29.386704Z"
    }
   },
   "outputs": [
    {
     "data": {
      "text/plain": [
       "array([ 1,  2,  3,  4,  5,  6,  7,  8,  9, 10])"
      ]
     },
     "execution_count": 190,
     "metadata": {},
     "output_type": "execute_result"
    }
   ],
   "source": [
    "# 10개 무작위 값 만들기\n",
    "matrix_e = np.arange(1,11)\n",
    "matrix_e"
   ]
  },
  {
   "cell_type": "code",
   "execution_count": 191,
   "id": "239680d0",
   "metadata": {
    "ExecuteTime": {
     "end_time": "2023-12-15T06:28:34.505998Z",
     "start_time": "2023-12-15T06:28:34.490012Z"
    }
   },
   "outputs": [
    {
     "data": {
      "text/plain": [
       "array([ 4, 10,  3,  9,  2,  8,  7,  1,  5,  6])"
      ]
     },
     "execution_count": 191,
     "metadata": {},
     "output_type": "execute_result"
    }
   ],
   "source": [
    "np.random.shuffle(matrix_e)\n",
    "matrix_e"
   ]
  },
  {
   "cell_type": "code",
   "execution_count": 199,
   "id": "b5c6b091",
   "metadata": {
    "ExecuteTime": {
     "end_time": "2023-12-15T06:31:20.274013Z",
     "start_time": "2023-12-15T06:31:20.268503Z"
    }
   },
   "outputs": [
    {
     "data": {
      "text/plain": [
       "array([42, 34, 28, 42, 35,  7])"
      ]
     },
     "execution_count": 199,
     "metadata": {},
     "output_type": "execute_result"
    }
   ],
   "source": [
    "# Quiz : 1~45까지 구성된 숫자 중에서 6개를 뽑아서 로또 번호를 생성하라\n",
    "\n",
    "np.random.randint(1, 46, 6)"
   ]
  },
  {
   "cell_type": "code",
   "execution_count": 200,
   "id": "bd48823b",
   "metadata": {
    "ExecuteTime": {
     "end_time": "2023-12-15T06:31:36.502864Z",
     "start_time": "2023-12-15T06:31:36.497052Z"
    }
   },
   "outputs": [
    {
     "data": {
      "text/plain": [
       "array([ 4,  9, 41, 12, 39, 11])"
      ]
     },
     "execution_count": 200,
     "metadata": {},
     "output_type": "execute_result"
    }
   ],
   "source": [
    "num= np.arange(1,47)\n",
    "np.random.shuffle(num)\n",
    "num[:6]"
   ]
  },
  {
   "cell_type": "markdown",
   "id": "e119ceac",
   "metadata": {},
   "source": [
    "### 실수 난수\n",
    "np.random.randn(n) np.random.randn(i, j)"
   ]
  },
  {
   "cell_type": "code",
   "execution_count": 201,
   "id": "24c78ca3",
   "metadata": {
    "ExecuteTime": {
     "end_time": "2023-12-15T06:31:54.807114Z",
     "start_time": "2023-12-15T06:31:54.801135Z"
    }
   },
   "outputs": [],
   "source": [
    "np.random.randn?"
   ]
  },
  {
   "cell_type": "code",
   "execution_count": 202,
   "id": "912a5b27",
   "metadata": {
    "ExecuteTime": {
     "end_time": "2023-12-15T06:32:03.205906Z",
     "start_time": "2023-12-15T06:32:03.198476Z"
    }
   },
   "outputs": [
    {
     "data": {
      "text/plain": [
       "array([ 1.74158487,  0.86538833,  0.64886165,  0.00330931, -0.92354546,\n",
       "       -0.44738542,  0.19466394, -0.82775202, -0.12988071,  0.24167518])"
      ]
     },
     "execution_count": 202,
     "metadata": {},
     "output_type": "execute_result"
    }
   ],
   "source": [
    "matrix1 = np.random.randn(10) # 표준정규분포 0 ~ 분산1 **많이사용\n",
    "matrix1"
   ]
  },
  {
   "cell_type": "code",
   "execution_count": 203,
   "id": "d8e1c183",
   "metadata": {
    "ExecuteTime": {
     "end_time": "2023-12-15T06:32:28.015446Z",
     "start_time": "2023-12-15T06:32:28.010848Z"
    }
   },
   "outputs": [
    {
     "data": {
      "text/plain": [
       "array([[-1.2862547 , -1.46972961, -0.82916837,  0.54874692],\n",
       "       [ 0.95881989, -0.02195207, -0.28854837, -2.33990635],\n",
       "       [-1.06887046, -1.37752151,  0.15757014, -1.05945409],\n",
       "       [-0.33606096,  0.7377191 , -0.00751576, -0.94947016]])"
      ]
     },
     "execution_count": 203,
     "metadata": {},
     "output_type": "execute_result"
    }
   ],
   "source": [
    "matrix2 = np.random.randn(4, 4)\n",
    "matrix2"
   ]
  },
  {
   "cell_type": "code",
   "execution_count": 204,
   "id": "9e46a6f1",
   "metadata": {
    "ExecuteTime": {
     "end_time": "2023-12-15T06:32:33.474164Z",
     "start_time": "2023-12-15T06:32:33.468012Z"
    }
   },
   "outputs": [
    {
     "data": {
      "text/plain": [
       "(1.7415848721567797, -0.9235454612116828)"
      ]
     },
     "execution_count": 204,
     "metadata": {},
     "output_type": "execute_result"
    }
   ],
   "source": [
    "matrix1.max(), matrix1.min()"
   ]
  },
  {
   "cell_type": "markdown",
   "id": "5a916bab",
   "metadata": {
    "ExecuteTime": {
     "end_time": "2023-12-15T06:33:03.353979Z",
     "start_time": "2023-12-15T06:33:03.349838Z"
    }
   },
   "source": [
    "### 집계함수에서의 축\n",
    "* 2차원에서의 집계합수(sum, mean)\n",
    "* axis = 0, 1\n",
    "* np.sum(넘파이배열, axis=0/1)\n",
    "* np.mean(넘파이배열, axis=0/1)\n",
    "* np.sort(넘파이배열, axis=0/1)"
   ]
  },
  {
   "cell_type": "code",
   "execution_count": 206,
   "id": "a2e0ed5e",
   "metadata": {
    "ExecuteTime": {
     "end_time": "2023-12-15T06:35:12.507321Z",
     "start_time": "2023-12-15T06:35:12.502307Z"
    }
   },
   "outputs": [
    {
     "data": {
      "text/plain": [
       "array([[43,  7, 11, 38,  1],\n",
       "       [47, 43, 44, 36,  6],\n",
       "       [48, 34, 44, 20, 14],\n",
       "       [16, 19, 25, 48, 13],\n",
       "       [26, 47, 25, 25, 36]])"
      ]
     },
     "execution_count": 206,
     "metadata": {},
     "output_type": "execute_result"
    }
   ],
   "source": [
    "m1 = np.random.randint(1, 50, (5,5))\n",
    "m1"
   ]
  },
  {
   "cell_type": "code",
   "execution_count": 207,
   "id": "fc04a9f2",
   "metadata": {
    "ExecuteTime": {
     "end_time": "2023-12-15T06:36:51.477592Z",
     "start_time": "2023-12-15T06:36:51.472589Z"
    }
   },
   "outputs": [
    {
     "data": {
      "text/plain": [
       "array([180, 150, 149, 167,  70])"
      ]
     },
     "execution_count": 207,
     "metadata": {},
     "output_type": "execute_result"
    }
   ],
   "source": [
    "# 차원이 많을 때 어느 방향으로 무엇을 계산할지 알려줌 axis\n",
    "\n",
    "np.sum(m1, axis=0) # (x)행 합계"
   ]
  },
  {
   "cell_type": "code",
   "execution_count": 210,
   "id": "efd59400",
   "metadata": {
    "ExecuteTime": {
     "end_time": "2023-12-15T06:39:45.540549Z",
     "start_time": "2023-12-15T06:39:45.535070Z"
    }
   },
   "outputs": [
    {
     "data": {
      "text/plain": [
       "100"
      ]
     },
     "execution_count": 210,
     "metadata": {},
     "output_type": "execute_result"
    }
   ],
   "source": [
    "# 1번째 행의 합계\n",
    "np.sum(m1[0,:], axis=0)"
   ]
  },
  {
   "cell_type": "markdown",
   "id": "1df0294d",
   "metadata": {},
   "source": [
    "### np.sort() 오름차순 정렬"
   ]
  },
  {
   "cell_type": "code",
   "execution_count": 211,
   "id": "958353df",
   "metadata": {
    "ExecuteTime": {
     "end_time": "2023-12-15T06:40:19.110005Z",
     "start_time": "2023-12-15T06:40:19.103961Z"
    }
   },
   "outputs": [
    {
     "data": {
      "text/plain": [
       "array([[34, 14, 47],\n",
       "       [41,  5, 46],\n",
       "       [47, 37, 49],\n",
       "       [49, 44, 26]])"
      ]
     },
     "execution_count": 211,
     "metadata": {},
     "output_type": "execute_result"
    }
   ],
   "source": [
    "# 정수 난수로 구성된 4x3\n",
    "m2 = np.random.randint(1, 50,(4,3))\n",
    "m2"
   ]
  },
  {
   "cell_type": "code",
   "execution_count": 213,
   "id": "4231017e",
   "metadata": {
    "ExecuteTime": {
     "end_time": "2023-12-15T06:40:42.358762Z",
     "start_time": "2023-12-15T06:40:42.352766Z"
    }
   },
   "outputs": [
    {
     "data": {
      "text/plain": [
       "array([[14, 34, 47],\n",
       "       [ 5, 41, 46],\n",
       "       [37, 47, 49],\n",
       "       [26, 44, 49]])"
      ]
     },
     "execution_count": 213,
     "metadata": {},
     "output_type": "execute_result"
    }
   ],
   "source": [
    "np.sort(m2) # 각 행 안의 요소가 오름차순 정렬"
   ]
  },
  {
   "cell_type": "code",
   "execution_count": 212,
   "id": "fb422dbe",
   "metadata": {
    "ExecuteTime": {
     "end_time": "2023-12-15T06:40:30.363866Z",
     "start_time": "2023-12-15T06:40:30.352925Z"
    }
   },
   "outputs": [
    {
     "data": {
      "text/plain": [
       "array([[34,  5, 26],\n",
       "       [41, 14, 46],\n",
       "       [47, 37, 47],\n",
       "       [49, 44, 49]])"
      ]
     },
     "execution_count": 212,
     "metadata": {},
     "output_type": "execute_result"
    }
   ],
   "source": [
    "np.sort(m2, axis=0) # 행방향(axis=0) 오름차순(요소별로)"
   ]
  },
  {
   "cell_type": "code",
   "execution_count": 214,
   "id": "e494e8f4",
   "metadata": {
    "ExecuteTime": {
     "end_time": "2023-12-15T06:43:19.354557Z",
     "start_time": "2023-12-15T06:43:19.347454Z"
    }
   },
   "outputs": [
    {
     "data": {
      "text/plain": [
       "array([[49, 44, 26],\n",
       "       [47, 37, 49],\n",
       "       [41,  5, 46],\n",
       "       [34, 14, 47]])"
      ]
     },
     "execution_count": 214,
     "metadata": {},
     "output_type": "execute_result"
    }
   ],
   "source": [
    "m2[::-1, ::] # 행전체가 역순으로 바뀌는 것과는 다르다"
   ]
  },
  {
   "cell_type": "code",
   "execution_count": 215,
   "id": "1fbdb9e0",
   "metadata": {
    "ExecuteTime": {
     "end_time": "2023-12-15T06:44:28.080926Z",
     "start_time": "2023-12-15T06:44:28.075926Z"
    }
   },
   "outputs": [
    {
     "data": {
      "text/plain": [
       "array([[14, 34, 47],\n",
       "       [ 5, 41, 46],\n",
       "       [37, 47, 49],\n",
       "       [26, 44, 49]])"
      ]
     },
     "execution_count": 215,
     "metadata": {},
     "output_type": "execute_result"
    }
   ],
   "source": [
    "np.sort(m2, axis=1) # 열방향 오름차순"
   ]
  },
  {
   "cell_type": "markdown",
   "id": "946384db",
   "metadata": {},
   "source": [
    "### 인덱스 소팅\n",
    "* np.argsort(넘파이배열, axis=0,1)\n",
    "* 정렬값을 인덱스로 반환 (np.sort()를 인덱스로)"
   ]
  },
  {
   "cell_type": "code",
   "execution_count": 216,
   "id": "25a024f3",
   "metadata": {
    "ExecuteTime": {
     "end_time": "2023-12-15T06:46:57.855906Z",
     "start_time": "2023-12-15T06:46:57.839099Z"
    }
   },
   "outputs": [
    {
     "data": {
      "text/plain": [
       "array([2, 1, 0], dtype=int64)"
      ]
     },
     "execution_count": 216,
     "metadata": {},
     "output_type": "execute_result"
    }
   ],
   "source": [
    "x = np.array([9,5,4])\n",
    "np.argsort(x) # 오름차순 정렬 4 5 9 의 인덱스 값 "
   ]
  },
  {
   "cell_type": "code",
   "execution_count": 217,
   "id": "d5d971ef",
   "metadata": {
    "ExecuteTime": {
     "end_time": "2023-12-15T06:47:49.263941Z",
     "start_time": "2023-12-15T06:47:49.258551Z"
    }
   },
   "outputs": [
    {
     "data": {
      "text/plain": [
       "array([4, 5, 9])"
      ]
     },
     "execution_count": 217,
     "metadata": {},
     "output_type": "execute_result"
    }
   ],
   "source": [
    "x[np.argsort(x)] # 인덱스값으로 실제 값 출력"
   ]
  },
  {
   "cell_type": "markdown",
   "id": "f95e79cf",
   "metadata": {},
   "source": [
    "#### 넘파이 배열 요소 추가와 삭제\n",
    "\n",
    "* 삽입\n",
    "    * np.insert(배열, 위치인덱스, 값, axis=0/1)\n",
    "    * 2차원인 경우 axis를 설정하지 않으면 1차원 배열로 변경되어 삽입출력\n",
    "* 삭제\n",
    "    * np.delete(배열명, 위치인덱스, axis=0/1)"
   ]
  },
  {
   "cell_type": "code",
   "execution_count": 3,
   "id": "3434a368",
   "metadata": {
    "ExecuteTime": {
     "end_time": "2023-12-18T04:21:25.715461Z",
     "start_time": "2023-12-18T04:21:25.697659Z"
    }
   },
   "outputs": [
    {
     "data": {
      "text/plain": [
       "array([ 1,  2,  3,  4,  5,  6,  7,  8,  9, 10])"
      ]
     },
     "execution_count": 3,
     "metadata": {},
     "output_type": "execute_result"
    }
   ],
   "source": [
    "m3 = np.arange(1,11)\n",
    "m3"
   ]
  },
  {
   "cell_type": "code",
   "execution_count": 5,
   "id": "92f402d1",
   "metadata": {
    "ExecuteTime": {
     "end_time": "2023-12-18T04:21:37.035332Z",
     "start_time": "2023-12-18T04:21:37.029805Z"
    }
   },
   "outputs": [
    {
     "data": {
      "text/plain": [
       "array([100,   1,   2,   3,   4,   5,   6,   7,   8,   9,  10])"
      ]
     },
     "execution_count": 5,
     "metadata": {},
     "output_type": "execute_result"
    }
   ],
   "source": [
    "# m3배열 0번 인덱스에 100을 넣자\n",
    "np.insert(m3, 0, 100)"
   ]
  },
  {
   "cell_type": "code",
   "execution_count": 10,
   "id": "0ca503c6",
   "metadata": {
    "ExecuteTime": {
     "end_time": "2023-12-18T04:22:09.793935Z",
     "start_time": "2023-12-18T04:22:09.789751Z"
    }
   },
   "outputs": [
    {
     "data": {
      "text/plain": [
       "10"
      ]
     },
     "execution_count": 10,
     "metadata": {},
     "output_type": "execute_result"
    }
   ],
   "source": [
    "m3[-1]"
   ]
  },
  {
   "cell_type": "code",
   "execution_count": null,
   "id": "49b91e68",
   "metadata": {},
   "outputs": [],
   "source": [
    "np.insert?"
   ]
  },
  {
   "cell_type": "code",
   "execution_count": 11,
   "id": "8e7e89c6",
   "metadata": {
    "ExecuteTime": {
     "end_time": "2023-12-18T04:22:29.325918Z",
     "start_time": "2023-12-18T04:22:29.321775Z"
    }
   },
   "outputs": [
    {
     "data": {
      "text/plain": [
       "array([  1,   2,   3,   4,   5,   6,   7,   8,   9, 500,  10])"
      ]
     },
     "execution_count": 11,
     "metadata": {},
     "output_type": "execute_result"
    }
   ],
   "source": [
    "# m3배열 -1번째 인덱스에 500 삽입\n",
    "np.insert(m3, -1, 500) # 인덱싱/슬라이싱 end처럼 인식"
   ]
  },
  {
   "cell_type": "code",
   "execution_count": 12,
   "id": "c5fc58d5",
   "metadata": {
    "ExecuteTime": {
     "end_time": "2023-12-18T04:22:48.196608Z",
     "start_time": "2023-12-18T04:22:48.191323Z"
    }
   },
   "outputs": [
    {
     "data": {
      "text/plain": [
       "array([  1,   2,   3,   4,   5,   6,   7,   8,   9,  10, 500])"
      ]
     },
     "execution_count": 12,
     "metadata": {},
     "output_type": "execute_result"
    }
   ],
   "source": [
    "np.insert(m3, len(m3), 500) # 끝에 삽입 "
   ]
  },
  {
   "cell_type": "code",
   "execution_count": 13,
   "id": "6f8a1036",
   "metadata": {
    "ExecuteTime": {
     "end_time": "2023-12-18T04:24:43.455210Z",
     "start_time": "2023-12-18T04:24:43.449802Z"
    }
   },
   "outputs": [
    {
     "data": {
      "text/plain": [
       "array([[1, 2, 3],\n",
       "       [4, 5, 6],\n",
       "       [7, 8, 9]])"
      ]
     },
     "execution_count": 13,
     "metadata": {},
     "output_type": "execute_result"
    }
   ],
   "source": [
    "m4 = np.arange(1,10).reshape(3,3)\n",
    "m4"
   ]
  },
  {
   "cell_type": "code",
   "execution_count": 14,
   "id": "ec5314cd",
   "metadata": {
    "ExecuteTime": {
     "end_time": "2023-12-18T04:24:49.905684Z",
     "start_time": "2023-12-18T04:24:49.900675Z"
    }
   },
   "outputs": [
    {
     "data": {
      "text/plain": [
       "array([100,   1,   2,   3,   4,   5,   6,   7,   8,   9])"
      ]
     },
     "execution_count": 14,
     "metadata": {},
     "output_type": "execute_result"
    }
   ],
   "source": [
    "np.insert(m4, 0, 100) # 2차원배열의 경우 axis 미설정시 1차원으로 변경되어 삽입(강제로 플래튼)"
   ]
  },
  {
   "cell_type": "code",
   "execution_count": 15,
   "id": "d7fc3bca",
   "metadata": {
    "ExecuteTime": {
     "end_time": "2023-12-18T04:25:03.644678Z",
     "start_time": "2023-12-18T04:25:03.638638Z"
    }
   },
   "outputs": [
    {
     "data": {
      "text/plain": [
       "array([[100,   1,   2,   3],\n",
       "       [100,   4,   5,   6],\n",
       "       [100,   7,   8,   9]])"
      ]
     },
     "execution_count": 15,
     "metadata": {},
     "output_type": "execute_result"
    }
   ],
   "source": [
    "# 1열으로 [100,100,100] 삽입\n",
    "np.insert(m4, 0, 100, axis=1) #열방향 0번째 인덱스에 삽입"
   ]
  },
  {
   "cell_type": "code",
   "execution_count": 16,
   "id": "21bf0480",
   "metadata": {
    "ExecuteTime": {
     "end_time": "2023-12-18T04:25:30.946058Z",
     "start_time": "2023-12-18T04:25:30.941011Z"
    }
   },
   "outputs": [
    {
     "data": {
      "text/plain": [
       "array([[100,   1,   2,   3],\n",
       "       [200,   4,   5,   6],\n",
       "       [300,   7,   8,   9]])"
      ]
     },
     "execution_count": 16,
     "metadata": {},
     "output_type": "execute_result"
    }
   ],
   "source": [
    "# 리스트로 삽입\n",
    "np.insert(m4, 0, [100,200,300], axis=1)"
   ]
  },
  {
   "cell_type": "code",
   "execution_count": 30,
   "id": "75a386ae",
   "metadata": {
    "ExecuteTime": {
     "end_time": "2023-12-18T04:30:11.506637Z",
     "start_time": "2023-12-18T04:30:11.501995Z"
    }
   },
   "outputs": [
    {
     "name": "stdout",
     "output_type": "stream",
     "text": [
      "[[1 2 3]\n",
      " [4 5 6]\n",
      " [7 8 9]]\n"
     ]
    },
    {
     "data": {
      "text/plain": [
       "((3, 3), 3, 3)"
      ]
     },
     "execution_count": 30,
     "metadata": {},
     "output_type": "execute_result"
    }
   ],
   "source": [
    "print(m4)\n",
    "m4.shape, m4.shape[1], len(m4)"
   ]
  },
  {
   "cell_type": "code",
   "execution_count": 18,
   "id": "6a8396df",
   "metadata": {
    "ExecuteTime": {
     "end_time": "2023-12-18T04:25:55.995615Z",
     "start_time": "2023-12-18T04:25:55.990074Z"
    }
   },
   "outputs": [
    {
     "data": {
      "text/plain": [
       "array([[  1,   2,   3, 100],\n",
       "       [  4,   5,   6, 200],\n",
       "       [  7,   8,   9, 300]])"
      ]
     },
     "execution_count": 18,
     "metadata": {},
     "output_type": "execute_result"
    }
   ],
   "source": [
    "# 마지막 컬럼으로 삽입\n",
    "# 배열명.shape[1] 칼럼 길이\n",
    "np.insert(m4, m4.shape[1], [100,200,300], axis=1)"
   ]
  },
  {
   "cell_type": "code",
   "execution_count": 19,
   "id": "ffdd83d7",
   "metadata": {
    "ExecuteTime": {
     "end_time": "2023-12-18T04:26:15.166358Z",
     "start_time": "2023-12-18T04:26:15.161342Z"
    }
   },
   "outputs": [
    {
     "data": {
      "text/plain": [
       "array([[  1,   2,   3],\n",
       "       [  4,   5,   6],\n",
       "       [  7,   8,   9],\n",
       "       [100, 200, 300]])"
      ]
     },
     "execution_count": 19,
     "metadata": {},
     "output_type": "execute_result"
    }
   ],
   "source": [
    "# 마지막 행에 삽입\n",
    "np.insert(m4, m4.shape[0], [100,200,300], axis=0)"
   ]
  },
  {
   "cell_type": "code",
   "execution_count": 20,
   "id": "274f19b3",
   "metadata": {
    "ExecuteTime": {
     "end_time": "2023-12-18T04:26:48.344410Z",
     "start_time": "2023-12-18T04:26:48.340258Z"
    }
   },
   "outputs": [
    {
     "data": {
      "text/plain": [
       "array([[1, 2, 3],\n",
       "       [4, 5, 6],\n",
       "       [7, 8, 9]])"
      ]
     },
     "execution_count": 20,
     "metadata": {},
     "output_type": "execute_result"
    }
   ],
   "source": [
    "m4"
   ]
  },
  {
   "cell_type": "code",
   "execution_count": 21,
   "id": "e8ff6e7d",
   "metadata": {
    "ExecuteTime": {
     "end_time": "2023-12-18T04:26:52.156760Z",
     "start_time": "2023-12-18T04:26:52.151244Z"
    }
   },
   "outputs": [
    {
     "data": {
      "text/plain": [
       "array([[4, 5, 6],\n",
       "       [7, 8, 9]])"
      ]
     },
     "execution_count": 21,
     "metadata": {},
     "output_type": "execute_result"
    }
   ],
   "source": [
    "np.delete(m4, 0, axis=0)"
   ]
  },
  {
   "cell_type": "markdown",
   "id": "e2aa7714",
   "metadata": {
    "ExecuteTime": {
     "end_time": "2023-12-18T04:27:08.097251Z",
     "start_time": "2023-12-18T04:27:08.080912Z"
    }
   },
   "source": [
    "#### 배열 합치기\n",
    "* np.vstack((배열1,배열2....)) : 세로 합치기\n",
    "* np.hstack((배열1,배열2....)) : 가로 합치기\n",
    "* np.concatenate((배열1, 배열2), axis=0/1 ) 2차원만 가능"
   ]
  },
  {
   "cell_type": "code",
   "execution_count": 23,
   "id": "766aa205",
   "metadata": {
    "ExecuteTime": {
     "end_time": "2023-12-18T04:27:18.915580Z",
     "start_time": "2023-12-18T04:27:18.910292Z"
    }
   },
   "outputs": [
    {
     "data": {
      "text/plain": [
       "array([[1, 2, 3],\n",
       "       [4, 5, 6]])"
      ]
     },
     "execution_count": 23,
     "metadata": {},
     "output_type": "execute_result"
    }
   ],
   "source": [
    "a = np.array([1,2,3])\n",
    "b = np.array([4,5,6])\n",
    "# 세로 합치기\n",
    "np.vstack((a,b))"
   ]
  },
  {
   "cell_type": "code",
   "execution_count": 24,
   "id": "a696edd5",
   "metadata": {
    "ExecuteTime": {
     "end_time": "2023-12-18T04:27:33.075452Z",
     "start_time": "2023-12-18T04:27:33.071078Z"
    }
   },
   "outputs": [
    {
     "data": {
      "text/plain": [
       "array([1, 2, 3, 4, 5, 6])"
      ]
     },
     "execution_count": 24,
     "metadata": {},
     "output_type": "execute_result"
    }
   ],
   "source": [
    "# 가로 합치기\n",
    "np.hstack((a,b))"
   ]
  },
  {
   "cell_type": "code",
   "execution_count": 25,
   "id": "aee572b7",
   "metadata": {
    "ExecuteTime": {
     "end_time": "2023-12-18T04:27:49.487287Z",
     "start_time": "2023-12-18T04:27:49.482400Z"
    }
   },
   "outputs": [
    {
     "data": {
      "text/plain": [
       "(array([[1, 2, 3]]), 2, (1, 3))"
      ]
     },
     "execution_count": 25,
     "metadata": {},
     "output_type": "execute_result"
    }
   ],
   "source": [
    "c = np.array([[1,2,3]]) # 2차원\n",
    "c, c.ndim, c.shape"
   ]
  },
  {
   "cell_type": "code",
   "execution_count": 26,
   "id": "e8583d65",
   "metadata": {
    "ExecuteTime": {
     "end_time": "2023-12-18T04:27:56.597957Z",
     "start_time": "2023-12-18T04:27:56.592473Z"
    }
   },
   "outputs": [
    {
     "data": {
      "text/plain": [
       "(array([[4, 5, 6]]), 2, (1, 3))"
      ]
     },
     "execution_count": 26,
     "metadata": {},
     "output_type": "execute_result"
    }
   ],
   "source": [
    "d = np.array([[4,5,6]]) # 2차원\n",
    "d, d.ndim, d.shape"
   ]
  },
  {
   "cell_type": "code",
   "execution_count": 27,
   "id": "66c6628b",
   "metadata": {
    "ExecuteTime": {
     "end_time": "2023-12-18T04:28:03.167390Z",
     "start_time": "2023-12-18T04:28:03.161957Z"
    }
   },
   "outputs": [
    {
     "data": {
      "text/plain": [
       "(array([[1, 2, 3],\n",
       "        [4, 5, 6]]),\n",
       " 2,\n",
       " (2, 3))"
      ]
     },
     "execution_count": 27,
     "metadata": {},
     "output_type": "execute_result"
    }
   ],
   "source": [
    "f = np.concatenate((c,d), axis=0) #행방향 합치기\n",
    "f, f.ndim, f.shape"
   ]
  },
  {
   "cell_type": "code",
   "execution_count": 28,
   "id": "6a393009",
   "metadata": {
    "ExecuteTime": {
     "end_time": "2023-12-18T04:28:10.490941Z",
     "start_time": "2023-12-18T04:28:10.485412Z"
    }
   },
   "outputs": [
    {
     "data": {
      "text/plain": [
       "(array([[1, 2, 3, 4, 5, 6]]), 2, (1, 6))"
      ]
     },
     "execution_count": 28,
     "metadata": {},
     "output_type": "execute_result"
    }
   ],
   "source": [
    "f = np.concatenate((c,d), axis=1) #열방향 합치기\n",
    "f, f.ndim, f.shape"
   ]
  },
  {
   "cell_type": "markdown",
   "id": "5fd7cab8",
   "metadata": {},
   "source": [
    "#### boolean indexing, mask\n",
    "* 조건절의 결과는 True, False로 반환\n",
    "* True인 결과의 데이터 반환\n",
    "* 넘파이배열[조건절] : ==, !=, <=, >=, &, |, ~"
   ]
  },
  {
   "cell_type": "code",
   "execution_count": 31,
   "id": "b0b1e4a6",
   "metadata": {
    "ExecuteTime": {
     "end_time": "2023-12-18T04:32:15.828733Z",
     "start_time": "2023-12-18T04:32:15.824357Z"
    }
   },
   "outputs": [
    {
     "data": {
      "text/plain": [
       "array([ 1,  2,  3,  4,  5,  6,  7,  8,  9, 10, 11, 12, 13, 14, 15, 16, 17,\n",
       "       18, 19, 20])"
      ]
     },
     "execution_count": 31,
     "metadata": {},
     "output_type": "execute_result"
    }
   ],
   "source": [
    "matrix = np.arange(1, 21)\n",
    "matrix"
   ]
  },
  {
   "cell_type": "code",
   "execution_count": 32,
   "id": "33bd9a40",
   "metadata": {
    "ExecuteTime": {
     "end_time": "2023-12-18T04:32:25.140889Z",
     "start_time": "2023-12-18T04:32:25.125392Z"
    }
   },
   "outputs": [
    {
     "data": {
      "text/plain": [
       "array([False, False, False, False, False, False, False, False, False,\n",
       "       False,  True,  True,  True,  True,  True,  True,  True,  True,\n",
       "        True,  True])"
      ]
     },
     "execution_count": 32,
     "metadata": {},
     "output_type": "execute_result"
    }
   ],
   "source": [
    "# 불린 - 조건절\n",
    "matrix > 10"
   ]
  },
  {
   "cell_type": "code",
   "execution_count": 33,
   "id": "2eee9a42",
   "metadata": {
    "ExecuteTime": {
     "end_time": "2023-12-18T04:33:09.619683Z",
     "start_time": "2023-12-18T04:33:09.614404Z"
    }
   },
   "outputs": [
    {
     "data": {
      "text/plain": [
       "array([11, 12, 13, 14, 15, 16, 17, 18, 19, 20])"
      ]
     },
     "execution_count": 33,
     "metadata": {},
     "output_type": "execute_result"
    }
   ],
   "source": [
    "# 불린 인덱싱\n",
    "matrix[matrix > 10]"
   ]
  },
  {
   "cell_type": "code",
   "execution_count": 34,
   "id": "b936345f",
   "metadata": {
    "ExecuteTime": {
     "end_time": "2023-12-18T04:33:57.621611Z",
     "start_time": "2023-12-18T04:33:57.616575Z"
    }
   },
   "outputs": [
    {
     "data": {
      "text/plain": [
       "10"
      ]
     },
     "execution_count": 34,
     "metadata": {},
     "output_type": "execute_result"
    }
   ],
   "source": [
    "# 조건에 맞는 개수가 몇개인가 (t = 1, f = 0 활용)\n",
    "(matrix > 10).sum()"
   ]
  },
  {
   "cell_type": "markdown",
   "id": "1ddede92",
   "metadata": {},
   "source": [
    "Quiz : 1~100사이 난수 30개를 추출하여 넘파이 배열을 생성하고, 30보다 크거나 70보다 작은 수를 출력하라"
   ]
  },
  {
   "cell_type": "code",
   "execution_count": 52,
   "id": "065d9f7c",
   "metadata": {
    "ExecuteTime": {
     "end_time": "2023-12-18T04:41:17.813974Z",
     "start_time": "2023-12-18T04:41:17.808215Z"
    }
   },
   "outputs": [
    {
     "data": {
      "text/plain": [
       "array([False, False, False,  True, False,  True, False,  True,  True,\n",
       "        True, False, False,  True,  True, False, False, False,  True,\n",
       "       False, False,  True, False, False,  True,  True, False, False,\n",
       "        True, False, False])"
      ]
     },
     "execution_count": 52,
     "metadata": {},
     "output_type": "execute_result"
    }
   ],
   "source": [
    "a = np.random.randint(1, 100, 30)\n",
    "(a > 30) & (a < 70)"
   ]
  },
  {
   "cell_type": "code",
   "execution_count": 55,
   "id": "09ffe2af",
   "metadata": {
    "ExecuteTime": {
     "end_time": "2023-12-18T04:41:46.820811Z",
     "start_time": "2023-12-18T04:41:46.815117Z"
    }
   },
   "outputs": [
    {
     "data": {
      "text/plain": [
       "(array([37, 74, 51, 88, 18, 38,  9, 48, 12, 29, 63, 66, 50, 90, 35, 35, 79,\n",
       "        15, 11, 52, 70, 28,  7, 51, 84,  6, 22, 47, 97,  4]),\n",
       " array([37, 51, 38, 48, 63, 66, 50, 35, 35, 52, 51, 47]))"
      ]
     },
     "execution_count": 55,
     "metadata": {},
     "output_type": "execute_result"
    }
   ],
   "source": [
    "a = np.random.randint(1, 100, 30)\n",
    "a, a[(a > 30) & (a < 70)]"
   ]
  },
  {
   "cell_type": "code",
   "execution_count": 59,
   "id": "948b01ba",
   "metadata": {
    "ExecuteTime": {
     "end_time": "2023-12-18T04:42:27.244543Z",
     "start_time": "2023-12-18T04:42:27.228618Z"
    }
   },
   "outputs": [
    {
     "data": {
      "text/plain": [
       "array([ 3, 29, 27, 30, 27, 11,  4,  3])"
      ]
     },
     "execution_count": 59,
     "metadata": {},
     "output_type": "execute_result"
    }
   ],
   "source": [
    "# ~ 은 reverse를 의미\n",
    "num = np.random.randint(1, 100, 30)\n",
    "num[~(num > 30) & (num < 70)]"
   ]
  },
  {
   "cell_type": "code",
   "execution_count": 60,
   "id": "e77952ba",
   "metadata": {
    "ExecuteTime": {
     "end_time": "2023-12-18T04:42:29.331101Z",
     "start_time": "2023-12-18T04:42:29.325709Z"
    }
   },
   "outputs": [
    {
     "data": {
      "text/plain": [
       "array([ 3, 97,  4, 98,  3])"
      ]
     },
     "execution_count": 60,
     "metadata": {},
     "output_type": "execute_result"
    }
   ],
   "source": [
    "# 10보다 작거나 90보다 큰 수,\n",
    "num[(num < 10) | (num > 90)]"
   ]
  },
  {
   "cell_type": "code",
   "execution_count": 61,
   "id": "5cef43ef",
   "metadata": {
    "ExecuteTime": {
     "end_time": "2023-12-18T04:42:33.622612Z",
     "start_time": "2023-12-18T04:42:33.617127Z"
    }
   },
   "outputs": [
    {
     "data": {
      "text/plain": [
       "array([45, 82, 29, 68, 27, 72, 68, 30, 48, 48, 61, 44, 46, 27, 11, 80, 59,\n",
       "       46, 97, 79, 35, 67, 83, 98, 36, 76, 43])"
      ]
     },
     "execution_count": 61,
     "metadata": {},
     "output_type": "execute_result"
    }
   ],
   "source": [
    " num[~(num < 10) | (num > 90)]"
   ]
  },
  {
   "cell_type": "markdown",
   "id": "ea60d43e",
   "metadata": {
    "ExecuteTime": {
     "end_time": "2023-12-18T04:42:40.669624Z",
     "start_time": "2023-12-18T04:42:40.666605Z"
    }
   },
   "source": [
    "#### fancy indexing(filtering)"
   ]
  },
  {
   "cell_type": "code",
   "execution_count": 63,
   "id": "6e9964fb",
   "metadata": {
    "ExecuteTime": {
     "end_time": "2023-12-18T04:42:50.724525Z",
     "start_time": "2023-12-18T04:42:50.717233Z"
    }
   },
   "outputs": [
    {
     "data": {
      "text/plain": [
       "(array([90, 11, 46, 54, 49, 35, 22, 93, 24,  1, 31, 42, 38, 50, 91, 19, 60,\n",
       "        11, 95, 89, 11, 85, 47,  9, 99, 75, 58, 97, 94, 37]),\n",
       " array([90, 46, 54, 31, 11]))"
      ]
     },
     "execution_count": 63,
     "metadata": {},
     "output_type": "execute_result"
    }
   ],
   "source": [
    "n = np.random.randint(1,100,30)\n",
    "i = np.array([0, 2, 3, 10, 20])\n",
    "n, n[i]"
   ]
  },
  {
   "cell_type": "markdown",
   "id": "d8a1ec7c",
   "metadata": {},
   "source": [
    "#### np.where()를 이용한 필터링 *많이사용\n",
    "* np.where(조건식) : 조건식 만족하는 인덱스 반환\n",
    "* np.where(조건식, T, F) : 조건식 만족하면 T값, 아니면F값\n",
    "* 배열[np.where(조건식)] : 조건식 만족하는 실제 배열값"
   ]
  },
  {
   "cell_type": "code",
   "execution_count": 64,
   "id": "2e679ed4",
   "metadata": {
    "ExecuteTime": {
     "end_time": "2023-12-18T04:43:34.311616Z",
     "start_time": "2023-12-18T04:43:34.308091Z"
    }
   },
   "outputs": [],
   "source": [
    "np.where?"
   ]
  },
  {
   "cell_type": "code",
   "execution_count": 65,
   "id": "b74bc14e",
   "metadata": {
    "ExecuteTime": {
     "end_time": "2023-12-18T04:43:42.381757Z",
     "start_time": "2023-12-18T04:43:42.376911Z"
    }
   },
   "outputs": [
    {
     "data": {
      "text/plain": [
       "(array([0, 1, 2, 3, 4, 5, 6, 7, 8, 9]),\n",
       " array([ 0,  1,  2,  3,  4, 50, 60, 70, 80, 90]))"
      ]
     },
     "execution_count": 65,
     "metadata": {},
     "output_type": "execute_result"
    }
   ],
   "source": [
    "a = np.arange(10)\n",
    "a, np.where(a < 5, a, 10*a)\n",
    "# a가 5보다 작으면 a를, 아니면 10을 곱하여 출력"
   ]
  },
  {
   "cell_type": "code",
   "execution_count": 66,
   "id": "f6043e35",
   "metadata": {
    "ExecuteTime": {
     "end_time": "2023-12-18T04:44:40.142460Z",
     "start_time": "2023-12-18T04:44:40.126843Z"
    }
   },
   "outputs": [
    {
     "data": {
      "text/plain": [
       "(array([20, 21, 22, 23, 24, 25, 26, 27, 28, 29, 30]),\n",
       " (array([0, 1, 2, 3, 4], dtype=int64),))"
      ]
     },
     "execution_count": 66,
     "metadata": {},
     "output_type": "execute_result"
    }
   ],
   "source": [
    "b = np.arange(20, 31)\n",
    "b, np.where(b<25) # 조건을 하나만 주면 인덱스를 반환함"
   ]
  },
  {
   "cell_type": "code",
   "execution_count": null,
   "id": "cea8980c",
   "metadata": {},
   "outputs": [],
   "source": []
  }
 ],
 "metadata": {
  "kernelspec": {
   "display_name": "Python 3 (ipykernel)",
   "language": "python",
   "name": "python3"
  },
  "language_info": {
   "codemirror_mode": {
    "name": "ipython",
    "version": 3
   },
   "file_extension": ".py",
   "mimetype": "text/x-python",
   "name": "python",
   "nbconvert_exporter": "python",
   "pygments_lexer": "ipython3",
   "version": "3.11.5"
  },
  "toc": {
   "base_numbering": 1,
   "nav_menu": {},
   "number_sections": true,
   "sideBar": true,
   "skip_h1_title": false,
   "title_cell": "Table of Contents",
   "title_sidebar": "Contents",
   "toc_cell": false,
   "toc_position": {},
   "toc_section_display": true,
   "toc_window_display": false
  }
 },
 "nbformat": 4,
 "nbformat_minor": 5
}
