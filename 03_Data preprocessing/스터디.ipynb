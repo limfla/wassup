{
 "cells": [
  {
   "cell_type": "markdown",
   "id": "c47bacbe",
   "metadata": {},
   "source": [
    "### 12/21 스터디"
   ]
  },
  {
   "cell_type": "code",
   "execution_count": 6,
   "id": "1eb3bb68",
   "metadata": {
    "ExecuteTime": {
     "end_time": "2023-12-21T11:51:08.873794Z",
     "start_time": "2023-12-21T11:51:07.762379Z"
    }
   },
   "outputs": [],
   "source": [
    "import numpy as np\n",
    "import pandas as pd"
   ]
  },
  {
   "cell_type": "code",
   "execution_count": 30,
   "id": "aecfb134",
   "metadata": {
    "ExecuteTime": {
     "end_time": "2023-12-21T12:14:14.989860Z",
     "start_time": "2023-12-21T12:14:14.976377Z"
    }
   },
   "outputs": [
    {
     "data": {
      "text/html": [
       "<div>\n",
       "<style scoped>\n",
       "    .dataframe tbody tr th:only-of-type {\n",
       "        vertical-align: middle;\n",
       "    }\n",
       "\n",
       "    .dataframe tbody tr th {\n",
       "        vertical-align: top;\n",
       "    }\n",
       "\n",
       "    .dataframe thead th {\n",
       "        text-align: right;\n",
       "    }\n",
       "</style>\n",
       "<table border=\"1\" class=\"dataframe\">\n",
       "  <thead>\n",
       "    <tr style=\"text-align: right;\">\n",
       "      <th></th>\n",
       "      <th>이름</th>\n",
       "      <th>국어</th>\n",
       "      <th>영어</th>\n",
       "      <th>수학</th>\n",
       "      <th>과학</th>\n",
       "    </tr>\n",
       "    <tr>\n",
       "      <th>번호</th>\n",
       "      <th></th>\n",
       "      <th></th>\n",
       "      <th></th>\n",
       "      <th></th>\n",
       "      <th></th>\n",
       "    </tr>\n",
       "  </thead>\n",
       "  <tbody>\n",
       "    <tr>\n",
       "      <th>0</th>\n",
       "      <td>권은경</td>\n",
       "      <td>71</td>\n",
       "      <td>60</td>\n",
       "      <td>36</td>\n",
       "      <td>61</td>\n",
       "    </tr>\n",
       "    <tr>\n",
       "      <th>1</th>\n",
       "      <td>나혜미</td>\n",
       "      <td>6</td>\n",
       "      <td>96</td>\n",
       "      <td>41</td>\n",
       "      <td>61</td>\n",
       "    </tr>\n",
       "    <tr>\n",
       "      <th>2</th>\n",
       "      <td>백예숙</td>\n",
       "      <td>81</td>\n",
       "      <td>44</td>\n",
       "      <td>18</td>\n",
       "      <td>27</td>\n",
       "    </tr>\n",
       "    <tr>\n",
       "      <th>3</th>\n",
       "      <td>백지영</td>\n",
       "      <td>16</td>\n",
       "      <td>70</td>\n",
       "      <td>92</td>\n",
       "      <td>90</td>\n",
       "    </tr>\n",
       "    <tr>\n",
       "      <th>5</th>\n",
       "      <td>김다혜</td>\n",
       "      <td>42</td>\n",
       "      <td>85</td>\n",
       "      <td>24</td>\n",
       "      <td>88</td>\n",
       "    </tr>\n",
       "    <tr>\n",
       "      <th>7</th>\n",
       "      <td>문예성</td>\n",
       "      <td>55</td>\n",
       "      <td>40</td>\n",
       "      <td>49</td>\n",
       "      <td>59</td>\n",
       "    </tr>\n",
       "    <tr>\n",
       "      <th>8</th>\n",
       "      <td>박슬기</td>\n",
       "      <td>25</td>\n",
       "      <td>72</td>\n",
       "      <td>71</td>\n",
       "      <td>74</td>\n",
       "    </tr>\n",
       "  </tbody>\n",
       "</table>\n",
       "</div>"
      ],
      "text/plain": [
       "     이름  국어  영어  수학  과학\n",
       "번호                     \n",
       "0   권은경  71  60  36  61\n",
       "1   나혜미   6  96  41  61\n",
       "2   백예숙  81  44  18  27\n",
       "3   백지영  16  70  92  90\n",
       "5   김다혜  42  85  24  88\n",
       "7   문예성  55  40  49  59\n",
       "8   박슬기  25  72  71  74"
      ]
     },
     "execution_count": 30,
     "metadata": {},
     "output_type": "execute_result"
    }
   ],
   "source": [
    "# 데이터프레임 클래스\n",
    "\n",
    "data = {\n",
    "    '이름': ['권은경', '나혜미', '백예숙', '백지영', '이상아', '김다혜', '마준영', '문예성', '박슬기', '이준민'],\n",
    "    '국어': np.random.randint(1, 101, 10),\n",
    "    '영어': np.random.randint(1, 101, 10),\n",
    "    '수학': np.random.randint(1, 101, 10)\n",
    "}\n",
    "columns = ['이름', '국어', '영어', '수학']\n",
    "df = pd.DataFrame(data, columns = columns)\n",
    "\n",
    "df.index.name = '번호'\n",
    "df['과학'] = np.random.randint(1, 101, 10) # 열추가\n",
    "df.loc[10] = ['피승권', 12, 31, 14, 53] # 행추가 loc활용\n",
    "\n",
    "# 필터걸기\n",
    "df[(df['국어']>=50) | (df['영어']>=70)] #or 조건 (and &)"
   ]
  },
  {
   "cell_type": "code",
   "execution_count": 8,
   "id": "1ff8a2f2",
   "metadata": {
    "ExecuteTime": {
     "end_time": "2023-12-21T11:51:14.939845Z",
     "start_time": "2023-12-21T11:51:14.933051Z"
    }
   },
   "outputs": [
    {
     "data": {
      "text/plain": [
       "[array([26,  8, 90, 91, 82, 84, 83, 96, 91, 25])]"
      ]
     },
     "execution_count": 8,
     "metadata": {},
     "output_type": "execute_result"
    }
   ],
   "source": [
    "test = [np.random.randint(1, 101, 10)]\n",
    "test"
   ]
  },
  {
   "cell_type": "code",
   "execution_count": null,
   "id": "ea439e95",
   "metadata": {},
   "outputs": [],
   "source": [
    "df.to_csv('수강생점수.csv')"
   ]
  },
  {
   "cell_type": "code",
   "execution_count": null,
   "id": "264cff8b",
   "metadata": {},
   "outputs": [],
   "source": [
    "pd.read_csv('./수강생점수.csv') #상대경로 활용"
   ]
  },
  {
   "cell_type": "code",
   "execution_count": null,
   "id": "4606bfe1",
   "metadata": {},
   "outputs": [],
   "source": [
    "pd.read_csv('파일경로.수강생점수.csv')"
   ]
  },
  {
   "cell_type": "code",
   "execution_count": 35,
   "id": "0a7fa595",
   "metadata": {
    "ExecuteTime": {
     "end_time": "2023-12-21T12:17:02.032090Z",
     "start_time": "2023-12-21T12:17:02.018336Z"
    }
   },
   "outputs": [
    {
     "data": {
      "text/plain": [
       "이름    12\n",
       "국어    12\n",
       "영어    12\n",
       "수학    12\n",
       "과학    11\n",
       "dtype: int64"
      ]
     },
     "execution_count": 35,
     "metadata": {},
     "output_type": "execute_result"
    }
   ],
   "source": [
    "data = {\n",
    "    '이름': ['권은경', '나혜미', '백예숙', '백지영', '이상아', '김다혜', '마준영', '문예성', '박슬기', '이준민'],\n",
    "    '국어': np.random.randint(1, 101, 10),\n",
    "    '영어': np.random.randint(1, 101, 10),\n",
    "    '수학': np.random.randint(1, 101, 10)\n",
    "}\n",
    "columns = ['이름', '국어', '영어', '수학']\n",
    "df = pd.DataFrame(data, columns = columns)\n",
    "\n",
    "df.index.name = '번호'\n",
    "df['과학'] = np.random.randint(1, 101, 10) # 열추가\n",
    "df.loc[10] = ['피승권', 12, 31, 14, 53] # 행추가 loc활용\n",
    "df.loc[11] = ['문석민', 100, 100, 100, np.nan]\n",
    "\n",
    "df.count() # 열 데이터가 몇개 있는지 보여줌 (nan 제외)\n"
   ]
  },
  {
   "cell_type": "code",
   "execution_count": null,
   "id": "7d1ddc94",
   "metadata": {},
   "outputs": [],
   "source": [
    "df.count() # 열 데이터가 몇개 있는지 보여줌"
   ]
  },
  {
   "cell_type": "code",
   "execution_count": 44,
   "id": "8cc827df",
   "metadata": {
    "ExecuteTime": {
     "end_time": "2023-12-21T12:25:51.660010Z",
     "start_time": "2023-12-21T12:25:51.642369Z"
    }
   },
   "outputs": [
    {
     "name": "stdout",
     "output_type": "stream",
     "text": [
      "번호\n",
      "0     권은경\n",
      "1     나혜미\n",
      "2     백예숙\n",
      "3     백지영\n",
      "4     이상아\n",
      "5     김다혜\n",
      "6     마준영\n",
      "7     문예성\n",
      "8     박슬기\n",
      "9     이준민\n",
      "10    피승권\n",
      "11    문석민\n",
      "Name: 이름, dtype: object\n",
      "번호\n",
      "0      42\n",
      "1      50\n",
      "2      20\n",
      "3      43\n",
      "4      96\n",
      "5      32\n",
      "6       6\n",
      "7       6\n",
      "8      75\n",
      "9      20\n",
      "10     12\n",
      "11    100\n",
      "Name: 국어, dtype: int64\n",
      "번호\n",
      "0      40\n",
      "1      75\n",
      "2      33\n",
      "3       2\n",
      "4      83\n",
      "5      90\n",
      "6      47\n",
      "7      10\n",
      "8      96\n",
      "9      47\n",
      "10     31\n",
      "11    100\n",
      "Name: 영어, dtype: int64\n",
      "번호\n",
      "0      97\n",
      "1      88\n",
      "2      54\n",
      "3      79\n",
      "4      58\n",
      "5      91\n",
      "6      43\n",
      "7      83\n",
      "8      16\n",
      "9      42\n",
      "10     14\n",
      "11    100\n",
      "Name: 수학, dtype: int64\n",
      "번호\n",
      "0     24.0\n",
      "1     81.0\n",
      "2     83.0\n",
      "3     98.0\n",
      "4     87.0\n",
      "5     39.0\n",
      "6     17.0\n",
      "7     76.0\n",
      "8      8.0\n",
      "9     38.0\n",
      "10    53.0\n",
      "11     NaN\n",
      "Name: 과학, dtype: float64\n"
     ]
    },
    {
     "data": {
      "text/plain": [
       "이름    None\n",
       "국어    None\n",
       "영어    None\n",
       "수학    None\n",
       "과학    None\n",
       "dtype: object"
      ]
     },
     "execution_count": 44,
     "metadata": {},
     "output_type": "execute_result"
    }
   ],
   "source": [
    "data = {\n",
    "    '이름': ['권은경', '나혜미', '백예숙', '백지영', '이상아', '김다혜', '마준영', '문예성', '박슬기', '이준민'],\n",
    "    '국어': np.random.randint(1, 101, 10),\n",
    "    '영어': np.random.randint(1, 101, 10),\n",
    "    '수학': np.random.randint(1, 101, 10)\n",
    "}\n",
    "columns = ['이름', '국어', '영어', '수학']\n",
    "df = pd.DataFrame(data, columns = columns)\n",
    "\n",
    "df.index.name = '번호'\n",
    "df['과학'] = np.random.randint(1, 101, 10) # 열추가\n",
    "df.loc[10] = ['피승권', 12, 31, 14, 53] # 행추가 loc활용\n",
    "df.loc[11] = ['문석민', 100, 100, 100, np.nan]\n",
    "\n",
    "df.apply(lambda x: print(x), axis=0) #행방향으로 반복(기본값)"
   ]
  },
  {
   "cell_type": "code",
   "execution_count": 45,
   "id": "9ef6f3cd",
   "metadata": {
    "ExecuteTime": {
     "end_time": "2023-12-21T12:25:55.344919Z",
     "start_time": "2023-12-21T12:25:55.333824Z"
    }
   },
   "outputs": [
    {
     "name": "stdout",
     "output_type": "stream",
     "text": [
      "이름     권은경\n",
      "국어      42\n",
      "영어      40\n",
      "수학      97\n",
      "과학    24.0\n",
      "Name: 0, dtype: object\n",
      "이름     나혜미\n",
      "국어      50\n",
      "영어      75\n",
      "수학      88\n",
      "과학    81.0\n",
      "Name: 1, dtype: object\n",
      "이름     백예숙\n",
      "국어      20\n",
      "영어      33\n",
      "수학      54\n",
      "과학    83.0\n",
      "Name: 2, dtype: object\n",
      "이름     백지영\n",
      "국어      43\n",
      "영어       2\n",
      "수학      79\n",
      "과학    98.0\n",
      "Name: 3, dtype: object\n",
      "이름     이상아\n",
      "국어      96\n",
      "영어      83\n",
      "수학      58\n",
      "과학    87.0\n",
      "Name: 4, dtype: object\n",
      "이름     김다혜\n",
      "국어      32\n",
      "영어      90\n",
      "수학      91\n",
      "과학    39.0\n",
      "Name: 5, dtype: object\n",
      "이름     마준영\n",
      "국어       6\n",
      "영어      47\n",
      "수학      43\n",
      "과학    17.0\n",
      "Name: 6, dtype: object\n",
      "이름     문예성\n",
      "국어       6\n",
      "영어      10\n",
      "수학      83\n",
      "과학    76.0\n",
      "Name: 7, dtype: object\n",
      "이름    박슬기\n",
      "국어     75\n",
      "영어     96\n",
      "수학     16\n",
      "과학    8.0\n",
      "Name: 8, dtype: object\n",
      "이름     이준민\n",
      "국어      20\n",
      "영어      47\n",
      "수학      42\n",
      "과학    38.0\n",
      "Name: 9, dtype: object\n",
      "이름     피승권\n",
      "국어      12\n",
      "영어      31\n",
      "수학      14\n",
      "과학    53.0\n",
      "Name: 10, dtype: object\n",
      "이름    문석민\n",
      "국어    100\n",
      "영어    100\n",
      "수학    100\n",
      "과학    NaN\n",
      "Name: 11, dtype: object\n"
     ]
    },
    {
     "data": {
      "text/plain": [
       "번호\n",
       "0     None\n",
       "1     None\n",
       "2     None\n",
       "3     None\n",
       "4     None\n",
       "5     None\n",
       "6     None\n",
       "7     None\n",
       "8     None\n",
       "9     None\n",
       "10    None\n",
       "11    None\n",
       "dtype: object"
      ]
     },
     "execution_count": 45,
     "metadata": {},
     "output_type": "execute_result"
    }
   ],
   "source": [
    "df.apply(lambda x: print(x), axis=1) #열방향으로 반복"
   ]
  },
  {
   "cell_type": "code",
   "execution_count": 52,
   "id": "68d75240",
   "metadata": {
    "ExecuteTime": {
     "end_time": "2023-12-21T12:41:54.789331Z",
     "start_time": "2023-12-21T12:41:54.778552Z"
    }
   },
   "outputs": [
    {
     "data": {
      "text/html": [
       "<div>\n",
       "<style scoped>\n",
       "    .dataframe tbody tr th:only-of-type {\n",
       "        vertical-align: middle;\n",
       "    }\n",
       "\n",
       "    .dataframe tbody tr th {\n",
       "        vertical-align: top;\n",
       "    }\n",
       "\n",
       "    .dataframe thead th {\n",
       "        text-align: right;\n",
       "    }\n",
       "</style>\n",
       "<table border=\"1\" class=\"dataframe\">\n",
       "  <thead>\n",
       "    <tr style=\"text-align: right;\">\n",
       "      <th></th>\n",
       "      <th>이름</th>\n",
       "      <th>국어</th>\n",
       "      <th>영어</th>\n",
       "      <th>수학</th>\n",
       "      <th>과학</th>\n",
       "    </tr>\n",
       "    <tr>\n",
       "      <th>번호</th>\n",
       "      <th></th>\n",
       "      <th></th>\n",
       "      <th></th>\n",
       "      <th></th>\n",
       "      <th></th>\n",
       "    </tr>\n",
       "  </thead>\n",
       "  <tbody>\n",
       "    <tr>\n",
       "      <th>0</th>\n",
       "      <td>권은경</td>\n",
       "      <td>42</td>\n",
       "      <td>40</td>\n",
       "      <td>12.125</td>\n",
       "      <td>24.0</td>\n",
       "    </tr>\n",
       "    <tr>\n",
       "      <th>1</th>\n",
       "      <td>나혜미</td>\n",
       "      <td>50</td>\n",
       "      <td>75</td>\n",
       "      <td>11.000</td>\n",
       "      <td>81.0</td>\n",
       "    </tr>\n",
       "    <tr>\n",
       "      <th>2</th>\n",
       "      <td>백예숙</td>\n",
       "      <td>20</td>\n",
       "      <td>33</td>\n",
       "      <td>6.750</td>\n",
       "      <td>83.0</td>\n",
       "    </tr>\n",
       "    <tr>\n",
       "      <th>3</th>\n",
       "      <td>백지영</td>\n",
       "      <td>43</td>\n",
       "      <td>2</td>\n",
       "      <td>9.875</td>\n",
       "      <td>98.0</td>\n",
       "    </tr>\n",
       "    <tr>\n",
       "      <th>4</th>\n",
       "      <td>이상아</td>\n",
       "      <td>96</td>\n",
       "      <td>83</td>\n",
       "      <td>7.250</td>\n",
       "      <td>87.0</td>\n",
       "    </tr>\n",
       "    <tr>\n",
       "      <th>5</th>\n",
       "      <td>김다혜</td>\n",
       "      <td>32</td>\n",
       "      <td>90</td>\n",
       "      <td>11.375</td>\n",
       "      <td>39.0</td>\n",
       "    </tr>\n",
       "    <tr>\n",
       "      <th>6</th>\n",
       "      <td>마준영</td>\n",
       "      <td>6</td>\n",
       "      <td>47</td>\n",
       "      <td>5.375</td>\n",
       "      <td>17.0</td>\n",
       "    </tr>\n",
       "    <tr>\n",
       "      <th>7</th>\n",
       "      <td>문예성</td>\n",
       "      <td>6</td>\n",
       "      <td>10</td>\n",
       "      <td>10.375</td>\n",
       "      <td>76.0</td>\n",
       "    </tr>\n",
       "    <tr>\n",
       "      <th>8</th>\n",
       "      <td>박슬기</td>\n",
       "      <td>75</td>\n",
       "      <td>96</td>\n",
       "      <td>2.000</td>\n",
       "      <td>8.0</td>\n",
       "    </tr>\n",
       "    <tr>\n",
       "      <th>9</th>\n",
       "      <td>이준민</td>\n",
       "      <td>20</td>\n",
       "      <td>47</td>\n",
       "      <td>5.250</td>\n",
       "      <td>38.0</td>\n",
       "    </tr>\n",
       "    <tr>\n",
       "      <th>10</th>\n",
       "      <td>피승권</td>\n",
       "      <td>12</td>\n",
       "      <td>31</td>\n",
       "      <td>1.750</td>\n",
       "      <td>53.0</td>\n",
       "    </tr>\n",
       "    <tr>\n",
       "      <th>11</th>\n",
       "      <td>문석민</td>\n",
       "      <td>100</td>\n",
       "      <td>100</td>\n",
       "      <td>12.500</td>\n",
       "      <td>NaN</td>\n",
       "    </tr>\n",
       "  </tbody>\n",
       "</table>\n",
       "</div>"
      ],
      "text/plain": [
       "     이름   국어   영어      수학    과학\n",
       "번호                             \n",
       "0   권은경   42   40  12.125  24.0\n",
       "1   나혜미   50   75  11.000  81.0\n",
       "2   백예숙   20   33   6.750  83.0\n",
       "3   백지영   43    2   9.875  98.0\n",
       "4   이상아   96   83   7.250  87.0\n",
       "5   김다혜   32   90  11.375  39.0\n",
       "6   마준영    6   47   5.375  17.0\n",
       "7   문예성    6   10  10.375  76.0\n",
       "8   박슬기   75   96   2.000   8.0\n",
       "9   이준민   20   47   5.250  38.0\n",
       "10  피승권   12   31   1.750  53.0\n",
       "11  문석민  100  100  12.500   NaN"
      ]
     },
     "execution_count": 52,
     "metadata": {},
     "output_type": "execute_result"
    }
   ],
   "source": [
    "df['수학'] = df.apply(lambda x: x.수학/2, axis = 1)\n",
    "df"
   ]
  },
  {
   "cell_type": "code",
   "execution_count": null,
   "id": "ab4b2abe",
   "metadata": {
    "ExecuteTime": {
     "end_time": "2023-12-21T12:44:47.786172Z",
     "start_time": "2023-12-21T12:44:47.281695Z"
    }
   },
   "outputs": [],
   "source": []
  },
  {
   "cell_type": "code",
   "execution_count": null,
   "id": "c091f048",
   "metadata": {},
   "outputs": [],
   "source": []
  }
 ],
 "metadata": {
  "kernelspec": {
   "display_name": "Python 3 (ipykernel)",
   "language": "python",
   "name": "python3"
  },
  "language_info": {
   "codemirror_mode": {
    "name": "ipython",
    "version": 3
   },
   "file_extension": ".py",
   "mimetype": "text/x-python",
   "name": "python",
   "nbconvert_exporter": "python",
   "pygments_lexer": "ipython3",
   "version": "3.11.5"
  },
  "toc": {
   "base_numbering": 1,
   "nav_menu": {},
   "number_sections": true,
   "sideBar": true,
   "skip_h1_title": false,
   "title_cell": "Table of Contents",
   "title_sidebar": "Contents",
   "toc_cell": false,
   "toc_position": {},
   "toc_section_display": true,
   "toc_window_display": false
  }
 },
 "nbformat": 4,
 "nbformat_minor": 5
}
