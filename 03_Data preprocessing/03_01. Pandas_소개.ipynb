{
 "cells": [
  {
   "cell_type": "markdown",
   "id": "5b9f8ac1",
   "metadata": {},
   "source": [
    "### 판다스 패키지의 소개\n",
    "대부분의 데이터는 시계열(series)이나 표(table)의 형태로 나타낼 수 있다.\n",
    "판다스(Pandas) 패키지는 이러한 데이터를 다루기 위한 시리즈(Series) 클래스와 데이터프레임(DataFrame) 클래스를 제공한다"
   ]
  },
  {
   "cell_type": "markdown",
   "id": "ab334a15",
   "metadata": {},
   "source": [
    "#### 판다스 패키지 임포트"
   ]
  },
  {
   "cell_type": "code",
   "execution_count": 2,
   "id": "9cfa22e9",
   "metadata": {
    "ExecuteTime": {
     "end_time": "2023-12-18T15:51:12.151934Z",
     "start_time": "2023-12-18T15:51:11.187719Z"
    }
   },
   "outputs": [],
   "source": [
    "import pandas as pd"
   ]
  },
  {
   "cell_type": "markdown",
   "id": "ac11de74",
   "metadata": {},
   "source": [
    "### 시리즈 클래스\n",
    "\n",
    "시리즈 Series 클래스는 넘파이에서 제공하는 1차원 배열과 비슷하지만 각 데이터의 의미를 표시하는 인덱스(index)를 붙일 수 있다.\n",
    "* 데이터 자체는 값(value)라고 한다.\n",
    "* 시리즈 = 값(value) + 인덱스(index)\n",
    "* 인덱스의 길이는 데이터의 길이와 같아야 한다."
   ]
  },
  {
   "cell_type": "code",
   "execution_count": 6,
   "id": "68b1a3e3",
   "metadata": {
    "ExecuteTime": {
     "end_time": "2023-12-18T15:51:41.474363Z",
     "start_time": "2023-12-18T15:51:41.458100Z"
    }
   },
   "outputs": [
    {
     "data": {
      "text/plain": [
       "서울    9904312\n",
       "부산    3448737\n",
       "인천    2890451\n",
       "대구    2466052\n",
       "dtype: int64"
      ]
     },
     "execution_count": 6,
     "metadata": {},
     "output_type": "execute_result"
    }
   ],
   "source": [
    "# 다음 예제는 각 도시의 2015년 인구 데이터를 시리즈로 만든 것이다.\n",
    "s = pd.Series([9904312, 3448737, 2890451, 2466052],\n",
    "              index=[\"서울\", \"부산\", \"인천\", \"대구\"])\n",
    "s"
   ]
  },
  {
   "cell_type": "code",
   "execution_count": 6,
   "id": "498a9169",
   "metadata": {
    "ExecuteTime": {
     "end_time": "2023-12-18T05:44:25.486256Z",
     "start_time": "2023-12-18T05:44:25.481290Z"
    }
   },
   "outputs": [
    {
     "data": {
      "text/plain": [
       "0    10\n",
       "1    11\n",
       "2    12\n",
       "3    13\n",
       "dtype: int64"
      ]
     },
     "execution_count": 6,
     "metadata": {},
     "output_type": "execute_result"
    }
   ],
   "source": [
    "# 만약 인덱스를 지정하지 않고 시리즈를 만들면\n",
    "pd.Series(range(10,14)) \n",
    "# 시리즈의 인덱스는 0부터 시작하는 정수값이 된다."
   ]
  },
  {
   "cell_type": "code",
   "execution_count": 7,
   "id": "0407389a",
   "metadata": {
    "ExecuteTime": {
     "end_time": "2023-12-18T15:51:44.706935Z",
     "start_time": "2023-12-18T15:51:44.700528Z"
    }
   },
   "outputs": [
    {
     "data": {
      "text/plain": [
       "Index(['서울', '부산', '인천', '대구'], dtype='object')"
      ]
     },
     "execution_count": 7,
     "metadata": {},
     "output_type": "execute_result"
    }
   ],
   "source": [
    "# 시리즈의 인덱스는 index 속성으로 접근할 수 있다.\n",
    "s.index"
   ]
  },
  {
   "cell_type": "code",
   "execution_count": 10,
   "id": "522cd67f",
   "metadata": {
    "ExecuteTime": {
     "end_time": "2023-12-18T05:45:04.062956Z",
     "start_time": "2023-12-18T05:45:04.057820Z"
    }
   },
   "outputs": [
    {
     "data": {
      "text/plain": [
       "array([9904312, 3448737, 2890451, 2466052], dtype=int64)"
      ]
     },
     "execution_count": 10,
     "metadata": {},
     "output_type": "execute_result"
    }
   ],
   "source": [
    "# 시리즈의 값은 1차원 배열이며 values 속성으로 접근할 수 있다 (array)\n",
    "s.values"
   ]
  },
  {
   "cell_type": "code",
   "execution_count": 8,
   "id": "fc11b9df",
   "metadata": {
    "ExecuteTime": {
     "end_time": "2023-12-18T15:51:47.525880Z",
     "start_time": "2023-12-18T15:51:47.518886Z"
    }
   },
   "outputs": [
    {
     "data": {
      "text/plain": [
       "도시\n",
       "서울    9904312\n",
       "부산    3448737\n",
       "인천    2890451\n",
       "대구    2466052\n",
       "Name: 인구, dtype: int64"
      ]
     },
     "execution_count": 8,
     "metadata": {},
     "output_type": "execute_result"
    }
   ],
   "source": [
    "# s.name 속성 - 데이터에 이름 붙이기\n",
    "s.name = \"인구\"\n",
    "s.index.name = \"도시\"\n",
    "s"
   ]
  },
  {
   "cell_type": "markdown",
   "id": "cea5f1c6",
   "metadata": {},
   "source": [
    "#### 시리즈 연산\n",
    "* 다만 연산은 시리즈의 값에만 적용되며 인덱스 값은 변하지 않는다."
   ]
  },
  {
   "cell_type": "code",
   "execution_count": 12,
   "id": "2fe3ac37",
   "metadata": {
    "ExecuteTime": {
     "end_time": "2023-12-18T05:47:00.777690Z",
     "start_time": "2023-12-18T05:47:00.760728Z"
    }
   },
   "outputs": [
    {
     "data": {
      "text/plain": [
       "도시\n",
       "서울    9.904312\n",
       "부산    3.448737\n",
       "인천    2.890451\n",
       "대구    2.466052\n",
       "Name: 인구, dtype: float64"
      ]
     },
     "execution_count": 12,
     "metadata": {},
     "output_type": "execute_result"
    }
   ],
   "source": [
    "s / 1000000"
   ]
  },
  {
   "cell_type": "markdown",
   "id": "8715b7b3",
   "metadata": {},
   "source": [
    "#### 시리즈 인덱싱"
   ]
  },
  {
   "cell_type": "code",
   "execution_count": 13,
   "id": "bb8b68dd",
   "metadata": {
    "ExecuteTime": {
     "end_time": "2023-12-18T05:47:33.826214Z",
     "start_time": "2023-12-18T05:47:33.820701Z"
    }
   },
   "outputs": [
    {
     "data": {
      "text/plain": [
       "도시\n",
       "서울    9904312\n",
       "부산    3448737\n",
       "인천    2890451\n",
       "대구    2466052\n",
       "Name: 인구, dtype: int64"
      ]
     },
     "execution_count": 13,
     "metadata": {},
     "output_type": "execute_result"
    }
   ],
   "source": [
    "s"
   ]
  },
  {
   "cell_type": "code",
   "execution_count": 15,
   "id": "18d33247",
   "metadata": {
    "ExecuteTime": {
     "end_time": "2023-12-18T05:47:38.716738Z",
     "start_time": "2023-12-18T05:47:38.711732Z"
    }
   },
   "outputs": [
    {
     "data": {
      "text/plain": [
       "3448737"
      ]
     },
     "execution_count": 15,
     "metadata": {},
     "output_type": "execute_result"
    }
   ],
   "source": [
    "s[1]"
   ]
  },
  {
   "cell_type": "code",
   "execution_count": 16,
   "id": "b632f9d1",
   "metadata": {
    "ExecuteTime": {
     "end_time": "2023-12-18T05:47:46.666717Z",
     "start_time": "2023-12-18T05:47:46.662966Z"
    }
   },
   "outputs": [
    {
     "data": {
      "text/plain": [
       "3448737"
      ]
     },
     "execution_count": 16,
     "metadata": {},
     "output_type": "execute_result"
    }
   ],
   "source": [
    "s['부산']"
   ]
  },
  {
   "cell_type": "markdown",
   "id": "18a7f521",
   "metadata": {},
   "source": [
    "배열 인덱싱을 하면 부분적인 값을 가지는 시리즈 자료형을 반환한다.\n",
    "자료의 순서를 바꾸거나 특정한 자료만 선택할 수 있다."
   ]
  },
  {
   "cell_type": "code",
   "execution_count": 18,
   "id": "d24765af",
   "metadata": {
    "ExecuteTime": {
     "end_time": "2023-12-18T05:48:42.919384Z",
     "start_time": "2023-12-18T05:48:42.912408Z"
    }
   },
   "outputs": [
    {
     "data": {
      "text/plain": [
       "도시\n",
       "서울    9904312\n",
       "대구    2466052\n",
       "부산    3448737\n",
       "Name: 인구, dtype: int64"
      ]
     },
     "execution_count": 18,
     "metadata": {},
     "output_type": "execute_result"
    }
   ],
   "source": [
    "s[ [0,3,1]] #들어가는 값은 인덱스로 판정"
   ]
  },
  {
   "cell_type": "code",
   "execution_count": 19,
   "id": "ab123ba8",
   "metadata": {
    "ExecuteTime": {
     "end_time": "2023-12-18T05:49:01.736502Z",
     "start_time": "2023-12-18T05:49:01.720586Z"
    }
   },
   "outputs": [
    {
     "data": {
      "text/plain": [
       "도시\n",
       "서울    9904312\n",
       "대구    2466052\n",
       "부산    3448737\n",
       "Name: 인구, dtype: int64"
      ]
     },
     "execution_count": 19,
     "metadata": {},
     "output_type": "execute_result"
    }
   ],
   "source": [
    "# 인덱스이름(레이블명)으로\n",
    "s[[\"서울\", \"대구\", \"부산\"]]"
   ]
  },
  {
   "cell_type": "code",
   "execution_count": 20,
   "id": "a1d8d10c",
   "metadata": {
    "ExecuteTime": {
     "end_time": "2023-12-18T05:49:47.356899Z",
     "start_time": "2023-12-18T05:49:47.350391Z"
    }
   },
   "outputs": [
    {
     "data": {
      "text/plain": [
       "도시\n",
       "부산    3448737\n",
       "인천    2890451\n",
       "Name: 인구, dtype: int64"
      ]
     },
     "execution_count": 20,
     "metadata": {},
     "output_type": "execute_result"
    }
   ],
   "source": [
    "# 인구가 250만 초과, 500만 미만인 경우\n",
    "s[(250e4 < s) & (s<500e4)]"
   ]
  },
  {
   "cell_type": "markdown",
   "id": "45cd1811",
   "metadata": {},
   "source": [
    "슬라이싱을 해도 부분적인 시리즈를 반환한다.\n",
    "이 때 문자열 라벨을 이용한 슬라이싱을 하는 경우에는 숫자 인덱싱과 달리 콜론(:) 기호 뒤에 오는 값도 결과에 포함되므로 주의해야 한다."
   ]
  },
  {
   "cell_type": "code",
   "execution_count": 22,
   "id": "48de893a",
   "metadata": {
    "ExecuteTime": {
     "end_time": "2023-12-18T06:01:45.756075Z",
     "start_time": "2023-12-18T06:01:45.751202Z"
    }
   },
   "outputs": [
    {
     "data": {
      "text/plain": [
       "도시\n",
       "서울    9904312\n",
       "부산    3448737\n",
       "인천    2890451\n",
       "대구    2466052\n",
       "Name: 인구, dtype: int64"
      ]
     },
     "execution_count": 22,
     "metadata": {},
     "output_type": "execute_result"
    }
   ],
   "source": [
    "s"
   ]
  },
  {
   "cell_type": "code",
   "execution_count": 23,
   "id": "31996ad2",
   "metadata": {
    "ExecuteTime": {
     "end_time": "2023-12-18T06:02:13.411845Z",
     "start_time": "2023-12-18T06:02:13.405477Z"
    }
   },
   "outputs": [
    {
     "data": {
      "text/plain": [
       "도시\n",
       "부산    3448737\n",
       "인천    2890451\n",
       "Name: 인구, dtype: int64"
      ]
     },
     "execution_count": 23,
     "metadata": {},
     "output_type": "execute_result"
    }
   ],
   "source": [
    "# 컴퓨터에서 제공하는 인덱스 넘버 사용\n",
    "s[1:3] # 두번째(1)부터 세번째(2)까지 (네번째(3) 미포함)"
   ]
  },
  {
   "cell_type": "code",
   "execution_count": 24,
   "id": "c273f216",
   "metadata": {
    "ExecuteTime": {
     "end_time": "2023-12-18T06:02:36.437070Z",
     "start_time": "2023-12-18T06:02:36.416876Z"
    }
   },
   "outputs": [
    {
     "data": {
      "text/plain": [
       "도시\n",
       "부산    3448737\n",
       "인천    2890451\n",
       "대구    2466052\n",
       "Name: 인구, dtype: int64"
      ]
     },
     "execution_count": 24,
     "metadata": {},
     "output_type": "execute_result"
    }
   ],
   "source": [
    "# 사람이 지정한 인덱스 문자 사용\n",
    "s['부산':'대구'] # 부산에서 대구까지 (대구도 포함)"
   ]
  },
  {
   "cell_type": "markdown",
   "id": "97ed1641",
   "metadata": {},
   "source": [
    "만약 라벨 값이 문자열인 경우에는 인덱스 라벨이 속성인것처럼 점(.)을 이용하여 해당 인덱스 값에 접근할 수도 있다."
   ]
  },
  {
   "cell_type": "code",
   "execution_count": 25,
   "id": "80e2423a",
   "metadata": {
    "ExecuteTime": {
     "end_time": "2023-12-18T06:03:29.252567Z",
     "start_time": "2023-12-18T06:03:29.245081Z"
    }
   },
   "outputs": [
    {
     "data": {
      "text/plain": [
       "a    0\n",
       "b    1\n",
       "c    2\n",
       "dtype: int64"
      ]
     },
     "execution_count": 25,
     "metadata": {},
     "output_type": "execute_result"
    }
   ],
   "source": [
    "s0 = pd.Series(range(3), index=[\"a\", \"b\", \"c\"])\n",
    "s0"
   ]
  },
  {
   "cell_type": "code",
   "execution_count": 26,
   "id": "f64144f7",
   "metadata": {
    "ExecuteTime": {
     "end_time": "2023-12-18T06:03:39.060614Z",
     "start_time": "2023-12-18T06:03:39.055763Z"
    }
   },
   "outputs": [
    {
     "data": {
      "text/plain": [
       "0"
      ]
     },
     "execution_count": 26,
     "metadata": {},
     "output_type": "execute_result"
    }
   ],
   "source": [
    "s0.a"
   ]
  },
  {
   "cell_type": "code",
   "execution_count": 27,
   "id": "f0dadaca",
   "metadata": {
    "ExecuteTime": {
     "end_time": "2023-12-18T06:03:49.650822Z",
     "start_time": "2023-12-18T06:03:49.646189Z"
    }
   },
   "outputs": [
    {
     "data": {
      "text/plain": [
       "3448737"
      ]
     },
     "execution_count": 27,
     "metadata": {},
     "output_type": "execute_result"
    }
   ],
   "source": [
    "s.부산"
   ]
  },
  {
   "cell_type": "markdown",
   "id": "0ea1fb75",
   "metadata": {},
   "source": [
    "#### 시리즈와 딕셔너리 자료형\n",
    "\n",
    "시리즈 객체는 라벨 값에 의해 인덱싱이 가능하므로 실질적으로 인덱스 라벨 값을 키(key)로 가지는 딕셔너리 자료형과 같다고 볼 수 있다.\n",
    "따라서 딕셔너리 자료형에서 제공하는 in 연산도 가능하고 items 메서드를 사용하면 for 루프를 통해 각 원소의 키(key)와 값(value)을 접근할 수도 있다."
   ]
  },
  {
   "cell_type": "code",
   "execution_count": 5,
   "id": "574713a8",
   "metadata": {
    "ExecuteTime": {
     "end_time": "2023-12-18T15:51:36.474112Z",
     "start_time": "2023-12-18T15:51:36.459730Z"
    }
   },
   "outputs": [
    {
     "ename": "NameError",
     "evalue": "name 's' is not defined",
     "output_type": "error",
     "traceback": [
      "\u001b[1;31m---------------------------------------------------------------------------\u001b[0m",
      "\u001b[1;31mNameError\u001b[0m                                 Traceback (most recent call last)",
      "Cell \u001b[1;32mIn[5], line 1\u001b[0m\n\u001b[1;32m----> 1\u001b[0m s\n",
      "\u001b[1;31mNameError\u001b[0m: name 's' is not defined"
     ]
    }
   ],
   "source": [
    "s"
   ]
  },
  {
   "cell_type": "code",
   "execution_count": 29,
   "id": "5095bb04",
   "metadata": {
    "ExecuteTime": {
     "end_time": "2023-12-18T06:04:41.671517Z",
     "start_time": "2023-12-18T06:04:41.666003Z"
    }
   },
   "outputs": [
    {
     "data": {
      "text/plain": [
       "True"
      ]
     },
     "execution_count": 29,
     "metadata": {},
     "output_type": "execute_result"
    }
   ],
   "source": [
    "'서울' in s  # 인덱스 라벨 중에 서울이 있는가"
   ]
  },
  {
   "cell_type": "code",
   "execution_count": 30,
   "id": "704dd2c9",
   "metadata": {
    "ExecuteTime": {
     "end_time": "2023-12-18T06:04:53.610198Z",
     "start_time": "2023-12-18T06:04:53.605470Z"
    }
   },
   "outputs": [
    {
     "data": {
      "text/plain": [
       "False"
      ]
     },
     "execution_count": 30,
     "metadata": {},
     "output_type": "execute_result"
    }
   ],
   "source": [
    "\"대전\" in s  # 인덱스 라벨 중에 대전이 있는가"
   ]
  },
  {
   "cell_type": "code",
   "execution_count": 9,
   "id": "92a5b09a",
   "metadata": {
    "ExecuteTime": {
     "end_time": "2023-12-18T15:51:57.153938Z",
     "start_time": "2023-12-18T15:51:57.148764Z"
    }
   },
   "outputs": [
    {
     "name": "stdout",
     "output_type": "stream",
     "text": [
      "서울 = 9904312\n",
      "부산 = 3448737\n",
      "인천 = 2890451\n",
      "대구 = 2466052\n"
     ]
    }
   ],
   "source": [
    "for k, v in s.items():\n",
    "    print('%s = %d' % (k, v))"
   ]
  },
  {
   "cell_type": "markdown",
   "id": "f0eac8bc",
   "metadata": {},
   "source": [
    "또 딕셔너리 객체에서 시리즈를 만들 수도 있다.\n",
    "이번에는 2010년의 인구 자료를 s2라는 이름의 시리즈로 만들어 보자\n",
    "이 데이터에는 대구의 인구 자료는 없지만 대신 대전의 인구 자료가 포함되어 있다."
   ]
  },
  {
   "cell_type": "code",
   "execution_count": 32,
   "id": "7fcbccd8",
   "metadata": {
    "ExecuteTime": {
     "end_time": "2023-12-18T06:05:37.563589Z",
     "start_time": "2023-12-18T06:05:37.556330Z"
    }
   },
   "outputs": [
    {
     "data": {
      "text/plain": [
       "서울    9631482\n",
       "부산    3393191\n",
       "인천    2632035\n",
       "대전    1490158\n",
       "dtype: int64"
      ]
     },
     "execution_count": 32,
     "metadata": {},
     "output_type": "execute_result"
    }
   ],
   "source": [
    "s2 = pd.Series({\"서울\": 9631482, \"부산\": 3393191, \"인천\": 2632035, \"대전\": 1490158})\n",
    "s2"
   ]
  },
  {
   "cell_type": "markdown",
   "id": "d9a000c1",
   "metadata": {},
   "source": [
    "딕셔너리의 원소는 순서를 가지지 않으므로 시리즈의 데이터도 순서가 보장되지 않는다.\n",
    "만약 순서를 정하고 싶다면 인덱스를 리스트로 지정해야 한다."
   ]
  },
  {
   "cell_type": "code",
   "execution_count": 13,
   "id": "19453118",
   "metadata": {
    "ExecuteTime": {
     "end_time": "2023-12-18T15:52:11.866345Z",
     "start_time": "2023-12-18T15:52:11.848699Z"
    }
   },
   "outputs": [
    {
     "data": {
      "text/plain": [
       "부산    3393191\n",
       "서울    9631482\n",
       "인천    2632035\n",
       "대전    1490158\n",
       "dtype: int64"
      ]
     },
     "execution_count": 13,
     "metadata": {},
     "output_type": "execute_result"
    }
   ],
   "source": [
    "s2 = pd.Series({\"서울\": 9631482, \"부산\": 3393191, \"인천\": 2632035, \"대전\": 1490158},\n",
    "               index=[\"부산\", \"서울\", \"인천\", \"대전\"])\n",
    "s2"
   ]
  },
  {
   "cell_type": "markdown",
   "id": "0fc84cba",
   "metadata": {},
   "source": [
    "#### 인덱스 기반 연산\n",
    "\n",
    "이번에는 2015년도와 2010년의 인구 증가를 계산해 보자. 두 개의 시리즈의 차이를 구하면 된다.\n",
    "두 시리즈에 대해 연산을 하는 경우 인덱스가 같은 데이터에 대해서만 차이를 구한다."
   ]
  },
  {
   "cell_type": "code",
   "execution_count": 11,
   "id": "b87e588a",
   "metadata": {
    "ExecuteTime": {
     "end_time": "2023-12-18T15:52:06.453954Z",
     "start_time": "2023-12-18T15:52:06.448493Z"
    }
   },
   "outputs": [
    {
     "data": {
      "text/plain": [
       "도시\n",
       "서울    9904312\n",
       "부산    3448737\n",
       "인천    2890451\n",
       "대구    2466052\n",
       "Name: 인구, dtype: int64"
      ]
     },
     "execution_count": 11,
     "metadata": {},
     "output_type": "execute_result"
    }
   ],
   "source": [
    "s"
   ]
  },
  {
   "cell_type": "code",
   "execution_count": 14,
   "id": "757f4353",
   "metadata": {
    "ExecuteTime": {
     "end_time": "2023-12-18T15:52:14.374635Z",
     "start_time": "2023-12-18T15:52:14.368458Z"
    }
   },
   "outputs": [
    {
     "data": {
      "text/plain": [
       "부산    3393191\n",
       "서울    9631482\n",
       "인천    2632035\n",
       "대전    1490158\n",
       "dtype: int64"
      ]
     },
     "execution_count": 14,
     "metadata": {},
     "output_type": "execute_result"
    }
   ],
   "source": [
    "s2"
   ]
  },
  {
   "cell_type": "code",
   "execution_count": 15,
   "id": "c996f2f9",
   "metadata": {
    "ExecuteTime": {
     "end_time": "2023-12-18T15:52:16.209965Z",
     "start_time": "2023-12-18T15:52:16.198436Z"
    }
   },
   "outputs": [
    {
     "data": {
      "text/plain": [
       "대구         NaN\n",
       "대전         NaN\n",
       "부산     55546.0\n",
       "서울    272830.0\n",
       "인천    258416.0\n",
       "dtype: float64"
      ]
     },
     "execution_count": 15,
     "metadata": {},
     "output_type": "execute_result"
    }
   ],
   "source": [
    "ds = s - s2\n",
    "ds"
   ]
  },
  {
   "cell_type": "code",
   "execution_count": 38,
   "id": "9f6f0a3c",
   "metadata": {
    "ExecuteTime": {
     "end_time": "2023-12-18T06:07:47.442600Z",
     "start_time": "2023-12-18T06:07:47.427055Z"
    }
   },
   "outputs": [
    {
     "data": {
      "text/plain": [
       "array([ 6511121, -6182745,   258416,   975894], dtype=int64)"
      ]
     },
     "execution_count": 38,
     "metadata": {},
     "output_type": "execute_result"
    }
   ],
   "source": [
    "s.values - s2.values # 값과 값으로 구분해 대구와 대전 구분 안함"
   ]
  },
  {
   "cell_type": "code",
   "execution_count": 40,
   "id": "bd5b6512",
   "metadata": {
    "ExecuteTime": {
     "end_time": "2023-12-18T06:08:46.802228Z",
     "start_time": "2023-12-18T06:08:46.796742Z"
    }
   },
   "outputs": [
    {
     "data": {
      "text/plain": [
       "대구    False\n",
       "대전    False\n",
       "부산     True\n",
       "서울     True\n",
       "인천     True\n",
       "dtype: bool"
      ]
     },
     "execution_count": 40,
     "metadata": {},
     "output_type": "execute_result"
    }
   ],
   "source": [
    "# notnull\n",
    "ds.notnull() # 불린"
   ]
  },
  {
   "cell_type": "code",
   "execution_count": 41,
   "id": "56e56ea8",
   "metadata": {
    "ExecuteTime": {
     "end_time": "2023-12-18T06:08:59.945185Z",
     "start_time": "2023-12-18T06:08:59.938373Z"
    }
   },
   "outputs": [
    {
     "data": {
      "text/plain": [
       "부산     55546.0\n",
       "서울    272830.0\n",
       "인천    258416.0\n",
       "dtype: float64"
      ]
     },
     "execution_count": 41,
     "metadata": {},
     "output_type": "execute_result"
    }
   ],
   "source": [
    "ds[ds.notnull()]"
   ]
  },
  {
   "cell_type": "markdown",
   "id": "5b0c33a9",
   "metadata": {},
   "source": [
    "마찬가지로 인구 증가율(%)은 다음과 같이 구할 수 있다."
   ]
  },
  {
   "cell_type": "code",
   "execution_count": 16,
   "id": "d3410380",
   "metadata": {
    "ExecuteTime": {
     "end_time": "2023-12-18T15:52:20.625639Z",
     "start_time": "2023-12-18T15:52:20.607921Z"
    }
   },
   "outputs": [
    {
     "data": {
      "text/plain": [
       "대구         NaN\n",
       "대전         NaN\n",
       "부산    1.636984\n",
       "서울    2.832690\n",
       "인천    9.818107\n",
       "dtype: float64"
      ]
     },
     "execution_count": 16,
     "metadata": {},
     "output_type": "execute_result"
    }
   ],
   "source": [
    "# s : 2015,  s2 : 2010\n",
    "rs = ( (s - s2)/s2 ) * 100\n",
    "rs"
   ]
  },
  {
   "cell_type": "code",
   "execution_count": 17,
   "id": "d40fa16f",
   "metadata": {
    "ExecuteTime": {
     "end_time": "2023-12-18T15:52:24.187016Z",
     "start_time": "2023-12-18T15:52:24.178361Z"
    }
   },
   "outputs": [
    {
     "data": {
      "text/plain": [
       "부산    1.636984\n",
       "서울    2.832690\n",
       "인천    9.818107\n",
       "dtype: float64"
      ]
     },
     "execution_count": 17,
     "metadata": {},
     "output_type": "execute_result"
    }
   ],
   "source": [
    "# 불린 인덱싱\n",
    "rs = rs[rs.notnull()]\n",
    "rs"
   ]
  },
  {
   "cell_type": "markdown",
   "id": "6d4619b2",
   "metadata": {},
   "source": [
    "#### 데이터의 갱신, 추가 삭제\n",
    "인덱싱을 이용하면 딕셔너리처럼 데이터를 갱신(update)하거나 추가(add)할 수 있다."
   ]
  },
  {
   "cell_type": "code",
   "execution_count": 18,
   "id": "f9bea352",
   "metadata": {
    "ExecuteTime": {
     "end_time": "2023-12-18T15:52:26.582273Z",
     "start_time": "2023-12-18T15:52:26.576080Z"
    }
   },
   "outputs": [
    {
     "data": {
      "text/plain": [
       "부산    1.630000\n",
       "서울    2.832690\n",
       "인천    9.818107\n",
       "dtype: float64"
      ]
     },
     "execution_count": 18,
     "metadata": {},
     "output_type": "execute_result"
    }
   ],
   "source": [
    "rs[\"부산\"] = 1.63\n",
    "rs"
   ]
  },
  {
   "cell_type": "code",
   "execution_count": 19,
   "id": "2844bd63",
   "metadata": {
    "ExecuteTime": {
     "end_time": "2023-12-18T15:52:29.944258Z",
     "start_time": "2023-12-18T15:52:29.938109Z"
    }
   },
   "outputs": [
    {
     "data": {
      "text/plain": [
       "부산    1.630000\n",
       "서울    2.832690\n",
       "인천    9.818107\n",
       "대구    1.410000\n",
       "dtype: float64"
      ]
     },
     "execution_count": 19,
     "metadata": {},
     "output_type": "execute_result"
    }
   ],
   "source": [
    "rs[\"대구\"] = 1.41\n",
    "rs"
   ]
  },
  {
   "cell_type": "code",
   "execution_count": 20,
   "id": "770aea65",
   "metadata": {
    "ExecuteTime": {
     "end_time": "2023-12-18T15:52:32.497891Z",
     "start_time": "2023-12-18T15:52:32.489513Z"
    }
   },
   "outputs": [
    {
     "data": {
      "text/plain": [
       "부산    1.630000\n",
       "인천    9.818107\n",
       "대구    1.410000\n",
       "dtype: float64"
      ]
     },
     "execution_count": 20,
     "metadata": {},
     "output_type": "execute_result"
    }
   ],
   "source": [
    "del rs[\"서울\"]\n",
    "rs"
   ]
  },
  {
   "cell_type": "markdown",
   "id": "e77380e6",
   "metadata": {},
   "source": [
    "### 데이터프레임 클래스\n",
    "시리즈가 1차원 벡터 데이터에 행방향 인덱스(row index)를 붙인 것이라\n",
    "데이터프레임 DataFrame 클래스는 2차원 행렬 데이터에 인덱스를 붙인 것과 비슷하다.\n",
    "2차원이므로 각각의 행 데이터의 이름이 되는 행 인덱스(row index) 뿐 아니라\n",
    "각각의 열 데이터의 이름이 되는 열 인덱스(column index)도 붙일 수 있다."
   ]
  },
  {
   "cell_type": "markdown",
   "id": "79db52e3",
   "metadata": {},
   "source": [
    "#### 데이터프레임 생성\n",
    "\n",
    "* 우선 하나의 열이 되는 데이터를 리스트나 일차원 배열을 준비한다.\n",
    "* 이 각각의 열에 대한 이름(라벨)을 키로 가지는 딕셔너리를 만든다.\n",
    "* 이 데이터를 DataFrame 클래스 생성자에 넣는다. 동시에 열방향 인덱스는 columns 인수로, 행방향 인덱스는 index 인수로 지정한다."
   ]
  },
  {
   "cell_type": "code",
   "execution_count": 22,
   "id": "71973e60",
   "metadata": {
    "ExecuteTime": {
     "end_time": "2023-12-18T16:04:17.527031Z",
     "start_time": "2023-12-18T16:04:17.497083Z"
    }
   },
   "outputs": [
    {
     "data": {
      "text/html": [
       "<div>\n",
       "<style scoped>\n",
       "    .dataframe tbody tr th:only-of-type {\n",
       "        vertical-align: middle;\n",
       "    }\n",
       "\n",
       "    .dataframe tbody tr th {\n",
       "        vertical-align: top;\n",
       "    }\n",
       "\n",
       "    .dataframe thead th {\n",
       "        text-align: right;\n",
       "    }\n",
       "</style>\n",
       "<table border=\"1\" class=\"dataframe\">\n",
       "  <thead>\n",
       "    <tr style=\"text-align: right;\">\n",
       "      <th></th>\n",
       "      <th>지역</th>\n",
       "      <th>2015</th>\n",
       "      <th>2010</th>\n",
       "      <th>2005</th>\n",
       "      <th>2000</th>\n",
       "      <th>2010-2015 증가율</th>\n",
       "    </tr>\n",
       "  </thead>\n",
       "  <tbody>\n",
       "    <tr>\n",
       "      <th>서울</th>\n",
       "      <td>수도권</td>\n",
       "      <td>9904312</td>\n",
       "      <td>9631482</td>\n",
       "      <td>9762546</td>\n",
       "      <td>9853972</td>\n",
       "      <td>0.0283</td>\n",
       "    </tr>\n",
       "    <tr>\n",
       "      <th>부산</th>\n",
       "      <td>경상권</td>\n",
       "      <td>3448737</td>\n",
       "      <td>3393191</td>\n",
       "      <td>3512547</td>\n",
       "      <td>3655437</td>\n",
       "      <td>0.0163</td>\n",
       "    </tr>\n",
       "    <tr>\n",
       "      <th>인천</th>\n",
       "      <td>수도권</td>\n",
       "      <td>2890451</td>\n",
       "      <td>2632035</td>\n",
       "      <td>2517680</td>\n",
       "      <td>2466338</td>\n",
       "      <td>0.0982</td>\n",
       "    </tr>\n",
       "    <tr>\n",
       "      <th>대구</th>\n",
       "      <td>경상권</td>\n",
       "      <td>2466052</td>\n",
       "      <td>2431774</td>\n",
       "      <td>2456016</td>\n",
       "      <td>2473990</td>\n",
       "      <td>0.0141</td>\n",
       "    </tr>\n",
       "  </tbody>\n",
       "</table>\n",
       "</div>"
      ],
      "text/plain": [
       "     지역     2015     2010     2005     2000  2010-2015 증가율\n",
       "서울  수도권  9904312  9631482  9762546  9853972         0.0283\n",
       "부산  경상권  3448737  3393191  3512547  3655437         0.0163\n",
       "인천  수도권  2890451  2632035  2517680  2466338         0.0982\n",
       "대구  경상권  2466052  2431774  2456016  2473990         0.0141"
      ]
     },
     "execution_count": 22,
     "metadata": {},
     "output_type": "execute_result"
    }
   ],
   "source": [
    "data = {\n",
    "    \"2015\": [9904312, 3448737, 2890451, 2466052],\n",
    "    \"2010\": [9631482, 3393191, 2632035, 2431774],\n",
    "    \"2005\": [9762546, 3512547, 2517680, 2456016],\n",
    "    \"2000\": [9853972, 3655437, 2466338, 2473990],\n",
    "    \"지역\": [\"수도권\", \"경상권\", \"수도권\", \"경상권\"],\n",
    "    \"2010-2015 증가율\": [0.0283, 0.0163, 0.0982, 0.0141]\n",
    "}\n",
    "columns = [\"지역\", \"2015\", \"2010\", \"2005\", \"2000\", \"2010-2015 증가율\"] # 열방향 순서 지정\n",
    "index = [\"서울\", \"부산\", \"인천\", \"대구\"] # 행방향 순서 지정\n",
    "df = pd.DataFrame(data, index=index, columns=columns)\n",
    "df"
   ]
  },
  {
   "cell_type": "code",
   "execution_count": 23,
   "id": "aaf70116",
   "metadata": {
    "ExecuteTime": {
     "end_time": "2023-12-18T16:04:20.289540Z",
     "start_time": "2023-12-18T16:04:20.282066Z"
    }
   },
   "outputs": [
    {
     "name": "stdout",
     "output_type": "stream",
     "text": [
      "     지역     2015     2010     2005     2000  2010-2015 증가율\n",
      "서울  수도권  9904312  9631482  9762546  9853972         0.0283\n",
      "부산  경상권  3448737  3393191  3512547  3655437         0.0163\n",
      "인천  수도권  2890451  2632035  2517680  2466338         0.0982\n",
      "대구  경상권  2466052  2431774  2456016  2473990         0.0141\n"
     ]
    }
   ],
   "source": [
    "print(df)"
   ]
  },
  {
   "cell_type": "markdown",
   "id": "908090ea",
   "metadata": {},
   "source": [
    "앞에서 데이터프레임은 2차원 배열 데이터를 기반으로 한다고 했지만\n",
    "사실은 공통 인덱스를 가지는 열 시리즈(column series)를 딕셔너리로 묶어놓은 것이라고 보는 것이 더 정확하다.\n",
    "2차원 (넘파이)배열 데이터는 모든 원소가 같은 자료형을 가져야 하지만\n",
    "데이터프레임은 각 열(column)마다 자료형이 다를 수 있기 때문이다."
   ]
  },
  {
   "cell_type": "markdown",
   "id": "4f300ce4",
   "metadata": {},
   "source": [
    "시리즈와 마찬가지로 데이터만 접근하려면 values 속성을 사용한다.\n",
    "열방향 인덱스와 행방향 인덱스는 각각 columns, index 속성으로 접근한다."
   ]
  },
  {
   "cell_type": "code",
   "execution_count": 24,
   "id": "2d66cef9",
   "metadata": {
    "ExecuteTime": {
     "end_time": "2023-12-18T16:04:22.957908Z",
     "start_time": "2023-12-18T16:04:22.952179Z"
    }
   },
   "outputs": [
    {
     "data": {
      "text/plain": [
       "array([['수도권', 9904312, 9631482, 9762546, 9853972, 0.0283],\n",
       "       ['경상권', 3448737, 3393191, 3512547, 3655437, 0.0163],\n",
       "       ['수도권', 2890451, 2632035, 2517680, 2466338, 0.0982],\n",
       "       ['경상권', 2466052, 2431774, 2456016, 2473990, 0.0141]], dtype=object)"
      ]
     },
     "execution_count": 24,
     "metadata": {},
     "output_type": "execute_result"
    }
   ],
   "source": [
    "df.values"
   ]
  },
  {
   "cell_type": "code",
   "execution_count": 25,
   "id": "ebd37019",
   "metadata": {
    "ExecuteTime": {
     "end_time": "2023-12-18T16:04:24.877151Z",
     "start_time": "2023-12-18T16:04:24.872138Z"
    }
   },
   "outputs": [
    {
     "data": {
      "text/plain": [
       "Index(['지역', '2015', '2010', '2005', '2000', '2010-2015 증가율'], dtype='object')"
      ]
     },
     "execution_count": 25,
     "metadata": {},
     "output_type": "execute_result"
    }
   ],
   "source": [
    "df.columns"
   ]
  },
  {
   "cell_type": "code",
   "execution_count": 26,
   "id": "1656139b",
   "metadata": {
    "ExecuteTime": {
     "end_time": "2023-12-18T16:04:26.884370Z",
     "start_time": "2023-12-18T16:04:26.879881Z"
    }
   },
   "outputs": [
    {
     "data": {
      "text/plain": [
       "Index(['서울', '부산', '인천', '대구'], dtype='object')"
      ]
     },
     "execution_count": 26,
     "metadata": {},
     "output_type": "execute_result"
    }
   ],
   "source": [
    "df.index"
   ]
  },
  {
   "cell_type": "code",
   "execution_count": 27,
   "id": "20db9947",
   "metadata": {
    "ExecuteTime": {
     "end_time": "2023-12-18T16:04:28.689416Z",
     "start_time": "2023-12-18T16:04:28.680581Z"
    }
   },
   "outputs": [
    {
     "data": {
      "text/html": [
       "<div>\n",
       "<style scoped>\n",
       "    .dataframe tbody tr th:only-of-type {\n",
       "        vertical-align: middle;\n",
       "    }\n",
       "\n",
       "    .dataframe tbody tr th {\n",
       "        vertical-align: top;\n",
       "    }\n",
       "\n",
       "    .dataframe thead th {\n",
       "        text-align: right;\n",
       "    }\n",
       "</style>\n",
       "<table border=\"1\" class=\"dataframe\">\n",
       "  <thead>\n",
       "    <tr style=\"text-align: right;\">\n",
       "      <th>특성</th>\n",
       "      <th>지역</th>\n",
       "      <th>2015</th>\n",
       "      <th>2010</th>\n",
       "      <th>2005</th>\n",
       "      <th>2000</th>\n",
       "      <th>2010-2015 증가율</th>\n",
       "    </tr>\n",
       "    <tr>\n",
       "      <th>도시</th>\n",
       "      <th></th>\n",
       "      <th></th>\n",
       "      <th></th>\n",
       "      <th></th>\n",
       "      <th></th>\n",
       "      <th></th>\n",
       "    </tr>\n",
       "  </thead>\n",
       "  <tbody>\n",
       "    <tr>\n",
       "      <th>서울</th>\n",
       "      <td>수도권</td>\n",
       "      <td>9904312</td>\n",
       "      <td>9631482</td>\n",
       "      <td>9762546</td>\n",
       "      <td>9853972</td>\n",
       "      <td>0.0283</td>\n",
       "    </tr>\n",
       "    <tr>\n",
       "      <th>부산</th>\n",
       "      <td>경상권</td>\n",
       "      <td>3448737</td>\n",
       "      <td>3393191</td>\n",
       "      <td>3512547</td>\n",
       "      <td>3655437</td>\n",
       "      <td>0.0163</td>\n",
       "    </tr>\n",
       "    <tr>\n",
       "      <th>인천</th>\n",
       "      <td>수도권</td>\n",
       "      <td>2890451</td>\n",
       "      <td>2632035</td>\n",
       "      <td>2517680</td>\n",
       "      <td>2466338</td>\n",
       "      <td>0.0982</td>\n",
       "    </tr>\n",
       "    <tr>\n",
       "      <th>대구</th>\n",
       "      <td>경상권</td>\n",
       "      <td>2466052</td>\n",
       "      <td>2431774</td>\n",
       "      <td>2456016</td>\n",
       "      <td>2473990</td>\n",
       "      <td>0.0141</td>\n",
       "    </tr>\n",
       "  </tbody>\n",
       "</table>\n",
       "</div>"
      ],
      "text/plain": [
       "특성   지역     2015     2010     2005     2000  2010-2015 증가율\n",
       "도시                                                        \n",
       "서울  수도권  9904312  9631482  9762546  9853972         0.0283\n",
       "부산  경상권  3448737  3393191  3512547  3655437         0.0163\n",
       "인천  수도권  2890451  2632035  2517680  2466338         0.0982\n",
       "대구  경상권  2466052  2431774  2456016  2473990         0.0141"
      ]
     },
     "execution_count": 27,
     "metadata": {},
     "output_type": "execute_result"
    }
   ],
   "source": [
    "# 시리즈에서 처럼 열방향 인덱스와 행방향 인덱스에 이름을 붙이는 것도 가능하다.\n",
    "\n",
    "df.index.name = '도시'\n",
    "df.columns.name = '특성'\n",
    "df"
   ]
  },
  {
   "cell_type": "markdown",
   "id": "99eee4cd",
   "metadata": {},
   "source": [
    "데이터프레임은 전치(transpose)를 포함하여 넘파이 2차원 배열이 가지는 대부분의 속성이나 메서드를 지원한다. (행렬구조라 전치 가능)"
   ]
  },
  {
   "cell_type": "code",
   "execution_count": 28,
   "id": "a3411b1c",
   "metadata": {
    "ExecuteTime": {
     "end_time": "2023-12-18T16:04:30.979667Z",
     "start_time": "2023-12-18T16:04:30.962452Z"
    }
   },
   "outputs": [
    {
     "data": {
      "text/html": [
       "<div>\n",
       "<style scoped>\n",
       "    .dataframe tbody tr th:only-of-type {\n",
       "        vertical-align: middle;\n",
       "    }\n",
       "\n",
       "    .dataframe tbody tr th {\n",
       "        vertical-align: top;\n",
       "    }\n",
       "\n",
       "    .dataframe thead th {\n",
       "        text-align: right;\n",
       "    }\n",
       "</style>\n",
       "<table border=\"1\" class=\"dataframe\">\n",
       "  <thead>\n",
       "    <tr style=\"text-align: right;\">\n",
       "      <th>도시</th>\n",
       "      <th>서울</th>\n",
       "      <th>부산</th>\n",
       "      <th>인천</th>\n",
       "      <th>대구</th>\n",
       "    </tr>\n",
       "    <tr>\n",
       "      <th>특성</th>\n",
       "      <th></th>\n",
       "      <th></th>\n",
       "      <th></th>\n",
       "      <th></th>\n",
       "    </tr>\n",
       "  </thead>\n",
       "  <tbody>\n",
       "    <tr>\n",
       "      <th>지역</th>\n",
       "      <td>수도권</td>\n",
       "      <td>경상권</td>\n",
       "      <td>수도권</td>\n",
       "      <td>경상권</td>\n",
       "    </tr>\n",
       "    <tr>\n",
       "      <th>2015</th>\n",
       "      <td>9904312</td>\n",
       "      <td>3448737</td>\n",
       "      <td>2890451</td>\n",
       "      <td>2466052</td>\n",
       "    </tr>\n",
       "    <tr>\n",
       "      <th>2010</th>\n",
       "      <td>9631482</td>\n",
       "      <td>3393191</td>\n",
       "      <td>2632035</td>\n",
       "      <td>2431774</td>\n",
       "    </tr>\n",
       "    <tr>\n",
       "      <th>2005</th>\n",
       "      <td>9762546</td>\n",
       "      <td>3512547</td>\n",
       "      <td>2517680</td>\n",
       "      <td>2456016</td>\n",
       "    </tr>\n",
       "    <tr>\n",
       "      <th>2000</th>\n",
       "      <td>9853972</td>\n",
       "      <td>3655437</td>\n",
       "      <td>2466338</td>\n",
       "      <td>2473990</td>\n",
       "    </tr>\n",
       "    <tr>\n",
       "      <th>2010-2015 증가율</th>\n",
       "      <td>0.0283</td>\n",
       "      <td>0.0163</td>\n",
       "      <td>0.0982</td>\n",
       "      <td>0.0141</td>\n",
       "    </tr>\n",
       "  </tbody>\n",
       "</table>\n",
       "</div>"
      ],
      "text/plain": [
       "도시                  서울       부산       인천       대구\n",
       "특성                                               \n",
       "지역                 수도권      경상권      수도권      경상권\n",
       "2015           9904312  3448737  2890451  2466052\n",
       "2010           9631482  3393191  2632035  2431774\n",
       "2005           9762546  3512547  2517680  2456016\n",
       "2000           9853972  3655437  2466338  2473990\n",
       "2010-2015 증가율   0.0283   0.0163   0.0982   0.0141"
      ]
     },
     "execution_count": 28,
     "metadata": {},
     "output_type": "execute_result"
    }
   ],
   "source": [
    "df.T"
   ]
  },
  {
   "cell_type": "markdown",
   "id": "d1601cb0",
   "metadata": {},
   "source": [
    "#### 열 데이터의 갱신, 추가, 삭제\n",
    "데이터프레임은 열 시리즈의 딕셔너리으로 볼 수 있으므로 열 단위로 데이터를 갱신하거나 추가, 삭제할 수 있다."
   ]
  },
  {
   "cell_type": "code",
   "execution_count": 29,
   "id": "c77b2f91",
   "metadata": {
    "ExecuteTime": {
     "end_time": "2023-12-18T16:04:36.369193Z",
     "start_time": "2023-12-18T16:04:36.363237Z"
    }
   },
   "outputs": [
    {
     "data": {
      "text/plain": [
       "도시\n",
       "서울    2.83\n",
       "부산    1.63\n",
       "인천    9.82\n",
       "대구    1.41\n",
       "Name: 2010-2015 증가율, dtype: float64"
      ]
     },
     "execution_count": 29,
     "metadata": {},
     "output_type": "execute_result"
    }
   ],
   "source": [
    " df[\"2010-2015 증가율\"] * 100"
   ]
  },
  {
   "cell_type": "code",
   "execution_count": 30,
   "id": "2623aa1a",
   "metadata": {
    "ExecuteTime": {
     "end_time": "2023-12-18T16:04:39.278495Z",
     "start_time": "2023-12-18T16:04:39.269152Z"
    }
   },
   "outputs": [
    {
     "data": {
      "text/html": [
       "<div>\n",
       "<style scoped>\n",
       "    .dataframe tbody tr th:only-of-type {\n",
       "        vertical-align: middle;\n",
       "    }\n",
       "\n",
       "    .dataframe tbody tr th {\n",
       "        vertical-align: top;\n",
       "    }\n",
       "\n",
       "    .dataframe thead th {\n",
       "        text-align: right;\n",
       "    }\n",
       "</style>\n",
       "<table border=\"1\" class=\"dataframe\">\n",
       "  <thead>\n",
       "    <tr style=\"text-align: right;\">\n",
       "      <th>특성</th>\n",
       "      <th>지역</th>\n",
       "      <th>2015</th>\n",
       "      <th>2010</th>\n",
       "      <th>2005</th>\n",
       "      <th>2000</th>\n",
       "      <th>2010-2015 증가율</th>\n",
       "    </tr>\n",
       "    <tr>\n",
       "      <th>도시</th>\n",
       "      <th></th>\n",
       "      <th></th>\n",
       "      <th></th>\n",
       "      <th></th>\n",
       "      <th></th>\n",
       "      <th></th>\n",
       "    </tr>\n",
       "  </thead>\n",
       "  <tbody>\n",
       "    <tr>\n",
       "      <th>서울</th>\n",
       "      <td>수도권</td>\n",
       "      <td>9904312</td>\n",
       "      <td>9631482</td>\n",
       "      <td>9762546</td>\n",
       "      <td>9853972</td>\n",
       "      <td>2.83</td>\n",
       "    </tr>\n",
       "    <tr>\n",
       "      <th>부산</th>\n",
       "      <td>경상권</td>\n",
       "      <td>3448737</td>\n",
       "      <td>3393191</td>\n",
       "      <td>3512547</td>\n",
       "      <td>3655437</td>\n",
       "      <td>1.63</td>\n",
       "    </tr>\n",
       "    <tr>\n",
       "      <th>인천</th>\n",
       "      <td>수도권</td>\n",
       "      <td>2890451</td>\n",
       "      <td>2632035</td>\n",
       "      <td>2517680</td>\n",
       "      <td>2466338</td>\n",
       "      <td>9.82</td>\n",
       "    </tr>\n",
       "    <tr>\n",
       "      <th>대구</th>\n",
       "      <td>경상권</td>\n",
       "      <td>2466052</td>\n",
       "      <td>2431774</td>\n",
       "      <td>2456016</td>\n",
       "      <td>2473990</td>\n",
       "      <td>1.41</td>\n",
       "    </tr>\n",
       "  </tbody>\n",
       "</table>\n",
       "</div>"
      ],
      "text/plain": [
       "특성   지역     2015     2010     2005     2000  2010-2015 증가율\n",
       "도시                                                        \n",
       "서울  수도권  9904312  9631482  9762546  9853972           2.83\n",
       "부산  경상권  3448737  3393191  3512547  3655437           1.63\n",
       "인천  수도권  2890451  2632035  2517680  2466338           9.82\n",
       "대구  경상권  2466052  2431774  2456016  2473990           1.41"
      ]
     },
     "execution_count": 30,
     "metadata": {},
     "output_type": "execute_result"
    }
   ],
   "source": [
    "# \"2010-2015 증가율\"이라는 이름의 열 추가\n",
    "df[\"2010-2015 증가율\"] = df[\"2010-2015 증가율\"] * 100\n",
    "df"
   ]
  },
  {
   "cell_type": "code",
   "execution_count": 31,
   "id": "94e81d0e",
   "metadata": {
    "ExecuteTime": {
     "end_time": "2023-12-18T16:04:42.647666Z",
     "start_time": "2023-12-18T16:04:42.630257Z"
    }
   },
   "outputs": [
    {
     "data": {
      "text/plain": [
       "도시\n",
       "서울   -1.34\n",
       "부산   -3.40\n",
       "인천    4.54\n",
       "대구   -0.99\n",
       "dtype: float64"
      ]
     },
     "execution_count": 31,
     "metadata": {},
     "output_type": "execute_result"
    }
   ],
   "source": [
    "# \"2005-2010 증가율\"이라는 이름의 열 추가\n",
    "( ( (df[\"2010\"] - df[\"2005\"]) / df[\"2005\"] ) * 100).round(2)"
   ]
  },
  {
   "cell_type": "code",
   "execution_count": 32,
   "id": "8bb0f29c",
   "metadata": {
    "ExecuteTime": {
     "end_time": "2023-12-18T16:04:44.265369Z",
     "start_time": "2023-12-18T16:04:44.253009Z"
    }
   },
   "outputs": [
    {
     "data": {
      "text/html": [
       "<div>\n",
       "<style scoped>\n",
       "    .dataframe tbody tr th:only-of-type {\n",
       "        vertical-align: middle;\n",
       "    }\n",
       "\n",
       "    .dataframe tbody tr th {\n",
       "        vertical-align: top;\n",
       "    }\n",
       "\n",
       "    .dataframe thead th {\n",
       "        text-align: right;\n",
       "    }\n",
       "</style>\n",
       "<table border=\"1\" class=\"dataframe\">\n",
       "  <thead>\n",
       "    <tr style=\"text-align: right;\">\n",
       "      <th>특성</th>\n",
       "      <th>지역</th>\n",
       "      <th>2015</th>\n",
       "      <th>2010</th>\n",
       "      <th>2005</th>\n",
       "      <th>2000</th>\n",
       "      <th>2010-2015 증가율</th>\n",
       "      <th>2005-2010 증가율</th>\n",
       "    </tr>\n",
       "    <tr>\n",
       "      <th>도시</th>\n",
       "      <th></th>\n",
       "      <th></th>\n",
       "      <th></th>\n",
       "      <th></th>\n",
       "      <th></th>\n",
       "      <th></th>\n",
       "      <th></th>\n",
       "    </tr>\n",
       "  </thead>\n",
       "  <tbody>\n",
       "    <tr>\n",
       "      <th>서울</th>\n",
       "      <td>수도권</td>\n",
       "      <td>9904312</td>\n",
       "      <td>9631482</td>\n",
       "      <td>9762546</td>\n",
       "      <td>9853972</td>\n",
       "      <td>2.83</td>\n",
       "      <td>-1.34</td>\n",
       "    </tr>\n",
       "    <tr>\n",
       "      <th>부산</th>\n",
       "      <td>경상권</td>\n",
       "      <td>3448737</td>\n",
       "      <td>3393191</td>\n",
       "      <td>3512547</td>\n",
       "      <td>3655437</td>\n",
       "      <td>1.63</td>\n",
       "      <td>-3.40</td>\n",
       "    </tr>\n",
       "    <tr>\n",
       "      <th>인천</th>\n",
       "      <td>수도권</td>\n",
       "      <td>2890451</td>\n",
       "      <td>2632035</td>\n",
       "      <td>2517680</td>\n",
       "      <td>2466338</td>\n",
       "      <td>9.82</td>\n",
       "      <td>4.54</td>\n",
       "    </tr>\n",
       "    <tr>\n",
       "      <th>대구</th>\n",
       "      <td>경상권</td>\n",
       "      <td>2466052</td>\n",
       "      <td>2431774</td>\n",
       "      <td>2456016</td>\n",
       "      <td>2473990</td>\n",
       "      <td>1.41</td>\n",
       "      <td>-0.99</td>\n",
       "    </tr>\n",
       "  </tbody>\n",
       "</table>\n",
       "</div>"
      ],
      "text/plain": [
       "특성   지역     2015     2010     2005     2000  2010-2015 증가율  2005-2010 증가율\n",
       "도시                                                                       \n",
       "서울  수도권  9904312  9631482  9762546  9853972           2.83          -1.34\n",
       "부산  경상권  3448737  3393191  3512547  3655437           1.63          -3.40\n",
       "인천  수도권  2890451  2632035  2517680  2466338           9.82           4.54\n",
       "대구  경상권  2466052  2431774  2456016  2473990           1.41          -0.99"
      ]
     },
     "execution_count": 32,
     "metadata": {},
     "output_type": "execute_result"
    }
   ],
   "source": [
    "df[\"2005-2010 증가율\"] = ((df[\"2010\"] - df[\"2005\"]) / df[\"2005\"] * 100).round(2)\n",
    "df"
   ]
  },
  {
   "cell_type": "code",
   "execution_count": 33,
   "id": "91d4f651",
   "metadata": {
    "ExecuteTime": {
     "end_time": "2023-12-18T16:04:46.551819Z",
     "start_time": "2023-12-18T16:04:46.532826Z"
    }
   },
   "outputs": [
    {
     "data": {
      "text/html": [
       "<div>\n",
       "<style scoped>\n",
       "    .dataframe tbody tr th:only-of-type {\n",
       "        vertical-align: middle;\n",
       "    }\n",
       "\n",
       "    .dataframe tbody tr th {\n",
       "        vertical-align: top;\n",
       "    }\n",
       "\n",
       "    .dataframe thead th {\n",
       "        text-align: right;\n",
       "    }\n",
       "</style>\n",
       "<table border=\"1\" class=\"dataframe\">\n",
       "  <thead>\n",
       "    <tr style=\"text-align: right;\">\n",
       "      <th>특성</th>\n",
       "      <th>지역</th>\n",
       "      <th>2015</th>\n",
       "      <th>2010</th>\n",
       "      <th>2005</th>\n",
       "      <th>2000</th>\n",
       "      <th>2005-2010 증가율</th>\n",
       "    </tr>\n",
       "    <tr>\n",
       "      <th>도시</th>\n",
       "      <th></th>\n",
       "      <th></th>\n",
       "      <th></th>\n",
       "      <th></th>\n",
       "      <th></th>\n",
       "      <th></th>\n",
       "    </tr>\n",
       "  </thead>\n",
       "  <tbody>\n",
       "    <tr>\n",
       "      <th>서울</th>\n",
       "      <td>수도권</td>\n",
       "      <td>9904312</td>\n",
       "      <td>9631482</td>\n",
       "      <td>9762546</td>\n",
       "      <td>9853972</td>\n",
       "      <td>-1.34</td>\n",
       "    </tr>\n",
       "    <tr>\n",
       "      <th>부산</th>\n",
       "      <td>경상권</td>\n",
       "      <td>3448737</td>\n",
       "      <td>3393191</td>\n",
       "      <td>3512547</td>\n",
       "      <td>3655437</td>\n",
       "      <td>-3.40</td>\n",
       "    </tr>\n",
       "    <tr>\n",
       "      <th>인천</th>\n",
       "      <td>수도권</td>\n",
       "      <td>2890451</td>\n",
       "      <td>2632035</td>\n",
       "      <td>2517680</td>\n",
       "      <td>2466338</td>\n",
       "      <td>4.54</td>\n",
       "    </tr>\n",
       "    <tr>\n",
       "      <th>대구</th>\n",
       "      <td>경상권</td>\n",
       "      <td>2466052</td>\n",
       "      <td>2431774</td>\n",
       "      <td>2456016</td>\n",
       "      <td>2473990</td>\n",
       "      <td>-0.99</td>\n",
       "    </tr>\n",
       "  </tbody>\n",
       "</table>\n",
       "</div>"
      ],
      "text/plain": [
       "특성   지역     2015     2010     2005     2000  2005-2010 증가율\n",
       "도시                                                        \n",
       "서울  수도권  9904312  9631482  9762546  9853972          -1.34\n",
       "부산  경상권  3448737  3393191  3512547  3655437          -3.40\n",
       "인천  수도권  2890451  2632035  2517680  2466338           4.54\n",
       "대구  경상권  2466052  2431774  2456016  2473990          -0.99"
      ]
     },
     "execution_count": 33,
     "metadata": {},
     "output_type": "execute_result"
    }
   ],
   "source": [
    "# \"2010-2015 증가율\"이라는 이름의 열 삭제\n",
    "del df[\"2010-2015 증가율\"]\n",
    "df"
   ]
  },
  {
   "cell_type": "markdown",
   "id": "94fde664",
   "metadata": {},
   "source": [
    "#### 열 인덱싱\n",
    "데이터프레임은 열 라벨을 키로, 열 시리즈를 값으로 가지는 딕셔너리와 비슷하다고 하였다.\n",
    "따라서 데이터프레임을 인덱싱을 할 때도 열 라벨(column label)을 키값으로 생각하여 인덱싱을 할 수 있다.\n",
    "인덱스로 라벨 값을 하나만 넣으면 시리즈 객체가 반환되고 라벨의 배열 또는 리스트를 넣으면 부분적인 데이터프레임이 반환된다."
   ]
  },
  {
   "cell_type": "code",
   "execution_count": 67,
   "id": "e6a4ee9e",
   "metadata": {
    "ExecuteTime": {
     "end_time": "2023-12-18T06:24:30.523027Z",
     "start_time": "2023-12-18T06:24:30.516247Z"
    }
   },
   "outputs": [
    {
     "data": {
      "text/plain": [
       "도시\n",
       "서울    수도권\n",
       "부산    경상권\n",
       "인천    수도권\n",
       "대구    경상권\n",
       "Name: 지역, dtype: object"
      ]
     },
     "execution_count": 67,
     "metadata": {},
     "output_type": "execute_result"
    }
   ],
   "source": [
    "# 하나의 열만 인덱싱하면 시리즈가 반환된다.\n",
    "df[\"지역\"]"
   ]
  },
  {
   "cell_type": "code",
   "execution_count": 68,
   "id": "a88fb671",
   "metadata": {
    "ExecuteTime": {
     "end_time": "2023-12-18T06:24:49.033077Z",
     "start_time": "2023-12-18T06:24:48.968014Z"
    }
   },
   "outputs": [
    {
     "ename": "KeyError",
     "evalue": "('2010', '2015')",
     "output_type": "error",
     "traceback": [
      "\u001b[1;31m---------------------------------------------------------------------------\u001b[0m",
      "\u001b[1;31mKeyError\u001b[0m                                  Traceback (most recent call last)",
      "File \u001b[1;32m~\\anaconda3\\Lib\\site-packages\\pandas\\core\\indexes\\base.py:3653\u001b[0m, in \u001b[0;36mIndex.get_loc\u001b[1;34m(self, key)\u001b[0m\n\u001b[0;32m   3652\u001b[0m \u001b[38;5;28;01mtry\u001b[39;00m:\n\u001b[1;32m-> 3653\u001b[0m     \u001b[38;5;28;01mreturn\u001b[39;00m \u001b[38;5;28mself\u001b[39m\u001b[38;5;241m.\u001b[39m_engine\u001b[38;5;241m.\u001b[39mget_loc(casted_key)\n\u001b[0;32m   3654\u001b[0m \u001b[38;5;28;01mexcept\u001b[39;00m \u001b[38;5;167;01mKeyError\u001b[39;00m \u001b[38;5;28;01mas\u001b[39;00m err:\n",
      "File \u001b[1;32m~\\anaconda3\\Lib\\site-packages\\pandas\\_libs\\index.pyx:147\u001b[0m, in \u001b[0;36mpandas._libs.index.IndexEngine.get_loc\u001b[1;34m()\u001b[0m\n",
      "File \u001b[1;32m~\\anaconda3\\Lib\\site-packages\\pandas\\_libs\\index.pyx:176\u001b[0m, in \u001b[0;36mpandas._libs.index.IndexEngine.get_loc\u001b[1;34m()\u001b[0m\n",
      "File \u001b[1;32mpandas\\_libs\\hashtable_class_helper.pxi:7080\u001b[0m, in \u001b[0;36mpandas._libs.hashtable.PyObjectHashTable.get_item\u001b[1;34m()\u001b[0m\n",
      "File \u001b[1;32mpandas\\_libs\\hashtable_class_helper.pxi:7088\u001b[0m, in \u001b[0;36mpandas._libs.hashtable.PyObjectHashTable.get_item\u001b[1;34m()\u001b[0m\n",
      "\u001b[1;31mKeyError\u001b[0m: ('2010', '2015')",
      "\nThe above exception was the direct cause of the following exception:\n",
      "\u001b[1;31mKeyError\u001b[0m                                  Traceback (most recent call last)",
      "Cell \u001b[1;32mIn[68], line 1\u001b[0m\n\u001b[1;32m----> 1\u001b[0m df[\u001b[38;5;124m\"\u001b[39m\u001b[38;5;124m2010\u001b[39m\u001b[38;5;124m\"\u001b[39m, \u001b[38;5;124m\"\u001b[39m\u001b[38;5;124m2015\u001b[39m\u001b[38;5;124m\"\u001b[39m]\n",
      "File \u001b[1;32m~\\anaconda3\\Lib\\site-packages\\pandas\\core\\frame.py:3761\u001b[0m, in \u001b[0;36mDataFrame.__getitem__\u001b[1;34m(self, key)\u001b[0m\n\u001b[0;32m   3759\u001b[0m \u001b[38;5;28;01mif\u001b[39;00m \u001b[38;5;28mself\u001b[39m\u001b[38;5;241m.\u001b[39mcolumns\u001b[38;5;241m.\u001b[39mnlevels \u001b[38;5;241m>\u001b[39m \u001b[38;5;241m1\u001b[39m:\n\u001b[0;32m   3760\u001b[0m     \u001b[38;5;28;01mreturn\u001b[39;00m \u001b[38;5;28mself\u001b[39m\u001b[38;5;241m.\u001b[39m_getitem_multilevel(key)\n\u001b[1;32m-> 3761\u001b[0m indexer \u001b[38;5;241m=\u001b[39m \u001b[38;5;28mself\u001b[39m\u001b[38;5;241m.\u001b[39mcolumns\u001b[38;5;241m.\u001b[39mget_loc(key)\n\u001b[0;32m   3762\u001b[0m \u001b[38;5;28;01mif\u001b[39;00m is_integer(indexer):\n\u001b[0;32m   3763\u001b[0m     indexer \u001b[38;5;241m=\u001b[39m [indexer]\n",
      "File \u001b[1;32m~\\anaconda3\\Lib\\site-packages\\pandas\\core\\indexes\\base.py:3655\u001b[0m, in \u001b[0;36mIndex.get_loc\u001b[1;34m(self, key)\u001b[0m\n\u001b[0;32m   3653\u001b[0m     \u001b[38;5;28;01mreturn\u001b[39;00m \u001b[38;5;28mself\u001b[39m\u001b[38;5;241m.\u001b[39m_engine\u001b[38;5;241m.\u001b[39mget_loc(casted_key)\n\u001b[0;32m   3654\u001b[0m \u001b[38;5;28;01mexcept\u001b[39;00m \u001b[38;5;167;01mKeyError\u001b[39;00m \u001b[38;5;28;01mas\u001b[39;00m err:\n\u001b[1;32m-> 3655\u001b[0m     \u001b[38;5;28;01mraise\u001b[39;00m \u001b[38;5;167;01mKeyError\u001b[39;00m(key) \u001b[38;5;28;01mfrom\u001b[39;00m \u001b[38;5;21;01merr\u001b[39;00m\n\u001b[0;32m   3656\u001b[0m \u001b[38;5;28;01mexcept\u001b[39;00m \u001b[38;5;167;01mTypeError\u001b[39;00m:\n\u001b[0;32m   3657\u001b[0m     \u001b[38;5;66;03m# If we have a listlike key, _check_indexing_error will raise\u001b[39;00m\n\u001b[0;32m   3658\u001b[0m     \u001b[38;5;66;03m#  InvalidIndexError. Otherwise we fall through and re-raise\u001b[39;00m\n\u001b[0;32m   3659\u001b[0m     \u001b[38;5;66;03m#  the TypeError.\u001b[39;00m\n\u001b[0;32m   3660\u001b[0m     \u001b[38;5;28mself\u001b[39m\u001b[38;5;241m.\u001b[39m_check_indexing_error(key)\n",
      "\u001b[1;31mKeyError\u001b[0m: ('2010', '2015')"
     ]
    }
   ],
   "source": [
    "df[\"2010\", \"2015\"] #인덱싱 용도 대괄호만 있기 때문에 리스트를 하나 더 넣어야 함"
   ]
  },
  {
   "cell_type": "code",
   "execution_count": 69,
   "id": "95690b03",
   "metadata": {
    "ExecuteTime": {
     "end_time": "2023-12-18T06:25:33.884437Z",
     "start_time": "2023-12-18T06:25:33.876044Z"
    }
   },
   "outputs": [
    {
     "data": {
      "text/html": [
       "<div>\n",
       "<style scoped>\n",
       "    .dataframe tbody tr th:only-of-type {\n",
       "        vertical-align: middle;\n",
       "    }\n",
       "\n",
       "    .dataframe tbody tr th {\n",
       "        vertical-align: top;\n",
       "    }\n",
       "\n",
       "    .dataframe thead th {\n",
       "        text-align: right;\n",
       "    }\n",
       "</style>\n",
       "<table border=\"1\" class=\"dataframe\">\n",
       "  <thead>\n",
       "    <tr style=\"text-align: right;\">\n",
       "      <th>특성</th>\n",
       "      <th>2010</th>\n",
       "      <th>2015</th>\n",
       "    </tr>\n",
       "    <tr>\n",
       "      <th>도시</th>\n",
       "      <th></th>\n",
       "      <th></th>\n",
       "    </tr>\n",
       "  </thead>\n",
       "  <tbody>\n",
       "    <tr>\n",
       "      <th>서울</th>\n",
       "      <td>9631482</td>\n",
       "      <td>9904312</td>\n",
       "    </tr>\n",
       "    <tr>\n",
       "      <th>부산</th>\n",
       "      <td>3393191</td>\n",
       "      <td>3448737</td>\n",
       "    </tr>\n",
       "    <tr>\n",
       "      <th>인천</th>\n",
       "      <td>2632035</td>\n",
       "      <td>2890451</td>\n",
       "    </tr>\n",
       "    <tr>\n",
       "      <th>대구</th>\n",
       "      <td>2431774</td>\n",
       "      <td>2466052</td>\n",
       "    </tr>\n",
       "  </tbody>\n",
       "</table>\n",
       "</div>"
      ],
      "text/plain": [
       "특성     2010     2015\n",
       "도시                  \n",
       "서울  9631482  9904312\n",
       "부산  3393191  3448737\n",
       "인천  2632035  2890451\n",
       "대구  2431774  2466052"
      ]
     },
     "execution_count": 69,
     "metadata": {},
     "output_type": "execute_result"
    }
   ],
   "source": [
    "# 여러개의 열을 인덱싱하면 부분적인 데이터프레임이 반환된다.\n",
    "df[ [\"2010\", \"2015\"] ]"
   ]
  },
  {
   "cell_type": "markdown",
   "id": "df35f70c",
   "metadata": {},
   "source": [
    "만약 하나의 열만 빼내면서 데이터프레임 자료형을 유지하고 싶다면 원소가 하나인 리스트를 써서 인덱싱하면 된다."
   ]
  },
  {
   "cell_type": "code",
   "execution_count": 70,
   "id": "72d986f4",
   "metadata": {
    "ExecuteTime": {
     "end_time": "2023-12-18T06:26:31.603377Z",
     "start_time": "2023-12-18T06:26:31.597346Z"
    }
   },
   "outputs": [
    {
     "data": {
      "text/plain": [
       "(도시\n",
       " 서울    9631482\n",
       " 부산    3393191\n",
       " 인천    2632035\n",
       " 대구    2431774\n",
       " Name: 2010, dtype: int64,\n",
       " pandas.core.series.Series)"
      ]
     },
     "execution_count": 70,
     "metadata": {},
     "output_type": "execute_result"
    }
   ],
   "source": [
    "# 2010이라는 열을 반환하면서 시리즈 자료형으로 변환\n",
    "df['2010'], type(df['2010'])"
   ]
  },
  {
   "cell_type": "code",
   "execution_count": 71,
   "id": "9585ba7f",
   "metadata": {
    "ExecuteTime": {
     "end_time": "2023-12-18T06:26:44.265410Z",
     "start_time": "2023-12-18T06:26:44.257613Z"
    }
   },
   "outputs": [
    {
     "data": {
      "text/html": [
       "<div>\n",
       "<style scoped>\n",
       "    .dataframe tbody tr th:only-of-type {\n",
       "        vertical-align: middle;\n",
       "    }\n",
       "\n",
       "    .dataframe tbody tr th {\n",
       "        vertical-align: top;\n",
       "    }\n",
       "\n",
       "    .dataframe thead th {\n",
       "        text-align: right;\n",
       "    }\n",
       "</style>\n",
       "<table border=\"1\" class=\"dataframe\">\n",
       "  <thead>\n",
       "    <tr style=\"text-align: right;\">\n",
       "      <th>특성</th>\n",
       "      <th>2010</th>\n",
       "    </tr>\n",
       "    <tr>\n",
       "      <th>도시</th>\n",
       "      <th></th>\n",
       "    </tr>\n",
       "  </thead>\n",
       "  <tbody>\n",
       "    <tr>\n",
       "      <th>서울</th>\n",
       "      <td>9631482</td>\n",
       "    </tr>\n",
       "    <tr>\n",
       "      <th>부산</th>\n",
       "      <td>3393191</td>\n",
       "    </tr>\n",
       "    <tr>\n",
       "      <th>인천</th>\n",
       "      <td>2632035</td>\n",
       "    </tr>\n",
       "    <tr>\n",
       "      <th>대구</th>\n",
       "      <td>2431774</td>\n",
       "    </tr>\n",
       "  </tbody>\n",
       "</table>\n",
       "</div>"
      ],
      "text/plain": [
       "특성     2010\n",
       "도시         \n",
       "서울  9631482\n",
       "부산  3393191\n",
       "인천  2632035\n",
       "대구  2431774"
      ]
     },
     "execution_count": 71,
     "metadata": {},
     "output_type": "execute_result"
    }
   ],
   "source": [
    "# 2010이라는 열을 반환하면서 데이터프레임 자료형을 유지\n",
    "df[ [\"2010\"] ]"
   ]
  },
  {
   "cell_type": "code",
   "execution_count": 72,
   "id": "97950bce",
   "metadata": {
    "ExecuteTime": {
     "end_time": "2023-12-18T06:27:11.592866Z",
     "start_time": "2023-12-18T06:27:11.587644Z"
    }
   },
   "outputs": [
    {
     "data": {
      "text/plain": [
       "pandas.core.frame.DataFrame"
      ]
     },
     "execution_count": 72,
     "metadata": {},
     "output_type": "execute_result"
    }
   ],
   "source": [
    "type(df[['2010']])"
   ]
  },
  {
   "cell_type": "markdown",
   "id": "0ca0b20c",
   "metadata": {},
   "source": [
    "데이터프레임의 열 인덱스가 문자열 라벨을 가지고 있는 경우에는 순서를 나타내는 정수 인덱스를 열 인덱싱에 사용할 수 없다.\n",
    "정수 인덱싱의 슬라이스는 뒤에서 설명하겠지만 행(row)을 인덱싱할 때 사용하므로 열을 인덱싱할 때는 쓸 수 없다.\n",
    "정수 인덱스를 넣으면 KeyError 오류가 발생하는 것을 볼 수 있다."
   ]
  },
  {
   "cell_type": "code",
   "execution_count": 74,
   "id": "6f14e3c4",
   "metadata": {
    "ExecuteTime": {
     "end_time": "2023-12-18T06:28:08.230333Z",
     "start_time": "2023-12-18T06:28:08.226836Z"
    }
   },
   "outputs": [],
   "source": [
    "import numpy as np"
   ]
  },
  {
   "cell_type": "code",
   "execution_count": 75,
   "id": "bdee716a",
   "metadata": {
    "ExecuteTime": {
     "end_time": "2023-12-18T06:28:09.931458Z",
     "start_time": "2023-12-18T06:28:09.914671Z"
    }
   },
   "outputs": [
    {
     "data": {
      "text/html": [
       "<div>\n",
       "<style scoped>\n",
       "    .dataframe tbody tr th:only-of-type {\n",
       "        vertical-align: middle;\n",
       "    }\n",
       "\n",
       "    .dataframe tbody tr th {\n",
       "        vertical-align: top;\n",
       "    }\n",
       "\n",
       "    .dataframe thead th {\n",
       "        text-align: right;\n",
       "    }\n",
       "</style>\n",
       "<table border=\"1\" class=\"dataframe\">\n",
       "  <thead>\n",
       "    <tr style=\"text-align: right;\">\n",
       "      <th></th>\n",
       "      <th>0</th>\n",
       "      <th>1</th>\n",
       "      <th>2</th>\n",
       "      <th>3</th>\n",
       "    </tr>\n",
       "  </thead>\n",
       "  <tbody>\n",
       "    <tr>\n",
       "      <th>0</th>\n",
       "      <td>0</td>\n",
       "      <td>1</td>\n",
       "      <td>2</td>\n",
       "      <td>3</td>\n",
       "    </tr>\n",
       "    <tr>\n",
       "      <th>1</th>\n",
       "      <td>4</td>\n",
       "      <td>5</td>\n",
       "      <td>6</td>\n",
       "      <td>7</td>\n",
       "    </tr>\n",
       "    <tr>\n",
       "      <th>2</th>\n",
       "      <td>8</td>\n",
       "      <td>9</td>\n",
       "      <td>10</td>\n",
       "      <td>11</td>\n",
       "    </tr>\n",
       "  </tbody>\n",
       "</table>\n",
       "</div>"
      ],
      "text/plain": [
       "   0  1   2   3\n",
       "0  0  1   2   3\n",
       "1  4  5   6   7\n",
       "2  8  9  10  11"
      ]
     },
     "execution_count": 75,
     "metadata": {},
     "output_type": "execute_result"
    }
   ],
   "source": [
    "df2 = pd.DataFrame(np.arange(12).reshape(3, 4))\n",
    "df2"
   ]
  },
  {
   "cell_type": "code",
   "execution_count": 76,
   "id": "34ffac23",
   "metadata": {
    "ExecuteTime": {
     "end_time": "2023-12-18T06:28:23.175647Z",
     "start_time": "2023-12-18T06:28:23.170170Z"
    }
   },
   "outputs": [
    {
     "data": {
      "text/plain": [
       "0     2\n",
       "1     6\n",
       "2    10\n",
       "Name: 2, dtype: int32"
      ]
     },
     "execution_count": 76,
     "metadata": {},
     "output_type": "execute_result"
    }
   ],
   "source": [
    "df2[2] # 값을 넣어 인덱싱하면 칼럼명으로 조회"
   ]
  },
  {
   "cell_type": "code",
   "execution_count": 77,
   "id": "91a308df",
   "metadata": {
    "ExecuteTime": {
     "end_time": "2023-12-18T06:28:44.787853Z",
     "start_time": "2023-12-18T06:28:44.768450Z"
    }
   },
   "outputs": [
    {
     "data": {
      "text/html": [
       "<div>\n",
       "<style scoped>\n",
       "    .dataframe tbody tr th:only-of-type {\n",
       "        vertical-align: middle;\n",
       "    }\n",
       "\n",
       "    .dataframe tbody tr th {\n",
       "        vertical-align: top;\n",
       "    }\n",
       "\n",
       "    .dataframe thead th {\n",
       "        text-align: right;\n",
       "    }\n",
       "</style>\n",
       "<table border=\"1\" class=\"dataframe\">\n",
       "  <thead>\n",
       "    <tr style=\"text-align: right;\">\n",
       "      <th></th>\n",
       "      <th>1</th>\n",
       "      <th>2</th>\n",
       "    </tr>\n",
       "  </thead>\n",
       "  <tbody>\n",
       "    <tr>\n",
       "      <th>0</th>\n",
       "      <td>1</td>\n",
       "      <td>2</td>\n",
       "    </tr>\n",
       "    <tr>\n",
       "      <th>1</th>\n",
       "      <td>5</td>\n",
       "      <td>6</td>\n",
       "    </tr>\n",
       "    <tr>\n",
       "      <th>2</th>\n",
       "      <td>9</td>\n",
       "      <td>10</td>\n",
       "    </tr>\n",
       "  </tbody>\n",
       "</table>\n",
       "</div>"
      ],
      "text/plain": [
       "   1   2\n",
       "0  1   2\n",
       "1  5   6\n",
       "2  9  10"
      ]
     },
     "execution_count": 77,
     "metadata": {},
     "output_type": "execute_result"
    }
   ],
   "source": [
    "df2[[1,2]]"
   ]
  },
  {
   "cell_type": "markdown",
   "id": "cb627175",
   "metadata": {
    "ExecuteTime": {
     "end_time": "2023-12-18T06:29:34.093487Z",
     "start_time": "2023-12-18T06:29:34.088472Z"
    }
   },
   "source": [
    "#### 행인덱싱\n",
    "\n",
    "행 단위로 인덱싱을 하고자 하면 항상 슬라이싱(slicing)을 해야 한다.\n",
    "인덱스의 값이 문자 라벨이면 라벨 슬라이싱도 가능하다."
   ]
  },
  {
   "cell_type": "code",
   "execution_count": 79,
   "id": "aa2361dc",
   "metadata": {
    "ExecuteTime": {
     "end_time": "2023-12-18T06:29:39.768299Z",
     "start_time": "2023-12-18T06:29:39.758424Z"
    }
   },
   "outputs": [
    {
     "data": {
      "text/html": [
       "<div>\n",
       "<style scoped>\n",
       "    .dataframe tbody tr th:only-of-type {\n",
       "        vertical-align: middle;\n",
       "    }\n",
       "\n",
       "    .dataframe tbody tr th {\n",
       "        vertical-align: top;\n",
       "    }\n",
       "\n",
       "    .dataframe thead th {\n",
       "        text-align: right;\n",
       "    }\n",
       "</style>\n",
       "<table border=\"1\" class=\"dataframe\">\n",
       "  <thead>\n",
       "    <tr style=\"text-align: right;\">\n",
       "      <th>특성</th>\n",
       "      <th>지역</th>\n",
       "      <th>2015</th>\n",
       "      <th>2010</th>\n",
       "      <th>2005</th>\n",
       "      <th>2000</th>\n",
       "      <th>2005-2010 증가율</th>\n",
       "    </tr>\n",
       "    <tr>\n",
       "      <th>도시</th>\n",
       "      <th></th>\n",
       "      <th></th>\n",
       "      <th></th>\n",
       "      <th></th>\n",
       "      <th></th>\n",
       "      <th></th>\n",
       "    </tr>\n",
       "  </thead>\n",
       "  <tbody>\n",
       "    <tr>\n",
       "      <th>서울</th>\n",
       "      <td>수도권</td>\n",
       "      <td>9904312</td>\n",
       "      <td>9631482</td>\n",
       "      <td>9762546</td>\n",
       "      <td>9853972</td>\n",
       "      <td>-1.34</td>\n",
       "    </tr>\n",
       "    <tr>\n",
       "      <th>부산</th>\n",
       "      <td>경상권</td>\n",
       "      <td>3448737</td>\n",
       "      <td>3393191</td>\n",
       "      <td>3512547</td>\n",
       "      <td>3655437</td>\n",
       "      <td>-3.40</td>\n",
       "    </tr>\n",
       "    <tr>\n",
       "      <th>인천</th>\n",
       "      <td>수도권</td>\n",
       "      <td>2890451</td>\n",
       "      <td>2632035</td>\n",
       "      <td>2517680</td>\n",
       "      <td>2466338</td>\n",
       "      <td>4.54</td>\n",
       "    </tr>\n",
       "    <tr>\n",
       "      <th>대구</th>\n",
       "      <td>경상권</td>\n",
       "      <td>2466052</td>\n",
       "      <td>2431774</td>\n",
       "      <td>2456016</td>\n",
       "      <td>2473990</td>\n",
       "      <td>-0.99</td>\n",
       "    </tr>\n",
       "  </tbody>\n",
       "</table>\n",
       "</div>"
      ],
      "text/plain": [
       "특성   지역     2015     2010     2005     2000  2005-2010 증가율\n",
       "도시                                                        \n",
       "서울  수도권  9904312  9631482  9762546  9853972          -1.34\n",
       "부산  경상권  3448737  3393191  3512547  3655437          -3.40\n",
       "인천  수도권  2890451  2632035  2517680  2466338           4.54\n",
       "대구  경상권  2466052  2431774  2456016  2473990          -0.99"
      ]
     },
     "execution_count": 79,
     "metadata": {},
     "output_type": "execute_result"
    }
   ],
   "source": [
    "df"
   ]
  },
  {
   "cell_type": "code",
   "execution_count": 82,
   "id": "d5714e8a",
   "metadata": {
    "ExecuteTime": {
     "end_time": "2023-12-18T06:29:59.087223Z",
     "start_time": "2023-12-18T06:29:59.079151Z"
    }
   },
   "outputs": [
    {
     "data": {
      "text/html": [
       "<div>\n",
       "<style scoped>\n",
       "    .dataframe tbody tr th:only-of-type {\n",
       "        vertical-align: middle;\n",
       "    }\n",
       "\n",
       "    .dataframe tbody tr th {\n",
       "        vertical-align: top;\n",
       "    }\n",
       "\n",
       "    .dataframe thead th {\n",
       "        text-align: right;\n",
       "    }\n",
       "</style>\n",
       "<table border=\"1\" class=\"dataframe\">\n",
       "  <thead>\n",
       "    <tr style=\"text-align: right;\">\n",
       "      <th>특성</th>\n",
       "      <th>지역</th>\n",
       "      <th>2015</th>\n",
       "      <th>2010</th>\n",
       "      <th>2005</th>\n",
       "      <th>2000</th>\n",
       "      <th>2005-2010 증가율</th>\n",
       "    </tr>\n",
       "    <tr>\n",
       "      <th>도시</th>\n",
       "      <th></th>\n",
       "      <th></th>\n",
       "      <th></th>\n",
       "      <th></th>\n",
       "      <th></th>\n",
       "      <th></th>\n",
       "    </tr>\n",
       "  </thead>\n",
       "  <tbody>\n",
       "    <tr>\n",
       "      <th>서울</th>\n",
       "      <td>수도권</td>\n",
       "      <td>9904312</td>\n",
       "      <td>9631482</td>\n",
       "      <td>9762546</td>\n",
       "      <td>9853972</td>\n",
       "      <td>-1.34</td>\n",
       "    </tr>\n",
       "  </tbody>\n",
       "</table>\n",
       "</div>"
      ],
      "text/plain": [
       "특성   지역     2015     2010     2005     2000  2005-2010 증가율\n",
       "도시                                                        \n",
       "서울  수도권  9904312  9631482  9762546  9853972          -1.34"
      ]
     },
     "execution_count": 82,
     "metadata": {},
     "output_type": "execute_result"
    }
   ],
   "source": [
    "df[:1] #슬라이싱으로 인덱싱하면 행 단위 조회"
   ]
  },
  {
   "cell_type": "code",
   "execution_count": 83,
   "id": "da3c8bef",
   "metadata": {
    "ExecuteTime": {
     "end_time": "2023-12-18T06:30:08.956964Z",
     "start_time": "2023-12-18T06:30:08.948320Z"
    }
   },
   "outputs": [
    {
     "data": {
      "text/html": [
       "<div>\n",
       "<style scoped>\n",
       "    .dataframe tbody tr th:only-of-type {\n",
       "        vertical-align: middle;\n",
       "    }\n",
       "\n",
       "    .dataframe tbody tr th {\n",
       "        vertical-align: top;\n",
       "    }\n",
       "\n",
       "    .dataframe thead th {\n",
       "        text-align: right;\n",
       "    }\n",
       "</style>\n",
       "<table border=\"1\" class=\"dataframe\">\n",
       "  <thead>\n",
       "    <tr style=\"text-align: right;\">\n",
       "      <th>특성</th>\n",
       "      <th>지역</th>\n",
       "      <th>2015</th>\n",
       "      <th>2010</th>\n",
       "      <th>2005</th>\n",
       "      <th>2000</th>\n",
       "      <th>2005-2010 증가율</th>\n",
       "    </tr>\n",
       "    <tr>\n",
       "      <th>도시</th>\n",
       "      <th></th>\n",
       "      <th></th>\n",
       "      <th></th>\n",
       "      <th></th>\n",
       "      <th></th>\n",
       "      <th></th>\n",
       "    </tr>\n",
       "  </thead>\n",
       "  <tbody>\n",
       "    <tr>\n",
       "      <th>부산</th>\n",
       "      <td>경상권</td>\n",
       "      <td>3448737</td>\n",
       "      <td>3393191</td>\n",
       "      <td>3512547</td>\n",
       "      <td>3655437</td>\n",
       "      <td>-3.4</td>\n",
       "    </tr>\n",
       "  </tbody>\n",
       "</table>\n",
       "</div>"
      ],
      "text/plain": [
       "특성   지역     2015     2010     2005     2000  2005-2010 증가율\n",
       "도시                                                        \n",
       "부산  경상권  3448737  3393191  3512547  3655437           -3.4"
      ]
     },
     "execution_count": 83,
     "metadata": {},
     "output_type": "execute_result"
    }
   ],
   "source": [
    "df[1:2]"
   ]
  },
  {
   "cell_type": "code",
   "execution_count": 84,
   "id": "7f6a5f5f",
   "metadata": {
    "ExecuteTime": {
     "end_time": "2023-12-18T06:30:15.740146Z",
     "start_time": "2023-12-18T06:30:15.728612Z"
    }
   },
   "outputs": [
    {
     "data": {
      "text/html": [
       "<div>\n",
       "<style scoped>\n",
       "    .dataframe tbody tr th:only-of-type {\n",
       "        vertical-align: middle;\n",
       "    }\n",
       "\n",
       "    .dataframe tbody tr th {\n",
       "        vertical-align: top;\n",
       "    }\n",
       "\n",
       "    .dataframe thead th {\n",
       "        text-align: right;\n",
       "    }\n",
       "</style>\n",
       "<table border=\"1\" class=\"dataframe\">\n",
       "  <thead>\n",
       "    <tr style=\"text-align: right;\">\n",
       "      <th>특성</th>\n",
       "      <th>지역</th>\n",
       "      <th>2015</th>\n",
       "      <th>2010</th>\n",
       "      <th>2005</th>\n",
       "      <th>2000</th>\n",
       "      <th>2005-2010 증가율</th>\n",
       "    </tr>\n",
       "    <tr>\n",
       "      <th>도시</th>\n",
       "      <th></th>\n",
       "      <th></th>\n",
       "      <th></th>\n",
       "      <th></th>\n",
       "      <th></th>\n",
       "      <th></th>\n",
       "    </tr>\n",
       "  </thead>\n",
       "  <tbody>\n",
       "    <tr>\n",
       "      <th>부산</th>\n",
       "      <td>경상권</td>\n",
       "      <td>3448737</td>\n",
       "      <td>3393191</td>\n",
       "      <td>3512547</td>\n",
       "      <td>3655437</td>\n",
       "      <td>-3.40</td>\n",
       "    </tr>\n",
       "    <tr>\n",
       "      <th>인천</th>\n",
       "      <td>수도권</td>\n",
       "      <td>2890451</td>\n",
       "      <td>2632035</td>\n",
       "      <td>2517680</td>\n",
       "      <td>2466338</td>\n",
       "      <td>4.54</td>\n",
       "    </tr>\n",
       "  </tbody>\n",
       "</table>\n",
       "</div>"
      ],
      "text/plain": [
       "특성   지역     2015     2010     2005     2000  2005-2010 증가율\n",
       "도시                                                        \n",
       "부산  경상권  3448737  3393191  3512547  3655437          -3.40\n",
       "인천  수도권  2890451  2632035  2517680  2466338           4.54"
      ]
     },
     "execution_count": 84,
     "metadata": {},
     "output_type": "execute_result"
    }
   ],
   "source": [
    "df[1:3]"
   ]
  },
  {
   "cell_type": "code",
   "execution_count": 85,
   "id": "3ad20a9e",
   "metadata": {
    "ExecuteTime": {
     "end_time": "2023-12-18T06:30:30.676642Z",
     "start_time": "2023-12-18T06:30:30.668751Z"
    }
   },
   "outputs": [
    {
     "data": {
      "text/html": [
       "<div>\n",
       "<style scoped>\n",
       "    .dataframe tbody tr th:only-of-type {\n",
       "        vertical-align: middle;\n",
       "    }\n",
       "\n",
       "    .dataframe tbody tr th {\n",
       "        vertical-align: top;\n",
       "    }\n",
       "\n",
       "    .dataframe thead th {\n",
       "        text-align: right;\n",
       "    }\n",
       "</style>\n",
       "<table border=\"1\" class=\"dataframe\">\n",
       "  <thead>\n",
       "    <tr style=\"text-align: right;\">\n",
       "      <th>특성</th>\n",
       "      <th>지역</th>\n",
       "      <th>2015</th>\n",
       "      <th>2010</th>\n",
       "      <th>2005</th>\n",
       "      <th>2000</th>\n",
       "      <th>2005-2010 증가율</th>\n",
       "    </tr>\n",
       "    <tr>\n",
       "      <th>도시</th>\n",
       "      <th></th>\n",
       "      <th></th>\n",
       "      <th></th>\n",
       "      <th></th>\n",
       "      <th></th>\n",
       "      <th></th>\n",
       "    </tr>\n",
       "  </thead>\n",
       "  <tbody>\n",
       "    <tr>\n",
       "      <th>서울</th>\n",
       "      <td>수도권</td>\n",
       "      <td>9904312</td>\n",
       "      <td>9631482</td>\n",
       "      <td>9762546</td>\n",
       "      <td>9853972</td>\n",
       "      <td>-1.34</td>\n",
       "    </tr>\n",
       "    <tr>\n",
       "      <th>부산</th>\n",
       "      <td>경상권</td>\n",
       "      <td>3448737</td>\n",
       "      <td>3393191</td>\n",
       "      <td>3512547</td>\n",
       "      <td>3655437</td>\n",
       "      <td>-3.40</td>\n",
       "    </tr>\n",
       "    <tr>\n",
       "      <th>인천</th>\n",
       "      <td>수도권</td>\n",
       "      <td>2890451</td>\n",
       "      <td>2632035</td>\n",
       "      <td>2517680</td>\n",
       "      <td>2466338</td>\n",
       "      <td>4.54</td>\n",
       "    </tr>\n",
       "  </tbody>\n",
       "</table>\n",
       "</div>"
      ],
      "text/plain": [
       "특성   지역     2015     2010     2005     2000  2005-2010 증가율\n",
       "도시                                                        \n",
       "서울  수도권  9904312  9631482  9762546  9853972          -1.34\n",
       "부산  경상권  3448737  3393191  3512547  3655437          -3.40\n",
       "인천  수도권  2890451  2632035  2517680  2466338           4.54"
      ]
     },
     "execution_count": 85,
     "metadata": {},
     "output_type": "execute_result"
    }
   ],
   "source": [
    "df['서울':'인천']"
   ]
  },
  {
   "cell_type": "markdown",
   "id": "0e511f41",
   "metadata": {},
   "source": [
    "#### 개별 데이터 인덱싱\n",
    "\n",
    "데이터프레임에서 열 라벨로 시리즈를 인덱싱하면 시리즈가 된다.\n",
    "이 시리즈를 다시 행 라벨로 인덱싱하면 개별 데이터가 나온다."
   ]
  },
  {
   "cell_type": "code",
   "execution_count": 86,
   "id": "83b0f019",
   "metadata": {
    "ExecuteTime": {
     "end_time": "2023-12-18T06:32:17.506369Z",
     "start_time": "2023-12-18T06:32:17.501359Z"
    }
   },
   "outputs": [
    {
     "data": {
      "text/plain": [
       "9904312"
      ]
     },
     "execution_count": 86,
     "metadata": {},
     "output_type": "execute_result"
    }
   ],
   "source": [
    "df[\"2015\"][\"서울\"]"
   ]
  },
  {
   "cell_type": "markdown",
   "id": "2a612718",
   "metadata": {
    "ExecuteTime": {
     "end_time": "2023-12-18T06:40:53.026238Z",
     "start_time": "2023-12-18T06:40:53.021209Z"
    }
   },
   "source": [
    "{admonition} 연습 문제 4.1.3\n",
    "\n",
    "다음 데이터프레임에서 지정하는 데이터를 뽑아내거나 처리하라.\n",
    "````\n",
    "data = {\n",
    "    \"국어\": [80, 90, 70, 30],\n",
    "    \"영어\": [90, 70, 60, 40],\n",
    "    \"수학\": [90, 60, 80, 70],\n",
    "}\n",
    "columns = [\"국어\", \"영어\", \"수학\"]\n",
    "index = [\"춘향\", \"몽룡\", \"향단\", \"방자\"]\n",
    "df = pd.DataFrame(data, index=index, columns=columns)\n",
    "(1) 모든 학생의 수학 점수를 시리즈로 나타낸다.\n",
    "\n",
    "(2) 모든 학생의 국어와 영어 점수를 데이터 프레임으로 나타낸다.\n",
    "\n",
    "(3) 모든 학생의 각 과목 평균 점수를 새로운 열로 추가한다.\n",
    "\n",
    "(4) 방자의 영어 점수를 80점으로 수정하고 평균 점수도 다시 계산한다.\n",
    "\n",
    "(5) 춘향의 점수를 데이터프레임으로 나타낸다.\n",
    "\n",
    "(6) 향단의 점수를 시리즈로 나타낸다.\n",
    "\n",
    "````"
   ]
  },
  {
   "cell_type": "code",
   "execution_count": 90,
   "id": "a650c51f",
   "metadata": {
    "ExecuteTime": {
     "end_time": "2023-12-18T06:42:34.940044Z",
     "start_time": "2023-12-18T06:42:34.930967Z"
    }
   },
   "outputs": [
    {
     "data": {
      "text/html": [
       "<div>\n",
       "<style scoped>\n",
       "    .dataframe tbody tr th:only-of-type {\n",
       "        vertical-align: middle;\n",
       "    }\n",
       "\n",
       "    .dataframe tbody tr th {\n",
       "        vertical-align: top;\n",
       "    }\n",
       "\n",
       "    .dataframe thead th {\n",
       "        text-align: right;\n",
       "    }\n",
       "</style>\n",
       "<table border=\"1\" class=\"dataframe\">\n",
       "  <thead>\n",
       "    <tr style=\"text-align: right;\">\n",
       "      <th></th>\n",
       "      <th>국어</th>\n",
       "      <th>영어</th>\n",
       "      <th>수학</th>\n",
       "    </tr>\n",
       "  </thead>\n",
       "  <tbody>\n",
       "    <tr>\n",
       "      <th>춘향</th>\n",
       "      <td>80</td>\n",
       "      <td>90</td>\n",
       "      <td>90</td>\n",
       "    </tr>\n",
       "    <tr>\n",
       "      <th>몽룡</th>\n",
       "      <td>90</td>\n",
       "      <td>70</td>\n",
       "      <td>60</td>\n",
       "    </tr>\n",
       "    <tr>\n",
       "      <th>향단</th>\n",
       "      <td>70</td>\n",
       "      <td>60</td>\n",
       "      <td>80</td>\n",
       "    </tr>\n",
       "    <tr>\n",
       "      <th>방자</th>\n",
       "      <td>30</td>\n",
       "      <td>40</td>\n",
       "      <td>70</td>\n",
       "    </tr>\n",
       "  </tbody>\n",
       "</table>\n",
       "</div>"
      ],
      "text/plain": [
       "    국어  영어  수학\n",
       "춘향  80  90  90\n",
       "몽룡  90  70  60\n",
       "향단  70  60  80\n",
       "방자  30  40  70"
      ]
     },
     "execution_count": 90,
     "metadata": {},
     "output_type": "execute_result"
    }
   ],
   "source": [
    "data = {\n",
    "    \"국어\": [80, 90, 70, 30],\n",
    "    \"영어\": [90, 70, 60, 40],\n",
    "    \"수학\": [90, 60, 80, 70],\n",
    "}\n",
    "columns = [\"국어\", \"영어\", \"수학\"]\n",
    "index = [\"춘향\", \"몽룡\", \"향단\", \"방자\"]\n",
    "df = pd.DataFrame(data, index=index, columns=columns)\n",
    "df"
   ]
  },
  {
   "cell_type": "code",
   "execution_count": 91,
   "id": "4c62a8da",
   "metadata": {
    "ExecuteTime": {
     "end_time": "2023-12-18T06:43:41.390421Z",
     "start_time": "2023-12-18T06:43:41.384893Z"
    }
   },
   "outputs": [
    {
     "data": {
      "text/plain": [
       "춘향    90\n",
       "몽룡    60\n",
       "향단    80\n",
       "방자    70\n",
       "Name: 수학, dtype: int64"
      ]
     },
     "execution_count": 91,
     "metadata": {},
     "output_type": "execute_result"
    }
   ],
   "source": [
    "# (1) 모든 학생의 수학 점수를 시리즈로 나타낸다.\n",
    "df['수학']"
   ]
  },
  {
   "cell_type": "code",
   "execution_count": 92,
   "id": "b718466d",
   "metadata": {
    "ExecuteTime": {
     "end_time": "2023-12-18T06:44:02.779433Z",
     "start_time": "2023-12-18T06:44:02.772517Z"
    }
   },
   "outputs": [
    {
     "data": {
      "text/html": [
       "<div>\n",
       "<style scoped>\n",
       "    .dataframe tbody tr th:only-of-type {\n",
       "        vertical-align: middle;\n",
       "    }\n",
       "\n",
       "    .dataframe tbody tr th {\n",
       "        vertical-align: top;\n",
       "    }\n",
       "\n",
       "    .dataframe thead th {\n",
       "        text-align: right;\n",
       "    }\n",
       "</style>\n",
       "<table border=\"1\" class=\"dataframe\">\n",
       "  <thead>\n",
       "    <tr style=\"text-align: right;\">\n",
       "      <th></th>\n",
       "      <th>국어</th>\n",
       "      <th>영어</th>\n",
       "    </tr>\n",
       "  </thead>\n",
       "  <tbody>\n",
       "    <tr>\n",
       "      <th>춘향</th>\n",
       "      <td>80</td>\n",
       "      <td>90</td>\n",
       "    </tr>\n",
       "    <tr>\n",
       "      <th>몽룡</th>\n",
       "      <td>90</td>\n",
       "      <td>70</td>\n",
       "    </tr>\n",
       "    <tr>\n",
       "      <th>향단</th>\n",
       "      <td>70</td>\n",
       "      <td>60</td>\n",
       "    </tr>\n",
       "    <tr>\n",
       "      <th>방자</th>\n",
       "      <td>30</td>\n",
       "      <td>40</td>\n",
       "    </tr>\n",
       "  </tbody>\n",
       "</table>\n",
       "</div>"
      ],
      "text/plain": [
       "    국어  영어\n",
       "춘향  80  90\n",
       "몽룡  90  70\n",
       "향단  70  60\n",
       "방자  30  40"
      ]
     },
     "execution_count": 92,
     "metadata": {},
     "output_type": "execute_result"
    }
   ],
   "source": [
    "# (2) 모든 학생의 국어와 영어 점수를 데이터 프레임으로 나타낸다.\n",
    "df[['국어', '영어']]"
   ]
  },
  {
   "cell_type": "code",
   "execution_count": 101,
   "id": "b3645bbb",
   "metadata": {
    "ExecuteTime": {
     "end_time": "2023-12-18T06:49:14.252897Z",
     "start_time": "2023-12-18T06:49:14.244151Z"
    }
   },
   "outputs": [
    {
     "data": {
      "text/html": [
       "<div>\n",
       "<style scoped>\n",
       "    .dataframe tbody tr th:only-of-type {\n",
       "        vertical-align: middle;\n",
       "    }\n",
       "\n",
       "    .dataframe tbody tr th {\n",
       "        vertical-align: top;\n",
       "    }\n",
       "\n",
       "    .dataframe thead th {\n",
       "        text-align: right;\n",
       "    }\n",
       "</style>\n",
       "<table border=\"1\" class=\"dataframe\">\n",
       "  <thead>\n",
       "    <tr style=\"text-align: right;\">\n",
       "      <th></th>\n",
       "      <th>국어</th>\n",
       "      <th>영어</th>\n",
       "      <th>수학</th>\n",
       "      <th>평균점수</th>\n",
       "    </tr>\n",
       "  </thead>\n",
       "  <tbody>\n",
       "    <tr>\n",
       "      <th>춘향</th>\n",
       "      <td>80</td>\n",
       "      <td>90</td>\n",
       "      <td>90</td>\n",
       "      <td>86.67</td>\n",
       "    </tr>\n",
       "    <tr>\n",
       "      <th>몽룡</th>\n",
       "      <td>90</td>\n",
       "      <td>70</td>\n",
       "      <td>60</td>\n",
       "      <td>73.33</td>\n",
       "    </tr>\n",
       "    <tr>\n",
       "      <th>향단</th>\n",
       "      <td>70</td>\n",
       "      <td>60</td>\n",
       "      <td>80</td>\n",
       "      <td>70.00</td>\n",
       "    </tr>\n",
       "    <tr>\n",
       "      <th>방자</th>\n",
       "      <td>30</td>\n",
       "      <td>80</td>\n",
       "      <td>70</td>\n",
       "      <td>59.79</td>\n",
       "    </tr>\n",
       "  </tbody>\n",
       "</table>\n",
       "</div>"
      ],
      "text/plain": [
       "    국어  영어  수학   평균점수\n",
       "춘향  80  90  90  86.67\n",
       "몽룡  90  70  60  73.33\n",
       "향단  70  60  80  70.00\n",
       "방자  30  80  70  59.79"
      ]
     },
     "execution_count": 101,
     "metadata": {},
     "output_type": "execute_result"
    }
   ],
   "source": [
    "# (3) 모든 학생의 모든 과목 평균 점수를 새로운 열로 추가한다.\n",
    "\n",
    "df['평균점수'] = round(df.mean(axis=1),2)\n",
    "df"
   ]
  },
  {
   "cell_type": "code",
   "execution_count": 102,
   "id": "ee1236bc",
   "metadata": {
    "ExecuteTime": {
     "end_time": "2023-12-18T06:49:48.087134Z",
     "start_time": "2023-12-18T06:49:48.076213Z"
    }
   },
   "outputs": [
    {
     "name": "stderr",
     "output_type": "stream",
     "text": [
      "C:\\Users\\limfl\\AppData\\Local\\Temp\\ipykernel_13732\\502710543.py:2: SettingWithCopyWarning: \n",
      "A value is trying to be set on a copy of a slice from a DataFrame\n",
      "\n",
      "See the caveats in the documentation: https://pandas.pydata.org/pandas-docs/stable/user_guide/indexing.html#returning-a-view-versus-a-copy\n",
      "  df['영어']['방자'] = 80\n"
     ]
    },
    {
     "data": {
      "text/html": [
       "<div>\n",
       "<style scoped>\n",
       "    .dataframe tbody tr th:only-of-type {\n",
       "        vertical-align: middle;\n",
       "    }\n",
       "\n",
       "    .dataframe tbody tr th {\n",
       "        vertical-align: top;\n",
       "    }\n",
       "\n",
       "    .dataframe thead th {\n",
       "        text-align: right;\n",
       "    }\n",
       "</style>\n",
       "<table border=\"1\" class=\"dataframe\">\n",
       "  <thead>\n",
       "    <tr style=\"text-align: right;\">\n",
       "      <th></th>\n",
       "      <th>국어</th>\n",
       "      <th>영어</th>\n",
       "      <th>수학</th>\n",
       "      <th>평균점수</th>\n",
       "    </tr>\n",
       "  </thead>\n",
       "  <tbody>\n",
       "    <tr>\n",
       "      <th>춘향</th>\n",
       "      <td>80</td>\n",
       "      <td>90</td>\n",
       "      <td>90</td>\n",
       "      <td>86.67</td>\n",
       "    </tr>\n",
       "    <tr>\n",
       "      <th>몽룡</th>\n",
       "      <td>90</td>\n",
       "      <td>70</td>\n",
       "      <td>60</td>\n",
       "      <td>73.33</td>\n",
       "    </tr>\n",
       "    <tr>\n",
       "      <th>향단</th>\n",
       "      <td>70</td>\n",
       "      <td>60</td>\n",
       "      <td>80</td>\n",
       "      <td>70.00</td>\n",
       "    </tr>\n",
       "    <tr>\n",
       "      <th>방자</th>\n",
       "      <td>30</td>\n",
       "      <td>80</td>\n",
       "      <td>70</td>\n",
       "      <td>59.95</td>\n",
       "    </tr>\n",
       "  </tbody>\n",
       "</table>\n",
       "</div>"
      ],
      "text/plain": [
       "    국어  영어  수학   평균점수\n",
       "춘향  80  90  90  86.67\n",
       "몽룡  90  70  60  73.33\n",
       "향단  70  60  80  70.00\n",
       "방자  30  80  70  59.95"
      ]
     },
     "execution_count": 102,
     "metadata": {},
     "output_type": "execute_result"
    }
   ],
   "source": [
    "# (4) 방자의 영어 점수를 80점으로 수정하고 평균 점수도 다시 계산한다.\n",
    "df['영어']['방자'] = 80 #인덱싱의 모든 기준은 칼럼명부터\n",
    "df['평균점수'] = round(df.mean(axis=1),2)\n",
    "df"
   ]
  },
  {
   "cell_type": "code",
   "execution_count": 97,
   "id": "bd76e3ca",
   "metadata": {
    "ExecuteTime": {
     "end_time": "2023-12-18T06:45:39.171570Z",
     "start_time": "2023-12-18T06:45:39.164474Z"
    }
   },
   "outputs": [
    {
     "data": {
      "text/html": [
       "<div>\n",
       "<style scoped>\n",
       "    .dataframe tbody tr th:only-of-type {\n",
       "        vertical-align: middle;\n",
       "    }\n",
       "\n",
       "    .dataframe tbody tr th {\n",
       "        vertical-align: top;\n",
       "    }\n",
       "\n",
       "    .dataframe thead th {\n",
       "        text-align: right;\n",
       "    }\n",
       "</style>\n",
       "<table border=\"1\" class=\"dataframe\">\n",
       "  <thead>\n",
       "    <tr style=\"text-align: right;\">\n",
       "      <th></th>\n",
       "      <th>국어</th>\n",
       "      <th>영어</th>\n",
       "      <th>수학</th>\n",
       "      <th>평균점수</th>\n",
       "    </tr>\n",
       "  </thead>\n",
       "  <tbody>\n",
       "    <tr>\n",
       "      <th>춘향</th>\n",
       "      <td>80</td>\n",
       "      <td>90</td>\n",
       "      <td>90</td>\n",
       "      <td>86.666667</td>\n",
       "    </tr>\n",
       "  </tbody>\n",
       "</table>\n",
       "</div>"
      ],
      "text/plain": [
       "    국어  영어  수학       평균점수\n",
       "춘향  80  90  90  86.666667"
      ]
     },
     "execution_count": 97,
     "metadata": {},
     "output_type": "execute_result"
    }
   ],
   "source": [
    "# (5) 춘향의 점수를 데이터프레임으로 나타낸다.\n",
    "df[:1]"
   ]
  },
  {
   "cell_type": "code",
   "execution_count": 104,
   "id": "c5acadff",
   "metadata": {
    "ExecuteTime": {
     "end_time": "2023-12-18T06:50:54.714871Z",
     "start_time": "2023-12-18T06:50:54.707984Z"
    }
   },
   "outputs": [
    {
     "data": {
      "text/plain": [
       "국어      70.0\n",
       "영어      60.0\n",
       "수학      80.0\n",
       "평균점수    70.0\n",
       "Name: 향단, dtype: float64"
      ]
     },
     "execution_count": 104,
     "metadata": {},
     "output_type": "execute_result"
    }
   ],
   "source": [
    "# (6) 향단의 점수를 시리즈로 나타낸다.\n",
    "df.T['향단']"
   ]
  },
  {
   "cell_type": "code",
   "execution_count": null,
   "id": "d2257950",
   "metadata": {},
   "outputs": [],
   "source": []
  }
 ],
 "metadata": {
  "kernelspec": {
   "display_name": "Python 3 (ipykernel)",
   "language": "python",
   "name": "python3"
  },
  "language_info": {
   "codemirror_mode": {
    "name": "ipython",
    "version": 3
   },
   "file_extension": ".py",
   "mimetype": "text/x-python",
   "name": "python",
   "nbconvert_exporter": "python",
   "pygments_lexer": "ipython3",
   "version": "3.11.5"
  },
  "toc": {
   "base_numbering": 1,
   "nav_menu": {},
   "number_sections": true,
   "sideBar": true,
   "skip_h1_title": false,
   "title_cell": "Table of Contents",
   "title_sidebar": "Contents",
   "toc_cell": false,
   "toc_position": {},
   "toc_section_display": true,
   "toc_window_display": false
  }
 },
 "nbformat": 4,
 "nbformat_minor": 5
}
