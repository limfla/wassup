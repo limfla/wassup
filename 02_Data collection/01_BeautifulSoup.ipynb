{
 "cells": [
  {
   "cell_type": "markdown",
   "id": "66569461",
   "metadata": {},
   "source": [
    "## 프로세스\n",
    "* 웹 접속 및 HTML코드 추출 > 계층구조(DOM)변환 > 검색 후 추출 > 가공\n",
    "* 아나콘다 사용자는 기본 라이브러리로 내장됨 (설치 불필요) "
   ]
  },
  {
   "cell_type": "code",
   "execution_count": null,
   "id": "aa764677",
   "metadata": {},
   "outputs": [],
   "source": [
    "pip install bs4"
   ]
  },
  {
   "cell_type": "code",
   "execution_count": 3,
   "id": "c2ac77c5",
   "metadata": {
    "ExecuteTime": {
     "end_time": "2023-12-13T08:14:14.808785Z",
     "start_time": "2023-12-13T08:14:14.806042Z"
    }
   },
   "outputs": [],
   "source": [
    "# parser 가져오기\n",
    "\n",
    "from bs4 import BeautifulSoup\n",
    "import lxml"
   ]
  },
  {
   "cell_type": "code",
   "execution_count": 4,
   "id": "65ed412c",
   "metadata": {
    "ExecuteTime": {
     "end_time": "2023-12-13T08:14:20.622806Z",
     "start_time": "2023-12-13T08:14:20.581130Z"
    }
   },
   "outputs": [],
   "source": [
    "BeautifulSoup?"
   ]
  },
  {
   "cell_type": "code",
   "execution_count": 9,
   "id": "031648dc",
   "metadata": {
    "ExecuteTime": {
     "end_time": "2023-12-13T08:16:42.767745Z",
     "start_time": "2023-12-13T08:16:42.754182Z"
    }
   },
   "outputs": [
    {
     "data": {
      "text/plain": [
       "<html><body><div id=\"prices\">\n",
       "<table>\n",
       "<tr class=\"bb\">\n",
       "<th class=\"bb lm lft\">Date\n",
       "            </th><th class=\"rgt bb\">Open\n",
       "            </th><th class=\"rgt bb\">High\n",
       "            </th><th class=\"rgt bb\">Low\n",
       "            </th><th class=\"rgt bb\">Close\n",
       "            </th><th class=\"rgt bb rm\">Volume\n",
       "        </th></tr><tr>\n",
       "<td class=\"lm\">Feb 28, 2014\n",
       "            </td><td class=\"rgt\">100.71\n",
       "            </td><td class=\"rgt\">100.71\n",
       "            </td><td class=\"rgt\">100.71\n",
       "            </td><td class=\"rgt\">100.71\n",
       "            </td><td class=\"rgt rm\">0\n",
       "     </td></tr></table>\n",
       "</div></body></html>"
      ]
     },
     "execution_count": 9,
     "metadata": {},
     "output_type": "execute_result"
    }
   ],
   "source": [
    "# lxml의 HTML파서\n",
    "\n",
    "BeautifulSoup(html, 'lxml')"
   ]
  },
  {
   "cell_type": "code",
   "execution_count": 10,
   "id": "63d7b0e5",
   "metadata": {
    "ExecuteTime": {
     "end_time": "2023-12-13T08:17:08.306671Z",
     "start_time": "2023-12-13T08:17:08.295690Z"
    }
   },
   "outputs": [
    {
     "data": {
      "text/plain": [
       "\n",
       "<div id=\"prices\">\n",
       "<table>\n",
       "<tr class=\"bb\">\n",
       "<th class=\"bb lm lft\">Date\n",
       "            <th class=\"rgt bb\">Open\n",
       "            <th class=\"rgt bb\">High\n",
       "            <th class=\"rgt bb\">Low\n",
       "            <th class=\"rgt bb\">Close\n",
       "            <th class=\"rgt bb rm\">Volume\n",
       "        <tr>\n",
       "<td class=\"lm\">Feb 28, 2014\n",
       "            <td class=\"rgt\">100.71\n",
       "            <td class=\"rgt\">100.71\n",
       "            <td class=\"rgt\">100.71\n",
       "            <td class=\"rgt\">100.71\n",
       "            <td class=\"rgt rm\">0\n",
       "     </td></td></td></td></td></td></tr></th></th></th></th></th></th></tr></table>\n",
       "</div>"
      ]
     },
     "execution_count": 10,
     "metadata": {},
     "output_type": "execute_result"
    }
   ],
   "source": [
    "# 파이썬 표준 html파서\n",
    "\n",
    "BeautifulSoup(html, 'html.parser')"
   ]
  },
  {
   "cell_type": "code",
   "execution_count": 18,
   "id": "1d7e4cad",
   "metadata": {
    "ExecuteTime": {
     "end_time": "2023-12-13T08:25:10.482175Z",
     "start_time": "2023-12-13T08:25:10.477375Z"
    }
   },
   "outputs": [],
   "source": [
    "# bs4 객체 속성과 매서드\n",
    "\n",
    "html_file = open('market.html', encoding='utf-8')\n",
    "html_src = html_file.read()\n",
    "html_file.close()"
   ]
  },
  {
   "cell_type": "code",
   "execution_count": 16,
   "id": "bb8bc15e",
   "metadata": {
    "ExecuteTime": {
     "end_time": "2023-12-13T08:23:12.581147Z",
     "start_time": "2023-12-13T08:23:12.575625Z"
    }
   },
   "outputs": [
    {
     "data": {
      "text/plain": [
       "'<html>\\n    <body>\\n        <h1> 과일 목록 </h1>\\n        <div>\\n                <p id=\\'banana\\' class=\\'fruit\\' title=\\'바나나\\'>\\n                      <span class = \\'price\\'> 3000원 </span>\\n                      <span class = \\'count\\'> 10개 </span>\\n                      <span class = \\'store\\'> 바나나가게 </span>\\n                      <a href = \\'https://www.banana.com\\'> banana.com </a>\\n                </p>\\n                <p id=\\'cherry\\' class=\\'fruit\\' title=\\'체리\\'>\\n                    <span class = \\'price\\'> 100원 </span>\\n                    <span class = \\'count\\'> 50개 </span>\\n                    <span class = \\'store\\'> 체리가게</span>\\n                    <a href = \\'https://www.cherry.com\\'> cherry.com </a>\\n                </p>\\n                <p id=\\'orange\\' class=\\'fruit best\\' title=\\'오렌지\\'>\\n                    <span class = \\'price\\'> 500원 </span>\\n                    <span class = \\'count\\'> 20개 </span>\\n                    <span class = \\'store\\'> 오렌지가게</span>\\n                    <a href = \\'https://www.orange.com\\'> orange.com </a>\\n                    <span>\\n                        <a href=\"https://www.orange.blog/\">오렌지 효능</a>\\n                    </span>\\n                </p>\\n        </div>\\n    </body> \\n</html>'"
      ]
     },
     "execution_count": 16,
     "metadata": {},
     "output_type": "execute_result"
    }
   ],
   "source": [
    "html_src"
   ]
  },
  {
   "cell_type": "code",
   "execution_count": 17,
   "id": "199e2c41",
   "metadata": {
    "ExecuteTime": {
     "end_time": "2023-12-13T08:24:17.455388Z",
     "start_time": "2023-12-13T08:24:17.438600Z"
    }
   },
   "outputs": [
    {
     "name": "stdout",
     "output_type": "stream",
     "text": [
      "<html>\n",
      "    <body>\n",
      "        <h1> 과일 목록 </h1>\n",
      "        <div>\n",
      "                <p id='banana' class='fruit' title='바나나'>\n",
      "                      <span class = 'price'> 3000원 </span>\n",
      "                      <span class = 'count'> 10개 </span>\n",
      "                      <span class = 'store'> 바나나가게 </span>\n",
      "                      <a href = 'https://www.banana.com'> banana.com </a>\n",
      "                </p>\n",
      "                <p id='cherry' class='fruit' title='체리'>\n",
      "                    <span class = 'price'> 100원 </span>\n",
      "                    <span class = 'count'> 50개 </span>\n",
      "                    <span class = 'store'> 체리가게</span>\n",
      "                    <a href = 'https://www.cherry.com'> cherry.com </a>\n",
      "                </p>\n",
      "                <p id='orange' class='fruit best' title='오렌지'>\n",
      "                    <span class = 'price'> 500원 </span>\n",
      "                    <span class = 'count'> 20개 </span>\n",
      "                    <span class = 'store'> 오렌지가게</span>\n",
      "                    <a href = 'https://www.orange.com'> orange.com </a>\n",
      "                    <span>\n",
      "                        <a href=\"https://www.orange.blog/\">오렌지 효능</a>\n",
      "                    </span>\n",
      "                </p>\n",
      "        </div>\n",
      "    </body> \n",
      "</html>\n"
     ]
    }
   ],
   "source": [
    "# print로 출력하면 트리구조롤 정렬된 결과값\n",
    "print(html_src)"
   ]
  },
  {
   "cell_type": "code",
   "execution_count": 19,
   "id": "a67cd0b3",
   "metadata": {
    "ExecuteTime": {
     "end_time": "2023-12-13T08:26:37.337372Z",
     "start_time": "2023-12-13T08:26:37.331910Z"
    }
   },
   "outputs": [],
   "source": [
    "# DOM 구조로 변환 (구문분석)\n",
    "soup = BeautifulSoup(html_src, 'lxml')"
   ]
  },
  {
   "cell_type": "code",
   "execution_count": 20,
   "id": "8ff193a8",
   "metadata": {
    "ExecuteTime": {
     "end_time": "2023-12-13T08:26:45.498281Z",
     "start_time": "2023-12-13T08:26:45.488332Z"
    }
   },
   "outputs": [
    {
     "data": {
      "text/plain": [
       "bs4.BeautifulSoup"
      ]
     },
     "execution_count": 20,
     "metadata": {},
     "output_type": "execute_result"
    }
   ],
   "source": [
    "type(soup)"
   ]
  },
  {
   "cell_type": "code",
   "execution_count": 22,
   "id": "7f127890",
   "metadata": {
    "ExecuteTime": {
     "end_time": "2023-12-13T08:27:12.554737Z",
     "start_time": "2023-12-13T08:27:12.547202Z"
    }
   },
   "outputs": [
    {
     "data": {
      "text/plain": [
       "<html>\n",
       "<body>\n",
       "<h1> 과일 목록 </h1>\n",
       "<div>\n",
       "<p class=\"fruit\" id=\"banana\" title=\"바나나\">\n",
       "<span class=\"price\"> 3000원 </span>\n",
       "<span class=\"count\"> 10개 </span>\n",
       "<span class=\"store\"> 바나나가게 </span>\n",
       "<a href=\"https://www.banana.com\"> banana.com </a>\n",
       "</p>\n",
       "<p class=\"fruit\" id=\"cherry\" title=\"체리\">\n",
       "<span class=\"price\"> 100원 </span>\n",
       "<span class=\"count\"> 50개 </span>\n",
       "<span class=\"store\"> 체리가게</span>\n",
       "<a href=\"https://www.cherry.com\"> cherry.com </a>\n",
       "</p>\n",
       "<p class=\"fruit best\" id=\"orange\" title=\"오렌지\">\n",
       "<span class=\"price\"> 500원 </span>\n",
       "<span class=\"count\"> 20개 </span>\n",
       "<span class=\"store\"> 오렌지가게</span>\n",
       "<a href=\"https://www.orange.com\"> orange.com </a>\n",
       "<span>\n",
       "<a href=\"https://www.orange.blog/\">오렌지 효능</a>\n",
       "</span>\n",
       "</p>\n",
       "</div>\n",
       "</body>\n",
       "</html>"
      ]
     },
     "execution_count": 22,
     "metadata": {},
     "output_type": "execute_result"
    }
   ],
   "source": [
    "# 한줄로 일목요연하게 정리된 결과값 (bs4의 힘!!)\n",
    "soup"
   ]
  },
  {
   "cell_type": "markdown",
   "id": "80507544",
   "metadata": {},
   "source": [
    "## 매서드를 사용한 요소 탐색\n",
    "\n",
    "1. find\n",
    "* soup.find/find_all(태그, id=orange, class_= ‘fruit)\n",
    "    * class는 예약어이기 때문에 class_으로 매개변수명을 구분함\n",
    "\n",
    "* soup.find(name = \"요소명\") : 첫번째 요소 찾기\n",
    "* soup.find(attrs = {\"속성\":\"값\"})\n",
    "* soup.find(속성 = \"값\") # 키워드 가변 인수\n",
    "* soup.find(string = \"텍스트\")\n",
    "* soup.find(recursive = \"True\") # 기본값, 후손 요소 전체에서 검색\n",
    "* soup.find(reculsive = \"False\") # 직계 자식 내에서만 검색\n",
    "* soup.find_all() : 모든 요소 찾기\n",
    "    * name, attrs, string, **kwargs, recursive, limit(final_all에서만 가능, limit=2는 2개만 찾기)"
   ]
  },
  {
   "cell_type": "code",
   "execution_count": 23,
   "id": "6e5504e3",
   "metadata": {
    "ExecuteTime": {
     "end_time": "2023-12-13T08:31:19.547869Z",
     "start_time": "2023-12-13T08:31:19.538592Z"
    }
   },
   "outputs": [],
   "source": [
    "soup.find?"
   ]
  },
  {
   "cell_type": "code",
   "execution_count": 28,
   "id": "01dd4afa",
   "metadata": {
    "ExecuteTime": {
     "end_time": "2023-12-13T08:33:03.165424Z",
     "start_time": "2023-12-13T08:33:03.160185Z"
    }
   },
   "outputs": [
    {
     "data": {
      "text/plain": [
       "<p class=\"fruit\" id=\"banana\" title=\"바나나\">\n",
       "<span class=\"price\"> 3000원 </span>\n",
       "<span class=\"count\"> 10개 </span>\n",
       "<span class=\"store\"> 바나나가게 </span>\n",
       "<a href=\"https://www.banana.com\"> banana.com </a>\n",
       "</p>"
      ]
     },
     "execution_count": 28,
     "metadata": {},
     "output_type": "execute_result"
    }
   ],
   "source": [
    "# 1개 태그 찾기\n",
    "soup.find('p')"
   ]
  },
  {
   "cell_type": "code",
   "execution_count": 25,
   "id": "d18be30b",
   "metadata": {
    "ExecuteTime": {
     "end_time": "2023-12-13T08:32:29.505192Z",
     "start_time": "2023-12-13T08:32:29.500347Z"
    }
   },
   "outputs": [
    {
     "data": {
      "text/plain": [
       "bs4.element.Tag"
      ]
     },
     "execution_count": 25,
     "metadata": {},
     "output_type": "execute_result"
    }
   ],
   "source": [
    "type(soup.find('p'))"
   ]
  },
  {
   "cell_type": "code",
   "execution_count": 30,
   "id": "f76b698c",
   "metadata": {
    "ExecuteTime": {
     "end_time": "2023-12-13T08:33:18.927125Z",
     "start_time": "2023-12-13T08:33:18.919763Z"
    },
    "scrolled": true
   },
   "outputs": [
    {
     "data": {
      "text/plain": [
       "[<p class=\"fruit\" id=\"banana\" title=\"바나나\">\n",
       " <span class=\"price\"> 3000원 </span>\n",
       " <span class=\"count\"> 10개 </span>\n",
       " <span class=\"store\"> 바나나가게 </span>\n",
       " <a href=\"https://www.banana.com\"> banana.com </a>\n",
       " </p>,\n",
       " <p class=\"fruit\" id=\"cherry\" title=\"체리\">\n",
       " <span class=\"price\"> 100원 </span>\n",
       " <span class=\"count\"> 50개 </span>\n",
       " <span class=\"store\"> 체리가게</span>\n",
       " <a href=\"https://www.cherry.com\"> cherry.com </a>\n",
       " </p>,\n",
       " <p class=\"fruit best\" id=\"orange\" title=\"오렌지\">\n",
       " <span class=\"price\"> 500원 </span>\n",
       " <span class=\"count\"> 20개 </span>\n",
       " <span class=\"store\"> 오렌지가게</span>\n",
       " <a href=\"https://www.orange.com\"> orange.com </a>\n",
       " <span>\n",
       " <a href=\"https://www.orange.blog/\">오렌지 효능</a>\n",
       " </span>\n",
       " </p>]"
      ]
     },
     "execution_count": 30,
     "metadata": {},
     "output_type": "execute_result"
    }
   ],
   "source": [
    "soup.find_all('p') # 해당하는 모든 태그값을 리스트로 반환"
   ]
  },
  {
   "cell_type": "code",
   "execution_count": 32,
   "id": "8e4e3780",
   "metadata": {
    "ExecuteTime": {
     "end_time": "2023-12-13T08:34:17.864105Z",
     "start_time": "2023-12-13T08:34:17.858527Z"
    }
   },
   "outputs": [
    {
     "data": {
      "text/plain": [
       "<p class=\"fruit best\" id=\"orange\" title=\"오렌지\">\n",
       "<span class=\"price\"> 500원 </span>\n",
       "<span class=\"count\"> 20개 </span>\n",
       "<span class=\"store\"> 오렌지가게</span>\n",
       "<a href=\"https://www.orange.com\"> orange.com </a>\n",
       "<span>\n",
       "<a href=\"https://www.orange.blog/\">오렌지 효능</a>\n",
       "</span>\n",
       "</p>"
      ]
     },
     "execution_count": 32,
     "metadata": {},
     "output_type": "execute_result"
    }
   ],
   "source": [
    "soup.find('p', id='orange') # p태그에서 id가 orange인 요소 찾아줘"
   ]
  },
  {
   "cell_type": "code",
   "execution_count": 34,
   "id": "72edf437",
   "metadata": {
    "ExecuteTime": {
     "end_time": "2023-12-13T08:35:08.595469Z",
     "start_time": "2023-12-13T08:35:08.589763Z"
    }
   },
   "outputs": [
    {
     "data": {
      "text/plain": [
       "[<p class=\"fruit\" id=\"banana\" title=\"바나나\">\n",
       " <span class=\"price\"> 3000원 </span>\n",
       " <span class=\"count\"> 10개 </span>\n",
       " <span class=\"store\"> 바나나가게 </span>\n",
       " <a href=\"https://www.banana.com\"> banana.com </a>\n",
       " </p>,\n",
       " <p class=\"fruit\" id=\"cherry\" title=\"체리\">\n",
       " <span class=\"price\"> 100원 </span>\n",
       " <span class=\"count\"> 50개 </span>\n",
       " <span class=\"store\"> 체리가게</span>\n",
       " <a href=\"https://www.cherry.com\"> cherry.com </a>\n",
       " </p>,\n",
       " <p class=\"fruit best\" id=\"orange\" title=\"오렌지\">\n",
       " <span class=\"price\"> 500원 </span>\n",
       " <span class=\"count\"> 20개 </span>\n",
       " <span class=\"store\"> 오렌지가게</span>\n",
       " <a href=\"https://www.orange.com\"> orange.com </a>\n",
       " <span>\n",
       " <a href=\"https://www.orange.blog/\">오렌지 효능</a>\n",
       " </span>\n",
       " </p>]"
      ]
     },
     "execution_count": 34,
     "metadata": {},
     "output_type": "execute_result"
    }
   ],
   "source": [
    "soup.find_all(class_='fruit') #클래스가 fruit인 모든 요소 찾아줘"
   ]
  },
  {
   "cell_type": "markdown",
   "id": "2f34c288",
   "metadata": {},
   "source": [
    "2. select\n",
    "* find와 select의 차이, select는 css선택자 사용, 관계 연결 가능\n",
    "* find와 select와 조건 방식이 다름\n",
    "* find 와 select_one은 단일 태그값 만 반환\n",
    "* find_all과 select는 모든 tag를 list로 반환\n",
    "    * soup.select/select_one(태그, '#orange', '.fruit')\n",
    "* soup.select() : 모든 요소 찾기 --> CSS 선택자 * soup.select_one() : 첫번째 요소 찾기"
   ]
  },
  {
   "cell_type": "code",
   "execution_count": 36,
   "id": "582533bf",
   "metadata": {
    "ExecuteTime": {
     "end_time": "2023-12-13T08:37:09.596114Z",
     "start_time": "2023-12-13T08:37:09.580116Z"
    }
   },
   "outputs": [],
   "source": [
    "soup.select?"
   ]
  },
  {
   "cell_type": "code",
   "execution_count": 38,
   "id": "f7a44d25",
   "metadata": {
    "ExecuteTime": {
     "end_time": "2023-12-13T08:38:04.918060Z",
     "start_time": "2023-12-13T08:38:04.901227Z"
    }
   },
   "outputs": [
    {
     "data": {
      "text/plain": [
       "[<p class=\"fruit\" id=\"banana\" title=\"바나나\">\n",
       " <span class=\"price\"> 3000원 </span>\n",
       " <span class=\"count\"> 10개 </span>\n",
       " <span class=\"store\"> 바나나가게 </span>\n",
       " <a href=\"https://www.banana.com\"> banana.com </a>\n",
       " </p>,\n",
       " <p class=\"fruit\" id=\"cherry\" title=\"체리\">\n",
       " <span class=\"price\"> 100원 </span>\n",
       " <span class=\"count\"> 50개 </span>\n",
       " <span class=\"store\"> 체리가게</span>\n",
       " <a href=\"https://www.cherry.com\"> cherry.com </a>\n",
       " </p>,\n",
       " <p class=\"fruit best\" id=\"orange\" title=\"오렌지\">\n",
       " <span class=\"price\"> 500원 </span>\n",
       " <span class=\"count\"> 20개 </span>\n",
       " <span class=\"store\"> 오렌지가게</span>\n",
       " <a href=\"https://www.orange.com\"> orange.com </a>\n",
       " <span>\n",
       " <a href=\"https://www.orange.blog/\">오렌지 효능</a>\n",
       " </span>\n",
       " </p>]"
      ]
     },
     "execution_count": 38,
     "metadata": {},
     "output_type": "execute_result"
    }
   ],
   "source": [
    "soup.select('p') # 모든 태그를 리스트로 반환"
   ]
  },
  {
   "cell_type": "code",
   "execution_count": 39,
   "id": "774cb4e9",
   "metadata": {
    "ExecuteTime": {
     "end_time": "2023-12-13T08:38:18.797363Z",
     "start_time": "2023-12-13T08:38:18.790459Z"
    }
   },
   "outputs": [
    {
     "data": {
      "text/plain": [
       "<p class=\"fruit\" id=\"banana\" title=\"바나나\">\n",
       "<span class=\"price\"> 3000원 </span>\n",
       "<span class=\"count\"> 10개 </span>\n",
       "<span class=\"store\"> 바나나가게 </span>\n",
       "<a href=\"https://www.banana.com\"> banana.com </a>\n",
       "</p>"
      ]
     },
     "execution_count": 39,
     "metadata": {},
     "output_type": "execute_result"
    }
   ],
   "source": [
    "soup.select_one('p') #단일 태그값만 반환(리스트X)"
   ]
  },
  {
   "cell_type": "code",
   "execution_count": 44,
   "id": "6351dc75",
   "metadata": {
    "ExecuteTime": {
     "end_time": "2023-12-13T08:40:25.905194Z",
     "start_time": "2023-12-13T08:40:25.899468Z"
    }
   },
   "outputs": [
    {
     "data": {
      "text/plain": [
       "[<p class=\"fruit best\" id=\"orange\" title=\"오렌지\">\n",
       " <span class=\"price\"> 500원 </span>\n",
       " <span class=\"count\"> 20개 </span>\n",
       " <span class=\"store\"> 오렌지가게</span>\n",
       " <a href=\"https://www.orange.com\"> orange.com </a>\n",
       " <span>\n",
       " <a href=\"https://www.orange.blog/\">오렌지 효능</a>\n",
       " </span>\n",
       " </p>]"
      ]
     },
     "execution_count": 44,
     "metadata": {},
     "output_type": "execute_result"
    }
   ],
   "source": [
    "# css셀렉터 문법 적용\n",
    "'''id 속성'''\n",
    "soup.select('#orange')"
   ]
  },
  {
   "cell_type": "code",
   "execution_count": 45,
   "id": "fdaad285",
   "metadata": {
    "ExecuteTime": {
     "end_time": "2023-12-13T08:40:43.699021Z",
     "start_time": "2023-12-13T08:40:43.692158Z"
    }
   },
   "outputs": [
    {
     "data": {
      "text/plain": [
       "<p class=\"fruit best\" id=\"orange\" title=\"오렌지\">\n",
       "<span class=\"price\"> 500원 </span>\n",
       "<span class=\"count\"> 20개 </span>\n",
       "<span class=\"store\"> 오렌지가게</span>\n",
       "<a href=\"https://www.orange.com\"> orange.com </a>\n",
       "<span>\n",
       "<a href=\"https://www.orange.blog/\">오렌지 효능</a>\n",
       "</span>\n",
       "</p>"
      ]
     },
     "execution_count": 45,
     "metadata": {},
     "output_type": "execute_result"
    }
   ],
   "source": [
    "soup.select_one('#orange')"
   ]
  },
  {
   "cell_type": "code",
   "execution_count": 46,
   "id": "89327562",
   "metadata": {
    "ExecuteTime": {
     "end_time": "2023-12-13T08:41:31.681918Z",
     "start_time": "2023-12-13T08:41:31.661283Z"
    }
   },
   "outputs": [
    {
     "data": {
      "text/plain": [
       "[<span class=\"price\"> 3000원 </span>,\n",
       " <span class=\"price\"> 100원 </span>,\n",
       " <span class=\"price\"> 500원 </span>]"
      ]
     },
     "execution_count": 46,
     "metadata": {},
     "output_type": "execute_result"
    }
   ],
   "source": [
    "'''class 속성'''\n",
    "soup.select('.price')"
   ]
  },
  {
   "cell_type": "code",
   "execution_count": 47,
   "id": "b05a89f2",
   "metadata": {
    "ExecuteTime": {
     "end_time": "2023-12-13T08:42:02.214746Z",
     "start_time": "2023-12-13T08:42:02.199686Z"
    }
   },
   "outputs": [
    {
     "data": {
      "text/plain": [
       "[<p class=\"fruit best\" id=\"orange\" title=\"오렌지\">\n",
       " <span class=\"price\"> 500원 </span>\n",
       " <span class=\"count\"> 20개 </span>\n",
       " <span class=\"store\"> 오렌지가게</span>\n",
       " <a href=\"https://www.orange.com\"> orange.com </a>\n",
       " <span>\n",
       " <a href=\"https://www.orange.blog/\">오렌지 효능</a>\n",
       " </span>\n",
       " </p>]"
      ]
     },
     "execution_count": 47,
     "metadata": {},
     "output_type": "execute_result"
    }
   ],
   "source": [
    "'''and관계'''\n",
    "soup.select('p#orange')"
   ]
  },
  {
   "cell_type": "code",
   "execution_count": 48,
   "id": "e443951f",
   "metadata": {
    "ExecuteTime": {
     "end_time": "2023-12-13T08:42:49.857833Z",
     "start_time": "2023-12-13T08:42:49.851108Z"
    }
   },
   "outputs": [
    {
     "data": {
      "text/plain": [
       "[<span class=\"store\"> 바나나가게 </span>,\n",
       " <a href=\"https://www.banana.com\"> banana.com </a>,\n",
       " <span class=\"store\"> 체리가게</span>,\n",
       " <a href=\"https://www.cherry.com\"> cherry.com </a>,\n",
       " <span class=\"store\"> 오렌지가게</span>,\n",
       " <a href=\"https://www.orange.com\"> orange.com </a>,\n",
       " <a href=\"https://www.orange.blog/\">오렌지 효능</a>]"
      ]
     },
     "execution_count": 48,
     "metadata": {},
     "output_type": "execute_result"
    }
   ],
   "source": [
    "'''or관계'''\n",
    "soup.select('a, .store') # a태그 또는 스토어 클래스에 해당하는 요소 찾아줘"
   ]
  },
  {
   "cell_type": "code",
   "execution_count": 49,
   "id": "44fb3271",
   "metadata": {
    "ExecuteTime": {
     "end_time": "2023-12-13T08:43:41.446670Z",
     "start_time": "2023-12-13T08:43:41.440179Z"
    }
   },
   "outputs": [
    {
     "data": {
      "text/plain": [
       "[<p class=\"fruit best\" id=\"orange\" title=\"오렌지\">\n",
       " <span class=\"price\"> 500원 </span>\n",
       " <span class=\"count\"> 20개 </span>\n",
       " <span class=\"store\"> 오렌지가게</span>\n",
       " <a href=\"https://www.orange.com\"> orange.com </a>\n",
       " <span>\n",
       " <a href=\"https://www.orange.blog/\">오렌지 효능</a>\n",
       " </span>\n",
       " </p>]"
      ]
     },
     "execution_count": 49,
     "metadata": {},
     "output_type": "execute_result"
    }
   ],
   "source": [
    "'''클래스 값이 2개인 태그'''\n",
    "soup.select('.fruit.best')"
   ]
  },
  {
   "attachments": {
    "image.png": {
     "image/png": "[encoded data removed]"
    }
   },
   "cell_type": "markdown",
   "id": "7269a821",
   "metadata": {},
   "source": [
    "![image.png](attachment:image.png)"
   ]
  },
  {
   "cell_type": "code",
   "execution_count": 54,
   "id": "6fe0157f",
   "metadata": {
    "ExecuteTime": {
     "end_time": "2023-12-13T08:49:26.511209Z",
     "start_time": "2023-12-13T08:49:26.504442Z"
    }
   },
   "outputs": [
    {
     "data": {
      "text/plain": [
       "[<a href=\"https://www.orange.com\"> orange.com </a>]"
      ]
     },
     "execution_count": 54,
     "metadata": {},
     "output_type": "execute_result"
    }
   ],
   "source": [
    "'''> 자식관계'''\n",
    "soup.select('.fruit.best>a')"
   ]
  },
  {
   "cell_type": "code",
   "execution_count": 55,
   "id": "3735c0e1",
   "metadata": {
    "ExecuteTime": {
     "end_time": "2023-12-13T08:49:28.310200Z",
     "start_time": "2023-12-13T08:49:28.304692Z"
    }
   },
   "outputs": [
    {
     "data": {
      "text/plain": [
       "[<a href=\"https://www.orange.com\"> orange.com </a>]"
      ]
     },
     "execution_count": 55,
     "metadata": {},
     "output_type": "execute_result"
    }
   ],
   "source": [
    "soup.select('.fruit.best > a')"
   ]
  },
  {
   "cell_type": "code",
   "execution_count": 69,
   "id": "499bab77",
   "metadata": {
    "ExecuteTime": {
     "end_time": "2023-12-13T14:08:44.808843Z",
     "start_time": "2023-12-13T14:08:44.792859Z"
    }
   },
   "outputs": [
    {
     "data": {
      "text/plain": [
       "[<a href=\"https://www.orange.com\"> orange.com </a>,\n",
       " <a href=\"https://www.orange.blog/\">오렌지 효능</a>]"
      ]
     },
     "execution_count": 69,
     "metadata": {},
     "output_type": "execute_result"
    }
   ],
   "source": [
    "'''(공백) 자손관계'''\n",
    "soup.select('.fruit.best a') # 자식관계까지 같이 출력"
   ]
  },
  {
   "cell_type": "code",
   "execution_count": 70,
   "id": "5b96dec8",
   "metadata": {
    "ExecuteTime": {
     "end_time": "2023-12-13T14:08:47.319593Z",
     "start_time": "2023-12-13T14:08:47.313168Z"
    }
   },
   "outputs": [
    {
     "data": {
      "text/plain": [
       "[<a href=\"https://www.orange.blog/\">오렌지 효능</a>]"
      ]
     },
     "execution_count": 70,
     "metadata": {},
     "output_type": "execute_result"
    }
   ],
   "source": [
    "soup.select('.fruit.best > span > a') #속성을 자식관계로 추가하면 자손관계만 출력됨"
   ]
  },
  {
   "cell_type": "code",
   "execution_count": 92,
   "id": "12257bd0",
   "metadata": {
    "ExecuteTime": {
     "end_time": "2023-12-13T14:34:28.077346Z",
     "start_time": "2023-12-13T14:34:28.072191Z"
    }
   },
   "outputs": [
    {
     "data": {
      "text/plain": [
       "bs4.element.ResultSet"
      ]
     },
     "execution_count": 92,
     "metadata": {},
     "output_type": "execute_result"
    }
   ],
   "source": [
    "mylist = soup.select('fruit.best a')\n",
    "type(mylist)"
   ]
  },
  {
   "cell_type": "code",
   "execution_count": 88,
   "id": "3e3a82ae",
   "metadata": {
    "ExecuteTime": {
     "end_time": "2023-12-13T14:33:55.319381Z",
     "start_time": "2023-12-13T14:33:55.313379Z"
    }
   },
   "outputs": [
    {
     "data": {
      "text/plain": [
       "bs4.element.Tag"
      ]
     },
     "execution_count": 88,
     "metadata": {},
     "output_type": "execute_result"
    }
   ],
   "source": [
    "mylist = soup.select('.fruit.best a') #타입을 확인하고\n",
    "type(mylist[0])"
   ]
  },
  {
   "cell_type": "code",
   "execution_count": 74,
   "id": "5744696c",
   "metadata": {
    "ExecuteTime": {
     "end_time": "2023-12-13T14:10:02.960894Z",
     "start_time": "2023-12-13T14:10:02.953560Z"
    }
   },
   "outputs": [
    {
     "name": "stdout",
     "output_type": "stream",
     "text": [
      " orange.com \n",
      "오렌지 효능\n"
     ]
    }
   ],
   "source": [
    "for tagitem in mylist:\n",
    "    print(tagitem.text) #for문 돌리기"
   ]
  },
  {
   "cell_type": "code",
   "execution_count": 75,
   "id": "2fc7f393",
   "metadata": {
    "ExecuteTime": {
     "end_time": "2023-12-13T14:10:59.405757Z",
     "start_time": "2023-12-13T14:10:59.402078Z"
    }
   },
   "outputs": [
    {
     "name": "stdout",
     "output_type": "stream",
     "text": [
      "<a href=\"https://www.orange.blog/\">오렌지 효능</a>\n"
     ]
    }
   ],
   "source": [
    "print(tagitem)"
   ]
  },
  {
   "cell_type": "code",
   "execution_count": 76,
   "id": "ac5c7ec2",
   "metadata": {
    "ExecuteTime": {
     "end_time": "2023-12-13T14:12:08.559554Z",
     "start_time": "2023-12-13T14:12:08.554025Z"
    }
   },
   "outputs": [
    {
     "name": "stdout",
     "output_type": "stream",
     "text": [
      "https://www.orange.com\n",
      "https://www.orange.blog/\n"
     ]
    }
   ],
   "source": [
    "for item in mylist:\n",
    "    print(item['href']) # mylist(fruit best클래스의 a 태그) 중 href 속성을 찾아서 프린트 해줘"
   ]
  },
  {
   "cell_type": "code",
   "execution_count": 78,
   "id": "914138f5",
   "metadata": {
    "ExecuteTime": {
     "end_time": "2023-12-13T14:14:15.349209Z",
     "start_time": "2023-12-13T14:14:15.334619Z"
    }
   },
   "outputs": [
    {
     "name": "stdout",
     "output_type": "stream",
     "text": [
      "[<p class=\"fruit\" id=\"banana\" title=\"바나나\">\n",
      "<span class=\"price\"> 3000원 </span>\n",
      "<span class=\"count\"> 10개 </span>\n",
      "<span class=\"store\"> 바나나가게 </span>\n",
      "<a href=\"https://www.banana.com\"> banana.com </a>\n",
      "</p>, <p class=\"fruit\" id=\"cherry\" title=\"체리\">\n",
      "<span class=\"price\"> 100원 </span>\n",
      "<span class=\"count\"> 50개 </span>\n",
      "<span class=\"store\"> 체리가게</span>\n",
      "<a href=\"https://www.cherry.com\"> cherry.com </a>\n",
      "</p>, <p class=\"fruit best\" id=\"orange\" title=\"오렌지\">\n",
      "<span class=\"price\"> 500원 </span>\n",
      "<span class=\"count\"> 20개 </span>\n",
      "<span class=\"store\"> 오렌지가게</span>\n",
      "<a href=\"https://www.orange.com\"> orange.com </a>\n",
      "<span>\n",
      "<a href=\"https://www.orange.blog/\">오렌지 효능</a>\n",
      "</span>\n",
      "</p>]\n"
     ]
    }
   ],
   "source": [
    "items = soup.select('.fruit')\n",
    "print(items)"
   ]
  },
  {
   "cell_type": "code",
   "execution_count": 86,
   "id": "d7b1b9b1",
   "metadata": {
    "ExecuteTime": {
     "end_time": "2023-12-13T14:20:27.974276Z",
     "start_time": "2023-12-13T14:20:27.969396Z"
    }
   },
   "outputs": [
    {
     "name": "stdout",
     "output_type": "stream",
     "text": [
      "바나나 <span class=\"price\"> 3000원 </span> <span class=\"count\"> 10개 </span> <span class=\"store\"> 바나나가게 </span>\n",
      "체리 <span class=\"price\"> 100원 </span> <span class=\"count\"> 50개 </span> <span class=\"store\"> 체리가게</span>\n",
      "오렌지 <span class=\"price\"> 500원 </span> <span class=\"count\"> 20개 </span> <span class=\"store\"> 오렌지가게</span>\n"
     ]
    }
   ],
   "source": [
    "for item in items:\n",
    "    name = item['title']\n",
    "    price = item.find('span', 'price')\n",
    "    count= item.find('span', 'count')\n",
    "    store = item.find('span', 'store')\n",
    "    print(name, price, count, store)"
   ]
  },
  {
   "cell_type": "code",
   "execution_count": 81,
   "id": "5df20feb",
   "metadata": {
    "ExecuteTime": {
     "end_time": "2023-12-13T14:17:24.342022Z",
     "start_time": "2023-12-13T14:17:24.336613Z"
    }
   },
   "outputs": [
    {
     "name": "stdout",
     "output_type": "stream",
     "text": [
      "[<span class=\"price\"> 3000원 </span>]\n",
      "[<span class=\"price\"> 100원 </span>]\n",
      "[<span class=\"price\"> 500원 </span>]\n"
     ]
    }
   ],
   "source": [
    "for item in items:\n",
    "    name = item.select('.price')\n",
    "    print(name)"
   ]
  },
  {
   "cell_type": "markdown",
   "id": "ec6d861a",
   "metadata": {},
   "source": [
    "## 요소의 속성 및 텍스트 반환\n",
    "* e.name : 요소의 이름 얻기\n",
    "* e['속성명'] : 요소의 속성 얻기\n",
    "* e.attrs : 요소의 속성 목록(dict)\n",
    "* e.string : 요소의 텍스트\n",
    "* e.strings : 자식과 후손 요소 텍스트 목록(iter)\n",
    "* e.text : 자식과 후손 요소의 텍스트를 문자열로 얻기"
   ]
  },
  {
   "cell_type": "code",
   "execution_count": 93,
   "id": "b7d959a5",
   "metadata": {
    "ExecuteTime": {
     "end_time": "2023-12-13T14:44:34.600836Z",
     "start_time": "2023-12-13T14:44:34.594236Z"
    }
   },
   "outputs": [
    {
     "data": {
      "text/plain": [
       "<p class=\"fruit best\" id=\"orange\" title=\"오렌지\">\n",
       "<span class=\"price\"> 500원 </span>\n",
       "<span class=\"count\"> 20개 </span>\n",
       "<span class=\"store\"> 오렌지가게</span>\n",
       "<a href=\"https://www.orange.com\"> orange.com </a>\n",
       "<span>\n",
       "<a href=\"https://www.orange.blog/\">오렌지 효능</a>\n",
       "</span>\n",
       "</p>"
      ]
     },
     "execution_count": 93,
     "metadata": {},
     "output_type": "execute_result"
    }
   ],
   "source": [
    "soup.find('p', id='orange')"
   ]
  },
  {
   "cell_type": "code",
   "execution_count": 94,
   "id": "a5290bf1",
   "metadata": {
    "ExecuteTime": {
     "end_time": "2023-12-13T14:45:11.917123Z",
     "start_time": "2023-12-13T14:45:11.912834Z"
    }
   },
   "outputs": [],
   "source": [
    "e = soup.find('p', id='orange')"
   ]
  },
  {
   "cell_type": "code",
   "execution_count": 95,
   "id": "227107aa",
   "metadata": {
    "ExecuteTime": {
     "end_time": "2023-12-13T14:45:16.928852Z",
     "start_time": "2023-12-13T14:45:16.924347Z"
    }
   },
   "outputs": [
    {
     "data": {
      "text/plain": [
       "bs4.element.Tag"
      ]
     },
     "execution_count": 95,
     "metadata": {},
     "output_type": "execute_result"
    }
   ],
   "source": [
    "type(e)"
   ]
  },
  {
   "cell_type": "code",
   "execution_count": 96,
   "id": "2fdc22d0",
   "metadata": {
    "ExecuteTime": {
     "end_time": "2023-12-13T14:45:38.559990Z",
     "start_time": "2023-12-13T14:45:38.553742Z"
    }
   },
   "outputs": [
    {
     "data": {
      "text/plain": [
       "'p'"
      ]
     },
     "execution_count": 96,
     "metadata": {},
     "output_type": "execute_result"
    }
   ],
   "source": [
    "#요소의 이름 얻기\n",
    "e.name"
   ]
  },
  {
   "cell_type": "code",
   "execution_count": 97,
   "id": "d966a7cf",
   "metadata": {
    "ExecuteTime": {
     "end_time": "2023-12-13T14:46:02.110648Z",
     "start_time": "2023-12-13T14:46:02.104284Z"
    }
   },
   "outputs": [
    {
     "data": {
      "text/plain": [
       "{'id': 'orange', 'class': ['fruit', 'best'], 'title': '오렌지'}"
      ]
     },
     "execution_count": 97,
     "metadata": {},
     "output_type": "execute_result"
    }
   ],
   "source": [
    "#요소의 속성목록을 딕셔너리로 반환\n",
    "e.attrs"
   ]
  },
  {
   "cell_type": "code",
   "execution_count": 98,
   "id": "fba1994d",
   "metadata": {
    "ExecuteTime": {
     "end_time": "2023-12-13T14:46:22.779394Z",
     "start_time": "2023-12-13T14:46:22.773437Z"
    }
   },
   "outputs": [
    {
     "data": {
      "text/plain": [
       "'오렌지'"
      ]
     },
     "execution_count": 98,
     "metadata": {},
     "output_type": "execute_result"
    }
   ],
   "source": [
    "#요소의 특정 속성 값 얻기\n",
    "e['title']"
   ]
  },
  {
   "cell_type": "code",
   "execution_count": 101,
   "id": "d04f7055",
   "metadata": {
    "ExecuteTime": {
     "end_time": "2023-12-13T14:47:08.916078Z",
     "start_time": "2023-12-13T14:47:08.912785Z"
    }
   },
   "outputs": [],
   "source": [
    "요소의 텍스트\n",
    "e.string"
   ]
  },
  {
   "cell_type": "code",
   "execution_count": 102,
   "id": "ec201636",
   "metadata": {
    "ExecuteTime": {
     "end_time": "2023-12-13T14:47:11.077610Z",
     "start_time": "2023-12-13T14:47:11.073932Z"
    }
   },
   "outputs": [
    {
     "name": "stdout",
     "output_type": "stream",
     "text": [
      "None\n"
     ]
    }
   ],
   "source": [
    "print(e.string)"
   ]
  },
  {
   "cell_type": "code",
   "execution_count": 103,
   "id": "1b086011",
   "metadata": {
    "ExecuteTime": {
     "end_time": "2023-12-13T14:47:18.277791Z",
     "start_time": "2023-12-13T14:47:18.273848Z"
    }
   },
   "outputs": [
    {
     "data": {
      "text/plain": [
       "<generator object Tag._all_strings at 0x000001B01226B440>"
      ]
     },
     "execution_count": 103,
     "metadata": {},
     "output_type": "execute_result"
    }
   ],
   "source": [
    "# 자식과 후손 요소의 텍스트를 문자열로 반환\n",
    "e.strings"
   ]
  },
  {
   "cell_type": "code",
   "execution_count": 104,
   "id": "1217ddaa",
   "metadata": {
    "ExecuteTime": {
     "end_time": "2023-12-13T14:48:06.339916Z",
     "start_time": "2023-12-13T14:48:06.333857Z"
    }
   },
   "outputs": [
    {
     "name": "stdout",
     "output_type": "stream",
     "text": [
      "\n",
      "\n",
      " 500원 \n",
      "\n",
      "\n",
      " 20개 \n",
      "\n",
      "\n",
      " 오렌지가게\n",
      "\n",
      "\n",
      " orange.com \n",
      "\n",
      "\n",
      "\n",
      "\n",
      "오렌지 효능\n",
      "\n",
      "\n",
      "\n",
      "\n"
     ]
    }
   ],
   "source": [
    "for items in e.strings:\n",
    "    print(items)"
   ]
  },
  {
   "cell_type": "markdown",
   "id": "82c84235",
   "metadata": {},
   "source": [
    "## 트리구조를 활용한 요소탐색"
   ]
  },
  {
   "cell_type": "code",
   "execution_count": 105,
   "id": "ff51e076",
   "metadata": {
    "ExecuteTime": {
     "end_time": "2023-12-13T14:50:04.282703Z",
     "start_time": "2023-12-13T14:50:04.273805Z"
    }
   },
   "outputs": [
    {
     "data": {
      "text/plain": [
       "<div>\n",
       "<p class=\"fruit\" id=\"banana\" title=\"바나나\">\n",
       "<span class=\"price\"> 3000원 </span>\n",
       "<span class=\"count\"> 10개 </span>\n",
       "<span class=\"store\"> 바나나가게 </span>\n",
       "<a href=\"https://www.banana.com\"> banana.com </a>\n",
       "</p>\n",
       "<p class=\"fruit\" id=\"cherry\" title=\"체리\">\n",
       "<span class=\"price\"> 100원 </span>\n",
       "<span class=\"count\"> 50개 </span>\n",
       "<span class=\"store\"> 체리가게</span>\n",
       "<a href=\"https://www.cherry.com\"> cherry.com </a>\n",
       "</p>\n",
       "<p class=\"fruit best\" id=\"orange\" title=\"오렌지\">\n",
       "<span class=\"price\"> 500원 </span>\n",
       "<span class=\"count\"> 20개 </span>\n",
       "<span class=\"store\"> 오렌지가게</span>\n",
       "<a href=\"https://www.orange.com\"> orange.com </a>\n",
       "<span>\n",
       "<a href=\"https://www.orange.blog/\">오렌지 효능</a>\n",
       "</span>\n",
       "</p>\n",
       "</div>"
      ]
     },
     "execution_count": 105,
     "metadata": {},
     "output_type": "execute_result"
    }
   ],
   "source": [
    "# 부모요소\n",
    "e.parent"
   ]
  },
  {
   "cell_type": "code",
   "execution_count": 107,
   "id": "fe75f1bf",
   "metadata": {
    "ExecuteTime": {
     "end_time": "2023-12-13T14:50:40.493504Z",
     "start_time": "2023-12-13T14:50:40.487326Z"
    }
   },
   "outputs": [
    {
     "name": "stdout",
     "output_type": "stream",
     "text": [
      "<div>\n",
      "<p class=\"fruit\" id=\"banana\" title=\"바나나\">\n",
      "<span class=\"price\"> 3000원 </span>\n",
      "<span class=\"count\"> 10개 </span>\n",
      "<span class=\"store\"> 바나나가게 </span>\n",
      "<a href=\"https://www.banana.com\"> banana.com </a>\n",
      "</p>\n",
      "<p class=\"fruit\" id=\"cherry\" title=\"체리\">\n",
      "<span class=\"price\"> 100원 </span>\n",
      "<span class=\"count\"> 50개 </span>\n",
      "<span class=\"store\"> 체리가게</span>\n",
      "<a href=\"https://www.cherry.com\"> cherry.com </a>\n",
      "</p>\n",
      "<p class=\"fruit best\" id=\"orange\" title=\"오렌지\">\n",
      "<span class=\"price\"> 500원 </span>\n",
      "<span class=\"count\"> 20개 </span>\n",
      "<span class=\"store\"> 오렌지가게</span>\n",
      "<a href=\"https://www.orange.com\"> orange.com </a>\n",
      "<span>\n",
      "<a href=\"https://www.orange.blog/\">오렌지 효능</a>\n",
      "</span>\n",
      "</p>\n",
      "</div>\n",
      "<body>\n",
      "<h1> 과일 목록 </h1>\n",
      "<div>\n",
      "<p class=\"fruit\" id=\"banana\" title=\"바나나\">\n",
      "<span class=\"price\"> 3000원 </span>\n",
      "<span class=\"count\"> 10개 </span>\n",
      "<span class=\"store\"> 바나나가게 </span>\n",
      "<a href=\"https://www.banana.com\"> banana.com </a>\n",
      "</p>\n",
      "<p class=\"fruit\" id=\"cherry\" title=\"체리\">\n",
      "<span class=\"price\"> 100원 </span>\n",
      "<span class=\"count\"> 50개 </span>\n",
      "<span class=\"store\"> 체리가게</span>\n",
      "<a href=\"https://www.cherry.com\"> cherry.com </a>\n",
      "</p>\n",
      "<p class=\"fruit best\" id=\"orange\" title=\"오렌지\">\n",
      "<span class=\"price\"> 500원 </span>\n",
      "<span class=\"count\"> 20개 </span>\n",
      "<span class=\"store\"> 오렌지가게</span>\n",
      "<a href=\"https://www.orange.com\"> orange.com </a>\n",
      "<span>\n",
      "<a href=\"https://www.orange.blog/\">오렌지 효능</a>\n",
      "</span>\n",
      "</p>\n",
      "</div>\n",
      "</body>\n",
      "<html>\n",
      "<body>\n",
      "<h1> 과일 목록 </h1>\n",
      "<div>\n",
      "<p class=\"fruit\" id=\"banana\" title=\"바나나\">\n",
      "<span class=\"price\"> 3000원 </span>\n",
      "<span class=\"count\"> 10개 </span>\n",
      "<span class=\"store\"> 바나나가게 </span>\n",
      "<a href=\"https://www.banana.com\"> banana.com </a>\n",
      "</p>\n",
      "<p class=\"fruit\" id=\"cherry\" title=\"체리\">\n",
      "<span class=\"price\"> 100원 </span>\n",
      "<span class=\"count\"> 50개 </span>\n",
      "<span class=\"store\"> 체리가게</span>\n",
      "<a href=\"https://www.cherry.com\"> cherry.com </a>\n",
      "</p>\n",
      "<p class=\"fruit best\" id=\"orange\" title=\"오렌지\">\n",
      "<span class=\"price\"> 500원 </span>\n",
      "<span class=\"count\"> 20개 </span>\n",
      "<span class=\"store\"> 오렌지가게</span>\n",
      "<a href=\"https://www.orange.com\"> orange.com </a>\n",
      "<span>\n",
      "<a href=\"https://www.orange.blog/\">오렌지 효능</a>\n",
      "</span>\n",
      "</p>\n",
      "</div>\n",
      "</body>\n",
      "</html>\n",
      "<html>\n",
      "<body>\n",
      "<h1> 과일 목록 </h1>\n",
      "<div>\n",
      "<p class=\"fruit\" id=\"banana\" title=\"바나나\">\n",
      "<span class=\"price\"> 3000원 </span>\n",
      "<span class=\"count\"> 10개 </span>\n",
      "<span class=\"store\"> 바나나가게 </span>\n",
      "<a href=\"https://www.banana.com\"> banana.com </a>\n",
      "</p>\n",
      "<p class=\"fruit\" id=\"cherry\" title=\"체리\">\n",
      "<span class=\"price\"> 100원 </span>\n",
      "<span class=\"count\"> 50개 </span>\n",
      "<span class=\"store\"> 체리가게</span>\n",
      "<a href=\"https://www.cherry.com\"> cherry.com </a>\n",
      "</p>\n",
      "<p class=\"fruit best\" id=\"orange\" title=\"오렌지\">\n",
      "<span class=\"price\"> 500원 </span>\n",
      "<span class=\"count\"> 20개 </span>\n",
      "<span class=\"store\"> 오렌지가게</span>\n",
      "<a href=\"https://www.orange.com\"> orange.com </a>\n",
      "<span>\n",
      "<a href=\"https://www.orange.blog/\">오렌지 효능</a>\n",
      "</span>\n",
      "</p>\n",
      "</div>\n",
      "</body>\n",
      "</html>\n"
     ]
    }
   ],
   "source": [
    "# 모든 조상요소\n",
    "e.parents\n",
    "for items in e.parents:\n",
    "    print(items)"
   ]
  },
  {
   "cell_type": "code",
   "execution_count": 108,
   "id": "a5e28368",
   "metadata": {
    "ExecuteTime": {
     "end_time": "2023-12-13T14:51:08.510247Z",
     "start_time": "2023-12-13T14:51:08.495557Z"
    }
   },
   "outputs": [
    {
     "data": {
      "text/plain": [
       "['\\n',\n",
       " <span class=\"price\"> 500원 </span>,\n",
       " '\\n',\n",
       " <span class=\"count\"> 20개 </span>,\n",
       " '\\n',\n",
       " <span class=\"store\"> 오렌지가게</span>,\n",
       " '\\n',\n",
       " <a href=\"https://www.orange.com\"> orange.com </a>,\n",
       " '\\n',\n",
       " <span>\n",
       " <a href=\"https://www.orange.blog/\">오렌지 효능</a>\n",
       " </span>,\n",
       " '\\n']"
      ]
     },
     "execution_count": 108,
     "metadata": {},
     "output_type": "execute_result"
    }
   ],
   "source": [
    "# 모든 자손요소 리스트\n",
    "e.contents"
   ]
  },
  {
   "cell_type": "code",
   "execution_count": 110,
   "id": "d7b31c24",
   "metadata": {
    "ExecuteTime": {
     "end_time": "2023-12-13T14:51:53.170037Z",
     "start_time": "2023-12-13T14:51:53.166074Z"
    }
   },
   "outputs": [
    {
     "name": "stdout",
     "output_type": "stream",
     "text": [
      "None\n",
      "span\n",
      "None\n",
      "span\n",
      "None\n",
      "span\n",
      "None\n",
      "a\n",
      "None\n",
      "span\n",
      "None\n"
     ]
    }
   ],
   "source": [
    "# 모든 자식요소 eter\n",
    "e.children\n",
    "for item in e.children:\n",
    "    print(item.name)"
   ]
  },
  {
   "cell_type": "code",
   "execution_count": null,
   "id": "5d82fc57",
   "metadata": {},
   "outputs": [],
   "source": []
  }
 ],
 "metadata": {
  "kernelspec": {
   "display_name": "Python 3 (ipykernel)",
   "language": "python",
   "name": "python3"
  },
  "language_info": {
   "codemirror_mode": {
    "name": "ipython",
    "version": 3
   },
   "file_extension": ".py",
   "mimetype": "text/x-python",
   "name": "python",
   "nbconvert_exporter": "python",
   "pygments_lexer": "ipython3",
   "version": "3.11.5"
  },
  "toc": {
   "base_numbering": 1,
   "nav_menu": {},
   "number_sections": true,
   "sideBar": true,
   "skip_h1_title": false,
   "title_cell": "Table of Contents",
   "title_sidebar": "Contents",
   "toc_cell": false,
   "toc_position": {},
   "toc_section_display": true,
   "toc_window_display": false
  }
 },
 "nbformat": 4,
 "nbformat_minor": 5
}
