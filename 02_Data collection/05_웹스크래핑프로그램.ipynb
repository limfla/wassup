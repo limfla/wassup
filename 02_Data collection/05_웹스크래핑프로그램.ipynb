{
 "cells": [
  {
   "cell_type": "markdown",
   "id": "7f855df2",
   "metadata": {},
   "source": [
    "# 웹 스크래핑 프로그램 만들기\n",
    "\n",
    "1. 예제 페이지에서 여행기사 추출 https://korean.visitkorea.or.kr/main/main.do\n",
    "2. 검색어와 스크래핑 건수 입력 받기\n",
    "3. 페이지 이동\n",
    "4. 상세 페이지별로 여행기사 정보 수집\n",
    "5. 이미지와 텍스트를 추출해 파일로 저장"
   ]
  },
  {
   "cell_type": "code",
   "execution_count": 1,
   "id": "1aaaa9bd",
   "metadata": {
    "ExecuteTime": {
     "end_time": "2023-12-13T01:48:47.487139Z",
     "start_time": "2023-12-13T01:48:47.299235Z"
    }
   },
   "outputs": [],
   "source": [
    "from selenium import webdriver\n",
    "from selenium.webdriver.common.by import By\n",
    "from selenium.webdriver.chrome.options import Options\n",
    "import math, time\n",
    "\n",
    "options = Options()\n",
    "options.add_argument('--window-size=974,1047')\n",
    "options.add_argument('--window-position=953,0')\n",
    "options.add_experimental_option(\"detach\", True)"
   ]
  },
  {
   "cell_type": "code",
   "execution_count": 2,
   "id": "311ca118",
   "metadata": {
    "ExecuteTime": {
     "end_time": "2023-12-13T01:49:18.090104Z",
     "start_time": "2023-12-13T01:49:09.735344Z"
    }
   },
   "outputs": [],
   "source": [
    "url = 'https://korean.visitkorea.or.kr/main/main.do'\n",
    "driver = webdriver.Chrome(options = options) # 웹드라이버 실행 \n",
    "driver.get(url) #url 지정 (이 url로 실행해줘)\n",
    "time.sleep(3)"
   ]
  },
  {
   "cell_type": "code",
   "execution_count": 9,
   "id": "526ca0f7",
   "metadata": {
    "ExecuteTime": {
     "end_time": "2023-12-13T02:07:04.765786Z",
     "start_time": "2023-12-13T02:07:03.655789Z"
    }
   },
   "outputs": [],
   "source": [
    "# 여행기사 추출\n",
    "# 여행정보 탭 클릭\n",
    "xpath = '/html/body/header/div[1]/div[2]/div/div/ul/li[6]/a'\n",
    "info = driver.find_element(By.XPATH, xpath).click()"
   ]
  },
  {
   "cell_type": "code",
   "execution_count": 13,
   "id": "69626814",
   "metadata": {
    "ExecuteTime": {
     "end_time": "2023-12-13T02:10:31.707345Z",
     "start_time": "2023-12-13T02:10:28.646488Z"
    }
   },
   "outputs": [
    {
     "name": "stdout",
     "output_type": "stream",
     "text": [
      "검색어: 추천\n"
     ]
    }
   ],
   "source": [
    "# 검색어와 검색건수 입력\n",
    "\n",
    "search = input('검색어: ')"
   ]
  },
  {
   "cell_type": "code",
   "execution_count": 21,
   "id": "da83a721",
   "metadata": {
    "ExecuteTime": {
     "end_time": "2023-12-13T02:28:13.510072Z",
     "start_time": "2023-12-13T02:28:06.067120Z"
    }
   },
   "outputs": [],
   "source": [
    "# url 실행\n",
    "search_url = 'https://korean.visitkorea.or.kr/list/travelinfo.do?service=rem'+search\n",
    "driver = webdriver.Chrome(options=options)\n",
    "driver.get(search_url)\n",
    "time.sleep(3)"
   ]
  },
  {
   "cell_type": "code",
   "execution_count": 22,
   "id": "19c0d70c",
   "metadata": {
    "ExecuteTime": {
     "end_time": "2023-12-13T02:28:19.849816Z",
     "start_time": "2023-12-13T02:28:19.746986Z"
    }
   },
   "outputs": [],
   "source": [
    "# 여행기사 탭 클릭\n",
    "xpath_news = '/html/body/header/div[1]/div[2]/div[2]/div/div/div[2]/a'\n",
    "news = driver.find_element(By.XPATH, xpath_news).click()"
   ]
  },
  {
   "cell_type": "code",
   "execution_count": 23,
   "id": "1d4ef5d4",
   "metadata": {
    "ExecuteTime": {
     "end_time": "2023-12-13T02:28:24.727337Z",
     "start_time": "2023-12-13T02:28:23.077556Z"
    }
   },
   "outputs": [
    {
     "name": "stdout",
     "output_type": "stream",
     "text": [
      "수집건수: 20\n"
     ]
    }
   ],
   "source": [
    "# 스크래핑 건수\n",
    "cnt = int(input('수집건수: '))"
   ]
  },
  {
   "cell_type": "code",
   "execution_count": 24,
   "id": "796a175c",
   "metadata": {
    "ExecuteTime": {
     "end_time": "2023-12-13T02:28:27.429091Z",
     "start_time": "2023-12-13T02:28:27.425597Z"
    }
   },
   "outputs": [
    {
     "name": "stdout",
     "output_type": "stream",
     "text": [
      "2\n"
     ]
    }
   ],
   "source": [
    "# 크롤링할 페이지 수\n",
    "page_cnt = math.ceil(cnt/10)\n",
    "print(page_cnt)"
   ]
  },
  {
   "cell_type": "code",
   "execution_count": 30,
   "id": "93f919d5",
   "metadata": {
    "ExecuteTime": {
     "end_time": "2023-12-13T02:29:37.396984Z",
     "start_time": "2023-12-13T02:29:37.368354Z"
    }
   },
   "outputs": [
    {
     "data": {
      "text/plain": [
       "(10,\n",
       " '[다대 어촌체험휴양마을] 바다의 안락함을 제공하는 휴식형 워케이션',\n",
       " '[남해 서울농장] 서울특별시와 협력, 운영하는 남해 서울농장의 워케이션')"
      ]
     },
     "execution_count": 30,
     "metadata": {},
     "output_type": "execute_result"
    }
   ],
   "source": [
    "# 상세페이지 정보 수집\n",
    "\n",
    "tit_xpath = '/html/body/div[4]/div/div[2]/div[2]/div[2]/div[1]/ul/li[*]/div[2]/div/a'\n",
    "result = driver.find_elements(By.XPATH, tit_xpath)\n",
    "len(result), result[0].text, result[1].text"
   ]
  },
  {
   "cell_type": "code",
   "execution_count": 31,
   "id": "593a874f",
   "metadata": {
    "ExecuteTime": {
     "end_time": "2023-12-13T02:30:20.352471Z",
     "start_time": "2023-12-13T02:30:20.256669Z"
    }
   },
   "outputs": [
    {
     "name": "stdout",
     "output_type": "stream",
     "text": [
      "1 [다대 어촌체험휴양마을] 바다의 안락함을 제공하는 휴식형 워케이션\n",
      "2 [남해 서울농장] 서울특별시와 협력, 운영하는 남해 서울농장의 워케이션\n",
      "3 [김녕 어촌체험휴양마을] 제주 김념바다를 바라보며 업무를 즐기는 워케이션\n",
      "4 [괜찮아마을] 목포 청년마을에서 누리는 복합 워케이션\n",
      "5 [고요산책] 사색하는 여행자를 위한, 나만을 위한 고요한 북스테이\n",
      "6 [파도살롱(명주점, 교동점)] 강릉 원도심의 로컬 업무공간\n",
      "7 [당첨자 발표] 한옥 여행을 떠난 호종이를 찾아라!\n",
      "8 [더가게 함께가게] 강원도를 빛낸 로컬의 멋과 맛\n",
      "9 온천 여행, 쌀쌀한 날씨 야외에서 즐기는 노천 온천 4\n",
      "10 푸른 자연 속 한옥에서 만나는 전통음식, 푸실\n"
     ]
    }
   ],
   "source": [
    "for i, title in enumerate(result, 1):\n",
    "    print(i, title.text)"
   ]
  },
  {
   "cell_type": "code",
   "execution_count": null,
   "id": "182b5a2a",
   "metadata": {},
   "outputs": [],
   "source": [
    "# 전처리\n"
   ]
  },
  {
   "cell_type": "code",
   "execution_count": null,
   "id": "f7b42295",
   "metadata": {},
   "outputs": [],
   "source": []
  },
  {
   "cell_type": "code",
   "execution_count": 32,
   "id": "e8fb2aab",
   "metadata": {
    "ExecuteTime": {
     "end_time": "2023-12-13T05:04:10.352634Z",
     "start_time": "2023-12-13T05:04:10.313275Z"
    }
   },
   "outputs": [],
   "source": [
    "from selenium import webdriver\n",
    "from selenium.webdriver.common.by import By\n",
    "from selenium.webdriver.chrome.options import Options\n",
    "import math, time\n",
    "\n",
    "options = Options()\n",
    "options.add_argument('--window-size=974,1047')\n",
    "options.add_argument('--window-position=953,0')\n",
    "options.add_experimental_option(\"detach\", True)"
   ]
  },
  {
   "cell_type": "code",
   "execution_count": null,
   "id": "dcafa252",
   "metadata": {},
   "outputs": [],
   "source": [
    "url = 'https://korean.visitkorea.or.kr/main/main.do'\n",
    "driver = webdriver.Chrome(options = options) # 웹드라이버 실행 \n",
    "driver.get(url) #url 지정 (이 url로 실행해줘)\n",
    "time.sleep(3)"
   ]
  },
  {
   "cell_type": "code",
   "execution_count": null,
   "id": "f4c6f21a",
   "metadata": {},
   "outputs": [],
   "source": [
    "search = input('검색어: ')\n",
    "cnt = int(input('크롤링 건수: '))"
   ]
  },
  {
   "cell_type": "code",
   "execution_count": null,
   "id": "f21817ce",
   "metadata": {},
   "outputs": [],
   "source": []
  },
  {
   "cell_type": "code",
   "execution_count": null,
   "id": "c58d7f97",
   "metadata": {},
   "outputs": [],
   "source": [
    "# 상세페이지 정보 추출 "
   ]
  },
  {
   "cell_type": "code",
   "execution_count": null,
   "id": "93a240f6",
   "metadata": {},
   "outputs": [],
   "source": [
    "# 페이지 이동\n"
   ]
  },
  {
   "cell_type": "code",
   "execution_count": null,
   "id": "6bb36891",
   "metadata": {},
   "outputs": [],
   "source": []
  },
  {
   "cell_type": "code",
   "execution_count": null,
   "id": "b18e80d7",
   "metadata": {},
   "outputs": [],
   "source": []
  }
 ],
 "metadata": {
  "kernelspec": {
   "display_name": "Python 3 (ipykernel)",
   "language": "python",
   "name": "python3"
  },
  "language_info": {
   "codemirror_mode": {
    "name": "ipython",
    "version": 3
   },
   "file_extension": ".py",
   "mimetype": "text/x-python",
   "name": "python",
   "nbconvert_exporter": "python",
   "pygments_lexer": "ipython3",
   "version": "3.11.5"
  },
  "toc": {
   "base_numbering": 1,
   "nav_menu": {},
   "number_sections": true,
   "sideBar": true,
   "skip_h1_title": false,
   "title_cell": "Table of Contents",
   "title_sidebar": "Contents",
   "toc_cell": false,
   "toc_position": {},
   "toc_section_display": true,
   "toc_window_display": false
  }
 },
 "nbformat": 4,
 "nbformat_minor": 5
}
