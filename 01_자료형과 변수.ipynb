{
 "cells": [
  {
   "cell_type": "markdown",
   "id": "6e7c9627",
   "metadata": {},
   "source": [
    "# 숫자형"
   ]
  },
  {
   "cell_type": "markdown",
   "id": "f84f12d5",
   "metadata": {},
   "source": [
    "## 정수형"
   ]
  },
  {
   "cell_type": "code",
   "execution_count": 1,
   "id": "ea79484f",
   "metadata": {
    "ExecuteTime": {
     "end_time": "2023-11-23T02:19:10.846200Z",
     "start_time": "2023-11-23T02:19:10.843013Z"
    }
   },
   "outputs": [],
   "source": [
    "a = 123"
   ]
  },
  {
   "cell_type": "code",
   "execution_count": 2,
   "id": "fc3f856e",
   "metadata": {
    "ExecuteTime": {
     "end_time": "2023-11-23T02:19:19.210293Z",
     "start_time": "2023-11-23T02:19:19.203313Z"
    }
   },
   "outputs": [
    {
     "data": {
      "text/plain": [
       "123"
      ]
     },
     "execution_count": 2,
     "metadata": {},
     "output_type": "execute_result"
    }
   ],
   "source": [
    "a"
   ]
  },
  {
   "cell_type": "code",
   "execution_count": 3,
   "id": "01de9883",
   "metadata": {
    "ExecuteTime": {
     "end_time": "2023-11-23T02:20:47.616452Z",
     "start_time": "2023-11-23T02:20:47.611615Z"
    }
   },
   "outputs": [
    {
     "data": {
      "text/plain": [
       "-178"
      ]
     },
     "execution_count": 3,
     "metadata": {},
     "output_type": "execute_result"
    }
   ],
   "source": [
    "a = -178\n",
    "a"
   ]
  },
  {
   "cell_type": "code",
   "execution_count": 4,
   "id": "59499d0d",
   "metadata": {
    "ExecuteTime": {
     "end_time": "2023-11-23T02:21:03.563564Z",
     "start_time": "2023-11-23T02:21:03.559335Z"
    }
   },
   "outputs": [
    {
     "data": {
      "text/plain": [
       "0"
      ]
     },
     "execution_count": 4,
     "metadata": {},
     "output_type": "execute_result"
    }
   ],
   "source": [
    "a = 0\n",
    "a"
   ]
  },
  {
   "cell_type": "markdown",
   "id": "2407f826",
   "metadata": {},
   "source": [
    "## 실수형"
   ]
  },
  {
   "cell_type": "code",
   "execution_count": 5,
   "id": "d0ac9b58",
   "metadata": {
    "ExecuteTime": {
     "end_time": "2023-11-23T02:21:35.300913Z",
     "start_time": "2023-11-23T02:21:35.295682Z"
    }
   },
   "outputs": [
    {
     "data": {
      "text/plain": [
       "1.2"
      ]
     },
     "execution_count": 5,
     "metadata": {},
     "output_type": "execute_result"
    }
   ],
   "source": [
    "a = 1.2\n",
    "a"
   ]
  },
  {
   "cell_type": "code",
   "execution_count": 6,
   "id": "c7ad34ed",
   "metadata": {
    "ExecuteTime": {
     "end_time": "2023-11-23T02:21:41.618651Z",
     "start_time": "2023-11-23T02:21:41.613742Z"
    }
   },
   "outputs": [
    {
     "data": {
      "text/plain": [
       "3.4"
      ]
     },
     "execution_count": 6,
     "metadata": {},
     "output_type": "execute_result"
    }
   ],
   "source": [
    "a = 3.4\n",
    "a"
   ]
  },
  {
   "cell_type": "code",
   "execution_count": 10,
   "id": "6048d409",
   "metadata": {
    "ExecuteTime": {
     "end_time": "2023-11-23T02:22:32.526813Z",
     "start_time": "2023-11-23T02:22:32.521946Z"
    }
   },
   "outputs": [
    {
     "data": {
      "text/plain": [
       "42400000000.0"
      ]
     },
     "execution_count": 10,
     "metadata": {},
     "output_type": "execute_result"
    }
   ],
   "source": [
    "#컴퓨터식 지수 표현\n",
    "a = 4.24E10 #4.24 *10&^10\n",
    "a"
   ]
  },
  {
   "cell_type": "code",
   "execution_count": 11,
   "id": "91b3ae16",
   "metadata": {
    "ExecuteTime": {
     "end_time": "2023-11-23T02:23:20.205756Z",
     "start_time": "2023-11-23T02:23:20.200576Z"
    }
   },
   "outputs": [
    {
     "data": {
      "text/plain": [
       "127"
      ]
     },
     "execution_count": 11,
     "metadata": {},
     "output_type": "execute_result"
    }
   ],
   "source": [
    "#8진수와 16진수\n",
    "a = 0o177\n",
    "a"
   ]
  },
  {
   "cell_type": "code",
   "execution_count": 13,
   "id": "d93b01f6",
   "metadata": {
    "ExecuteTime": {
     "end_time": "2023-11-23T02:23:46.593685Z",
     "start_time": "2023-11-23T02:23:46.588988Z"
    }
   },
   "outputs": [
    {
     "data": {
      "text/plain": [
       "int"
      ]
     },
     "execution_count": 13,
     "metadata": {},
     "output_type": "execute_result"
    }
   ],
   "source": [
    "type(a) #자료형 - int 정수"
   ]
  },
  {
   "cell_type": "code",
   "execution_count": 14,
   "id": "464d824b",
   "metadata": {
    "ExecuteTime": {
     "end_time": "2023-11-23T02:23:58.900454Z",
     "start_time": "2023-11-23T02:23:58.895689Z"
    }
   },
   "outputs": [
    {
     "data": {
      "text/plain": [
       "2303"
      ]
     },
     "execution_count": 14,
     "metadata": {},
     "output_type": "execute_result"
    }
   ],
   "source": [
    "a = 0x8ff\n",
    "a"
   ]
  },
  {
   "cell_type": "markdown",
   "id": "6bd01e7c",
   "metadata": {
    "ExecuteTime": {
     "end_time": "2023-11-23T02:24:13.240735Z",
     "start_time": "2023-11-23T02:24:13.237291Z"
    }
   },
   "source": [
    "## 사칙연산"
   ]
  },
  {
   "cell_type": "code",
   "execution_count": 16,
   "id": "858d5a6d",
   "metadata": {
    "ExecuteTime": {
     "end_time": "2023-11-23T02:24:45.501283Z",
     "start_time": "2023-11-23T02:24:45.496254Z"
    }
   },
   "outputs": [
    {
     "data": {
      "text/plain": [
       "7"
      ]
     },
     "execution_count": 16,
     "metadata": {},
     "output_type": "execute_result"
    }
   ],
   "source": [
    "a = 3\n",
    "b = 4\n",
    "a + b"
   ]
  },
  {
   "cell_type": "code",
   "execution_count": 17,
   "id": "bbba6876",
   "metadata": {
    "ExecuteTime": {
     "end_time": "2023-11-23T02:25:04.394624Z",
     "start_time": "2023-11-23T02:25:04.389562Z"
    }
   },
   "outputs": [
    {
     "data": {
      "text/plain": [
       "12"
      ]
     },
     "execution_count": 17,
     "metadata": {},
     "output_type": "execute_result"
    }
   ],
   "source": [
    "a * b"
   ]
  },
  {
   "cell_type": "code",
   "execution_count": 18,
   "id": "82a02cff",
   "metadata": {
    "ExecuteTime": {
     "end_time": "2023-11-23T02:25:13.085720Z",
     "start_time": "2023-11-23T02:25:13.081291Z"
    }
   },
   "outputs": [
    {
     "data": {
      "text/plain": [
       "0.75"
      ]
     },
     "execution_count": 18,
     "metadata": {},
     "output_type": "execute_result"
    }
   ],
   "source": [
    "a / b"
   ]
  },
  {
   "cell_type": "code",
   "execution_count": 19,
   "id": "0b406cf2",
   "metadata": {
    "ExecuteTime": {
     "end_time": "2023-11-23T02:26:16.156016Z",
     "start_time": "2023-11-23T02:26:16.150753Z"
    }
   },
   "outputs": [
    {
     "data": {
      "text/plain": [
       "81"
      ]
     },
     "execution_count": 19,
     "metadata": {},
     "output_type": "execute_result"
    }
   ],
   "source": [
    "# x의 y제곱 **\n",
    "a ** b"
   ]
  },
  {
   "cell_type": "markdown",
   "id": "8bcf9d21",
   "metadata": {},
   "source": [
    "esc + m : 코드 입력 중에 마크다운으로 변경하는 단축키"
   ]
  },
  {
   "cell_type": "code",
   "execution_count": 21,
   "id": "ee5cd20f",
   "metadata": {
    "ExecuteTime": {
     "end_time": "2023-11-23T02:27:18.927005Z",
     "start_time": "2023-11-23T02:27:18.922420Z"
    }
   },
   "outputs": [
    {
     "data": {
      "text/plain": [
       "1"
      ]
     },
     "execution_count": 21,
     "metadata": {},
     "output_type": "execute_result"
    }
   ],
   "source": [
    "# 나눗셈 나머지 반환 %\n",
    "\n",
    "7 % 3"
   ]
  },
  {
   "cell_type": "code",
   "execution_count": 22,
   "id": "27e700c7",
   "metadata": {
    "ExecuteTime": {
     "end_time": "2023-11-23T02:27:24.962947Z",
     "start_time": "2023-11-23T02:27:24.958098Z"
    }
   },
   "outputs": [
    {
     "data": {
      "text/plain": [
       "3"
      ]
     },
     "execution_count": 22,
     "metadata": {},
     "output_type": "execute_result"
    }
   ],
   "source": [
    "3 % 7"
   ]
  },
  {
   "cell_type": "code",
   "execution_count": 23,
   "id": "f0756a28",
   "metadata": {
    "ExecuteTime": {
     "end_time": "2023-11-23T02:27:41.683022Z",
     "start_time": "2023-11-23T02:27:41.678515Z"
    }
   },
   "outputs": [
    {
     "data": {
      "text/plain": [
       "1.75"
      ]
     },
     "execution_count": 23,
     "metadata": {},
     "output_type": "execute_result"
    }
   ],
   "source": [
    "# 나눗셈의 몫 반환 //\n",
    "\n",
    "7/4"
   ]
  },
  {
   "cell_type": "code",
   "execution_count": 24,
   "id": "4c29d95a",
   "metadata": {
    "ExecuteTime": {
     "end_time": "2023-11-23T02:27:51.908097Z",
     "start_time": "2023-11-23T02:27:51.902231Z"
    }
   },
   "outputs": [
    {
     "data": {
      "text/plain": [
       "1"
      ]
     },
     "execution_count": 24,
     "metadata": {},
     "output_type": "execute_result"
    }
   ],
   "source": [
    "7 // 4"
   ]
  },
  {
   "cell_type": "code",
   "execution_count": 25,
   "id": "cc3e1ceb",
   "metadata": {
    "ExecuteTime": {
     "end_time": "2023-11-23T02:28:01.916122Z",
     "start_time": "2023-11-23T02:28:01.911489Z"
    }
   },
   "outputs": [
    {
     "data": {
      "text/plain": [
       "3"
      ]
     },
     "execution_count": 25,
     "metadata": {},
     "output_type": "execute_result"
    }
   ],
   "source": [
    "7 % 4"
   ]
  },
  {
   "cell_type": "markdown",
   "id": "cd7602e2",
   "metadata": {},
   "source": [
    "# 문자열"
   ]
  },
  {
   "cell_type": "code",
   "execution_count": 26,
   "id": "8c70fe2e",
   "metadata": {
    "ExecuteTime": {
     "end_time": "2023-11-23T02:32:45.466834Z",
     "start_time": "2023-11-23T02:32:45.461777Z"
    }
   },
   "outputs": [
    {
     "data": {
      "text/plain": [
       "'Hello world'"
      ]
     },
     "execution_count": 26,
     "metadata": {},
     "output_type": "execute_result"
    }
   ],
   "source": [
    "\"Hello world\""
   ]
  },
  {
   "cell_type": "code",
   "execution_count": 27,
   "id": "d7c0c4b3",
   "metadata": {
    "ExecuteTime": {
     "end_time": "2023-11-23T02:32:54.701227Z",
     "start_time": "2023-11-23T02:32:54.697013Z"
    }
   },
   "outputs": [
    {
     "data": {
      "text/plain": [
       "'Hello world'"
      ]
     },
     "execution_count": 27,
     "metadata": {},
     "output_type": "execute_result"
    }
   ],
   "source": [
    "'Hello world'"
   ]
  },
  {
   "cell_type": "code",
   "execution_count": 29,
   "id": "17a7b506",
   "metadata": {
    "ExecuteTime": {
     "end_time": "2023-11-23T02:33:47.617533Z",
     "start_time": "2023-11-23T02:33:47.613213Z"
    }
   },
   "outputs": [
    {
     "data": {
      "text/plain": [
       "'Life is too short, \\n\\nyou need python'"
      ]
     },
     "execution_count": 29,
     "metadata": {},
     "output_type": "execute_result"
    }
   ],
   "source": [
    "\"\"\"Life is too short, \n",
    "\n",
    "you need python\"\"\""
   ]
  },
  {
   "cell_type": "code",
   "execution_count": 31,
   "id": "9639f209",
   "metadata": {
    "ExecuteTime": {
     "end_time": "2023-11-23T02:34:11.756129Z",
     "start_time": "2023-11-23T02:34:11.751608Z"
    }
   },
   "outputs": [
    {
     "data": {
      "text/plain": [
       "'Life is too short, you need python'"
      ]
     },
     "execution_count": 31,
     "metadata": {},
     "output_type": "execute_result"
    }
   ],
   "source": [
    "'''Life is too short, you need python'''"
   ]
  },
  {
   "cell_type": "code",
   "execution_count": 32,
   "id": "a724d9aa",
   "metadata": {
    "ExecuteTime": {
     "end_time": "2023-11-23T02:35:23.446034Z",
     "start_time": "2023-11-23T02:35:23.441562Z"
    }
   },
   "outputs": [
    {
     "data": {
      "text/plain": [
       "\"Python's favorite food is perl\""
      ]
     },
     "execution_count": 32,
     "metadata": {},
     "output_type": "execute_result"
    }
   ],
   "source": [
    "#따옴표 넣기 - 구분만 지어주면 됨\n",
    "\n",
    "\"Python's favorite food is perl\""
   ]
  },
  {
   "cell_type": "code",
   "execution_count": 33,
   "id": "379bd133",
   "metadata": {
    "ExecuteTime": {
     "end_time": "2023-11-23T02:35:59.899147Z",
     "start_time": "2023-11-23T02:35:59.883422Z"
    }
   },
   "outputs": [
    {
     "ename": "SyntaxError",
     "evalue": "unterminated string literal (detected at line 1) (1974562179.py, line 1)",
     "output_type": "error",
     "traceback": [
      "\u001b[1;36m  Cell \u001b[1;32mIn[33], line 1\u001b[1;36m\u001b[0m\n\u001b[1;33m    'Python's favorite food is perl'\u001b[0m\n\u001b[1;37m                                   ^\u001b[0m\n\u001b[1;31mSyntaxError\u001b[0m\u001b[1;31m:\u001b[0m unterminated string literal (detected at line 1)\n"
     ]
    }
   ],
   "source": [
    "'Python's favorite food is perl'"
   ]
  },
  {
   "cell_type": "code",
   "execution_count": 35,
   "id": "12237225",
   "metadata": {
    "ExecuteTime": {
     "end_time": "2023-11-23T02:36:38.952459Z",
     "start_time": "2023-11-23T02:36:38.947541Z"
    }
   },
   "outputs": [
    {
     "data": {
      "text/plain": [
       "\"Python's favorite food is perl\""
      ]
     },
     "execution_count": 35,
     "metadata": {},
     "output_type": "execute_result"
    }
   ],
   "source": [
    "food = \"Python's favorite food is perl\"\n",
    "food"
   ]
  },
  {
   "cell_type": "code",
   "execution_count": 37,
   "id": "d052f19a",
   "metadata": {
    "ExecuteTime": {
     "end_time": "2023-11-23T02:38:17.399597Z",
     "start_time": "2023-11-23T02:38:17.395241Z"
    }
   },
   "outputs": [
    {
     "data": {
      "text/plain": [
       "'\"Python is very easy.\" he says.'"
      ]
     },
     "execution_count": 37,
     "metadata": {},
     "output_type": "execute_result"
    }
   ],
   "source": [
    "'\"Python is very easy.\" he says.'"
   ]
  },
  {
   "cell_type": "code",
   "execution_count": 40,
   "id": "52cfa90c",
   "metadata": {
    "ExecuteTime": {
     "end_time": "2023-11-23T02:41:39.704663Z",
     "start_time": "2023-11-23T02:41:39.700130Z"
    }
   },
   "outputs": [
    {
     "data": {
      "text/plain": [
       "(\"Python's favorite food is perl\", '\"Python is very easy.\" he says.')"
      ]
     },
     "execution_count": 40,
     "metadata": {},
     "output_type": "execute_result"
    }
   ],
   "source": [
    "# 백슬래시(원화 \\)를 사용해서 따옴표를 문자열에 포함 가능\n",
    "\n",
    "food = 'Python\\'s favorite food is perl'\n",
    "say = \"\\\"Python is very easy.\\\" he says.\"\n",
    "food, say"
   ]
  },
  {
   "cell_type": "markdown",
   "id": "16b01753",
   "metadata": {},
   "source": [
    "### 여러 줄인 문자열을 변수에 대입하고 싶을 때"
   ]
  },
  {
   "cell_type": "code",
   "execution_count": 42,
   "id": "dfeb1438",
   "metadata": {
    "ExecuteTime": {
     "end_time": "2023-11-23T02:43:34.079399Z",
     "start_time": "2023-11-23T02:43:34.073888Z"
    }
   },
   "outputs": [
    {
     "data": {
      "text/plain": [
       "'Life is too short\\nYou need python'"
      ]
     },
     "execution_count": 42,
     "metadata": {},
     "output_type": "execute_result"
    }
   ],
   "source": [
    "# 줄을 바꾸는 이스케이프코드 \\n\n",
    "\n",
    "multiline = \"Life is too short\\nYou need python\"\n",
    "multiline # 노트북 편의기능"
   ]
  },
  {
   "cell_type": "code",
   "execution_count": 44,
   "id": "b7b13e5d",
   "metadata": {
    "ExecuteTime": {
     "end_time": "2023-11-23T02:44:01.266275Z",
     "start_time": "2023-11-23T02:44:01.263148Z"
    }
   },
   "outputs": [
    {
     "name": "stdout",
     "output_type": "stream",
     "text": [
      "Life is too short\n",
      "You need python\n"
     ]
    }
   ],
   "source": [
    "print(multiline)\n",
    "\n",
    "#파이썬 내장 함수 print"
   ]
  },
  {
   "cell_type": "markdown",
   "id": "5afcbf4d",
   "metadata": {},
   "source": [
    "## 연속된 따옴표 사용하기"
   ]
  },
  {
   "cell_type": "code",
   "execution_count": 47,
   "id": "afe20958",
   "metadata": {
    "ExecuteTime": {
     "end_time": "2023-11-23T02:46:32.430287Z",
     "start_time": "2023-11-23T02:46:32.425244Z"
    }
   },
   "outputs": [
    {
     "data": {
      "text/plain": [
       "'Life is too short, \\nyou need python'"
      ]
     },
     "execution_count": 47,
     "metadata": {},
     "output_type": "execute_result"
    }
   ],
   "source": [
    "multiline = \"\"\"Life is too short, \n",
    "you need python\"\"\"\n",
    "multiline"
   ]
  },
  {
   "cell_type": "code",
   "execution_count": 48,
   "id": "b605f12b",
   "metadata": {
    "ExecuteTime": {
     "end_time": "2023-11-23T02:46:35.055533Z",
     "start_time": "2023-11-23T02:46:35.051658Z"
    }
   },
   "outputs": [
    {
     "name": "stdout",
     "output_type": "stream",
     "text": [
      "Life is too short, \n",
      "you need python\n"
     ]
    }
   ],
   "source": [
    "print(multiline)"
   ]
  },
  {
   "cell_type": "markdown",
   "id": "4eebb6c5",
   "metadata": {},
   "source": [
    "## 문자열 연산하기"
   ]
  },
  {
   "cell_type": "code",
   "execution_count": null,
   "id": "ce857b66",
   "metadata": {},
   "outputs": [],
   "source": []
  },
  {
   "cell_type": "code",
   "execution_count": null,
   "id": "bcbe070b",
   "metadata": {},
   "outputs": [],
   "source": []
  }
 ],
 "metadata": {
  "kernelspec": {
   "display_name": "Python 3 (ipykernel)",
   "language": "python",
   "name": "python3"
  },
  "language_info": {
   "codemirror_mode": {
    "name": "ipython",
    "version": 3
   },
   "file_extension": ".py",
   "mimetype": "text/x-python",
   "name": "python",
   "nbconvert_exporter": "python",
   "pygments_lexer": "ipython3",
   "version": "3.11.5"
  },
  "toc": {
   "base_numbering": 1,
   "nav_menu": {},
   "number_sections": true,
   "sideBar": true,
   "skip_h1_title": false,
   "title_cell": "Table of Contents",
   "title_sidebar": "Contents",
   "toc_cell": false,
   "toc_position": {},
   "toc_section_display": true,
   "toc_window_display": false
  }
 },
 "nbformat": 4,
 "nbformat_minor": 5
}
