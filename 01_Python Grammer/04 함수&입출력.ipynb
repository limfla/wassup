{
 "cells": [
  {
   "cell_type": "markdown",
   "id": "67ecfec5",
   "metadata": {},
   "source": [
    "## 함수\n",
    "\n",
    "* 반복되는 부분이 있을 경우, ‘반복적으로 사용되는 가치 있는 부분’을 한 뭉치로 묶어 ‘어떤 입력값을 주었을 때 어떤 결괏값을 리턴해 준다’\n",
    "* 함수의 형태는 입력값과 리턴값의 존재 유무에 따라 4가지 유형으로 나뉨"
   ]
  },
  {
   "cell_type": "code",
   "execution_count": 7,
   "id": "cd267d3e",
   "metadata": {
    "ExecuteTime": {
     "end_time": "2023-12-01T10:13:06.323008Z",
     "start_time": "2023-12-01T10:13:06.308600Z"
    }
   },
   "outputs": [],
   "source": [
    "def add(a, b):\n",
    "    return a + b\n",
    "\n",
    "# 함수 이름은 add, 입력값 2개 받음(선언), 리턴(출력)값은 입력값 2개 더한 값"
   ]
  },
  {
   "cell_type": "code",
   "execution_count": 6,
   "id": "d328eb94",
   "metadata": {
    "ExecuteTime": {
     "end_time": "2023-12-01T10:12:41.709158Z",
     "start_time": "2023-12-01T10:12:41.703173Z"
    }
   },
   "outputs": [
    {
     "name": "stdout",
     "output_type": "stream",
     "text": [
      "7\n"
     ]
    }
   ],
   "source": [
    "a = 3\n",
    "b = 4\n",
    "c = add(a, b)\n",
    "print(c)"
   ]
  },
  {
   "cell_type": "code",
   "execution_count": 1,
   "id": "8ea2416e",
   "metadata": {
    "ExecuteTime": {
     "end_time": "2023-12-02T13:40:01.858058Z",
     "start_time": "2023-12-02T13:40:01.853990Z"
    }
   },
   "outputs": [
    {
     "name": "stdout",
     "output_type": "stream",
     "text": [
      "3\n"
     ]
    }
   ],
   "source": [
    "def add(a, b): #a,b는 매개변수(함수에 입력으로 전달된 값을 받음)\n",
    "    return a + b\n",
    "\n",
    "print(add(1, 2)) # 3, 4는 인수(함수 호출 시 전달하는 입력값)"
   ]
  },
  {
   "cell_type": "markdown",
   "id": "deaf9e81",
   "metadata": {},
   "source": [
    "### 일반적인 함수\n",
    "\n",
    "* 입력값이 있고 리턴값이 있는\n",
    "* 리턴값을_받을_변수 = 함수_이름(입력_인수1, 입력_인수2, ...)"
   ]
  },
  {
   "cell_type": "code",
   "execution_count": 20,
   "id": "53412f10",
   "metadata": {
    "ExecuteTime": {
     "end_time": "2023-11-30T01:37:57.467625Z",
     "start_time": "2023-11-30T01:37:57.464803Z"
    }
   },
   "outputs": [],
   "source": [
    "def add(a, b):\n",
    "    result = a + b\n",
    "    return result"
   ]
  },
  {
   "cell_type": "code",
   "execution_count": 23,
   "id": "c3c93f8d",
   "metadata": {
    "ExecuteTime": {
     "end_time": "2023-11-30T01:38:08.535171Z",
     "start_time": "2023-11-30T01:38:08.532134Z"
    }
   },
   "outputs": [
    {
     "name": "stdout",
     "output_type": "stream",
     "text": [
      "7\n"
     ]
    }
   ],
   "source": [
    "a = add(3, 4)\n",
    "\n",
    "print(a)"
   ]
  },
  {
   "cell_type": "code",
   "execution_count": 1,
   "id": "df5aa204",
   "metadata": {
    "ExecuteTime": {
     "end_time": "2023-12-01T10:07:49.905442Z",
     "start_time": "2023-12-01T10:07:49.895968Z"
    }
   },
   "outputs": [
    {
     "data": {
      "text/plain": [
       "10"
      ]
     },
     "execution_count": 1,
     "metadata": {},
     "output_type": "execute_result"
    }
   ],
   "source": [
    "def 함수():\n",
    "    return 10\n",
    "\n",
    "함수()"
   ]
  },
  {
   "cell_type": "markdown",
   "id": "69e2fe0b",
   "metadata": {},
   "source": [
    "### 입력값이 없는 함수\n",
    "* 사용방법: 리턴값을_받을_변수 = 함수_이름()"
   ]
  },
  {
   "cell_type": "code",
   "execution_count": 2,
   "id": "4e706628",
   "metadata": {
    "ExecuteTime": {
     "end_time": "2023-12-02T13:42:37.895339Z",
     "start_time": "2023-12-02T13:42:37.891929Z"
    }
   },
   "outputs": [],
   "source": [
    "def say():\n",
    "    return 'Hi'"
   ]
  },
  {
   "cell_type": "code",
   "execution_count": 3,
   "id": "ba73981a",
   "metadata": {
    "ExecuteTime": {
     "end_time": "2023-12-02T13:42:40.173901Z",
     "start_time": "2023-12-02T13:42:40.170307Z"
    }
   },
   "outputs": [
    {
     "name": "stdout",
     "output_type": "stream",
     "text": [
      "Hi\n"
     ]
    }
   ],
   "source": [
    "a = say()\n",
    "print(a)"
   ]
  },
  {
   "cell_type": "markdown",
   "id": "9390f027",
   "metadata": {},
   "source": [
    "### 리턴값이 없는 함수\n",
    "\n",
    "* 리턴: 지역변수 > 전역변수로 값을 옮김 (변수에 할당 가능, 프린트 출력 가능)\n",
    "* print 문은 함수의 구성 요소 중 하나인 ‘수행할_문장’에 해당하는 부분일 뿐\n",
    "* 사용 방법: 함수_이름(입력_인수1, 입력_인수2, ...)\n"
   ]
  },
  {
   "cell_type": "code",
   "execution_count": 5,
   "id": "f68537ad",
   "metadata": {
    "ExecuteTime": {
     "end_time": "2023-12-02T13:43:21.755296Z",
     "start_time": "2023-12-02T13:43:21.752343Z"
    }
   },
   "outputs": [],
   "source": [
    "def add(a, b):\n",
    "    print(\"%d, %d의 합은 %d입니다.\" % (a, b, a+b))"
   ]
  },
  {
   "cell_type": "code",
   "execution_count": 6,
   "id": "c19f6742",
   "metadata": {
    "ExecuteTime": {
     "end_time": "2023-12-02T13:43:23.422313Z",
     "start_time": "2023-12-02T13:43:23.418319Z"
    }
   },
   "outputs": [
    {
     "name": "stdout",
     "output_type": "stream",
     "text": [
      "3, 4의 합은 7입니다.\n"
     ]
    }
   ],
   "source": [
    "add(3, 4)"
   ]
  },
  {
   "cell_type": "code",
   "execution_count": 8,
   "id": "fcb057c9",
   "metadata": {
    "ExecuteTime": {
     "end_time": "2023-12-02T13:44:53.128084Z",
     "start_time": "2023-12-02T13:44:53.123516Z"
    }
   },
   "outputs": [
    {
     "name": "stdout",
     "output_type": "stream",
     "text": [
      "3, 4의 합은 7입니다.\n",
      "None\n"
     ]
    }
   ],
   "source": [
    "a = add(3, 4)\n",
    "print(a)"
   ]
  },
  {
   "cell_type": "markdown",
   "id": "b6c7282b",
   "metadata": {},
   "source": [
    "### 입력값도, 리턴값도 없는 함수\n",
    "\n",
    "* 사용방법: 함수_이름()"
   ]
  },
  {
   "cell_type": "code",
   "execution_count": 17,
   "id": "1efee7da",
   "metadata": {
    "ExecuteTime": {
     "end_time": "2023-11-30T01:35:33.334456Z",
     "start_time": "2023-11-30T01:35:33.331657Z"
    }
   },
   "outputs": [],
   "source": [
    "def say():\n",
    "    print('Hi')"
   ]
  },
  {
   "cell_type": "code",
   "execution_count": 18,
   "id": "abfbcb9d",
   "metadata": {
    "ExecuteTime": {
     "end_time": "2023-11-30T01:35:37.660566Z",
     "start_time": "2023-11-30T01:35:37.657560Z"
    }
   },
   "outputs": [
    {
     "name": "stdout",
     "output_type": "stream",
     "text": [
      "Hi\n"
     ]
    }
   ],
   "source": [
    "say()"
   ]
  },
  {
   "cell_type": "markdown",
   "id": "43e6557d",
   "metadata": {},
   "source": [
    "### 매개변수를 지정하여 호출하기\n",
    "\n",
    "* 순서에 상관없이 사용할 수 있다는 장점"
   ]
  },
  {
   "cell_type": "code",
   "execution_count": 10,
   "id": "c7fd20a0",
   "metadata": {
    "ExecuteTime": {
     "end_time": "2023-12-02T13:51:12.800031Z",
     "start_time": "2023-12-02T13:51:12.794970Z"
    }
   },
   "outputs": [
    {
     "name": "stdout",
     "output_type": "stream",
     "text": [
      "4\n"
     ]
    }
   ],
   "source": [
    "def sub(a, b):\n",
    "    return a - b\n",
    "\n",
    "result = sub(a=7, b =3)\n",
    "print(result)"
   ]
  },
  {
   "cell_type": "code",
   "execution_count": 11,
   "id": "6a0f2d17",
   "metadata": {
    "ExecuteTime": {
     "end_time": "2023-12-02T13:51:58.271779Z",
     "start_time": "2023-12-02T13:51:58.267732Z"
    }
   },
   "outputs": [
    {
     "name": "stdout",
     "output_type": "stream",
     "text": [
      "-2\n"
     ]
    }
   ],
   "source": [
    "def sub(a, b):\n",
    "    return a - b\n",
    "\n",
    "result = sub(b =5, a =3)\n",
    "print(result)"
   ]
  },
  {
   "cell_type": "markdown",
   "id": "8ad7eef9",
   "metadata": {},
   "source": [
    "### 여러 개의 입력값을 받는 함수 만들기 *args\n",
    "* 매개변수 이름 앞에 * 붙이면 입력값을 전부 모아 튜플로 만들어 줌"
   ]
  },
  {
   "cell_type": "code",
   "execution_count": 17,
   "id": "03826e7e",
   "metadata": {
    "ExecuteTime": {
     "end_time": "2023-12-02T13:57:37.511609Z",
     "start_time": "2023-12-02T13:57:37.507885Z"
    }
   },
   "outputs": [],
   "source": [
    "def add_many(*args):\n",
    "    result = 0\n",
    "    for i in args:\n",
    "        result = result + i #args에 입력받은 모든 값을 더함\n",
    "    return result"
   ]
  },
  {
   "cell_type": "code",
   "execution_count": 18,
   "id": "cbbf4efc",
   "metadata": {
    "ExecuteTime": {
     "end_time": "2023-12-02T13:57:39.909271Z",
     "start_time": "2023-12-02T13:57:39.904246Z"
    }
   },
   "outputs": [
    {
     "name": "stdout",
     "output_type": "stream",
     "text": [
      "함수 밖에서 실행 6\n"
     ]
    }
   ],
   "source": [
    "result = add_many(1, 2, 3)\n",
    "print('함수 밖에서 실행', result)"
   ]
  },
  {
   "cell_type": "code",
   "execution_count": 26,
   "id": "a572fb3b",
   "metadata": {
    "ExecuteTime": {
     "end_time": "2023-11-30T01:41:30.182556Z",
     "start_time": "2023-11-30T01:41:30.179277Z"
    }
   },
   "outputs": [
    {
     "name": "stdout",
     "output_type": "stream",
     "text": [
      "55\n"
     ]
    }
   ],
   "source": [
    "result = add_many(1, 2, 3, 4, 5, 6, 7, 8, 9, 10)\n",
    "print(result)"
   ]
  },
  {
   "cell_type": "code",
   "execution_count": 30,
   "id": "e931a73b",
   "metadata": {
    "ExecuteTime": {
     "end_time": "2023-11-30T01:46:47.314355Z",
     "start_time": "2023-11-30T01:46:47.309842Z"
    }
   },
   "outputs": [],
   "source": [
    "# 고정인수와 가변인수 혼합 단, 고정인수는 빈드시 먼저 나와야함\n",
    "\n",
    "def add_mul(choice, *args):\n",
    "    if choice == \"add\":\n",
    "        result = 0\n",
    "        for i in args:\n",
    "            result = result + i\n",
    "    elif choice == \"mul\":\n",
    "        result = 1\n",
    "        for i in args:\n",
    "            result = result * i\n",
    "    return result"
   ]
  },
  {
   "cell_type": "code",
   "execution_count": 31,
   "id": "a497e5c9",
   "metadata": {
    "ExecuteTime": {
     "end_time": "2023-11-30T01:47:10.918372Z",
     "start_time": "2023-11-30T01:47:10.914896Z"
    }
   },
   "outputs": [
    {
     "name": "stdout",
     "output_type": "stream",
     "text": [
      "15\n"
     ]
    }
   ],
   "source": [
    "result = add_mul('add', 1,2,3,4,5)\n",
    "print(result)"
   ]
  },
  {
   "cell_type": "code",
   "execution_count": 32,
   "id": "6f6e3ab3",
   "metadata": {
    "ExecuteTime": {
     "end_time": "2023-11-30T01:47:19.588742Z",
     "start_time": "2023-11-30T01:47:19.584826Z"
    }
   },
   "outputs": [
    {
     "name": "stdout",
     "output_type": "stream",
     "text": [
      "120\n"
     ]
    }
   ],
   "source": [
    "result = add_mul('mul', 1,2,3,4,5)\n",
    "print(result)"
   ]
  },
  {
   "cell_type": "markdown",
   "id": "bb06d3cc",
   "metadata": {
    "ExecuteTime": {
     "end_time": "2023-11-30T02:01:43.943389Z",
     "start_time": "2023-11-30T02:01:43.941143Z"
    }
   },
   "source": [
    "### 키워드 매개변수 **kwargs\n",
    "\n",
    "* 워드 매개변수를 사용할 때는 매개변수 앞에 별 2개(**)를 붙인다. \n",
    "* 딕셔너리로 저장"
   ]
  },
  {
   "cell_type": "code",
   "execution_count": 34,
   "id": "002d9863",
   "metadata": {
    "ExecuteTime": {
     "end_time": "2023-11-30T02:02:05.561479Z",
     "start_time": "2023-11-30T02:02:05.557134Z"
    }
   },
   "outputs": [],
   "source": [
    "def print_kwargs(**kwargs):\n",
    "    print(kwargs)"
   ]
  },
  {
   "cell_type": "code",
   "execution_count": 35,
   "id": "5c19688c",
   "metadata": {
    "ExecuteTime": {
     "end_time": "2023-11-30T02:02:43.975194Z",
     "start_time": "2023-11-30T02:02:43.972036Z"
    }
   },
   "outputs": [
    {
     "name": "stdout",
     "output_type": "stream",
     "text": [
      "{'a': 1}\n"
     ]
    }
   ],
   "source": [
    "print_kwargs(a=1)"
   ]
  },
  {
   "cell_type": "code",
   "execution_count": 36,
   "id": "cdbb8211",
   "metadata": {
    "ExecuteTime": {
     "end_time": "2023-11-30T02:02:58.936876Z",
     "start_time": "2023-11-30T02:02:58.930613Z"
    },
    "scrolled": true
   },
   "outputs": [
    {
     "name": "stdout",
     "output_type": "stream",
     "text": [
      "{'name': 'foo', 'age': 3}\n"
     ]
    }
   ],
   "source": [
    "print_kwargs(name='foo', age=3)"
   ]
  },
  {
   "cell_type": "markdown",
   "id": "979b712a",
   "metadata": {},
   "source": [
    "### 함수의 리턴값은 언제나 하나이다"
   ]
  },
  {
   "cell_type": "code",
   "execution_count": 22,
   "id": "ee200086",
   "metadata": {
    "ExecuteTime": {
     "end_time": "2023-12-02T14:01:46.396537Z",
     "start_time": "2023-12-02T14:01:46.393891Z"
    }
   },
   "outputs": [],
   "source": [
    "def add_and_mul(a,b):\n",
    "    return a+b, a*b"
   ]
  },
  {
   "cell_type": "code",
   "execution_count": 23,
   "id": "4ff22467",
   "metadata": {
    "ExecuteTime": {
     "end_time": "2023-12-02T14:01:47.920150Z",
     "start_time": "2023-12-02T14:01:47.914957Z"
    }
   },
   "outputs": [
    {
     "data": {
      "text/plain": [
       "(7, 12)"
      ]
     },
     "execution_count": 23,
     "metadata": {},
     "output_type": "execute_result"
    }
   ],
   "source": [
    "result = add_and_mul(3,4) #튜플값으로 리턴\n",
    "result"
   ]
  },
  {
   "cell_type": "code",
   "execution_count": 24,
   "id": "0a22d18c",
   "metadata": {
    "ExecuteTime": {
     "end_time": "2023-12-02T14:02:10.981587Z",
     "start_time": "2023-12-02T14:02:10.977703Z"
    }
   },
   "outputs": [
    {
     "name": "stdout",
     "output_type": "stream",
     "text": [
      "7\n",
      "12\n"
     ]
    }
   ],
   "source": [
    "# 2개의 값으로 분리해서 받기\n",
    "result1, result2 = add_and_mul(3,4)\n",
    "print(result1)\n",
    "print(result2)"
   ]
  },
  {
   "cell_type": "code",
   "execution_count": 46,
   "id": "73d64af5",
   "metadata": {
    "ExecuteTime": {
     "end_time": "2023-11-30T02:08:50.368524Z",
     "start_time": "2023-11-30T02:08:50.365842Z"
    }
   },
   "outputs": [],
   "source": [
    "def add_and_mul(a,b): \n",
    "    return a+b \n",
    "    return a*b "
   ]
  },
  {
   "cell_type": "code",
   "execution_count": 48,
   "id": "3ea160f0",
   "metadata": {
    "ExecuteTime": {
     "end_time": "2023-11-30T02:09:19.438489Z",
     "start_time": "2023-11-30T02:09:19.434501Z"
    }
   },
   "outputs": [
    {
     "name": "stdout",
     "output_type": "stream",
     "text": [
      "5\n"
     ]
    }
   ],
   "source": [
    "result = add_and_mul(2, 3)\n",
    "print(result)\n",
    "\n",
    "# 함수는 리턴문을 만나는 순간 값을 반환하거 함수를 빠져나감"
   ]
  },
  {
   "cell_type": "markdown",
   "id": "7eaafd27",
   "metadata": {},
   "source": [
    "### return의 또 다른 쓰임새\n",
    "\n",
    "* 특별한 상황일 때 함수를 빠져나가고 싶다면 return을 단독으로 써서 함수를 즉시 빠져나갈 수 있다"
   ]
  },
  {
   "cell_type": "code",
   "execution_count": 49,
   "id": "a00587fa",
   "metadata": {
    "ExecuteTime": {
     "end_time": "2023-11-30T02:10:15.206251Z",
     "start_time": "2023-11-30T02:10:15.203191Z"
    }
   },
   "outputs": [],
   "source": [
    "def say_nick(nick):\n",
    "    if nick == '바보':\n",
    "        return # 바보일 경우 return 종료해줘\n",
    "    print(\"나의 별명은 %s 입니다.\" % nick)"
   ]
  },
  {
   "cell_type": "code",
   "execution_count": 50,
   "id": "a310fd53",
   "metadata": {
    "ExecuteTime": {
     "end_time": "2023-11-30T02:10:32.617068Z",
     "start_time": "2023-11-30T02:10:32.613215Z"
    }
   },
   "outputs": [
    {
     "name": "stdout",
     "output_type": "stream",
     "text": [
      "나의 별명은 야호 입니다.\n"
     ]
    }
   ],
   "source": [
    "say_nick('야호')"
   ]
  },
  {
   "cell_type": "code",
   "execution_count": 52,
   "id": "2cd1284f",
   "metadata": {
    "ExecuteTime": {
     "end_time": "2023-11-30T02:10:59.278386Z",
     "start_time": "2023-11-30T02:10:59.274834Z"
    }
   },
   "outputs": [],
   "source": [
    "say_nick('바보')"
   ]
  },
  {
   "cell_type": "markdown",
   "id": "907442db",
   "metadata": {},
   "source": [
    "### 매개변수에 초깃값 미리 설정하기\n",
    "\n",
    "* 고정변수는 맨 앞에, 디폴트 매개변수는 맨 뒤에!"
   ]
  },
  {
   "cell_type": "code",
   "execution_count": 55,
   "id": "e7870d3e",
   "metadata": {
    "ExecuteTime": {
     "end_time": "2023-11-30T02:13:36.472610Z",
     "start_time": "2023-11-30T02:13:36.468712Z"
    }
   },
   "outputs": [],
   "source": [
    "def say_myself(name, age, man=True):\n",
    "    print('나의 이름은 %s 입니다.' % name)\n",
    "    print('나이는 %d 입니다.' % age)\n",
    "    if man:\n",
    "        print('남자입니다.')\n",
    "    else:\n",
    "        print('여자입니다.')"
   ]
  },
  {
   "cell_type": "code",
   "execution_count": 56,
   "id": "95152660",
   "metadata": {
    "ExecuteTime": {
     "end_time": "2023-11-30T02:13:38.333416Z",
     "start_time": "2023-11-30T02:13:38.329617Z"
    }
   },
   "outputs": [
    {
     "name": "stdout",
     "output_type": "stream",
     "text": [
      "나의 이름은 박응용 입니다.\n",
      "나이는 27 입니다.\n",
      "남자입니다.\n"
     ]
    }
   ],
   "source": [
    "say_myself(\"박응용\", 27)"
   ]
  },
  {
   "cell_type": "code",
   "execution_count": 57,
   "id": "ce0c06e1",
   "metadata": {
    "ExecuteTime": {
     "end_time": "2023-11-30T02:13:49.870164Z",
     "start_time": "2023-11-30T02:13:49.866097Z"
    }
   },
   "outputs": [
    {
     "name": "stdout",
     "output_type": "stream",
     "text": [
      "나의 이름은 박응용 입니다.\n",
      "나이는 27 입니다.\n",
      "남자입니다.\n"
     ]
    }
   ],
   "source": [
    "say_myself(\"박응용\", 27, True)"
   ]
  },
  {
   "cell_type": "code",
   "execution_count": 58,
   "id": "7e045357",
   "metadata": {
    "ExecuteTime": {
     "end_time": "2023-11-30T02:14:06.310159Z",
     "start_time": "2023-11-30T02:14:06.306161Z"
    }
   },
   "outputs": [
    {
     "name": "stdout",
     "output_type": "stream",
     "text": [
      "나의 이름은 박응용 입니다.\n",
      "나이는 27 입니다.\n",
      "여자입니다.\n"
     ]
    }
   ],
   "source": [
    "say_myself(\"박응용\", 27, False)"
   ]
  },
  {
   "cell_type": "code",
   "execution_count": 60,
   "id": "dcf1a6b3",
   "metadata": {
    "ExecuteTime": {
     "end_time": "2023-11-30T02:16:19.781255Z",
     "start_time": "2023-11-30T02:16:19.775898Z"
    }
   },
   "outputs": [
    {
     "ename": "SyntaxError",
     "evalue": "non-default argument follows default argument (2289007298.py, line 1)",
     "output_type": "error",
     "traceback": [
      "\u001b[1;36m  Cell \u001b[1;32mIn[60], line 1\u001b[1;36m\u001b[0m\n\u001b[1;33m    def say_myself(name, man=True, age,): # 디폴트 매개변수는 맨 뒤에\u001b[0m\n\u001b[1;37m                                   ^\u001b[0m\n\u001b[1;31mSyntaxError\u001b[0m\u001b[1;31m:\u001b[0m non-default argument follows default argument\n"
     ]
    }
   ],
   "source": [
    "def say_myself(name, man=True, age,): # 디폴트 매개변수는 맨 뒤에\n",
    "    print('나의 이름은 %s 입니다.' % name)\n",
    "    print('나이는 %d 입니다.' % age)\n",
    "    if man:\n",
    "        print('남자입니다.')\n",
    "    else:\n",
    "        print('여자입니다.')"
   ]
  },
  {
   "cell_type": "markdown",
   "id": "7d86672c",
   "metadata": {},
   "source": [
    "### 함수 안에서 선언한 변수의 효력 범위\n",
    "\n",
    "* 함수 안에서 선언한 매개변수는 함수 안에서만 사용될 뿐, 함수 밖에서는 사용되지 않는다"
   ]
  },
  {
   "cell_type": "code",
   "execution_count": 61,
   "id": "0cafcfcd",
   "metadata": {
    "ExecuteTime": {
     "end_time": "2023-11-30T02:16:40.713983Z",
     "start_time": "2023-11-30T02:16:40.710413Z"
    }
   },
   "outputs": [
    {
     "name": "stdout",
     "output_type": "stream",
     "text": [
      "1\n"
     ]
    }
   ],
   "source": [
    "a = 1 #전역변수\n",
    "def vartest(a): #a = 지역변수(함수 안에서만 사용)\n",
    "    a = a +1\n",
    "\n",
    "vartest(a)\n",
    "print(a)"
   ]
  },
  {
   "cell_type": "code",
   "execution_count": 25,
   "id": "667dfe18",
   "metadata": {
    "ExecuteTime": {
     "end_time": "2023-12-02T14:07:02.854300Z",
     "start_time": "2023-12-02T14:07:02.835094Z"
    },
    "scrolled": true
   },
   "outputs": [
    {
     "ename": "TypeError",
     "evalue": "unsupported operand type(s) for +: 'NoneType' and 'int'",
     "output_type": "error",
     "traceback": [
      "\u001b[1;31m---------------------------------------------------------------------------\u001b[0m",
      "\u001b[1;31mTypeError\u001b[0m                                 Traceback (most recent call last)",
      "Cell \u001b[1;32mIn[25], line 4\u001b[0m\n\u001b[0;32m      1\u001b[0m \u001b[38;5;28;01mdef\u001b[39;00m \u001b[38;5;21mvartest\u001b[39m(aa):\n\u001b[0;32m      2\u001b[0m     aa \u001b[38;5;241m=\u001b[39m a \u001b[38;5;241m+\u001b[39m \u001b[38;5;241m1\u001b[39m\n\u001b[1;32m----> 4\u001b[0m vartest(\u001b[38;5;241m3\u001b[39m)\n\u001b[0;32m      5\u001b[0m \u001b[38;5;28mprint\u001b[39m(aa)\n",
      "Cell \u001b[1;32mIn[25], line 2\u001b[0m, in \u001b[0;36mvartest\u001b[1;34m(aa)\u001b[0m\n\u001b[0;32m      1\u001b[0m \u001b[38;5;28;01mdef\u001b[39;00m \u001b[38;5;21mvartest\u001b[39m(aa):\n\u001b[1;32m----> 2\u001b[0m     aa \u001b[38;5;241m=\u001b[39m a \u001b[38;5;241m+\u001b[39m \u001b[38;5;241m1\u001b[39m\n",
      "\u001b[1;31mTypeError\u001b[0m: unsupported operand type(s) for +: 'NoneType' and 'int'"
     ]
    }
   ],
   "source": [
    "def vartest(aa):\n",
    "    aa = a + 1\n",
    "\n",
    "vartest(3)\n",
    "print(aa)\n",
    "\n",
    "# print(aa)에서 사용한 aa 변수는 어디에도 선언되지 않아 오류 발생"
   ]
  },
  {
   "cell_type": "markdown",
   "id": "f8d95014",
   "metadata": {
    "ExecuteTime": {
     "end_time": "2023-11-30T02:21:59.708304Z",
     "start_time": "2023-11-30T02:21:59.706059Z"
    }
   },
   "source": [
    "### 함수 안에서 함수 밖의 변수를 변경하는 방법"
   ]
  },
  {
   "cell_type": "markdown",
   "id": "d296f91a",
   "metadata": {},
   "source": [
    "#### return 사용"
   ]
  },
  {
   "cell_type": "code",
   "execution_count": 27,
   "id": "1b9fc547",
   "metadata": {
    "ExecuteTime": {
     "end_time": "2023-12-02T14:07:57.197546Z",
     "start_time": "2023-12-02T14:07:57.193348Z"
    }
   },
   "outputs": [
    {
     "name": "stdout",
     "output_type": "stream",
     "text": [
      "2\n"
     ]
    }
   ],
   "source": [
    "a = 1\n",
    "def vartest(a):\n",
    "    a = a + 1\n",
    "    return a\n",
    "\n",
    "a = vartest(a)\n",
    "print(a)"
   ]
  },
  {
   "cell_type": "markdown",
   "id": "de7d1b68",
   "metadata": {
    "ExecuteTime": {
     "end_time": "2023-11-30T02:22:31.638047Z",
     "start_time": "2023-11-30T02:22:31.633745Z"
    }
   },
   "source": [
    "#### global 명령어 사용\n",
    "* 함수 밖의 변수를 직접 사용하겠다\n",
    "*  global 명령어는 사용하지 않는 것이 좋다. 함수는 독립적으로 존재하는 것이 좋기 때문이다. \n",
    "* 외부 변수에 종속적인 함수는 그다지 좋은 함수가 아니다. 따라서 되도록 global 명령어를 사용하는 이 방법은 피하고 첫 번째 방법을 사용하기를 권한다."
   ]
  },
  {
   "cell_type": "code",
   "execution_count": 66,
   "id": "2bc2de40",
   "metadata": {
    "ExecuteTime": {
     "end_time": "2023-11-30T02:22:39.165299Z",
     "start_time": "2023-11-30T02:22:39.161044Z"
    }
   },
   "outputs": [
    {
     "name": "stdout",
     "output_type": "stream",
     "text": [
      "2\n"
     ]
    }
   ],
   "source": [
    "a = 1 \n",
    "def vartest(): \n",
    "    global a \n",
    "    a = a+1\n",
    "\n",
    "vartest() \n",
    "print(a)"
   ]
  },
  {
   "cell_type": "markdown",
   "id": "5036eb06",
   "metadata": {},
   "source": [
    "#### lambda 표현식으로 익명 함수 만들기\n",
    "* lambda = 1회성 함수\n",
    "* 함수_이름 = lambda 매개변수1, 매개변수2, ... : 매개변수를_이용한_표현식\n",
    "* 함수를 간편하게 작성할 수 있어 다른 함수의 인수로 넣을 때 주로 사용\n",
    "* def를 사용할만큼 복잡하지 않거나 일회성(가공)등의 데이터 전처리를 할 때 많이 사용"
   ]
  },
  {
   "cell_type": "code",
   "execution_count": 28,
   "id": "49330505",
   "metadata": {
    "ExecuteTime": {
     "end_time": "2023-12-02T14:13:16.829894Z",
     "start_time": "2023-12-02T14:13:16.825973Z"
    }
   },
   "outputs": [
    {
     "name": "stdout",
     "output_type": "stream",
     "text": [
      "7\n"
     ]
    }
   ],
   "source": [
    "add = lambda a, b: a+b\n",
    "result = add(3, 4)\n",
    "print(result)\n",
    "\n",
    "# return 명령어가 없어도 표현식의 결괏값을 리턴"
   ]
  },
  {
   "cell_type": "code",
   "execution_count": 68,
   "id": "9d32464d",
   "metadata": {
    "ExecuteTime": {
     "end_time": "2023-11-30T02:30:23.501373Z",
     "start_time": "2023-11-30T02:30:23.498030Z"
    }
   },
   "outputs": [
    {
     "name": "stdout",
     "output_type": "stream",
     "text": [
      "7\n"
     ]
    }
   ],
   "source": [
    "def add(a,b):\n",
    "    return a+b\n",
    "\n",
    "result = add(3,4)\n",
    "print(result)"
   ]
  },
  {
   "cell_type": "markdown",
   "id": "99031657",
   "metadata": {},
   "source": [
    "## 사용자 입출력"
   ]
  },
  {
   "cell_type": "markdown",
   "id": "b68e19d8",
   "metadata": {
    "ExecuteTime": {
     "end_time": "2023-11-30T02:37:15.656235Z",
     "start_time": "2023-11-30T02:37:15.652771Z"
    }
   },
   "source": [
    "### 사용자 입력 활용하기\n",
    "* 사용자가 입력한 값을 어떤 변수에 대입하고 싶을 때"
   ]
  },
  {
   "cell_type": "markdown",
   "id": "908dfe46",
   "metadata": {},
   "source": [
    "#### input 사용하기\n",
    "* 사용자가 키보드로 입력한 모든 것을 문자열로 저장"
   ]
  },
  {
   "cell_type": "code",
   "execution_count": 29,
   "id": "e13b5f6a",
   "metadata": {
    "ExecuteTime": {
     "end_time": "2023-12-02T14:14:11.602532Z",
     "start_time": "2023-12-02T14:14:06.905115Z"
    }
   },
   "outputs": [
    {
     "name": "stdout",
     "output_type": "stream",
     "text": [
      "Life is too short, you need python\n"
     ]
    }
   ],
   "source": [
    "a  = input()"
   ]
  },
  {
   "cell_type": "code",
   "execution_count": 2,
   "id": "43811b4c",
   "metadata": {
    "ExecuteTime": {
     "end_time": "2023-11-30T02:44:09.088536Z",
     "start_time": "2023-11-30T02:44:09.082143Z"
    }
   },
   "outputs": [
    {
     "data": {
      "text/plain": [
       "'Life is too short, you need python'"
      ]
     },
     "execution_count": 2,
     "metadata": {},
     "output_type": "execute_result"
    }
   ],
   "source": [
    "a"
   ]
  },
  {
   "cell_type": "markdown",
   "id": "bf4467ff",
   "metadata": {
    "ExecuteTime": {
     "end_time": "2023-11-30T02:37:28.912045Z",
     "start_time": "2023-11-30T02:37:28.908550Z"
    }
   },
   "source": [
    "#### 프롬프트를 띄워 사용자 입력받기\n",
    "* input()의 괄호 안에 안내 문구를 입력하여 프롬프트를 띄워서 안내 또는 질문\n",
    "* input(\"안내문구\")"
   ]
  },
  {
   "cell_type": "code",
   "execution_count": 6,
   "id": "af90a199",
   "metadata": {
    "ExecuteTime": {
     "end_time": "2023-11-30T02:46:02.716730Z",
     "start_time": "2023-11-30T02:45:53.572791Z"
    }
   },
   "outputs": [
    {
     "name": "stdout",
     "output_type": "stream",
     "text": [
      "숫자를 입력하세요: 3\n",
      "3\n"
     ]
    }
   ],
   "source": [
    "number = input(\"숫자를 입력하세요: \")\n",
    "print(number) # number는 문자열"
   ]
  },
  {
   "cell_type": "code",
   "execution_count": null,
   "id": "fe989195",
   "metadata": {
    "ExecuteTime": {
     "start_time": "2023-12-02T14:14:53.845Z"
    }
   },
   "outputs": [],
   "source": [
    "number = input(\"숫자를 입력하세요: \")\n",
    "print(number) # number는 문자열"
   ]
  },
  {
   "cell_type": "markdown",
   "id": "99c7cf80",
   "metadata": {
    "ExecuteTime": {
     "end_time": "2023-11-30T02:37:49.138353Z",
     "start_time": "2023-11-30T02:37:49.134872Z"
    }
   },
   "source": [
    "### print 자세히 알기"
   ]
  },
  {
   "cell_type": "code",
   "execution_count": 7,
   "id": "91788457",
   "metadata": {
    "ExecuteTime": {
     "end_time": "2023-11-30T02:46:17.596222Z",
     "start_time": "2023-11-30T02:46:17.592838Z"
    }
   },
   "outputs": [
    {
     "name": "stdout",
     "output_type": "stream",
     "text": [
      "123\n"
     ]
    }
   ],
   "source": [
    "a = 123\n",
    "print(a)"
   ]
  },
  {
   "cell_type": "code",
   "execution_count": 9,
   "id": "94637d5c",
   "metadata": {
    "ExecuteTime": {
     "end_time": "2023-11-30T02:46:25.639177Z",
     "start_time": "2023-11-30T02:46:25.635245Z"
    }
   },
   "outputs": [
    {
     "name": "stdout",
     "output_type": "stream",
     "text": [
      "python\n"
     ]
    }
   ],
   "source": [
    "a = \"python\"\n",
    "print(a)"
   ]
  },
  {
   "cell_type": "code",
   "execution_count": 10,
   "id": "605d128e",
   "metadata": {
    "ExecuteTime": {
     "end_time": "2023-11-30T02:46:36.784807Z",
     "start_time": "2023-11-30T02:46:36.780724Z"
    }
   },
   "outputs": [
    {
     "name": "stdout",
     "output_type": "stream",
     "text": [
      "[1, 2, 3]\n"
     ]
    }
   ],
   "source": [
    "a = [1, 2, 3]\n",
    "print(a)"
   ]
  },
  {
   "cell_type": "markdown",
   "id": "c8838b72",
   "metadata": {},
   "source": [
    "#### 큰따옴표로 둘러싸인 문자열은 + 연산과 동일\n",
    "* 따옴표로 둘러싸인 문자열을 연속해서 쓰면 + 연산을 한 것과 같음\n",
    "* 붙여쓰기"
   ]
  },
  {
   "cell_type": "code",
   "execution_count": 11,
   "id": "750bea31",
   "metadata": {
    "ExecuteTime": {
     "end_time": "2023-11-30T02:47:08.964065Z",
     "start_time": "2023-11-30T02:47:08.960568Z"
    }
   },
   "outputs": [
    {
     "name": "stdout",
     "output_type": "stream",
     "text": [
      "lifeistoo short\n"
     ]
    }
   ],
   "source": [
    "print(\"life\" \"is\" \"too short\")"
   ]
  },
  {
   "cell_type": "code",
   "execution_count": 12,
   "id": "671a1d81",
   "metadata": {
    "ExecuteTime": {
     "end_time": "2023-11-30T02:47:23.902996Z",
     "start_time": "2023-11-30T02:47:23.899205Z"
    }
   },
   "outputs": [
    {
     "name": "stdout",
     "output_type": "stream",
     "text": [
      "lifeistoo short\n"
     ]
    }
   ],
   "source": [
    "print(\"life\"+\"is\"+\"too short\")"
   ]
  },
  {
   "cell_type": "markdown",
   "id": "fd2fb818",
   "metadata": {
    "ExecuteTime": {
     "end_time": "2023-11-30T02:47:49.902444Z",
     "start_time": "2023-11-30T02:47:49.899114Z"
    }
   },
   "source": [
    "#### 문자열 띄어쓰기는 쉼표로"
   ]
  },
  {
   "cell_type": "code",
   "execution_count": 14,
   "id": "2123b9f7",
   "metadata": {
    "ExecuteTime": {
     "end_time": "2023-11-30T02:48:14.017925Z",
     "start_time": "2023-11-30T02:48:14.014328Z"
    }
   },
   "outputs": [
    {
     "name": "stdout",
     "output_type": "stream",
     "text": [
      "life is too short\n"
     ]
    }
   ],
   "source": [
    "print('life', 'is', 'too', 'short')"
   ]
  },
  {
   "cell_type": "markdown",
   "id": "7b79b727",
   "metadata": {},
   "source": [
    "#### 한 줄에 결괏값 출력\n",
    "* 한 줄에 결괏값을 계속 이어서 출력하려면 매개변수 end를 사용해 끝 문자를 지정함\n",
    "* end = ' ' -> 문자열 끝에 공백이 추가되어 출력결과가 같은 줄에 표시"
   ]
  },
  {
   "cell_type": "code",
   "execution_count": 17,
   "id": "d2f2c5a5",
   "metadata": {
    "ExecuteTime": {
     "end_time": "2023-11-30T02:49:28.975534Z",
     "start_time": "2023-11-30T02:49:28.971010Z"
    }
   },
   "outputs": [
    {
     "name": "stdout",
     "output_type": "stream",
     "text": [
      "0 1 2 3 4 5 6 7 8 9 "
     ]
    }
   ],
   "source": [
    "for i in range(10):\n",
    "    print(i, end = ' ')"
   ]
  },
  {
   "cell_type": "code",
   "execution_count": null,
   "id": "7c24d32a",
   "metadata": {},
   "outputs": [],
   "source": []
  },
  {
   "cell_type": "markdown",
   "id": "8172a83c",
   "metadata": {},
   "source": [
    "## 파일 읽고 쓰기"
   ]
  },
  {
   "cell_type": "markdown",
   "id": "0db602fc",
   "metadata": {
    "ExecuteTime": {
     "end_time": "2023-12-04T04:52:28.245667Z",
     "start_time": "2023-12-04T04:52:28.242423Z"
    }
   },
   "source": [
    "### 파일 생성하기\n",
    "\n",
    "* 파이썬 내장함수 open 사용\n",
    "* 파일_객체 = open(파일_이름, 파일_열기_모드)\n",
    "* 열기모드: 읽기 r, 쓰기 w, 추가 a"
   ]
  },
  {
   "cell_type": "code",
   "execution_count": 1,
   "id": "2c3d668c",
   "metadata": {
    "ExecuteTime": {
     "end_time": "2023-12-04T04:44:58.102799Z",
     "start_time": "2023-12-04T04:44:58.097676Z"
    }
   },
   "outputs": [],
   "source": [
    "f = open(\"새파일.txt\", 'w')\n",
    "f.close()"
   ]
  },
  {
   "cell_type": "code",
   "execution_count": 2,
   "id": "0d085574",
   "metadata": {
    "ExecuteTime": {
     "end_time": "2023-12-04T04:48:26.909354Z",
     "start_time": "2023-12-04T04:48:26.903813Z"
    }
   },
   "outputs": [],
   "source": [
    "# 경로지정\n",
    "\n",
    "f = open(\"C:\\workspace\\python\\wassup/새파일.text\", 'w')\n",
    "f.close()\n"
   ]
  },
  {
   "cell_type": "markdown",
   "id": "58df71c1",
   "metadata": {},
   "source": [
    "#### 파일 경로와 슬래시\n",
    "\n",
    "* 파이썬 코드에서 파일 경로를 표시할 때 \"C:/doit/새파일.txt\"처럼 슬래시(/) 사용\n",
    "* 만약 역슬래시(\\)를 사용한다면 \"C:\\\\doit\\\\새파일.txt\"처럼 역슬래시를 2개 사용하거나 r\"C:\\doit\\새파일.txt\"와 같이 문자열 앞에 r 문자(raw string)를 덧붙여 사용\n",
    "* \"C:\\note\\test.txt\"처럼 파일 경로에 \\n과 같은 이스케이프 문자가 있을 경우, 줄바꿈 문자로 해석되어 의도했던 파일 경로와 달라지기 때문"
   ]
  },
  {
   "cell_type": "markdown",
   "id": "074cb176",
   "metadata": {},
   "source": [
    "### 파일을 쓰기 모드로 열어 내용 쓰기"
   ]
  },
  {
   "cell_type": "code",
   "execution_count": 10,
   "id": "51bb891f",
   "metadata": {
    "ExecuteTime": {
     "end_time": "2023-12-04T04:51:43.761266Z",
     "start_time": "2023-12-04T04:51:43.745301Z"
    }
   },
   "outputs": [],
   "source": [
    "f = open(\"C:\\workspace\\python\\wassup/새파일.text\", 'w')\n",
    "for i in range(1, 11):\n",
    "    data = \"%d번째 줄입니다.\\n\" % i\n",
    "    f.write(data)\n",
    "f.close()"
   ]
  },
  {
   "cell_type": "markdown",
   "id": "a1f468f7",
   "metadata": {},
   "source": [
    "### 파일을 읽는 여러가지 방법"
   ]
  },
  {
   "cell_type": "markdown",
   "id": "b23f36a0",
   "metadata": {},
   "source": [
    "#### readline 함수 이용하기\n",
    "* line을 한줄씩 읽어옴"
   ]
  },
  {
   "cell_type": "code",
   "execution_count": 18,
   "id": "e217df03",
   "metadata": {
    "ExecuteTime": {
     "end_time": "2023-12-04T05:04:39.455347Z",
     "start_time": "2023-12-04T05:04:39.449918Z"
    }
   },
   "outputs": [
    {
     "name": "stdout",
     "output_type": "stream",
     "text": [
      "1번째 줄입니다.\n",
      "\n"
     ]
    }
   ],
   "source": [
    "f = open(\"새파일.text\", 'r')\n",
    "line = f.readline()\n",
    "print(line)\n",
    "f.close()"
   ]
  },
  {
   "cell_type": "code",
   "execution_count": 21,
   "id": "aed2b84f",
   "metadata": {
    "ExecuteTime": {
     "end_time": "2023-12-04T05:05:23.533863Z",
     "start_time": "2023-12-04T05:05:23.527836Z"
    }
   },
   "outputs": [
    {
     "name": "stdout",
     "output_type": "stream",
     "text": [
      "1번째 줄입니다.\n",
      "\n",
      "2번째 줄입니다.\n",
      "\n",
      "3번째 줄입니다.\n",
      "\n",
      "4번째 줄입니다.\n",
      "\n",
      "5번째 줄입니다.\n",
      "\n",
      "6번째 줄입니다.\n",
      "\n",
      "7번째 줄입니다.\n",
      "\n",
      "8번째 줄입니다.\n",
      "\n",
      "9번째 줄입니다.\n",
      "\n",
      "10번째 줄입니다.\n",
      "\n"
     ]
    }
   ],
   "source": [
    "# 모든 줄을 읽고 싶다면\n",
    "# 몇 줄까지 있는지 모르니까 while (얼마나 돌아야할지 안다면 for문)\n",
    "\n",
    "f = open(\"새파일.text\", 'r')\n",
    "while True:\n",
    "    line = f.readline()\n",
    "    if not line: break\n",
    "    print(line)\n",
    "f.close()"
   ]
  },
  {
   "cell_type": "markdown",
   "id": "7c010712",
   "metadata": {},
   "source": [
    "#### readlines 함수 사용하기"
   ]
  },
  {
   "cell_type": "code",
   "execution_count": 24,
   "id": "94663373",
   "metadata": {
    "ExecuteTime": {
     "end_time": "2023-12-04T05:06:46.528971Z",
     "start_time": "2023-12-04T05:06:46.523407Z"
    }
   },
   "outputs": [
    {
     "name": "stdout",
     "output_type": "stream",
     "text": [
      "1번째 줄입니다.\n",
      "\n",
      "2번째 줄입니다.\n",
      "\n",
      "3번째 줄입니다.\n",
      "\n",
      "4번째 줄입니다.\n",
      "\n",
      "5번째 줄입니다.\n",
      "\n",
      "6번째 줄입니다.\n",
      "\n",
      "7번째 줄입니다.\n",
      "\n",
      "8번째 줄입니다.\n",
      "\n",
      "9번째 줄입니다.\n",
      "\n",
      "10번째 줄입니다.\n",
      "\n"
     ]
    }
   ],
   "source": [
    "f = open(\"C:\\workspace\\python\\wassup/새파일.text\", 'r')\n",
    "lines = f.readlines()\n",
    "for line in lines:\n",
    "    print(line)\n",
    "f.close()"
   ]
  },
  {
   "cell_type": "markdown",
   "id": "983ff25e",
   "metadata": {},
   "source": [
    "#### 줄 바꿈(\\n) 문자 제거하기"
   ]
  },
  {
   "cell_type": "markdown",
   "id": "3822fdf2",
   "metadata": {},
   "source": [
    "### read 함수 사용\n",
    "* 문자열로 받는다"
   ]
  },
  {
   "cell_type": "code",
   "execution_count": 26,
   "id": "e2e89f52",
   "metadata": {
    "ExecuteTime": {
     "end_time": "2023-12-04T05:09:20.618278Z",
     "start_time": "2023-12-04T05:09:20.613028Z"
    }
   },
   "outputs": [
    {
     "name": "stdout",
     "output_type": "stream",
     "text": [
      "1번째 줄입니다.\n",
      "2번째 줄입니다.\n",
      "3번째 줄입니다.\n",
      "4번째 줄입니다.\n",
      "5번째 줄입니다.\n",
      "6번째 줄입니다.\n",
      "7번째 줄입니다.\n",
      "8번째 줄입니다.\n",
      "9번째 줄입니다.\n",
      "10번째 줄입니다.\n",
      "\n"
     ]
    }
   ],
   "source": [
    "f = open(\"C:\\workspace\\python\\wassup/새파일.text\", 'r')\n",
    "data = f.read()\n",
    "print(data)\n",
    "f.close()"
   ]
  },
  {
   "cell_type": "markdown",
   "id": "9c225682",
   "metadata": {},
   "source": [
    "#### 파일 객체를 for 문과 함께 사용하기"
   ]
  },
  {
   "cell_type": "markdown",
   "id": "3b2d7b5a",
   "metadata": {},
   "source": [
    "### 파일에 새로운 내용 추가하기\n",
    "* w = 덮어쓰기\n",
    "* a = 추가하기"
   ]
  },
  {
   "cell_type": "code",
   "execution_count": 27,
   "id": "1f2762dc",
   "metadata": {
    "ExecuteTime": {
     "end_time": "2023-12-04T05:12:19.603214Z",
     "start_time": "2023-12-04T05:12:19.597649Z"
    }
   },
   "outputs": [],
   "source": [
    "f = open(\"C:\\workspace\\python\\wassup/새파일.text\", 'a')\n",
    "for i in range(11, 20):\n",
    "    data = \"%d번째 줄입니다.\\n\" % i\n",
    "    f.write(data)\n",
    "f.close()"
   ]
  },
  {
   "cell_type": "code",
   "execution_count": 28,
   "id": "4e313e14",
   "metadata": {
    "ExecuteTime": {
     "end_time": "2023-12-04T05:15:11.675945Z",
     "start_time": "2023-12-04T05:15:11.670117Z"
    }
   },
   "outputs": [
    {
     "name": "stdout",
     "output_type": "stream",
     "text": [
      "1번째 줄입니다.\n",
      "2번째 줄입니다.\n",
      "3번째 줄입니다.\n",
      "4번째 줄입니다.\n",
      "5번째 줄입니다.\n",
      "6번째 줄입니다.\n",
      "7번째 줄입니다.\n",
      "8번째 줄입니다.\n",
      "9번째 줄입니다.\n",
      "10번째 줄입니다.\n",
      "11번째 줄입니다.\n",
      "12번째 줄입니다.\n",
      "13번째 줄입니다.\n",
      "14번째 줄입니다.\n",
      "15번째 줄입니다.\n",
      "16번째 줄입니다.\n",
      "17번째 줄입니다.\n",
      "18번째 줄입니다.\n",
      "19번째 줄입니다.\n",
      "\n"
     ]
    }
   ],
   "source": [
    "f = open(\"C:\\workspace\\python\\wassup/새파일.text\", 'r')\n",
    "data = f.read()\n",
    "print(data)\n",
    "f.close()"
   ]
  },
  {
   "cell_type": "markdown",
   "id": "8f242820",
   "metadata": {},
   "source": [
    "### with 문과 함께 사용하기"
   ]
  },
  {
   "cell_type": "code",
   "execution_count": 29,
   "id": "3fc17f06",
   "metadata": {
    "ExecuteTime": {
     "end_time": "2023-12-04T05:16:01.086469Z",
     "start_time": "2023-12-04T05:16:01.082053Z"
    }
   },
   "outputs": [],
   "source": [
    "with open(\"foo.text\", 'w') as f :\n",
    "    f.write(\"Life is too short, you need python\")"
   ]
  },
  {
   "cell_type": "code",
   "execution_count": null,
   "id": "a8d875e1",
   "metadata": {},
   "outputs": [],
   "source": []
  },
  {
   "cell_type": "code",
   "execution_count": null,
   "id": "0528e8da",
   "metadata": {},
   "outputs": [],
   "source": []
  }
 ],
 "metadata": {
  "kernelspec": {
   "display_name": "Python 3 (ipykernel)",
   "language": "python",
   "name": "python3"
  },
  "language_info": {
   "codemirror_mode": {
    "name": "ipython",
    "version": 3
   },
   "file_extension": ".py",
   "mimetype": "text/x-python",
   "name": "python",
   "nbconvert_exporter": "python",
   "pygments_lexer": "ipython3",
   "version": "3.11.5"
  },
  "toc": {
   "base_numbering": 1,
   "nav_menu": {},
   "number_sections": true,
   "sideBar": true,
   "skip_h1_title": false,
   "title_cell": "Table of Contents",
   "title_sidebar": "Contents",
   "toc_cell": false,
   "toc_position": {},
   "toc_section_display": true,
   "toc_window_display": false
  }
 },
 "nbformat": 4,
 "nbformat_minor": 5
}
