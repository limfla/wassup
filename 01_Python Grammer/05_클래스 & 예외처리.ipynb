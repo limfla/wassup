{
 "cells": [
  {
   "cell_type": "markdown",
   "id": "afe05506",
   "metadata": {
    "ExecuteTime": {
     "end_time": "2023-12-04T07:49:10.875690Z",
     "start_time": "2023-12-04T07:49:10.859352Z"
    }
   },
   "source": [
    "### 클래스\n",
    "\n",
    "* 클래스는 지금까지 공부한 함수나 자료형처럼 프로그램 작성을 위해 꼭 필요한 요소는 아님\n",
    "* 그러나 재사용에 용이함\n",
    "* 클래스명 첫번째 문자는 항상 대문자로!"
   ]
  },
  {
   "cell_type": "code",
   "execution_count": 63,
   "id": "b4b65aba",
   "metadata": {
    "ExecuteTime": {
     "end_time": "2023-12-04T07:50:20.944395Z",
     "start_time": "2023-12-04T07:50:20.934848Z"
    }
   },
   "outputs": [
    {
     "name": "stdout",
     "output_type": "stream",
     "text": [
      "3\n",
      "7\n"
     ]
    }
   ],
   "source": [
    "# 계산기 프로그램 만들며 클래스 알아보기\n",
    "# 계산기는 이전에 계산한 결괏값을 항상 메모리 어딘가에 저장하고 있어야 함\n",
    "\n",
    "result = 0\n",
    "\n",
    "def add(num):\n",
    "    global result # 이전 계산 내역이 남아있어야 하기에 global\n",
    "    result += num # 결괏값(result)에 입력값(num) 더하기\n",
    "    return result # 결괏값 리턴\n",
    "\n",
    "print(add(3))\n",
    "print(add(4))"
   ]
  },
  {
   "cell_type": "code",
   "execution_count": 64,
   "id": "a6e74fad",
   "metadata": {
    "ExecuteTime": {
     "end_time": "2023-12-04T07:53:26.207935Z",
     "start_time": "2023-12-04T07:53:26.191065Z"
    }
   },
   "outputs": [
    {
     "name": "stdout",
     "output_type": "stream",
     "text": [
      "3\n",
      "7\n",
      "3\n",
      "10\n"
     ]
    }
   ],
   "source": [
    "# 계산기 2대가 필요한 경우 - 계산기가 더 많이 필요해지면? 번거롭다! = 클래스 사용 이유\n",
    "\n",
    "result1 = 0\n",
    "result2 = 0\n",
    "\n",
    "def add1(num): #계산기1\n",
    "    global result1\n",
    "    result1 += num\n",
    "    return result1\n",
    "\n",
    "def add2(num): #계산기2\n",
    "    global result2\n",
    "    result2 += num\n",
    "    return result2\n",
    "\n",
    "print(add1(3))\n",
    "print(add1(4))\n",
    "print(add2(3))\n",
    "print(add2(7))"
   ]
  },
  {
   "cell_type": "code",
   "execution_count": 65,
   "id": "e702d681",
   "metadata": {
    "ExecuteTime": {
     "end_time": "2023-12-04T07:54:50.403224Z",
     "start_time": "2023-12-04T07:54:50.388924Z"
    }
   },
   "outputs": [
    {
     "name": "stdout",
     "output_type": "stream",
     "text": [
      "3\n",
      "7\n",
      "3\n",
      "10\n"
     ]
    }
   ],
   "source": [
    "class Caculator:\n",
    "    def __init__(self):\n",
    "        self.result = 0\n",
    "        \n",
    "    def add(self, num):\n",
    "        self.result += num\n",
    "        return self.result\n",
    "\n",
    "# 클래스로 만든 별개의 계산기 cal1, cal2 (객체)\n",
    "cal1 = Caculator()\n",
    "cal2 = Caculator()\n",
    "\n",
    "print(cal1.add(3))\n",
    "print(cal1.add(4))\n",
    "print(cal2.add(3))\n",
    "print(cal2.add(7))"
   ]
  },
  {
   "cell_type": "code",
   "execution_count": null,
   "id": "8892ebb7",
   "metadata": {},
   "outputs": [],
   "source": [
    "# 빼기 기능을 더하고 싶다면? 빼기 기능 가진 함수 추가\n",
    "\n",
    "class Caculator:\n",
    "    def __init__(self):\n",
    "        self.result = 0\n",
    "        \n",
    "    def add(self, num):\n",
    "        self.result += num\n",
    "        return self.result\n",
    "    \n",
    "    def sub(self, num):\n",
    "        self.result -=num\n",
    "        return self.result"
   ]
  },
  {
   "cell_type": "code",
   "execution_count": 12,
   "id": "eb7afd91",
   "metadata": {
    "ExecuteTime": {
     "end_time": "2023-12-04T06:11:58.149464Z",
     "start_time": "2023-12-04T06:11:58.145998Z"
    }
   },
   "outputs": [],
   "source": [
    "class Cookie: #클래스명 첫번째는 항상 대문자 (변수와 구분짓기)\n",
    "    pass"
   ]
  },
  {
   "cell_type": "code",
   "execution_count": 13,
   "id": "656e99ce",
   "metadata": {
    "ExecuteTime": {
     "end_time": "2023-12-04T06:12:01.519755Z",
     "start_time": "2023-12-04T06:12:01.515924Z"
    }
   },
   "outputs": [],
   "source": [
    "a = Cookie()\n",
    "a = Cookie()"
   ]
  },
  {
   "cell_type": "markdown",
   "id": "a9c2d8ad",
   "metadata": {},
   "source": [
    "### 사칙 연산 클래스 만들기"
   ]
  },
  {
   "cell_type": "markdown",
   "id": "2d89b84b",
   "metadata": {},
   "source": [
    "#### 클래스를 어떻게 만들지 먼저 구상하기\n",
    "* 클래스는 무작정 만드는 것보다 클래스로 만든 객체를 중심으로 어떤 식으로 동작하게 할지 미리 구상한 후 생각한 것을 하나씩 만들면서 완성해 나가는 것이 좋다\n",
    "1. 사칙연산 = 두 숫자 입력 받기 (i/o설계) = setdata 매서드\n",
    "2. 더하기 기능 = add 매서드\n",
    "3. 곱하기 기능 = mul 매서드\n",
    "4. 빼기 기능 = sub 매서드\n",
    "5. 나누기 기능 = div 매서드"
   ]
  },
  {
   "cell_type": "markdown",
   "id": "474b574a",
   "metadata": {},
   "source": [
    "#### 클래스 구조 만들기"
   ]
  },
  {
   "cell_type": "code",
   "execution_count": 67,
   "id": "f5293f63",
   "metadata": {
    "ExecuteTime": {
     "end_time": "2023-12-04T08:04:07.707832Z",
     "start_time": "2023-12-04T08:04:07.702356Z"
    }
   },
   "outputs": [],
   "source": [
    "class FourCal:\n",
    "    pass\n",
    "\n",
    "# pass 아무것도 수행하지 않는 문법(임시로 코드 작성 시 주로 사용)"
   ]
  },
  {
   "cell_type": "code",
   "execution_count": 69,
   "id": "656db584",
   "metadata": {
    "ExecuteTime": {
     "end_time": "2023-12-04T08:04:58.372460Z",
     "start_time": "2023-12-04T08:04:58.367300Z"
    },
    "scrolled": true
   },
   "outputs": [
    {
     "data": {
      "text/plain": [
       "__main__.FourCal"
      ]
     },
     "execution_count": 69,
     "metadata": {},
     "output_type": "execute_result"
    }
   ],
   "source": [
    "a = FourCal() #객체 만들기\n",
    "type(a) #타입 알아보기 > FourCal 클래스의 인스턴스임을 확인"
   ]
  },
  {
   "cell_type": "markdown",
   "id": "bcbc8682",
   "metadata": {},
   "source": [
    "#### 객체에 연산할 숫자 지정하기"
   ]
  },
  {
   "cell_type": "code",
   "execution_count": 72,
   "id": "91a4bfed",
   "metadata": {
    "ExecuteTime": {
     "end_time": "2023-12-04T08:07:41.344081Z",
     "start_time": "2023-12-04T08:07:41.339696Z"
    }
   },
   "outputs": [],
   "source": [
    "# 연산 수행 대상을 객체에 지정할 수 있게 - setdata\n",
    "# 클래스 안에 구현된 함수 = 매서드\n",
    "class FourCal:\n",
    "    def setdata(self, first, second): #self는 매서드 호출 객체 자리\n",
    "        self.first = first #매서드 수행문\n",
    "        self.second = second #매서드 수행문"
   ]
  },
  {
   "cell_type": "markdown",
   "id": "00c4f75e",
   "metadata": {},
   "source": [
    "#### setdata 메서드의 매개변수\n",
    "* 변수 self에는 setdata 매서드를 호출한 객체가 자동으로 전달됨"
   ]
  },
  {
   "cell_type": "code",
   "execution_count": 19,
   "id": "850dcc33",
   "metadata": {
    "ExecuteTime": {
     "end_time": "2023-12-04T06:19:45.830941Z",
     "start_time": "2023-12-04T06:19:45.827408Z"
    }
   },
   "outputs": [],
   "source": [
    "a = FourCal()\n",
    "a.setdata(4, 2)"
   ]
  },
  {
   "cell_type": "markdown",
   "id": "f2a252de",
   "metadata": {},
   "source": [
    "#### 메서드를 호출하는 또 다른 방법\n"
   ]
  },
  {
   "cell_type": "code",
   "execution_count": 73,
   "id": "c4b08ce2",
   "metadata": {
    "ExecuteTime": {
     "end_time": "2023-12-04T08:09:17.733150Z",
     "start_time": "2023-12-04T08:09:17.718410Z"
    }
   },
   "outputs": [],
   "source": [
    "# 클래스 이용해 매서드 호출 - 호출한 객체를 반드시 매개변수에 포함\n",
    "\n",
    "a = FourCal()\n",
    "FourCal.setdata(a, 4, 2)"
   ]
  },
  {
   "cell_type": "code",
   "execution_count": 74,
   "id": "7a83809f",
   "metadata": {
    "ExecuteTime": {
     "end_time": "2023-12-04T08:10:12.373445Z",
     "start_time": "2023-12-04T08:10:12.369384Z"
    }
   },
   "outputs": [],
   "source": [
    "# 객체.매서드 이용해 호출 시에는 self 반드시 생략\n",
    "\n",
    "a = FourCal()\n",
    "a.setdata(4, 2)"
   ]
  },
  {
   "cell_type": "markdown",
   "id": "57dd44aa",
   "metadata": {},
   "source": [
    "#### setdata 메서드의 수행문"
   ]
  },
  {
   "cell_type": "code",
   "execution_count": 76,
   "id": "e3d3b6d5",
   "metadata": {
    "ExecuteTime": {
     "end_time": "2023-12-04T08:11:59.004421Z",
     "start_time": "2023-12-04T08:11:58.999146Z"
    }
   },
   "outputs": [],
   "source": [
    "class FourCal:\n",
    "    def setdata(self, first, second): \n",
    "        self.first = first \n",
    "        self.second = second "
   ]
  },
  {
   "cell_type": "code",
   "execution_count": 81,
   "id": "53e1f821",
   "metadata": {
    "ExecuteTime": {
     "end_time": "2023-12-04T08:13:25.485077Z",
     "start_time": "2023-12-04T08:13:25.478888Z"
    }
   },
   "outputs": [
    {
     "name": "stdout",
     "output_type": "stream",
     "text": [
      "4\n"
     ]
    },
    {
     "data": {
      "text/plain": [
       "2"
      ]
     },
     "execution_count": 81,
     "metadata": {},
     "output_type": "execute_result"
    }
   ],
   "source": [
    "a = FourCal()\n",
    "a.setdata(4, 2)\n",
    "print(a.first)\n",
    "a.second"
   ]
  },
  {
   "cell_type": "code",
   "execution_count": 88,
   "id": "64e3aaa6",
   "metadata": {
    "ExecuteTime": {
     "end_time": "2023-12-04T08:15:51.569729Z",
     "start_time": "2023-12-04T08:15:51.553094Z"
    }
   },
   "outputs": [
    {
     "name": "stdout",
     "output_type": "stream",
     "text": [
      "4\n",
      "3\n"
     ]
    }
   ],
   "source": [
    "# 복수의 객체 만들기 - 클래스로 만든 객체의 객체변수는 독립적인 값 유지\n",
    "\n",
    "a = FourCal()\n",
    "b = FourCal()\n",
    "\n",
    "a.setdata(4,2)\n",
    "print(a.first)\n",
    "\n",
    "b.setdata(3,7)\n",
    "print(b.first)\n"
   ]
  },
  {
   "cell_type": "markdown",
   "id": "44d2f6d7",
   "metadata": {
    "ExecuteTime": {
     "end_time": "2023-12-04T06:25:38.993386Z",
     "start_time": "2023-12-04T06:25:38.973845Z"
    }
   },
   "source": [
    "### 더하기 기능 만들기"
   ]
  },
  {
   "cell_type": "code",
   "execution_count": 95,
   "id": "1bd84992",
   "metadata": {
    "ExecuteTime": {
     "end_time": "2023-12-04T08:17:59.650251Z",
     "start_time": "2023-12-04T08:17:59.645658Z"
    }
   },
   "outputs": [],
   "source": [
    "class FourCal:\n",
    "    def setdata(self, first, second):\n",
    "        self.first = first\n",
    "        self.second = second\n",
    "    def add(self):\n",
    "        result = self.first + self.second\n",
    "        return result"
   ]
  },
  {
   "cell_type": "code",
   "execution_count": 97,
   "id": "621f3abf",
   "metadata": {
    "ExecuteTime": {
     "end_time": "2023-12-04T08:18:15.205222Z",
     "start_time": "2023-12-04T08:18:15.199267Z"
    }
   },
   "outputs": [
    {
     "data": {
      "text/plain": [
       "6"
      ]
     },
     "execution_count": 97,
     "metadata": {},
     "output_type": "execute_result"
    }
   ],
   "source": [
    "# a객체의 first,second 객체변수에 각각 4, 2 저장\n",
    "a = FourCal()\n",
    "a.setdata(4, 2)\n",
    "\n",
    "a.add() # add 매서드 호출"
   ]
  },
  {
   "cell_type": "markdown",
   "id": "f105ccb0",
   "metadata": {},
   "source": [
    "### 곱하기, 빼기, 나누기 기능 만들기"
   ]
  },
  {
   "cell_type": "code",
   "execution_count": 99,
   "id": "98ea046a",
   "metadata": {
    "ExecuteTime": {
     "end_time": "2023-12-04T08:19:08.195567Z",
     "start_time": "2023-12-04T08:19:08.189608Z"
    }
   },
   "outputs": [],
   "source": [
    "class FourCal:\n",
    "    def setdata(self, first, second):\n",
    "        self.first = first\n",
    "        self.second = second\n",
    "    def add(self):\n",
    "        result = self.first + self.second\n",
    "        return result\n",
    "    def mul(self):\n",
    "        result = self.first * self.second\n",
    "        return result\n",
    "    def sub(self):\n",
    "        result = self.first - self.second\n",
    "        return result \n",
    "    def div(self):\n",
    "        result = self.first / self.second\n",
    "        return result"
   ]
  },
  {
   "cell_type": "code",
   "execution_count": 100,
   "id": "66786f2a",
   "metadata": {
    "ExecuteTime": {
     "end_time": "2023-12-04T08:19:09.862758Z",
     "start_time": "2023-12-04T08:19:09.859181Z"
    }
   },
   "outputs": [],
   "source": [
    "a = FourCal()\n",
    "b = FourCal()\n",
    "a.setdata(4, 2)\n",
    "b.setdata(3, 8)"
   ]
  },
  {
   "cell_type": "code",
   "execution_count": 48,
   "id": "d50a43b3",
   "metadata": {
    "ExecuteTime": {
     "end_time": "2023-12-04T06:37:26.408400Z",
     "start_time": "2023-12-04T06:37:26.403355Z"
    },
    "scrolled": true
   },
   "outputs": [
    {
     "name": "stdout",
     "output_type": "stream",
     "text": [
      "6\n",
      "8\n",
      "2\n",
      "2.0\n"
     ]
    }
   ],
   "source": [
    "print(a.add())\n",
    "print(a.mul())\n",
    "print(a.sub())\n",
    "print(a.div())"
   ]
  },
  {
   "cell_type": "code",
   "execution_count": 101,
   "id": "1575a275",
   "metadata": {
    "ExecuteTime": {
     "end_time": "2023-12-04T08:19:12.312789Z",
     "start_time": "2023-12-04T08:19:12.307787Z"
    }
   },
   "outputs": [
    {
     "name": "stdout",
     "output_type": "stream",
     "text": [
      "11\n",
      "24\n",
      "-5\n",
      "0.375\n"
     ]
    }
   ],
   "source": [
    "print(b.add())\n",
    "print(b.mul())\n",
    "print(b.sub())\n",
    "print(b.div())"
   ]
  },
  {
   "cell_type": "markdown",
   "id": "001dd479",
   "metadata": {},
   "source": [
    "### 생성자\n",
    "\n",
    "* 객체에 first, second와 같은 초깃값을 설정해야 할 필요가 있을 때는 setdata와 같은 메서드를 호출하여 초깃값을 설정하기보다 생성자를 구현하는 것이 안전한 방법\n",
    "* 생성자(constructor)란 객체가 생성될 때 자동으로 호출되는 메서드\n",
    "* 파이썬 메서드명으로 __init__를 사용하면 이 메서드는 생성자가 됨\n",
    "* 첫 번째 매개변수 self에 생성되는 객체가 자동으로 전달된다"
   ]
  },
  {
   "cell_type": "code",
   "execution_count": 1,
   "id": "a054e82c",
   "metadata": {
    "ExecuteTime": {
     "end_time": "2023-12-05T04:17:29.963433Z",
     "start_time": "2023-12-05T04:17:29.956524Z"
    }
   },
   "outputs": [],
   "source": [
    "class FourCal:\n",
    "    def __init__(self, first, second): #생성자 추가\n",
    "        self.first = first\n",
    "        self.second = second\n",
    "    def add(self):\n",
    "        result = self.first + self.second\n",
    "        return result\n",
    "    def mul(self):\n",
    "        result = self.first * self.second\n",
    "        return result\n",
    "    def sub(self):\n",
    "        result = self.first - self.second\n",
    "        return result \n",
    "    def div(self):\n",
    "        result = self.first / self.second\n",
    "        return result "
   ]
  },
  {
   "cell_type": "code",
   "execution_count": 105,
   "id": "ced8496a",
   "metadata": {
    "ExecuteTime": {
     "end_time": "2023-12-04T08:23:13.749340Z",
     "start_time": "2023-12-04T08:23:13.729366Z"
    }
   },
   "outputs": [
    {
     "ename": "TypeError",
     "evalue": "FourCal.__init__() missing 2 required positional arguments: 'first' and 'second'",
     "output_type": "error",
     "traceback": [
      "\u001b[1;31m---------------------------------------------------------------------------\u001b[0m",
      "\u001b[1;31mTypeError\u001b[0m                                 Traceback (most recent call last)",
      "Cell \u001b[1;32mIn[105], line 1\u001b[0m\n\u001b[1;32m----> 1\u001b[0m a \u001b[38;5;241m=\u001b[39m FourCal()\n",
      "\u001b[1;31mTypeError\u001b[0m: FourCal.__init__() missing 2 required positional arguments: 'first' and 'second'"
     ]
    }
   ],
   "source": [
    "a = FourCal()\n",
    "\n",
    "# 오류 원인: 생성자의 매개변수 first, second 값이 전달되지 않아서"
   ]
  },
  {
   "cell_type": "code",
   "execution_count": 2,
   "id": "c36fee40",
   "metadata": {
    "ExecuteTime": {
     "end_time": "2023-12-05T04:17:35.933845Z",
     "start_time": "2023-12-05T04:17:35.929478Z"
    }
   },
   "outputs": [
    {
     "name": "stdout",
     "output_type": "stream",
     "text": [
      "4 2\n"
     ]
    }
   ],
   "source": [
    "a = FourCal(4,2)\n",
    "print(a.first, a.second)"
   ]
  },
  {
   "cell_type": "code",
   "execution_count": 59,
   "id": "936a5262",
   "metadata": {
    "ExecuteTime": {
     "end_time": "2023-12-04T06:44:19.889521Z",
     "start_time": "2023-12-04T06:44:19.885365Z"
    }
   },
   "outputs": [
    {
     "name": "stdout",
     "output_type": "stream",
     "text": [
      "6 2.0\n"
     ]
    }
   ],
   "source": [
    "a = FourCal(4,2)\n",
    "print(a.add(), a.div())"
   ]
  },
  {
   "cell_type": "code",
   "execution_count": 107,
   "id": "61c97189",
   "metadata": {
    "ExecuteTime": {
     "end_time": "2023-12-04T10:53:30.279141Z",
     "start_time": "2023-12-04T10:53:30.269156Z"
    }
   },
   "outputs": [],
   "source": [
    "# setdata 임의로 정의하는 함수 vs init 생성자(자동 호출)\n",
    "\n",
    "\n",
    "class Bbread:\n",
    "    def __init__(self, ingredient):\n",
    "        self.ingredient = ingredient\n",
    "        print(\"붕어빵 재료는\", self.ingredient)"
   ]
  },
  {
   "cell_type": "code",
   "execution_count": 110,
   "id": "4344caee",
   "metadata": {
    "ExecuteTime": {
     "end_time": "2023-12-04T10:59:30.223520Z",
     "start_time": "2023-12-04T10:59:30.216629Z"
    }
   },
   "outputs": [
    {
     "name": "stdout",
     "output_type": "stream",
     "text": [
      "붕어빵 재료는 팥\n"
     ]
    }
   ],
   "source": [
    "팥붕 = Bbread(\"팥\")"
   ]
  },
  {
   "cell_type": "code",
   "execution_count": 111,
   "id": "f8c1c541",
   "metadata": {
    "ExecuteTime": {
     "end_time": "2023-12-04T11:00:30.322794Z",
     "start_time": "2023-12-04T11:00:30.316630Z"
    }
   },
   "outputs": [],
   "source": [
    "class Bbread:\n",
    "    def setdata(self, ingredient):\n",
    "        self.ingredient = ingredient\n",
    "        print(\"붕어빵 재료는\", self.ingredient)"
   ]
  },
  {
   "cell_type": "markdown",
   "id": "229e2f33",
   "metadata": {
    "ExecuteTime": {
     "end_time": "2023-12-04T06:46:26.549065Z",
     "start_time": "2023-12-04T06:46:26.542044Z"
    }
   },
   "source": [
    "#### 예제) 은행 예금출금 클래스를 만들어보자\n",
    "1. input : 계좌번호, 계좌소유자명, 잔액\n",
    "2. 기능1 : 입금\n",
    "3. 기능2 : 출금\n",
    "4. 기능3 : 조회"
   ]
  },
  {
   "cell_type": "code",
   "execution_count": null,
   "id": "8cebbcb8",
   "metadata": {},
   "outputs": [],
   "source": [
    "class Account:\n",
    "    compnay = '한국은행' #클래스 변수\n",
    "    \n",
    "    def __init__(self, num, name):\n",
    "        self.num = num\n",
    "        self.name = name\n",
    "        self.balance = 0 #balance = 현재잔액\n",
    "\n",
    "    def add(self):\n",
    "        result = self.first + self.second\n",
    "        return result\n",
    "    def mul(self):\n",
    "        result = self.first * self.second\n",
    "        return result\n",
    "    def sub(self):\n",
    "        result = self.first - self.second\n",
    "        return result \n",
    "    def div(self):\n",
    "        result = self.first / self.second\n",
    "        return result "
   ]
  },
  {
   "cell_type": "markdown",
   "id": "662b2b42",
   "metadata": {},
   "source": [
    "### 클래스의 상속\n",
    "* 상속 = 물려받다 = 다른 클래스의 기능을 물려받음\n",
    "* 보통 상속은 기존 클래스를 변경하지 않고 기능을 추가하거나 기존 기능을 변경하려고 할 때 사용"
   ]
  },
  {
   "cell_type": "code",
   "execution_count": 3,
   "id": "87f70959",
   "metadata": {
    "ExecuteTime": {
     "end_time": "2023-12-05T04:17:49.326668Z",
     "start_time": "2023-12-05T04:17:49.322247Z"
    }
   },
   "outputs": [],
   "source": [
    "class MoreFourCal(FourCal):\n",
    "    pass"
   ]
  },
  {
   "cell_type": "code",
   "execution_count": 4,
   "id": "31c90592",
   "metadata": {
    "ExecuteTime": {
     "end_time": "2023-12-05T04:18:52.584608Z",
     "start_time": "2023-12-05T04:18:52.579345Z"
    }
   },
   "outputs": [
    {
     "name": "stdout",
     "output_type": "stream",
     "text": [
      "6 8 2 2.0\n"
     ]
    }
   ],
   "source": [
    "a = MoreFourCal(4,2)\n",
    "print(a.add(), a.mul(), a.sub(), a.div())"
   ]
  },
  {
   "cell_type": "code",
   "execution_count": 6,
   "id": "7a864f8a",
   "metadata": {
    "ExecuteTime": {
     "end_time": "2023-12-05T04:20:38.767988Z",
     "start_time": "2023-12-05T04:20:38.763015Z"
    }
   },
   "outputs": [],
   "source": [
    "# a의 b승을 계산하는 클래스 만들기\n",
    "\n",
    "class MoreFourCal(FourCal):\n",
    "    def pow(self):\n",
    "        result = self.first ** self.second\n",
    "        return result"
   ]
  },
  {
   "cell_type": "code",
   "execution_count": 7,
   "id": "03756814",
   "metadata": {
    "ExecuteTime": {
     "end_time": "2023-12-05T04:23:52.388388Z",
     "start_time": "2023-12-05T04:23:52.383810Z"
    }
   },
   "outputs": [
    {
     "name": "stdout",
     "output_type": "stream",
     "text": [
      "16 6\n"
     ]
    }
   ],
   "source": [
    "a = MoreFourCal(4,2)\n",
    "print(a.pow(), a.add())"
   ]
  },
  {
   "cell_type": "markdown",
   "id": "3bab7f21",
   "metadata": {},
   "source": [
    "### 매서드 오버라이딩\n",
    "* 덮어쓰기"
   ]
  },
  {
   "cell_type": "code",
   "execution_count": 8,
   "id": "28acdd9c",
   "metadata": {
    "ExecuteTime": {
     "end_time": "2023-12-05T04:24:52.092425Z",
     "start_time": "2023-12-05T04:24:50.880534Z"
    }
   },
   "outputs": [
    {
     "ename": "ZeroDivisionError",
     "evalue": "division by zero",
     "output_type": "error",
     "traceback": [
      "\u001b[1;31m---------------------------------------------------------------------------\u001b[0m",
      "\u001b[1;31mZeroDivisionError\u001b[0m                         Traceback (most recent call last)",
      "Cell \u001b[1;32mIn[8], line 2\u001b[0m\n\u001b[0;32m      1\u001b[0m a \u001b[38;5;241m=\u001b[39m FourCal(\u001b[38;5;241m4\u001b[39m, \u001b[38;5;241m0\u001b[39m)\n\u001b[1;32m----> 2\u001b[0m a\u001b[38;5;241m.\u001b[39mdiv()\n",
      "Cell \u001b[1;32mIn[1], line 15\u001b[0m, in \u001b[0;36mFourCal.div\u001b[1;34m(self)\u001b[0m\n\u001b[0;32m     14\u001b[0m \u001b[38;5;28;01mdef\u001b[39;00m \u001b[38;5;21mdiv\u001b[39m(\u001b[38;5;28mself\u001b[39m):\n\u001b[1;32m---> 15\u001b[0m     result \u001b[38;5;241m=\u001b[39m \u001b[38;5;28mself\u001b[39m\u001b[38;5;241m.\u001b[39mfirst \u001b[38;5;241m/\u001b[39m \u001b[38;5;28mself\u001b[39m\u001b[38;5;241m.\u001b[39msecond\n\u001b[0;32m     16\u001b[0m     \u001b[38;5;28;01mreturn\u001b[39;00m result\n",
      "\u001b[1;31mZeroDivisionError\u001b[0m: division by zero"
     ]
    }
   ],
   "source": [
    "a = FourCal(4, 0)\n",
    "a.div()\n",
    "\n",
    "# 0을 나눌 수 없어 오류 발생"
   ]
  },
  {
   "cell_type": "code",
   "execution_count": 9,
   "id": "1e39971f",
   "metadata": {
    "ExecuteTime": {
     "end_time": "2023-12-05T04:26:53.483971Z",
     "start_time": "2023-12-05T04:26:53.477655Z"
    }
   },
   "outputs": [],
   "source": [
    "# 오류가 아닌 0을 리턴받고 싶다면? 상속!\n",
    "\n",
    "class SafeFourCal(FourCal):\n",
    "    def div(self):\n",
    "        if self.second == 0:\n",
    "            return 0\n",
    "        else:\n",
    "            return self.first / self.second"
   ]
  },
  {
   "cell_type": "markdown",
   "id": "fb929e4a",
   "metadata": {
    "ExecuteTime": {
     "end_time": "2023-12-05T04:34:21.962488Z",
     "start_time": "2023-12-05T04:34:21.958184Z"
    }
   },
   "source": [
    "### 클래스 변수"
   ]
  },
  {
   "cell_type": "code",
   "execution_count": 12,
   "id": "a144f2f3",
   "metadata": {
    "ExecuteTime": {
     "end_time": "2023-12-05T04:35:05.640221Z",
     "start_time": "2023-12-05T04:35:05.635793Z"
    }
   },
   "outputs": [],
   "source": [
    "class Family:\n",
    "    lastname = '김' #클래스 안에서만 사용되는 지역변수"
   ]
  },
  {
   "cell_type": "code",
   "execution_count": 13,
   "id": "515d1476",
   "metadata": {
    "ExecuteTime": {
     "end_time": "2023-12-05T04:35:23.481926Z",
     "start_time": "2023-12-05T04:35:23.473817Z"
    }
   },
   "outputs": [
    {
     "data": {
      "text/plain": [
       "'김'"
      ]
     },
     "execution_count": 13,
     "metadata": {},
     "output_type": "execute_result"
    }
   ],
   "source": [
    "Family.lastname"
   ]
  },
  {
   "cell_type": "code",
   "execution_count": 18,
   "id": "538171d9",
   "metadata": {
    "ExecuteTime": {
     "end_time": "2023-12-05T04:36:12.873968Z",
     "start_time": "2023-12-05T04:36:12.868075Z"
    }
   },
   "outputs": [
    {
     "data": {
      "text/plain": [
       "'김'"
      ]
     },
     "execution_count": 18,
     "metadata": {},
     "output_type": "execute_result"
    }
   ],
   "source": [
    "# 인스턴스로 만들기\n",
    "\n",
    "a = Family()\n",
    "b = Family()\n",
    "\n",
    "a.lastname\n",
    "b.lastname"
   ]
  },
  {
   "cell_type": "code",
   "execution_count": 22,
   "id": "34bb3561",
   "metadata": {
    "ExecuteTime": {
     "end_time": "2023-12-05T04:37:36.322582Z",
     "start_time": "2023-12-05T04:37:36.315813Z"
    }
   },
   "outputs": [
    {
     "data": {
      "text/plain": [
       "'박'"
      ]
     },
     "execution_count": 22,
     "metadata": {},
     "output_type": "execute_result"
    }
   ],
   "source": [
    "Family.lastname = '박'\n",
    "a.lastname"
   ]
  },
  {
   "cell_type": "code",
   "execution_count": 23,
   "id": "dd82ad10",
   "metadata": {
    "ExecuteTime": {
     "end_time": "2023-12-05T04:37:38.997912Z",
     "start_time": "2023-12-05T04:37:38.993151Z"
    }
   },
   "outputs": [
    {
     "data": {
      "text/plain": [
       "'박'"
      ]
     },
     "execution_count": 23,
     "metadata": {},
     "output_type": "execute_result"
    }
   ],
   "source": [
    "b.lastname"
   ]
  },
  {
   "cell_type": "code",
   "execution_count": 24,
   "id": "c729efa2",
   "metadata": {
    "ExecuteTime": {
     "end_time": "2023-12-05T04:38:02.876073Z",
     "start_time": "2023-12-05T04:38:02.870143Z"
    }
   },
   "outputs": [
    {
     "data": {
      "text/plain": [
       "'최'"
      ]
     },
     "execution_count": 24,
     "metadata": {},
     "output_type": "execute_result"
    }
   ],
   "source": [
    "# 클래스 변수와 동일한 이름의 객체변수 생성\n",
    "\n",
    "a.lastname = '최'\n",
    "a.lastname"
   ]
  },
  {
   "cell_type": "code",
   "execution_count": 25,
   "id": "1675d8dd",
   "metadata": {
    "ExecuteTime": {
     "end_time": "2023-12-05T04:38:29.768413Z",
     "start_time": "2023-12-05T04:38:29.762896Z"
    }
   },
   "outputs": [
    {
     "data": {
      "text/plain": [
       "'박'"
      ]
     },
     "execution_count": 25,
     "metadata": {},
     "output_type": "execute_result"
    }
   ],
   "source": [
    "Family.lastnameb"
   ]
  },
  {
   "cell_type": "code",
   "execution_count": 26,
   "id": "ceffd898",
   "metadata": {
    "ExecuteTime": {
     "end_time": "2023-12-05T04:38:40.461725Z",
     "start_time": "2023-12-05T04:38:40.455827Z"
    }
   },
   "outputs": [
    {
     "data": {
      "text/plain": [
       "'박'"
      ]
     },
     "execution_count": 26,
     "metadata": {},
     "output_type": "execute_result"
    }
   ],
   "source": [
    "b.lastname"
   ]
  },
  {
   "cell_type": "markdown",
   "id": "b5b50f96",
   "metadata": {},
   "source": [
    "### 예외처리"
   ]
  },
  {
   "cell_type": "markdown",
   "id": "8f97fd01",
   "metadata": {},
   "source": [
    "#### 오류 예외 처리 기법"
   ]
  },
  {
   "cell_type": "markdown",
   "id": "e4308cdc",
   "metadata": {},
   "source": [
    "##### try-except"
   ]
  },
  {
   "cell_type": "code",
   "execution_count": 29,
   "id": "27b5b061",
   "metadata": {
    "ExecuteTime": {
     "end_time": "2023-12-05T04:50:14.433335Z",
     "start_time": "2023-12-05T04:50:14.428982Z"
    }
   },
   "outputs": [
    {
     "name": "stdout",
     "output_type": "stream",
     "text": [
      "오류발생\n"
     ]
    }
   ],
   "source": [
    "# try-except만 사용 > 내부에서만 사용 가능\n",
    "\n",
    "try:\n",
    "    4 / 0\n",
    "except:\n",
    "    print('오류발생')"
   ]
  },
  {
   "cell_type": "code",
   "execution_count": 28,
   "id": "acb023bd",
   "metadata": {
    "ExecuteTime": {
     "end_time": "2023-12-05T04:49:15.335979Z",
     "start_time": "2023-12-05T04:49:15.331372Z"
    }
   },
   "outputs": [
    {
     "name": "stdout",
     "output_type": "stream",
     "text": [
      "division by zero\n"
     ]
    }
   ],
   "source": [
    "# 발생오류 포함한 except문 > 사용자에게 활용 가능\n",
    "try:\n",
    "    4 / 0\n",
    "except ZeroDivisionError as e:\n",
    "    print(e)"
   ]
  },
  {
   "cell_type": "markdown",
   "id": "c58a115d",
   "metadata": {},
   "source": [
    "#### try-finally 문"
   ]
  },
  {
   "cell_type": "markdown",
   "id": "25523970",
   "metadata": {},
   "source": [
    "#### 여러 개의 오류 처리하기"
   ]
  },
  {
   "cell_type": "code",
   "execution_count": 30,
   "id": "25afb521",
   "metadata": {
    "ExecuteTime": {
     "end_time": "2023-12-05T05:05:11.928808Z",
     "start_time": "2023-12-05T05:05:11.903890Z"
    }
   },
   "outputs": [
    {
     "name": "stdout",
     "output_type": "stream",
     "text": [
      "인덱싱 할 수 없습니다.\n"
     ]
    }
   ],
   "source": [
    "try:\n",
    "    a = [1,2]\n",
    "    print(a[3])\n",
    "    4/0\n",
    "except ZeroDivisionError:\n",
    "    print(\"0으로 나눌 수 없습니다.\")\n",
    "except IndexError:\n",
    "    print(\"인덱싱 할 수 없습니다.\")\n",
    "\n",
    "# 왜 인덱싱 에러만 떴나? 인덱싱이 먼저 실행되서"
   ]
  },
  {
   "cell_type": "code",
   "execution_count": 31,
   "id": "63541fa2",
   "metadata": {
    "ExecuteTime": {
     "end_time": "2023-12-05T05:06:20.909009Z",
     "start_time": "2023-12-05T05:06:20.904026Z"
    }
   },
   "outputs": [
    {
     "name": "stdout",
     "output_type": "stream",
     "text": [
      "list index out of range\n"
     ]
    }
   ],
   "source": [
    "try:\n",
    "    a = [1,2]\n",
    "    print(a[3])\n",
    "    4/0\n",
    "except (ZeroDivisionError, IndexError) as e:\n",
    "    print(e)"
   ]
  },
  {
   "cell_type": "markdown",
   "id": "77accc0a",
   "metadata": {},
   "source": [
    "#### try else 문\n",
    "* 오류가 발생하지 않았을 때"
   ]
  },
  {
   "cell_type": "code",
   "execution_count": 32,
   "id": "d3cb4b00",
   "metadata": {
    "ExecuteTime": {
     "end_time": "2023-12-05T05:07:45.141795Z",
     "start_time": "2023-12-05T05:07:40.207704Z"
    }
   },
   "outputs": [
    {
     "name": "stdout",
     "output_type": "stream",
     "text": [
      "나이를 입력하세요: ㄴ\n",
      "입력이 정확하지 않습니다.\n"
     ]
    }
   ],
   "source": [
    "try:\n",
    "    age=int(input('나이를 입력하세요: '))\n",
    "except:\n",
    "    print('입력이 정확하지 않습니다.')\n",
    "else:\n",
    "    if age <= 18:\n",
    "        print('미성년자는 출입금지입니다.')\n",
    "    else:\n",
    "        print('환영합니다.')"
   ]
  },
  {
   "cell_type": "markdown",
   "id": "74ffdc88",
   "metadata": {
    "ExecuteTime": {
     "end_time": "2023-12-05T05:09:29.104328Z",
     "start_time": "2023-12-05T05:09:29.100874Z"
    }
   },
   "source": [
    "#### 오류 회피하기"
   ]
  },
  {
   "cell_type": "code",
   "execution_count": 36,
   "id": "213adcc9",
   "metadata": {
    "ExecuteTime": {
     "end_time": "2023-12-05T05:09:36.673597Z",
     "start_time": "2023-12-05T05:09:36.657683Z"
    }
   },
   "outputs": [],
   "source": [
    "try:\n",
    "    f = open(\"나없는파일\", 'r')\n",
    "except FileNotFoundError:\n",
    "    pass"
   ]
  },
  {
   "cell_type": "code",
   "execution_count": null,
   "id": "f211d0dc",
   "metadata": {},
   "outputs": [],
   "source": []
  },
  {
   "cell_type": "code",
   "execution_count": null,
   "id": "797587e5",
   "metadata": {},
   "outputs": [],
   "source": []
  },
  {
   "cell_type": "code",
   "execution_count": null,
   "id": "9246aab9",
   "metadata": {},
   "outputs": [],
   "source": []
  },
  {
   "cell_type": "code",
   "execution_count": null,
   "id": "e58936b2",
   "metadata": {},
   "outputs": [],
   "source": []
  },
  {
   "cell_type": "code",
   "execution_count": null,
   "id": "959c252c",
   "metadata": {},
   "outputs": [],
   "source": []
  },
  {
   "cell_type": "code",
   "execution_count": null,
   "id": "a2ad782f",
   "metadata": {},
   "outputs": [],
   "source": []
  }
 ],
 "metadata": {
  "kernelspec": {
   "display_name": "Python 3 (ipykernel)",
   "language": "python",
   "name": "python3"
  },
  "language_info": {
   "codemirror_mode": {
    "name": "ipython",
    "version": 3
   },
   "file_extension": ".py",
   "mimetype": "text/x-python",
   "name": "python",
   "nbconvert_exporter": "python",
   "pygments_lexer": "ipython3",
   "version": "3.11.5"
  },
  "toc": {
   "base_numbering": 1,
   "nav_menu": {},
   "number_sections": true,
   "sideBar": true,
   "skip_h1_title": false,
   "title_cell": "Table of Contents",
   "title_sidebar": "Contents",
   "toc_cell": false,
   "toc_position": {},
   "toc_section_display": true,
   "toc_window_display": false
  }
 },
 "nbformat": 4,
 "nbformat_minor": 5
}
