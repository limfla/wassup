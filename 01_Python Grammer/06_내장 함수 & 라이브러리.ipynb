{
 "cells": [
  {
   "cell_type": "code",
   "execution_count": null,
   "id": "69afe691",
   "metadata": {},
   "outputs": [],
   "source": []
  },
  {
   "cell_type": "code",
   "execution_count": 2,
   "id": "3d597380",
   "metadata": {
    "ExecuteTime": {
     "end_time": "2023-12-05T05:19:33.698640Z",
     "start_time": "2023-12-05T05:19:33.693728Z"
    }
   },
   "outputs": [
    {
     "data": {
      "text/plain": [
       "(3, 3)"
      ]
     },
     "execution_count": 2,
     "metadata": {},
     "output_type": "execute_result"
    }
   ],
   "source": [
    "# abs 절댓값 리턴\n",
    "\n",
    "abs(3), abs(-3)"
   ]
  },
  {
   "cell_type": "code",
   "execution_count": 7,
   "id": "60b59246",
   "metadata": {
    "ExecuteTime": {
     "end_time": "2023-12-05T05:20:43.863818Z",
     "start_time": "2023-12-05T05:20:43.856533Z"
    }
   },
   "outputs": [
    {
     "data": {
      "text/plain": [
       "(True, False)"
      ]
     },
     "execution_count": 7,
     "metadata": {},
     "output_type": "execute_result"
    }
   ],
   "source": [
    "# all(x)는 반복 가능한 데이터(리스트, 튜플, 문자열, 딕셔너리) x를 입력값으로 받음\n",
    "# x의 요소가 모두 참이면 True, 거짓이 하나라도 있으면 False를 리턴\n",
    "\n",
    "all([1, 2, 3]), all([1, 2, 3, 0])"
   ]
  },
  {
   "cell_type": "code",
   "execution_count": 9,
   "id": "af506803",
   "metadata": {
    "ExecuteTime": {
     "end_time": "2023-12-05T05:21:01.178541Z",
     "start_time": "2023-12-05T05:21:01.173555Z"
    }
   },
   "outputs": [
    {
     "data": {
      "text/plain": [
       "True"
      ]
     },
     "execution_count": 9,
     "metadata": {},
     "output_type": "execute_result"
    }
   ],
   "source": [
    "#  all의 입력 인수가 빈 값인 경우에는 True를 리턴\n",
    "all([])"
   ]
  },
  {
   "cell_type": "code",
   "execution_count": 10,
   "id": "c0b1bcca",
   "metadata": {
    "ExecuteTime": {
     "end_time": "2023-12-05T05:21:37.565224Z",
     "start_time": "2023-12-05T05:21:37.559939Z"
    }
   },
   "outputs": [
    {
     "data": {
      "text/plain": [
       "'a'"
      ]
     },
     "execution_count": 10,
     "metadata": {},
     "output_type": "execute_result"
    }
   ],
   "source": [
    "# chr(i)는 유니코드 숫자 값을 입력받아 그 코드에 해당하는 문자를 리턴\n",
    "\n",
    "chr(97)"
   ]
  },
  {
   "cell_type": "code",
   "execution_count": 12,
   "id": "df56a8df",
   "metadata": {
    "ExecuteTime": {
     "end_time": "2023-12-05T05:23:21.011367Z",
     "start_time": "2023-12-05T05:23:21.003749Z"
    }
   },
   "outputs": [
    {
     "data": {
      "text/plain": [
       "['__add__',\n",
       " '__class__',\n",
       " '__class_getitem__',\n",
       " '__contains__',\n",
       " '__delattr__',\n",
       " '__delitem__',\n",
       " '__dir__',\n",
       " '__doc__',\n",
       " '__eq__',\n",
       " '__format__',\n",
       " '__ge__',\n",
       " '__getattribute__',\n",
       " '__getitem__',\n",
       " '__getstate__',\n",
       " '__gt__',\n",
       " '__hash__',\n",
       " '__iadd__',\n",
       " '__imul__',\n",
       " '__init__',\n",
       " '__init_subclass__',\n",
       " '__iter__',\n",
       " '__le__',\n",
       " '__len__',\n",
       " '__lt__',\n",
       " '__mul__',\n",
       " '__ne__',\n",
       " '__new__',\n",
       " '__reduce__',\n",
       " '__reduce_ex__',\n",
       " '__repr__',\n",
       " '__reversed__',\n",
       " '__rmul__',\n",
       " '__setattr__',\n",
       " '__setitem__',\n",
       " '__sizeof__',\n",
       " '__str__',\n",
       " '__subclasshook__',\n",
       " 'append',\n",
       " 'clear',\n",
       " 'copy',\n",
       " 'count',\n",
       " 'extend',\n",
       " 'index',\n",
       " 'insert',\n",
       " 'pop',\n",
       " 'remove',\n",
       " 'reverse',\n",
       " 'sort']"
      ]
     },
     "execution_count": 12,
     "metadata": {},
     "output_type": "execute_result"
    }
   ],
   "source": [
    "# dir은 객체가 지닌 변수나 함수를 보여 주는 함수\n",
    "\n",
    "dir([1,2,3])"
   ]
  },
  {
   "cell_type": "code",
   "execution_count": 14,
   "id": "5414f0a1",
   "metadata": {
    "ExecuteTime": {
     "end_time": "2023-12-05T05:24:40.799299Z",
     "start_time": "2023-12-05T05:24:40.793958Z"
    }
   },
   "outputs": [
    {
     "data": {
      "text/plain": [
       "(2, 1)"
      ]
     },
     "execution_count": 14,
     "metadata": {},
     "output_type": "execute_result"
    }
   ],
   "source": [
    "# divmod divmod(a, b)는 2개의 숫자 a, b를 입력으로 받는다.\n",
    "# a를 b로 나눈 몫과 나머지를 튜플로 리턴\n",
    "\n",
    "divmod(7, 3)"
   ]
  },
  {
   "cell_type": "code",
   "execution_count": 16,
   "id": "058c5645",
   "metadata": {
    "ExecuteTime": {
     "end_time": "2023-12-05T05:25:19.024919Z",
     "start_time": "2023-12-05T05:25:19.019752Z"
    }
   },
   "outputs": [
    {
     "data": {
      "text/plain": [
       "<enumerate at 0x1f906483c40>"
      ]
     },
     "execution_count": 16,
     "metadata": {},
     "output_type": "execute_result"
    }
   ],
   "source": [
    "# enumerate는 ‘열거하다’라는 뜻\n",
    "# 순서가 있는 데이터(리스트, 튜플, 문자열)를 입력으로 받아 인덱스 값을 포함하는 enumerate 객체를 리턴\n",
    "\n",
    "enumerate(['body', 'foo', 'bar'])"
   ]
  },
  {
   "cell_type": "code",
   "execution_count": 17,
   "id": "97604061",
   "metadata": {
    "ExecuteTime": {
     "end_time": "2023-12-05T05:25:41.167798Z",
     "start_time": "2023-12-05T05:25:41.161733Z"
    }
   },
   "outputs": [
    {
     "name": "stdout",
     "output_type": "stream",
     "text": [
      "0 body\n",
      "1 foo\n",
      "2 bar\n"
     ]
    }
   ],
   "source": [
    "for i, name in enumerate(['body', 'foo', 'bar']):\n",
    "    print(i, name)"
   ]
  },
  {
   "cell_type": "code",
   "execution_count": 19,
   "id": "3629ef37",
   "metadata": {
    "ExecuteTime": {
     "end_time": "2023-12-05T05:27:18.252080Z",
     "start_time": "2023-12-05T05:27:18.247011Z"
    }
   },
   "outputs": [
    {
     "name": "stdout",
     "output_type": "stream",
     "text": [
      "[1, 2, 6]\n"
     ]
    }
   ],
   "source": [
    "# filter란 ‘무엇인가를 걸러 낸다’라는 뜻으로, filter 함수도 이와 비슷한 기능\n",
    "# filter 함수는 첫 번째 인수로 함수, 두 번째 인수로 그 함수에 차례로 들어갈 반복 가능한 데이터를 받는다.\n",
    "# 반복 가능한 데이터의 요소 순서대로 함수를 호출했을 때 리턴값이 참인 것만 묶어서(걸러 내서) 리턴\n",
    "\n",
    "def positive(l): \n",
    "    result = [] \n",
    "    for i in l: \n",
    "        if i > 0: \n",
    "            result.append(i) \n",
    "    return result\n",
    "\n",
    "print(positive([1,-3,2,0,-5,6]))"
   ]
  },
  {
   "cell_type": "code",
   "execution_count": 20,
   "id": "68edeb12",
   "metadata": {
    "ExecuteTime": {
     "end_time": "2023-12-05T05:28:26.563396Z",
     "start_time": "2023-12-05T05:28:26.557554Z"
    }
   },
   "outputs": [
    {
     "name": "stdout",
     "output_type": "stream",
     "text": [
      "[1, 2, 6]\n"
     ]
    }
   ],
   "source": [
    "def positive(x):\n",
    "    return x > 0\n",
    "\n",
    "print(list(filter(positive, [1, -3, 2, 0, -5, 6])))"
   ]
  },
  {
   "cell_type": "code",
   "execution_count": 22,
   "id": "87310b06",
   "metadata": {
    "ExecuteTime": {
     "end_time": "2023-12-05T05:32:57.007207Z",
     "start_time": "2023-12-05T05:32:57.002438Z"
    }
   },
   "outputs": [
    {
     "name": "stdout",
     "output_type": "stream",
     "text": [
      "[1, 2, 6]\n"
     ]
    }
   ],
   "source": [
    "# 람다 함수 사용\n",
    "print(list(filter(lambda x: x>0, [1, -3, 2, 0, -5, 6])))"
   ]
  },
  {
   "cell_type": "code",
   "execution_count": 23,
   "id": "803c10a6",
   "metadata": {
    "ExecuteTime": {
     "end_time": "2023-12-05T05:34:13.262821Z",
     "start_time": "2023-12-05T05:34:13.256810Z"
    }
   },
   "outputs": [
    {
     "data": {
      "text/plain": [
       "'0xea'"
      ]
     },
     "execution_count": 23,
     "metadata": {},
     "output_type": "execute_result"
    }
   ],
   "source": [
    "# hex 16진수\n",
    "\n",
    "hex(234)"
   ]
  },
  {
   "cell_type": "code",
   "execution_count": 24,
   "id": "9d54f673",
   "metadata": {
    "ExecuteTime": {
     "end_time": "2023-12-05T05:34:28.391428Z",
     "start_time": "2023-12-05T05:34:28.384382Z"
    }
   },
   "outputs": [
    {
     "data": {
      "text/plain": [
       "140730623497064"
      ]
     },
     "execution_count": 24,
     "metadata": {},
     "output_type": "execute_result"
    }
   ],
   "source": [
    "# id\n",
    "\n",
    "a = 3\n",
    "id(3)"
   ]
  },
  {
   "cell_type": "code",
   "execution_count": 25,
   "id": "d15be5a8",
   "metadata": {
    "ExecuteTime": {
     "end_time": "2023-12-05T05:34:46.848687Z",
     "start_time": "2023-12-05T05:34:46.842132Z"
    }
   },
   "outputs": [
    {
     "data": {
      "text/plain": [
       "3"
      ]
     },
     "execution_count": 25,
     "metadata": {},
     "output_type": "execute_result"
    }
   ],
   "source": [
    "# int 정수 변환 \n",
    "int('3')"
   ]
  },
  {
   "cell_type": "code",
   "execution_count": 27,
   "id": "3e0e9516",
   "metadata": {
    "ExecuteTime": {
     "end_time": "2023-12-05T05:35:55.442002Z",
     "start_time": "2023-12-05T05:35:55.437001Z"
    }
   },
   "outputs": [
    {
     "data": {
      "text/plain": [
       "3"
      ]
     },
     "execution_count": 27,
     "metadata": {},
     "output_type": "execute_result"
    }
   ],
   "source": [
    "# int(x, radix)는 radix 진수로 표현된 문자열 x를 10진수로 변환하여 리턴\n",
    "int('11', 2)"
   ]
  },
  {
   "cell_type": "code",
   "execution_count": 28,
   "id": "38b61c2f",
   "metadata": {
    "ExecuteTime": {
     "end_time": "2023-12-05T05:37:00.851591Z",
     "start_time": "2023-12-05T05:37:00.845672Z"
    }
   },
   "outputs": [
    {
     "data": {
      "text/plain": [
       "True"
      ]
     },
     "execution_count": 28,
     "metadata": {},
     "output_type": "execute_result"
    }
   ],
   "source": [
    "# isinstance\n",
    "\n",
    "class Person: pass\n",
    "a = Person()\n",
    "isinstance(a, Person)"
   ]
  },
  {
   "cell_type": "code",
   "execution_count": 29,
   "id": "e488cb8d",
   "metadata": {
    "ExecuteTime": {
     "end_time": "2023-12-05T05:37:12.294854Z",
     "start_time": "2023-12-05T05:37:12.289736Z"
    }
   },
   "outputs": [
    {
     "data": {
      "text/plain": [
       "6"
      ]
     },
     "execution_count": 29,
     "metadata": {},
     "output_type": "execute_result"
    }
   ],
   "source": [
    "len(\"python\")"
   ]
  },
  {
   "cell_type": "code",
   "execution_count": 31,
   "id": "2aa19a95",
   "metadata": {
    "ExecuteTime": {
     "end_time": "2023-12-05T05:37:21.725966Z",
     "start_time": "2023-12-05T05:37:21.719295Z"
    }
   },
   "outputs": [
    {
     "data": {
      "text/plain": [
       "2"
      ]
     },
     "execution_count": 31,
     "metadata": {},
     "output_type": "execute_result"
    }
   ],
   "source": [
    "len((1, 'a'))"
   ]
  },
  {
   "cell_type": "code",
   "execution_count": 32,
   "id": "3210c4df",
   "metadata": {
    "ExecuteTime": {
     "end_time": "2023-12-05T05:37:35.093902Z",
     "start_time": "2023-12-05T05:37:35.088364Z"
    }
   },
   "outputs": [
    {
     "data": {
      "text/plain": [
       "['p', 'y', 't', 'h', 'o', 'n']"
      ]
     },
     "execution_count": 32,
     "metadata": {},
     "output_type": "execute_result"
    }
   ],
   "source": [
    "list(\"python\")"
   ]
  },
  {
   "cell_type": "code",
   "execution_count": 33,
   "id": "5d5bdbdf",
   "metadata": {
    "ExecuteTime": {
     "end_time": "2023-12-05T05:38:05.750221Z",
     "start_time": "2023-12-05T05:38:05.745014Z"
    }
   },
   "outputs": [
    {
     "data": {
      "text/plain": [
       "[1, 2, 3]"
      ]
     },
     "execution_count": 33,
     "metadata": {},
     "output_type": "execute_result"
    }
   ],
   "source": [
    "list((1,2,3))"
   ]
  },
  {
   "cell_type": "markdown",
   "id": "6e51f651",
   "metadata": {},
   "source": [
    "### map (중요)\n",
    "* 함수(f)와 반복 가능한 데이터를 입력으로 받는다.\n",
    "* 입력받은 데이터의 각 요소에 함수 f를 적용한 결과를 리턴하는 함수이다."
   ]
  },
  {
   "cell_type": "code",
   "execution_count": 34,
   "id": "201dff5b",
   "metadata": {
    "ExecuteTime": {
     "end_time": "2023-12-05T05:39:05.938132Z",
     "start_time": "2023-12-05T05:39:05.932697Z"
    }
   },
   "outputs": [
    {
     "name": "stdout",
     "output_type": "stream",
     "text": [
      "[2, 4, 6, 8]\n"
     ]
    }
   ],
   "source": [
    "def two_times(numberList):\n",
    "    result = []\n",
    "    for number in numberList:\n",
    "        result.append(number*2)\n",
    "    return result\n",
    "\n",
    "result = two_times([1, 2, 3, 4])\n",
    "print(result)"
   ]
  },
  {
   "cell_type": "code",
   "execution_count": 35,
   "id": "35a77d27",
   "metadata": {
    "ExecuteTime": {
     "end_time": "2023-12-05T05:39:49.082419Z",
     "start_time": "2023-12-05T05:39:49.076178Z"
    }
   },
   "outputs": [
    {
     "data": {
      "text/plain": [
       "[2, 4, 6, 8]"
      ]
     },
     "execution_count": 35,
     "metadata": {},
     "output_type": "execute_result"
    }
   ],
   "source": [
    "def two_times(x):\n",
    "    return x*2\n",
    "list(map(two_times, [1, 2, 3, 4]))"
   ]
  },
  {
   "cell_type": "code",
   "execution_count": null,
   "id": "ef6cc272",
   "metadata": {},
   "outputs": [],
   "source": [
    "# filter와 map 차이\n",
    "# 특정 조건에 해당하는 것들만 추출하는 조건 식\n",
    "# map은 ?????"
   ]
  },
  {
   "cell_type": "code",
   "execution_count": 36,
   "id": "09370979",
   "metadata": {
    "ExecuteTime": {
     "end_time": "2023-12-05T05:43:50.765590Z",
     "start_time": "2023-12-05T05:43:50.759666Z"
    }
   },
   "outputs": [
    {
     "data": {
      "text/plain": [
       "[2, 4, 6, 8]"
      ]
     },
     "execution_count": 36,
     "metadata": {},
     "output_type": "execute_result"
    }
   ],
   "source": [
    "list(map(lambda a: a*2, [1, 2, 3, 4]))"
   ]
  },
  {
   "cell_type": "code",
   "execution_count": 37,
   "id": "13a5cc93",
   "metadata": {
    "ExecuteTime": {
     "end_time": "2023-12-05T05:45:52.747701Z",
     "start_time": "2023-12-05T05:45:52.742286Z"
    }
   },
   "outputs": [
    {
     "data": {
      "text/plain": [
       "3"
      ]
     },
     "execution_count": 37,
     "metadata": {},
     "output_type": "execute_result"
    }
   ],
   "source": [
    "# max(iterable)은 인수로 반복 가능한 데이터를 입력받아 그 최댓값을 리턴\n",
    "\n",
    "max([1, 2, 3])"
   ]
  },
  {
   "cell_type": "code",
   "execution_count": 39,
   "id": "fb0eb454",
   "metadata": {
    "ExecuteTime": {
     "end_time": "2023-12-05T05:48:01.156513Z",
     "start_time": "2023-12-05T05:48:01.150098Z"
    }
   },
   "outputs": [
    {
     "data": {
      "text/plain": [
       "[0, 1, 2, 3, 4]"
      ]
     },
     "execution_count": 39,
     "metadata": {},
     "output_type": "execute_result"
    }
   ],
   "source": [
    "# range\n",
    "\n",
    "list(range(5))"
   ]
  },
  {
   "cell_type": "code",
   "execution_count": 41,
   "id": "d041cc20",
   "metadata": {
    "ExecuteTime": {
     "end_time": "2023-12-05T05:48:26.352700Z",
     "start_time": "2023-12-05T05:48:26.345878Z"
    }
   },
   "outputs": [
    {
     "data": {
      "text/plain": [
       "[5, 6, 7, 8, 9]"
      ]
     },
     "execution_count": 41,
     "metadata": {},
     "output_type": "execute_result"
    }
   ],
   "source": [
    "# 인수가 2개일 경우: 시작-끝\n",
    "list(range(5, 10))"
   ]
  },
  {
   "cell_type": "code",
   "execution_count": 42,
   "id": "5c114552",
   "metadata": {
    "ExecuteTime": {
     "end_time": "2023-12-05T05:48:43.366938Z",
     "start_time": "2023-12-05T05:48:43.359889Z"
    }
   },
   "outputs": [
    {
     "data": {
      "text/plain": [
       "[1, 3, 5, 7, 9]"
      ]
     },
     "execution_count": 42,
     "metadata": {},
     "output_type": "execute_result"
    }
   ],
   "source": [
    "# 세 번째 인수는 숫자 사이의 거리\n",
    "\n",
    "list(range(1, 10, 2))"
   ]
  },
  {
   "cell_type": "markdown",
   "id": "4641ebbb",
   "metadata": {},
   "source": [
    "### OS"
   ]
  },
  {
   "cell_type": "markdown",
   "id": "2d74d9c9",
   "metadata": {},
   "source": [
    "### json"
   ]
  },
  {
   "cell_type": "code",
   "execution_count": 2,
   "id": "7bea9c56",
   "metadata": {
    "ExecuteTime": {
     "end_time": "2023-12-06T05:12:25.256247Z",
     "start_time": "2023-12-06T05:12:25.239618Z"
    }
   },
   "outputs": [
    {
     "ename": "SyntaxError",
     "evalue": "invalid syntax (1579186180.py, line 1)",
     "output_type": "error",
     "traceback": [
      "\u001b[1;36m  Cell \u001b[1;32mIn[2], line 1\u001b[1;36m\u001b[0m\n\u001b[1;33m    [파일명: myinfo.json]\u001b[0m\n\u001b[1;37m        ^\u001b[0m\n\u001b[1;31mSyntaxError\u001b[0m\u001b[1;31m:\u001b[0m invalid syntax\n"
     ]
    }
   ],
   "source": [
    "[파일명: myinfo.json]"
   ]
  },
  {
   "cell_type": "code",
   "execution_count": 5,
   "id": "de80cb95",
   "metadata": {
    "ExecuteTime": {
     "end_time": "2023-12-06T05:19:20.930017Z",
     "start_time": "2023-12-06T05:19:20.925794Z"
    }
   },
   "outputs": [],
   "source": [
    "import json\n",
    "data = {'name': '홍길동', 'birth': '0525', 'age': 30}\n",
    "with open('myinfo.json', 'w') as f:\n",
    "    json.dump(data, f)\n"
   ]
  },
  {
   "cell_type": "code",
   "execution_count": 8,
   "id": "f48c19b6",
   "metadata": {
    "ExecuteTime": {
     "end_time": "2023-12-06T05:20:15.859597Z",
     "start_time": "2023-12-06T05:20:15.853994Z"
    }
   },
   "outputs": [
    {
     "data": {
      "text/plain": [
       "'{\"name\": \"\\\\ud64d\\\\uae38\\\\ub3d9\", \"birth\": \"0525\", \"age\": 30}'"
      ]
     },
     "execution_count": 8,
     "metadata": {},
     "output_type": "execute_result"
    }
   ],
   "source": [
    "import json\n",
    "d = {\"name\":\"홍길동\", \"birth\":\"0525\", \"age\": 30}\n",
    "json_data = json.dumps(d)\n",
    "json_data\n",
    "'{\"name\": \"\\\\ud64d\\\\uae38\\\\ub3d9\", \"birth\": \"0525\", \"age\": 30}'\n"
   ]
  },
  {
   "cell_type": "markdown",
   "id": "b88926ed",
   "metadata": {},
   "source": [
    "#### urllib\n",
    "\n",
    "* url을 읽고 분석할 때 사용하는 모듈"
   ]
  },
  {
   "cell_type": "code",
   "execution_count": 9,
   "id": "0c95fc92",
   "metadata": {
    "ExecuteTime": {
     "end_time": "2023-12-06T05:22:19.607126Z",
     "start_time": "2023-12-06T05:22:19.603503Z"
    }
   },
   "outputs": [],
   "source": [
    "import urllib.request\n",
    "\n",
    "def get_wikidocs(page):\n",
    "    resource = 'https://wikidocs.net/{}'.format(page)\n",
    "    with urllib.request.urlopen(resource) as s:\n",
    "        with open('wikidocs_%s.html' % page, 'wb') as f:\n",
    "            f.write(s.read())"
   ]
  },
  {
   "cell_type": "markdown",
   "id": "0f87e57f",
   "metadata": {},
   "source": [
    "## 외부 라이브러리\n",
    "* 직접 설치해야 함"
   ]
  },
  {
   "cell_type": "code",
   "execution_count": 10,
   "id": "241dc91f",
   "metadata": {
    "ExecuteTime": {
     "end_time": "2023-12-06T05:25:00.171992Z",
     "start_time": "2023-12-06T05:24:55.725681Z"
    }
   },
   "outputs": [
    {
     "name": "stdout",
     "output_type": "stream",
     "text": [
      "Package                           Version\n",
      "--------------------------------- ---------------\n",
      "aiobotocore                       2.5.0\n",
      "aiofiles                          22.1.0\n",
      "aiohttp                           3.8.5\n",
      "aioitertools                      0.7.1\n",
      "aiosignal                         1.2.0\n",
      "aiosqlite                         0.18.0\n",
      "alabaster                         0.7.12\n",
      "anaconda-anon-usage               0.4.2\n",
      "anaconda-catalogs                 0.2.0\n",
      "anaconda-client                   1.12.1\n",
      "anaconda-cloud-auth               0.1.3\n",
      "anaconda-navigator                2.5.0\n",
      "anaconda-project                  0.11.1\n",
      "anyio                             3.5.0\n",
      "appdirs                           1.4.4\n",
      "argon2-cffi                       21.3.0\n",
      "argon2-cffi-bindings              21.2.0\n",
      "arrow                             1.2.3\n",
      "astroid                           2.14.2\n",
      "astropy                           5.1\n",
      "asttokens                         2.0.5\n",
      "async-timeout                     4.0.2\n",
      "atomicwrites                      1.4.0\n",
      "attrs                             22.1.0\n",
      "Automat                           20.2.0\n",
      "autopep8                          1.6.0\n",
      "Babel                             2.11.0\n",
      "backcall                          0.2.0\n",
      "backports.functools-lru-cache     1.6.4\n",
      "backports.tempfile                1.0\n",
      "backports.weakref                 1.0.post1\n",
      "bcrypt                            3.2.0\n",
      "beautifulsoup4                    4.12.2\n",
      "binaryornot                       0.4.4\n",
      "black                             0.0\n",
      "bleach                            4.1.0\n",
      "bokeh                             3.2.1\n",
      "boltons                           23.0.0\n",
      "botocore                          1.29.76\n",
      "Bottleneck                        1.3.5\n",
      "brotlipy                          0.7.0\n",
      "certifi                           2023.7.22\n",
      "cffi                              1.15.1\n",
      "chardet                           4.0.0\n",
      "charset-normalizer                2.0.4\n",
      "click                             8.0.4\n",
      "cloudpickle                       2.2.1\n",
      "clyent                            1.2.2\n",
      "colorama                          0.4.6\n",
      "colorcet                          3.0.1\n",
      "comm                              0.1.2\n",
      "conda                             23.7.4\n",
      "conda-build                       3.26.1\n",
      "conda-content-trust               0.2.0\n",
      "conda_index                       0.3.0\n",
      "conda-libmamba-solver             23.7.0\n",
      "conda-pack                        0.6.0\n",
      "conda-package-handling            2.2.0\n",
      "conda_package_streaming           0.9.0\n",
      "conda-repo-cli                    1.0.75\n",
      "conda-token                       0.4.0\n",
      "conda-verify                      3.4.2\n",
      "constantly                        15.1.0\n",
      "contourpy                         1.0.5\n",
      "cookiecutter                      1.7.3\n",
      "cryptography                      41.0.3\n",
      "cssselect                         1.1.0\n",
      "cycler                            0.11.0\n",
      "cytoolz                           0.12.0\n",
      "daal4py                           2023.1.1\n",
      "dask                              2023.6.0\n",
      "datasets                          2.12.0\n",
      "datashader                        0.15.2\n",
      "datashape                         0.5.4\n",
      "debugpy                           1.6.7\n",
      "decorator                         5.1.1\n",
      "defusedxml                        0.7.1\n",
      "diff-match-patch                  20200713\n",
      "dill                              0.3.6\n",
      "distributed                       2023.6.0\n",
      "docstring-to-markdown             0.11\n",
      "docutils                          0.18.1\n",
      "entrypoints                       0.4\n",
      "et-xmlfile                        1.1.0\n",
      "executing                         0.8.3\n",
      "fastjsonschema                    2.16.2\n",
      "filelock                          3.9.0\n",
      "flake8                            6.0.0\n",
      "Flask                             2.2.2\n",
      "fonttools                         4.25.0\n",
      "frozenlist                        1.3.3\n",
      "fsspec                            2023.4.0\n",
      "future                            0.18.3\n",
      "gensim                            4.3.0\n",
      "glob2                             0.7\n",
      "greenlet                          2.0.1\n",
      "h5py                              3.9.0\n",
      "HeapDict                          1.0.1\n",
      "holoviews                         1.17.1\n",
      "huggingface-hub                   0.15.1\n",
      "hvplot                            0.8.4\n",
      "hyperlink                         21.0.0\n",
      "idna                              3.4\n",
      "imagecodecs                       2023.1.23\n",
      "imageio                           2.26.0\n",
      "imagesize                         1.4.1\n",
      "imbalanced-learn                  0.10.1\n",
      "importlib-metadata                6.0.0\n",
      "incremental                       21.3.0\n",
      "inflection                        0.5.1\n",
      "iniconfig                         1.1.1\n",
      "intake                            0.6.8\n",
      "intervaltree                      3.1.0\n",
      "ipykernel                         6.25.0\n",
      "ipython                           8.15.0\n",
      "ipython-genutils                  0.2.0\n",
      "ipywidgets                        8.0.4\n",
      "isort                             5.9.3\n",
      "itemadapter                       0.3.0\n",
      "itemloaders                       1.0.4\n",
      "itsdangerous                      2.0.1\n",
      "jaraco.classes                    3.2.1\n",
      "jedi                              0.18.1\n",
      "jellyfish                         1.0.1\n",
      "Jinja2                            3.1.2\n",
      "jinja2-time                       0.2.0\n",
      "jmespath                          0.10.0\n",
      "joblib                            1.2.0\n",
      "json5                             0.9.6\n",
      "jsonpatch                         1.32\n",
      "jsonpointer                       2.1\n",
      "jsonschema                        4.17.3\n",
      "jupyter                           1.0.0\n",
      "jupyter_client                    7.4.9\n",
      "jupyter-console                   6.6.3\n",
      "jupyter-contrib-core              0.4.2\n",
      "jupyter-contrib-nbextensions      0.7.0\n",
      "jupyter_core                      5.3.0\n",
      "jupyter-events                    0.6.3\n",
      "jupyter-highlight-selected-word   0.2.0\n",
      "jupyter-nbextensions-configurator 0.6.3\n",
      "jupyter-server                    1.23.4\n",
      "jupyter_server_fileid             0.9.0\n",
      "jupyter_server_ydoc               0.8.0\n",
      "jupyter-ydoc                      0.2.4\n",
      "jupyterlab                        3.6.3\n",
      "jupyterlab-pygments               0.1.2\n",
      "jupyterlab_server                 2.22.0\n",
      "jupyterlab-widgets                3.0.5\n",
      "kaleido                           0.2.1\n",
      "keyring                           23.13.1\n",
      "kiwisolver                        1.4.4\n",
      "lazy_loader                       0.2\n",
      "lazy-object-proxy                 1.6.0\n",
      "libarchive-c                      2.9\n",
      "libmambapy                        1.5.1\n",
      "linkify-it-py                     2.0.0\n",
      "llvmlite                          0.40.0\n",
      "lmdb                              1.4.1\n",
      "locket                            1.0.0\n",
      "lxml                              4.9.3\n",
      "lz4                               4.3.2\n",
      "Markdown                          3.4.1\n",
      "markdown-it-py                    2.2.0\n",
      "MarkupSafe                        2.1.1\n",
      "matplotlib                        3.7.2\n",
      "matplotlib-inline                 0.1.6\n",
      "mccabe                            0.7.0\n",
      "mdit-py-plugins                   0.3.0\n",
      "mdurl                             0.1.0\n",
      "menuinst                          1.4.19\n",
      "mistune                           0.8.4\n",
      "mkl-fft                           1.3.8\n",
      "mkl-random                        1.2.4\n",
      "mkl-service                       2.4.0\n",
      "more-itertools                    8.12.0\n",
      "mpmath                            1.3.0\n",
      "msgpack                           1.0.3\n",
      "multidict                         6.0.2\n",
      "multipledispatch                  0.6.0\n",
      "multiprocess                      0.70.14\n",
      "munkres                           1.1.4\n",
      "mypy-extensions                   1.0.0\n",
      "navigator-updater                 0.4.0\n",
      "nbclassic                         0.5.5\n",
      "nbclient                          0.5.13\n",
      "nbconvert                         6.5.4\n",
      "nbformat                          5.9.2\n",
      "nest-asyncio                      1.5.6\n",
      "networkx                          3.1\n",
      "nltk                              3.8.1\n",
      "notebook                          6.5.4\n",
      "notebook_shim                     0.2.2\n",
      "numba                             0.57.1\n",
      "numexpr                           2.8.4\n",
      "numpy                             1.24.3\n",
      "numpydoc                          1.5.0\n",
      "openpyxl                          3.0.10\n",
      "packaging                         23.1\n",
      "pandas                            2.0.3\n",
      "pandocfilters                     1.5.0\n",
      "panel                             1.2.3\n",
      "param                             1.13.0\n",
      "paramiko                          2.8.1\n",
      "parsel                            1.6.0\n",
      "parso                             0.8.3\n",
      "partd                             1.4.0\n",
      "pathlib                           1.0.1\n",
      "pathspec                          0.10.3\n",
      "patsy                             0.5.3\n",
      "pep8                              1.7.1\n",
      "pexpect                           4.8.0\n",
      "pickleshare                       0.7.5\n",
      "Pillow                            9.4.0\n",
      "pip                               23.2.1\n",
      "pkce                              1.0.3\n",
      "pkginfo                           1.9.6\n",
      "platformdirs                      3.10.0\n",
      "plotly                            5.9.0\n",
      "pluggy                            1.0.0\n",
      "ply                               3.11\n",
      "poyo                              0.5.0\n",
      "prometheus-client                 0.14.1\n",
      "prompt-toolkit                    3.0.36\n",
      "Protego                           0.1.16\n",
      "psutil                            5.9.0\n",
      "ptyprocess                        0.7.0\n",
      "pure-eval                         0.2.2\n",
      "py-cpuinfo                        8.0.0\n",
      "pyarrow                           11.0.0\n",
      "pyasn1                            0.4.8\n",
      "pyasn1-modules                    0.2.8\n",
      "pycodestyle                       2.10.0\n",
      "pycosat                           0.6.4\n",
      "pycparser                         2.21\n",
      "pyct                              0.5.0\n",
      "pycurl                            7.45.2\n",
      "pydantic                          1.10.8\n",
      "PyDispatcher                      2.0.5\n",
      "pydocstyle                        6.3.0\n",
      "pyerfa                            2.0.0\n",
      "pyflakes                          3.0.1\n",
      "Pygments                          2.15.1\n",
      "PyJWT                             2.4.0\n",
      "pylint                            2.16.2\n",
      "pylint-venv                       2.3.0\n",
      "pyls-spyder                       0.4.0\n",
      "PyNaCl                            1.5.0\n",
      "pyodbc                            4.0.34\n",
      "pyOpenSSL                         23.2.0\n",
      "pyparsing                         3.0.9\n",
      "PyQt5                             5.15.7\n",
      "PyQt5-sip                         12.11.0\n",
      "PyQtWebEngine                     5.15.4\n",
      "pyrsistent                        0.18.0\n",
      "PySocks                           1.7.1\n",
      "pytest                            7.4.0\n",
      "python-dateutil                   2.8.2\n",
      "python-dotenv                     0.21.0\n",
      "python-json-logger                2.0.7\n",
      "python-lsp-black                  1.2.1\n",
      "python-lsp-jsonrpc                1.0.0\n",
      "python-lsp-server                 1.7.2\n",
      "python-slugify                    5.0.2\n",
      "python-snappy                     0.6.1\n",
      "pytoolconfig                      1.2.5\n",
      "pytz                              2023.3.post1\n",
      "pyviz-comms                       2.3.0\n",
      "PyWavelets                        1.4.1\n",
      "pywin32                           305.1\n",
      "pywin32-ctypes                    0.2.0\n",
      "pywinpty                          2.0.10\n",
      "PyYAML                            6.0\n",
      "pyzmq                             23.2.0\n",
      "QDarkStyle                        3.0.2\n",
      "qstylizer                         0.2.2\n",
      "QtAwesome                         1.2.2\n",
      "qtconsole                         5.4.2\n",
      "QtPy                              2.2.0\n",
      "queuelib                          1.5.0\n",
      "regex                             2022.7.9\n",
      "requests                          2.31.0\n",
      "requests-file                     1.5.1\n",
      "requests-toolbelt                 1.0.0\n",
      "responses                         0.13.3\n",
      "rfc3339-validator                 0.1.4\n",
      "rfc3986-validator                 0.1.1\n",
      "rope                              1.7.0\n",
      "Rtree                             1.0.1\n",
      "ruamel.yaml                       0.17.21\n",
      "ruamel-yaml-conda                 0.17.21\n",
      "s3fs                              2023.4.0\n",
      "safetensors                       0.3.2\n",
      "scikit-image                      0.20.0\n",
      "scikit-learn                      1.3.0\n",
      "scikit-learn-intelex              20230426.121932\n",
      "scipy                             1.11.1\n",
      "Scrapy                            2.8.0\n",
      "seaborn                           0.12.2\n",
      "Send2Trash                        1.8.0\n",
      "service-identity                  18.1.0\n",
      "setuptools                        68.0.0\n",
      "sip                               6.6.2\n",
      "six                               1.16.0\n",
      "smart-open                        5.2.1\n",
      "sniffio                           1.2.0\n",
      "snowballstemmer                   2.2.0\n",
      "sortedcontainers                  2.4.0\n",
      "soupsieve                         2.4\n",
      "Sphinx                            5.0.2\n",
      "sphinxcontrib-applehelp           1.0.2\n",
      "sphinxcontrib-devhelp             1.0.2\n",
      "sphinxcontrib-htmlhelp            2.0.0\n",
      "sphinxcontrib-jsmath              1.0.1\n",
      "sphinxcontrib-qthelp              1.0.3\n",
      "sphinxcontrib-serializinghtml     1.1.5\n",
      "spyder                            5.4.3\n",
      "spyder-kernels                    2.4.4\n",
      "SQLAlchemy                        1.4.39\n",
      "stack-data                        0.2.0\n",
      "statsmodels                       0.14.0\n",
      "sympy                             1.11.1\n",
      "tables                            3.8.0\n",
      "tabulate                          0.8.10\n",
      "TBB                               0.2\n",
      "tblib                             1.7.0\n",
      "tenacity                          8.2.2\n",
      "terminado                         0.17.1\n",
      "text-unidecode                    1.3\n",
      "textdistance                      4.2.1\n",
      "threadpoolctl                     2.2.0\n",
      "three-merge                       0.1.1\n",
      "tifffile                          2023.4.12\n",
      "tinycss2                          1.2.1\n",
      "tldextract                        3.2.0\n",
      "tokenizers                        0.13.2\n",
      "toml                              0.10.2\n",
      "tomlkit                           0.11.1\n",
      "toolz                             0.12.0\n",
      "tornado                           6.3.2\n",
      "tqdm                              4.65.0\n",
      "traitlets                         5.7.1\n",
      "transformers                      4.32.1\n",
      "Twisted                           22.10.0\n",
      "twisted-iocpsupport               1.0.2\n",
      "typing_extensions                 4.7.1\n",
      "tzdata                            2023.3\n",
      "uc-micro-py                       1.0.1\n",
      "ujson                             5.4.0\n",
      "Unidecode                         1.2.0\n",
      "urllib3                           1.26.16\n",
      "w3lib                             1.21.0\n",
      "watchdog                          2.1.6\n",
      "wcwidth                           0.2.5\n",
      "webencodings                      0.5.1\n",
      "websocket-client                  0.58.0\n",
      "Werkzeug                          2.2.3\n",
      "whatthepatch                      1.0.2\n",
      "wheel                             0.38.4\n",
      "widgetsnbextension                4.0.5\n",
      "win-inet-pton                     1.1.0\n",
      "wrapt                             1.14.1\n",
      "xarray                            2023.6.0\n",
      "xlwings                           0.29.1\n",
      "xxhash                            2.0.2\n",
      "xyzservices                       2022.9.0\n",
      "y-py                              0.5.9\n",
      "yapf                              0.31.0\n",
      "yarl                              1.8.1\n",
      "ypy-websocket                     0.8.2\n",
      "zict                              2.2.0\n",
      "zipp                              3.11.0\n",
      "zope.interface                    5.4.0\n",
      "zstandard                         0.19.0\n",
      "Note: you may need to restart the kernel to use updated packages.\n"
     ]
    }
   ],
   "source": [
    "pip list"
   ]
  },
  {
   "cell_type": "code",
   "execution_count": 11,
   "id": "ea846de3",
   "metadata": {
    "ExecuteTime": {
     "end_time": "2023-12-06T05:26:09.816515Z",
     "start_time": "2023-12-06T05:26:09.107780Z"
    }
   },
   "outputs": [
    {
     "name": "stdout",
     "output_type": "stream",
     "text": [
      "pip 23.2.1 from C:\\Users\\limfl\\anaconda3\\Lib\\site-packages\\pip (python 3.11)\n",
      "\n",
      "Note: you may need to restart the kernel to use updated packages.\n"
     ]
    }
   ],
   "source": [
    "pip --version"
   ]
  },
  {
   "cell_type": "code",
   "execution_count": 12,
   "id": "66c59fba",
   "metadata": {
    "ExecuteTime": {
     "end_time": "2023-12-06T05:27:40.824110Z",
     "start_time": "2023-12-06T05:27:32.596931Z"
    }
   },
   "outputs": [
    {
     "name": "stdout",
     "output_type": "stream",
     "text": [
      "# packages in environment at C:\\Users\\limfl\\anaconda3:\n",
      "#\n",
      "# Name                    Version                   Build  Channel\n",
      "_anaconda_depends         2023.09             py311_mkl_1  \n",
      "abseil-cpp                20211102.0           hd77b12b_0  \n",
      "aiobotocore               2.5.0           py311haa95532_0  \n",
      "aiofiles                  22.1.0          py311haa95532_0  \n",
      "aiohttp                   3.8.5           py311h2bbff1b_0  \n",
      "aioitertools              0.7.1              pyhd3eb1b0_0  \n",
      "aiosignal                 1.2.0              pyhd3eb1b0_0  \n",
      "aiosqlite                 0.18.0          py311haa95532_0  \n",
      "alabaster                 0.7.12             pyhd3eb1b0_0  \n",
      "anaconda-anon-usage       0.4.2           py311hfc23b7f_0  \n",
      "anaconda-catalogs         0.2.0           py311haa95532_0  \n",
      "anaconda-client           1.12.1          py311haa95532_0  \n",
      "anaconda-cloud-auth       0.1.3           py311haa95532_0  \n",
      "anaconda-navigator        2.5.0           py311haa95532_0  \n",
      "anaconda-project          0.11.1          py311haa95532_0  \n",
      "anyio                     3.5.0           py311haa95532_0  \n",
      "aom                       3.6.0                hd77b12b_0  \n",
      "appdirs                   1.4.4              pyhd3eb1b0_0  \n",
      "argon2-cffi               21.3.0             pyhd3eb1b0_0  \n",
      "argon2-cffi-bindings      21.2.0          py311h2bbff1b_0  \n",
      "arrow                     1.2.3           py311haa95532_1  \n",
      "arrow-cpp                 11.0.0               ha81ea56_2  \n",
      "astroid                   2.14.2          py311haa95532_0  \n",
      "astropy                   5.1             py311h5bb9823_0  \n",
      "asttokens                 2.0.5              pyhd3eb1b0_0  \n",
      "async-timeout             4.0.2           py311haa95532_0  \n",
      "atomicwrites              1.4.0                      py_0  \n",
      "attrs                     22.1.0          py311haa95532_0  \n",
      "automat                   20.2.0                     py_0  \n",
      "autopep8                  1.6.0              pyhd3eb1b0_1  \n",
      "aws-c-common              0.6.8                h2bbff1b_1  \n",
      "aws-c-event-stream        0.1.6                hd77b12b_6  \n",
      "aws-checksums             0.1.11               h2bbff1b_2  \n",
      "aws-sdk-cpp               1.8.185              hd77b12b_1  \n",
      "babel                     2.11.0          py311haa95532_0  \n",
      "backcall                  0.2.0              pyhd3eb1b0_0  \n",
      "backports                 1.1                pyhd3eb1b0_0  \n",
      "backports.functools_lru_cache 1.6.4              pyhd3eb1b0_0  \n",
      "backports.tempfile        1.0                pyhd3eb1b0_1  \n",
      "backports.weakref         1.0.post1                  py_1  \n",
      "bcrypt                    3.2.0           py311h2bbff1b_1  \n",
      "beautifulsoup4            4.12.2          py311haa95532_0  \n",
      "binaryornot               0.4.4              pyhd3eb1b0_1  \n",
      "black                     23.3.0          py311haa95532_0  \n",
      "blas                      1.0                         mkl  \n",
      "bleach                    4.1.0              pyhd3eb1b0_0  \n",
      "blosc                     1.21.3               h6c2663c_0  \n",
      "bokeh                     3.2.1           py311h746a85d_0  \n",
      "boltons                   23.0.0          py311haa95532_0  \n",
      "boost-cpp                 1.82.0               h59b6b97_1  \n",
      "botocore                  1.29.76         py311haa95532_0  \n",
      "bottleneck                1.3.5           py311h5bb9823_0  \n",
      "brotli                    1.0.9                h2bbff1b_7  \n",
      "brotli-bin                1.0.9                h2bbff1b_7  \n",
      "brotlipy                  0.7.0           py311h2bbff1b_1002  \n",
      "bzip2                     1.0.8                he774522_0  \n",
      "c-ares                    1.19.1               h2bbff1b_0  \n",
      "c-blosc2                  2.8.0                hd77b12b_0  \n",
      "ca-certificates           2023.08.22           haa95532_0  \n",
      "certifi                   2023.7.22       py311haa95532_0  \n",
      "cffi                      1.15.1          py311h2bbff1b_3  \n",
      "cfitsio                   3.470                h2bbff1b_7  \n",
      "chardet                   4.0.0           py311haa95532_1003  \n",
      "charls                    2.2.0                h6c2663c_0  \n",
      "charset-normalizer        2.0.4              pyhd3eb1b0_0  \n",
      "click                     8.0.4           py311haa95532_0  \n",
      "cloudpickle               2.2.1           py311haa95532_0  \n",
      "clyent                    1.2.2           py311haa95532_1  \n",
      "colorama                  0.4.6           py311haa95532_0  \n",
      "colorcet                  3.0.1           py311haa95532_0  \n",
      "comm                      0.1.2           py311haa95532_0  \n",
      "conda                     23.7.4          py311haa95532_0  \n",
      "conda-build               3.26.1          py311haa95532_0  \n",
      "conda-content-trust       0.2.0           py311haa95532_0  \n",
      "conda-index               0.3.0           py311haa95532_0  \n",
      "conda-libmamba-solver     23.7.0          py311haa95532_0  \n",
      "conda-pack                0.6.0              pyhd3eb1b0_0  \n",
      "conda-package-handling    2.2.0           py311haa95532_0  \n",
      "conda-package-streaming   0.9.0           py311haa95532_0  \n",
      "conda-repo-cli            1.0.75          py311haa95532_0  \n",
      "conda-token               0.4.0              pyhd3eb1b0_0  \n",
      "conda-verify              3.4.2                      py_1  \n",
      "console_shortcut          0.1.1                         4  \n",
      "constantly                15.1.0          py311haa95532_0  \n",
      "contourpy                 1.0.5           py311h59b6b97_0  \n",
      "cookiecutter              1.7.3              pyhd3eb1b0_0  \n",
      "cryptography              41.0.3          py311h89fc84f_0  \n",
      "cssselect                 1.1.0              pyhd3eb1b0_0  \n",
      "curl                      8.1.1                h2bbff1b_0  \n",
      "cycler                    0.11.0             pyhd3eb1b0_0  \n",
      "cytoolz                   0.12.0          py311h2bbff1b_0  \n",
      "daal4py                   2023.1.1        py311h30df693_0  \n",
      "dal                       2023.1.1         h59b6b97_48681  \n",
      "dask                      2023.6.0        py311haa95532_0  \n",
      "dask-core                 2023.6.0        py311haa95532_0  \n",
      "datasets                  2.12.0          py311haa95532_0  \n",
      "datashader                0.15.2          py311haa95532_0  \n",
      "datashape                 0.5.4           py311haa95532_1  \n",
      "dav1d                     1.2.1                h2bbff1b_0  \n",
      "debugpy                   1.6.7           py311hd77b12b_0  \n",
      "decorator                 5.1.1              pyhd3eb1b0_0  \n",
      "defusedxml                0.7.1              pyhd3eb1b0_0  \n",
      "diff-match-patch          20200713           pyhd3eb1b0_0  \n",
      "dill                      0.3.6           py311haa95532_0  \n",
      "distributed               2023.6.0        py311haa95532_0  \n",
      "docstring-to-markdown     0.11            py311haa95532_0  \n",
      "docutils                  0.18.1          py311haa95532_3  \n",
      "entrypoints               0.4             py311haa95532_0  \n",
      "et_xmlfile                1.1.0           py311haa95532_0  \n",
      "executing                 0.8.3              pyhd3eb1b0_0  \n",
      "filelock                  3.9.0           py311haa95532_0  \n",
      "flake8                    6.0.0           py311haa95532_0  \n",
      "flask                     2.2.2           py311haa95532_0  \n",
      "fmt                       9.1.0                h6d14046_0  \n",
      "fonttools                 4.25.0             pyhd3eb1b0_0  \n",
      "freetype                  2.12.1               ha860e81_0  \n",
      "frozenlist                1.3.3           py311h2bbff1b_0  \n",
      "fsspec                    2023.4.0        py311haa95532_0  \n",
      "future                    0.18.3          py311haa95532_0  \n",
      "gensim                    4.3.0           py311heda8569_0  \n",
      "gflags                    2.2.2                ha925a31_0  \n",
      "giflib                    5.2.1                h8cc25b3_3  \n",
      "glib                      2.69.1               h5dc1a3c_2  \n",
      "glob2                     0.7                pyhd3eb1b0_0  \n",
      "glog                      0.5.0                hd77b12b_0  \n",
      "greenlet                  2.0.1           py311hd77b12b_0  \n",
      "grpc-cpp                  1.48.2               hfe90ff0_1  \n",
      "h5py                      3.9.0           py311h4e0e482_0  \n",
      "hdf5                      1.12.1               h51c971a_3  \n",
      "heapdict                  1.0.1              pyhd3eb1b0_0  \n",
      "holoviews                 1.17.1          py311haa95532_0  \n",
      "huggingface_hub           0.15.1          py311haa95532_0  \n",
      "hvplot                    0.8.4           py311haa95532_0  \n",
      "hyperlink                 21.0.0             pyhd3eb1b0_0  \n",
      "icc_rt                    2022.1.0             h6049295_2  \n",
      "icu                       58.2                 ha925a31_3  \n",
      "idna                      3.4             py311haa95532_0  \n",
      "imagecodecs               2023.1.23       py311he6ff3c7_0  \n",
      "imageio                   2.26.0          py311haa95532_0  \n",
      "imagesize                 1.4.1           py311haa95532_0  \n",
      "imbalanced-learn          0.10.1          py311haa95532_1  \n",
      "importlib-metadata        6.0.0           py311haa95532_0  \n",
      "importlib_metadata        6.0.0                hd3eb1b0_0  \n",
      "incremental               21.3.0             pyhd3eb1b0_0  \n",
      "inflection                0.5.1           py311haa95532_0  \n",
      "iniconfig                 1.1.1              pyhd3eb1b0_0  \n",
      "intake                    0.6.8           py311haa95532_0  \n",
      "intel-openmp              2023.1.0         h59b6b97_46319  \n",
      "intervaltree              3.1.0              pyhd3eb1b0_0  \n",
      "ipykernel                 6.25.0          py311h746a85d_0  \n",
      "ipython                   8.15.0          py311haa95532_0  \n",
      "ipython_genutils          0.2.0              pyhd3eb1b0_1  \n",
      "ipywidgets                8.0.4           py311haa95532_0  \n",
      "isort                     5.9.3              pyhd3eb1b0_0  \n",
      "itemadapter               0.3.0              pyhd3eb1b0_0  \n",
      "itemloaders               1.0.4              pyhd3eb1b0_1  \n",
      "itsdangerous              2.0.1              pyhd3eb1b0_0  \n",
      "jaraco.classes            3.2.1              pyhd3eb1b0_0  \n",
      "jedi                      0.18.1          py311haa95532_1  \n",
      "jellyfish                 1.0.1           py311h36a85e1_0  \n",
      "jinja2                    3.1.2           py311haa95532_0  \n",
      "jinja2-time               0.2.0              pyhd3eb1b0_3  \n",
      "jmespath                  0.10.0             pyhd3eb1b0_0  \n",
      "joblib                    1.2.0           py311haa95532_0  \n",
      "jpeg                      9e                   h2bbff1b_1  \n",
      "jq                        1.6                  haa95532_1  \n",
      "json5                     0.9.6              pyhd3eb1b0_0  \n",
      "jsonpatch                 1.32               pyhd3eb1b0_0  \n",
      "jsonpointer               2.1                pyhd3eb1b0_0  \n",
      "jsonschema                4.17.3          py311haa95532_0  \n",
      "jupyter                   1.0.0           py311haa95532_8  \n",
      "jupyter-contrib-core      0.4.2                    pypi_0    pypi\n",
      "jupyter-contrib-nbextensions 0.7.0                    pypi_0    pypi\n",
      "jupyter-highlight-selected-word 0.2.0                    pypi_0    pypi\n",
      "jupyter-nbextensions-configurator 0.6.3                    pypi_0    pypi\n",
      "jupyter_client            7.4.9           py311haa95532_0  \n",
      "jupyter_console           6.6.3           py311haa95532_0  \n",
      "jupyter_core              5.3.0           py311haa95532_0  \n",
      "jupyter_events            0.6.3           py311haa95532_0  \n",
      "jupyter_server            1.23.4          py311haa95532_0  \n",
      "jupyter_server_fileid     0.9.0           py311haa95532_0  \n",
      "jupyter_server_ydoc       0.8.0           py311haa95532_1  \n",
      "jupyter_ydoc              0.2.4           py311haa95532_0  \n",
      "jupyterlab                3.6.3           py311haa95532_0  \n",
      "jupyterlab_pygments       0.1.2                      py_0  \n",
      "jupyterlab_server         2.22.0          py311haa95532_0  \n",
      "jupyterlab_widgets        3.0.5           py311haa95532_0  \n",
      "kaleido-core              0.2.1                h2bbff1b_0  \n",
      "keyring                   23.13.1         py311haa95532_0  \n",
      "kiwisolver                1.4.4           py311hd77b12b_0  \n",
      "krb5                      1.20.1               h5b6d351_0  \n",
      "lazy-object-proxy         1.6.0           py311h2bbff1b_0  \n",
      "lazy_loader               0.2             py311haa95532_0  \n",
      "lcms2                     2.12                 h83e58a3_0  \n",
      "lerc                      3.0                  hd77b12b_0  \n",
      "libaec                    1.0.4                h33f27b4_1  \n",
      "libarchive                3.6.2                hb62f4d4_2  \n",
      "libavif                   0.11.1               h2bbff1b_0  \n",
      "libboost                  1.82.0               hae598e9_1  \n",
      "libbrotlicommon           1.0.9                h2bbff1b_7  \n",
      "libbrotlidec              1.0.9                h2bbff1b_7  \n",
      "libbrotlienc              1.0.9                h2bbff1b_7  \n",
      "libclang                  14.0.6          default_hb5a9fac_1  \n",
      "libclang13                14.0.6          default_h8e68704_1  \n",
      "libcurl                   8.1.1                h86230a5_0  \n",
      "libdeflate                1.17                 h2bbff1b_0  \n",
      "libevent                  2.1.12               h56d1f94_1  \n",
      "libffi                    3.4.4                hd77b12b_0  \n",
      "libiconv                  1.16                 h2bbff1b_2  \n",
      "liblief                   0.12.3               hd77b12b_0  \n",
      "libmamba                  1.5.1                hcd6fe79_0  \n",
      "libmambapy                1.5.1           py311h77c03ed_0  \n",
      "libpng                    1.6.39               h8cc25b3_0  \n",
      "libpq                     12.15                h906ac69_1  \n",
      "libprotobuf               3.20.3               h23ce68f_0  \n",
      "libsodium                 1.0.18               h62dcd97_0  \n",
      "libsolv                   0.7.24               h23ce68f_0  \n",
      "libspatialindex           1.9.3                h6c2663c_0  \n",
      "libssh2                   1.10.0               he2ea4bf_2  \n",
      "libthrift                 0.15.0               h4364b78_2  \n",
      "libtiff                   4.5.1                hd77b12b_0  \n",
      "libwebp                   1.3.2                hbc33d0d_0  \n",
      "libwebp-base              1.3.2                h2bbff1b_0  \n",
      "libxml2                   2.10.4               h0ad7f3c_1  \n",
      "libxslt                   1.1.37               h2bbff1b_1  \n",
      "libzopfli                 1.0.3                ha925a31_0  \n",
      "linkify-it-py             2.0.0           py311haa95532_0  \n",
      "llvmlite                  0.40.0          py311hf2fb9eb_0  \n",
      "locket                    1.0.0           py311haa95532_0  \n",
      "lxml                      4.9.3           py311h09808a7_0  \n",
      "lz4                       4.3.2           py311h2bbff1b_0  \n",
      "lz4-c                     1.9.4                h2bbff1b_0  \n",
      "lzo                       2.10                 he774522_2  \n",
      "m2-msys2-runtime          2.5.0.17080.65c939c               3  \n",
      "m2-patch                  2.7.5                         2  \n",
      "m2w64-libwinpthread-git   5.0.0.4634.697f757               2  \n",
      "markdown                  3.4.1           py311haa95532_0  \n",
      "markdown-it-py            2.2.0           py311haa95532_1  \n",
      "markupsafe                2.1.1           py311h2bbff1b_0  \n",
      "mathjax                   2.7.5                haa95532_0  \n",
      "matplotlib                3.7.2           py311haa95532_0  \n",
      "matplotlib-base           3.7.2           py311hf62ec03_0  \n",
      "matplotlib-inline         0.1.6           py311haa95532_0  \n",
      "mccabe                    0.7.0              pyhd3eb1b0_0  \n",
      "mdit-py-plugins           0.3.0           py311haa95532_0  \n",
      "mdurl                     0.1.0           py311haa95532_0  \n",
      "menuinst                  1.4.19          py311h59b6b97_1  \n",
      "mistune                   0.8.4           py311h2bbff1b_1000  \n",
      "mkl                       2023.1.0         h6b88ed4_46357  \n",
      "mkl-service               2.4.0           py311h2bbff1b_1  \n",
      "mkl_fft                   1.3.8           py311h2bbff1b_0  \n",
      "mkl_random                1.2.4           py311h59b6b97_0  \n",
      "more-itertools            8.12.0             pyhd3eb1b0_0  \n",
      "mpmath                    1.3.0           py311haa95532_0  \n",
      "msgpack-python            1.0.3           py311h59b6b97_0  \n",
      "msys2-conda-epoch         20160418                      1  \n",
      "multidict                 6.0.2           py311h2bbff1b_0  \n",
      "multipledispatch          0.6.0           py311haa95532_0  \n",
      "multiprocess              0.70.14         py311haa95532_0  \n",
      "munkres                   1.1.4                      py_0  \n",
      "mypy_extensions           1.0.0           py311haa95532_0  \n",
      "navigator-updater         0.4.0           py311haa95532_1  \n",
      "nbclassic                 0.5.5           py311haa95532_0  \n",
      "nbclient                  0.5.13          py311haa95532_0  \n",
      "nbconvert                 6.5.4           py311haa95532_0  \n",
      "nbformat                  5.9.2           py311haa95532_0  \n",
      "nest-asyncio              1.5.6           py311haa95532_0  \n",
      "networkx                  3.1             py311haa95532_0  \n",
      "nltk                      3.8.1           py311haa95532_0  \n",
      "notebook                  6.5.4           py311haa95532_1  \n",
      "notebook-shim             0.2.2           py311haa95532_0  \n",
      "numba                     0.57.1          py311hf62ec03_0  \n",
      "numexpr                   2.8.4           py311h1fcbade_1  \n",
      "numpy                     1.24.3          py311hdab7c0b_1  \n",
      "numpy-base                1.24.3          py311hd01c5d8_1  \n",
      "numpydoc                  1.5.0           py311haa95532_0  \n",
      "openjpeg                  2.4.0                h4fc8c34_0  \n",
      "openpyxl                  3.0.10          py311h2bbff1b_0  \n",
      "openssl                   3.0.10               h2bbff1b_2  \n",
      "orc                       1.7.4                h623e30f_1  \n",
      "packaging                 23.1            py311haa95532_0  \n",
      "pandas                    2.0.3           py311hf62ec03_0  \n",
      "pandocfilters             1.5.0              pyhd3eb1b0_0  \n",
      "panel                     1.2.3           py311haa95532_0  \n",
      "param                     1.13.0          py311haa95532_0  \n",
      "paramiko                  2.8.1              pyhd3eb1b0_0  \n",
      "parsel                    1.6.0           py311haa95532_0  \n",
      "parso                     0.8.3              pyhd3eb1b0_0  \n",
      "partd                     1.4.0           py311haa95532_0  \n",
      "pathlib                   1.0.1              pyhd3eb1b0_1  \n",
      "pathspec                  0.10.3          py311haa95532_0  \n",
      "patsy                     0.5.3           py311haa95532_0  \n",
      "pcre                      8.45                 hd77b12b_0  \n",
      "pcre2                     10.42                h0ff8eda_0  \n",
      "pep8                      1.7.1           py311haa95532_1  \n",
      "pexpect                   4.8.0              pyhd3eb1b0_3  \n",
      "pickleshare               0.7.5           pyhd3eb1b0_1003  \n",
      "pillow                    9.4.0           py311hd77b12b_1  \n",
      "pip                       23.2.1          py311haa95532_0  \n",
      "pkce                      1.0.3           py311haa95532_0  \n",
      "pkginfo                   1.9.6           py311haa95532_0  \n",
      "platformdirs              3.10.0          py311haa95532_0  \n",
      "plotly                    5.9.0           py311haa95532_0  \n",
      "pluggy                    1.0.0           py311haa95532_1  \n",
      "ply                       3.11            py311haa95532_0  \n",
      "powershell_shortcut       0.0.1                         3  \n",
      "poyo                      0.5.0              pyhd3eb1b0_0  \n",
      "prometheus_client         0.14.1          py311haa95532_0  \n",
      "prompt-toolkit            3.0.36          py311haa95532_0  \n",
      "prompt_toolkit            3.0.36               hd3eb1b0_0  \n",
      "protego                   0.1.16                     py_0  \n",
      "psutil                    5.9.0           py311h2bbff1b_0  \n",
      "ptyprocess                0.7.0              pyhd3eb1b0_2  \n",
      "pure_eval                 0.2.2              pyhd3eb1b0_0  \n",
      "py-cpuinfo                8.0.0              pyhd3eb1b0_1  \n",
      "py-lief                   0.12.3          py311hd77b12b_0  \n",
      "pyarrow                   11.0.0          py311h8a3a540_1  \n",
      "pyasn1                    0.4.8              pyhd3eb1b0_0  \n",
      "pyasn1-modules            0.2.8                      py_0  \n",
      "pybind11-abi              4                    hd3eb1b0_1  \n",
      "pycodestyle               2.10.0          py311haa95532_0  \n",
      "pycosat                   0.6.4           py311h2bbff1b_0  \n",
      "pycparser                 2.21               pyhd3eb1b0_0  \n",
      "pyct                      0.5.0           py311haa95532_0  \n",
      "pycurl                    7.45.2          py311he2ea4bf_1  \n",
      "pydantic                  1.10.8          py311h2bbff1b_0  \n",
      "pydispatcher              2.0.5           py311haa95532_2  \n",
      "pydocstyle                6.3.0           py311haa95532_0  \n",
      "pyerfa                    2.0.0           py311h2bbff1b_0  \n",
      "pyflakes                  3.0.1           py311haa95532_0  \n",
      "pygments                  2.15.1          py311haa95532_1  \n",
      "pyjwt                     2.4.0           py311haa95532_0  \n",
      "pylint                    2.16.2          py311haa95532_0  \n",
      "pylint-venv               2.3.0           py311haa95532_0  \n",
      "pyls-spyder               0.4.0              pyhd3eb1b0_0  \n",
      "pynacl                    1.5.0           py311h8cc25b3_0  \n",
      "pyodbc                    4.0.34          py311hd77b12b_0  \n",
      "pyopenssl                 23.2.0          py311haa95532_0  \n",
      "pyparsing                 3.0.9           py311haa95532_0  \n",
      "pyqt                      5.15.7          py311hd77b12b_0  \n",
      "pyqt5-sip                 12.11.0         py311hd77b12b_0  \n",
      "pyqtwebengine             5.15.7          py311hd77b12b_0  \n",
      "pyrsistent                0.18.0          py311h2bbff1b_0  \n",
      "pysocks                   1.7.1           py311haa95532_0  \n",
      "pytables                  3.8.0           py311h4671533_3  \n",
      "pytest                    7.4.0           py311haa95532_0  \n",
      "python                    3.11.5               he1021f5_0  \n",
      "python-dateutil           2.8.2              pyhd3eb1b0_0  \n",
      "python-dotenv             0.21.0          py311haa95532_0  \n",
      "python-fastjsonschema     2.16.2          py311haa95532_0  \n",
      "python-json-logger        2.0.7           py311haa95532_0  \n",
      "python-kaleido            0.2.1           py311haa95532_0  \n",
      "python-libarchive-c       2.9                pyhd3eb1b0_1  \n",
      "python-lmdb               1.4.1           py311hd77b12b_0  \n",
      "python-lsp-black          1.2.1           py311haa95532_0  \n",
      "python-lsp-jsonrpc        1.0.0              pyhd3eb1b0_0  \n",
      "python-lsp-server         1.7.2           py311haa95532_0  \n",
      "python-slugify            5.0.2              pyhd3eb1b0_0  \n",
      "python-snappy             0.6.1           py311hd77b12b_0  \n",
      "python-tzdata             2023.3             pyhd3eb1b0_0  \n",
      "python-xxhash             2.0.2           py311h2bbff1b_1  \n",
      "pytoolconfig              1.2.5           py311haa95532_1  \n",
      "pytz                      2023.3.post1    py311haa95532_0  \n",
      "pyviz_comms               2.3.0           py311haa95532_0  \n",
      "pywavelets                1.4.1           py311h2bbff1b_0  \n",
      "pywin32                   305             py311h2bbff1b_0  \n",
      "pywin32-ctypes            0.2.0           py311haa95532_1000  \n",
      "pywinpty                  2.0.10          py311h5da7b33_0  \n",
      "pyyaml                    6.0             py311h2bbff1b_1  \n",
      "pyzmq                     23.2.0          py311hd77b12b_0  \n",
      "qdarkstyle                3.0.2              pyhd3eb1b0_0  \n",
      "qstylizer                 0.2.2           py311haa95532_0  \n",
      "qt-main                   5.15.2               h879a1e9_9  \n",
      "qt-webengine              5.15.9               h5bd16bc_7  \n",
      "qtawesome                 1.2.2           py311haa95532_0  \n",
      "qtconsole                 5.4.2           py311haa95532_0  \n",
      "qtpy                      2.2.0           py311haa95532_0  \n",
      "qtwebkit                  5.212                h2bbfb41_5  \n",
      "queuelib                  1.5.0           py311haa95532_0  \n",
      "re2                       2022.04.01           hd77b12b_0  \n",
      "regex                     2022.7.9        py311h2bbff1b_0  \n",
      "reproc                    14.2.4               hd77b12b_1  \n",
      "reproc-cpp                14.2.4               hd77b12b_1  \n",
      "requests                  2.31.0          py311haa95532_0  \n",
      "requests-file             1.5.1              pyhd3eb1b0_0  \n",
      "requests-toolbelt         1.0.0           py311haa95532_0  \n",
      "responses                 0.13.3             pyhd3eb1b0_0  \n",
      "rfc3339-validator         0.1.4           py311haa95532_0  \n",
      "rfc3986-validator         0.1.1           py311haa95532_0  \n",
      "rope                      1.7.0           py311haa95532_0  \n",
      "rtree                     1.0.1           py311h2eaa2aa_0  \n",
      "ruamel.yaml               0.17.21         py311h2bbff1b_0  \n",
      "ruamel_yaml               0.17.21         py311h2bbff1b_0  \n",
      "s3fs                      2023.4.0        py311haa95532_0  \n",
      "safetensors               0.3.2           py311h062c2fa_0  \n",
      "scikit-image              0.20.0          py311h3513d60_0  \n",
      "scikit-learn              1.3.0           py311hf62ec03_0  \n",
      "scikit-learn-intelex      2023.1.1        py311haa95532_0  \n",
      "scipy                     1.11.1          py311hc1ccb85_0  \n",
      "scrapy                    2.8.0           py311haa95532_0  \n",
      "seaborn                   0.12.2          py311haa95532_0  \n",
      "send2trash                1.8.0              pyhd3eb1b0_1  \n",
      "service_identity          18.1.0             pyhd3eb1b0_1  \n",
      "setuptools                68.0.0          py311haa95532_0  \n",
      "sip                       6.6.2           py311hd77b12b_0  \n",
      "six                       1.16.0             pyhd3eb1b0_1  \n",
      "smart_open                5.2.1           py311haa95532_0  \n",
      "snappy                    1.1.9                h6c2663c_0  \n",
      "sniffio                   1.2.0           py311haa95532_1  \n",
      "snowballstemmer           2.2.0              pyhd3eb1b0_0  \n",
      "sortedcontainers          2.4.0              pyhd3eb1b0_0  \n",
      "soupsieve                 2.4             py311haa95532_0  \n",
      "sphinx                    5.0.2           py311haa95532_0  \n",
      "sphinxcontrib-applehelp   1.0.2              pyhd3eb1b0_0  \n",
      "sphinxcontrib-devhelp     1.0.2              pyhd3eb1b0_0  \n",
      "sphinxcontrib-htmlhelp    2.0.0              pyhd3eb1b0_0  \n",
      "sphinxcontrib-jsmath      1.0.1              pyhd3eb1b0_0  \n",
      "sphinxcontrib-qthelp      1.0.3              pyhd3eb1b0_0  \n",
      "sphinxcontrib-serializinghtml 1.1.5              pyhd3eb1b0_0  \n",
      "spyder                    5.4.3           py311haa95532_1  \n",
      "spyder-kernels            2.4.4           py311haa95532_0  \n",
      "sqlalchemy                1.4.39          py311h2bbff1b_0  \n",
      "sqlite                    3.41.2               h2bbff1b_0  \n",
      "stack_data                0.2.0              pyhd3eb1b0_0  \n",
      "statsmodels               0.14.0          py311hd7041d2_0  \n",
      "sympy                     1.11.1          py311haa95532_0  \n",
      "tabulate                  0.8.10          py311haa95532_0  \n",
      "tbb                       2021.8.0             h59b6b97_0  \n",
      "tbb4py                    2021.8.0        py311h59b6b97_0  \n",
      "tblib                     1.7.0              pyhd3eb1b0_0  \n",
      "tenacity                  8.2.2           py311haa95532_0  \n",
      "terminado                 0.17.1          py311haa95532_0  \n",
      "text-unidecode            1.3                pyhd3eb1b0_0  \n",
      "textdistance              4.2.1              pyhd3eb1b0_0  \n",
      "threadpoolctl             2.2.0              pyh0d69192_0  \n",
      "three-merge               0.1.1              pyhd3eb1b0_0  \n",
      "tifffile                  2023.4.12       py311haa95532_0  \n",
      "tinycss2                  1.2.1           py311haa95532_0  \n",
      "tk                        8.6.12               h2bbff1b_0  \n",
      "tldextract                3.2.0              pyhd3eb1b0_0  \n",
      "tokenizers                0.13.2          py311h49fca51_1  \n",
      "toml                      0.10.2             pyhd3eb1b0_0  \n",
      "tomlkit                   0.11.1          py311haa95532_0  \n",
      "toolz                     0.12.0          py311haa95532_0  \n",
      "tornado                   6.3.2           py311h2bbff1b_0  \n",
      "tqdm                      4.65.0          py311h746a85d_0  \n",
      "traitlets                 5.7.1           py311haa95532_0  \n",
      "transformers              4.32.1          py311haa95532_0  \n",
      "twisted                   22.10.0         py311h2bbff1b_0  \n",
      "twisted-iocpsupport       1.0.2           py311h2bbff1b_0  \n",
      "typing-extensions         4.7.1           py311haa95532_0  \n",
      "typing_extensions         4.7.1           py311haa95532_0  \n",
      "tzdata                    2023c                h04d1e81_0  \n",
      "uc-micro-py               1.0.1           py311haa95532_0  \n",
      "ujson                     5.4.0           py311hd77b12b_0  \n",
      "unidecode                 1.2.0              pyhd3eb1b0_0  \n",
      "urllib3                   1.26.16         py311haa95532_0  \n",
      "utf8proc                  2.6.1                h2bbff1b_0  \n",
      "vc                        14.2                 h21ff451_1  \n",
      "vs2015_runtime            14.27.29016          h5e58377_2  \n",
      "w3lib                     1.21.0             pyhd3eb1b0_0  \n",
      "watchdog                  2.1.6           py311haa95532_0  \n",
      "wcwidth                   0.2.5              pyhd3eb1b0_0  \n",
      "webencodings              0.5.1           py311haa95532_1  \n",
      "websocket-client          0.58.0          py311haa95532_4  \n",
      "werkzeug                  2.2.3           py311haa95532_0  \n",
      "whatthepatch              1.0.2           py311haa95532_0  \n",
      "wheel                     0.38.4          py311haa95532_0  \n",
      "widgetsnbextension        4.0.5           py311haa95532_0  \n",
      "win_inet_pton             1.1.0           py311haa95532_0  \n",
      "winpty                    0.4.3                         4  \n",
      "wrapt                     1.14.1          py311h2bbff1b_0  \n",
      "xarray                    2023.6.0        py311haa95532_0  \n",
      "xlwings                   0.29.1          py311haa95532_0  \n",
      "xxhash                    0.8.0                h2bbff1b_3  \n",
      "xyzservices               2022.9.0        py311haa95532_1  \n",
      "xz                        5.4.2                h8cc25b3_0  \n",
      "y-py                      0.5.9           py311hb6bf4ef_0  \n",
      "yaml                      0.2.5                he774522_0  \n",
      "yaml-cpp                  0.7.0                hd77b12b_1  \n",
      "yapf                      0.31.0             pyhd3eb1b0_0  \n",
      "yarl                      1.8.1           py311h2bbff1b_0  \n",
      "ypy-websocket             0.8.2           py311haa95532_0  \n",
      "zeromq                    4.3.4                hd77b12b_0  \n",
      "zfp                       1.0.0                hd77b12b_0  \n",
      "zict                      2.2.0           py311haa95532_0  \n",
      "zipp                      3.11.0          py311haa95532_0  \n",
      "zlib                      1.2.13               h8cc25b3_0  \n",
      "zlib-ng                   2.0.7                h2bbff1b_0  \n",
      "zope                      1.0             py311haa95532_1  \n",
      "zope.interface            5.4.0           py311h2bbff1b_0  \n",
      "zstandard                 0.19.0          py311h2bbff1b_0  \n",
      "zstd                      1.5.5                hd43e919_0  \n",
      "\n",
      "Note: you may need to restart the kernel to use updated packages.\n"
     ]
    }
   ],
   "source": [
    "conda list"
   ]
  },
  {
   "cell_type": "markdown",
   "id": "6ba72add",
   "metadata": {},
   "source": [
    "### faker\n",
    "*  테스트용 가짜 데이터를 생성할 때 사용하는 라이브러리"
   ]
  },
  {
   "cell_type": "code",
   "execution_count": 13,
   "id": "b508b404",
   "metadata": {
    "ExecuteTime": {
     "end_time": "2023-12-06T05:31:19.597000Z",
     "start_time": "2023-12-06T05:31:03.382366Z"
    }
   },
   "outputs": [
    {
     "name": "stdout",
     "output_type": "stream",
     "text": [
      "Collecting Faker\n",
      "  Obtaining dependency information for Faker from https://files.pythonhosted.org/packages/cc/9a/74db0cf3115df2f71edcaf8d86ed556195ac31575212c20425820f81bfd0/Faker-20.1.0-py3-none-any.whl.metadata\n",
      "  Downloading Faker-20.1.0-py3-none-any.whl.metadata (15 kB)\n",
      "Requirement already satisfied: python-dateutil>=2.4 in c:\\users\\limfl\\anaconda3\\lib\\site-packages (from Faker) (2.8.2)\n",
      "Requirement already satisfied: six>=1.5 in c:\\users\\limfl\\anaconda3\\lib\\site-packages (from python-dateutil>=2.4->Faker) (1.16.0)\n",
      "Downloading Faker-20.1.0-py3-none-any.whl (1.7 MB)\n",
      "   ---------------------------------------- 0.0/1.7 MB ? eta -:--:--\n",
      "    --------------------------------------- 0.0/1.7 MB 660.6 kB/s eta 0:00:03\n",
      "   ------ --------------------------------- 0.3/1.7 MB 3.4 MB/s eta 0:00:01\n",
      "   ---------------------------------------  1.7/1.7 MB 13.8 MB/s eta 0:00:01\n",
      "   ---------------------------------------- 1.7/1.7 MB 13.8 MB/s eta 0:00:00\n",
      "Installing collected packages: Faker\n",
      "Successfully installed Faker-20.1.0\n",
      "Note: you may need to restart the kernel to use updated packages.\n"
     ]
    }
   ],
   "source": [
    "pip install Faker"
   ]
  },
  {
   "cell_type": "code",
   "execution_count": 14,
   "id": "f57d7f3c",
   "metadata": {
    "ExecuteTime": {
     "end_time": "2023-12-06T05:32:00.300068Z",
     "start_time": "2023-12-06T05:31:59.877361Z"
    }
   },
   "outputs": [
    {
     "data": {
      "text/plain": [
       "'Crystal Schwartz'"
      ]
     },
     "execution_count": 14,
     "metadata": {},
     "output_type": "execute_result"
    }
   ],
   "source": [
    "from faker import Faker\n",
    "fake = Faker()\n",
    "fake.name()"
   ]
  },
  {
   "cell_type": "code",
   "execution_count": 15,
   "id": "84164e46",
   "metadata": {
    "ExecuteTime": {
     "end_time": "2023-12-06T05:32:16.762093Z",
     "start_time": "2023-12-06T05:32:16.641174Z"
    }
   },
   "outputs": [
    {
     "data": {
      "text/plain": [
       "'송지원'"
      ]
     },
     "execution_count": 15,
     "metadata": {},
     "output_type": "execute_result"
    }
   ],
   "source": [
    "fake = Faker('ko-KR')\n",
    "fake.name()"
   ]
  },
  {
   "cell_type": "code",
   "execution_count": 16,
   "id": "0a920b50",
   "metadata": {
    "ExecuteTime": {
     "end_time": "2023-12-06T05:33:19.949642Z",
     "start_time": "2023-12-06T05:33:19.943711Z"
    }
   },
   "outputs": [
    {
     "data": {
      "text/plain": [
       "'경상북도 천안시 서북구 역삼길 (지원김리)'"
      ]
     },
     "execution_count": 16,
     "metadata": {},
     "output_type": "execute_result"
    }
   ],
   "source": [
    "fake.address()"
   ]
  },
  {
   "cell_type": "code",
   "execution_count": 18,
   "id": "2ca1b759",
   "metadata": {
    "ExecuteTime": {
     "end_time": "2023-12-06T05:33:51.759961Z",
     "start_time": "2023-12-06T05:33:51.749403Z"
    }
   },
   "outputs": [
    {
     "data": {
      "text/plain": [
       "[('김우진', '전라남도 안산시 단원구 논현거리 (서영최장마을)'),\n",
       " ('이정훈', '울산광역시 구로구 학동053가'),\n",
       " ('문선영', '세종특별자치시 서구 백제고분202가'),\n",
       " ('이병철', '서울특별시 마포구 학동73거리'),\n",
       " ('최예은', '대구광역시 도봉구 삼성가 (서준고김리)'),\n",
       " ('김영철', '울산광역시 북구 개포거리 (상호주김면)'),\n",
       " ('박성현', '강원도 시흥시 학동86가'),\n",
       " ('김현우', '충청남도 보령시 역삼길 (현숙장마을)'),\n",
       " ('고영길', '광주광역시 성동구 백제고분로'),\n",
       " ('백현지', '인천광역시 강남구 백제고분거리 (재현김김리)'),\n",
       " ('김성민', '강원도 태안군 봉은사8길 (영자최리)'),\n",
       " ('김건우', '경기도 평택시 강남대17로 (예준윤김읍)'),\n",
       " ('김지현', '충청북도 영동군 가락2로 (춘자김송마을)'),\n",
       " ('이현숙', '부산광역시 용산구 선릉15거리'),\n",
       " ('최준혁', '광주광역시 서구 양재천39가'),\n",
       " ('윤중수', '전라남도 수원시 장안구 가락52로'),\n",
       " ('김순옥', '울산광역시 서구 역삼길 (수빈박동)'),\n",
       " ('김병철', '강원도 성남시 수정구 영동대로 (경수김이마을)'),\n",
       " ('김영호', '부산광역시 광진구 서초대5길'),\n",
       " ('허민석', '경상북도 오산시 압구정로 (윤서김박읍)'),\n",
       " ('박영순', '인천광역시 은평구 반포대7로 (하은최마을)'),\n",
       " ('류민지', '서울특별시 종로구 오금36길'),\n",
       " ('김정남', '전라남도 여주시 압구정070로 (영철김면)'),\n",
       " ('이영수', '경상북도 정선군 봉은사0가 (도윤이김동)'),\n",
       " ('김준서', '광주광역시 성북구 봉은사거리 (동현차동)'),\n",
       " ('김현주', '서울특별시 성북구 가락601거리 (은서박리)'),\n",
       " ('심정숙', '강원도 태안군 테헤란622로'),\n",
       " ('김지연', '경상남도 영월군 개포거리'),\n",
       " ('나민서', '제주특별자치도 양양군 서초중앙610가'),\n",
       " ('김민지', '대전광역시 영등포구 테헤란거리 (명숙김이면)')]"
      ]
     },
     "execution_count": 18,
     "metadata": {},
     "output_type": "execute_result"
    }
   ],
   "source": [
    "test_data = [(fake.name(), fake.address()) for i in range(30)]\n",
    "\n",
    "test_data"
   ]
  },
  {
   "cell_type": "code",
   "execution_count": null,
   "id": "d8041c7e",
   "metadata": {},
   "outputs": [],
   "source": []
  }
 ],
 "metadata": {
  "kernelspec": {
   "display_name": "Python 3 (ipykernel)",
   "language": "python",
   "name": "python3"
  },
  "language_info": {
   "codemirror_mode": {
    "name": "ipython",
    "version": 3
   },
   "file_extension": ".py",
   "mimetype": "text/x-python",
   "name": "python",
   "nbconvert_exporter": "python",
   "pygments_lexer": "ipython3",
   "version": "3.11.5"
  },
  "toc": {
   "base_numbering": 1,
   "nav_menu": {},
   "number_sections": true,
   "sideBar": true,
   "skip_h1_title": false,
   "title_cell": "Table of Contents",
   "title_sidebar": "Contents",
   "toc_cell": false,
   "toc_position": {},
   "toc_section_display": true,
   "toc_window_display": false
  }
 },
 "nbformat": 4,
 "nbformat_minor": 5
}
